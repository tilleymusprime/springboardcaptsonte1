{
 "cells": [
  {
   "cell_type": "code",
   "execution_count": 91,
   "metadata": {},
   "outputs": [],
   "source": [
    "import pandas as pd\n",
    "import matplotlib.pyplot as plt\n",
    "import numpy as np"
   ]
  },
  {
   "cell_type": "code",
   "execution_count": null,
   "metadata": {},
   "outputs": [],
   "source": [
    "###Questions asked:\n",
    "### 1. Are left side linemen better than right side linemen?\n",
    "### 2. What attributes are most important for each position?\n",
    "### 3. What school produces the most players?\n",
    "### 4. What school produces the most players for each position?\n",
    "### 5. What attributes have the highest correlations with overall rating?\n",
    "### 6. Which positions are stronger or faster than others?\n"
   ]
  },
  {
   "cell_type": "code",
   "execution_count": 113,
   "metadata": {},
   "outputs": [],
   "source": [
    "m18 = pd.read_csv('C:\\\\Users\\\\tilleymusprime\\\\Desktop\\\\Madden18PlayerRatings.csv')\n",
    "m18['Name'] = m18['First Name'] + ' ' + m18['Last Name']\n",
    "m18a = m18[['Name', 'College']]\n",
    "mcclean = pd.read_csv('C:\\\\Users\\\\tilleymusprime\\\\Desktop\\\\mcclean1.csv')"
   ]
  },
  {
   "cell_type": "code",
   "execution_count": 114,
   "metadata": {},
   "outputs": [],
   "source": [
    "mcfd = pd.merge(m18a,mcclean , how='outer', on='Name')"
   ]
  },
  {
   "cell_type": "code",
   "execution_count": 115,
   "metadata": {},
   "outputs": [],
   "source": [
    "mcfdcols = list(mcfd.columns.values)"
   ]
  },
  {
   "cell_type": "code",
   "execution_count": 116,
   "metadata": {
    "scrolled": true
   },
   "outputs": [
    {
     "name": "stdout",
     "output_type": "stream",
     "text": [
      "['Name', 'College', 'Unnamed: 0', 'Acceleration', 'Agility', 'Awareness', 'Ball Carrier Vision', 'Block Shedding', 'Carrying', 'Catch In Traffic', 'Catching', 'Elusiveness', 'Finesse Moves', 'Hit Power', 'Impact Blocking', 'Injury', 'Juke Move', 'Jumping', 'Man Coverage', 'Overall Rating', 'Pass Block', 'Play Action', 'Play Recognition', 'Position', 'Power Moves', 'Press', 'Pursuit', 'Release', 'Route Running', 'Run Block', 'Spectacular Catch', 'Speed', 'Spin Move', 'Stamina', 'Stiff Arm', 'Strength', 'Tackle', 'Team', 'Throw Accuracy Deep', 'Throw Accuracy Mid', 'Throw Accuracy Short', 'Throw Power', 'Throw on the Run', 'Toughness', 'Trucking', 'Zone Coverage', 'Wt', 'Vertical', 'Bench', 'Broad Jump', '3Cone', 'Shuttle', '40yd']\n"
     ]
    }
   ],
   "source": [
    "print(mcfdcols)"
   ]
  },
  {
   "cell_type": "code",
   "execution_count": 6,
   "metadata": {},
   "outputs": [],
   "source": [
    "## Overall Stats"
   ]
  },
  {
   "cell_type": "code",
   "execution_count": 117,
   "metadata": {},
   "outputs": [
    {
     "data": {
      "text/html": [
       "<div>\n",
       "<style scoped>\n",
       "    .dataframe tbody tr th:only-of-type {\n",
       "        vertical-align: middle;\n",
       "    }\n",
       "\n",
       "    .dataframe tbody tr th {\n",
       "        vertical-align: top;\n",
       "    }\n",
       "\n",
       "    .dataframe thead th {\n",
       "        text-align: right;\n",
       "    }\n",
       "</style>\n",
       "<table border=\"1\" class=\"dataframe\">\n",
       "  <thead>\n",
       "    <tr style=\"text-align: right;\">\n",
       "      <th></th>\n",
       "      <th>Unnamed: 0</th>\n",
       "      <th>Acceleration</th>\n",
       "      <th>Agility</th>\n",
       "      <th>Awareness</th>\n",
       "      <th>Ball Carrier Vision</th>\n",
       "      <th>Block Shedding</th>\n",
       "      <th>Carrying</th>\n",
       "      <th>Catch In Traffic</th>\n",
       "      <th>Catching</th>\n",
       "      <th>Elusiveness</th>\n",
       "      <th>...</th>\n",
       "      <th>Toughness</th>\n",
       "      <th>Trucking</th>\n",
       "      <th>Zone Coverage</th>\n",
       "      <th>Wt</th>\n",
       "      <th>Vertical</th>\n",
       "      <th>Bench</th>\n",
       "      <th>Broad Jump</th>\n",
       "      <th>3Cone</th>\n",
       "      <th>Shuttle</th>\n",
       "      <th>40yd</th>\n",
       "    </tr>\n",
       "  </thead>\n",
       "  <tbody>\n",
       "    <tr>\n",
       "      <th>count</th>\n",
       "      <td>3816.000000</td>\n",
       "      <td>3816.000000</td>\n",
       "      <td>3816.000000</td>\n",
       "      <td>3816.000000</td>\n",
       "      <td>3816.000000</td>\n",
       "      <td>3816.000000</td>\n",
       "      <td>3816.000000</td>\n",
       "      <td>3816.000000</td>\n",
       "      <td>3816.000000</td>\n",
       "      <td>3816.00000</td>\n",
       "      <td>...</td>\n",
       "      <td>3816.000000</td>\n",
       "      <td>3816.000000</td>\n",
       "      <td>3816.000000</td>\n",
       "      <td>3816.000000</td>\n",
       "      <td>3816.000000</td>\n",
       "      <td>3816.000000</td>\n",
       "      <td>3816.000000</td>\n",
       "      <td>3816.000000</td>\n",
       "      <td>3816.000000</td>\n",
       "      <td>3816.000000</td>\n",
       "    </tr>\n",
       "    <tr>\n",
       "      <th>mean</th>\n",
       "      <td>1951.541143</td>\n",
       "      <td>85.060535</td>\n",
       "      <td>77.447065</td>\n",
       "      <td>67.113732</td>\n",
       "      <td>48.892558</td>\n",
       "      <td>49.147799</td>\n",
       "      <td>57.518344</td>\n",
       "      <td>41.687631</td>\n",
       "      <td>55.505503</td>\n",
       "      <td>44.78957</td>\n",
       "      <td>...</td>\n",
       "      <td>80.126048</td>\n",
       "      <td>41.327306</td>\n",
       "      <td>40.137841</td>\n",
       "      <td>245.146379</td>\n",
       "      <td>32.751722</td>\n",
       "      <td>20.165241</td>\n",
       "      <td>115.481252</td>\n",
       "      <td>32.408930</td>\n",
       "      <td>4.378360</td>\n",
       "      <td>4.753919</td>\n",
       "    </tr>\n",
       "    <tr>\n",
       "      <th>std</th>\n",
       "      <td>1129.425975</td>\n",
       "      <td>6.201108</td>\n",
       "      <td>11.532975</td>\n",
       "      <td>13.533131</td>\n",
       "      <td>26.779954</td>\n",
       "      <td>20.726988</td>\n",
       "      <td>15.574879</td>\n",
       "      <td>25.118256</td>\n",
       "      <td>19.202705</td>\n",
       "      <td>24.83473</td>\n",
       "      <td>...</td>\n",
       "      <td>8.272305</td>\n",
       "      <td>19.708972</td>\n",
       "      <td>25.494170</td>\n",
       "      <td>43.671479</td>\n",
       "      <td>3.403994</td>\n",
       "      <td>5.230936</td>\n",
       "      <td>7.929434</td>\n",
       "      <td>46.829888</td>\n",
       "      <td>0.216683</td>\n",
       "      <td>0.268044</td>\n",
       "    </tr>\n",
       "    <tr>\n",
       "      <th>min</th>\n",
       "      <td>0.000000</td>\n",
       "      <td>55.000000</td>\n",
       "      <td>43.000000</td>\n",
       "      <td>35.000000</td>\n",
       "      <td>9.000000</td>\n",
       "      <td>6.000000</td>\n",
       "      <td>7.000000</td>\n",
       "      <td>5.000000</td>\n",
       "      <td>10.000000</td>\n",
       "      <td>6.00000</td>\n",
       "      <td>...</td>\n",
       "      <td>40.000000</td>\n",
       "      <td>10.000000</td>\n",
       "      <td>7.000000</td>\n",
       "      <td>156.000000</td>\n",
       "      <td>17.500000</td>\n",
       "      <td>3.000000</td>\n",
       "      <td>84.000000</td>\n",
       "      <td>6.470000</td>\n",
       "      <td>3.810000</td>\n",
       "      <td>4.220000</td>\n",
       "    </tr>\n",
       "    <tr>\n",
       "      <th>25%</th>\n",
       "      <td>966.750000</td>\n",
       "      <td>82.000000</td>\n",
       "      <td>69.000000</td>\n",
       "      <td>56.000000</td>\n",
       "      <td>23.000000</td>\n",
       "      <td>32.000000</td>\n",
       "      <td>44.000000</td>\n",
       "      <td>15.000000</td>\n",
       "      <td>39.000000</td>\n",
       "      <td>21.00000</td>\n",
       "      <td>...</td>\n",
       "      <td>75.000000</td>\n",
       "      <td>25.000000</td>\n",
       "      <td>18.000000</td>\n",
       "      <td>204.131148</td>\n",
       "      <td>30.500000</td>\n",
       "      <td>16.000000</td>\n",
       "      <td>111.000000</td>\n",
       "      <td>7.057500</td>\n",
       "      <td>4.207000</td>\n",
       "      <td>4.540000</td>\n",
       "    </tr>\n",
       "    <tr>\n",
       "      <th>50%</th>\n",
       "      <td>1951.500000</td>\n",
       "      <td>87.000000</td>\n",
       "      <td>81.000000</td>\n",
       "      <td>67.000000</td>\n",
       "      <td>53.000000</td>\n",
       "      <td>46.000000</td>\n",
       "      <td>60.000000</td>\n",
       "      <td>40.000000</td>\n",
       "      <td>59.000000</td>\n",
       "      <td>44.00000</td>\n",
       "      <td>...</td>\n",
       "      <td>80.000000</td>\n",
       "      <td>39.000000</td>\n",
       "      <td>26.500000</td>\n",
       "      <td>239.109890</td>\n",
       "      <td>33.589286</td>\n",
       "      <td>20.189189</td>\n",
       "      <td>117.941176</td>\n",
       "      <td>7.325000</td>\n",
       "      <td>4.320000</td>\n",
       "      <td>4.714167</td>\n",
       "    </tr>\n",
       "    <tr>\n",
       "      <th>75%</th>\n",
       "      <td>2931.250000</td>\n",
       "      <td>90.000000</td>\n",
       "      <td>87.000000</td>\n",
       "      <td>77.000000</td>\n",
       "      <td>74.000000</td>\n",
       "      <td>68.000000</td>\n",
       "      <td>69.000000</td>\n",
       "      <td>65.000000</td>\n",
       "      <td>72.000000</td>\n",
       "      <td>66.00000</td>\n",
       "      <td>...</td>\n",
       "      <td>86.000000</td>\n",
       "      <td>55.000000</td>\n",
       "      <td>69.000000</td>\n",
       "      <td>279.458333</td>\n",
       "      <td>35.255263</td>\n",
       "      <td>24.105263</td>\n",
       "      <td>121.612903</td>\n",
       "      <td>7.900000</td>\n",
       "      <td>4.484259</td>\n",
       "      <td>4.861286</td>\n",
       "    </tr>\n",
       "    <tr>\n",
       "      <th>max</th>\n",
       "      <td>3902.000000</td>\n",
       "      <td>98.000000</td>\n",
       "      <td>99.000000</td>\n",
       "      <td>99.000000</td>\n",
       "      <td>98.000000</td>\n",
       "      <td>96.000000</td>\n",
       "      <td>96.000000</td>\n",
       "      <td>98.000000</td>\n",
       "      <td>98.000000</td>\n",
       "      <td>98.00000</td>\n",
       "      <td>...</td>\n",
       "      <td>99.000000</td>\n",
       "      <td>97.000000</td>\n",
       "      <td>94.000000</td>\n",
       "      <td>369.000000</td>\n",
       "      <td>45.000000</td>\n",
       "      <td>44.000000</td>\n",
       "      <td>147.000000</td>\n",
       "      <td>121.612903</td>\n",
       "      <td>5.270000</td>\n",
       "      <td>5.640000</td>\n",
       "    </tr>\n",
       "  </tbody>\n",
       "</table>\n",
       "<p>8 rows × 49 columns</p>\n",
       "</div>"
      ],
      "text/plain": [
       "        Unnamed: 0  Acceleration      Agility    Awareness  \\\n",
       "count  3816.000000   3816.000000  3816.000000  3816.000000   \n",
       "mean   1951.541143     85.060535    77.447065    67.113732   \n",
       "std    1129.425975      6.201108    11.532975    13.533131   \n",
       "min       0.000000     55.000000    43.000000    35.000000   \n",
       "25%     966.750000     82.000000    69.000000    56.000000   \n",
       "50%    1951.500000     87.000000    81.000000    67.000000   \n",
       "75%    2931.250000     90.000000    87.000000    77.000000   \n",
       "max    3902.000000     98.000000    99.000000    99.000000   \n",
       "\n",
       "       Ball Carrier Vision  Block Shedding     Carrying  Catch In Traffic  \\\n",
       "count          3816.000000     3816.000000  3816.000000       3816.000000   \n",
       "mean             48.892558       49.147799    57.518344         41.687631   \n",
       "std              26.779954       20.726988    15.574879         25.118256   \n",
       "min               9.000000        6.000000     7.000000          5.000000   \n",
       "25%              23.000000       32.000000    44.000000         15.000000   \n",
       "50%              53.000000       46.000000    60.000000         40.000000   \n",
       "75%              74.000000       68.000000    69.000000         65.000000   \n",
       "max              98.000000       96.000000    96.000000         98.000000   \n",
       "\n",
       "          Catching  Elusiveness     ...         Toughness     Trucking  \\\n",
       "count  3816.000000   3816.00000     ...       3816.000000  3816.000000   \n",
       "mean     55.505503     44.78957     ...         80.126048    41.327306   \n",
       "std      19.202705     24.83473     ...          8.272305    19.708972   \n",
       "min      10.000000      6.00000     ...         40.000000    10.000000   \n",
       "25%      39.000000     21.00000     ...         75.000000    25.000000   \n",
       "50%      59.000000     44.00000     ...         80.000000    39.000000   \n",
       "75%      72.000000     66.00000     ...         86.000000    55.000000   \n",
       "max      98.000000     98.00000     ...         99.000000    97.000000   \n",
       "\n",
       "       Zone Coverage           Wt     Vertical        Bench   Broad Jump  \\\n",
       "count    3816.000000  3816.000000  3816.000000  3816.000000  3816.000000   \n",
       "mean       40.137841   245.146379    32.751722    20.165241   115.481252   \n",
       "std        25.494170    43.671479     3.403994     5.230936     7.929434   \n",
       "min         7.000000   156.000000    17.500000     3.000000    84.000000   \n",
       "25%        18.000000   204.131148    30.500000    16.000000   111.000000   \n",
       "50%        26.500000   239.109890    33.589286    20.189189   117.941176   \n",
       "75%        69.000000   279.458333    35.255263    24.105263   121.612903   \n",
       "max        94.000000   369.000000    45.000000    44.000000   147.000000   \n",
       "\n",
       "             3Cone      Shuttle         40yd  \n",
       "count  3816.000000  3816.000000  3816.000000  \n",
       "mean     32.408930     4.378360     4.753919  \n",
       "std      46.829888     0.216683     0.268044  \n",
       "min       6.470000     3.810000     4.220000  \n",
       "25%       7.057500     4.207000     4.540000  \n",
       "50%       7.325000     4.320000     4.714167  \n",
       "75%       7.900000     4.484259     4.861286  \n",
       "max     121.612903     5.270000     5.640000  \n",
       "\n",
       "[8 rows x 49 columns]"
      ]
     },
     "execution_count": 117,
     "metadata": {},
     "output_type": "execute_result"
    }
   ],
   "source": [
    "mcfd.describe()"
   ]
  },
  {
   "cell_type": "markdown",
   "metadata": {},
   "source": [
    "mcfdcombine = mcfd[[['Overall Rating_x','Ht', 'Wt', 'Vertical', 'Bench', 'Broad Jump', 'Shuttle', '40yd']]"
   ]
  },
  {
   "cell_type": "code",
   "execution_count": null,
   "metadata": {},
   "outputs": [],
   "source": []
  },
  {
   "cell_type": "code",
   "execution_count": null,
   "metadata": {},
   "outputs": [],
   "source": []
  },
  {
   "cell_type": "code",
   "execution_count": 8,
   "metadata": {},
   "outputs": [],
   "source": [
    "##Which Colleges produce the most NFL players?"
   ]
  },
  {
   "cell_type": "code",
   "execution_count": 118,
   "metadata": {},
   "outputs": [],
   "source": [
    "mcfdcount = mcfd.groupby('College').count()"
   ]
  },
  {
   "cell_type": "code",
   "execution_count": 119,
   "metadata": {},
   "outputs": [
    {
     "name": "stdout",
     "output_type": "stream",
     "text": [
      "              Name  Unnamed: 0  Acceleration  Agility  Awareness  \\\n",
      "College                                                            \n",
      "Abilene Chr.     2           2             2        2          2   \n",
      "Air Force        1           1             1        1          1   \n",
      "Akron            4           4             4        4          4   \n",
      "Alabama         48          48            48       48         48   \n",
      "Alabama AM       1           1             1        1          1   \n",
      "\n",
      "              Ball Carrier Vision  Block Shedding  Carrying  Catch In Traffic  \\\n",
      "College                                                                         \n",
      "Abilene Chr.                    2               2         2                 2   \n",
      "Air Force                       1               1         1                 1   \n",
      "Akron                           4               4         4                 4   \n",
      "Alabama                        48              48        48                48   \n",
      "Alabama AM                      1               1         1                 1   \n",
      "\n",
      "              Catching  ...   Toughness  Trucking  Zone Coverage  Wt  \\\n",
      "College                 ...                                            \n",
      "Abilene Chr.         2  ...           2         2              2   2   \n",
      "Air Force            1  ...           1         1              1   1   \n",
      "Akron                4  ...           4         4              4   4   \n",
      "Alabama             48  ...          48        48             48  48   \n",
      "Alabama AM           1  ...           1         1              1   1   \n",
      "\n",
      "              Vertical  Bench  Broad Jump  3Cone  Shuttle  40yd  \n",
      "College                                                          \n",
      "Abilene Chr.         2      2           2      2        2     2  \n",
      "Air Force            1      1           1      1        1     1  \n",
      "Akron                4      4           4      4        4     4  \n",
      "Alabama             48     48          48     48       48    48  \n",
      "Alabama AM           1      1           1      1        1     1  \n",
      "\n",
      "[5 rows x 52 columns]\n"
     ]
    }
   ],
   "source": [
    "print(mcfdcount.head())"
   ]
  },
  {
   "cell_type": "code",
   "execution_count": null,
   "metadata": {},
   "outputs": [],
   "source": []
  },
  {
   "cell_type": "code",
   "execution_count": 120,
   "metadata": {},
   "outputs": [],
   "source": [
    "sorted_mcfd = mcfdcount.sort_values(by='Name', ascending=False)"
   ]
  },
  {
   "cell_type": "code",
   "execution_count": null,
   "metadata": {},
   "outputs": [],
   "source": []
  },
  {
   "cell_type": "code",
   "execution_count": 121,
   "metadata": {},
   "outputs": [],
   "source": [
    "top_25 = sorted_mcfd['Name'].head(25)"
   ]
  },
  {
   "cell_type": "code",
   "execution_count": 122,
   "metadata": {},
   "outputs": [
    {
     "name": "stdout",
     "output_type": "stream",
     "text": [
      "College\n",
      "LSU              55\n",
      "Florida          51\n",
      "Alabama          48\n",
      "Miami            46\n",
      "Ohio State       46\n",
      "Florida State    45\n",
      "Clemson          43\n",
      "USC              42\n",
      "Georgia          40\n",
      "California       40\n",
      "Auburn           37\n",
      "Tennessee        35\n",
      "Oklahoma         35\n",
      "UCLA             34\n",
      "Texas AM         33\n",
      "Notre Dame       33\n",
      "Penn State       32\n",
      "Wisconsin        31\n",
      "Michigan         31\n",
      "Oregon           30\n",
      "Stanford         30\n",
      "Michigan St.     30\n",
      "Louisville       29\n",
      "Utah             29\n",
      "Arkansas         28\n",
      "Name: Name, dtype: int64\n"
     ]
    }
   ],
   "source": [
    "print(top_25)"
   ]
  },
  {
   "cell_type": "code",
   "execution_count": 123,
   "metadata": {},
   "outputs": [
    {
     "data": {
      "text/plain": [
       "<matplotlib.axes._subplots.AxesSubplot at 0x279f69cdbe0>"
      ]
     },
     "execution_count": 123,
     "metadata": {},
     "output_type": "execute_result"
    },
    {
     "data": {
      "image/png": "[encoded data removed]",
      "text/plain": [
       "<matplotlib.figure.Figure at 0x279f6a4bac8>"
      ]
     },
     "metadata": {},
     "output_type": "display_data"
    }
   ],
   "source": [
    "top_25.plot.bar()"
   ]
  },
  {
   "cell_type": "code",
   "execution_count": 22,
   "metadata": {},
   "outputs": [],
   "source": [
    "top_25.to_csv('C:\\\\Users\\\\tilleymusprime\\\\Desktop\\\\top25.csv')"
   ]
  },
  {
   "cell_type": "code",
   "execution_count": null,
   "metadata": {},
   "outputs": [],
   "source": []
  },
  {
   "cell_type": "code",
   "execution_count": 50,
   "metadata": {},
   "outputs": [],
   "source": [
    "##It looks like LSU produces the most college players"
   ]
  },
  {
   "cell_type": "code",
   "execution_count": null,
   "metadata": {},
   "outputs": [],
   "source": [
    "##College Stats"
   ]
  },
  {
   "cell_type": "code",
   "execution_count": null,
   "metadata": {},
   "outputs": [],
   "source": []
  },
  {
   "cell_type": "code",
   "execution_count": null,
   "metadata": {},
   "outputs": [],
   "source": []
  },
  {
   "cell_type": "code",
   "execution_count": 47,
   "metadata": {},
   "outputs": [],
   "source": [
    "#positiongroup stats"
   ]
  },
  {
   "cell_type": "code",
   "execution_count": null,
   "metadata": {},
   "outputs": [],
   "source": [
    "#Qb stats"
   ]
  },
  {
   "cell_type": "code",
   "execution_count": 124,
   "metadata": {},
   "outputs": [],
   "source": [
    "qb = mcfd[mcfd['Position'] == 'QB']"
   ]
  },
  {
   "cell_type": "code",
   "execution_count": 125,
   "metadata": {},
   "outputs": [
    {
     "data": {
      "text/plain": [
       "(169, 53)"
      ]
     },
     "execution_count": 125,
     "metadata": {},
     "output_type": "execute_result"
    }
   ],
   "source": [
    "qb.shape"
   ]
  },
  {
   "cell_type": "code",
   "execution_count": 126,
   "metadata": {},
   "outputs": [
    {
     "data": {
      "text/plain": [
       "(3890, 53)"
      ]
     },
     "execution_count": 126,
     "metadata": {},
     "output_type": "execute_result"
    }
   ],
   "source": [
    "mcfd.shape"
   ]
  },
  {
   "cell_type": "code",
   "execution_count": 127,
   "metadata": {
    "scrolled": true
   },
   "outputs": [
    {
     "name": "stdout",
     "output_type": "stream",
     "text": [
      "                  Name         College  Unnamed: 0  Acceleration  Agility  \\\n",
      "23         Brian Hoyer    Michigan St.        23.0          76.0     67.0   \n",
      "29        Matt Barkley             USC        29.0          79.0     64.0   \n",
      "30       C.J. Beathard            Iowa        30.0          81.0     77.0   \n",
      "98   Mitchell Trubisky  North Carolina        96.0          87.0     83.0   \n",
      "108       Mike Glennon      N.C. State       106.0          76.0     54.0   \n",
      "\n",
      "     Awareness  Ball Carrier Vision  Block Shedding  Carrying  \\\n",
      "23        77.0                 65.0            19.0      60.0   \n",
      "29        72.0                 63.0            28.0      71.0   \n",
      "30        63.0                 70.0            28.0      61.0   \n",
      "98        67.0                 76.0            24.0      63.0   \n",
      "108       77.0                 42.0            23.0      61.0   \n",
      "\n",
      "     Catch In Traffic    ...     Toughness  Trucking  Zone Coverage  \\\n",
      "23               15.0    ...          70.0      23.0           19.0   \n",
      "29               23.0    ...          87.0      32.0           20.0   \n",
      "30               17.0    ...          81.0      48.0           14.0   \n",
      "98               33.0    ...          88.0      54.0           17.0   \n",
      "108              10.0    ...          85.0      34.0           16.0   \n",
      "\n",
      "             Wt   Vertical  Bench  Broad Jump     3Cone   Shuttle      40yd  \n",
      "23   222.866667  31.132812   16.0   111.71875  7.116667  4.307627  4.821408  \n",
      "29   227.000000  31.132812   16.0   111.71875  7.116667  4.307627  4.910000  \n",
      "30   219.000000  31.000000   16.0   113.00000  7.116667  4.307627  4.821408  \n",
      "98   222.000000  27.500000   16.0   116.00000  6.870000  4.250000  4.670000  \n",
      "108  225.000000  26.500000   16.0   102.00000  7.490000  4.520000  4.940000  \n",
      "\n",
      "[5 rows x 53 columns]\n"
     ]
    }
   ],
   "source": [
    "print(qb.head())"
   ]
  },
  {
   "cell_type": "code",
   "execution_count": 128,
   "metadata": {},
   "outputs": [],
   "source": [
    "qbcount = qb.groupby('College').count()"
   ]
  },
  {
   "cell_type": "code",
   "execution_count": 129,
   "metadata": {},
   "outputs": [],
   "source": [
    "sorted_qbcount = qbcount.sort_values(by='Name', ascending=False)"
   ]
  },
  {
   "cell_type": "code",
   "execution_count": 130,
   "metadata": {},
   "outputs": [],
   "source": [
    "top10qb = sorted_qbcount.head(10)"
   ]
  },
  {
   "cell_type": "code",
   "execution_count": 131,
   "metadata": {},
   "outputs": [
    {
     "name": "stdout",
     "output_type": "stream",
     "text": [
      "College\n",
      "USC             5\n",
      "Michigan St.    4\n",
      "Wisconsin       3\n",
      "California      3\n",
      "N.C. State      3\n",
      "Michigan        3\n",
      "Tennessee       3\n",
      "Oregon State    3\n",
      "LA. Tech        2\n",
      "Oregon          2\n",
      "Name: Team, dtype: int64\n"
     ]
    }
   ],
   "source": [
    "print(top10qb['Team'])"
   ]
  },
  {
   "cell_type": "code",
   "execution_count": 132,
   "metadata": {},
   "outputs": [
    {
     "data": {
      "text/plain": [
       "<matplotlib.axes._subplots.AxesSubplot at 0x279f7bf24a8>"
      ]
     },
     "execution_count": 132,
     "metadata": {},
     "output_type": "execute_result"
    },
    {
     "data": {
      "image/png": "[encoded data removed]",
      "text/plain": [
       "<matplotlib.figure.Figure at 0x279f687b6d8>"
      ]
     },
     "metadata": {},
     "output_type": "display_data"
    }
   ],
   "source": [
    "top10qb['Name'].plot.bar()"
   ]
  },
  {
   "cell_type": "code",
   "execution_count": null,
   "metadata": {},
   "outputs": [],
   "source": []
  },
  {
   "cell_type": "code",
   "execution_count": null,
   "metadata": {},
   "outputs": [],
   "source": [
    "### It looks like USC produces the most QB's but are they really better at producing QB's or is it just random chance?"
   ]
  },
  {
   "cell_type": "code",
   "execution_count": 134,
   "metadata": {},
   "outputs": [],
   "source": [
    "qbmeans = np.mean(qb[['Wt', '3Cone', '40yd', 'Vertical', 'Shuttle', 'Bench', 'Broad Jump']])"
   ]
  },
  {
   "cell_type": "code",
   "execution_count": null,
   "metadata": {},
   "outputs": [],
   "source": []
  },
  {
   "cell_type": "code",
   "execution_count": null,
   "metadata": {},
   "outputs": [],
   "source": []
  },
  {
   "cell_type": "code",
   "execution_count": 135,
   "metadata": {},
   "outputs": [
    {
     "name": "stdout",
     "output_type": "stream",
     "text": [
      "Wt            222.866667\n",
      "3Cone           7.116667\n",
      "40yd            4.821408\n",
      "Vertical       31.132812\n",
      "Shuttle         4.307627\n",
      "Bench          16.000000\n",
      "Broad Jump    111.718750\n",
      "dtype: float64\n"
     ]
    }
   ],
   "source": [
    "print(qbmeans)"
   ]
  },
  {
   "cell_type": "code",
   "execution_count": 140,
   "metadata": {},
   "outputs": [
    {
     "name": "stdout",
     "output_type": "stream",
     "text": [
      "Wt            245.146379\n",
      "3Cone          32.408930\n",
      "40yd            4.753919\n",
      "Vertical       32.751722\n",
      "Shuttle         4.378360\n",
      "Bench          20.165241\n",
      "Broad Jump    115.481252\n",
      "dtype: float64\n"
     ]
    }
   ],
   "source": [
    "means = mcfd[['Wt', '3Cone', '40yd', 'Vertical', 'Shuttle', 'Bench', 'Broad Jump']].mean()\n",
    "print(means)"
   ]
  },
  {
   "cell_type": "code",
   "execution_count": null,
   "metadata": {},
   "outputs": [],
   "source": [
    "### QB's have faster than average 3Cone, and shuttle but below average performance in the 40, vertical ability(jumping), \n",
    "### bench press and broad jump.  It doesn't appear that the raw physical attributes are the most important for this position"
   ]
  },
  {
   "cell_type": "code",
   "execution_count": 139,
   "metadata": {},
   "outputs": [],
   "source": []
  },
  {
   "cell_type": "code",
   "execution_count": null,
   "metadata": {},
   "outputs": [],
   "source": []
  },
  {
   "cell_type": "code",
   "execution_count": null,
   "metadata": {},
   "outputs": [],
   "source": []
  },
  {
   "cell_type": "code",
   "execution_count": null,
   "metadata": {},
   "outputs": [],
   "source": []
  },
  {
   "cell_type": "code",
   "execution_count": null,
   "metadata": {},
   "outputs": [],
   "source": []
  },
  {
   "cell_type": "code",
   "execution_count": null,
   "metadata": {},
   "outputs": [],
   "source": []
  },
  {
   "cell_type": "code",
   "execution_count": null,
   "metadata": {},
   "outputs": [],
   "source": []
  },
  {
   "cell_type": "code",
   "execution_count": null,
   "metadata": {},
   "outputs": [],
   "source": []
  },
  {
   "cell_type": "code",
   "execution_count": null,
   "metadata": {},
   "outputs": [],
   "source": []
  },
  {
   "cell_type": "code",
   "execution_count": null,
   "metadata": {},
   "outputs": [],
   "source": []
  },
  {
   "cell_type": "code",
   "execution_count": 105,
   "metadata": {},
   "outputs": [],
   "source": [
    "##CornerBack stats"
   ]
  },
  {
   "cell_type": "code",
   "execution_count": null,
   "metadata": {},
   "outputs": [],
   "source": []
  },
  {
   "cell_type": "code",
   "execution_count": 145,
   "metadata": {},
   "outputs": [],
   "source": [
    "cb = mcfd[mcfd['Position'] == 'CB'] "
   ]
  },
  {
   "cell_type": "code",
   "execution_count": 146,
   "metadata": {},
   "outputs": [
    {
     "name": "stdout",
     "output_type": "stream",
     "text": [
      "College\n",
      "LSU              7\n",
      "Florida State    7\n",
      "Florida          7\n",
      "Clemson          6\n",
      "UCF              5\n",
      "Ohio State       5\n",
      "Auburn           5\n",
      "Miami            5\n",
      "USC              5\n",
      "Utah             5\n",
      "Name: Unnamed: 0, dtype: int64\n"
     ]
    }
   ],
   "source": [
    "cb_college = cb.groupby('College').count()\n",
    "cb_college_sorted = cb_college.sort_values(by='Unnamed: 0', ascending=False)\n",
    "cbtop10 = cb_college_sorted.head(10)\n",
    "print(cbtop10['Unnamed: 0'])"
   ]
  },
  {
   "cell_type": "code",
   "execution_count": 149,
   "metadata": {},
   "outputs": [],
   "source": [
    "cbmeans = np.mean(cb[['Wt', '3Cone', '40yd', 'Vertical', 'Shuttle', 'Bench', 'Broad Jump']])"
   ]
  },
  {
   "cell_type": "code",
   "execution_count": 150,
   "metadata": {},
   "outputs": [
    {
     "name": "stdout",
     "output_type": "stream",
     "text": [
      "                   Name     College  Unnamed: 0  Acceleration  Agility  \\\n",
      "18     Rashard Robinson         LSU        18.0          90.0     86.0   \n",
      "26      K'Waun Williams  Pittsburgh        26.0          92.0     92.0   \n",
      "41         Keith Reaser         FAU        41.0          91.0     85.0   \n",
      "42  Ahkello Witherspoon    Colorado        42.0          92.0     91.0   \n",
      "45           Will Davis  Utah State        45.0          90.0     93.0   \n",
      "\n",
      "    Awareness  Ball Carrier Vision  Block Shedding  Carrying  \\\n",
      "18       75.0                 69.0            54.0      55.0   \n",
      "26       70.0                 65.0            37.0      60.0   \n",
      "41       65.0                 64.0            36.0      64.0   \n",
      "42       63.0                 61.0            43.0      59.0   \n",
      "45       67.0                 81.0            42.0      64.0   \n",
      "\n",
      "    Catch In Traffic  ...   Toughness  Trucking  Zone Coverage          Wt  \\\n",
      "18              33.0  ...        86.0      27.0           70.0  171.000000   \n",
      "26              55.0  ...        74.0      25.0           75.0  195.506024   \n",
      "41              45.0  ...        68.0      29.0           70.0  189.000000   \n",
      "42              53.0  ...        68.0      25.0           73.0  198.000000   \n",
      "45              50.0  ...        66.0      35.0           68.0  186.000000   \n",
      "\n",
      "     Vertical      Bench  Broad Jump     3Cone  Shuttle  40yd  \n",
      "18  35.500000  14.598485  121.000000  6.922018  4.17431  4.49  \n",
      "26  35.723776  14.598485  122.471429  6.922018  4.17431  4.50  \n",
      "41  35.723776  22.000000  122.471429  6.922018  4.17431  4.43  \n",
      "42  40.500000  14.598485  127.000000  6.930000  4.13000  4.45  \n",
      "45  35.500000  16.000000  127.000000  6.520000  4.02000  4.51  \n",
      "\n",
      "[5 rows x 53 columns]\n"
     ]
    }
   ],
   "source": [
    "print(cb.head())"
   ]
  },
  {
   "cell_type": "code",
   "execution_count": 151,
   "metadata": {},
   "outputs": [
    {
     "name": "stdout",
     "output_type": "stream",
     "text": [
      "[Wt            196.454240\n",
      "3Cone           6.928955\n",
      "40yd            4.505457\n",
      "Vertical       35.670732\n",
      "Shuttle         4.179622\n",
      "Bench          14.739856\n",
      "Broad Jump    122.316861\n",
      "dtype: float64, Wt            245.146379\n",
      "3Cone          32.408930\n",
      "40yd            4.753919\n",
      "Vertical       32.751722\n",
      "Shuttle         4.378360\n",
      "Bench          20.165241\n",
      "Broad Jump    115.481252\n",
      "dtype: float64, Wt           -48.692139\n",
      "3Cone        -25.479975\n",
      "40yd          -0.248462\n",
      "Vertical       2.919010\n",
      "Shuttle       -0.198738\n",
      "Bench         -5.425384\n",
      "Broad Jump     6.835609\n",
      "dtype: float64]\n"
     ]
    }
   ],
   "source": [
    "print([cbmeans, means, (cbmeans - means)])"
   ]
  },
  {
   "cell_type": "code",
   "execution_count": null,
   "metadata": {},
   "outputs": [],
   "source": [
    "### Cornerbacks perform above average in every category except bench.  "
   ]
  },
  {
   "cell_type": "code",
   "execution_count": null,
   "metadata": {},
   "outputs": [],
   "source": []
  },
  {
   "cell_type": "code",
   "execution_count": 89,
   "metadata": {},
   "outputs": [],
   "source": [
    "#CB Correlations"
   ]
  },
  {
   "cell_type": "code",
   "execution_count": null,
   "metadata": {},
   "outputs": [],
   "source": []
  },
  {
   "cell_type": "code",
   "execution_count": null,
   "metadata": {},
   "outputs": [],
   "source": []
  },
  {
   "cell_type": "code",
   "execution_count": null,
   "metadata": {},
   "outputs": [],
   "source": [
    "###Speed is the key for CB's"
   ]
  },
  {
   "cell_type": "code",
   "execution_count": null,
   "metadata": {},
   "outputs": [],
   "source": [
    "##LB Stats"
   ]
  },
  {
   "cell_type": "code",
   "execution_count": 152,
   "metadata": {},
   "outputs": [],
   "source": [
    "mlb = mcfd[mcfd['Position'] == 'MLB']"
   ]
  },
  {
   "cell_type": "code",
   "execution_count": 153,
   "metadata": {},
   "outputs": [
    {
     "name": "stdout",
     "output_type": "stream",
     "text": [
      "                Name             College  Unnamed: 0  Acceleration  Agility  \\\n",
      "1     NaVorro Bowman          Penn State         1.0          87.0     83.0   \n",
      "54       Brock Coyle             Montana        54.0          89.0     80.0   \n",
      "75   Jerrell Freeman  Mary Hardin-Baylor        75.0          83.0     79.0   \n",
      "80   Danny Trevathan            Kentucky        80.0          86.0     78.0   \n",
      "103  Nick Kwiatkoski       West Virginia       101.0          87.0     87.0   \n",
      "\n",
      "     Awareness  Ball Carrier Vision  Block Shedding  Carrying  \\\n",
      "1         90.0                 27.0            82.0      50.0   \n",
      "54        69.0                 32.0            73.0      60.0   \n",
      "75        90.0                 35.0            85.0      45.0   \n",
      "80        86.0                 28.0            82.0      45.0   \n",
      "103       72.0                 37.0            82.0      42.0   \n",
      "\n",
      "     Catch In Traffic    ...     Toughness  Trucking  Zone Coverage  \\\n",
      "1                40.0    ...          75.0      10.0           72.0   \n",
      "54               35.0    ...          87.0      42.0           70.0   \n",
      "75               40.0    ...          75.0      49.0           85.0   \n",
      "80               15.0    ...          87.0      28.0           74.0   \n",
      "103              24.0    ...          84.0      31.0           71.0   \n",
      "\n",
      "            Wt  Vertical      Bench  Broad Jump     3Cone   Shuttle      40yd  \n",
      "1    239.10989  33.90411  21.906667  118.407895  7.106078  4.289245  4.705542  \n",
      "54   239.10989  33.90411  21.906667  118.407895  7.106078  4.289245  4.705542  \n",
      "75   239.10989  33.90411  21.906667  118.407895  7.106078  4.289245  4.705542  \n",
      "80   237.00000  31.50000  18.000000  111.000000  7.106078  4.289245  4.840000  \n",
      "103  243.00000  32.00000  19.000000  120.000000  7.160000  4.220000  4.730000  \n",
      "\n",
      "[5 rows x 53 columns]\n"
     ]
    }
   ],
   "source": [
    "print(mlb.head())"
   ]
  },
  {
   "cell_type": "code",
   "execution_count": 156,
   "metadata": {},
   "outputs": [],
   "source": [
    "mlbmeans = np.mean(mlb[['Wt', 'Overall Rating', 'Wt', 'Shuttle', 'Vertical',\n",
    "                  '3Cone', '40yd', 'Bench', 'Broad Jump']])"
   ]
  },
  {
   "cell_type": "code",
   "execution_count": 407,
   "metadata": {},
   "outputs": [
    {
     "name": "stdout",
     "output_type": "stream",
     "text": [
      "Wt                  237.293333\n",
      "Overall Rating_x     71.432836\n",
      "Wt                  237.293333\n",
      "Shuttle               4.271020\n",
      "Vertical             33.742424\n",
      "3Cone                 7.094255\n",
      "40yd                  4.685441\n",
      "Bench                21.951613\n",
      "Broad Jump          118.242424\n",
      "dtype: float64 Wt            243.376448\n",
      "3Cone           7.248442\n",
      "40yd            4.782479\n",
      "Vertical       32.600599\n",
      "Shuttle         4.397884\n",
      "Bench          20.365121\n",
      "Broad Jump    115.219394\n",
      "dtype: float64 3Cone              -0.154187\n",
      "40yd               -0.097038\n",
      "Bench               1.586492\n",
      "Broad Jump          3.023030\n",
      "Overall Rating_x         NaN\n",
      "Shuttle            -0.126863\n",
      "Vertical            1.141825\n",
      "Wt                 -6.083115\n",
      "Wt                 -6.083115\n",
      "dtype: float64\n"
     ]
    }
   ],
   "source": [
    "print(mlbmeans, means, (mlbmeans - means))"
   ]
  },
  {
   "cell_type": "code",
   "execution_count": null,
   "metadata": {},
   "outputs": [],
   "source": [
    "### Above average strength above average speed"
   ]
  },
  {
   "cell_type": "code",
   "execution_count": 157,
   "metadata": {},
   "outputs": [],
   "source": [
    "mlb_combine = mlb[['Overall Rating', 'Wt', 'Shuttle', 'Vertical',\n",
    "                  '3Cone', '40yd', 'Bench', 'Broad Jump']]"
   ]
  },
  {
   "cell_type": "code",
   "execution_count": 158,
   "metadata": {},
   "outputs": [
    {
     "data": {
      "text/html": [
       "<div>\n",
       "<style scoped>\n",
       "    .dataframe tbody tr th:only-of-type {\n",
       "        vertical-align: middle;\n",
       "    }\n",
       "\n",
       "    .dataframe tbody tr th {\n",
       "        vertical-align: top;\n",
       "    }\n",
       "\n",
       "    .dataframe thead th {\n",
       "        text-align: right;\n",
       "    }\n",
       "</style>\n",
       "<table border=\"1\" class=\"dataframe\">\n",
       "  <thead>\n",
       "    <tr style=\"text-align: right;\">\n",
       "      <th></th>\n",
       "      <th>Overall Rating</th>\n",
       "      <th>Wt</th>\n",
       "      <th>Shuttle</th>\n",
       "      <th>Vertical</th>\n",
       "      <th>3Cone</th>\n",
       "      <th>40yd</th>\n",
       "      <th>Bench</th>\n",
       "      <th>Broad Jump</th>\n",
       "    </tr>\n",
       "  </thead>\n",
       "  <tbody>\n",
       "    <tr>\n",
       "      <th>Overall Rating</th>\n",
       "      <td>1.000000</td>\n",
       "      <td>-0.014131</td>\n",
       "      <td>-0.145679</td>\n",
       "      <td>0.168450</td>\n",
       "      <td>-0.051120</td>\n",
       "      <td>-0.241018</td>\n",
       "      <td>0.047503</td>\n",
       "      <td>0.133509</td>\n",
       "    </tr>\n",
       "    <tr>\n",
       "      <th>Wt</th>\n",
       "      <td>-0.014131</td>\n",
       "      <td>1.000000</td>\n",
       "      <td>0.056428</td>\n",
       "      <td>-0.020343</td>\n",
       "      <td>0.086876</td>\n",
       "      <td>0.348978</td>\n",
       "      <td>0.228166</td>\n",
       "      <td>-0.180858</td>\n",
       "    </tr>\n",
       "    <tr>\n",
       "      <th>Shuttle</th>\n",
       "      <td>-0.145679</td>\n",
       "      <td>0.056428</td>\n",
       "      <td>1.000000</td>\n",
       "      <td>-0.102816</td>\n",
       "      <td>0.471297</td>\n",
       "      <td>0.215656</td>\n",
       "      <td>-0.141916</td>\n",
       "      <td>-0.137094</td>\n",
       "    </tr>\n",
       "    <tr>\n",
       "      <th>Vertical</th>\n",
       "      <td>0.168450</td>\n",
       "      <td>-0.020343</td>\n",
       "      <td>-0.102816</td>\n",
       "      <td>1.000000</td>\n",
       "      <td>-0.034810</td>\n",
       "      <td>-0.388893</td>\n",
       "      <td>0.076162</td>\n",
       "      <td>0.635457</td>\n",
       "    </tr>\n",
       "    <tr>\n",
       "      <th>3Cone</th>\n",
       "      <td>-0.051120</td>\n",
       "      <td>0.086876</td>\n",
       "      <td>0.471297</td>\n",
       "      <td>-0.034810</td>\n",
       "      <td>1.000000</td>\n",
       "      <td>0.230841</td>\n",
       "      <td>-0.023518</td>\n",
       "      <td>-0.136390</td>\n",
       "    </tr>\n",
       "    <tr>\n",
       "      <th>40yd</th>\n",
       "      <td>-0.241018</td>\n",
       "      <td>0.348978</td>\n",
       "      <td>0.215656</td>\n",
       "      <td>-0.388893</td>\n",
       "      <td>0.230841</td>\n",
       "      <td>1.000000</td>\n",
       "      <td>-0.068680</td>\n",
       "      <td>-0.493705</td>\n",
       "    </tr>\n",
       "    <tr>\n",
       "      <th>Bench</th>\n",
       "      <td>0.047503</td>\n",
       "      <td>0.228166</td>\n",
       "      <td>-0.141916</td>\n",
       "      <td>0.076162</td>\n",
       "      <td>-0.023518</td>\n",
       "      <td>-0.068680</td>\n",
       "      <td>1.000000</td>\n",
       "      <td>0.018780</td>\n",
       "    </tr>\n",
       "    <tr>\n",
       "      <th>Broad Jump</th>\n",
       "      <td>0.133509</td>\n",
       "      <td>-0.180858</td>\n",
       "      <td>-0.137094</td>\n",
       "      <td>0.635457</td>\n",
       "      <td>-0.136390</td>\n",
       "      <td>-0.493705</td>\n",
       "      <td>0.018780</td>\n",
       "      <td>1.000000</td>\n",
       "    </tr>\n",
       "  </tbody>\n",
       "</table>\n",
       "</div>"
      ],
      "text/plain": [
       "                Overall Rating        Wt   Shuttle  Vertical     3Cone  \\\n",
       "Overall Rating        1.000000 -0.014131 -0.145679  0.168450 -0.051120   \n",
       "Wt                   -0.014131  1.000000  0.056428 -0.020343  0.086876   \n",
       "Shuttle              -0.145679  0.056428  1.000000 -0.102816  0.471297   \n",
       "Vertical              0.168450 -0.020343 -0.102816  1.000000 -0.034810   \n",
       "3Cone                -0.051120  0.086876  0.471297 -0.034810  1.000000   \n",
       "40yd                 -0.241018  0.348978  0.215656 -0.388893  0.230841   \n",
       "Bench                 0.047503  0.228166 -0.141916  0.076162 -0.023518   \n",
       "Broad Jump            0.133509 -0.180858 -0.137094  0.635457 -0.136390   \n",
       "\n",
       "                    40yd     Bench  Broad Jump  \n",
       "Overall Rating -0.241018  0.047503    0.133509  \n",
       "Wt              0.348978  0.228166   -0.180858  \n",
       "Shuttle         0.215656 -0.141916   -0.137094  \n",
       "Vertical       -0.388893  0.076162    0.635457  \n",
       "3Cone           0.230841 -0.023518   -0.136390  \n",
       "40yd            1.000000 -0.068680   -0.493705  \n",
       "Bench          -0.068680  1.000000    0.018780  \n",
       "Broad Jump     -0.493705  0.018780    1.000000  "
      ]
     },
     "execution_count": 158,
     "metadata": {},
     "output_type": "execute_result"
    }
   ],
   "source": [
    "mlb_combine.corr()"
   ]
  },
  {
   "cell_type": "code",
   "execution_count": null,
   "metadata": {},
   "outputs": [],
   "source": []
  },
  {
   "cell_type": "code",
   "execution_count": 103,
   "metadata": {},
   "outputs": [],
   "source": [
    "## best mlb by college"
   ]
  },
  {
   "cell_type": "code",
   "execution_count": 160,
   "metadata": {},
   "outputs": [],
   "source": [
    "mlb_elite = mlb[mlb['Overall Rating'] >= 80]"
   ]
  },
  {
   "cell_type": "code",
   "execution_count": null,
   "metadata": {},
   "outputs": [],
   "source": []
  },
  {
   "cell_type": "code",
   "execution_count": 161,
   "metadata": {},
   "outputs": [
    {
     "name": "stdout",
     "output_type": "stream",
     "text": [
      "                 Name             College  Unnamed: 0  Acceleration  Agility  \\\n",
      "1      NaVorro Bowman          Penn State         1.0          87.0     83.0   \n",
      "75    Jerrell Freeman  Mary Hardin-Baylor        75.0          83.0     79.0   \n",
      "80    Danny Trevathan            Kentucky        80.0          86.0     78.0   \n",
      "162       Vincent Rey                Duke       160.0          87.0     78.0   \n",
      "306  Brandon Marshall              Nevada       304.0          87.0     81.0   \n",
      "\n",
      "     Awareness  Ball Carrier Vision  Block Shedding  Carrying  \\\n",
      "1         90.0                 27.0            82.0      50.0   \n",
      "75        90.0                 35.0            85.0      45.0   \n",
      "80        86.0                 28.0            82.0      45.0   \n",
      "162       81.0                 22.0            80.0      62.0   \n",
      "306       88.0                 41.0            83.0      55.0   \n",
      "\n",
      "     Catch In Traffic    ...     Toughness  Trucking  Zone Coverage  \\\n",
      "1                40.0    ...          75.0      10.0           72.0   \n",
      "75               40.0    ...          75.0      49.0           85.0   \n",
      "80               15.0    ...          87.0      28.0           74.0   \n",
      "162              15.0    ...          79.0      40.0           82.0   \n",
      "306              24.0    ...          75.0      43.0           80.0   \n",
      "\n",
      "            Wt  Vertical      Bench  Broad Jump     3Cone   Shuttle      40yd  \n",
      "1    239.10989  33.90411  21.906667  118.407895  7.106078  4.289245  4.705542  \n",
      "75   239.10989  33.90411  21.906667  118.407895  7.106078  4.289245  4.705542  \n",
      "80   237.00000  31.50000  18.000000  111.000000  7.106078  4.289245  4.840000  \n",
      "162  239.10989  33.90411  21.906667  118.407895  7.106078  4.289245  4.705542  \n",
      "306  242.00000  30.50000  28.000000  108.000000  7.050000  4.090000  4.720000  \n",
      "\n",
      "[5 rows x 53 columns]\n"
     ]
    }
   ],
   "source": [
    "print(mlb_elite.head())"
   ]
  },
  {
   "cell_type": "code",
   "execution_count": 162,
   "metadata": {},
   "outputs": [
    {
     "data": {
      "text/plain": [
       "(33, 53)"
      ]
     },
     "execution_count": 162,
     "metadata": {},
     "output_type": "execute_result"
    }
   ],
   "source": [
    "mlb_elite.shape"
   ]
  },
  {
   "cell_type": "code",
   "execution_count": 165,
   "metadata": {},
   "outputs": [
    {
     "data": {
      "text/html": [
       "<div>\n",
       "<style scoped>\n",
       "    .dataframe tbody tr th:only-of-type {\n",
       "        vertical-align: middle;\n",
       "    }\n",
       "\n",
       "    .dataframe tbody tr th {\n",
       "        vertical-align: top;\n",
       "    }\n",
       "\n",
       "    .dataframe thead th {\n",
       "        text-align: right;\n",
       "    }\n",
       "</style>\n",
       "<table border=\"1\" class=\"dataframe\">\n",
       "  <thead>\n",
       "    <tr style=\"text-align: right;\">\n",
       "      <th></th>\n",
       "      <th>Name</th>\n",
       "      <th>Unnamed: 0</th>\n",
       "      <th>Acceleration</th>\n",
       "      <th>Agility</th>\n",
       "      <th>Awareness</th>\n",
       "      <th>Ball Carrier Vision</th>\n",
       "      <th>Block Shedding</th>\n",
       "      <th>Carrying</th>\n",
       "      <th>Catch In Traffic</th>\n",
       "      <th>Catching</th>\n",
       "      <th>...</th>\n",
       "      <th>Toughness</th>\n",
       "      <th>Trucking</th>\n",
       "      <th>Zone Coverage</th>\n",
       "      <th>Wt</th>\n",
       "      <th>Vertical</th>\n",
       "      <th>Bench</th>\n",
       "      <th>Broad Jump</th>\n",
       "      <th>3Cone</th>\n",
       "      <th>Shuttle</th>\n",
       "      <th>40yd</th>\n",
       "    </tr>\n",
       "    <tr>\n",
       "      <th>College</th>\n",
       "      <th></th>\n",
       "      <th></th>\n",
       "      <th></th>\n",
       "      <th></th>\n",
       "      <th></th>\n",
       "      <th></th>\n",
       "      <th></th>\n",
       "      <th></th>\n",
       "      <th></th>\n",
       "      <th></th>\n",
       "      <th></th>\n",
       "      <th></th>\n",
       "      <th></th>\n",
       "      <th></th>\n",
       "      <th></th>\n",
       "      <th></th>\n",
       "      <th></th>\n",
       "      <th></th>\n",
       "      <th></th>\n",
       "      <th></th>\n",
       "      <th></th>\n",
       "    </tr>\n",
       "  </thead>\n",
       "  <tbody>\n",
       "    <tr>\n",
       "      <th>Alabama</th>\n",
       "      <td>2</td>\n",
       "      <td>2</td>\n",
       "      <td>2</td>\n",
       "      <td>2</td>\n",
       "      <td>2</td>\n",
       "      <td>2</td>\n",
       "      <td>2</td>\n",
       "      <td>2</td>\n",
       "      <td>2</td>\n",
       "      <td>2</td>\n",
       "      <td>...</td>\n",
       "      <td>2</td>\n",
       "      <td>2</td>\n",
       "      <td>2</td>\n",
       "      <td>2</td>\n",
       "      <td>2</td>\n",
       "      <td>2</td>\n",
       "      <td>2</td>\n",
       "      <td>2</td>\n",
       "      <td>2</td>\n",
       "      <td>2</td>\n",
       "    </tr>\n",
       "    <tr>\n",
       "      <th>Boston College</th>\n",
       "      <td>1</td>\n",
       "      <td>1</td>\n",
       "      <td>1</td>\n",
       "      <td>1</td>\n",
       "      <td>1</td>\n",
       "      <td>1</td>\n",
       "      <td>1</td>\n",
       "      <td>1</td>\n",
       "      <td>1</td>\n",
       "      <td>1</td>\n",
       "      <td>...</td>\n",
       "      <td>1</td>\n",
       "      <td>1</td>\n",
       "      <td>1</td>\n",
       "      <td>1</td>\n",
       "      <td>1</td>\n",
       "      <td>1</td>\n",
       "      <td>1</td>\n",
       "      <td>1</td>\n",
       "      <td>1</td>\n",
       "      <td>1</td>\n",
       "    </tr>\n",
       "    <tr>\n",
       "      <th>Duke</th>\n",
       "      <td>1</td>\n",
       "      <td>1</td>\n",
       "      <td>1</td>\n",
       "      <td>1</td>\n",
       "      <td>1</td>\n",
       "      <td>1</td>\n",
       "      <td>1</td>\n",
       "      <td>1</td>\n",
       "      <td>1</td>\n",
       "      <td>1</td>\n",
       "      <td>...</td>\n",
       "      <td>1</td>\n",
       "      <td>1</td>\n",
       "      <td>1</td>\n",
       "      <td>1</td>\n",
       "      <td>1</td>\n",
       "      <td>1</td>\n",
       "      <td>1</td>\n",
       "      <td>1</td>\n",
       "      <td>1</td>\n",
       "      <td>1</td>\n",
       "    </tr>\n",
       "    <tr>\n",
       "      <th>Florida State</th>\n",
       "      <td>1</td>\n",
       "      <td>1</td>\n",
       "      <td>1</td>\n",
       "      <td>1</td>\n",
       "      <td>1</td>\n",
       "      <td>1</td>\n",
       "      <td>1</td>\n",
       "      <td>1</td>\n",
       "      <td>1</td>\n",
       "      <td>1</td>\n",
       "      <td>...</td>\n",
       "      <td>1</td>\n",
       "      <td>1</td>\n",
       "      <td>1</td>\n",
       "      <td>1</td>\n",
       "      <td>1</td>\n",
       "      <td>1</td>\n",
       "      <td>1</td>\n",
       "      <td>1</td>\n",
       "      <td>1</td>\n",
       "      <td>1</td>\n",
       "    </tr>\n",
       "    <tr>\n",
       "      <th>Iowa</th>\n",
       "      <td>1</td>\n",
       "      <td>1</td>\n",
       "      <td>1</td>\n",
       "      <td>1</td>\n",
       "      <td>1</td>\n",
       "      <td>1</td>\n",
       "      <td>1</td>\n",
       "      <td>1</td>\n",
       "      <td>1</td>\n",
       "      <td>1</td>\n",
       "      <td>...</td>\n",
       "      <td>1</td>\n",
       "      <td>1</td>\n",
       "      <td>1</td>\n",
       "      <td>1</td>\n",
       "      <td>1</td>\n",
       "      <td>1</td>\n",
       "      <td>1</td>\n",
       "      <td>1</td>\n",
       "      <td>1</td>\n",
       "      <td>1</td>\n",
       "    </tr>\n",
       "    <tr>\n",
       "      <th>Kentucky</th>\n",
       "      <td>2</td>\n",
       "      <td>2</td>\n",
       "      <td>2</td>\n",
       "      <td>2</td>\n",
       "      <td>2</td>\n",
       "      <td>2</td>\n",
       "      <td>2</td>\n",
       "      <td>2</td>\n",
       "      <td>2</td>\n",
       "      <td>2</td>\n",
       "      <td>...</td>\n",
       "      <td>2</td>\n",
       "      <td>2</td>\n",
       "      <td>2</td>\n",
       "      <td>2</td>\n",
       "      <td>2</td>\n",
       "      <td>2</td>\n",
       "      <td>2</td>\n",
       "      <td>2</td>\n",
       "      <td>2</td>\n",
       "      <td>2</td>\n",
       "    </tr>\n",
       "    <tr>\n",
       "      <th>LSU</th>\n",
       "      <td>2</td>\n",
       "      <td>2</td>\n",
       "      <td>2</td>\n",
       "      <td>2</td>\n",
       "      <td>2</td>\n",
       "      <td>2</td>\n",
       "      <td>2</td>\n",
       "      <td>2</td>\n",
       "      <td>2</td>\n",
       "      <td>2</td>\n",
       "      <td>...</td>\n",
       "      <td>2</td>\n",
       "      <td>2</td>\n",
       "      <td>2</td>\n",
       "      <td>2</td>\n",
       "      <td>2</td>\n",
       "      <td>2</td>\n",
       "      <td>2</td>\n",
       "      <td>2</td>\n",
       "      <td>2</td>\n",
       "      <td>2</td>\n",
       "    </tr>\n",
       "    <tr>\n",
       "      <th>Mary Hardin-Baylor</th>\n",
       "      <td>1</td>\n",
       "      <td>1</td>\n",
       "      <td>1</td>\n",
       "      <td>1</td>\n",
       "      <td>1</td>\n",
       "      <td>1</td>\n",
       "      <td>1</td>\n",
       "      <td>1</td>\n",
       "      <td>1</td>\n",
       "      <td>1</td>\n",
       "      <td>...</td>\n",
       "      <td>1</td>\n",
       "      <td>1</td>\n",
       "      <td>1</td>\n",
       "      <td>1</td>\n",
       "      <td>1</td>\n",
       "      <td>1</td>\n",
       "      <td>1</td>\n",
       "      <td>1</td>\n",
       "      <td>1</td>\n",
       "      <td>1</td>\n",
       "    </tr>\n",
       "    <tr>\n",
       "      <th>Michigan</th>\n",
       "      <td>1</td>\n",
       "      <td>1</td>\n",
       "      <td>1</td>\n",
       "      <td>1</td>\n",
       "      <td>1</td>\n",
       "      <td>1</td>\n",
       "      <td>1</td>\n",
       "      <td>1</td>\n",
       "      <td>1</td>\n",
       "      <td>1</td>\n",
       "      <td>...</td>\n",
       "      <td>1</td>\n",
       "      <td>1</td>\n",
       "      <td>1</td>\n",
       "      <td>1</td>\n",
       "      <td>1</td>\n",
       "      <td>1</td>\n",
       "      <td>1</td>\n",
       "      <td>1</td>\n",
       "      <td>1</td>\n",
       "      <td>1</td>\n",
       "    </tr>\n",
       "    <tr>\n",
       "      <th>Mississippi St.</th>\n",
       "      <td>1</td>\n",
       "      <td>1</td>\n",
       "      <td>1</td>\n",
       "      <td>1</td>\n",
       "      <td>1</td>\n",
       "      <td>1</td>\n",
       "      <td>1</td>\n",
       "      <td>1</td>\n",
       "      <td>1</td>\n",
       "      <td>1</td>\n",
       "      <td>...</td>\n",
       "      <td>1</td>\n",
       "      <td>1</td>\n",
       "      <td>1</td>\n",
       "      <td>1</td>\n",
       "      <td>1</td>\n",
       "      <td>1</td>\n",
       "      <td>1</td>\n",
       "      <td>1</td>\n",
       "      <td>1</td>\n",
       "      <td>1</td>\n",
       "    </tr>\n",
       "    <tr>\n",
       "      <th>Nevada</th>\n",
       "      <td>1</td>\n",
       "      <td>1</td>\n",
       "      <td>1</td>\n",
       "      <td>1</td>\n",
       "      <td>1</td>\n",
       "      <td>1</td>\n",
       "      <td>1</td>\n",
       "      <td>1</td>\n",
       "      <td>1</td>\n",
       "      <td>1</td>\n",
       "      <td>...</td>\n",
       "      <td>1</td>\n",
       "      <td>1</td>\n",
       "      <td>1</td>\n",
       "      <td>1</td>\n",
       "      <td>1</td>\n",
       "      <td>1</td>\n",
       "      <td>1</td>\n",
       "      <td>1</td>\n",
       "      <td>1</td>\n",
       "      <td>1</td>\n",
       "    </tr>\n",
       "    <tr>\n",
       "      <th>North Carolina</th>\n",
       "      <td>1</td>\n",
       "      <td>1</td>\n",
       "      <td>1</td>\n",
       "      <td>1</td>\n",
       "      <td>1</td>\n",
       "      <td>1</td>\n",
       "      <td>1</td>\n",
       "      <td>1</td>\n",
       "      <td>1</td>\n",
       "      <td>1</td>\n",
       "      <td>...</td>\n",
       "      <td>1</td>\n",
       "      <td>1</td>\n",
       "      <td>1</td>\n",
       "      <td>1</td>\n",
       "      <td>1</td>\n",
       "      <td>1</td>\n",
       "      <td>1</td>\n",
       "      <td>1</td>\n",
       "      <td>1</td>\n",
       "      <td>1</td>\n",
       "    </tr>\n",
       "    <tr>\n",
       "      <th>Ohio State</th>\n",
       "      <td>1</td>\n",
       "      <td>1</td>\n",
       "      <td>1</td>\n",
       "      <td>1</td>\n",
       "      <td>1</td>\n",
       "      <td>1</td>\n",
       "      <td>1</td>\n",
       "      <td>1</td>\n",
       "      <td>1</td>\n",
       "      <td>1</td>\n",
       "      <td>...</td>\n",
       "      <td>1</td>\n",
       "      <td>1</td>\n",
       "      <td>1</td>\n",
       "      <td>1</td>\n",
       "      <td>1</td>\n",
       "      <td>1</td>\n",
       "      <td>1</td>\n",
       "      <td>1</td>\n",
       "      <td>1</td>\n",
       "      <td>1</td>\n",
       "    </tr>\n",
       "    <tr>\n",
       "      <th>Penn State</th>\n",
       "      <td>2</td>\n",
       "      <td>2</td>\n",
       "      <td>2</td>\n",
       "      <td>2</td>\n",
       "      <td>2</td>\n",
       "      <td>2</td>\n",
       "      <td>2</td>\n",
       "      <td>2</td>\n",
       "      <td>2</td>\n",
       "      <td>2</td>\n",
       "      <td>...</td>\n",
       "      <td>2</td>\n",
       "      <td>2</td>\n",
       "      <td>2</td>\n",
       "      <td>2</td>\n",
       "      <td>2</td>\n",
       "      <td>2</td>\n",
       "      <td>2</td>\n",
       "      <td>2</td>\n",
       "      <td>2</td>\n",
       "      <td>2</td>\n",
       "    </tr>\n",
       "    <tr>\n",
       "      <th>Texas</th>\n",
       "      <td>2</td>\n",
       "      <td>2</td>\n",
       "      <td>2</td>\n",
       "      <td>2</td>\n",
       "      <td>2</td>\n",
       "      <td>2</td>\n",
       "      <td>2</td>\n",
       "      <td>2</td>\n",
       "      <td>2</td>\n",
       "      <td>2</td>\n",
       "      <td>...</td>\n",
       "      <td>2</td>\n",
       "      <td>2</td>\n",
       "      <td>2</td>\n",
       "      <td>2</td>\n",
       "      <td>2</td>\n",
       "      <td>2</td>\n",
       "      <td>2</td>\n",
       "      <td>2</td>\n",
       "      <td>2</td>\n",
       "      <td>2</td>\n",
       "    </tr>\n",
       "    <tr>\n",
       "      <th>UCF</th>\n",
       "      <td>1</td>\n",
       "      <td>1</td>\n",
       "      <td>1</td>\n",
       "      <td>1</td>\n",
       "      <td>1</td>\n",
       "      <td>1</td>\n",
       "      <td>1</td>\n",
       "      <td>1</td>\n",
       "      <td>1</td>\n",
       "      <td>1</td>\n",
       "      <td>...</td>\n",
       "      <td>1</td>\n",
       "      <td>1</td>\n",
       "      <td>1</td>\n",
       "      <td>1</td>\n",
       "      <td>1</td>\n",
       "      <td>1</td>\n",
       "      <td>1</td>\n",
       "      <td>1</td>\n",
       "      <td>1</td>\n",
       "      <td>1</td>\n",
       "    </tr>\n",
       "    <tr>\n",
       "      <th>UCLA</th>\n",
       "      <td>1</td>\n",
       "      <td>1</td>\n",
       "      <td>1</td>\n",
       "      <td>1</td>\n",
       "      <td>1</td>\n",
       "      <td>1</td>\n",
       "      <td>1</td>\n",
       "      <td>1</td>\n",
       "      <td>1</td>\n",
       "      <td>1</td>\n",
       "      <td>...</td>\n",
       "      <td>1</td>\n",
       "      <td>1</td>\n",
       "      <td>1</td>\n",
       "      <td>1</td>\n",
       "      <td>1</td>\n",
       "      <td>1</td>\n",
       "      <td>1</td>\n",
       "      <td>1</td>\n",
       "      <td>1</td>\n",
       "      <td>1</td>\n",
       "    </tr>\n",
       "    <tr>\n",
       "      <th>Utah State</th>\n",
       "      <td>1</td>\n",
       "      <td>1</td>\n",
       "      <td>1</td>\n",
       "      <td>1</td>\n",
       "      <td>1</td>\n",
       "      <td>1</td>\n",
       "      <td>1</td>\n",
       "      <td>1</td>\n",
       "      <td>1</td>\n",
       "      <td>1</td>\n",
       "      <td>...</td>\n",
       "      <td>1</td>\n",
       "      <td>1</td>\n",
       "      <td>1</td>\n",
       "      <td>1</td>\n",
       "      <td>1</td>\n",
       "      <td>1</td>\n",
       "      <td>1</td>\n",
       "      <td>1</td>\n",
       "      <td>1</td>\n",
       "      <td>1</td>\n",
       "    </tr>\n",
       "    <tr>\n",
       "      <th>Wash. St.</th>\n",
       "      <td>1</td>\n",
       "      <td>1</td>\n",
       "      <td>1</td>\n",
       "      <td>1</td>\n",
       "      <td>1</td>\n",
       "      <td>1</td>\n",
       "      <td>1</td>\n",
       "      <td>1</td>\n",
       "      <td>1</td>\n",
       "      <td>1</td>\n",
       "      <td>...</td>\n",
       "      <td>1</td>\n",
       "      <td>1</td>\n",
       "      <td>1</td>\n",
       "      <td>1</td>\n",
       "      <td>1</td>\n",
       "      <td>1</td>\n",
       "      <td>1</td>\n",
       "      <td>1</td>\n",
       "      <td>1</td>\n",
       "      <td>1</td>\n",
       "    </tr>\n",
       "    <tr>\n",
       "      <th>Washington</th>\n",
       "      <td>1</td>\n",
       "      <td>1</td>\n",
       "      <td>1</td>\n",
       "      <td>1</td>\n",
       "      <td>1</td>\n",
       "      <td>1</td>\n",
       "      <td>1</td>\n",
       "      <td>1</td>\n",
       "      <td>1</td>\n",
       "      <td>1</td>\n",
       "      <td>...</td>\n",
       "      <td>1</td>\n",
       "      <td>1</td>\n",
       "      <td>1</td>\n",
       "      <td>1</td>\n",
       "      <td>1</td>\n",
       "      <td>1</td>\n",
       "      <td>1</td>\n",
       "      <td>1</td>\n",
       "      <td>1</td>\n",
       "      <td>1</td>\n",
       "    </tr>\n",
       "  </tbody>\n",
       "</table>\n",
       "<p>20 rows × 52 columns</p>\n",
       "</div>"
      ],
      "text/plain": [
       "                    Name  Unnamed: 0  Acceleration  Agility  Awareness  \\\n",
       "College                                                                  \n",
       "Alabama                2           2             2        2          2   \n",
       "Boston College         1           1             1        1          1   \n",
       "Duke                   1           1             1        1          1   \n",
       "Florida State          1           1             1        1          1   \n",
       "Iowa                   1           1             1        1          1   \n",
       "Kentucky               2           2             2        2          2   \n",
       "LSU                    2           2             2        2          2   \n",
       "Mary Hardin-Baylor     1           1             1        1          1   \n",
       "Michigan               1           1             1        1          1   \n",
       "Mississippi St.        1           1             1        1          1   \n",
       "Nevada                 1           1             1        1          1   \n",
       "North Carolina         1           1             1        1          1   \n",
       "Ohio State             1           1             1        1          1   \n",
       "Penn State             2           2             2        2          2   \n",
       "Texas                  2           2             2        2          2   \n",
       "UCF                    1           1             1        1          1   \n",
       "UCLA                   1           1             1        1          1   \n",
       "Utah State             1           1             1        1          1   \n",
       "Wash. St.              1           1             1        1          1   \n",
       "Washington             1           1             1        1          1   \n",
       "\n",
       "                    Ball Carrier Vision  Block Shedding  Carrying  \\\n",
       "College                                                             \n",
       "Alabama                               2               2         2   \n",
       "Boston College                        1               1         1   \n",
       "Duke                                  1               1         1   \n",
       "Florida State                         1               1         1   \n",
       "Iowa                                  1               1         1   \n",
       "Kentucky                              2               2         2   \n",
       "LSU                                   2               2         2   \n",
       "Mary Hardin-Baylor                    1               1         1   \n",
       "Michigan                              1               1         1   \n",
       "Mississippi St.                       1               1         1   \n",
       "Nevada                                1               1         1   \n",
       "North Carolina                        1               1         1   \n",
       "Ohio State                            1               1         1   \n",
       "Penn State                            2               2         2   \n",
       "Texas                                 2               2         2   \n",
       "UCF                                   1               1         1   \n",
       "UCLA                                  1               1         1   \n",
       "Utah State                            1               1         1   \n",
       "Wash. St.                             1               1         1   \n",
       "Washington                            1               1         1   \n",
       "\n",
       "                    Catch In Traffic  Catching  ...   Toughness  Trucking  \\\n",
       "College                                         ...                         \n",
       "Alabama                            2         2  ...           2         2   \n",
       "Boston College                     1         1  ...           1         1   \n",
       "Duke                               1         1  ...           1         1   \n",
       "Florida State                      1         1  ...           1         1   \n",
       "Iowa                               1         1  ...           1         1   \n",
       "Kentucky                           2         2  ...           2         2   \n",
       "LSU                                2         2  ...           2         2   \n",
       "Mary Hardin-Baylor                 1         1  ...           1         1   \n",
       "Michigan                           1         1  ...           1         1   \n",
       "Mississippi St.                    1         1  ...           1         1   \n",
       "Nevada                             1         1  ...           1         1   \n",
       "North Carolina                     1         1  ...           1         1   \n",
       "Ohio State                         1         1  ...           1         1   \n",
       "Penn State                         2         2  ...           2         2   \n",
       "Texas                              2         2  ...           2         2   \n",
       "UCF                                1         1  ...           1         1   \n",
       "UCLA                               1         1  ...           1         1   \n",
       "Utah State                         1         1  ...           1         1   \n",
       "Wash. St.                          1         1  ...           1         1   \n",
       "Washington                         1         1  ...           1         1   \n",
       "\n",
       "                    Zone Coverage  Wt  Vertical  Bench  Broad Jump  3Cone  \\\n",
       "College                                                                     \n",
       "Alabama                         2   2         2      2           2      2   \n",
       "Boston College                  1   1         1      1           1      1   \n",
       "Duke                            1   1         1      1           1      1   \n",
       "Florida State                   1   1         1      1           1      1   \n",
       "Iowa                            1   1         1      1           1      1   \n",
       "Kentucky                        2   2         2      2           2      2   \n",
       "LSU                             2   2         2      2           2      2   \n",
       "Mary Hardin-Baylor              1   1         1      1           1      1   \n",
       "Michigan                        1   1         1      1           1      1   \n",
       "Mississippi St.                 1   1         1      1           1      1   \n",
       "Nevada                          1   1         1      1           1      1   \n",
       "North Carolina                  1   1         1      1           1      1   \n",
       "Ohio State                      1   1         1      1           1      1   \n",
       "Penn State                      2   2         2      2           2      2   \n",
       "Texas                           2   2         2      2           2      2   \n",
       "UCF                             1   1         1      1           1      1   \n",
       "UCLA                            1   1         1      1           1      1   \n",
       "Utah State                      1   1         1      1           1      1   \n",
       "Wash. St.                       1   1         1      1           1      1   \n",
       "Washington                      1   1         1      1           1      1   \n",
       "\n",
       "                    Shuttle  40yd  \n",
       "College                            \n",
       "Alabama                   2     2  \n",
       "Boston College            1     1  \n",
       "Duke                      1     1  \n",
       "Florida State             1     1  \n",
       "Iowa                      1     1  \n",
       "Kentucky                  2     2  \n",
       "LSU                       2     2  \n",
       "Mary Hardin-Baylor        1     1  \n",
       "Michigan                  1     1  \n",
       "Mississippi St.           1     1  \n",
       "Nevada                    1     1  \n",
       "North Carolina            1     1  \n",
       "Ohio State                1     1  \n",
       "Penn State                2     2  \n",
       "Texas                     2     2  \n",
       "UCF                       1     1  \n",
       "UCLA                      1     1  \n",
       "Utah State                1     1  \n",
       "Wash. St.                 1     1  \n",
       "Washington                1     1  \n",
       "\n",
       "[20 rows x 52 columns]"
      ]
     },
     "execution_count": 165,
     "metadata": {},
     "output_type": "execute_result"
    }
   ],
   "source": [
    "mlb_elite.groupby('College').count()"
   ]
  },
  {
   "cell_type": "code",
   "execution_count": null,
   "metadata": {},
   "outputs": [],
   "source": [
    "#MLB school"
   ]
  },
  {
   "cell_type": "code",
   "execution_count": 166,
   "metadata": {},
   "outputs": [],
   "source": [
    "mlbcols = list(mlb.columns.values)"
   ]
  },
  {
   "cell_type": "code",
   "execution_count": 167,
   "metadata": {},
   "outputs": [
    {
     "name": "stdout",
     "output_type": "stream",
     "text": [
      "['Name', 'College', 'Unnamed: 0', 'Acceleration', 'Agility', 'Awareness', 'Ball Carrier Vision', 'Block Shedding', 'Carrying', 'Catch In Traffic', 'Catching', 'Elusiveness', 'Finesse Moves', 'Hit Power', 'Impact Blocking', 'Injury', 'Juke Move', 'Jumping', 'Man Coverage', 'Overall Rating', 'Pass Block', 'Play Action', 'Play Recognition', 'Position', 'Power Moves', 'Press', 'Pursuit', 'Release', 'Route Running', 'Run Block', 'Spectacular Catch', 'Speed', 'Spin Move', 'Stamina', 'Stiff Arm', 'Strength', 'Tackle', 'Team', 'Throw Accuracy Deep', 'Throw Accuracy Mid', 'Throw Accuracy Short', 'Throw Power', 'Throw on the Run', 'Toughness', 'Trucking', 'Zone Coverage', 'Wt', 'Vertical', 'Bench', 'Broad Jump', '3Cone', 'Shuttle', '40yd']\n"
     ]
    }
   ],
   "source": [
    "print(mlbcols)"
   ]
  },
  {
   "cell_type": "code",
   "execution_count": 168,
   "metadata": {},
   "outputs": [],
   "source": [
    "mlb_college = mlb.groupby('College').count()"
   ]
  },
  {
   "cell_type": "code",
   "execution_count": 169,
   "metadata": {},
   "outputs": [
    {
     "name": "stdout",
     "output_type": "stream",
     "text": [
      "                  Name  Unnamed: 0  Acceleration  Agility  Awareness  \\\n",
      "College                                                                \n",
      "Akron                1           1             1        1          1   \n",
      "Alabama              4           4             4        4          4   \n",
      "Arizona              1           1             1        1          1   \n",
      "Arkansas             2           2             2        2          2   \n",
      "Arkansas St.         1           1             1        1          1   \n",
      "Auburn               2           2             2        2          2   \n",
      "BYU                  2           2             2        2          2   \n",
      "Baylor               1           1             1        1          1   \n",
      "Boise State          1           1             1        1          1   \n",
      "Boston College       4           4             4        4          4   \n",
      "Cal Poly SLO         1           1             1        1          1   \n",
      "Central Michigan     1           1             1        1          1   \n",
      "Clemson              2           2             2        2          2   \n",
      "Colorado St.         2           2             2        2          2   \n",
      "Connecticut          1           1             1        1          1   \n",
      "Duke                 1           1             1        1          1   \n",
      "Florida              3           3             3        3          3   \n",
      "Florida State        3           3             3        3          3   \n",
      "Fresno State         1           1             1        1          1   \n",
      "Ga. Southern         2           2             2        2          2   \n",
      "Georgia              2           2             2        2          2   \n",
      "Idaho                1           1             1        1          1   \n",
      "Illinois             1           1             1        1          1   \n",
      "Illinois St.         1           1             1        1          1   \n",
      "Iowa                 2           2             2        2          2   \n",
      "Iowa State           2           2             2        2          2   \n",
      "Kansas               2           2             2        2          2   \n",
      "Kentucky             3           3             3        3          3   \n",
      "LSU                  6           6             6        6          6   \n",
      "Louisville           3           3             3        3          3   \n",
      "...                ...         ...           ...      ...        ...   \n",
      "North Texas          1           1             1        1          1   \n",
      "Northern Iowa        1           1             1        1          1   \n",
      "Northwestern         2           2             2        2          2   \n",
      "Notre Dame           2           2             2        2          2   \n",
      "Ohio State           3           3             3        3          3   \n",
      "Oklahoma             2           2             2        2          2   \n",
      "Oregon               2           2             2        2          2   \n",
      "Penn State           4           4             4        4          4   \n",
      "Portland St.         1           1             1        1          1   \n",
      "Sacramento State     1           1             1        1          1   \n",
      "Stanford             1           1             1        1          1   \n",
      "TCU                  2           2             2        2          2   \n",
      "Temple               2           2             2        2          2   \n",
      "Texas                2           2             2        2          2   \n",
      "UCF                  1           1             1        1          1   \n",
      "UCLA                 2           2             2        2          2   \n",
      "USC                  2           2             2        2          2   \n",
      "USF                  1           1             1        1          1   \n",
      "Utah State           1           1             1        1          1   \n",
      "Vanderbilt           1           1             1        1          1   \n",
      "Villanova            1           1             1        1          1   \n",
      "Virginia             1           1             1        1          1   \n",
      "Wagner College       2           2             2        2          2   \n",
      "Wake Forest          1           1             1        1          1   \n",
      "Wash. St.            1           1             1        1          1   \n",
      "Washburn             1           1             1        1          1   \n",
      "Washington           2           2             2        2          2   \n",
      "West Virginia        2           2             2        2          2   \n",
      "William  Mary        1           1             1        1          1   \n",
      "Wyoming              1           1             1        1          1   \n",
      "\n",
      "                  Ball Carrier Vision  Block Shedding  Carrying  \\\n",
      "College                                                           \n",
      "Akron                               1               1         1   \n",
      "Alabama                             4               4         4   \n",
      "Arizona                             1               1         1   \n",
      "Arkansas                            2               2         2   \n",
      "Arkansas St.                        1               1         1   \n",
      "Auburn                              2               2         2   \n",
      "BYU                                 2               2         2   \n",
      "Baylor                              1               1         1   \n",
      "Boise State                         1               1         1   \n",
      "Boston College                      4               4         4   \n",
      "Cal Poly SLO                        1               1         1   \n",
      "Central Michigan                    1               1         1   \n",
      "Clemson                             2               2         2   \n",
      "Colorado St.                        2               2         2   \n",
      "Connecticut                         1               1         1   \n",
      "Duke                                1               1         1   \n",
      "Florida                             3               3         3   \n",
      "Florida State                       3               3         3   \n",
      "Fresno State                        1               1         1   \n",
      "Ga. Southern                        2               2         2   \n",
      "Georgia                             2               2         2   \n",
      "Idaho                               1               1         1   \n",
      "Illinois                            1               1         1   \n",
      "Illinois St.                        1               1         1   \n",
      "Iowa                                2               2         2   \n",
      "Iowa State                          2               2         2   \n",
      "Kansas                              2               2         2   \n",
      "Kentucky                            3               3         3   \n",
      "LSU                                 6               6         6   \n",
      "Louisville                          3               3         3   \n",
      "...                               ...             ...       ...   \n",
      "North Texas                         1               1         1   \n",
      "Northern Iowa                       1               1         1   \n",
      "Northwestern                        2               2         2   \n",
      "Notre Dame                          2               2         2   \n",
      "Ohio State                          3               3         3   \n",
      "Oklahoma                            2               2         2   \n",
      "Oregon                              2               2         2   \n",
      "Penn State                          4               4         4   \n",
      "Portland St.                        1               1         1   \n",
      "Sacramento State                    1               1         1   \n",
      "Stanford                            1               1         1   \n",
      "TCU                                 2               2         2   \n",
      "Temple                              2               2         2   \n",
      "Texas                               2               2         2   \n",
      "UCF                                 1               1         1   \n",
      "UCLA                                2               2         2   \n",
      "USC                                 2               2         2   \n",
      "USF                                 1               1         1   \n",
      "Utah State                          1               1         1   \n",
      "Vanderbilt                          1               1         1   \n",
      "Villanova                           1               1         1   \n",
      "Virginia                            1               1         1   \n",
      "Wagner College                      2               2         2   \n",
      "Wake Forest                         1               1         1   \n",
      "Wash. St.                           1               1         1   \n",
      "Washburn                            1               1         1   \n",
      "Washington                          2               2         2   \n",
      "West Virginia                       2               2         2   \n",
      "William  Mary                       1               1         1   \n",
      "Wyoming                             1               1         1   \n",
      "\n",
      "                  Catch In Traffic  Catching  ...   Toughness  Trucking  \\\n",
      "College                                       ...                         \n",
      "Akron                            1         1  ...           1         1   \n",
      "Alabama                          4         4  ...           4         4   \n",
      "Arizona                          1         1  ...           1         1   \n",
      "Arkansas                         2         2  ...           2         2   \n",
      "Arkansas St.                     1         1  ...           1         1   \n",
      "Auburn                           2         2  ...           2         2   \n",
      "BYU                              2         2  ...           2         2   \n",
      "Baylor                           1         1  ...           1         1   \n",
      "Boise State                      1         1  ...           1         1   \n",
      "Boston College                   4         4  ...           4         4   \n",
      "Cal Poly SLO                     1         1  ...           1         1   \n",
      "Central Michigan                 1         1  ...           1         1   \n",
      "Clemson                          2         2  ...           2         2   \n",
      "Colorado St.                     2         2  ...           2         2   \n",
      "Connecticut                      1         1  ...           1         1   \n",
      "Duke                             1         1  ...           1         1   \n",
      "Florida                          3         3  ...           3         3   \n",
      "Florida State                    3         3  ...           3         3   \n",
      "Fresno State                     1         1  ...           1         1   \n",
      "Ga. Southern                     2         2  ...           2         2   \n",
      "Georgia                          2         2  ...           2         2   \n",
      "Idaho                            1         1  ...           1         1   \n",
      "Illinois                         1         1  ...           1         1   \n",
      "Illinois St.                     1         1  ...           1         1   \n",
      "Iowa                             2         2  ...           2         2   \n",
      "Iowa State                       2         2  ...           2         2   \n",
      "Kansas                           2         2  ...           2         2   \n",
      "Kentucky                         3         3  ...           3         3   \n",
      "LSU                              6         6  ...           6         6   \n",
      "Louisville                       3         3  ...           3         3   \n",
      "...                            ...       ...  ...         ...       ...   \n",
      "North Texas                      1         1  ...           1         1   \n",
      "Northern Iowa                    1         1  ...           1         1   \n",
      "Northwestern                     2         2  ...           2         2   \n",
      "Notre Dame                       2         2  ...           2         2   \n",
      "Ohio State                       3         3  ...           3         3   \n",
      "Oklahoma                         2         2  ...           2         2   \n",
      "Oregon                           2         2  ...           2         2   \n",
      "Penn State                       4         4  ...           4         4   \n",
      "Portland St.                     1         1  ...           1         1   \n",
      "Sacramento State                 1         1  ...           1         1   \n",
      "Stanford                         1         1  ...           1         1   \n",
      "TCU                              2         2  ...           2         2   \n",
      "Temple                           2         2  ...           2         2   \n",
      "Texas                            2         2  ...           2         2   \n",
      "UCF                              1         1  ...           1         1   \n",
      "UCLA                             2         2  ...           2         2   \n",
      "USC                              2         2  ...           2         2   \n",
      "USF                              1         1  ...           1         1   \n",
      "Utah State                       1         1  ...           1         1   \n",
      "Vanderbilt                       1         1  ...           1         1   \n",
      "Villanova                        1         1  ...           1         1   \n",
      "Virginia                         1         1  ...           1         1   \n",
      "Wagner College                   2         2  ...           2         2   \n",
      "Wake Forest                      1         1  ...           1         1   \n",
      "Wash. St.                        1         1  ...           1         1   \n",
      "Washburn                         1         1  ...           1         1   \n",
      "Washington                       2         2  ...           2         2   \n",
      "West Virginia                    2         2  ...           2         2   \n",
      "William  Mary                    1         1  ...           1         1   \n",
      "Wyoming                          1         1  ...           1         1   \n",
      "\n",
      "                  Zone Coverage  Wt  Vertical  Bench  Broad Jump  3Cone  \\\n",
      "College                                                                   \n",
      "Akron                         1   1         1      1           1      1   \n",
      "Alabama                       4   4         4      4           4      4   \n",
      "Arizona                       1   1         1      1           1      1   \n",
      "Arkansas                      2   2         2      2           2      2   \n",
      "Arkansas St.                  1   1         1      1           1      1   \n",
      "Auburn                        2   2         2      2           2      2   \n",
      "BYU                           2   2         2      2           2      2   \n",
      "Baylor                        1   1         1      1           1      1   \n",
      "Boise State                   1   1         1      1           1      1   \n",
      "Boston College                4   4         4      4           4      4   \n",
      "Cal Poly SLO                  1   1         1      1           1      1   \n",
      "Central Michigan              1   1         1      1           1      1   \n",
      "Clemson                       2   2         2      2           2      2   \n",
      "Colorado St.                  2   2         2      2           2      2   \n",
      "Connecticut                   1   1         1      1           1      1   \n",
      "Duke                          1   1         1      1           1      1   \n",
      "Florida                       3   3         3      3           3      3   \n",
      "Florida State                 3   3         3      3           3      3   \n",
      "Fresno State                  1   1         1      1           1      1   \n",
      "Ga. Southern                  2   2         2      2           2      2   \n",
      "Georgia                       2   2         2      2           2      2   \n",
      "Idaho                         1   1         1      1           1      1   \n",
      "Illinois                      1   1         1      1           1      1   \n",
      "Illinois St.                  1   1         1      1           1      1   \n",
      "Iowa                          2   2         2      2           2      2   \n",
      "Iowa State                    2   2         2      2           2      2   \n",
      "Kansas                        2   2         2      2           2      2   \n",
      "Kentucky                      3   3         3      3           3      3   \n",
      "LSU                           6   6         6      6           6      6   \n",
      "Louisville                    3   3         3      3           3      3   \n",
      "...                         ...  ..       ...    ...         ...    ...   \n",
      "North Texas                   1   1         1      1           1      1   \n",
      "Northern Iowa                 1   1         1      1           1      1   \n",
      "Northwestern                  2   2         2      2           2      2   \n",
      "Notre Dame                    2   2         2      2           2      2   \n",
      "Ohio State                    3   3         3      3           3      3   \n",
      "Oklahoma                      2   2         2      2           2      2   \n",
      "Oregon                        2   2         2      2           2      2   \n",
      "Penn State                    4   4         4      4           4      4   \n",
      "Portland St.                  1   1         1      1           1      1   \n",
      "Sacramento State              1   1         1      1           1      1   \n",
      "Stanford                      1   1         1      1           1      1   \n",
      "TCU                           2   2         2      2           2      2   \n",
      "Temple                        2   2         2      2           2      2   \n",
      "Texas                         2   2         2      2           2      2   \n",
      "UCF                           1   1         1      1           1      1   \n",
      "UCLA                          2   2         2      2           2      2   \n",
      "USC                           2   2         2      2           2      2   \n",
      "USF                           1   1         1      1           1      1   \n",
      "Utah State                    1   1         1      1           1      1   \n",
      "Vanderbilt                    1   1         1      1           1      1   \n",
      "Villanova                     1   1         1      1           1      1   \n",
      "Virginia                      1   1         1      1           1      1   \n",
      "Wagner College                2   2         2      2           2      2   \n",
      "Wake Forest                   1   1         1      1           1      1   \n",
      "Wash. St.                     1   1         1      1           1      1   \n",
      "Washburn                      1   1         1      1           1      1   \n",
      "Washington                    2   2         2      2           2      2   \n",
      "West Virginia                 2   2         2      2           2      2   \n",
      "William  Mary                 1   1         1      1           1      1   \n",
      "Wyoming                       1   1         1      1           1      1   \n",
      "\n",
      "                  Shuttle  40yd  \n",
      "College                          \n",
      "Akron                   1     1  \n",
      "Alabama                 4     4  \n",
      "Arizona                 1     1  \n",
      "Arkansas                2     2  \n",
      "Arkansas St.            1     1  \n",
      "Auburn                  2     2  \n",
      "BYU                     2     2  \n",
      "Baylor                  1     1  \n",
      "Boise State             1     1  \n",
      "Boston College          4     4  \n",
      "Cal Poly SLO            1     1  \n",
      "Central Michigan        1     1  \n",
      "Clemson                 2     2  \n",
      "Colorado St.            2     2  \n",
      "Connecticut             1     1  \n",
      "Duke                    1     1  \n",
      "Florida                 3     3  \n",
      "Florida State           3     3  \n",
      "Fresno State            1     1  \n",
      "Ga. Southern            2     2  \n",
      "Georgia                 2     2  \n",
      "Idaho                   1     1  \n",
      "Illinois                1     1  \n",
      "Illinois St.            1     1  \n",
      "Iowa                    2     2  \n",
      "Iowa State              2     2  \n",
      "Kansas                  2     2  \n",
      "Kentucky                3     3  \n",
      "LSU                     6     6  \n",
      "Louisville              3     3  \n",
      "...                   ...   ...  \n",
      "North Texas             1     1  \n",
      "Northern Iowa           1     1  \n",
      "Northwestern            2     2  \n",
      "Notre Dame              2     2  \n",
      "Ohio State              3     3  \n",
      "Oklahoma                2     2  \n",
      "Oregon                  2     2  \n",
      "Penn State              4     4  \n",
      "Portland St.            1     1  \n",
      "Sacramento State        1     1  \n",
      "Stanford                1     1  \n",
      "TCU                     2     2  \n",
      "Temple                  2     2  \n",
      "Texas                   2     2  \n",
      "UCF                     1     1  \n",
      "UCLA                    2     2  \n",
      "USC                     2     2  \n",
      "USF                     1     1  \n",
      "Utah State              1     1  \n",
      "Vanderbilt              1     1  \n",
      "Villanova               1     1  \n",
      "Virginia                1     1  \n",
      "Wagner College          2     2  \n",
      "Wake Forest             1     1  \n",
      "Wash. St.               1     1  \n",
      "Washburn                1     1  \n",
      "Washington              2     2  \n",
      "West Virginia           2     2  \n",
      "William  Mary           1     1  \n",
      "Wyoming                 1     1  \n",
      "\n",
      "[73 rows x 52 columns]\n"
     ]
    }
   ],
   "source": [
    "print(mlb_college)"
   ]
  },
  {
   "cell_type": "code",
   "execution_count": 170,
   "metadata": {},
   "outputs": [],
   "source": [
    "mlb_college_sorted = mlb_college.sort_values(by='Unnamed: 0', ascending=False)"
   ]
  },
  {
   "cell_type": "code",
   "execution_count": 171,
   "metadata": {},
   "outputs": [],
   "source": [
    "mlb_top10 = mlb_college_sorted.head(10)"
   ]
  },
  {
   "cell_type": "code",
   "execution_count": 172,
   "metadata": {},
   "outputs": [
    {
     "name": "stdout",
     "output_type": "stream",
     "text": [
      "College\n",
      "LSU               6\n",
      "Penn State        4\n",
      "Boston College    4\n",
      "Alabama           4\n",
      "Louisville        3\n",
      "Michigan          3\n",
      "Florida State     3\n",
      "Florida           3\n",
      "Kentucky          3\n",
      "Ohio State        3\n",
      "Name: Unnamed: 0, dtype: int64\n"
     ]
    }
   ],
   "source": [
    "print(mlb_top10['Unnamed: 0'])"
   ]
  },
  {
   "cell_type": "code",
   "execution_count": 173,
   "metadata": {},
   "outputs": [
    {
     "data": {
      "text/plain": [
       "<matplotlib.axes._subplots.AxesSubplot at 0x279f7cf94e0>"
      ]
     },
     "execution_count": 173,
     "metadata": {},
     "output_type": "execute_result"
    },
    {
     "data": {
      "image/png": "[encoded data removed]",
      "text/plain": [
       "<matplotlib.figure.Figure at 0x279f7cf9940>"
      ]
     },
     "metadata": {},
     "output_type": "display_data"
    }
   ],
   "source": [
    "mlb_top10['Unnamed: 0'].plot.bar()"
   ]
  },
  {
   "cell_type": "code",
   "execution_count": 129,
   "metadata": {},
   "outputs": [],
   "source": [
    "##Linemen"
   ]
  },
  {
   "cell_type": "code",
   "execution_count": null,
   "metadata": {},
   "outputs": [],
   "source": [
    "##Centers"
   ]
  },
  {
   "cell_type": "code",
   "execution_count": 175,
   "metadata": {},
   "outputs": [],
   "source": [
    "c = mcfd[mcfd['Position'] == 'C']"
   ]
  },
  {
   "cell_type": "code",
   "execution_count": 176,
   "metadata": {},
   "outputs": [],
   "source": [
    "ccount = c.groupby('College').count()"
   ]
  },
  {
   "cell_type": "code",
   "execution_count": 177,
   "metadata": {},
   "outputs": [
    {
     "name": "stdout",
     "output_type": "stream",
     "text": [
      "                  Name  Unnamed: 0  Acceleration  Agility  Awareness  \\\n",
      "College                                                                \n",
      "Air Force            1           1             1        1          1   \n",
      "Alabama              1           1             1        1          1   \n",
      "Appalach. St.        1           1             1        1          1   \n",
      "Arkansas             2           2             2        2          2   \n",
      "Boise State          1           1             1        1          1   \n",
      "CSU-Pueblo           1           1             1        1          1   \n",
      "California           3           3             3        3          3   \n",
      "Cincinnati           1           1             1        1          1   \n",
      "Colorado St.         1           1             1        1          1   \n",
      "Cornell              1           1             1        1          1   \n",
      "Delaware             1           1             1        1          1   \n",
      "Florida              3           3             3        3          3   \n",
      "Florida State        2           2             2        2          2   \n",
      "Georgia              2           2             2        2          2   \n",
      "Grand Valley St.     1           1             1        1          1   \n",
      "Harvard              2           2             2        2          2   \n",
      "Hobart               1           1             1        1          1   \n",
      "Illinois             1           1             1        1          1   \n",
      "Iowa                 2           2             2        2          2   \n",
      "Kansas State         1           1             1        1          1   \n",
      "Louisville           1           1             1        1          1   \n",
      "Miami                2           2             2        2          2   \n",
      "Michigan St.         1           1             1        1          1   \n",
      "Missouri             3           3             3        3          3   \n",
      "Nebraska             1           1             1        1          1   \n",
      "North Carolina       1           1             1        1          1   \n",
      "Notre Dame           2           2             2        2          2   \n",
      "Ohio State           2           2             2        2          2   \n",
      "Oklahoma             1           1             1        1          1   \n",
      "Oregon               2           2             2        2          2   \n",
      "Oregon State         1           1             1        1          1   \n",
      "Penn State           2           2             2        2          2   \n",
      "Portland St.         1           1             1        1          1   \n",
      "Regina               1           1             1        1          1   \n",
      "South Carolina       2           2             2        2          2   \n",
      "Southern Miss        1           1             1        1          1   \n",
      "TCU                  1           1             1        1          1   \n",
      "Temple               1           1             1        1          1   \n",
      "Tennessee            2           2             2        2          2   \n",
      "Toledo               1           1             1        1          1   \n",
      "UCLA                 1           1             1        1          1   \n",
      "UL Monroe            1           1             1        1          1   \n",
      "UNLV                 1           1             1        1          1   \n",
      "USC                  3           3             3        3          3   \n",
      "USF                  1           1             1        1          1   \n",
      "Utah                 2           2             2        2          2   \n",
      "Utah State           1           1             1        1          1   \n",
      "Vanderbilt           2           2             2        2          2   \n",
      "Virginia             1           1             1        1          1   \n",
      "Wake Forest          1           1             1        1          1   \n",
      "Washington           2           2             2        2          2   \n",
      "Wisconsin            1           1             1        1          1   \n",
      "Wyoming              1           1             1        1          1   \n",
      "\n",
      "                  Ball Carrier Vision  Block Shedding  Carrying  \\\n",
      "College                                                           \n",
      "Air Force                           1               1         1   \n",
      "Alabama                             1               1         1   \n",
      "Appalach. St.                       1               1         1   \n",
      "Arkansas                            2               2         2   \n",
      "Boise State                         1               1         1   \n",
      "CSU-Pueblo                          1               1         1   \n",
      "California                          3               3         3   \n",
      "Cincinnati                          1               1         1   \n",
      "Colorado St.                        1               1         1   \n",
      "Cornell                             1               1         1   \n",
      "Delaware                            1               1         1   \n",
      "Florida                             3               3         3   \n",
      "Florida State                       2               2         2   \n",
      "Georgia                             2               2         2   \n",
      "Grand Valley St.                    1               1         1   \n",
      "Harvard                             2               2         2   \n",
      "Hobart                              1               1         1   \n",
      "Illinois                            1               1         1   \n",
      "Iowa                                2               2         2   \n",
      "Kansas State                        1               1         1   \n",
      "Louisville                          1               1         1   \n",
      "Miami                               2               2         2   \n",
      "Michigan St.                        1               1         1   \n",
      "Missouri                            3               3         3   \n",
      "Nebraska                            1               1         1   \n",
      "North Carolina                      1               1         1   \n",
      "Notre Dame                          2               2         2   \n",
      "Ohio State                          2               2         2   \n",
      "Oklahoma                            1               1         1   \n",
      "Oregon                              2               2         2   \n",
      "Oregon State                        1               1         1   \n",
      "Penn State                          2               2         2   \n",
      "Portland St.                        1               1         1   \n",
      "Regina                              1               1         1   \n",
      "South Carolina                      2               2         2   \n",
      "Southern Miss                       1               1         1   \n",
      "TCU                                 1               1         1   \n",
      "Temple                              1               1         1   \n",
      "Tennessee                           2               2         2   \n",
      "Toledo                              1               1         1   \n",
      "UCLA                                1               1         1   \n",
      "UL Monroe                           1               1         1   \n",
      "UNLV                                1               1         1   \n",
      "USC                                 3               3         3   \n",
      "USF                                 1               1         1   \n",
      "Utah                                2               2         2   \n",
      "Utah State                          1               1         1   \n",
      "Vanderbilt                          2               2         2   \n",
      "Virginia                            1               1         1   \n",
      "Wake Forest                         1               1         1   \n",
      "Washington                          2               2         2   \n",
      "Wisconsin                           1               1         1   \n",
      "Wyoming                             1               1         1   \n",
      "\n",
      "                  Catch In Traffic  Catching  ...   Toughness  Trucking  \\\n",
      "College                                       ...                         \n",
      "Air Force                        1         1  ...           1         1   \n",
      "Alabama                          1         1  ...           1         1   \n",
      "Appalach. St.                    1         1  ...           1         1   \n",
      "Arkansas                         2         2  ...           2         2   \n",
      "Boise State                      1         1  ...           1         1   \n",
      "CSU-Pueblo                       1         1  ...           1         1   \n",
      "California                       3         3  ...           3         3   \n",
      "Cincinnati                       1         1  ...           1         1   \n",
      "Colorado St.                     1         1  ...           1         1   \n",
      "Cornell                          1         1  ...           1         1   \n",
      "Delaware                         1         1  ...           1         1   \n",
      "Florida                          3         3  ...           3         3   \n",
      "Florida State                    2         2  ...           2         2   \n",
      "Georgia                          2         2  ...           2         2   \n",
      "Grand Valley St.                 1         1  ...           1         1   \n",
      "Harvard                          2         2  ...           2         2   \n",
      "Hobart                           1         1  ...           1         1   \n",
      "Illinois                         1         1  ...           1         1   \n",
      "Iowa                             2         2  ...           2         2   \n",
      "Kansas State                     1         1  ...           1         1   \n",
      "Louisville                       1         1  ...           1         1   \n",
      "Miami                            2         2  ...           2         2   \n",
      "Michigan St.                     1         1  ...           1         1   \n",
      "Missouri                         3         3  ...           3         3   \n",
      "Nebraska                         1         1  ...           1         1   \n",
      "North Carolina                   1         1  ...           1         1   \n",
      "Notre Dame                       2         2  ...           2         2   \n",
      "Ohio State                       2         2  ...           2         2   \n",
      "Oklahoma                         1         1  ...           1         1   \n",
      "Oregon                           2         2  ...           2         2   \n",
      "Oregon State                     1         1  ...           1         1   \n",
      "Penn State                       2         2  ...           2         2   \n",
      "Portland St.                     1         1  ...           1         1   \n",
      "Regina                           1         1  ...           1         1   \n",
      "South Carolina                   2         2  ...           2         2   \n",
      "Southern Miss                    1         1  ...           1         1   \n",
      "TCU                              1         1  ...           1         1   \n",
      "Temple                           1         1  ...           1         1   \n",
      "Tennessee                        2         2  ...           2         2   \n",
      "Toledo                           1         1  ...           1         1   \n",
      "UCLA                             1         1  ...           1         1   \n",
      "UL Monroe                        1         1  ...           1         1   \n",
      "UNLV                             1         1  ...           1         1   \n",
      "USC                              3         3  ...           3         3   \n",
      "USF                              1         1  ...           1         1   \n",
      "Utah                             2         2  ...           2         2   \n",
      "Utah State                       1         1  ...           1         1   \n",
      "Vanderbilt                       2         2  ...           2         2   \n",
      "Virginia                         1         1  ...           1         1   \n",
      "Wake Forest                      1         1  ...           1         1   \n",
      "Washington                       2         2  ...           2         2   \n",
      "Wisconsin                        1         1  ...           1         1   \n",
      "Wyoming                          1         1  ...           1         1   \n",
      "\n",
      "                  Zone Coverage  Wt  Vertical  Bench  Broad Jump  3Cone  \\\n",
      "College                                                                   \n",
      "Air Force                     1   1         1      1           1      1   \n",
      "Alabama                       1   1         1      1           1      1   \n",
      "Appalach. St.                 1   1         1      1           1      1   \n",
      "Arkansas                      2   2         2      2           2      2   \n",
      "Boise State                   1   1         1      1           1      1   \n",
      "CSU-Pueblo                    1   1         1      1           1      1   \n",
      "California                    3   3         3      3           3      3   \n",
      "Cincinnati                    1   1         1      1           1      1   \n",
      "Colorado St.                  1   1         1      1           1      1   \n",
      "Cornell                       1   1         1      1           1      1   \n",
      "Delaware                      1   1         1      1           1      1   \n",
      "Florida                       3   3         3      3           3      3   \n",
      "Florida State                 2   2         2      2           2      2   \n",
      "Georgia                       2   2         2      2           2      2   \n",
      "Grand Valley St.              1   1         1      1           1      1   \n",
      "Harvard                       2   2         2      2           2      2   \n",
      "Hobart                        1   1         1      1           1      1   \n",
      "Illinois                      1   1         1      1           1      1   \n",
      "Iowa                          2   2         2      2           2      2   \n",
      "Kansas State                  1   1         1      1           1      1   \n",
      "Louisville                    1   1         1      1           1      1   \n",
      "Miami                         2   2         2      2           2      2   \n",
      "Michigan St.                  1   1         1      1           1      1   \n",
      "Missouri                      3   3         3      3           3      3   \n",
      "Nebraska                      1   1         1      1           1      1   \n",
      "North Carolina                1   1         1      1           1      1   \n",
      "Notre Dame                    2   2         2      2           2      2   \n",
      "Ohio State                    2   2         2      2           2      2   \n",
      "Oklahoma                      1   1         1      1           1      1   \n",
      "Oregon                        2   2         2      2           2      2   \n",
      "Oregon State                  1   1         1      1           1      1   \n",
      "Penn State                    2   2         2      2           2      2   \n",
      "Portland St.                  1   1         1      1           1      1   \n",
      "Regina                        1   1         1      1           1      1   \n",
      "South Carolina                2   2         2      2           2      2   \n",
      "Southern Miss                 1   1         1      1           1      1   \n",
      "TCU                           1   1         1      1           1      1   \n",
      "Temple                        1   1         1      1           1      1   \n",
      "Tennessee                     2   2         2      2           2      2   \n",
      "Toledo                        1   1         1      1           1      1   \n",
      "UCLA                          1   1         1      1           1      1   \n",
      "UL Monroe                     1   1         1      1           1      1   \n",
      "UNLV                          1   1         1      1           1      1   \n",
      "USC                           3   3         3      3           3      3   \n",
      "USF                           1   1         1      1           1      1   \n",
      "Utah                          2   2         2      2           2      2   \n",
      "Utah State                    1   1         1      1           1      1   \n",
      "Vanderbilt                    2   2         2      2           2      2   \n",
      "Virginia                      1   1         1      1           1      1   \n",
      "Wake Forest                   1   1         1      1           1      1   \n",
      "Washington                    2   2         2      2           2      2   \n",
      "Wisconsin                     1   1         1      1           1      1   \n",
      "Wyoming                       1   1         1      1           1      1   \n",
      "\n",
      "                  Shuttle  40yd  \n",
      "College                          \n",
      "Air Force               1     1  \n",
      "Alabama                 1     1  \n",
      "Appalach. St.           1     1  \n",
      "Arkansas                2     2  \n",
      "Boise State             1     1  \n",
      "CSU-Pueblo              1     1  \n",
      "California              3     3  \n",
      "Cincinnati              1     1  \n",
      "Colorado St.            1     1  \n",
      "Cornell                 1     1  \n",
      "Delaware                1     1  \n",
      "Florida                 3     3  \n",
      "Florida State           2     2  \n",
      "Georgia                 2     2  \n",
      "Grand Valley St.        1     1  \n",
      "Harvard                 2     2  \n",
      "Hobart                  1     1  \n",
      "Illinois                1     1  \n",
      "Iowa                    2     2  \n",
      "Kansas State            1     1  \n",
      "Louisville              1     1  \n",
      "Miami                   2     2  \n",
      "Michigan St.            1     1  \n",
      "Missouri                3     3  \n",
      "Nebraska                1     1  \n",
      "North Carolina          1     1  \n",
      "Notre Dame              2     2  \n",
      "Ohio State              2     2  \n",
      "Oklahoma                1     1  \n",
      "Oregon                  2     2  \n",
      "Oregon State            1     1  \n",
      "Penn State              2     2  \n",
      "Portland St.            1     1  \n",
      "Regina                  1     1  \n",
      "South Carolina          2     2  \n",
      "Southern Miss           1     1  \n",
      "TCU                     1     1  \n",
      "Temple                  1     1  \n",
      "Tennessee               2     2  \n",
      "Toledo                  1     1  \n",
      "UCLA                    1     1  \n",
      "UL Monroe               1     1  \n",
      "UNLV                    1     1  \n",
      "USC                     3     3  \n",
      "USF                     1     1  \n",
      "Utah                    2     2  \n",
      "Utah State              1     1  \n",
      "Vanderbilt              2     2  \n",
      "Virginia                1     1  \n",
      "Wake Forest             1     1  \n",
      "Washington              2     2  \n",
      "Wisconsin               1     1  \n",
      "Wyoming                 1     1  \n",
      "\n",
      "[53 rows x 52 columns]\n"
     ]
    }
   ],
   "source": [
    "print(ccount)"
   ]
  },
  {
   "cell_type": "code",
   "execution_count": 178,
   "metadata": {},
   "outputs": [],
   "source": [
    "csort = ccount.sort_values(by='Unnamed: 0', ascending=False)"
   ]
  },
  {
   "cell_type": "code",
   "execution_count": 179,
   "metadata": {},
   "outputs": [],
   "source": [
    "Ctop10 = csort.head(10)"
   ]
  },
  {
   "cell_type": "code",
   "execution_count": 180,
   "metadata": {},
   "outputs": [
    {
     "name": "stdout",
     "output_type": "stream",
     "text": [
      "College\n",
      "USC               3\n",
      "California        3\n",
      "Missouri          3\n",
      "Florida           3\n",
      "Georgia           2\n",
      "South Carolina    2\n",
      "Oregon            2\n",
      "Ohio State        2\n",
      "Tennessee         2\n",
      "Miami             2\n",
      "Name: Unnamed: 0, dtype: int64\n"
     ]
    }
   ],
   "source": [
    "print(Ctop10['Unnamed: 0'])"
   ]
  },
  {
   "cell_type": "code",
   "execution_count": 181,
   "metadata": {},
   "outputs": [
    {
     "data": {
      "text/plain": [
       "<matplotlib.axes._subplots.AxesSubplot at 0x279f7ed94e0>"
      ]
     },
     "execution_count": 181,
     "metadata": {},
     "output_type": "execute_result"
    },
    {
     "data": {
      "image/png": "[encoded data removed]",
      "text/plain": [
       "<matplotlib.figure.Figure at 0x279f6a89978>"
      ]
     },
     "metadata": {},
     "output_type": "display_data"
    }
   ],
   "source": [
    "Ctop10['Unnamed: 0'].plot.bar()"
   ]
  },
  {
   "cell_type": "code",
   "execution_count": null,
   "metadata": {},
   "outputs": [],
   "source": [
    "###Baylor produces the most centers but do they produce a statistically significant amount more?"
   ]
  },
  {
   "cell_type": "code",
   "execution_count": 183,
   "metadata": {},
   "outputs": [],
   "source": [
    "c_combine = c[['Overall Rating', 'Shuttle', 'Vertical', '3Cone', '40yd',\n",
    "              'Wt', 'Bench', 'Broad Jump']]"
   ]
  },
  {
   "cell_type": "code",
   "execution_count": 184,
   "metadata": {},
   "outputs": [],
   "source": [
    "cmean = np.mean(c_combine)"
   ]
  },
  {
   "cell_type": "code",
   "execution_count": 185,
   "metadata": {},
   "outputs": [
    {
     "name": "stdout",
     "output_type": "stream",
     "text": [
      "Overall Rating     70.924242\n",
      "Shuttle             4.648529\n",
      "Vertical           27.347222\n",
      "3Cone               7.738788\n",
      "40yd                5.233830\n",
      "Wt                307.375000\n",
      "Bench              26.357143\n",
      "Broad Jump        102.400000\n",
      "dtype: float64 Wt            245.146379\n",
      "3Cone          32.408930\n",
      "40yd            4.753919\n",
      "Vertical       32.751722\n",
      "Shuttle         4.378360\n",
      "Bench          20.165241\n",
      "Broad Jump    115.481252\n",
      "dtype: float64 3Cone            -24.670142\n",
      "40yd               0.479911\n",
      "Bench              6.191902\n",
      "Broad Jump       -13.081252\n",
      "Overall Rating          NaN\n",
      "Shuttle            0.270169\n",
      "Vertical          -5.404500\n",
      "Wt                62.228621\n",
      "dtype: float64\n"
     ]
    }
   ],
   "source": [
    "print(cmean, means, (cmean- means))"
   ]
  },
  {
   "cell_type": "code",
   "execution_count": 186,
   "metadata": {},
   "outputs": [
    {
     "data": {
      "text/html": [
       "<div>\n",
       "<style scoped>\n",
       "    .dataframe tbody tr th:only-of-type {\n",
       "        vertical-align: middle;\n",
       "    }\n",
       "\n",
       "    .dataframe tbody tr th {\n",
       "        vertical-align: top;\n",
       "    }\n",
       "\n",
       "    .dataframe thead th {\n",
       "        text-align: right;\n",
       "    }\n",
       "</style>\n",
       "<table border=\"1\" class=\"dataframe\">\n",
       "  <thead>\n",
       "    <tr style=\"text-align: right;\">\n",
       "      <th></th>\n",
       "      <th>Overall Rating</th>\n",
       "      <th>Shuttle</th>\n",
       "      <th>Vertical</th>\n",
       "      <th>3Cone</th>\n",
       "      <th>40yd</th>\n",
       "      <th>Wt</th>\n",
       "      <th>Bench</th>\n",
       "      <th>Broad Jump</th>\n",
       "    </tr>\n",
       "  </thead>\n",
       "  <tbody>\n",
       "    <tr>\n",
       "      <th>Overall Rating</th>\n",
       "      <td>1.000000</td>\n",
       "      <td>0.028220</td>\n",
       "      <td>0.077537</td>\n",
       "      <td>0.006653</td>\n",
       "      <td>-0.063129</td>\n",
       "      <td>0.004851</td>\n",
       "      <td>0.030990</td>\n",
       "      <td>0.114503</td>\n",
       "    </tr>\n",
       "    <tr>\n",
       "      <th>Shuttle</th>\n",
       "      <td>0.028220</td>\n",
       "      <td>1.000000</td>\n",
       "      <td>-0.131217</td>\n",
       "      <td>0.546306</td>\n",
       "      <td>0.109699</td>\n",
       "      <td>0.231798</td>\n",
       "      <td>0.092648</td>\n",
       "      <td>-0.190575</td>\n",
       "    </tr>\n",
       "    <tr>\n",
       "      <th>Vertical</th>\n",
       "      <td>0.077537</td>\n",
       "      <td>-0.131217</td>\n",
       "      <td>1.000000</td>\n",
       "      <td>-0.224431</td>\n",
       "      <td>-0.149200</td>\n",
       "      <td>0.001415</td>\n",
       "      <td>0.214336</td>\n",
       "      <td>0.411170</td>\n",
       "    </tr>\n",
       "    <tr>\n",
       "      <th>3Cone</th>\n",
       "      <td>0.006653</td>\n",
       "      <td>0.546306</td>\n",
       "      <td>-0.224431</td>\n",
       "      <td>1.000000</td>\n",
       "      <td>0.170684</td>\n",
       "      <td>0.251497</td>\n",
       "      <td>0.223517</td>\n",
       "      <td>-0.145888</td>\n",
       "    </tr>\n",
       "    <tr>\n",
       "      <th>40yd</th>\n",
       "      <td>-0.063129</td>\n",
       "      <td>0.109699</td>\n",
       "      <td>-0.149200</td>\n",
       "      <td>0.170684</td>\n",
       "      <td>1.000000</td>\n",
       "      <td>0.224365</td>\n",
       "      <td>-0.101293</td>\n",
       "      <td>-0.558538</td>\n",
       "    </tr>\n",
       "    <tr>\n",
       "      <th>Wt</th>\n",
       "      <td>0.004851</td>\n",
       "      <td>0.231798</td>\n",
       "      <td>0.001415</td>\n",
       "      <td>0.251497</td>\n",
       "      <td>0.224365</td>\n",
       "      <td>1.000000</td>\n",
       "      <td>-0.057873</td>\n",
       "      <td>-0.221715</td>\n",
       "    </tr>\n",
       "    <tr>\n",
       "      <th>Bench</th>\n",
       "      <td>0.030990</td>\n",
       "      <td>0.092648</td>\n",
       "      <td>0.214336</td>\n",
       "      <td>0.223517</td>\n",
       "      <td>-0.101293</td>\n",
       "      <td>-0.057873</td>\n",
       "      <td>1.000000</td>\n",
       "      <td>0.157731</td>\n",
       "    </tr>\n",
       "    <tr>\n",
       "      <th>Broad Jump</th>\n",
       "      <td>0.114503</td>\n",
       "      <td>-0.190575</td>\n",
       "      <td>0.411170</td>\n",
       "      <td>-0.145888</td>\n",
       "      <td>-0.558538</td>\n",
       "      <td>-0.221715</td>\n",
       "      <td>0.157731</td>\n",
       "      <td>1.000000</td>\n",
       "    </tr>\n",
       "  </tbody>\n",
       "</table>\n",
       "</div>"
      ],
      "text/plain": [
       "                Overall Rating   Shuttle  Vertical     3Cone      40yd  \\\n",
       "Overall Rating        1.000000  0.028220  0.077537  0.006653 -0.063129   \n",
       "Shuttle               0.028220  1.000000 -0.131217  0.546306  0.109699   \n",
       "Vertical              0.077537 -0.131217  1.000000 -0.224431 -0.149200   \n",
       "3Cone                 0.006653  0.546306 -0.224431  1.000000  0.170684   \n",
       "40yd                 -0.063129  0.109699 -0.149200  0.170684  1.000000   \n",
       "Wt                    0.004851  0.231798  0.001415  0.251497  0.224365   \n",
       "Bench                 0.030990  0.092648  0.214336  0.223517 -0.101293   \n",
       "Broad Jump            0.114503 -0.190575  0.411170 -0.145888 -0.558538   \n",
       "\n",
       "                      Wt     Bench  Broad Jump  \n",
       "Overall Rating  0.004851  0.030990    0.114503  \n",
       "Shuttle         0.231798  0.092648   -0.190575  \n",
       "Vertical        0.001415  0.214336    0.411170  \n",
       "3Cone           0.251497  0.223517   -0.145888  \n",
       "40yd            0.224365 -0.101293   -0.558538  \n",
       "Wt              1.000000 -0.057873   -0.221715  \n",
       "Bench          -0.057873  1.000000    0.157731  \n",
       "Broad Jump     -0.221715  0.157731    1.000000  "
      ]
     },
     "execution_count": 186,
     "metadata": {},
     "output_type": "execute_result"
    }
   ],
   "source": [
    "c_combine.corr()"
   ]
  },
  {
   "cell_type": "code",
   "execution_count": 169,
   "metadata": {},
   "outputs": [],
   "source": [
    "#Left Tackle"
   ]
  },
  {
   "cell_type": "code",
   "execution_count": 188,
   "metadata": {},
   "outputs": [],
   "source": [
    "lt = mcfd[mcfd['Position'] == 'LT']"
   ]
  },
  {
   "cell_type": "code",
   "execution_count": 189,
   "metadata": {},
   "outputs": [],
   "source": [
    "ltcount = lt.groupby('College').count()"
   ]
  },
  {
   "cell_type": "code",
   "execution_count": 190,
   "metadata": {},
   "outputs": [
    {
     "name": "stdout",
     "output_type": "stream",
     "text": [
      "                    Name  Unnamed: 0  Acceleration  Agility  Awareness  \\\n",
      "College                                                                  \n",
      "Alabama                2           2             2        2          2   \n",
      "Appalach. St.          1           1             1        1          1   \n",
      "Arkansas               2           2             2        2          2   \n",
      "Arkansas P.B.          1           1             1        1          1   \n",
      "Army                   1           1             1        1          1   \n",
      "Auburn                 2           2             2        2          2   \n",
      "Bloomsburg             1           1             1        1          1   \n",
      "Boise State            1           1             1        1          1   \n",
      "Boston College         2           2             2        2          2   \n",
      "Central Michigan       2           2             2        2          2   \n",
      "Cincinnati             2           2             2        2          2   \n",
      "Colorado               3           3             3        3          3   \n",
      "Eastern Wash.          2           2             2        2          2   \n",
      "Florida                2           2             2        2          2   \n",
      "Florida State          1           1             1        1          1   \n",
      "Georgia                1           1             1        1          1   \n",
      "Indiana                1           1             1        1          1   \n",
      "Iowa                   1           1             1        1          1   \n",
      "LSU                    2           2             2        2          2   \n",
      "Louisiana College      1           1             1        1          1   \n",
      "Memphis                1           1             1        1          1   \n",
      "Miami                  1           1             1        1          1   \n",
      "Michigan               1           1             1        1          1   \n",
      "Michigan St.           1           1             1        1          1   \n",
      "Mississippi St.        1           1             1        1          1   \n",
      "Missouri W State       1           1             1        1          1   \n",
      "Nebraska               1           1             1        1          1   \n",
      "Northeastern St.       1           1             1        1          1   \n",
      "Northwestern State     1           1             1        1          1   \n",
      "Notre Dame             1           1             1        1          1   \n",
      "Ohio State             2           2             2        2          2   \n",
      "Oklahoma               2           2             2        2          2   \n",
      "Oklahoma St.           1           1             1        1          1   \n",
      "Ole Miss               3           3             3        3          3   \n",
      "Penn State             1           1             1        1          1   \n",
      "Pittsburgh             2           2             2        2          2   \n",
      "Purdue                 1           1             1        1          1   \n",
      "S. Dakota St.          1           1             1        1          1   \n",
      "S.C. State             1           1             1        1          1   \n",
      "SMU                    1           1             1        1          1   \n",
      "South Carolina         1           1             1        1          1   \n",
      "Southern Miss          1           1             1        1          1   \n",
      "Texas AM               2           2             2        2          2   \n",
      "Texas State            1           1             1        1          1   \n",
      "Texas Tech             1           1             1        1          1   \n",
      "Troy                   1           1             1        1          1   \n",
      "UAB                    1           1             1        1          1   \n",
      "USC                    3           3             3        3          3   \n",
      "Utah                   1           1             1        1          1   \n",
      "Utah State             1           1             1        1          1   \n",
      "Vanderbilt             1           1             1        1          1   \n",
      "Villanova              1           1             1        1          1   \n",
      "Virginia Tech          2           2             2        2          2   \n",
      "W. Kentucky            1           1             1        1          1   \n",
      "Wisconsin              1           1             1        1          1   \n",
      "\n",
      "                    Ball Carrier Vision  Block Shedding  Carrying  \\\n",
      "College                                                             \n",
      "Alabama                               2               2         2   \n",
      "Appalach. St.                         1               1         1   \n",
      "Arkansas                              2               2         2   \n",
      "Arkansas P.B.                         1               1         1   \n",
      "Army                                  1               1         1   \n",
      "Auburn                                2               2         2   \n",
      "Bloomsburg                            1               1         1   \n",
      "Boise State                           1               1         1   \n",
      "Boston College                        2               2         2   \n",
      "Central Michigan                      2               2         2   \n",
      "Cincinnati                            2               2         2   \n",
      "Colorado                              3               3         3   \n",
      "Eastern Wash.                         2               2         2   \n",
      "Florida                               2               2         2   \n",
      "Florida State                         1               1         1   \n",
      "Georgia                               1               1         1   \n",
      "Indiana                               1               1         1   \n",
      "Iowa                                  1               1         1   \n",
      "LSU                                   2               2         2   \n",
      "Louisiana College                     1               1         1   \n",
      "Memphis                               1               1         1   \n",
      "Miami                                 1               1         1   \n",
      "Michigan                              1               1         1   \n",
      "Michigan St.                          1               1         1   \n",
      "Mississippi St.                       1               1         1   \n",
      "Missouri W State                      1               1         1   \n",
      "Nebraska                              1               1         1   \n",
      "Northeastern St.                      1               1         1   \n",
      "Northwestern State                    1               1         1   \n",
      "Notre Dame                            1               1         1   \n",
      "Ohio State                            2               2         2   \n",
      "Oklahoma                              2               2         2   \n",
      "Oklahoma St.                          1               1         1   \n",
      "Ole Miss                              3               3         3   \n",
      "Penn State                            1               1         1   \n",
      "Pittsburgh                            2               2         2   \n",
      "Purdue                                1               1         1   \n",
      "S. Dakota St.                         1               1         1   \n",
      "S.C. State                            1               1         1   \n",
      "SMU                                   1               1         1   \n",
      "South Carolina                        1               1         1   \n",
      "Southern Miss                         1               1         1   \n",
      "Texas AM                              2               2         2   \n",
      "Texas State                           1               1         1   \n",
      "Texas Tech                            1               1         1   \n",
      "Troy                                  1               1         1   \n",
      "UAB                                   1               1         1   \n",
      "USC                                   3               3         3   \n",
      "Utah                                  1               1         1   \n",
      "Utah State                            1               1         1   \n",
      "Vanderbilt                            1               1         1   \n",
      "Villanova                             1               1         1   \n",
      "Virginia Tech                         2               2         2   \n",
      "W. Kentucky                           1               1         1   \n",
      "Wisconsin                             1               1         1   \n",
      "\n",
      "                    Catch In Traffic  Catching  ...   Toughness  Trucking  \\\n",
      "College                                         ...                         \n",
      "Alabama                            2         2  ...           2         2   \n",
      "Appalach. St.                      1         1  ...           1         1   \n",
      "Arkansas                           2         2  ...           2         2   \n",
      "Arkansas P.B.                      1         1  ...           1         1   \n",
      "Army                               1         1  ...           1         1   \n",
      "Auburn                             2         2  ...           2         2   \n",
      "Bloomsburg                         1         1  ...           1         1   \n",
      "Boise State                        1         1  ...           1         1   \n",
      "Boston College                     2         2  ...           2         2   \n",
      "Central Michigan                   2         2  ...           2         2   \n",
      "Cincinnati                         2         2  ...           2         2   \n",
      "Colorado                           3         3  ...           3         3   \n",
      "Eastern Wash.                      2         2  ...           2         2   \n",
      "Florida                            2         2  ...           2         2   \n",
      "Florida State                      1         1  ...           1         1   \n",
      "Georgia                            1         1  ...           1         1   \n",
      "Indiana                            1         1  ...           1         1   \n",
      "Iowa                               1         1  ...           1         1   \n",
      "LSU                                2         2  ...           2         2   \n",
      "Louisiana College                  1         1  ...           1         1   \n",
      "Memphis                            1         1  ...           1         1   \n",
      "Miami                              1         1  ...           1         1   \n",
      "Michigan                           1         1  ...           1         1   \n",
      "Michigan St.                       1         1  ...           1         1   \n",
      "Mississippi St.                    1         1  ...           1         1   \n",
      "Missouri W State                   1         1  ...           1         1   \n",
      "Nebraska                           1         1  ...           1         1   \n",
      "Northeastern St.                   1         1  ...           1         1   \n",
      "Northwestern State                 1         1  ...           1         1   \n",
      "Notre Dame                         1         1  ...           1         1   \n",
      "Ohio State                         2         2  ...           2         2   \n",
      "Oklahoma                           2         2  ...           2         2   \n",
      "Oklahoma St.                       1         1  ...           1         1   \n",
      "Ole Miss                           3         3  ...           3         3   \n",
      "Penn State                         1         1  ...           1         1   \n",
      "Pittsburgh                         2         2  ...           2         2   \n",
      "Purdue                             1         1  ...           1         1   \n",
      "S. Dakota St.                      1         1  ...           1         1   \n",
      "S.C. State                         1         1  ...           1         1   \n",
      "SMU                                1         1  ...           1         1   \n",
      "South Carolina                     1         1  ...           1         1   \n",
      "Southern Miss                      1         1  ...           1         1   \n",
      "Texas AM                           2         2  ...           2         2   \n",
      "Texas State                        1         1  ...           1         1   \n",
      "Texas Tech                         1         1  ...           1         1   \n",
      "Troy                               1         1  ...           1         1   \n",
      "UAB                                1         1  ...           1         1   \n",
      "USC                                3         3  ...           3         3   \n",
      "Utah                               1         1  ...           1         1   \n",
      "Utah State                         1         1  ...           1         1   \n",
      "Vanderbilt                         1         1  ...           1         1   \n",
      "Villanova                          1         1  ...           1         1   \n",
      "Virginia Tech                      2         2  ...           2         2   \n",
      "W. Kentucky                        1         1  ...           1         1   \n",
      "Wisconsin                          1         1  ...           1         1   \n",
      "\n",
      "                    Zone Coverage  Wt  Vertical  Bench  Broad Jump  3Cone  \\\n",
      "College                                                                     \n",
      "Alabama                         2   2         2      2           2      2   \n",
      "Appalach. St.                   1   1         1      1           1      1   \n",
      "Arkansas                        2   2         2      2           2      2   \n",
      "Arkansas P.B.                   1   1         1      1           1      1   \n",
      "Army                            1   1         1      1           1      1   \n",
      "Auburn                          2   2         2      2           2      2   \n",
      "Bloomsburg                      1   1         1      1           1      1   \n",
      "Boise State                     1   1         1      1           1      1   \n",
      "Boston College                  2   2         2      2           2      2   \n",
      "Central Michigan                2   2         2      2           2      2   \n",
      "Cincinnati                      2   2         2      2           2      2   \n",
      "Colorado                        3   3         3      3           3      3   \n",
      "Eastern Wash.                   2   2         2      2           2      2   \n",
      "Florida                         2   2         2      2           2      2   \n",
      "Florida State                   1   1         1      1           1      1   \n",
      "Georgia                         1   1         1      1           1      1   \n",
      "Indiana                         1   1         1      1           1      1   \n",
      "Iowa                            1   1         1      1           1      1   \n",
      "LSU                             2   2         2      2           2      2   \n",
      "Louisiana College               1   1         1      1           1      1   \n",
      "Memphis                         1   1         1      1           1      1   \n",
      "Miami                           1   1         1      1           1      1   \n",
      "Michigan                        1   1         1      1           1      1   \n",
      "Michigan St.                    1   1         1      1           1      1   \n",
      "Mississippi St.                 1   1         1      1           1      1   \n",
      "Missouri W State                1   1         1      1           1      1   \n",
      "Nebraska                        1   1         1      1           1      1   \n",
      "Northeastern St.                1   1         1      1           1      1   \n",
      "Northwestern State              1   1         1      1           1      1   \n",
      "Notre Dame                      1   1         1      1           1      1   \n",
      "Ohio State                      2   2         2      2           2      2   \n",
      "Oklahoma                        2   2         2      2           2      2   \n",
      "Oklahoma St.                    1   1         1      1           1      1   \n",
      "Ole Miss                        3   3         3      3           3      3   \n",
      "Penn State                      1   1         1      1           1      1   \n",
      "Pittsburgh                      2   2         2      2           2      2   \n",
      "Purdue                          1   1         1      1           1      1   \n",
      "S. Dakota St.                   1   1         1      1           1      1   \n",
      "S.C. State                      1   1         1      1           1      1   \n",
      "SMU                             1   1         1      1           1      1   \n",
      "South Carolina                  1   1         1      1           1      1   \n",
      "Southern Miss                   1   1         1      1           1      1   \n",
      "Texas AM                        2   2         2      2           2      2   \n",
      "Texas State                     1   1         1      1           1      1   \n",
      "Texas Tech                      1   1         1      1           1      1   \n",
      "Troy                            1   1         1      1           1      1   \n",
      "UAB                             1   1         1      1           1      1   \n",
      "USC                             3   3         3      3           3      3   \n",
      "Utah                            1   1         1      1           1      1   \n",
      "Utah State                      1   1         1      1           1      1   \n",
      "Vanderbilt                      1   1         1      1           1      1   \n",
      "Villanova                       1   1         1      1           1      1   \n",
      "Virginia Tech                   2   2         2      2           2      2   \n",
      "W. Kentucky                     1   1         1      1           1      1   \n",
      "Wisconsin                       1   1         1      1           1      1   \n",
      "\n",
      "                    Shuttle  40yd  \n",
      "College                            \n",
      "Alabama                   2     2  \n",
      "Appalach. St.             1     1  \n",
      "Arkansas                  2     2  \n",
      "Arkansas P.B.             1     1  \n",
      "Army                      1     1  \n",
      "Auburn                    2     2  \n",
      "Bloomsburg                1     1  \n",
      "Boise State               1     1  \n",
      "Boston College            2     2  \n",
      "Central Michigan          2     2  \n",
      "Cincinnati                2     2  \n",
      "Colorado                  3     3  \n",
      "Eastern Wash.             2     2  \n",
      "Florida                   2     2  \n",
      "Florida State             1     1  \n",
      "Georgia                   1     1  \n",
      "Indiana                   1     1  \n",
      "Iowa                      1     1  \n",
      "LSU                       2     2  \n",
      "Louisiana College         1     1  \n",
      "Memphis                   1     1  \n",
      "Miami                     1     1  \n",
      "Michigan                  1     1  \n",
      "Michigan St.              1     1  \n",
      "Mississippi St.           1     1  \n",
      "Missouri W State          1     1  \n",
      "Nebraska                  1     1  \n",
      "Northeastern St.          1     1  \n",
      "Northwestern State        1     1  \n",
      "Notre Dame                1     1  \n",
      "Ohio State                2     2  \n",
      "Oklahoma                  2     2  \n",
      "Oklahoma St.              1     1  \n",
      "Ole Miss                  3     3  \n",
      "Penn State                1     1  \n",
      "Pittsburgh                2     2  \n",
      "Purdue                    1     1  \n",
      "S. Dakota St.             1     1  \n",
      "S.C. State                1     1  \n",
      "SMU                       1     1  \n",
      "South Carolina            1     1  \n",
      "Southern Miss             1     1  \n",
      "Texas AM                  2     2  \n",
      "Texas State               1     1  \n",
      "Texas Tech                1     1  \n",
      "Troy                      1     1  \n",
      "UAB                       1     1  \n",
      "USC                       3     3  \n",
      "Utah                      1     1  \n",
      "Utah State                1     1  \n",
      "Vanderbilt                1     1  \n",
      "Villanova                 1     1  \n",
      "Virginia Tech             2     2  \n",
      "W. Kentucky               1     1  \n",
      "Wisconsin                 1     1  \n",
      "\n",
      "[55 rows x 52 columns]\n"
     ]
    }
   ],
   "source": [
    "print(ltcount)"
   ]
  },
  {
   "cell_type": "code",
   "execution_count": 191,
   "metadata": {},
   "outputs": [],
   "source": [
    "ltsort = ltcount.sort_values('Unnamed: 0', ascending=False)"
   ]
  },
  {
   "cell_type": "code",
   "execution_count": 192,
   "metadata": {},
   "outputs": [],
   "source": [
    "lttop10 = ltsort.head(10)"
   ]
  },
  {
   "cell_type": "code",
   "execution_count": 193,
   "metadata": {},
   "outputs": [
    {
     "name": "stdout",
     "output_type": "stream",
     "text": [
      "College\n",
      "USC              3\n",
      "Colorado         3\n",
      "Ole Miss         3\n",
      "Oklahoma         2\n",
      "Ohio State       2\n",
      "Pittsburgh       2\n",
      "Texas AM         2\n",
      "LSU              2\n",
      "Florida          2\n",
      "Eastern Wash.    2\n",
      "Name: Unnamed: 0, dtype: int64\n"
     ]
    }
   ],
   "source": [
    "print(lttop10['Unnamed: 0'])"
   ]
  },
  {
   "cell_type": "code",
   "execution_count": 194,
   "metadata": {},
   "outputs": [
    {
     "data": {
      "text/plain": [
       "<matplotlib.axes._subplots.AxesSubplot at 0x279f7f640f0>"
      ]
     },
     "execution_count": 194,
     "metadata": {},
     "output_type": "execute_result"
    },
    {
     "data": {
      "image/png": "[encoded data removed]",
      "text/plain": [
       "<matplotlib.figure.Figure at 0x279f7f4a550>"
      ]
     },
     "metadata": {},
     "output_type": "display_data"
    }
   ],
   "source": [
    "lttop10['Unnamed: 0'].plot.bar()"
   ]
  },
  {
   "cell_type": "code",
   "execution_count": null,
   "metadata": {},
   "outputs": [],
   "source": []
  },
  {
   "cell_type": "code",
   "execution_count": 198,
   "metadata": {},
   "outputs": [],
   "source": [
    "ltmeans = np.mean(lt[['Wt', 'Vertical', 'Bench', 'Broad Jump', '3Cone', 'Shuttle']])"
   ]
  },
  {
   "cell_type": "code",
   "execution_count": 199,
   "metadata": {},
   "outputs": [
    {
     "name": "stdout",
     "output_type": "stream",
     "text": [
      "Wt            314.041667\n",
      "Vertical       28.262500\n",
      "Bench          25.731707\n",
      "Broad Jump    105.027027\n",
      "3Cone           7.818718\n",
      "Shuttle         4.753500\n",
      "dtype: float64 Wt            245.146379\n",
      "3Cone          32.408930\n",
      "40yd            4.753919\n",
      "Vertical       32.751722\n",
      "Shuttle         4.378360\n",
      "Bench          20.165241\n",
      "Broad Jump    115.481252\n",
      "dtype: float64 3Cone        -24.590212\n",
      "40yd                NaN\n",
      "Bench          5.566467\n",
      "Broad Jump   -10.454225\n",
      "Shuttle        0.375140\n",
      "Vertical      -4.489222\n",
      "Wt            68.895288\n",
      "dtype: float64 3Cone             0.079930\n",
      "40yd                   NaN\n",
      "Bench            -0.625436\n",
      "Broad Jump        2.627027\n",
      "Overall Rating         NaN\n",
      "Shuttle           0.104971\n",
      "Vertical          0.915278\n",
      "Wt                6.666667\n",
      "dtype: float64\n"
     ]
    }
   ],
   "source": [
    "print(ltmeans, means, (ltmeans - means), (ltmeans - cmean))"
   ]
  },
  {
   "cell_type": "code",
   "execution_count": 201,
   "metadata": {},
   "outputs": [],
   "source": [
    "ltcorr = lt[['Overall Rating','Wt', 'Vertical', 'Bench', 'Broad Jump', '3Cone', 'Shuttle']].corr()"
   ]
  },
  {
   "cell_type": "code",
   "execution_count": 410,
   "metadata": {},
   "outputs": [
    {
     "data": {
      "text/html": [
       "<div>\n",
       "<style scoped>\n",
       "    .dataframe tbody tr th:only-of-type {\n",
       "        vertical-align: middle;\n",
       "    }\n",
       "\n",
       "    .dataframe tbody tr th {\n",
       "        vertical-align: top;\n",
       "    }\n",
       "\n",
       "    .dataframe thead th {\n",
       "        text-align: right;\n",
       "    }\n",
       "</style>\n",
       "<table border=\"1\" class=\"dataframe\">\n",
       "  <thead>\n",
       "    <tr style=\"text-align: right;\">\n",
       "      <th></th>\n",
       "      <th>Overall Rating_x</th>\n",
       "      <th>Wt</th>\n",
       "      <th>Vertical</th>\n",
       "      <th>Bench</th>\n",
       "      <th>Broad Jump</th>\n",
       "      <th>3Cone</th>\n",
       "      <th>Shuttle</th>\n",
       "    </tr>\n",
       "  </thead>\n",
       "  <tbody>\n",
       "    <tr>\n",
       "      <th>Overall Rating_x</th>\n",
       "      <td>1.000000</td>\n",
       "      <td>-0.170740</td>\n",
       "      <td>0.068166</td>\n",
       "      <td>0.171809</td>\n",
       "      <td>0.061955</td>\n",
       "      <td>-0.430611</td>\n",
       "      <td>-0.288036</td>\n",
       "    </tr>\n",
       "    <tr>\n",
       "      <th>Wt</th>\n",
       "      <td>-0.170740</td>\n",
       "      <td>1.000000</td>\n",
       "      <td>-0.535688</td>\n",
       "      <td>0.168383</td>\n",
       "      <td>-0.416034</td>\n",
       "      <td>0.547605</td>\n",
       "      <td>0.520038</td>\n",
       "    </tr>\n",
       "    <tr>\n",
       "      <th>Vertical</th>\n",
       "      <td>0.068166</td>\n",
       "      <td>-0.535688</td>\n",
       "      <td>1.000000</td>\n",
       "      <td>0.122125</td>\n",
       "      <td>0.725586</td>\n",
       "      <td>-0.499450</td>\n",
       "      <td>-0.501802</td>\n",
       "    </tr>\n",
       "    <tr>\n",
       "      <th>Bench</th>\n",
       "      <td>0.171809</td>\n",
       "      <td>0.168383</td>\n",
       "      <td>0.122125</td>\n",
       "      <td>1.000000</td>\n",
       "      <td>0.349046</td>\n",
       "      <td>-0.015486</td>\n",
       "      <td>-0.071265</td>\n",
       "    </tr>\n",
       "    <tr>\n",
       "      <th>Broad Jump</th>\n",
       "      <td>0.061955</td>\n",
       "      <td>-0.416034</td>\n",
       "      <td>0.725586</td>\n",
       "      <td>0.349046</td>\n",
       "      <td>1.000000</td>\n",
       "      <td>-0.585330</td>\n",
       "      <td>-0.643456</td>\n",
       "    </tr>\n",
       "    <tr>\n",
       "      <th>3Cone</th>\n",
       "      <td>-0.430611</td>\n",
       "      <td>0.547605</td>\n",
       "      <td>-0.499450</td>\n",
       "      <td>-0.015486</td>\n",
       "      <td>-0.585330</td>\n",
       "      <td>1.000000</td>\n",
       "      <td>0.806800</td>\n",
       "    </tr>\n",
       "    <tr>\n",
       "      <th>Shuttle</th>\n",
       "      <td>-0.288036</td>\n",
       "      <td>0.520038</td>\n",
       "      <td>-0.501802</td>\n",
       "      <td>-0.071265</td>\n",
       "      <td>-0.643456</td>\n",
       "      <td>0.806800</td>\n",
       "      <td>1.000000</td>\n",
       "    </tr>\n",
       "  </tbody>\n",
       "</table>\n",
       "</div>"
      ],
      "text/plain": [
       "                  Overall Rating_x        Wt  Vertical     Bench  Broad Jump  \\\n",
       "Overall Rating_x          1.000000 -0.170740  0.068166  0.171809    0.061955   \n",
       "Wt                       -0.170740  1.000000 -0.535688  0.168383   -0.416034   \n",
       "Vertical                  0.068166 -0.535688  1.000000  0.122125    0.725586   \n",
       "Bench                     0.171809  0.168383  0.122125  1.000000    0.349046   \n",
       "Broad Jump                0.061955 -0.416034  0.725586  0.349046    1.000000   \n",
       "3Cone                    -0.430611  0.547605 -0.499450 -0.015486   -0.585330   \n",
       "Shuttle                  -0.288036  0.520038 -0.501802 -0.071265   -0.643456   \n",
       "\n",
       "                     3Cone   Shuttle  \n",
       "Overall Rating_x -0.430611 -0.288036  \n",
       "Wt                0.547605  0.520038  \n",
       "Vertical         -0.499450 -0.501802  \n",
       "Bench            -0.015486 -0.071265  \n",
       "Broad Jump       -0.585330 -0.643456  \n",
       "3Cone             1.000000  0.806800  \n",
       "Shuttle           0.806800  1.000000  "
      ]
     },
     "execution_count": 410,
     "metadata": {},
     "output_type": "execute_result"
    }
   ],
   "source": [
    "ltcorr"
   ]
  },
  {
   "cell_type": "code",
   "execution_count": null,
   "metadata": {},
   "outputs": [],
   "source": [
    "###3Cone seems to be very important as well as the shuttle.  I expected Bench to be more strongly correlated"
   ]
  },
  {
   "cell_type": "code",
   "execution_count": null,
   "metadata": {},
   "outputs": [],
   "source": [
    "#Left Guard"
   ]
  },
  {
   "cell_type": "code",
   "execution_count": 202,
   "metadata": {},
   "outputs": [],
   "source": [
    "lg = mcfd[mcfd['Position'] == 'LG']"
   ]
  },
  {
   "cell_type": "code",
   "execution_count": 203,
   "metadata": {},
   "outputs": [],
   "source": [
    "lgcount = lg.groupby('College').count()"
   ]
  },
  {
   "cell_type": "code",
   "execution_count": 204,
   "metadata": {},
   "outputs": [],
   "source": [
    "lgsort = lgcount.sort_values('Unnamed: 0', ascending = False)"
   ]
  },
  {
   "cell_type": "code",
   "execution_count": 205,
   "metadata": {},
   "outputs": [],
   "source": [
    "lgtop10 = lgsort.head(10)"
   ]
  },
  {
   "cell_type": "code",
   "execution_count": 206,
   "metadata": {},
   "outputs": [
    {
     "name": "stdout",
     "output_type": "stream",
     "text": [
      "College\n",
      "Alabama          4\n",
      "West Virginia    3\n",
      "Nebraska         3\n",
      "Ohio State       3\n",
      "Oregon State     3\n",
      "Stanford         2\n",
      "Arizona St.      2\n",
      "Michigan         2\n",
      "Purdue           2\n",
      "N.C. State       2\n",
      "Name: Unnamed: 0, dtype: int64\n"
     ]
    }
   ],
   "source": [
    "print(lgtop10['Unnamed: 0'])"
   ]
  },
  {
   "cell_type": "code",
   "execution_count": 207,
   "metadata": {},
   "outputs": [
    {
     "data": {
      "text/plain": [
       "<matplotlib.axes._subplots.AxesSubplot at 0x279f7fdbc50>"
      ]
     },
     "execution_count": 207,
     "metadata": {},
     "output_type": "execute_result"
    },
    {
     "data": {
      "image/png": "[encoded data removed]",
      "text/plain": [
       "<matplotlib.figure.Figure at 0x279f7f436d8>"
      ]
     },
     "metadata": {},
     "output_type": "display_data"
    }
   ],
   "source": [
    "lgtop10['Unnamed: 0'].plot.bar()"
   ]
  },
  {
   "cell_type": "code",
   "execution_count": 208,
   "metadata": {},
   "outputs": [],
   "source": [
    "lgmeans = np.mean(lg[['Wt', 'Vertical', 'Bench', 'Broad Jump', '3Cone', 'Shuttle', '40yd']])"
   ]
  },
  {
   "cell_type": "code",
   "execution_count": 209,
   "metadata": {},
   "outputs": [
    {
     "name": "stdout",
     "output_type": "stream",
     "text": [
      "Wt            312.436364\n",
      "Vertical       27.702128\n",
      "Bench          26.707317\n",
      "Broad Jump    103.145833\n",
      "3Cone           7.792826\n",
      "Shuttle         4.710213\n",
      "40yd            5.225091\n",
      "dtype: float64 3Cone             0.054038\n",
      "40yd             -0.008739\n",
      "Bench             0.350174\n",
      "Broad Jump        0.745833\n",
      "Overall Rating         NaN\n",
      "Shuttle           0.061683\n",
      "Vertical          0.354905\n",
      "Wt                5.061364\n",
      "dtype: float64 3Cone        -0.025892\n",
      "40yd               NaN\n",
      "Bench         0.975610\n",
      "Broad Jump   -1.881194\n",
      "Shuttle      -0.043287\n",
      "Vertical     -0.560372\n",
      "Wt           -1.605303\n",
      "dtype: float64\n"
     ]
    }
   ],
   "source": [
    "print(lgmeans, (lgmeans-cmean), lgmeans - ltmeans)"
   ]
  },
  {
   "cell_type": "code",
   "execution_count": null,
   "metadata": {},
   "outputs": [],
   "source": [
    "###Looks like they have stronger upper bodies and weaker lower bodies than left tackles"
   ]
  },
  {
   "cell_type": "code",
   "execution_count": 211,
   "metadata": {},
   "outputs": [],
   "source": [
    "lgcorr = lg[['Overall Rating', 'Wt', 'Vertical', 'Bench', 'Broad Jump', '3Cone', 'Shuttle', '40yd']].corr()"
   ]
  },
  {
   "cell_type": "code",
   "execution_count": 212,
   "metadata": {},
   "outputs": [
    {
     "data": {
      "text/html": [
       "<div>\n",
       "<style scoped>\n",
       "    .dataframe tbody tr th:only-of-type {\n",
       "        vertical-align: middle;\n",
       "    }\n",
       "\n",
       "    .dataframe tbody tr th {\n",
       "        vertical-align: top;\n",
       "    }\n",
       "\n",
       "    .dataframe thead th {\n",
       "        text-align: right;\n",
       "    }\n",
       "</style>\n",
       "<table border=\"1\" class=\"dataframe\">\n",
       "  <thead>\n",
       "    <tr style=\"text-align: right;\">\n",
       "      <th></th>\n",
       "      <th>Overall Rating</th>\n",
       "      <th>Wt</th>\n",
       "      <th>Vertical</th>\n",
       "      <th>Bench</th>\n",
       "      <th>Broad Jump</th>\n",
       "      <th>3Cone</th>\n",
       "      <th>Shuttle</th>\n",
       "      <th>40yd</th>\n",
       "    </tr>\n",
       "  </thead>\n",
       "  <tbody>\n",
       "    <tr>\n",
       "      <th>Overall Rating</th>\n",
       "      <td>1.000000</td>\n",
       "      <td>0.045560</td>\n",
       "      <td>0.047482</td>\n",
       "      <td>0.131425</td>\n",
       "      <td>0.210247</td>\n",
       "      <td>-0.146582</td>\n",
       "      <td>-0.084781</td>\n",
       "      <td>-0.166067</td>\n",
       "    </tr>\n",
       "    <tr>\n",
       "      <th>Wt</th>\n",
       "      <td>0.045560</td>\n",
       "      <td>1.000000</td>\n",
       "      <td>-0.233177</td>\n",
       "      <td>0.207237</td>\n",
       "      <td>-0.376003</td>\n",
       "      <td>0.212102</td>\n",
       "      <td>0.366052</td>\n",
       "      <td>0.402181</td>\n",
       "    </tr>\n",
       "    <tr>\n",
       "      <th>Vertical</th>\n",
       "      <td>0.047482</td>\n",
       "      <td>-0.233177</td>\n",
       "      <td>1.000000</td>\n",
       "      <td>0.108846</td>\n",
       "      <td>0.479814</td>\n",
       "      <td>-0.008347</td>\n",
       "      <td>-0.154012</td>\n",
       "      <td>-0.228701</td>\n",
       "    </tr>\n",
       "    <tr>\n",
       "      <th>Bench</th>\n",
       "      <td>0.131425</td>\n",
       "      <td>0.207237</td>\n",
       "      <td>0.108846</td>\n",
       "      <td>1.000000</td>\n",
       "      <td>0.061137</td>\n",
       "      <td>-0.008295</td>\n",
       "      <td>0.092939</td>\n",
       "      <td>-0.041415</td>\n",
       "    </tr>\n",
       "    <tr>\n",
       "      <th>Broad Jump</th>\n",
       "      <td>0.210247</td>\n",
       "      <td>-0.376003</td>\n",
       "      <td>0.479814</td>\n",
       "      <td>0.061137</td>\n",
       "      <td>1.000000</td>\n",
       "      <td>-0.387573</td>\n",
       "      <td>-0.407750</td>\n",
       "      <td>-0.487800</td>\n",
       "    </tr>\n",
       "    <tr>\n",
       "      <th>3Cone</th>\n",
       "      <td>-0.146582</td>\n",
       "      <td>0.212102</td>\n",
       "      <td>-0.008347</td>\n",
       "      <td>-0.008295</td>\n",
       "      <td>-0.387573</td>\n",
       "      <td>1.000000</td>\n",
       "      <td>0.672748</td>\n",
       "      <td>0.382539</td>\n",
       "    </tr>\n",
       "    <tr>\n",
       "      <th>Shuttle</th>\n",
       "      <td>-0.084781</td>\n",
       "      <td>0.366052</td>\n",
       "      <td>-0.154012</td>\n",
       "      <td>0.092939</td>\n",
       "      <td>-0.407750</td>\n",
       "      <td>0.672748</td>\n",
       "      <td>1.000000</td>\n",
       "      <td>0.409724</td>\n",
       "    </tr>\n",
       "    <tr>\n",
       "      <th>40yd</th>\n",
       "      <td>-0.166067</td>\n",
       "      <td>0.402181</td>\n",
       "      <td>-0.228701</td>\n",
       "      <td>-0.041415</td>\n",
       "      <td>-0.487800</td>\n",
       "      <td>0.382539</td>\n",
       "      <td>0.409724</td>\n",
       "      <td>1.000000</td>\n",
       "    </tr>\n",
       "  </tbody>\n",
       "</table>\n",
       "</div>"
      ],
      "text/plain": [
       "                Overall Rating        Wt  Vertical     Bench  Broad Jump  \\\n",
       "Overall Rating        1.000000  0.045560  0.047482  0.131425    0.210247   \n",
       "Wt                    0.045560  1.000000 -0.233177  0.207237   -0.376003   \n",
       "Vertical              0.047482 -0.233177  1.000000  0.108846    0.479814   \n",
       "Bench                 0.131425  0.207237  0.108846  1.000000    0.061137   \n",
       "Broad Jump            0.210247 -0.376003  0.479814  0.061137    1.000000   \n",
       "3Cone                -0.146582  0.212102 -0.008347 -0.008295   -0.387573   \n",
       "Shuttle              -0.084781  0.366052 -0.154012  0.092939   -0.407750   \n",
       "40yd                 -0.166067  0.402181 -0.228701 -0.041415   -0.487800   \n",
       "\n",
       "                   3Cone   Shuttle      40yd  \n",
       "Overall Rating -0.146582 -0.084781 -0.166067  \n",
       "Wt              0.212102  0.366052  0.402181  \n",
       "Vertical       -0.008347 -0.154012 -0.228701  \n",
       "Bench          -0.008295  0.092939 -0.041415  \n",
       "Broad Jump     -0.387573 -0.407750 -0.487800  \n",
       "3Cone           1.000000  0.672748  0.382539  \n",
       "Shuttle         0.672748  1.000000  0.409724  \n",
       "40yd            0.382539  0.409724  1.000000  "
      ]
     },
     "execution_count": 212,
     "metadata": {},
     "output_type": "execute_result"
    }
   ],
   "source": [
    "lgcorr"
   ]
  },
  {
   "cell_type": "code",
   "execution_count": null,
   "metadata": {},
   "outputs": [],
   "source": [
    "###Strength seems more important than speed for the left guard position.  Will the same be true for right guards?"
   ]
  },
  {
   "cell_type": "code",
   "execution_count": 262,
   "metadata": {},
   "outputs": [],
   "source": [
    "#Right Guard"
   ]
  },
  {
   "cell_type": "code",
   "execution_count": 214,
   "metadata": {},
   "outputs": [],
   "source": [
    "rg = mcfd[mcfd['Position'] == 'RG']"
   ]
  },
  {
   "cell_type": "code",
   "execution_count": 215,
   "metadata": {},
   "outputs": [],
   "source": [
    "rgcount = rg.groupby('College').count()"
   ]
  },
  {
   "cell_type": "code",
   "execution_count": 216,
   "metadata": {},
   "outputs": [],
   "source": [
    "rgsort = rgcount.sort_values('Unnamed: 0', ascending=False)"
   ]
  },
  {
   "cell_type": "code",
   "execution_count": 217,
   "metadata": {},
   "outputs": [],
   "source": [
    "rgtop10 = rgsort.head(10)"
   ]
  },
  {
   "cell_type": "code",
   "execution_count": 218,
   "metadata": {},
   "outputs": [
    {
     "name": "stdout",
     "output_type": "stream",
     "text": [
      "College\n",
      "Iowa            4\n",
      "Texas AM        3\n",
      "UCF             2\n",
      "Alabama         2\n",
      "San Jose St.    2\n",
      "Stanford        2\n",
      "LSU             2\n",
      "Tennessee       2\n",
      "Kent State      2\n",
      "Wisconsin       2\n",
      "Name: Unnamed: 0, dtype: int64\n"
     ]
    }
   ],
   "source": [
    "print(rgtop10['Unnamed: 0'])"
   ]
  },
  {
   "cell_type": "code",
   "execution_count": 219,
   "metadata": {},
   "outputs": [
    {
     "data": {
      "text/plain": [
       "<matplotlib.axes._subplots.AxesSubplot at 0x279f91b8048>"
      ]
     },
     "execution_count": 219,
     "metadata": {},
     "output_type": "execute_result"
    },
    {
     "data": {
      "image/png": "[encoded data removed]",
      "text/plain": [
       "<matplotlib.figure.Figure at 0x279f91a2f60>"
      ]
     },
     "metadata": {},
     "output_type": "display_data"
    }
   ],
   "source": [
    "rgtop10['Unnamed: 0'].plot.bar()"
   ]
  },
  {
   "cell_type": "code",
   "execution_count": 220,
   "metadata": {},
   "outputs": [],
   "source": [
    "rgmean = np.mean(rg[['Wt', 'Vertical', 'Bench', 'Broad Jump', '3Cone', 'Shuttle', '40yd']])"
   ]
  },
  {
   "cell_type": "code",
   "execution_count": 221,
   "metadata": {},
   "outputs": [
    {
     "name": "stdout",
     "output_type": "stream",
     "text": [
      "Wt           -0.862593\n",
      "Vertical     -0.557897\n",
      "Bench        -1.413199\n",
      "Broad Jump   -1.655637\n",
      "3Cone         0.016970\n",
      "Shuttle       0.049787\n",
      "40yd          0.016548\n",
      "dtype: float64 3Cone        -0.008922\n",
      "40yd               NaN\n",
      "Bench        -0.437590\n",
      "Broad Jump   -3.536831\n",
      "Shuttle       0.006500\n",
      "Vertical     -1.118269\n",
      "Wt           -2.467896\n",
      "dtype: float64 3Cone             0.071008\n",
      "40yd              0.007810\n",
      "Bench            -1.063025\n",
      "Broad Jump       -0.909804\n",
      "Overall Rating         NaN\n",
      "Shuttle           0.111471\n",
      "Vertical         -0.202991\n",
      "Wt                4.198770\n",
      "dtype: float64 3Cone        -24.599134\n",
      "40yd           0.487720\n",
      "Bench          5.128877\n",
      "Broad Jump   -13.991056\n",
      "Shuttle        0.381640\n",
      "Vertical      -5.607491\n",
      "Wt            66.427391\n",
      "dtype: float64 Wt           -0.862593\n",
      "Vertical     -0.557897\n",
      "Bench        -1.413199\n",
      "Broad Jump   -1.655637\n",
      "3Cone         0.016970\n",
      "Shuttle       0.049787\n",
      "40yd          0.016548\n",
      "dtype: float64\n"
     ]
    }
   ],
   "source": [
    "print(rgmean - lgmeans, rgmean-ltmeans, rgmean - cmean, rgmean- means, rgmean - lgmeans)"
   ]
  },
  {
   "cell_type": "code",
   "execution_count": null,
   "metadata": {},
   "outputs": [],
   "source": [
    "###Right guards appear to be less athletic than left guards.  Why is this?  Will the same be true about Right tackles?"
   ]
  },
  {
   "cell_type": "code",
   "execution_count": 222,
   "metadata": {},
   "outputs": [],
   "source": [
    "rgcorr = rg[['Overall Rating', 'Wt', 'Vertical', 'Bench', 'Broad Jump', '3Cone', 'Shuttle', '40yd']].corr()"
   ]
  },
  {
   "cell_type": "code",
   "execution_count": 223,
   "metadata": {},
   "outputs": [
    {
     "data": {
      "text/html": [
       "<div>\n",
       "<style scoped>\n",
       "    .dataframe tbody tr th:only-of-type {\n",
       "        vertical-align: middle;\n",
       "    }\n",
       "\n",
       "    .dataframe tbody tr th {\n",
       "        vertical-align: top;\n",
       "    }\n",
       "\n",
       "    .dataframe thead th {\n",
       "        text-align: right;\n",
       "    }\n",
       "</style>\n",
       "<table border=\"1\" class=\"dataframe\">\n",
       "  <thead>\n",
       "    <tr style=\"text-align: right;\">\n",
       "      <th></th>\n",
       "      <th>Overall Rating</th>\n",
       "      <th>Wt</th>\n",
       "      <th>Vertical</th>\n",
       "      <th>Bench</th>\n",
       "      <th>Broad Jump</th>\n",
       "      <th>3Cone</th>\n",
       "      <th>Shuttle</th>\n",
       "      <th>40yd</th>\n",
       "    </tr>\n",
       "  </thead>\n",
       "  <tbody>\n",
       "    <tr>\n",
       "      <th>Overall Rating</th>\n",
       "      <td>1.000000</td>\n",
       "      <td>-0.025783</td>\n",
       "      <td>0.202590</td>\n",
       "      <td>0.121072</td>\n",
       "      <td>0.145939</td>\n",
       "      <td>-0.203361</td>\n",
       "      <td>-0.218459</td>\n",
       "      <td>-0.119425</td>\n",
       "    </tr>\n",
       "    <tr>\n",
       "      <th>Wt</th>\n",
       "      <td>-0.025783</td>\n",
       "      <td>1.000000</td>\n",
       "      <td>-0.448730</td>\n",
       "      <td>-0.020725</td>\n",
       "      <td>-0.414025</td>\n",
       "      <td>0.511946</td>\n",
       "      <td>0.560218</td>\n",
       "      <td>0.575938</td>\n",
       "    </tr>\n",
       "    <tr>\n",
       "      <th>Vertical</th>\n",
       "      <td>0.202590</td>\n",
       "      <td>-0.448730</td>\n",
       "      <td>1.000000</td>\n",
       "      <td>-0.010259</td>\n",
       "      <td>0.740761</td>\n",
       "      <td>-0.458277</td>\n",
       "      <td>-0.568945</td>\n",
       "      <td>-0.579407</td>\n",
       "    </tr>\n",
       "    <tr>\n",
       "      <th>Bench</th>\n",
       "      <td>0.121072</td>\n",
       "      <td>-0.020725</td>\n",
       "      <td>-0.010259</td>\n",
       "      <td>1.000000</td>\n",
       "      <td>0.048218</td>\n",
       "      <td>-0.218107</td>\n",
       "      <td>0.007747</td>\n",
       "      <td>-0.041116</td>\n",
       "    </tr>\n",
       "    <tr>\n",
       "      <th>Broad Jump</th>\n",
       "      <td>0.145939</td>\n",
       "      <td>-0.414025</td>\n",
       "      <td>0.740761</td>\n",
       "      <td>0.048218</td>\n",
       "      <td>1.000000</td>\n",
       "      <td>-0.371209</td>\n",
       "      <td>-0.474799</td>\n",
       "      <td>-0.590905</td>\n",
       "    </tr>\n",
       "    <tr>\n",
       "      <th>3Cone</th>\n",
       "      <td>-0.203361</td>\n",
       "      <td>0.511946</td>\n",
       "      <td>-0.458277</td>\n",
       "      <td>-0.218107</td>\n",
       "      <td>-0.371209</td>\n",
       "      <td>1.000000</td>\n",
       "      <td>0.763349</td>\n",
       "      <td>0.463528</td>\n",
       "    </tr>\n",
       "    <tr>\n",
       "      <th>Shuttle</th>\n",
       "      <td>-0.218459</td>\n",
       "      <td>0.560218</td>\n",
       "      <td>-0.568945</td>\n",
       "      <td>0.007747</td>\n",
       "      <td>-0.474799</td>\n",
       "      <td>0.763349</td>\n",
       "      <td>1.000000</td>\n",
       "      <td>0.496007</td>\n",
       "    </tr>\n",
       "    <tr>\n",
       "      <th>40yd</th>\n",
       "      <td>-0.119425</td>\n",
       "      <td>0.575938</td>\n",
       "      <td>-0.579407</td>\n",
       "      <td>-0.041116</td>\n",
       "      <td>-0.590905</td>\n",
       "      <td>0.463528</td>\n",
       "      <td>0.496007</td>\n",
       "      <td>1.000000</td>\n",
       "    </tr>\n",
       "  </tbody>\n",
       "</table>\n",
       "</div>"
      ],
      "text/plain": [
       "                Overall Rating        Wt  Vertical     Bench  Broad Jump  \\\n",
       "Overall Rating        1.000000 -0.025783  0.202590  0.121072    0.145939   \n",
       "Wt                   -0.025783  1.000000 -0.448730 -0.020725   -0.414025   \n",
       "Vertical              0.202590 -0.448730  1.000000 -0.010259    0.740761   \n",
       "Bench                 0.121072 -0.020725 -0.010259  1.000000    0.048218   \n",
       "Broad Jump            0.145939 -0.414025  0.740761  0.048218    1.000000   \n",
       "3Cone                -0.203361  0.511946 -0.458277 -0.218107   -0.371209   \n",
       "Shuttle              -0.218459  0.560218 -0.568945  0.007747   -0.474799   \n",
       "40yd                 -0.119425  0.575938 -0.579407 -0.041116   -0.590905   \n",
       "\n",
       "                   3Cone   Shuttle      40yd  \n",
       "Overall Rating -0.203361 -0.218459 -0.119425  \n",
       "Wt              0.511946  0.560218  0.575938  \n",
       "Vertical       -0.458277 -0.568945 -0.579407  \n",
       "Bench          -0.218107  0.007747 -0.041116  \n",
       "Broad Jump     -0.371209 -0.474799 -0.590905  \n",
       "3Cone           1.000000  0.763349  0.463528  \n",
       "Shuttle         0.763349  1.000000  0.496007  \n",
       "40yd            0.463528  0.496007  1.000000  "
      ]
     },
     "execution_count": 223,
     "metadata": {},
     "output_type": "execute_result"
    }
   ],
   "source": [
    "rgcorr"
   ]
  },
  {
   "cell_type": "code",
   "execution_count": null,
   "metadata": {},
   "outputs": [],
   "source": [
    "### Strength is less important than speed here"
   ]
  },
  {
   "cell_type": "code",
   "execution_count": 280,
   "metadata": {},
   "outputs": [],
   "source": [
    "#Right Tackle"
   ]
  },
  {
   "cell_type": "code",
   "execution_count": 225,
   "metadata": {},
   "outputs": [],
   "source": [
    "rt = mcfd[mcfd['Position'] == 'RT']"
   ]
  },
  {
   "cell_type": "code",
   "execution_count": 226,
   "metadata": {},
   "outputs": [],
   "source": [
    "rtcount = rt.groupby('College').count()"
   ]
  },
  {
   "cell_type": "code",
   "execution_count": 227,
   "metadata": {},
   "outputs": [],
   "source": [
    "rtsort = rtcount.sort_values('Unnamed: 0', ascending=False)"
   ]
  },
  {
   "cell_type": "code",
   "execution_count": 228,
   "metadata": {},
   "outputs": [],
   "source": [
    "rttop10 = rtsort.head(10)"
   ]
  },
  {
   "cell_type": "code",
   "execution_count": 229,
   "metadata": {},
   "outputs": [
    {
     "name": "stdout",
     "output_type": "stream",
     "text": [
      "College\n",
      "TCU               4\n",
      "Wisconsin         3\n",
      "Boston College    3\n",
      "Nebraska          3\n",
      "Florida State     3\n",
      "Florida           3\n",
      "LSU               3\n",
      "Virginia          2\n",
      "Ole Miss          2\n",
      "California        2\n",
      "Name: Unnamed: 0, dtype: int64\n"
     ]
    }
   ],
   "source": [
    "print(rttop10['Unnamed: 0'])"
   ]
  },
  {
   "cell_type": "code",
   "execution_count": 230,
   "metadata": {},
   "outputs": [
    {
     "data": {
      "text/plain": [
       "<matplotlib.axes._subplots.AxesSubplot at 0x279f7f4a470>"
      ]
     },
     "execution_count": 230,
     "metadata": {},
     "output_type": "execute_result"
    },
    {
     "data": {
      "image/png": "[encoded data removed]",
      "text/plain": [
       "<matplotlib.figure.Figure at 0x279f5cb7438>"
      ]
     },
     "metadata": {},
     "output_type": "display_data"
    }
   ],
   "source": [
    "rttop10['Unnamed: 0'].plot.bar()"
   ]
  },
  {
   "cell_type": "code",
   "execution_count": null,
   "metadata": {},
   "outputs": [],
   "source": []
  },
  {
   "cell_type": "code",
   "execution_count": 233,
   "metadata": {},
   "outputs": [],
   "source": [
    "rtmeans = np.mean(rt[['Wt', 'Vertical', 'Bench', 'Broad Jump', '3Cone', 'Shuttle', '40yd']])"
   ]
  },
  {
   "cell_type": "code",
   "execution_count": 234,
   "metadata": {},
   "outputs": [
    {
     "name": "stdout",
     "output_type": "stream",
     "text": [
      "Wt            312.471698\n",
      "Vertical       27.650000\n",
      "Bench          22.846154\n",
      "Broad Jump    102.868421\n",
      "3Cone           7.804167\n",
      "Shuttle         4.777692\n",
      "40yd            5.237647\n",
      "dtype: float64 3Cone        -0.014551\n",
      "40yd               NaN\n",
      "Bench        -2.885553\n",
      "Broad Jump   -2.158606\n",
      "Shuttle       0.024192\n",
      "Vertical     -0.612500\n",
      "Wt           -1.569969\n",
      "dtype: float64 Wt            0.897928\n",
      "Vertical      0.505769\n",
      "Bench        -2.447964\n",
      "Broad Jump    1.378225\n",
      "3Cone        -0.005629\n",
      "Shuttle       0.017692\n",
      "40yd         -0.003992\n",
      "dtype: float64\n"
     ]
    }
   ],
   "source": [
    "print(rtmeans, rtmeans - ltmeans, rtmeans - rgmean)"
   ]
  },
  {
   "cell_type": "code",
   "execution_count": null,
   "metadata": {},
   "outputs": [],
   "source": [
    "###Right tackles appear to be less athletic than left tackles.  "
   ]
  },
  {
   "cell_type": "code",
   "execution_count": 236,
   "metadata": {},
   "outputs": [],
   "source": [
    "rtcorr = rt[['Wt', 'Vertical', 'Bench', 'Broad Jump', '3Cone', 'Shuttle', '40yd']].corr()"
   ]
  },
  {
   "cell_type": "code",
   "execution_count": 237,
   "metadata": {},
   "outputs": [
    {
     "data": {
      "text/html": [
       "<div>\n",
       "<style scoped>\n",
       "    .dataframe tbody tr th:only-of-type {\n",
       "        vertical-align: middle;\n",
       "    }\n",
       "\n",
       "    .dataframe tbody tr th {\n",
       "        vertical-align: top;\n",
       "    }\n",
       "\n",
       "    .dataframe thead th {\n",
       "        text-align: right;\n",
       "    }\n",
       "</style>\n",
       "<table border=\"1\" class=\"dataframe\">\n",
       "  <thead>\n",
       "    <tr style=\"text-align: right;\">\n",
       "      <th></th>\n",
       "      <th>Wt</th>\n",
       "      <th>Vertical</th>\n",
       "      <th>Bench</th>\n",
       "      <th>Broad Jump</th>\n",
       "      <th>3Cone</th>\n",
       "      <th>Shuttle</th>\n",
       "      <th>40yd</th>\n",
       "    </tr>\n",
       "  </thead>\n",
       "  <tbody>\n",
       "    <tr>\n",
       "      <th>Wt</th>\n",
       "      <td>1.000000</td>\n",
       "      <td>-0.173373</td>\n",
       "      <td>-0.055386</td>\n",
       "      <td>-0.263188</td>\n",
       "      <td>0.305265</td>\n",
       "      <td>0.327882</td>\n",
       "      <td>0.509302</td>\n",
       "    </tr>\n",
       "    <tr>\n",
       "      <th>Vertical</th>\n",
       "      <td>-0.173373</td>\n",
       "      <td>1.000000</td>\n",
       "      <td>0.184573</td>\n",
       "      <td>0.456859</td>\n",
       "      <td>-0.569765</td>\n",
       "      <td>-0.651482</td>\n",
       "      <td>-0.378660</td>\n",
       "    </tr>\n",
       "    <tr>\n",
       "      <th>Bench</th>\n",
       "      <td>-0.055386</td>\n",
       "      <td>0.184573</td>\n",
       "      <td>1.000000</td>\n",
       "      <td>0.122517</td>\n",
       "      <td>-0.354886</td>\n",
       "      <td>-0.216730</td>\n",
       "      <td>-0.512992</td>\n",
       "    </tr>\n",
       "    <tr>\n",
       "      <th>Broad Jump</th>\n",
       "      <td>-0.263188</td>\n",
       "      <td>0.456859</td>\n",
       "      <td>0.122517</td>\n",
       "      <td>1.000000</td>\n",
       "      <td>-0.407595</td>\n",
       "      <td>-0.484671</td>\n",
       "      <td>-0.408592</td>\n",
       "    </tr>\n",
       "    <tr>\n",
       "      <th>3Cone</th>\n",
       "      <td>0.305265</td>\n",
       "      <td>-0.569765</td>\n",
       "      <td>-0.354886</td>\n",
       "      <td>-0.407595</td>\n",
       "      <td>1.000000</td>\n",
       "      <td>0.686035</td>\n",
       "      <td>0.440563</td>\n",
       "    </tr>\n",
       "    <tr>\n",
       "      <th>Shuttle</th>\n",
       "      <td>0.327882</td>\n",
       "      <td>-0.651482</td>\n",
       "      <td>-0.216730</td>\n",
       "      <td>-0.484671</td>\n",
       "      <td>0.686035</td>\n",
       "      <td>1.000000</td>\n",
       "      <td>0.550811</td>\n",
       "    </tr>\n",
       "    <tr>\n",
       "      <th>40yd</th>\n",
       "      <td>0.509302</td>\n",
       "      <td>-0.378660</td>\n",
       "      <td>-0.512992</td>\n",
       "      <td>-0.408592</td>\n",
       "      <td>0.440563</td>\n",
       "      <td>0.550811</td>\n",
       "      <td>1.000000</td>\n",
       "    </tr>\n",
       "  </tbody>\n",
       "</table>\n",
       "</div>"
      ],
      "text/plain": [
       "                  Wt  Vertical     Bench  Broad Jump     3Cone   Shuttle  \\\n",
       "Wt          1.000000 -0.173373 -0.055386   -0.263188  0.305265  0.327882   \n",
       "Vertical   -0.173373  1.000000  0.184573    0.456859 -0.569765 -0.651482   \n",
       "Bench      -0.055386  0.184573  1.000000    0.122517 -0.354886 -0.216730   \n",
       "Broad Jump -0.263188  0.456859  0.122517    1.000000 -0.407595 -0.484671   \n",
       "3Cone       0.305265 -0.569765 -0.354886   -0.407595  1.000000  0.686035   \n",
       "Shuttle     0.327882 -0.651482 -0.216730   -0.484671  0.686035  1.000000   \n",
       "40yd        0.509302 -0.378660 -0.512992   -0.408592  0.440563  0.550811   \n",
       "\n",
       "                40yd  \n",
       "Wt          0.509302  \n",
       "Vertical   -0.378660  \n",
       "Bench      -0.512992  \n",
       "Broad Jump -0.408592  \n",
       "3Cone       0.440563  \n",
       "Shuttle     0.550811  \n",
       "40yd        1.000000  "
      ]
     },
     "execution_count": 237,
     "metadata": {},
     "output_type": "execute_result"
    }
   ],
   "source": [
    "rtcorr"
   ]
  },
  {
   "cell_type": "code",
   "execution_count": 296,
   "metadata": {},
   "outputs": [],
   "source": [
    "##Offense Skill Players"
   ]
  },
  {
   "cell_type": "code",
   "execution_count": 297,
   "metadata": {},
   "outputs": [],
   "source": [
    "#Wide Receiver"
   ]
  },
  {
   "cell_type": "code",
   "execution_count": 239,
   "metadata": {},
   "outputs": [],
   "source": [
    "wr = mcfd[mcfd['Position'] == 'WR']"
   ]
  },
  {
   "cell_type": "code",
   "execution_count": 240,
   "metadata": {},
   "outputs": [],
   "source": [
    "wrcount = wr.groupby('College').count()"
   ]
  },
  {
   "cell_type": "code",
   "execution_count": 241,
   "metadata": {},
   "outputs": [],
   "source": [
    "wrsort = wrcount.sort_values('Unnamed: 0', ascending= False)"
   ]
  },
  {
   "cell_type": "code",
   "execution_count": 242,
   "metadata": {},
   "outputs": [],
   "source": [
    "wrtop10 = wrsort.head(10)"
   ]
  },
  {
   "cell_type": "code",
   "execution_count": 243,
   "metadata": {},
   "outputs": [
    {
     "name": "stdout",
     "output_type": "stream",
     "text": [
      "College\n",
      "Clemson          9\n",
      "California       9\n",
      "Ohio State       8\n",
      "LSU              7\n",
      "Baylor           6\n",
      "Georgia          6\n",
      "Florida State    6\n",
      "West Virginia    6\n",
      "Ole Miss         6\n",
      "Miami            5\n",
      "Name: Unnamed: 0, dtype: int64\n"
     ]
    }
   ],
   "source": [
    "print(wrtop10['Unnamed: 0'])"
   ]
  },
  {
   "cell_type": "code",
   "execution_count": 244,
   "metadata": {},
   "outputs": [
    {
     "data": {
      "text/plain": [
       "<matplotlib.axes._subplots.AxesSubplot at 0x279f5cae828>"
      ]
     },
     "execution_count": 244,
     "metadata": {},
     "output_type": "execute_result"
    },
    {
     "data": {
      "image/png": "[encoded data removed]",
      "text/plain": [
       "<matplotlib.figure.Figure at 0x279f7c0be48>"
      ]
     },
     "metadata": {},
     "output_type": "display_data"
    }
   ],
   "source": [
    "wrtop10['Unnamed: 0'].plot.bar()"
   ]
  },
  {
   "cell_type": "code",
   "execution_count": 246,
   "metadata": {},
   "outputs": [],
   "source": [
    "wrmeans = np.mean(wr[['Wt', 'Vertical', 'Bench', 'Broad Jump', '3Cone', 'Shuttle', '40yd']])"
   ]
  },
  {
   "cell_type": "code",
   "execution_count": 247,
   "metadata": {},
   "outputs": [
    {
     "name": "stdout",
     "output_type": "stream",
     "text": [
      "Wt            201.711628\n",
      "Vertical       35.255263\n",
      "Bench          14.181818\n",
      "Broad Jump    121.612903\n",
      "3Cone          89.583010\n",
      "Shuttle         4.207000\n",
      "40yd            4.495333\n",
      "dtype: float64 3Cone         82.654056\n",
      "40yd          -0.010123\n",
      "Bench         -0.558038\n",
      "Broad Jump    -0.703958\n",
      "Shuttle        0.027378\n",
      "Vertical      -0.415469\n",
      "Wt             5.257388\n",
      "dtype: float64\n"
     ]
    }
   ],
   "source": [
    "print(wrmeans, wrmeans - cbmeans)"
   ]
  },
  {
   "cell_type": "code",
   "execution_count": 248,
   "metadata": {},
   "outputs": [],
   "source": [
    "wrcorr = wr[['Overall Rating','Wt', 'Vertical', 'Bench', 'Broad Jump', '3Cone', 'Shuttle', '40yd']].corr()"
   ]
  },
  {
   "cell_type": "code",
   "execution_count": 250,
   "metadata": {},
   "outputs": [
    {
     "data": {
      "text/html": [
       "<div>\n",
       "<style scoped>\n",
       "    .dataframe tbody tr th:only-of-type {\n",
       "        vertical-align: middle;\n",
       "    }\n",
       "\n",
       "    .dataframe tbody tr th {\n",
       "        vertical-align: top;\n",
       "    }\n",
       "\n",
       "    .dataframe thead th {\n",
       "        text-align: right;\n",
       "    }\n",
       "</style>\n",
       "<table border=\"1\" class=\"dataframe\">\n",
       "  <thead>\n",
       "    <tr style=\"text-align: right;\">\n",
       "      <th></th>\n",
       "      <th>Overall Rating</th>\n",
       "      <th>Wt</th>\n",
       "      <th>Vertical</th>\n",
       "      <th>Bench</th>\n",
       "      <th>Broad Jump</th>\n",
       "      <th>3Cone</th>\n",
       "      <th>Shuttle</th>\n",
       "      <th>40yd</th>\n",
       "    </tr>\n",
       "  </thead>\n",
       "  <tbody>\n",
       "    <tr>\n",
       "      <th>Overall Rating</th>\n",
       "      <td>1.000000</td>\n",
       "      <td>0.047923</td>\n",
       "      <td>0.038214</td>\n",
       "      <td>0.051951</td>\n",
       "      <td>0.012085</td>\n",
       "      <td>0.013846</td>\n",
       "      <td>-0.002859</td>\n",
       "      <td>-0.086817</td>\n",
       "    </tr>\n",
       "    <tr>\n",
       "      <th>Wt</th>\n",
       "      <td>0.047923</td>\n",
       "      <td>1.000000</td>\n",
       "      <td>0.047047</td>\n",
       "      <td>0.286740</td>\n",
       "      <td>0.057718</td>\n",
       "      <td>-0.017378</td>\n",
       "      <td>0.134591</td>\n",
       "      <td>0.223607</td>\n",
       "    </tr>\n",
       "    <tr>\n",
       "      <th>Vertical</th>\n",
       "      <td>0.038214</td>\n",
       "      <td>0.047047</td>\n",
       "      <td>1.000000</td>\n",
       "      <td>0.294683</td>\n",
       "      <td>0.612643</td>\n",
       "      <td>-0.043818</td>\n",
       "      <td>-0.207090</td>\n",
       "      <td>-0.303330</td>\n",
       "    </tr>\n",
       "    <tr>\n",
       "      <th>Bench</th>\n",
       "      <td>0.051951</td>\n",
       "      <td>0.286740</td>\n",
       "      <td>0.294683</td>\n",
       "      <td>1.000000</td>\n",
       "      <td>0.195799</td>\n",
       "      <td>-0.012066</td>\n",
       "      <td>-0.130048</td>\n",
       "      <td>-0.128825</td>\n",
       "    </tr>\n",
       "    <tr>\n",
       "      <th>Broad Jump</th>\n",
       "      <td>0.012085</td>\n",
       "      <td>0.057718</td>\n",
       "      <td>0.612643</td>\n",
       "      <td>0.195799</td>\n",
       "      <td>1.000000</td>\n",
       "      <td>-0.021543</td>\n",
       "      <td>-0.098563</td>\n",
       "      <td>-0.371211</td>\n",
       "    </tr>\n",
       "    <tr>\n",
       "      <th>3Cone</th>\n",
       "      <td>0.013846</td>\n",
       "      <td>-0.017378</td>\n",
       "      <td>-0.043818</td>\n",
       "      <td>-0.012066</td>\n",
       "      <td>-0.021543</td>\n",
       "      <td>1.000000</td>\n",
       "      <td>0.028512</td>\n",
       "      <td>-0.023492</td>\n",
       "    </tr>\n",
       "    <tr>\n",
       "      <th>Shuttle</th>\n",
       "      <td>-0.002859</td>\n",
       "      <td>0.134591</td>\n",
       "      <td>-0.207090</td>\n",
       "      <td>-0.130048</td>\n",
       "      <td>-0.098563</td>\n",
       "      <td>0.028512</td>\n",
       "      <td>1.000000</td>\n",
       "      <td>0.178807</td>\n",
       "    </tr>\n",
       "    <tr>\n",
       "      <th>40yd</th>\n",
       "      <td>-0.086817</td>\n",
       "      <td>0.223607</td>\n",
       "      <td>-0.303330</td>\n",
       "      <td>-0.128825</td>\n",
       "      <td>-0.371211</td>\n",
       "      <td>-0.023492</td>\n",
       "      <td>0.178807</td>\n",
       "      <td>1.000000</td>\n",
       "    </tr>\n",
       "  </tbody>\n",
       "</table>\n",
       "</div>"
      ],
      "text/plain": [
       "                Overall Rating        Wt  Vertical     Bench  Broad Jump  \\\n",
       "Overall Rating        1.000000  0.047923  0.038214  0.051951    0.012085   \n",
       "Wt                    0.047923  1.000000  0.047047  0.286740    0.057718   \n",
       "Vertical              0.038214  0.047047  1.000000  0.294683    0.612643   \n",
       "Bench                 0.051951  0.286740  0.294683  1.000000    0.195799   \n",
       "Broad Jump            0.012085  0.057718  0.612643  0.195799    1.000000   \n",
       "3Cone                 0.013846 -0.017378 -0.043818 -0.012066   -0.021543   \n",
       "Shuttle              -0.002859  0.134591 -0.207090 -0.130048   -0.098563   \n",
       "40yd                 -0.086817  0.223607 -0.303330 -0.128825   -0.371211   \n",
       "\n",
       "                   3Cone   Shuttle      40yd  \n",
       "Overall Rating  0.013846 -0.002859 -0.086817  \n",
       "Wt             -0.017378  0.134591  0.223607  \n",
       "Vertical       -0.043818 -0.207090 -0.303330  \n",
       "Bench          -0.012066 -0.130048 -0.128825  \n",
       "Broad Jump     -0.021543 -0.098563 -0.371211  \n",
       "3Cone           1.000000  0.028512 -0.023492  \n",
       "Shuttle         0.028512  1.000000  0.178807  \n",
       "40yd           -0.023492  0.178807  1.000000  "
      ]
     },
     "execution_count": 250,
     "metadata": {},
     "output_type": "execute_result"
    }
   ],
   "source": [
    "wrcorr"
   ]
  },
  {
   "cell_type": "code",
   "execution_count": null,
   "metadata": {},
   "outputs": [],
   "source": [
    "#Tight End"
   ]
  },
  {
   "cell_type": "code",
   "execution_count": 251,
   "metadata": {},
   "outputs": [],
   "source": [
    "te = mcfd[mcfd['Position'] == 'TE']"
   ]
  },
  {
   "cell_type": "code",
   "execution_count": 252,
   "metadata": {},
   "outputs": [],
   "source": [
    "tecount = te.groupby('College').count()"
   ]
  },
  {
   "cell_type": "code",
   "execution_count": 254,
   "metadata": {},
   "outputs": [],
   "source": [
    "tesort = tecount.sort_values('Unnamed: 0', ascending= False)"
   ]
  },
  {
   "cell_type": "code",
   "execution_count": 255,
   "metadata": {},
   "outputs": [],
   "source": [
    "tetop10 = tesort.head(10)"
   ]
  },
  {
   "cell_type": "code",
   "execution_count": 256,
   "metadata": {},
   "outputs": [
    {
     "name": "stdout",
     "output_type": "stream",
     "text": [
      "College\n",
      "Miami         6\n",
      "Notre Dame    6\n",
      "Tennessee     6\n",
      "Iowa          4\n",
      "Arkansas      4\n",
      "Louisville    4\n",
      "UCLA          4\n",
      "Oklahoma      4\n",
      "Stanford      4\n",
      "Penn State    4\n",
      "Name: Unnamed: 0, dtype: int64\n"
     ]
    }
   ],
   "source": [
    "print(tetop10['Unnamed: 0'])"
   ]
  },
  {
   "cell_type": "code",
   "execution_count": 257,
   "metadata": {},
   "outputs": [
    {
     "data": {
      "text/plain": [
       "<matplotlib.axes._subplots.AxesSubplot at 0x279f5d51d68>"
      ]
     },
     "execution_count": 257,
     "metadata": {},
     "output_type": "execute_result"
    },
    {
     "data": {
      "image/png": "[encoded data removed]",
      "text/plain": [
       "<matplotlib.figure.Figure at 0x279f5ab1748>"
      ]
     },
     "metadata": {},
     "output_type": "display_data"
    }
   ],
   "source": [
    "tetop10['Unnamed: 0'].plot.bar()"
   ]
  },
  {
   "cell_type": "code",
   "execution_count": 258,
   "metadata": {},
   "outputs": [],
   "source": [
    "temeans = np.mean(te[['Wt', 'Vertical', 'Bench', 'Broad Jump', '3Cone', 'Shuttle', '40yd']])"
   ]
  },
  {
   "cell_type": "code",
   "execution_count": 259,
   "metadata": {},
   "outputs": [
    {
     "name": "stdout",
     "output_type": "stream",
     "text": [
      "Wt            251.784946\n",
      "Vertical       33.242857\n",
      "Bench          20.189189\n",
      "Broad Jump    117.941176\n",
      "3Cone          95.390473\n",
      "Shuttle         4.377119\n",
      "40yd            4.741034\n",
      "dtype: float64 Wt            50.073318\n",
      "Vertical      -2.012406\n",
      "Bench          6.007371\n",
      "Broad Jump    -3.671727\n",
      "3Cone          5.807462\n",
      "Shuttle        0.170119\n",
      "40yd           0.245701\n",
      "dtype: float64\n"
     ]
    }
   ],
   "source": [
    "print(temeans, temeans - wrmeans)"
   ]
  },
  {
   "cell_type": "code",
   "execution_count": 262,
   "metadata": {},
   "outputs": [],
   "source": [
    "tecorr = te[['Overall Rating' , 'Wt', 'Vertical', 'Bench', 'Broad Jump', '3Cone', 'Shuttle', '40yd']].corr()"
   ]
  },
  {
   "cell_type": "code",
   "execution_count": 263,
   "metadata": {},
   "outputs": [
    {
     "data": {
      "text/html": [
       "<div>\n",
       "<style scoped>\n",
       "    .dataframe tbody tr th:only-of-type {\n",
       "        vertical-align: middle;\n",
       "    }\n",
       "\n",
       "    .dataframe tbody tr th {\n",
       "        vertical-align: top;\n",
       "    }\n",
       "\n",
       "    .dataframe thead th {\n",
       "        text-align: right;\n",
       "    }\n",
       "</style>\n",
       "<table border=\"1\" class=\"dataframe\">\n",
       "  <thead>\n",
       "    <tr style=\"text-align: right;\">\n",
       "      <th></th>\n",
       "      <th>Overall Rating</th>\n",
       "      <th>Wt</th>\n",
       "      <th>Vertical</th>\n",
       "      <th>Bench</th>\n",
       "      <th>Broad Jump</th>\n",
       "      <th>3Cone</th>\n",
       "      <th>Shuttle</th>\n",
       "      <th>40yd</th>\n",
       "    </tr>\n",
       "  </thead>\n",
       "  <tbody>\n",
       "    <tr>\n",
       "      <th>Overall Rating</th>\n",
       "      <td>1.000000</td>\n",
       "      <td>0.046918</td>\n",
       "      <td>0.058868</td>\n",
       "      <td>0.030217</td>\n",
       "      <td>0.040349</td>\n",
       "      <td>-0.142260</td>\n",
       "      <td>-0.011252</td>\n",
       "      <td>-0.136916</td>\n",
       "    </tr>\n",
       "    <tr>\n",
       "      <th>Wt</th>\n",
       "      <td>0.046918</td>\n",
       "      <td>1.000000</td>\n",
       "      <td>-0.194969</td>\n",
       "      <td>0.265839</td>\n",
       "      <td>-0.244835</td>\n",
       "      <td>-0.018823</td>\n",
       "      <td>0.254545</td>\n",
       "      <td>0.439213</td>\n",
       "    </tr>\n",
       "    <tr>\n",
       "      <th>Vertical</th>\n",
       "      <td>0.058868</td>\n",
       "      <td>-0.194969</td>\n",
       "      <td>1.000000</td>\n",
       "      <td>-0.080847</td>\n",
       "      <td>0.678557</td>\n",
       "      <td>0.028172</td>\n",
       "      <td>-0.041715</td>\n",
       "      <td>-0.504103</td>\n",
       "    </tr>\n",
       "    <tr>\n",
       "      <th>Bench</th>\n",
       "      <td>0.030217</td>\n",
       "      <td>0.265839</td>\n",
       "      <td>-0.080847</td>\n",
       "      <td>1.000000</td>\n",
       "      <td>-0.057964</td>\n",
       "      <td>-0.048647</td>\n",
       "      <td>0.143032</td>\n",
       "      <td>0.024201</td>\n",
       "    </tr>\n",
       "    <tr>\n",
       "      <th>Broad Jump</th>\n",
       "      <td>0.040349</td>\n",
       "      <td>-0.244835</td>\n",
       "      <td>0.678557</td>\n",
       "      <td>-0.057964</td>\n",
       "      <td>1.000000</td>\n",
       "      <td>0.148783</td>\n",
       "      <td>-0.192051</td>\n",
       "      <td>-0.610745</td>\n",
       "    </tr>\n",
       "    <tr>\n",
       "      <th>3Cone</th>\n",
       "      <td>-0.142260</td>\n",
       "      <td>-0.018823</td>\n",
       "      <td>0.028172</td>\n",
       "      <td>-0.048647</td>\n",
       "      <td>0.148783</td>\n",
       "      <td>1.000000</td>\n",
       "      <td>-0.018349</td>\n",
       "      <td>0.010316</td>\n",
       "    </tr>\n",
       "    <tr>\n",
       "      <th>Shuttle</th>\n",
       "      <td>-0.011252</td>\n",
       "      <td>0.254545</td>\n",
       "      <td>-0.041715</td>\n",
       "      <td>0.143032</td>\n",
       "      <td>-0.192051</td>\n",
       "      <td>-0.018349</td>\n",
       "      <td>1.000000</td>\n",
       "      <td>0.382996</td>\n",
       "    </tr>\n",
       "    <tr>\n",
       "      <th>40yd</th>\n",
       "      <td>-0.136916</td>\n",
       "      <td>0.439213</td>\n",
       "      <td>-0.504103</td>\n",
       "      <td>0.024201</td>\n",
       "      <td>-0.610745</td>\n",
       "      <td>0.010316</td>\n",
       "      <td>0.382996</td>\n",
       "      <td>1.000000</td>\n",
       "    </tr>\n",
       "  </tbody>\n",
       "</table>\n",
       "</div>"
      ],
      "text/plain": [
       "                Overall Rating        Wt  Vertical     Bench  Broad Jump  \\\n",
       "Overall Rating        1.000000  0.046918  0.058868  0.030217    0.040349   \n",
       "Wt                    0.046918  1.000000 -0.194969  0.265839   -0.244835   \n",
       "Vertical              0.058868 -0.194969  1.000000 -0.080847    0.678557   \n",
       "Bench                 0.030217  0.265839 -0.080847  1.000000   -0.057964   \n",
       "Broad Jump            0.040349 -0.244835  0.678557 -0.057964    1.000000   \n",
       "3Cone                -0.142260 -0.018823  0.028172 -0.048647    0.148783   \n",
       "Shuttle              -0.011252  0.254545 -0.041715  0.143032   -0.192051   \n",
       "40yd                 -0.136916  0.439213 -0.504103  0.024201   -0.610745   \n",
       "\n",
       "                   3Cone   Shuttle      40yd  \n",
       "Overall Rating -0.142260 -0.011252 -0.136916  \n",
       "Wt             -0.018823  0.254545  0.439213  \n",
       "Vertical        0.028172 -0.041715 -0.504103  \n",
       "Bench          -0.048647  0.143032  0.024201  \n",
       "Broad Jump      0.148783 -0.192051 -0.610745  \n",
       "3Cone           1.000000 -0.018349  0.010316  \n",
       "Shuttle        -0.018349  1.000000  0.382996  \n",
       "40yd            0.010316  0.382996  1.000000  "
      ]
     },
     "execution_count": 263,
     "metadata": {},
     "output_type": "execute_result"
    }
   ],
   "source": [
    "tecorr"
   ]
  },
  {
   "cell_type": "code",
   "execution_count": 328,
   "metadata": {},
   "outputs": [],
   "source": [
    "#HB "
   ]
  },
  {
   "cell_type": "code",
   "execution_count": 264,
   "metadata": {},
   "outputs": [],
   "source": [
    "hb = mcfd[mcfd['Position'] == 'HB']"
   ]
  },
  {
   "cell_type": "code",
   "execution_count": 265,
   "metadata": {},
   "outputs": [],
   "source": [
    "hbcount = hb.groupby('College').count()"
   ]
  },
  {
   "cell_type": "code",
   "execution_count": 266,
   "metadata": {},
   "outputs": [],
   "source": [
    "hbsort = hbcount.sort_values('Unnamed: 0', ascending= False)"
   ]
  },
  {
   "cell_type": "code",
   "execution_count": 267,
   "metadata": {},
   "outputs": [],
   "source": [
    "hbtop10 = hbsort.head(10)"
   ]
  },
  {
   "cell_type": "code",
   "execution_count": 268,
   "metadata": {},
   "outputs": [
    {
     "name": "stdout",
     "output_type": "stream",
     "text": [
      "College\n",
      "LSU               7\n",
      "Alabama           6\n",
      "Oklahoma          5\n",
      "California        5\n",
      "Oregon            4\n",
      "Florida           4\n",
      "Arkansas          4\n",
      "Texas             4\n",
      "North Carolina    4\n",
      "Utah              3\n",
      "Name: Unnamed: 0, dtype: int64\n"
     ]
    }
   ],
   "source": [
    "print(hbtop10['Unnamed: 0'])"
   ]
  },
  {
   "cell_type": "code",
   "execution_count": 269,
   "metadata": {},
   "outputs": [
    {
     "data": {
      "text/plain": [
       "<matplotlib.axes._subplots.AxesSubplot at 0x279f5d8cfd0>"
      ]
     },
     "execution_count": 269,
     "metadata": {},
     "output_type": "execute_result"
    },
    {
     "data": {
      "image/png": "[encoded data removed]",
      "text/plain": [
       "<matplotlib.figure.Figure at 0x279f5c9b860>"
      ]
     },
     "metadata": {},
     "output_type": "display_data"
    }
   ],
   "source": [
    "hbtop10['Unnamed: 0'].plot.bar()"
   ]
  },
  {
   "cell_type": "code",
   "execution_count": null,
   "metadata": {},
   "outputs": [],
   "source": []
  },
  {
   "cell_type": "code",
   "execution_count": 270,
   "metadata": {},
   "outputs": [],
   "source": [
    "hcorr = hb[['Overall Rating', 'Wt', 'Vertical', 'Bench', 'Broad Jump', '3Cone', 'Shuttle', '40yd']].corr()"
   ]
  },
  {
   "cell_type": "code",
   "execution_count": 271,
   "metadata": {},
   "outputs": [
    {
     "data": {
      "text/html": [
       "<div>\n",
       "<style scoped>\n",
       "    .dataframe tbody tr th:only-of-type {\n",
       "        vertical-align: middle;\n",
       "    }\n",
       "\n",
       "    .dataframe tbody tr th {\n",
       "        vertical-align: top;\n",
       "    }\n",
       "\n",
       "    .dataframe thead th {\n",
       "        text-align: right;\n",
       "    }\n",
       "</style>\n",
       "<table border=\"1\" class=\"dataframe\">\n",
       "  <thead>\n",
       "    <tr style=\"text-align: right;\">\n",
       "      <th></th>\n",
       "      <th>Overall Rating</th>\n",
       "      <th>Wt</th>\n",
       "      <th>Vertical</th>\n",
       "      <th>Bench</th>\n",
       "      <th>Broad Jump</th>\n",
       "      <th>3Cone</th>\n",
       "      <th>Shuttle</th>\n",
       "      <th>40yd</th>\n",
       "    </tr>\n",
       "  </thead>\n",
       "  <tbody>\n",
       "    <tr>\n",
       "      <th>Overall Rating</th>\n",
       "      <td>1.000000</td>\n",
       "      <td>0.171398</td>\n",
       "      <td>0.061010</td>\n",
       "      <td>0.092856</td>\n",
       "      <td>0.105594</td>\n",
       "      <td>0.000773</td>\n",
       "      <td>-0.064054</td>\n",
       "      <td>-0.032850</td>\n",
       "    </tr>\n",
       "    <tr>\n",
       "      <th>Wt</th>\n",
       "      <td>0.171398</td>\n",
       "      <td>1.000000</td>\n",
       "      <td>-0.110503</td>\n",
       "      <td>0.237253</td>\n",
       "      <td>-0.117880</td>\n",
       "      <td>0.013832</td>\n",
       "      <td>0.261675</td>\n",
       "      <td>0.451714</td>\n",
       "    </tr>\n",
       "    <tr>\n",
       "      <th>Vertical</th>\n",
       "      <td>0.061010</td>\n",
       "      <td>-0.110503</td>\n",
       "      <td>1.000000</td>\n",
       "      <td>0.125879</td>\n",
       "      <td>0.715376</td>\n",
       "      <td>-0.123865</td>\n",
       "      <td>-0.367873</td>\n",
       "      <td>-0.202269</td>\n",
       "    </tr>\n",
       "    <tr>\n",
       "      <th>Bench</th>\n",
       "      <td>0.092856</td>\n",
       "      <td>0.237253</td>\n",
       "      <td>0.125879</td>\n",
       "      <td>1.000000</td>\n",
       "      <td>0.065428</td>\n",
       "      <td>-0.071914</td>\n",
       "      <td>-0.101793</td>\n",
       "      <td>-0.063814</td>\n",
       "    </tr>\n",
       "    <tr>\n",
       "      <th>Broad Jump</th>\n",
       "      <td>0.105594</td>\n",
       "      <td>-0.117880</td>\n",
       "      <td>0.715376</td>\n",
       "      <td>0.065428</td>\n",
       "      <td>1.000000</td>\n",
       "      <td>-0.050224</td>\n",
       "      <td>-0.354821</td>\n",
       "      <td>-0.317262</td>\n",
       "    </tr>\n",
       "    <tr>\n",
       "      <th>3Cone</th>\n",
       "      <td>0.000773</td>\n",
       "      <td>0.013832</td>\n",
       "      <td>-0.123865</td>\n",
       "      <td>-0.071914</td>\n",
       "      <td>-0.050224</td>\n",
       "      <td>1.000000</td>\n",
       "      <td>0.027840</td>\n",
       "      <td>-0.014143</td>\n",
       "    </tr>\n",
       "    <tr>\n",
       "      <th>Shuttle</th>\n",
       "      <td>-0.064054</td>\n",
       "      <td>0.261675</td>\n",
       "      <td>-0.367873</td>\n",
       "      <td>-0.101793</td>\n",
       "      <td>-0.354821</td>\n",
       "      <td>0.027840</td>\n",
       "      <td>1.000000</td>\n",
       "      <td>0.261742</td>\n",
       "    </tr>\n",
       "    <tr>\n",
       "      <th>40yd</th>\n",
       "      <td>-0.032850</td>\n",
       "      <td>0.451714</td>\n",
       "      <td>-0.202269</td>\n",
       "      <td>-0.063814</td>\n",
       "      <td>-0.317262</td>\n",
       "      <td>-0.014143</td>\n",
       "      <td>0.261742</td>\n",
       "      <td>1.000000</td>\n",
       "    </tr>\n",
       "  </tbody>\n",
       "</table>\n",
       "</div>"
      ],
      "text/plain": [
       "                Overall Rating        Wt  Vertical     Bench  Broad Jump  \\\n",
       "Overall Rating        1.000000  0.171398  0.061010  0.092856    0.105594   \n",
       "Wt                    0.171398  1.000000 -0.110503  0.237253   -0.117880   \n",
       "Vertical              0.061010 -0.110503  1.000000  0.125879    0.715376   \n",
       "Bench                 0.092856  0.237253  0.125879  1.000000    0.065428   \n",
       "Broad Jump            0.105594 -0.117880  0.715376  0.065428    1.000000   \n",
       "3Cone                 0.000773  0.013832 -0.123865 -0.071914   -0.050224   \n",
       "Shuttle              -0.064054  0.261675 -0.367873 -0.101793   -0.354821   \n",
       "40yd                 -0.032850  0.451714 -0.202269 -0.063814   -0.317262   \n",
       "\n",
       "                   3Cone   Shuttle      40yd  \n",
       "Overall Rating  0.000773 -0.064054 -0.032850  \n",
       "Wt              0.013832  0.261675  0.451714  \n",
       "Vertical       -0.123865 -0.367873 -0.202269  \n",
       "Bench          -0.071914 -0.101793 -0.063814  \n",
       "Broad Jump     -0.050224 -0.354821 -0.317262  \n",
       "3Cone           1.000000  0.027840 -0.014143  \n",
       "Shuttle         0.027840  1.000000  0.261742  \n",
       "40yd           -0.014143  0.261742  1.000000  "
      ]
     },
     "execution_count": 271,
     "metadata": {},
     "output_type": "execute_result"
    }
   ],
   "source": [
    "hcorr"
   ]
  },
  {
   "cell_type": "code",
   "execution_count": 272,
   "metadata": {},
   "outputs": [],
   "source": [
    "fb = mcfd[mcfd['Position'] == 'FB']"
   ]
  },
  {
   "cell_type": "code",
   "execution_count": 273,
   "metadata": {},
   "outputs": [],
   "source": [
    "fbcount = fb.groupby('College').count()"
   ]
  },
  {
   "cell_type": "code",
   "execution_count": 274,
   "metadata": {},
   "outputs": [
    {
     "name": "stdout",
     "output_type": "stream",
     "text": [
      "College\n",
      "UCLA             2\n",
      "Alabama          1\n",
      "Oklahoma         1\n",
      "West Georgia     1\n",
      "Washington       1\n",
      "Wake Forest      1\n",
      "Virginia Tech    1\n",
      "Villanova        1\n",
      "USC              1\n",
      "Tennessee        1\n",
      "Name: Unnamed: 0, dtype: int64\n"
     ]
    }
   ],
   "source": [
    "fbsort = fbcount.sort_values('Unnamed: 0', ascending= False)\n",
    "fbtop10 = fbsort.head(10)\n",
    "print(fbtop10['Unnamed: 0'])"
   ]
  },
  {
   "cell_type": "code",
   "execution_count": 345,
   "metadata": {},
   "outputs": [],
   "source": [
    "##Defense"
   ]
  },
  {
   "cell_type": "code",
   "execution_count": 346,
   "metadata": {},
   "outputs": [],
   "source": [
    "#Defensive Tackle"
   ]
  },
  {
   "cell_type": "code",
   "execution_count": 276,
   "metadata": {},
   "outputs": [],
   "source": [
    "dt = mcfd[mcfd['Position'] == 'DT']"
   ]
  },
  {
   "cell_type": "code",
   "execution_count": 277,
   "metadata": {},
   "outputs": [],
   "source": [
    "dtcount = dt.groupby('College').count()"
   ]
  },
  {
   "cell_type": "code",
   "execution_count": 278,
   "metadata": {},
   "outputs": [],
   "source": [
    "dtsort = dtcount.sort_values('Unnamed: 0', ascending = False)"
   ]
  },
  {
   "cell_type": "code",
   "execution_count": 279,
   "metadata": {},
   "outputs": [],
   "source": [
    "dttop10 = dtsort.head(10)"
   ]
  },
  {
   "cell_type": "code",
   "execution_count": 280,
   "metadata": {},
   "outputs": [
    {
     "name": "stdout",
     "output_type": "stream",
     "text": [
      "College\n",
      "Alabama            7\n",
      "Auburn             5\n",
      "LSU                5\n",
      "Clemson            5\n",
      "Tennessee          4\n",
      "Mississippi St.    4\n",
      "Ohio State         3\n",
      "Iowa               3\n",
      "Florida            3\n",
      "Notre Dame         3\n",
      "Name: Unnamed: 0, dtype: int64\n"
     ]
    }
   ],
   "source": [
    "print(dttop10['Unnamed: 0'])"
   ]
  },
  {
   "cell_type": "code",
   "execution_count": 282,
   "metadata": {},
   "outputs": [
    {
     "data": {
      "text/plain": [
       "<matplotlib.axes._subplots.AxesSubplot at 0x279f5dd9f60>"
      ]
     },
     "execution_count": 282,
     "metadata": {},
     "output_type": "execute_result"
    },
    {
     "data": {
      "image/png": "[encoded data removed]",
      "text/plain": [
       "<matplotlib.figure.Figure at 0x279f5dcf2b0>"
      ]
     },
     "metadata": {},
     "output_type": "display_data"
    }
   ],
   "source": [
    "dttop10['Unnamed: 0'].plot.bar()"
   ]
  },
  {
   "cell_type": "code",
   "execution_count": 283,
   "metadata": {},
   "outputs": [],
   "source": [
    "dtmeans = dt[['Wt', 'Vertical', 'Bench', 'Broad Jump', '3Cone', 'Shuttle', '40yd']].mean()"
   ]
  },
  {
   "cell_type": "code",
   "execution_count": 284,
   "metadata": {},
   "outputs": [
    {
     "name": "stdout",
     "output_type": "stream",
     "text": [
      "Wt            309.380435\n",
      "Vertical       28.651316\n",
      "Bench          27.472222\n",
      "Broad Jump    104.905405\n",
      "3Cone           7.679855\n",
      "Shuttle         4.660714\n",
      "40yd            4.888978\n",
      "dtype: float64 Wt           -3.055929\n",
      "Vertical      0.949188\n",
      "Bench         0.764905\n",
      "Broad Jump    1.759572\n",
      "3Cone        -0.112971\n",
      "Shuttle      -0.049498\n",
      "40yd         -0.336113\n",
      "dtype: float64 3Cone            -0.058933\n",
      "40yd             -0.344852\n",
      "Bench             1.115079\n",
      "Broad Jump        2.505405\n",
      "Overall Rating         NaN\n",
      "Shuttle           0.012185\n",
      "Vertical          1.304094\n",
      "Wt                2.005435\n",
      "dtype: float64\n"
     ]
    }
   ],
   "source": [
    "print(dtmeans, dtmeans - lgmeans, dtmeans - cmean)"
   ]
  },
  {
   "cell_type": "code",
   "execution_count": 285,
   "metadata": {},
   "outputs": [],
   "source": [
    "dtcorr = dt[['Overall Rating', 'Wt', 'Vertical', 'Bench', 'Broad Jump', '3Cone', 'Shuttle', '40yd']].corr()"
   ]
  },
  {
   "cell_type": "code",
   "execution_count": 286,
   "metadata": {},
   "outputs": [
    {
     "data": {
      "text/html": [
       "<div>\n",
       "<style scoped>\n",
       "    .dataframe tbody tr th:only-of-type {\n",
       "        vertical-align: middle;\n",
       "    }\n",
       "\n",
       "    .dataframe tbody tr th {\n",
       "        vertical-align: top;\n",
       "    }\n",
       "\n",
       "    .dataframe thead th {\n",
       "        text-align: right;\n",
       "    }\n",
       "</style>\n",
       "<table border=\"1\" class=\"dataframe\">\n",
       "  <thead>\n",
       "    <tr style=\"text-align: right;\">\n",
       "      <th></th>\n",
       "      <th>Overall Rating</th>\n",
       "      <th>Wt</th>\n",
       "      <th>Vertical</th>\n",
       "      <th>Bench</th>\n",
       "      <th>Broad Jump</th>\n",
       "      <th>3Cone</th>\n",
       "      <th>Shuttle</th>\n",
       "      <th>40yd</th>\n",
       "    </tr>\n",
       "  </thead>\n",
       "  <tbody>\n",
       "    <tr>\n",
       "      <th>Overall Rating</th>\n",
       "      <td>1.000000</td>\n",
       "      <td>0.019548</td>\n",
       "      <td>0.052936</td>\n",
       "      <td>0.104453</td>\n",
       "      <td>0.042765</td>\n",
       "      <td>-0.157080</td>\n",
       "      <td>-0.109525</td>\n",
       "      <td>-0.095315</td>\n",
       "    </tr>\n",
       "    <tr>\n",
       "      <th>Wt</th>\n",
       "      <td>0.019548</td>\n",
       "      <td>1.000000</td>\n",
       "      <td>-0.432618</td>\n",
       "      <td>0.262344</td>\n",
       "      <td>-0.542910</td>\n",
       "      <td>0.551615</td>\n",
       "      <td>0.418875</td>\n",
       "      <td>0.332774</td>\n",
       "    </tr>\n",
       "    <tr>\n",
       "      <th>Vertical</th>\n",
       "      <td>0.052936</td>\n",
       "      <td>-0.432618</td>\n",
       "      <td>1.000000</td>\n",
       "      <td>0.128570</td>\n",
       "      <td>0.579819</td>\n",
       "      <td>-0.347134</td>\n",
       "      <td>-0.440322</td>\n",
       "      <td>-0.260466</td>\n",
       "    </tr>\n",
       "    <tr>\n",
       "      <th>Bench</th>\n",
       "      <td>0.104453</td>\n",
       "      <td>0.262344</td>\n",
       "      <td>0.128570</td>\n",
       "      <td>1.000000</td>\n",
       "      <td>-0.018996</td>\n",
       "      <td>-0.009965</td>\n",
       "      <td>-0.001561</td>\n",
       "      <td>0.012260</td>\n",
       "    </tr>\n",
       "    <tr>\n",
       "      <th>Broad Jump</th>\n",
       "      <td>0.042765</td>\n",
       "      <td>-0.542910</td>\n",
       "      <td>0.579819</td>\n",
       "      <td>-0.018996</td>\n",
       "      <td>1.000000</td>\n",
       "      <td>-0.545643</td>\n",
       "      <td>-0.447753</td>\n",
       "      <td>-0.355737</td>\n",
       "    </tr>\n",
       "    <tr>\n",
       "      <th>3Cone</th>\n",
       "      <td>-0.157080</td>\n",
       "      <td>0.551615</td>\n",
       "      <td>-0.347134</td>\n",
       "      <td>-0.009965</td>\n",
       "      <td>-0.545643</td>\n",
       "      <td>1.000000</td>\n",
       "      <td>0.651701</td>\n",
       "      <td>0.295697</td>\n",
       "    </tr>\n",
       "    <tr>\n",
       "      <th>Shuttle</th>\n",
       "      <td>-0.109525</td>\n",
       "      <td>0.418875</td>\n",
       "      <td>-0.440322</td>\n",
       "      <td>-0.001561</td>\n",
       "      <td>-0.447753</td>\n",
       "      <td>0.651701</td>\n",
       "      <td>1.000000</td>\n",
       "      <td>0.277994</td>\n",
       "    </tr>\n",
       "    <tr>\n",
       "      <th>40yd</th>\n",
       "      <td>-0.095315</td>\n",
       "      <td>0.332774</td>\n",
       "      <td>-0.260466</td>\n",
       "      <td>0.012260</td>\n",
       "      <td>-0.355737</td>\n",
       "      <td>0.295697</td>\n",
       "      <td>0.277994</td>\n",
       "      <td>1.000000</td>\n",
       "    </tr>\n",
       "  </tbody>\n",
       "</table>\n",
       "</div>"
      ],
      "text/plain": [
       "                Overall Rating        Wt  Vertical     Bench  Broad Jump  \\\n",
       "Overall Rating        1.000000  0.019548  0.052936  0.104453    0.042765   \n",
       "Wt                    0.019548  1.000000 -0.432618  0.262344   -0.542910   \n",
       "Vertical              0.052936 -0.432618  1.000000  0.128570    0.579819   \n",
       "Bench                 0.104453  0.262344  0.128570  1.000000   -0.018996   \n",
       "Broad Jump            0.042765 -0.542910  0.579819 -0.018996    1.000000   \n",
       "3Cone                -0.157080  0.551615 -0.347134 -0.009965   -0.545643   \n",
       "Shuttle              -0.109525  0.418875 -0.440322 -0.001561   -0.447753   \n",
       "40yd                 -0.095315  0.332774 -0.260466  0.012260   -0.355737   \n",
       "\n",
       "                   3Cone   Shuttle      40yd  \n",
       "Overall Rating -0.157080 -0.109525 -0.095315  \n",
       "Wt              0.551615  0.418875  0.332774  \n",
       "Vertical       -0.347134 -0.440322 -0.260466  \n",
       "Bench          -0.009965 -0.001561  0.012260  \n",
       "Broad Jump     -0.545643 -0.447753 -0.355737  \n",
       "3Cone           1.000000  0.651701  0.295697  \n",
       "Shuttle         0.651701  1.000000  0.277994  \n",
       "40yd            0.295697  0.277994  1.000000  "
      ]
     },
     "execution_count": 286,
     "metadata": {},
     "output_type": "execute_result"
    }
   ],
   "source": [
    "dtcorr"
   ]
  },
  {
   "cell_type": "code",
   "execution_count": null,
   "metadata": {},
   "outputs": [],
   "source": [
    "##Defensive Ends"
   ]
  },
  {
   "cell_type": "code",
   "execution_count": 287,
   "metadata": {},
   "outputs": [],
   "source": [
    "re = mcfd[mcfd['Position'] == 'RE']"
   ]
  },
  {
   "cell_type": "code",
   "execution_count": 288,
   "metadata": {},
   "outputs": [
    {
     "name": "stdout",
     "output_type": "stream",
     "text": [
      "College\n",
      "Alabama           2\n",
      "Alabama AM        1\n",
      "Appalach. St.     1\n",
      "Arizona           2\n",
      "Arizona St.       1\n",
      "Arkansas          2\n",
      "Auburn            1\n",
      "Bloomsburg        1\n",
      "Boise State       3\n",
      "Boston College    1\n",
      "Name: Unnamed: 0, dtype: int64\n"
     ]
    }
   ],
   "source": [
    "le = mcfd[mcfd['Position'] == 'LE']\n",
    "lecount = le.groupby('College').count()\n",
    "letop10 = lecount.head(10)\n",
    "print(letop10['Unnamed: 0'])"
   ]
  },
  {
   "cell_type": "code",
   "execution_count": 289,
   "metadata": {},
   "outputs": [],
   "source": [
    "recount = re.groupby('College').count()"
   ]
  },
  {
   "cell_type": "code",
   "execution_count": 290,
   "metadata": {},
   "outputs": [],
   "source": [
    "resort = recount.sort_values('Unnamed: 0', ascending=False)"
   ]
  },
  {
   "cell_type": "code",
   "execution_count": 291,
   "metadata": {},
   "outputs": [
    {
     "name": "stdout",
     "output_type": "stream",
     "text": [
      "College\n",
      "Miami              4\n",
      "Mississippi St.    4\n",
      "Penn State         4\n",
      "USC                4\n",
      "Texas AM           3\n",
      "South Carolina     3\n",
      "Iowa               3\n",
      "Georgia Tech       3\n",
      "Florida            3\n",
      "Carson-Newman      3\n",
      "Name: Unnamed: 0, dtype: int64\n"
     ]
    }
   ],
   "source": [
    "retop10 = resort.head(10)\n",
    "print(retop10['Unnamed: 0'])"
   ]
  },
  {
   "cell_type": "code",
   "execution_count": null,
   "metadata": {},
   "outputs": [],
   "source": []
  },
  {
   "cell_type": "code",
   "execution_count": 293,
   "metadata": {},
   "outputs": [],
   "source": [
    "de = pd.concat([re, le], axis = 0)"
   ]
  },
  {
   "cell_type": "code",
   "execution_count": 294,
   "metadata": {},
   "outputs": [],
   "source": [
    "decount = de.groupby('College').count()"
   ]
  },
  {
   "cell_type": "code",
   "execution_count": 295,
   "metadata": {},
   "outputs": [],
   "source": [
    "desort = decount.sort_values('Unnamed: 0', ascending=False)"
   ]
  },
  {
   "cell_type": "code",
   "execution_count": 296,
   "metadata": {},
   "outputs": [],
   "source": [
    "detop10 = desort.head(10)"
   ]
  },
  {
   "cell_type": "code",
   "execution_count": 297,
   "metadata": {},
   "outputs": [
    {
     "name": "stdout",
     "output_type": "stream",
     "text": [
      "College\n",
      "Florida            7\n",
      "Mississippi St.    7\n",
      "Penn State         6\n",
      "LSU                6\n",
      "UCLA               5\n",
      "USC                5\n",
      "Michigan           5\n",
      "Georgia            5\n",
      "Virginia           4\n",
      "Ole Miss           4\n",
      "Name: Unnamed: 0, dtype: int64\n"
     ]
    }
   ],
   "source": [
    "print(detop10['Unnamed: 0'])"
   ]
  },
  {
   "cell_type": "code",
   "execution_count": 298,
   "metadata": {},
   "outputs": [
    {
     "data": {
      "text/plain": [
       "<matplotlib.axes._subplots.AxesSubplot at 0x279f91b88d0>"
      ]
     },
     "execution_count": 298,
     "metadata": {},
     "output_type": "execute_result"
    },
    {
     "data": {
      "image/png": "[encoded data removed]",
      "text/plain": [
       "<matplotlib.figure.Figure at 0x279f5f8d0f0>"
      ]
     },
     "metadata": {},
     "output_type": "display_data"
    }
   ],
   "source": [
    "detop10['Unnamed: 0'].plot.bar()"
   ]
  },
  {
   "cell_type": "code",
   "execution_count": 300,
   "metadata": {},
   "outputs": [],
   "source": [
    "demean = de[['Wt', 'Vertical', 'Bench', 'Broad Jump', '3Cone', 'Shuttle', '40yd']].mean()"
   ]
  },
  {
   "cell_type": "code",
   "execution_count": 301,
   "metadata": {},
   "outputs": [
    {
     "name": "stdout",
     "output_type": "stream",
     "text": [
      "3Cone        -25.062413\n",
      "40yd           0.115067\n",
      "Bench          4.035039\n",
      "Broad Jump    -0.939084\n",
      "Shuttle        0.081611\n",
      "Vertical      -0.583632\n",
      "Wt            32.038940\n",
      "dtype: float64\n"
     ]
    }
   ],
   "source": [
    "print(demean - means)"
   ]
  },
  {
   "cell_type": "code",
   "execution_count": 302,
   "metadata": {},
   "outputs": [],
   "source": [
    "decorr = de[['Overall Rating', 'Wt', 'Vertical', 'Bench', 'Broad Jump', '3Cone', 'Shuttle', '40yd']].corr()"
   ]
  },
  {
   "cell_type": "code",
   "execution_count": 303,
   "metadata": {},
   "outputs": [
    {
     "data": {
      "text/html": [
       "<div>\n",
       "<style scoped>\n",
       "    .dataframe tbody tr th:only-of-type {\n",
       "        vertical-align: middle;\n",
       "    }\n",
       "\n",
       "    .dataframe tbody tr th {\n",
       "        vertical-align: top;\n",
       "    }\n",
       "\n",
       "    .dataframe thead th {\n",
       "        text-align: right;\n",
       "    }\n",
       "</style>\n",
       "<table border=\"1\" class=\"dataframe\">\n",
       "  <thead>\n",
       "    <tr style=\"text-align: right;\">\n",
       "      <th></th>\n",
       "      <th>Overall Rating</th>\n",
       "      <th>Wt</th>\n",
       "      <th>Vertical</th>\n",
       "      <th>Bench</th>\n",
       "      <th>Broad Jump</th>\n",
       "      <th>3Cone</th>\n",
       "      <th>Shuttle</th>\n",
       "      <th>40yd</th>\n",
       "    </tr>\n",
       "  </thead>\n",
       "  <tbody>\n",
       "    <tr>\n",
       "      <th>Overall Rating</th>\n",
       "      <td>1.000000</td>\n",
       "      <td>-0.036935</td>\n",
       "      <td>0.054510</td>\n",
       "      <td>0.091916</td>\n",
       "      <td>0.023024</td>\n",
       "      <td>-0.172538</td>\n",
       "      <td>-0.124194</td>\n",
       "      <td>-0.081734</td>\n",
       "    </tr>\n",
       "    <tr>\n",
       "      <th>Wt</th>\n",
       "      <td>-0.036935</td>\n",
       "      <td>1.000000</td>\n",
       "      <td>-0.409310</td>\n",
       "      <td>0.448773</td>\n",
       "      <td>-0.533544</td>\n",
       "      <td>0.481980</td>\n",
       "      <td>0.410051</td>\n",
       "      <td>0.676403</td>\n",
       "    </tr>\n",
       "    <tr>\n",
       "      <th>Vertical</th>\n",
       "      <td>0.054510</td>\n",
       "      <td>-0.409310</td>\n",
       "      <td>1.000000</td>\n",
       "      <td>0.090936</td>\n",
       "      <td>0.693197</td>\n",
       "      <td>-0.319900</td>\n",
       "      <td>-0.405754</td>\n",
       "      <td>-0.508018</td>\n",
       "    </tr>\n",
       "    <tr>\n",
       "      <th>Bench</th>\n",
       "      <td>0.091916</td>\n",
       "      <td>0.448773</td>\n",
       "      <td>0.090936</td>\n",
       "      <td>1.000000</td>\n",
       "      <td>-0.064865</td>\n",
       "      <td>0.123983</td>\n",
       "      <td>0.066615</td>\n",
       "      <td>0.120454</td>\n",
       "    </tr>\n",
       "    <tr>\n",
       "      <th>Broad Jump</th>\n",
       "      <td>0.023024</td>\n",
       "      <td>-0.533544</td>\n",
       "      <td>0.693197</td>\n",
       "      <td>-0.064865</td>\n",
       "      <td>1.000000</td>\n",
       "      <td>-0.428956</td>\n",
       "      <td>-0.401824</td>\n",
       "      <td>-0.577201</td>\n",
       "    </tr>\n",
       "    <tr>\n",
       "      <th>3Cone</th>\n",
       "      <td>-0.172538</td>\n",
       "      <td>0.481980</td>\n",
       "      <td>-0.319900</td>\n",
       "      <td>0.123983</td>\n",
       "      <td>-0.428956</td>\n",
       "      <td>1.000000</td>\n",
       "      <td>0.635676</td>\n",
       "      <td>0.459008</td>\n",
       "    </tr>\n",
       "    <tr>\n",
       "      <th>Shuttle</th>\n",
       "      <td>-0.124194</td>\n",
       "      <td>0.410051</td>\n",
       "      <td>-0.405754</td>\n",
       "      <td>0.066615</td>\n",
       "      <td>-0.401824</td>\n",
       "      <td>0.635676</td>\n",
       "      <td>1.000000</td>\n",
       "      <td>0.430428</td>\n",
       "    </tr>\n",
       "    <tr>\n",
       "      <th>40yd</th>\n",
       "      <td>-0.081734</td>\n",
       "      <td>0.676403</td>\n",
       "      <td>-0.508018</td>\n",
       "      <td>0.120454</td>\n",
       "      <td>-0.577201</td>\n",
       "      <td>0.459008</td>\n",
       "      <td>0.430428</td>\n",
       "      <td>1.000000</td>\n",
       "    </tr>\n",
       "  </tbody>\n",
       "</table>\n",
       "</div>"
      ],
      "text/plain": [
       "                Overall Rating        Wt  Vertical     Bench  Broad Jump  \\\n",
       "Overall Rating        1.000000 -0.036935  0.054510  0.091916    0.023024   \n",
       "Wt                   -0.036935  1.000000 -0.409310  0.448773   -0.533544   \n",
       "Vertical              0.054510 -0.409310  1.000000  0.090936    0.693197   \n",
       "Bench                 0.091916  0.448773  0.090936  1.000000   -0.064865   \n",
       "Broad Jump            0.023024 -0.533544  0.693197 -0.064865    1.000000   \n",
       "3Cone                -0.172538  0.481980 -0.319900  0.123983   -0.428956   \n",
       "Shuttle              -0.124194  0.410051 -0.405754  0.066615   -0.401824   \n",
       "40yd                 -0.081734  0.676403 -0.508018  0.120454   -0.577201   \n",
       "\n",
       "                   3Cone   Shuttle      40yd  \n",
       "Overall Rating -0.172538 -0.124194 -0.081734  \n",
       "Wt              0.481980  0.410051  0.676403  \n",
       "Vertical       -0.319900 -0.405754 -0.508018  \n",
       "Bench           0.123983  0.066615  0.120454  \n",
       "Broad Jump     -0.428956 -0.401824 -0.577201  \n",
       "3Cone           1.000000  0.635676  0.459008  \n",
       "Shuttle         0.635676  1.000000  0.430428  \n",
       "40yd            0.459008  0.430428  1.000000  "
      ]
     },
     "execution_count": 303,
     "metadata": {},
     "output_type": "execute_result"
    }
   ],
   "source": [
    "decorr"
   ]
  },
  {
   "cell_type": "code",
   "execution_count": 359,
   "metadata": {},
   "outputs": [],
   "source": [
    "#Right Outside Linebacker"
   ]
  },
  {
   "cell_type": "code",
   "execution_count": 305,
   "metadata": {},
   "outputs": [],
   "source": [
    "rlb = mcfd[mcfd['Position'] == 'ROLB']"
   ]
  },
  {
   "cell_type": "code",
   "execution_count": 306,
   "metadata": {},
   "outputs": [],
   "source": [
    "rlbcount = rlb.groupby('College').count()"
   ]
  },
  {
   "cell_type": "code",
   "execution_count": 307,
   "metadata": {},
   "outputs": [],
   "source": [
    "rlbsort = rlbcount.sort_values('Unnamed: 0', ascending=False)"
   ]
  },
  {
   "cell_type": "code",
   "execution_count": 308,
   "metadata": {},
   "outputs": [],
   "source": [
    "rlbtop10 = rlbsort.head(10)"
   ]
  },
  {
   "cell_type": "code",
   "execution_count": 309,
   "metadata": {},
   "outputs": [
    {
     "name": "stdout",
     "output_type": "stream",
     "text": [
      "College\n",
      "Texas              4\n",
      "Missouri           4\n",
      "Wisconsin          3\n",
      "California         3\n",
      "Rutgers            3\n",
      "Arizona St.        3\n",
      "Mississippi St.    3\n",
      "LSU                3\n",
      "Georgia            3\n",
      "Alabama            2\n",
      "Name: Unnamed: 0, dtype: int64\n"
     ]
    }
   ],
   "source": [
    "print(rlbtop10['Unnamed: 0'])"
   ]
  },
  {
   "cell_type": "code",
   "execution_count": 310,
   "metadata": {},
   "outputs": [
    {
     "data": {
      "text/plain": [
       "<matplotlib.axes._subplots.AxesSubplot at 0x279f9228588>"
      ]
     },
     "execution_count": 310,
     "metadata": {},
     "output_type": "execute_result"
    },
    {
     "data": {
      "image/png": "[encoded data removed]",
      "text/plain": [
       "<matplotlib.figure.Figure at 0x279f60b5748>"
      ]
     },
     "metadata": {},
     "output_type": "display_data"
    }
   ],
   "source": [
    "rlbtop10['Unnamed: 0'].plot.bar()"
   ]
  },
  {
   "cell_type": "code",
   "execution_count": 311,
   "metadata": {},
   "outputs": [],
   "source": [
    "rlbmeans = rlb[['Wt', 'Vertical', 'Bench', 'Broad Jump', '3Cone', 'Shuttle', '40yd']].mean()"
   ]
  },
  {
   "cell_type": "code",
   "execution_count": 312,
   "metadata": {},
   "outputs": [
    {
     "name": "stdout",
     "output_type": "stream",
     "text": [
      "Wt            248.426471\n",
      "Vertical       33.589286\n",
      "Bench          22.647059\n",
      "Broad Jump    117.910714\n",
      "3Cone           7.083902\n",
      "Shuttle         4.325581\n",
      "40yd            4.736615\n",
      "dtype: float64 3Cone            -0.021934\n",
      "40yd              0.031011\n",
      "Bench             0.714128\n",
      "Broad Jump       -0.452319\n",
      "Overall Rating         NaN\n",
      "Shuttle           0.037195\n",
      "Vertical         -0.300151\n",
      "Wt                9.304123\n",
      "Wt                9.304123\n",
      "dtype: float64\n"
     ]
    }
   ],
   "source": [
    "print(rlbmeans, rlbmeans - mlbmeans)"
   ]
  },
  {
   "cell_type": "code",
   "execution_count": 313,
   "metadata": {},
   "outputs": [],
   "source": [
    "rlbcorr = rlb[['Overall Rating', 'Wt', 'Vertical', 'Bench', 'Broad Jump', '3Cone', 'Shuttle', '40yd']].corr()"
   ]
  },
  {
   "cell_type": "code",
   "execution_count": 314,
   "metadata": {},
   "outputs": [
    {
     "data": {
      "text/html": [
       "<div>\n",
       "<style scoped>\n",
       "    .dataframe tbody tr th:only-of-type {\n",
       "        vertical-align: middle;\n",
       "    }\n",
       "\n",
       "    .dataframe tbody tr th {\n",
       "        vertical-align: top;\n",
       "    }\n",
       "\n",
       "    .dataframe thead th {\n",
       "        text-align: right;\n",
       "    }\n",
       "</style>\n",
       "<table border=\"1\" class=\"dataframe\">\n",
       "  <thead>\n",
       "    <tr style=\"text-align: right;\">\n",
       "      <th></th>\n",
       "      <th>Overall Rating</th>\n",
       "      <th>Wt</th>\n",
       "      <th>Vertical</th>\n",
       "      <th>Bench</th>\n",
       "      <th>Broad Jump</th>\n",
       "      <th>3Cone</th>\n",
       "      <th>Shuttle</th>\n",
       "      <th>40yd</th>\n",
       "    </tr>\n",
       "  </thead>\n",
       "  <tbody>\n",
       "    <tr>\n",
       "      <th>Overall Rating</th>\n",
       "      <td>1.000000</td>\n",
       "      <td>0.013611</td>\n",
       "      <td>0.119447</td>\n",
       "      <td>0.045095</td>\n",
       "      <td>0.154546</td>\n",
       "      <td>-0.025863</td>\n",
       "      <td>-0.069503</td>\n",
       "      <td>-0.125196</td>\n",
       "    </tr>\n",
       "    <tr>\n",
       "      <th>Wt</th>\n",
       "      <td>0.013611</td>\n",
       "      <td>1.000000</td>\n",
       "      <td>-0.097010</td>\n",
       "      <td>0.254790</td>\n",
       "      <td>-0.129612</td>\n",
       "      <td>0.199982</td>\n",
       "      <td>0.339540</td>\n",
       "      <td>0.536233</td>\n",
       "    </tr>\n",
       "    <tr>\n",
       "      <th>Vertical</th>\n",
       "      <td>0.119447</td>\n",
       "      <td>-0.097010</td>\n",
       "      <td>1.000000</td>\n",
       "      <td>0.268501</td>\n",
       "      <td>0.692533</td>\n",
       "      <td>-0.046082</td>\n",
       "      <td>-0.171422</td>\n",
       "      <td>-0.360366</td>\n",
       "    </tr>\n",
       "    <tr>\n",
       "      <th>Bench</th>\n",
       "      <td>0.045095</td>\n",
       "      <td>0.254790</td>\n",
       "      <td>0.268501</td>\n",
       "      <td>1.000000</td>\n",
       "      <td>0.223570</td>\n",
       "      <td>0.032065</td>\n",
       "      <td>0.103938</td>\n",
       "      <td>-0.023691</td>\n",
       "    </tr>\n",
       "    <tr>\n",
       "      <th>Broad Jump</th>\n",
       "      <td>0.154546</td>\n",
       "      <td>-0.129612</td>\n",
       "      <td>0.692533</td>\n",
       "      <td>0.223570</td>\n",
       "      <td>1.000000</td>\n",
       "      <td>-0.121140</td>\n",
       "      <td>-0.141559</td>\n",
       "      <td>-0.493507</td>\n",
       "    </tr>\n",
       "    <tr>\n",
       "      <th>3Cone</th>\n",
       "      <td>-0.025863</td>\n",
       "      <td>0.199982</td>\n",
       "      <td>-0.046082</td>\n",
       "      <td>0.032065</td>\n",
       "      <td>-0.121140</td>\n",
       "      <td>1.000000</td>\n",
       "      <td>0.626233</td>\n",
       "      <td>0.077561</td>\n",
       "    </tr>\n",
       "    <tr>\n",
       "      <th>Shuttle</th>\n",
       "      <td>-0.069503</td>\n",
       "      <td>0.339540</td>\n",
       "      <td>-0.171422</td>\n",
       "      <td>0.103938</td>\n",
       "      <td>-0.141559</td>\n",
       "      <td>0.626233</td>\n",
       "      <td>1.000000</td>\n",
       "      <td>0.215510</td>\n",
       "    </tr>\n",
       "    <tr>\n",
       "      <th>40yd</th>\n",
       "      <td>-0.125196</td>\n",
       "      <td>0.536233</td>\n",
       "      <td>-0.360366</td>\n",
       "      <td>-0.023691</td>\n",
       "      <td>-0.493507</td>\n",
       "      <td>0.077561</td>\n",
       "      <td>0.215510</td>\n",
       "      <td>1.000000</td>\n",
       "    </tr>\n",
       "  </tbody>\n",
       "</table>\n",
       "</div>"
      ],
      "text/plain": [
       "                Overall Rating        Wt  Vertical     Bench  Broad Jump  \\\n",
       "Overall Rating        1.000000  0.013611  0.119447  0.045095    0.154546   \n",
       "Wt                    0.013611  1.000000 -0.097010  0.254790   -0.129612   \n",
       "Vertical              0.119447 -0.097010  1.000000  0.268501    0.692533   \n",
       "Bench                 0.045095  0.254790  0.268501  1.000000    0.223570   \n",
       "Broad Jump            0.154546 -0.129612  0.692533  0.223570    1.000000   \n",
       "3Cone                -0.025863  0.199982 -0.046082  0.032065   -0.121140   \n",
       "Shuttle              -0.069503  0.339540 -0.171422  0.103938   -0.141559   \n",
       "40yd                 -0.125196  0.536233 -0.360366 -0.023691   -0.493507   \n",
       "\n",
       "                   3Cone   Shuttle      40yd  \n",
       "Overall Rating -0.025863 -0.069503 -0.125196  \n",
       "Wt              0.199982  0.339540  0.536233  \n",
       "Vertical       -0.046082 -0.171422 -0.360366  \n",
       "Bench           0.032065  0.103938 -0.023691  \n",
       "Broad Jump     -0.121140 -0.141559 -0.493507  \n",
       "3Cone           1.000000  0.626233  0.077561  \n",
       "Shuttle         0.626233  1.000000  0.215510  \n",
       "40yd            0.077561  0.215510  1.000000  "
      ]
     },
     "execution_count": 314,
     "metadata": {},
     "output_type": "execute_result"
    }
   ],
   "source": [
    "rlbcorr"
   ]
  },
  {
   "cell_type": "code",
   "execution_count": 374,
   "metadata": {},
   "outputs": [],
   "source": [
    "#Left Outside Linebacker"
   ]
  },
  {
   "cell_type": "code",
   "execution_count": 315,
   "metadata": {},
   "outputs": [],
   "source": [
    "llb = mcfd[mcfd['Position'] == 'LOLB']"
   ]
  },
  {
   "cell_type": "code",
   "execution_count": 316,
   "metadata": {},
   "outputs": [],
   "source": [
    "llbcount = llb.groupby('College').count()"
   ]
  },
  {
   "cell_type": "code",
   "execution_count": 317,
   "metadata": {},
   "outputs": [],
   "source": [
    "llbsort = llbcount.sort_values('Unnamed: 0', ascending=False)"
   ]
  },
  {
   "cell_type": "code",
   "execution_count": 318,
   "metadata": {},
   "outputs": [],
   "source": [
    "llbtop10 = llbsort.head(10)"
   ]
  },
  {
   "cell_type": "code",
   "execution_count": 319,
   "metadata": {},
   "outputs": [
    {
     "name": "stdout",
     "output_type": "stream",
     "text": [
      "College\n",
      "UCLA                4\n",
      "Florida State       3\n",
      "Auburn              3\n",
      "Georgia             3\n",
      "USC                 3\n",
      "Utah                3\n",
      "North Dakota St.    2\n",
      "Missouri            2\n",
      "Minnesota           2\n",
      "Miami               2\n",
      "Name: Unnamed: 0, dtype: int64\n"
     ]
    }
   ],
   "source": [
    "print(llbtop10['Unnamed: 0'])"
   ]
  },
  {
   "cell_type": "code",
   "execution_count": 320,
   "metadata": {},
   "outputs": [
    {
     "data": {
      "text/plain": [
       "<matplotlib.axes._subplots.AxesSubplot at 0x279f92836a0>"
      ]
     },
     "execution_count": 320,
     "metadata": {},
     "output_type": "execute_result"
    },
    {
     "data": {
      "image/png": "[encoded data removed]",
      "text/plain": [
       "<matplotlib.figure.Figure at 0x279f9269c88>"
      ]
     },
     "metadata": {},
     "output_type": "display_data"
    }
   ],
   "source": [
    "llbtop10['Unnamed: 0'].plot.bar()"
   ]
  },
  {
   "cell_type": "code",
   "execution_count": 321,
   "metadata": {},
   "outputs": [],
   "source": [
    "fs = mcfd[mcfd['Position'] == 'FS']"
   ]
  },
  {
   "cell_type": "code",
   "execution_count": 323,
   "metadata": {},
   "outputs": [],
   "source": [
    "fscount = fs.groupby('College').count()"
   ]
  },
  {
   "cell_type": "code",
   "execution_count": 324,
   "metadata": {},
   "outputs": [],
   "source": [
    "fssort = fscount.sort_values('Unnamed: 0', ascending=False)"
   ]
  },
  {
   "cell_type": "code",
   "execution_count": 325,
   "metadata": {},
   "outputs": [],
   "source": [
    "fstop10 = fssort.head(10)"
   ]
  },
  {
   "cell_type": "code",
   "execution_count": 326,
   "metadata": {},
   "outputs": [
    {
     "name": "stdout",
     "output_type": "stream",
     "text": [
      "College\n",
      "Ohio State        5\n",
      "Connecticut       4\n",
      "San Jose St.      4\n",
      "Auburn            3\n",
      "Virginia Tech     3\n",
      "Boston College    3\n",
      "Texas AM          3\n",
      "Stanford          3\n",
      "Alabama           2\n",
      "LSU               2\n",
      "Name: Unnamed: 0, dtype: int64\n"
     ]
    }
   ],
   "source": [
    "print(fstop10['Unnamed: 0'])"
   ]
  },
  {
   "cell_type": "code",
   "execution_count": 327,
   "metadata": {},
   "outputs": [
    {
     "data": {
      "text/plain": [
       "<matplotlib.axes._subplots.AxesSubplot at 0x279f92dde80>"
      ]
     },
     "execution_count": 327,
     "metadata": {},
     "output_type": "execute_result"
    },
    {
     "data": {
      "image/png": "[encoded data removed]",
      "text/plain": [
       "<matplotlib.figure.Figure at 0x279f92c5a58>"
      ]
     },
     "metadata": {},
     "output_type": "display_data"
    }
   ],
   "source": [
    "fstop10['Unnamed: 0'].plot.bar()"
   ]
  },
  {
   "cell_type": "code",
   "execution_count": 328,
   "metadata": {},
   "outputs": [],
   "source": [
    "fsmeans = fs[['Wt', 'Vertical', 'Bench', 'Broad Jump', '3Cone', 'Shuttle', '40yd']].mean()"
   ]
  },
  {
   "cell_type": "code",
   "execution_count": 329,
   "metadata": {},
   "outputs": [
    {
     "name": "stdout",
     "output_type": "stream",
     "text": [
      "Wt            204.178266\n",
      "Vertical       35.844910\n",
      "Bench          16.470751\n",
      "Broad Jump    122.461317\n",
      "3Cone           6.945178\n",
      "Shuttle         4.176151\n",
      "40yd            4.567601\n",
      "dtype: float64 3Cone         0.016223\n",
      "40yd          0.062144\n",
      "Bench         1.730894\n",
      "Broad Jump    0.144456\n",
      "Shuttle      -0.003472\n",
      "Vertical      0.174178\n",
      "Wt            7.724026\n",
      "dtype: float64\n"
     ]
    }
   ],
   "source": [
    "print(fsmeans, fsmeans - cbmeans)"
   ]
  },
  {
   "cell_type": "code",
   "execution_count": 330,
   "metadata": {},
   "outputs": [],
   "source": [
    "fscorr = fs[['Overall Rating', 'Wt', 'Vertical', 'Bench', 'Broad Jump', '3Cone', 'Shuttle', '40yd']].corr()"
   ]
  },
  {
   "cell_type": "code",
   "execution_count": 331,
   "metadata": {},
   "outputs": [
    {
     "data": {
      "text/html": [
       "<div>\n",
       "<style scoped>\n",
       "    .dataframe tbody tr th:only-of-type {\n",
       "        vertical-align: middle;\n",
       "    }\n",
       "\n",
       "    .dataframe tbody tr th {\n",
       "        vertical-align: top;\n",
       "    }\n",
       "\n",
       "    .dataframe thead th {\n",
       "        text-align: right;\n",
       "    }\n",
       "</style>\n",
       "<table border=\"1\" class=\"dataframe\">\n",
       "  <thead>\n",
       "    <tr style=\"text-align: right;\">\n",
       "      <th></th>\n",
       "      <th>Overall Rating</th>\n",
       "      <th>Wt</th>\n",
       "      <th>Vertical</th>\n",
       "      <th>Bench</th>\n",
       "      <th>Broad Jump</th>\n",
       "      <th>3Cone</th>\n",
       "      <th>Shuttle</th>\n",
       "      <th>40yd</th>\n",
       "    </tr>\n",
       "  </thead>\n",
       "  <tbody>\n",
       "    <tr>\n",
       "      <th>Overall Rating</th>\n",
       "      <td>1.000000</td>\n",
       "      <td>-0.021303</td>\n",
       "      <td>0.008562</td>\n",
       "      <td>-0.090370</td>\n",
       "      <td>0.016259</td>\n",
       "      <td>-0.076044</td>\n",
       "      <td>-0.011435</td>\n",
       "      <td>-0.113448</td>\n",
       "    </tr>\n",
       "    <tr>\n",
       "      <th>Wt</th>\n",
       "      <td>-0.021303</td>\n",
       "      <td>1.000000</td>\n",
       "      <td>0.006734</td>\n",
       "      <td>0.402940</td>\n",
       "      <td>0.246555</td>\n",
       "      <td>0.002307</td>\n",
       "      <td>0.039899</td>\n",
       "      <td>0.103492</td>\n",
       "    </tr>\n",
       "    <tr>\n",
       "      <th>Vertical</th>\n",
       "      <td>0.008562</td>\n",
       "      <td>0.006734</td>\n",
       "      <td>1.000000</td>\n",
       "      <td>0.136825</td>\n",
       "      <td>0.770151</td>\n",
       "      <td>-0.222962</td>\n",
       "      <td>-0.406878</td>\n",
       "      <td>-0.411479</td>\n",
       "    </tr>\n",
       "    <tr>\n",
       "      <th>Bench</th>\n",
       "      <td>-0.090370</td>\n",
       "      <td>0.402940</td>\n",
       "      <td>0.136825</td>\n",
       "      <td>1.000000</td>\n",
       "      <td>0.144150</td>\n",
       "      <td>-0.112034</td>\n",
       "      <td>0.027308</td>\n",
       "      <td>-0.119007</td>\n",
       "    </tr>\n",
       "    <tr>\n",
       "      <th>Broad Jump</th>\n",
       "      <td>0.016259</td>\n",
       "      <td>0.246555</td>\n",
       "      <td>0.770151</td>\n",
       "      <td>0.144150</td>\n",
       "      <td>1.000000</td>\n",
       "      <td>-0.232883</td>\n",
       "      <td>-0.399162</td>\n",
       "      <td>-0.384034</td>\n",
       "    </tr>\n",
       "    <tr>\n",
       "      <th>3Cone</th>\n",
       "      <td>-0.076044</td>\n",
       "      <td>0.002307</td>\n",
       "      <td>-0.222962</td>\n",
       "      <td>-0.112034</td>\n",
       "      <td>-0.232883</td>\n",
       "      <td>1.000000</td>\n",
       "      <td>0.489954</td>\n",
       "      <td>0.164926</td>\n",
       "    </tr>\n",
       "    <tr>\n",
       "      <th>Shuttle</th>\n",
       "      <td>-0.011435</td>\n",
       "      <td>0.039899</td>\n",
       "      <td>-0.406878</td>\n",
       "      <td>0.027308</td>\n",
       "      <td>-0.399162</td>\n",
       "      <td>0.489954</td>\n",
       "      <td>1.000000</td>\n",
       "      <td>0.268892</td>\n",
       "    </tr>\n",
       "    <tr>\n",
       "      <th>40yd</th>\n",
       "      <td>-0.113448</td>\n",
       "      <td>0.103492</td>\n",
       "      <td>-0.411479</td>\n",
       "      <td>-0.119007</td>\n",
       "      <td>-0.384034</td>\n",
       "      <td>0.164926</td>\n",
       "      <td>0.268892</td>\n",
       "      <td>1.000000</td>\n",
       "    </tr>\n",
       "  </tbody>\n",
       "</table>\n",
       "</div>"
      ],
      "text/plain": [
       "                Overall Rating        Wt  Vertical     Bench  Broad Jump  \\\n",
       "Overall Rating        1.000000 -0.021303  0.008562 -0.090370    0.016259   \n",
       "Wt                   -0.021303  1.000000  0.006734  0.402940    0.246555   \n",
       "Vertical              0.008562  0.006734  1.000000  0.136825    0.770151   \n",
       "Bench                -0.090370  0.402940  0.136825  1.000000    0.144150   \n",
       "Broad Jump            0.016259  0.246555  0.770151  0.144150    1.000000   \n",
       "3Cone                -0.076044  0.002307 -0.222962 -0.112034   -0.232883   \n",
       "Shuttle              -0.011435  0.039899 -0.406878  0.027308   -0.399162   \n",
       "40yd                 -0.113448  0.103492 -0.411479 -0.119007   -0.384034   \n",
       "\n",
       "                   3Cone   Shuttle      40yd  \n",
       "Overall Rating -0.076044 -0.011435 -0.113448  \n",
       "Wt              0.002307  0.039899  0.103492  \n",
       "Vertical       -0.222962 -0.406878 -0.411479  \n",
       "Bench          -0.112034  0.027308 -0.119007  \n",
       "Broad Jump     -0.232883 -0.399162 -0.384034  \n",
       "3Cone           1.000000  0.489954  0.164926  \n",
       "Shuttle         0.489954  1.000000  0.268892  \n",
       "40yd            0.164926  0.268892  1.000000  "
      ]
     },
     "execution_count": 331,
     "metadata": {},
     "output_type": "execute_result"
    }
   ],
   "source": [
    "fscorr"
   ]
  },
  {
   "cell_type": "code",
   "execution_count": 332,
   "metadata": {},
   "outputs": [],
   "source": [
    "ss = mcfd[mcfd['Position'] == 'SS']"
   ]
  },
  {
   "cell_type": "code",
   "execution_count": 333,
   "metadata": {},
   "outputs": [],
   "source": [
    "sscount= ss.groupby('College').count()"
   ]
  },
  {
   "cell_type": "code",
   "execution_count": 334,
   "metadata": {},
   "outputs": [],
   "source": [
    "sssort= sscount.sort_values('Unnamed: 0', ascending= False)"
   ]
  },
  {
   "cell_type": "code",
   "execution_count": 335,
   "metadata": {},
   "outputs": [
    {
     "name": "stdout",
     "output_type": "stream",
     "text": [
      "College\n",
      "Florida          4\n",
      "Oregon           3\n",
      "Georgia          3\n",
      "West Virginia    3\n",
      "USC              3\n",
      "Ohio State       2\n",
      "Notre Dame       2\n",
      "N.C. State       2\n",
      "Michigan         2\n",
      "Miami            2\n",
      "Name: Unnamed: 0, dtype: int64\n"
     ]
    }
   ],
   "source": [
    "sstop10 = sssort.head(10)\n",
    "print(sstop10['Unnamed: 0'])"
   ]
  },
  {
   "cell_type": "code",
   "execution_count": 336,
   "metadata": {},
   "outputs": [
    {
     "data": {
      "text/plain": [
       "<matplotlib.axes._subplots.AxesSubplot at 0x279f9379898>"
      ]
     },
     "execution_count": 336,
     "metadata": {},
     "output_type": "execute_result"
    },
    {
     "data": {
      "image/png": "[encoded data removed]",
      "text/plain": [
       "<matplotlib.figure.Figure at 0x279f92c5978>"
      ]
     },
     "metadata": {},
     "output_type": "display_data"
    }
   ],
   "source": [
    "sstop10['Unnamed: 0'].plot.bar()"
   ]
  },
  {
   "cell_type": "code",
   "execution_count": 337,
   "metadata": {},
   "outputs": [],
   "source": [
    "ssmeans = ss[['Wt', 'Vertical', 'Bench', 'Broad Jump', '3Cone', 'Shuttle', '40yd']].mean()"
   ]
  },
  {
   "cell_type": "code",
   "execution_count": 338,
   "metadata": {},
   "outputs": [
    {
     "name": "stdout",
     "output_type": "stream",
     "text": [
      "Wt            210.048387\n",
      "Vertical       34.413462\n",
      "Bench          16.375000\n",
      "Broad Jump    120.169811\n",
      "3Cone           7.005952\n",
      "Shuttle         4.221026\n",
      "40yd            4.579828\n",
      "dtype: float64 Wt            5.870121\n",
      "Vertical     -1.431449\n",
      "Bench        -0.095751\n",
      "Broad Jump   -2.291506\n",
      "3Cone         0.060774\n",
      "Shuttle       0.044875\n",
      "40yd          0.012227\n",
      "dtype: float64 3Cone          0.076998\n",
      "40yd           0.074371\n",
      "Bench          1.635144\n",
      "Broad Jump    -2.147050\n",
      "Shuttle        0.041403\n",
      "Vertical      -1.257270\n",
      "Wt            13.594147\n",
      "dtype: float64\n"
     ]
    }
   ],
   "source": [
    "print(ssmeans, ssmeans - fsmeans, ssmeans - cbmeans)"
   ]
  },
  {
   "cell_type": "code",
   "execution_count": 339,
   "metadata": {},
   "outputs": [],
   "source": [
    "sscorr = ss[['Overall Rating', 'Wt', 'Vertical', 'Bench', 'Broad Jump', '3Cone', 'Shuttle', '40yd']].corr()"
   ]
  },
  {
   "cell_type": "code",
   "execution_count": 340,
   "metadata": {},
   "outputs": [
    {
     "data": {
      "text/html": [
       "<div>\n",
       "<style scoped>\n",
       "    .dataframe tbody tr th:only-of-type {\n",
       "        vertical-align: middle;\n",
       "    }\n",
       "\n",
       "    .dataframe tbody tr th {\n",
       "        vertical-align: top;\n",
       "    }\n",
       "\n",
       "    .dataframe thead th {\n",
       "        text-align: right;\n",
       "    }\n",
       "</style>\n",
       "<table border=\"1\" class=\"dataframe\">\n",
       "  <thead>\n",
       "    <tr style=\"text-align: right;\">\n",
       "      <th></th>\n",
       "      <th>Overall Rating</th>\n",
       "      <th>Wt</th>\n",
       "      <th>Vertical</th>\n",
       "      <th>Bench</th>\n",
       "      <th>Broad Jump</th>\n",
       "      <th>3Cone</th>\n",
       "      <th>Shuttle</th>\n",
       "      <th>40yd</th>\n",
       "    </tr>\n",
       "  </thead>\n",
       "  <tbody>\n",
       "    <tr>\n",
       "      <th>Overall Rating</th>\n",
       "      <td>1.000000</td>\n",
       "      <td>0.200842</td>\n",
       "      <td>0.137311</td>\n",
       "      <td>0.155467</td>\n",
       "      <td>0.068074</td>\n",
       "      <td>0.099014</td>\n",
       "      <td>0.077150</td>\n",
       "      <td>0.085863</td>\n",
       "    </tr>\n",
       "    <tr>\n",
       "      <th>Wt</th>\n",
       "      <td>0.200842</td>\n",
       "      <td>1.000000</td>\n",
       "      <td>-0.208965</td>\n",
       "      <td>0.231553</td>\n",
       "      <td>-0.341579</td>\n",
       "      <td>0.574528</td>\n",
       "      <td>0.684780</td>\n",
       "      <td>0.645303</td>\n",
       "    </tr>\n",
       "    <tr>\n",
       "      <th>Vertical</th>\n",
       "      <td>0.137311</td>\n",
       "      <td>-0.208965</td>\n",
       "      <td>1.000000</td>\n",
       "      <td>0.275671</td>\n",
       "      <td>0.710859</td>\n",
       "      <td>-0.179215</td>\n",
       "      <td>-0.232421</td>\n",
       "      <td>-0.392194</td>\n",
       "    </tr>\n",
       "    <tr>\n",
       "      <th>Bench</th>\n",
       "      <td>0.155467</td>\n",
       "      <td>0.231553</td>\n",
       "      <td>0.275671</td>\n",
       "      <td>1.000000</td>\n",
       "      <td>0.201703</td>\n",
       "      <td>0.037236</td>\n",
       "      <td>0.068589</td>\n",
       "      <td>-0.124615</td>\n",
       "    </tr>\n",
       "    <tr>\n",
       "      <th>Broad Jump</th>\n",
       "      <td>0.068074</td>\n",
       "      <td>-0.341579</td>\n",
       "      <td>0.710859</td>\n",
       "      <td>0.201703</td>\n",
       "      <td>1.000000</td>\n",
       "      <td>-0.340464</td>\n",
       "      <td>-0.340147</td>\n",
       "      <td>-0.565196</td>\n",
       "    </tr>\n",
       "    <tr>\n",
       "      <th>3Cone</th>\n",
       "      <td>0.099014</td>\n",
       "      <td>0.574528</td>\n",
       "      <td>-0.179215</td>\n",
       "      <td>0.037236</td>\n",
       "      <td>-0.340464</td>\n",
       "      <td>1.000000</td>\n",
       "      <td>0.848522</td>\n",
       "      <td>0.385896</td>\n",
       "    </tr>\n",
       "    <tr>\n",
       "      <th>Shuttle</th>\n",
       "      <td>0.077150</td>\n",
       "      <td>0.684780</td>\n",
       "      <td>-0.232421</td>\n",
       "      <td>0.068589</td>\n",
       "      <td>-0.340147</td>\n",
       "      <td>0.848522</td>\n",
       "      <td>1.000000</td>\n",
       "      <td>0.463874</td>\n",
       "    </tr>\n",
       "    <tr>\n",
       "      <th>40yd</th>\n",
       "      <td>0.085863</td>\n",
       "      <td>0.645303</td>\n",
       "      <td>-0.392194</td>\n",
       "      <td>-0.124615</td>\n",
       "      <td>-0.565196</td>\n",
       "      <td>0.385896</td>\n",
       "      <td>0.463874</td>\n",
       "      <td>1.000000</td>\n",
       "    </tr>\n",
       "  </tbody>\n",
       "</table>\n",
       "</div>"
      ],
      "text/plain": [
       "                Overall Rating        Wt  Vertical     Bench  Broad Jump  \\\n",
       "Overall Rating        1.000000  0.200842  0.137311  0.155467    0.068074   \n",
       "Wt                    0.200842  1.000000 -0.208965  0.231553   -0.341579   \n",
       "Vertical              0.137311 -0.208965  1.000000  0.275671    0.710859   \n",
       "Bench                 0.155467  0.231553  0.275671  1.000000    0.201703   \n",
       "Broad Jump            0.068074 -0.341579  0.710859  0.201703    1.000000   \n",
       "3Cone                 0.099014  0.574528 -0.179215  0.037236   -0.340464   \n",
       "Shuttle               0.077150  0.684780 -0.232421  0.068589   -0.340147   \n",
       "40yd                  0.085863  0.645303 -0.392194 -0.124615   -0.565196   \n",
       "\n",
       "                   3Cone   Shuttle      40yd  \n",
       "Overall Rating  0.099014  0.077150  0.085863  \n",
       "Wt              0.574528  0.684780  0.645303  \n",
       "Vertical       -0.179215 -0.232421 -0.392194  \n",
       "Bench           0.037236  0.068589 -0.124615  \n",
       "Broad Jump     -0.340464 -0.340147 -0.565196  \n",
       "3Cone           1.000000  0.848522  0.385896  \n",
       "Shuttle         0.848522  1.000000  0.463874  \n",
       "40yd            0.385896  0.463874  1.000000  "
      ]
     },
     "execution_count": 340,
     "metadata": {},
     "output_type": "execute_result"
    }
   ],
   "source": [
    "sscorr"
   ]
  },
  {
   "cell_type": "code",
   "execution_count": 341,
   "metadata": {},
   "outputs": [
    {
     "data": {
      "image/png": "[encoded data removed]",
      "text/plain": [
       "<matplotlib.figure.Figure at 0x279f93a5518>"
      ]
     },
     "metadata": {},
     "output_type": "display_data"
    }
   ],
   "source": [
    "plt.scatter(m18['Speed'], m18['Position'])\n",
    "plt.xlabel('Speed')\n",
    "plt.ylabel('Position')\n",
    "plt.title('Speed by Position')\n",
    "plt.show()"
   ]
  },
  {
   "cell_type": "code",
   "execution_count": null,
   "metadata": {},
   "outputs": [],
   "source": []
  },
  {
   "cell_type": "code",
   "execution_count": null,
   "metadata": {},
   "outputs": [],
   "source": []
  },
  {
   "cell_type": "code",
   "execution_count": null,
   "metadata": {},
   "outputs": [],
   "source": []
  },
  {
   "cell_type": "code",
   "execution_count": null,
   "metadata": {},
   "outputs": [],
   "source": []
  },
  {
   "cell_type": "code",
   "execution_count": null,
   "metadata": {},
   "outputs": [],
   "source": []
  },
  {
   "cell_type": "code",
   "execution_count": null,
   "metadata": {},
   "outputs": [],
   "source": []
  },
  {
   "cell_type": "code",
   "execution_count": null,
   "metadata": {},
   "outputs": [],
   "source": []
  },
  {
   "cell_type": "code",
   "execution_count": null,
   "metadata": {},
   "outputs": [],
   "source": []
  },
  {
   "cell_type": "code",
   "execution_count": null,
   "metadata": {},
   "outputs": [],
   "source": []
  },
  {
   "cell_type": "code",
   "execution_count": null,
   "metadata": {},
   "outputs": [],
   "source": []
  },
  {
   "cell_type": "code",
   "execution_count": null,
   "metadata": {},
   "outputs": [],
   "source": []
  },
  {
   "cell_type": "code",
   "execution_count": null,
   "metadata": {},
   "outputs": [],
   "source": []
  },
  {
   "cell_type": "code",
   "execution_count": null,
   "metadata": {},
   "outputs": [],
   "source": []
  },
  {
   "cell_type": "code",
   "execution_count": null,
   "metadata": {},
   "outputs": [],
   "source": []
  },
  {
   "cell_type": "code",
   "execution_count": null,
   "metadata": {},
   "outputs": [],
   "source": [
    " "
   ]
  }
 ],
 "metadata": {
  "kernelspec": {
   "display_name": "Python 3",
   "language": "python",
   "name": "python3"
  },
  "language_info": {
   "codemirror_mode": {
    "name": "ipython",
    "version": 3
   },
   "file_extension": ".py",
   "mimetype": "text/x-python",
   "name": "python",
   "nbconvert_exporter": "python",
   "pygments_lexer": "ipython3",
   "version": "3.6.4"
  }
 },
 "nbformat": 4,
 "nbformat_minor": 2
}
