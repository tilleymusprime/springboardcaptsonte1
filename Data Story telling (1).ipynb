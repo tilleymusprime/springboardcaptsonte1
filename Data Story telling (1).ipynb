{
 "cells": [
  {
   "cell_type": "code",
   "execution_count": 1,
   "metadata": {},
   "outputs": [],
   "source": [
    "import pandas as pd\n",
    "import matplotlib.pyplot as plt"
   ]
  },
  {
   "cell_type": "code",
   "execution_count": null,
   "metadata": {},
   "outputs": [],
   "source": [
    "###Questions asked:\n",
    "### 1. Are left side linemen better than right side linemen?\n",
    "### 2. What attributes are most important for each position?\n",
    "### 3. What school produces the most players?\n",
    "### 4. What school produces the most players for each position?\n",
    "### 5. What attributes have the highest correlations with overall rating?\n",
    "### 6. Which positions are stronger or faster than others?\n"
   ]
  },
  {
   "cell_type": "code",
   "execution_count": 2,
   "metadata": {},
   "outputs": [
    {
     "name": "stderr",
     "output_type": "stream",
     "text": [
      "C:\\Users\\tilleymusprime\\Anaconda3\\lib\\site-packages\\IPython\\core\\interactiveshell.py:2728: DtypeWarning: Columns (3,4,5,59,62,64,65,116,117,163,166,167,177,178,212,213,222,223,239,240,256,257,274,275,290,291,306,307,323,324,339,340,355,356,372,374,377,401,403,406,430,432,435,459,461,484,486,534,536,550,552,583,585,603,605,623,625) have mixed types. Specify dtype option on import or set low_memory=False.\n",
      "  interactivity=interactivity, compiler=compiler, result=result)\n"
     ]
    }
   ],
   "source": [
    "mcfd = pd.read_csv('C:\\\\Users\\\\tilleymusprime\\\\Desktop\\\\nfldf1.csv')"
   ]
  },
  {
   "cell_type": "code",
   "execution_count": null,
   "metadata": {},
   "outputs": [],
   "source": []
  },
  {
   "cell_type": "code",
   "execution_count": 3,
   "metadata": {},
   "outputs": [],
   "source": [
    "mcfdcols = list(mcfd.columns.values)"
   ]
  },
  {
   "cell_type": "code",
   "execution_count": 4,
   "metadata": {
    "scrolled": true
   },
   "outputs": [
    {
     "name": "stdout",
     "output_type": "stream",
     "text": [
      "['Unnamed: 0', 'Index2', 'Index1_x', 'Name', 'Team_x', 'Position_x', 'Height_x', 'Weight_x', 'Age_x_x', 'Overall Rating_x', 'Speed_x', 'Acceleration_x', 'Strength_x', 'Agility_x', 'Awareness_x', 'Catching_x', 'Carrying_x', 'Throw Power_x', 'Throw Accuracy_x', 'Kick Power_x', 'Kick Accuracy_x', 'Run Block_x', 'Pass Block_x', 'Tackle_x', 'Jumping_x', 'Kick Return_x', 'Injury_x', 'Stamina_x', 'Toughness_x', 'Trucking_x', 'Elusiveness_x', 'Ball Carrier Vision_x', 'Stiff Arm_x', 'Spin Move_x', 'Juke Move_x', 'Impact Blocking_x', 'Run Block Strength_x', 'Run Block Footwork_x', 'Pass Block Strength_x', 'Pass Block Footwork_x', 'Power Moves_x', 'Finesse Moves_x', 'Block Shedding_x', 'Pursuit_x', 'Play Recognition_x', 'Man Coverage_x', 'Zone Coverage_x', 'Spectacular Catch_x', 'Catch In Traffic_x', 'Route Running_x', 'Hit Power_x', 'Press_x', 'Release_x', 'Throw Accuracy Short_x', 'Throw Accuracy Mid_x', 'Throw Accuracy Deep_x', 'Play Action_x', 'Throw on the Run_x', 'Years Pro', 'College', 'Total Salary', 'Signing Bonus', 'Handedness', 'Unnamed: 0_y_x', 'Team_y', 'Position_y', 'Height_y', 'Weight_y', 'Age_y_x', 'Overall Rating_y', 'Speed_y', 'Acceleration_y', 'Strength_y', 'Agility_y', 'Awareness_y', 'Catching_y', 'Carrying_y', 'Throw Power_y', 'Throw Accuracy_y', 'Run Block_y', 'Pass Block_y', 'Tackle_y', 'Jumping_y', 'Injury_y', 'Stamina_y', 'Toughness_y', 'Trucking_y', 'Elusiveness_y', 'Ball Carrier Vision_y', 'Stiff Arm_y', 'Spin Move_y', 'Juke Move_y', 'Impact Blocking_y', 'Throw on the Run_y', 'Play Action_y', 'Run Block Strength_y', 'Run Block Footwork_y', 'Pass Block Strength_y', 'Pass Block Footwork_y', 'Power Moves_y', 'Finesse Moves_y', 'Block Shedding_y', 'Pursuit_y', 'Play Recognition_y', 'Man Coverage_y', 'Zone Coverage_y', 'Spectacular Catch_y', 'Catch in Traffic', 'Route Running_y', 'Hit Power_y', 'Press_y', 'Release_y', 'Throw Accuracy Short_y', 'Throw Accuracy Mid_y', 'Throw Accuracy Deep_y', 'Unnamed: 0_x_x', 'Team_x.1', 'Position_x.1', 'Jersey Number', 'OVR', 'Speed_x.1', 'Acceleration_x.1', 'Strength_x.1', 'Agility_x.1', 'Awareness_x.1', 'Catching_x.1', 'Carrying_x.1', 'Throw Power_x.1', 'Throw Accuracy Short_x.1', 'Throw Accuracy Mid', 'Throw Accuracy Deep_x.1', 'Kick Power_y', 'Kick Accuracy_y', 'Run Block_x.1', 'Pass Block_x.1', 'Tackle_x.1', 'Jumping_x.1', 'Kick Return_y', 'Injury_x.1', 'Stamina_x.1', 'Toughness_x.1', 'Trucking_x.1', 'Elusiveness_x.1', 'Ball Carrier Vision_x.1', 'Stiff Arm_x.1', 'Spin Move_x.1', 'Juke Move_x.1', 'Impact Block_x', 'Power Moves', 'Finesse Moves', 'Block Shedding_x.1', 'Pursuit_x.1', 'Play Recognition_x.1', 'Man Coverage_x.1', 'Zone Coverage_x.1', 'Spectactular Catch', 'Catch In Traffic_y', 'Route Running_x.1', 'Hit Power_x.1', 'Press_x.1', 'Release_x.1', 'Play Action_x.1', 'Throw On The Run_x', 'Height', 'Weight', 'Unnamed: 0_y.1_x', 'Team_y.1', 'Position_y.1', 'Overall', 'Speed_y.1', 'Acceleration_y.1', 'Strength_y.1', 'Agility_y.1', 'Awareness_y.1', 'Catching_y.1', 'Carrying_y.1', 'Throw Power_y.1', 'Kick Power', 'Kick Accuracy', 'Run Block_y.1', 'Pass Block_y.1', 'Tackle_y.1', 'Jumping_y.1', 'Return', 'Injury_y.1', 'Stamina_y.1', 'Toughness_y.1', 'Trucking_y.1', 'Elusiveness_y.1', 'Ball Carrier Vision_y.1', 'Stiff Arm_y.1', 'Spin Move_y.1', 'Juke Move_y.1', 'Impact Block_y', 'Power Move', 'Finessee Move', 'Block Shedding_y.1', 'Pursuit_y.1', 'Play Recognition_y.1', 'Man Coverage_y.1', 'Zone Coverage_y.1', 'Spectacular Catch', 'Catch In Traffic', 'Route Running_y.1', 'Hit Power_y.1', 'Press_y.1', 'Release_y.1', 'Throw Accuracy Short_y.1', 'Throw Accuracy Medium', 'Throw Accuracy Deep_y.1', 'Play Action_y.1', 'Throw On The Run_y', 'Pos', 'Ht', 'Wt', 'Vertical', 'Bench', 'Broad Jump', '3Cone', 'Shuttle', '40yd', 'Player', 'School_x_x', 'Conf_x_x', 'G_x_x_x', 'Cmp_x_x', 'Att_x_x_x', 'Pct_x', 'Yds_x_x_x', 'Y/A_x_x', 'AY/A_x_x', 'TD_x_x_x', 'Int_x_x', 'Rate_x_x', 'Att.1_x', 'Yds.1_x_x_x', 'Avg_x_x', 'TD.1_x_x_x', 'Unnamed: 0_y_x_x', 'School_y_x', 'Conf_y_x', 'G_y_x_x', 'Cmp_y_x', 'Att_y_x_x', 'Pct_y', 'Yds_y_x_x', 'Y/A_y_x', 'AY/A_y_x', 'TD_y_x_x', 'Int_y_x', 'Rate_y_x', 'Att.1_y', 'Yds.1_y_x_x', 'Avg_y_x', 'TD.1_y_x_x', 'Unnamed: 0.1_x', 'School_x_x.1', 'Conf_x_x.1', 'G_x_x_x.1', 'Cmp_x', 'Att_x_x_x.1', 'Pct', 'Yds_x_x_x.1', 'Y/A', 'AY/A_x', 'TD_x_x_x.1', 'Int', 'Rate_x', 'Att.1', 'Yds.1_x_x_x.1', 'Avg_x_x.1', 'TD.1_x_x_x.1', 'Unnamed: 0_y_x_x.1', 'Unnamed: 0_x_y_x', 'School_x_y', 'Conf_x_y', 'G_x_y_x', 'Att_x_y_x', 'Yds_x_y_x', 'Avg_x_y', 'TD_x_y_x', 'Rec_x_x_x', 'Yds.1_x_y_x', 'Avg.1_x_x', 'TD.1_x_y_x', 'Plays_x_x', 'Yds.2_x_x', 'Avg.2_x_x', 'TD.2_x_x', 'Unnamed: 0_y_y_x', 'School_y_y', 'Conf_y_y', 'G_y_y_x', 'Att_y_y_x', 'Yds_y_y_x', 'Avg_y_y', 'TD_y_y_x', 'Rec_y_x_x', 'Yds.1_y_y_x', 'Avg.1_y_x', 'TD.1_y_y_x', 'Plays_y_x', 'Yds.2_y_x', 'Avg.2_y_x', 'TD.2_y_x', 'Unnamed: 0.1_y', 'School_y_x.1', 'Conf_y_x.1', 'G_y_x_x.1', 'Att_y_x_x.1', 'Yds_y_x_x.1', 'Avg_y_x.1', 'TD_y_x_x.1', 'Rec_x_x', 'Yds.1_y_x_x.1', 'Avg.1_x', 'TD.1_y_x_x.1', 'Plays_x', 'Yds.2_x', 'Avg.2_x', 'TD.2_x', 'Unnamed: 0_x_y', 'Unnamed: 0_x_y_x.1', 'School_x_y.1', 'Conf_x_y.1', 'G_x_y_x.1', 'Rec_x_y_x', 'Yds_x_y_x.1', 'Avg_x_y.1', 'TD_x_y_x.1', 'Att_x_y_x.1', 'Yds.1_x_y_x.1', 'Avg.1_x_y', 'TD.1_x_y_x.1', 'Plays_x_y', 'Yds.2_x_y', 'Avg.2_x_y', 'TD.2_x_y', 'Unnamed: 0_y_y_x.1', 'School_y_y.1', 'Conf_y_y.1', 'G_y_y_x.1', 'Rec_y_y_x', 'Yds_y_y_x.1', 'Avg_y_y.1', 'TD_y_y_x.1', 'Att_y_y_x.1', 'Yds.1_y_y_x.1', 'Avg.1_y_y', 'TD.1_y_y_x.1', 'Plays_y_y', 'Yds.2_y_y', 'Avg.2_y_y', 'TD.2_y_y', 'Unnamed: 0.1_x.1', 'School', 'Conf', 'G', 'Rec_y_x', 'Yds', 'Avg', 'TD', 'Att', 'Yds.1_x', 'Avg.1_y', 'TD.1', 'Plays_y', 'Yds.2_y', 'Avg.2_y', 'TD.2_y', 'Unnamed: 0_y_y', 'Unnamed: 0_x_x_y', 'Tm_x_x', 'Age_x_x.1', 'Pos_x_x', 'G_x_x_y', 'GS_x_x', 'QBrec_x', 'Cmp_x_y', 'Att_x_x_y', 'Cmp%_x', 'Yds_x_x_y', 'TD_x_x_y', 'TD%_x', 'Int_x_x.1', 'Int%_x', 'Lng_x_x', 'Y/A_x_x.1', 'AY/A_x_y', 'Y/C_x', 'Y/G_x_x', 'Rate_x_y', 'QBR_x', 'Sk_x_x', 'Yds.1_x_x_y', 'NY/A_x', 'ANY/A_x', 'Sk%_x', '4QC_x', 'GWD_x', 'Unnamed: 0_y_x_y', 'Tm_y_x', 'Age_y_x.1', 'Pos_y_x', 'G_y_x_y', 'GS_y_x', 'QBrec_y', 'Cmp_y_y', 'Att_y_x_y', 'Cmp%_y', 'Yds_y_x_y', 'TD_y_x_y', 'TD%_y', 'Int_y_x.1', 'Int%_y', 'Lng_y_x', 'Y/A_y_x.1', 'AY/A_y_y', 'Y/C_y', 'Y/G_y_x', 'Rate_y_y', 'QBR_y', 'Sk_y_x', 'Yds.1_y_x_y', 'NY/A_y', 'ANY/A_y', 'Sk%_y', '4QC_y', 'GWD_y', 'Unnamed: 0_x_x.1', 'Tm_x_x.1', 'Age_x_x.1.1', 'Pos_x_x.1', 'G_x_x.1', 'GS_x_x.1', 'QBrec', 'Cmp_y', 'Att_x', 'Cmp%', 'Yds_x_x.1', 'TD_x_x.1', 'TD%', 'Int_x_y', 'Int%', 'Lng_x_x.1', 'Y/A_x_y', 'AY/A_y', 'Y/C', 'Y/G_x_x.1', 'Rate_y', 'QBR', 'Sk_x', 'Yds.1_x_x.1', 'NY/A', 'ANY/A', 'Sk%', '4QC', 'GWD', 'Unnamed: 0_x_y_y', 'Tm_x_y', 'Age_x_y', 'Pos_x_y', 'G_x_y_y', 'GS_x_y', 'Att_x_y_y', 'Yds_x_y_y', 'TD_x_y_y', 'Lng_x_y', 'Y/A_x_y.1', 'Y/G_x_y', 'A/G_x', 'Tgt_x_x', 'Rec_x_x_y', 'Yds.1_x_y_y', 'Y/R_x_x', 'TD.1_x_x_y', 'Lng.1_x', 'R/G_x_x', 'Y/G.1_x', 'Ctch%_x_x', 'YScm_x', 'RRTD_x', 'Fmb_x_x', 'Unnamed: 0_y_y_y', 'Tm_y_y', 'Age_y_y', 'Pos_y_y', 'G_y_y_y', 'GS_y_y', 'Att_y_y_y', 'Yds_y_y_y', 'TD_y_y_y', 'Lng_y_y', 'Y/A_y_y', 'Y/G_y_y', 'A/G_y', 'Tgt_y_x', 'Rec_y_x_y', 'Yds.1_y_y_y', 'Y/R_y_x', 'TD.1_y_x_y', 'Lng.1_y', 'R/G_y_x', 'Y/G.1_y', 'Ctch%_y_x', 'YScm_y', 'RRTD_y', 'Fmb_y_x', 'Unnamed: 0_y_x.1', 'Tm_y_x.1', 'Age_y_x.1.1', 'Pos_y_x.1', 'G_y_x.1', 'GS_y_x.1', 'Att_y', 'Yds_y_x.1', 'TD_y_x.1', 'Lng_y_x.1', 'Y/A_y_y.1', 'Y/G_y_x.1', 'A/G', 'Tgt_x', 'Rec_x_y', 'Yds.1_y_x.1', 'Y/R_x', 'TD.1_x', 'Lng.1', 'R/G_x', 'Y/G.1', 'Ctch%_x', 'YScm', 'RRTD', 'Fmb_x_x.1', 'Unnamed: 0_x_y.1', 'Tm_x_y.1', 'Age_x_y.1', 'Pos_x_y.1', 'G_x_y.1', 'GS_x_y.1', 'Tgt_x_y', 'Rec_x_y_y', 'Ctch%_x_y', 'Yds_x_y.1', 'Y/R_x_y', 'TD_x_y.1', 'Lng_x_y.1', 'R/G_x_y', 'Y/G_x_y.1', 'Fmb_x_y', 'Unnamed: 0_y_y.1', 'Tm_y_y.1', 'Age_y_y.1', 'Pos_y_y.1', 'G_y_y.1', 'GS_y_y.1', 'Tgt_y_y', 'Rec_y_y_y', 'Ctch%_y_y', 'Yds_y_y.1', 'Y/R_y_y', 'TD_y_y.1', 'Lng_y_y.1', 'R/G_y_y', 'Y/G_y_y.1', 'Fmb_y_y', 'Unnamed: 0_x_y.1.1', 'Tm_x', 'Age_x_y.1.1', 'Pos_x', 'G_x', 'GS_x', 'Tgt_y', 'Rec_y_y', 'Ctch%_y', 'Yds_x', 'Y/R_y', 'TD_x', 'Lng_x', 'R/G_y', 'Y/G', 'Fmb_y_x.1', 'Unnamed: 0_y_y.1.1', 'Index1_y', 'Tm_x.1', 'Age_x.1', 'Pos_x.1', 'G_x.1', 'GS_x.1', 'Int_x_y.1', 'Yds_x.1', 'TD_x.1', 'Lng_x.1', 'PD_x', 'FF_x', 'Fmb_x_y.1', 'FR_x', 'Yds.1_x_y.1', 'TD.1_x_y_y', 'Sk_x_y', 'Tkl_x', 'Ast_x', 'Sfty_x', 'Unnamed: 0_y.1_y', 'Tm_y', 'Age_y_y.1.1', 'Pos_y', 'G_y', 'GS_y', 'Int_y_y', 'Yds_y', 'TD_y', 'Lng_y', 'PD_y', 'FF_y', 'Fmb_y_y.1', 'FR_y', 'Yds.1_y_y.1', 'TD.1_y_y_y', 'Sk_y_y', 'Tkl_y', 'Ast_y', 'Sfty_y', 'Unnamed: 0.1_y.1', 'Tm_y.1', 'Age_y.1', 'Pos_y.1', 'G_y.1', 'GS_y.1', 'Int_y_y.1', 'Yds_y.1', 'TD_y.1', 'Lng_y.1', 'PD', 'FF', 'Fmb', 'FR', 'Yds.1_y', 'TD.1_y', 'Sk_y', 'Tkl', 'Ast', 'Sfty']\n"
     ]
    }
   ],
   "source": [
    "print(mcfdcols)"
   ]
  },
  {
   "cell_type": "code",
   "execution_count": 6,
   "metadata": {},
   "outputs": [],
   "source": [
    "## Overall Stats"
   ]
  },
  {
   "cell_type": "code",
   "execution_count": 6,
   "metadata": {},
   "outputs": [
    {
     "data": {
      "text/html": [
       "<div>\n",
       "<style scoped>\n",
       "    .dataframe tbody tr th:only-of-type {\n",
       "        vertical-align: middle;\n",
       "    }\n",
       "\n",
       "    .dataframe tbody tr th {\n",
       "        vertical-align: top;\n",
       "    }\n",
       "\n",
       "    .dataframe thead th {\n",
       "        text-align: right;\n",
       "    }\n",
       "</style>\n",
       "<table border=\"1\" class=\"dataframe\">\n",
       "  <thead>\n",
       "    <tr style=\"text-align: right;\">\n",
       "      <th></th>\n",
       "      <th>Unnamed: 0</th>\n",
       "      <th>Index2</th>\n",
       "      <th>Index1_x</th>\n",
       "      <th>Height_x</th>\n",
       "      <th>Weight_x</th>\n",
       "      <th>Age_x_x</th>\n",
       "      <th>Overall Rating_x</th>\n",
       "      <th>Speed_x</th>\n",
       "      <th>Acceleration_x</th>\n",
       "      <th>Strength_x</th>\n",
       "      <th>...</th>\n",
       "      <th>PD</th>\n",
       "      <th>FF</th>\n",
       "      <th>Fmb</th>\n",
       "      <th>FR</th>\n",
       "      <th>Yds.1_y</th>\n",
       "      <th>TD.1_y</th>\n",
       "      <th>Sk_y</th>\n",
       "      <th>Tkl</th>\n",
       "      <th>Ast</th>\n",
       "      <th>Sfty</th>\n",
       "    </tr>\n",
       "  </thead>\n",
       "  <tbody>\n",
       "    <tr>\n",
       "      <th>count</th>\n",
       "      <td>6657.000000</td>\n",
       "      <td>3583.000000</td>\n",
       "      <td>2459.000000</td>\n",
       "      <td>2459.000000</td>\n",
       "      <td>2459.000000</td>\n",
       "      <td>2459.000000</td>\n",
       "      <td>2459.000000</td>\n",
       "      <td>2459.000000</td>\n",
       "      <td>2459.000000</td>\n",
       "      <td>2459.000000</td>\n",
       "      <td>...</td>\n",
       "      <td>437.000000</td>\n",
       "      <td>375.000000</td>\n",
       "      <td>375.000000</td>\n",
       "      <td>375.000000</td>\n",
       "      <td>375.000000</td>\n",
       "      <td>375.000000</td>\n",
       "      <td>319.000000</td>\n",
       "      <td>599.000000</td>\n",
       "      <td>599.000000</td>\n",
       "      <td>3.0</td>\n",
       "    </tr>\n",
       "    <tr>\n",
       "      <th>mean</th>\n",
       "      <td>3328.000000</td>\n",
       "      <td>1764.391292</td>\n",
       "      <td>1167.359496</td>\n",
       "      <td>74.039854</td>\n",
       "      <td>245.633591</td>\n",
       "      <td>25.893859</td>\n",
       "      <td>72.090281</td>\n",
       "      <td>79.629118</td>\n",
       "      <td>85.326962</td>\n",
       "      <td>72.437983</td>\n",
       "      <td>...</td>\n",
       "      <td>4.711670</td>\n",
       "      <td>1.122667</td>\n",
       "      <td>0.546667</td>\n",
       "      <td>0.885333</td>\n",
       "      <td>2.936000</td>\n",
       "      <td>0.146667</td>\n",
       "      <td>3.565831</td>\n",
       "      <td>28.081803</td>\n",
       "      <td>11.360601</td>\n",
       "      <td>1.0</td>\n",
       "    </tr>\n",
       "    <tr>\n",
       "      <th>std</th>\n",
       "      <td>1921.854703</td>\n",
       "      <td>1024.075281</td>\n",
       "      <td>678.142541</td>\n",
       "      <td>2.643759</td>\n",
       "      <td>46.156184</td>\n",
       "      <td>3.152440</td>\n",
       "      <td>8.978502</td>\n",
       "      <td>10.102803</td>\n",
       "      <td>6.123529</td>\n",
       "      <td>12.465172</td>\n",
       "      <td>...</td>\n",
       "      <td>4.393404</td>\n",
       "      <td>1.324751</td>\n",
       "      <td>1.954655</td>\n",
       "      <td>1.029082</td>\n",
       "      <td>10.926647</td>\n",
       "      <td>0.361715</td>\n",
       "      <td>3.108933</td>\n",
       "      <td>21.501458</td>\n",
       "      <td>9.482435</td>\n",
       "      <td>0.0</td>\n",
       "    </tr>\n",
       "    <tr>\n",
       "      <th>min</th>\n",
       "      <td>0.000000</td>\n",
       "      <td>0.000000</td>\n",
       "      <td>0.000000</td>\n",
       "      <td>66.000000</td>\n",
       "      <td>160.000000</td>\n",
       "      <td>20.000000</td>\n",
       "      <td>40.000000</td>\n",
       "      <td>50.000000</td>\n",
       "      <td>58.000000</td>\n",
       "      <td>20.000000</td>\n",
       "      <td>...</td>\n",
       "      <td>1.000000</td>\n",
       "      <td>0.000000</td>\n",
       "      <td>0.000000</td>\n",
       "      <td>0.000000</td>\n",
       "      <td>-52.000000</td>\n",
       "      <td>0.000000</td>\n",
       "      <td>0.500000</td>\n",
       "      <td>0.000000</td>\n",
       "      <td>0.000000</td>\n",
       "      <td>1.0</td>\n",
       "    </tr>\n",
       "    <tr>\n",
       "      <th>25%</th>\n",
       "      <td>1664.000000</td>\n",
       "      <td>859.500000</td>\n",
       "      <td>584.500000</td>\n",
       "      <td>72.000000</td>\n",
       "      <td>205.000000</td>\n",
       "      <td>24.000000</td>\n",
       "      <td>66.000000</td>\n",
       "      <td>72.000000</td>\n",
       "      <td>82.000000</td>\n",
       "      <td>65.000000</td>\n",
       "      <td>...</td>\n",
       "      <td>2.000000</td>\n",
       "      <td>0.000000</td>\n",
       "      <td>0.000000</td>\n",
       "      <td>0.000000</td>\n",
       "      <td>0.000000</td>\n",
       "      <td>0.000000</td>\n",
       "      <td>1.000000</td>\n",
       "      <td>12.000000</td>\n",
       "      <td>5.000000</td>\n",
       "      <td>1.0</td>\n",
       "    </tr>\n",
       "    <tr>\n",
       "      <th>50%</th>\n",
       "      <td>3328.000000</td>\n",
       "      <td>1769.000000</td>\n",
       "      <td>1152.000000</td>\n",
       "      <td>74.000000</td>\n",
       "      <td>236.000000</td>\n",
       "      <td>25.000000</td>\n",
       "      <td>71.000000</td>\n",
       "      <td>82.000000</td>\n",
       "      <td>87.000000</td>\n",
       "      <td>73.000000</td>\n",
       "      <td>...</td>\n",
       "      <td>3.000000</td>\n",
       "      <td>1.000000</td>\n",
       "      <td>0.000000</td>\n",
       "      <td>1.000000</td>\n",
       "      <td>0.000000</td>\n",
       "      <td>0.000000</td>\n",
       "      <td>2.000000</td>\n",
       "      <td>22.000000</td>\n",
       "      <td>10.000000</td>\n",
       "      <td>1.0</td>\n",
       "    </tr>\n",
       "    <tr>\n",
       "      <th>75%</th>\n",
       "      <td>4992.000000</td>\n",
       "      <td>2648.500000</td>\n",
       "      <td>1763.000000</td>\n",
       "      <td>76.000000</td>\n",
       "      <td>290.000000</td>\n",
       "      <td>28.000000</td>\n",
       "      <td>78.000000</td>\n",
       "      <td>88.000000</td>\n",
       "      <td>90.000000</td>\n",
       "      <td>82.000000</td>\n",
       "      <td>...</td>\n",
       "      <td>7.000000</td>\n",
       "      <td>2.000000</td>\n",
       "      <td>0.000000</td>\n",
       "      <td>1.000000</td>\n",
       "      <td>0.000000</td>\n",
       "      <td>0.000000</td>\n",
       "      <td>6.000000</td>\n",
       "      <td>39.500000</td>\n",
       "      <td>15.000000</td>\n",
       "      <td>1.0</td>\n",
       "    </tr>\n",
       "    <tr>\n",
       "      <th>max</th>\n",
       "      <td>6656.000000</td>\n",
       "      <td>3541.000000</td>\n",
       "      <td>2352.000000</td>\n",
       "      <td>82.000000</td>\n",
       "      <td>361.000000</td>\n",
       "      <td>44.000000</td>\n",
       "      <td>99.000000</td>\n",
       "      <td>98.000000</td>\n",
       "      <td>96.000000</td>\n",
       "      <td>98.000000</td>\n",
       "      <td>...</td>\n",
       "      <td>26.000000</td>\n",
       "      <td>5.000000</td>\n",
       "      <td>15.000000</td>\n",
       "      <td>7.000000</td>\n",
       "      <td>71.000000</td>\n",
       "      <td>2.000000</td>\n",
       "      <td>17.000000</td>\n",
       "      <td>97.000000</td>\n",
       "      <td>60.000000</td>\n",
       "      <td>1.0</td>\n",
       "    </tr>\n",
       "  </tbody>\n",
       "</table>\n",
       "<p>8 rows × 580 columns</p>\n",
       "</div>"
      ],
      "text/plain": [
       "        Unnamed: 0       Index2     Index1_x     Height_x     Weight_x  \\\n",
       "count  6657.000000  3583.000000  2459.000000  2459.000000  2459.000000   \n",
       "mean   3328.000000  1764.391292  1167.359496    74.039854   245.633591   \n",
       "std    1921.854703  1024.075281   678.142541     2.643759    46.156184   \n",
       "min       0.000000     0.000000     0.000000    66.000000   160.000000   \n",
       "25%    1664.000000   859.500000   584.500000    72.000000   205.000000   \n",
       "50%    3328.000000  1769.000000  1152.000000    74.000000   236.000000   \n",
       "75%    4992.000000  2648.500000  1763.000000    76.000000   290.000000   \n",
       "max    6656.000000  3541.000000  2352.000000    82.000000   361.000000   \n",
       "\n",
       "           Age_x_x  Overall Rating_x      Speed_x  Acceleration_x  \\\n",
       "count  2459.000000       2459.000000  2459.000000     2459.000000   \n",
       "mean     25.893859         72.090281    79.629118       85.326962   \n",
       "std       3.152440          8.978502    10.102803        6.123529   \n",
       "min      20.000000         40.000000    50.000000       58.000000   \n",
       "25%      24.000000         66.000000    72.000000       82.000000   \n",
       "50%      25.000000         71.000000    82.000000       87.000000   \n",
       "75%      28.000000         78.000000    88.000000       90.000000   \n",
       "max      44.000000         99.000000    98.000000       96.000000   \n",
       "\n",
       "        Strength_x  ...           PD          FF         Fmb          FR  \\\n",
       "count  2459.000000  ...   437.000000  375.000000  375.000000  375.000000   \n",
       "mean     72.437983  ...     4.711670    1.122667    0.546667    0.885333   \n",
       "std      12.465172  ...     4.393404    1.324751    1.954655    1.029082   \n",
       "min      20.000000  ...     1.000000    0.000000    0.000000    0.000000   \n",
       "25%      65.000000  ...     2.000000    0.000000    0.000000    0.000000   \n",
       "50%      73.000000  ...     3.000000    1.000000    0.000000    1.000000   \n",
       "75%      82.000000  ...     7.000000    2.000000    0.000000    1.000000   \n",
       "max      98.000000  ...    26.000000    5.000000   15.000000    7.000000   \n",
       "\n",
       "          Yds.1_y      TD.1_y        Sk_y         Tkl         Ast  Sfty  \n",
       "count  375.000000  375.000000  319.000000  599.000000  599.000000   3.0  \n",
       "mean     2.936000    0.146667    3.565831   28.081803   11.360601   1.0  \n",
       "std     10.926647    0.361715    3.108933   21.501458    9.482435   0.0  \n",
       "min    -52.000000    0.000000    0.500000    0.000000    0.000000   1.0  \n",
       "25%      0.000000    0.000000    1.000000   12.000000    5.000000   1.0  \n",
       "50%      0.000000    0.000000    2.000000   22.000000   10.000000   1.0  \n",
       "75%      0.000000    0.000000    6.000000   39.500000   15.000000   1.0  \n",
       "max     71.000000    2.000000   17.000000   97.000000   60.000000   1.0  \n",
       "\n",
       "[8 rows x 580 columns]"
      ]
     },
     "execution_count": 6,
     "metadata": {},
     "output_type": "execute_result"
    }
   ],
   "source": [
    "mcfd.describe()"
   ]
  },
  {
   "cell_type": "markdown",
   "metadata": {},
   "source": [
    "mcfdcombine = mcfd[[['Overall Rating_x','Ht', 'Wt', 'Vertical', 'Bench', 'Broad Jump', 'Shuttle', '40yd']]"
   ]
  },
  {
   "cell_type": "code",
   "execution_count": 16,
   "metadata": {},
   "outputs": [
    {
     "data": {
      "text/html": [
       "<div>\n",
       "<style scoped>\n",
       "    .dataframe tbody tr th:only-of-type {\n",
       "        vertical-align: middle;\n",
       "    }\n",
       "\n",
       "    .dataframe tbody tr th {\n",
       "        vertical-align: top;\n",
       "    }\n",
       "\n",
       "    .dataframe thead th {\n",
       "        text-align: right;\n",
       "    }\n",
       "</style>\n",
       "<table border=\"1\" class=\"dataframe\">\n",
       "  <thead>\n",
       "    <tr style=\"text-align: right;\">\n",
       "      <th></th>\n",
       "      <th>Overall Rating_x</th>\n",
       "      <th>Wt</th>\n",
       "      <th>Vertical</th>\n",
       "      <th>Bench</th>\n",
       "      <th>Broad Jump</th>\n",
       "      <th>Shuttle</th>\n",
       "      <th>40yd</th>\n",
       "    </tr>\n",
       "  </thead>\n",
       "  <tbody>\n",
       "    <tr>\n",
       "      <th>count</th>\n",
       "      <td>2459.000000</td>\n",
       "      <td>2072.000000</td>\n",
       "      <td>1670.000000</td>\n",
       "      <td>1531.000000</td>\n",
       "      <td>1650.000000</td>\n",
       "      <td>1408.000000</td>\n",
       "      <td>2005.000000</td>\n",
       "    </tr>\n",
       "    <tr>\n",
       "      <th>mean</th>\n",
       "      <td>72.090281</td>\n",
       "      <td>243.376448</td>\n",
       "      <td>32.600599</td>\n",
       "      <td>20.365121</td>\n",
       "      <td>115.219394</td>\n",
       "      <td>4.397884</td>\n",
       "      <td>4.782479</td>\n",
       "    </tr>\n",
       "    <tr>\n",
       "      <th>std</th>\n",
       "      <td>8.978502</td>\n",
       "      <td>45.853905</td>\n",
       "      <td>4.267431</td>\n",
       "      <td>6.686778</td>\n",
       "      <td>9.304452</td>\n",
       "      <td>0.266196</td>\n",
       "      <td>0.304463</td>\n",
       "    </tr>\n",
       "    <tr>\n",
       "      <th>min</th>\n",
       "      <td>40.000000</td>\n",
       "      <td>156.000000</td>\n",
       "      <td>17.500000</td>\n",
       "      <td>3.000000</td>\n",
       "      <td>84.000000</td>\n",
       "      <td>3.810000</td>\n",
       "      <td>4.220000</td>\n",
       "    </tr>\n",
       "    <tr>\n",
       "      <th>25%</th>\n",
       "      <td>66.000000</td>\n",
       "      <td>205.750000</td>\n",
       "      <td>30.000000</td>\n",
       "      <td>16.000000</td>\n",
       "      <td>109.000000</td>\n",
       "      <td>4.200000</td>\n",
       "      <td>4.540000</td>\n",
       "    </tr>\n",
       "    <tr>\n",
       "      <th>50%</th>\n",
       "      <td>71.000000</td>\n",
       "      <td>232.000000</td>\n",
       "      <td>33.000000</td>\n",
       "      <td>20.000000</td>\n",
       "      <td>117.000000</td>\n",
       "      <td>4.340000</td>\n",
       "      <td>4.700000</td>\n",
       "    </tr>\n",
       "    <tr>\n",
       "      <th>75%</th>\n",
       "      <td>78.000000</td>\n",
       "      <td>285.000000</td>\n",
       "      <td>35.500000</td>\n",
       "      <td>25.000000</td>\n",
       "      <td>122.000000</td>\n",
       "      <td>4.560000</td>\n",
       "      <td>4.980000</td>\n",
       "    </tr>\n",
       "    <tr>\n",
       "      <th>max</th>\n",
       "      <td>99.000000</td>\n",
       "      <td>369.000000</td>\n",
       "      <td>45.000000</td>\n",
       "      <td>44.000000</td>\n",
       "      <td>147.000000</td>\n",
       "      <td>5.380000</td>\n",
       "      <td>5.840000</td>\n",
       "    </tr>\n",
       "  </tbody>\n",
       "</table>\n",
       "</div>"
      ],
      "text/plain": [
       "       Overall Rating_x           Wt     Vertical        Bench   Broad Jump  \\\n",
       "count       2459.000000  2072.000000  1670.000000  1531.000000  1650.000000   \n",
       "mean          72.090281   243.376448    32.600599    20.365121   115.219394   \n",
       "std            8.978502    45.853905     4.267431     6.686778     9.304452   \n",
       "min           40.000000   156.000000    17.500000     3.000000    84.000000   \n",
       "25%           66.000000   205.750000    30.000000    16.000000   109.000000   \n",
       "50%           71.000000   232.000000    33.000000    20.000000   117.000000   \n",
       "75%           78.000000   285.000000    35.500000    25.000000   122.000000   \n",
       "max           99.000000   369.000000    45.000000    44.000000   147.000000   \n",
       "\n",
       "           Shuttle         40yd  \n",
       "count  1408.000000  2005.000000  \n",
       "mean      4.397884     4.782479  \n",
       "std       0.266196     0.304463  \n",
       "min       3.810000     4.220000  \n",
       "25%       4.200000     4.540000  \n",
       "50%       4.340000     4.700000  \n",
       "75%       4.560000     4.980000  \n",
       "max       5.380000     5.840000  "
      ]
     },
     "execution_count": 16,
     "metadata": {},
     "output_type": "execute_result"
    }
   ],
   "source": [
    "mcfdcombine = mcfd[['Overall Rating_x','Ht', 'Wt', 'Vertical', 'Bench', 'Broad Jump', 'Shuttle', '40yd', 'Height']]\n",
    "mcfdcombine1 = mcfdcombine.describe()\n",
    "mcfdcombine.describe()\n"
   ]
  },
  {
   "cell_type": "code",
   "execution_count": null,
   "metadata": {},
   "outputs": [],
   "source": []
  },
  {
   "cell_type": "code",
   "execution_count": 8,
   "metadata": {},
   "outputs": [],
   "source": [
    "##Which Colleges produce the most NFL players?"
   ]
  },
  {
   "cell_type": "code",
   "execution_count": 12,
   "metadata": {},
   "outputs": [],
   "source": [
    "mcfdcount = mcfd.groupby('College').count()"
   ]
  },
  {
   "cell_type": "code",
   "execution_count": 13,
   "metadata": {},
   "outputs": [
    {
     "name": "stdout",
     "output_type": "stream",
     "text": [
      "              Unnamed: 0  Index2  Index1_x  Name  Team_x  Position_x  \\\n",
      "College                                                                \n",
      "Abilene Chr.           2       2         2     2       2           2   \n",
      "Air Force              1       1         1     1       1           1   \n",
      "Akron                  4       4         4     4       4           4   \n",
      "Alabama               51      51        51    51      51          51   \n",
      "Alabama AM             1       1         1     1       1           1   \n",
      "\n",
      "              Height_x  Weight_x  Age_x_x  Overall Rating_x  ...   PD  FF  \\\n",
      "College                                                      ...            \n",
      "Abilene Chr.         2         2        2                 2  ...    0   0   \n",
      "Air Force            1         1        1                 1  ...    0   0   \n",
      "Akron                4         4        4                 4  ...    0   0   \n",
      "Alabama             51        51       51                51  ...   10   9   \n",
      "Alabama AM           1         1        1                 1  ...    0   0   \n",
      "\n",
      "              Fmb  FR  Yds.1_y  TD.1_y  Sk_y  Tkl  Ast  Sfty  \n",
      "College                                                       \n",
      "Abilene Chr.    0   0        0       0     0    0    0     0  \n",
      "Air Force       0   0        0       0     0    0    0     0  \n",
      "Akron           0   0        0       0     0    0    0     0  \n",
      "Alabama         9   9        9       9    10   14   14     0  \n",
      "Alabama AM      0   0        0       0     0    0    0     0  \n",
      "\n",
      "[5 rows x 641 columns]\n"
     ]
    }
   ],
   "source": [
    "print(mcfdcount.head())"
   ]
  },
  {
   "cell_type": "code",
   "execution_count": null,
   "metadata": {},
   "outputs": [],
   "source": []
  },
  {
   "cell_type": "code",
   "execution_count": 16,
   "metadata": {},
   "outputs": [],
   "source": [
    "sorted_mcfd = mcfdcount.sort_values(by='Index2', ascending=False)"
   ]
  },
  {
   "cell_type": "code",
   "execution_count": null,
   "metadata": {},
   "outputs": [],
   "source": []
  },
  {
   "cell_type": "code",
   "execution_count": 17,
   "metadata": {},
   "outputs": [],
   "source": [
    "top_25 = sorted_mcfd['Index2'].head(25)"
   ]
  },
  {
   "cell_type": "code",
   "execution_count": 18,
   "metadata": {},
   "outputs": [
    {
     "name": "stdout",
     "output_type": "stream",
     "text": [
      "College\n",
      "LSU                56\n",
      "Florida            51\n",
      "Alabama            51\n",
      "Ohio State         47\n",
      "Florida State      46\n",
      "Miami              46\n",
      "Clemson            43\n",
      "USC                42\n",
      "Georgia            41\n",
      "Texas AM           40\n",
      "California         40\n",
      "Mississippi St.    38\n",
      "Auburn             37\n",
      "Oregon             36\n",
      "Tennessee          35\n",
      "Oklahoma           35\n",
      "UCLA               34\n",
      "Notre Dame         33\n",
      "Penn State         32\n",
      "Wisconsin          32\n",
      "Michigan           31\n",
      "Utah               30\n",
      "Stanford           30\n",
      "Michigan St.       30\n",
      "Louisville         29\n",
      "Name: Index2, dtype: int64\n"
     ]
    }
   ],
   "source": [
    "print(top_25)"
   ]
  },
  {
   "cell_type": "code",
   "execution_count": 20,
   "metadata": {},
   "outputs": [
    {
     "data": {
      "text/plain": [
       "<matplotlib.axes._subplots.AxesSubplot at 0x2c5ba7aad30>"
      ]
     },
     "execution_count": 20,
     "metadata": {},
     "output_type": "execute_result"
    },
    {
     "data": {
      "image/png": "[encoded data removed]",
      "text/plain": [
       "<matplotlib.figure.Figure at 0x2c5ba6c1080>"
      ]
     },
     "metadata": {},
     "output_type": "display_data"
    }
   ],
   "source": [
    "top_25.plot.bar()"
   ]
  },
  {
   "cell_type": "code",
   "execution_count": 22,
   "metadata": {},
   "outputs": [],
   "source": [
    "top_25.to_csv('C:\\\\Users\\\\tilleymusprime\\\\Desktop\\\\top25.csv')"
   ]
  },
  {
   "cell_type": "code",
   "execution_count": null,
   "metadata": {},
   "outputs": [],
   "source": []
  },
  {
   "cell_type": "code",
   "execution_count": null,
   "metadata": {},
   "outputs": [],
   "source": [
    "##It looks like LSU produces the most college players"
   ]
  },
  {
   "cell_type": "code",
   "execution_count": null,
   "metadata": {},
   "outputs": [],
   "source": [
    "##College Stats"
   ]
  },
  {
   "cell_type": "code",
   "execution_count": 52,
   "metadata": {},
   "outputs": [
    {
     "data": {
      "text/plain": [
       "Wt          243.376448\n",
       "Shuttle       4.397884\n",
       "Vertical     32.600599\n",
       "3Cone         7.248442\n",
       "dtype: float64"
      ]
     },
     "execution_count": 52,
     "metadata": {},
     "output_type": "execute_result"
    }
   ],
   "source": [
    "mcfd[['Ht', 'Wt', 'Shuttle', 'Vertical', '3Cone', '40yd']].mean()"
   ]
  },
  {
   "cell_type": "code",
   "execution_count": null,
   "metadata": {},
   "outputs": [],
   "source": []
  },
  {
   "cell_type": "code",
   "execution_count": 47,
   "metadata": {},
   "outputs": [],
   "source": [
    "#positiongroup stats"
   ]
  },
  {
   "cell_type": "code",
   "execution_count": null,
   "metadata": {},
   "outputs": [],
   "source": [
    "#Qb stats"
   ]
  },
  {
   "cell_type": "code",
   "execution_count": 79,
   "metadata": {},
   "outputs": [],
   "source": [
    "qb = mcfd[mcfd['Position_x'] == 'QB']"
   ]
  },
  {
   "cell_type": "code",
   "execution_count": 80,
   "metadata": {},
   "outputs": [
    {
     "data": {
      "text/plain": [
       "(109, 642)"
      ]
     },
     "execution_count": 80,
     "metadata": {},
     "output_type": "execute_result"
    }
   ],
   "source": [
    "qb.shape"
   ]
  },
  {
   "cell_type": "code",
   "execution_count": 55,
   "metadata": {},
   "outputs": [
    {
     "data": {
      "text/plain": [
       "(6657, 643)"
      ]
     },
     "execution_count": 55,
     "metadata": {},
     "output_type": "execute_result"
    }
   ],
   "source": [
    "mcfd.shape"
   ]
  },
  {
   "cell_type": "code",
   "execution_count": 81,
   "metadata": {
    "scrolled": true
   },
   "outputs": [
    {
     "name": "stdout",
     "output_type": "stream",
     "text": [
      "     Unnamed: 0  Index2  Index1_x               Name Team_x Position_x  \\\n",
      "23           23    23.0      23.0        Brian Hoyer  49ers         QB   \n",
      "29           29    29.0      29.0       Matt Barkley  49ers         QB   \n",
      "30           30    30.0      30.0      C.J. Beathard  49ers         QB   \n",
      "102         102    96.0      95.0  Mitchell Trubisky  Bears         QB   \n",
      "112         112   106.0     105.0       Mike Glennon  Bears         QB   \n",
      "\n",
      "     Height_x  Weight_x  Age_x_x  Overall Rating_x  ...   PD   FF  Fmb   FR  \\\n",
      "23       74.0     215.0     31.0              75.0  ...  NaN  0.0  3.0  1.0   \n",
      "29       74.0     227.0     26.0              72.0  ...  NaN  NaN  NaN  NaN   \n",
      "30       74.0     219.0     23.0              72.0  ...  NaN  NaN  NaN  NaN   \n",
      "102      75.0     220.0     23.0              77.0  ...  NaN  NaN  NaN  NaN   \n",
      "112      78.0     225.0     27.0              74.0  ...  NaN  NaN  NaN  NaN   \n",
      "\n",
      "     Yds.1_y  TD.1_y  Sk_y  Tkl  Ast  Sfty  \n",
      "23      -3.0     0.0   NaN  NaN  NaN   NaN  \n",
      "29       NaN     NaN   NaN  NaN  NaN   NaN  \n",
      "30       NaN     NaN   NaN  NaN  NaN   NaN  \n",
      "102      NaN     NaN   NaN  NaN  NaN   NaN  \n",
      "112      NaN     NaN   NaN  NaN  NaN   NaN  \n",
      "\n",
      "[5 rows x 642 columns]\n"
     ]
    }
   ],
   "source": [
    "print(qb.head())"
   ]
  },
  {
   "cell_type": "code",
   "execution_count": 82,
   "metadata": {},
   "outputs": [],
   "source": [
    "qbcount = qb.groupby('College').count()"
   ]
  },
  {
   "cell_type": "code",
   "execution_count": 83,
   "metadata": {},
   "outputs": [],
   "source": [
    "sorted_qbcount = qbcount.sort_values(by='Index2', ascending=False)"
   ]
  },
  {
   "cell_type": "code",
   "execution_count": 84,
   "metadata": {},
   "outputs": [],
   "source": [
    "top10qb = sorted_qbcount.head(10)"
   ]
  },
  {
   "cell_type": "code",
   "execution_count": 421,
   "metadata": {},
   "outputs": [
    {
     "name": "stdout",
     "output_type": "stream",
     "text": [
      "College\n",
      "USC               5\n",
      "Michigan St.      4\n",
      "Wisconsin         3\n",
      "N.C. State        3\n",
      "Michigan          3\n",
      "California        3\n",
      "Tennessee         3\n",
      "Oregon State      3\n",
      "North Carolina    2\n",
      "Pittsburgh        2\n",
      "Name: Index2, dtype: int64\n"
     ]
    }
   ],
   "source": [
    "print(top10qb['Index2'])"
   ]
  },
  {
   "cell_type": "code",
   "execution_count": 426,
   "metadata": {},
   "outputs": [
    {
     "data": {
      "text/plain": [
       "<matplotlib.axes._subplots.AxesSubplot at 0x211dacb57b8>"
      ]
     },
     "execution_count": 426,
     "metadata": {},
     "output_type": "execute_result"
    },
    {
     "data": {
      "image/png": "[encoded data removed]",
      "text/plain": [
       "<matplotlib.figure.Figure at 0x211da6e8e10>"
      ]
     },
     "metadata": {},
     "output_type": "display_data"
    }
   ],
   "source": [
    "top10qb['Index2'].plot.bar()"
   ]
  },
  {
   "cell_type": "code",
   "execution_count": null,
   "metadata": {},
   "outputs": [],
   "source": []
  },
  {
   "cell_type": "code",
   "execution_count": null,
   "metadata": {},
   "outputs": [],
   "source": [
    "### It looks like USC produces the most QB's but are they really better at producing QB's or is it just random chance?"
   ]
  },
  {
   "cell_type": "code",
   "execution_count": 114,
   "metadata": {},
   "outputs": [],
   "source": [
    "qbmeans = qb[['Ht', 'Wt', '3Cone', '40yd', 'Vertical', 'Shuttle', 'Bench', 'Broad Jump']].mean()"
   ]
  },
  {
   "cell_type": "code",
   "execution_count": 404,
   "metadata": {},
   "outputs": [
    {
     "name": "stdout",
     "output_type": "stream",
     "text": [
      "Wt            223.071429\n",
      "3Cone           7.113333\n",
      "40yd            4.811132\n",
      "Vertical       31.397959\n",
      "Shuttle         4.308864\n",
      "Bench          16.000000\n",
      "Broad Jump    112.000000\n",
      "dtype: float64 Wt            243.376448\n",
      "3Cone           7.248442\n",
      "40yd            4.782479\n",
      "Vertical       32.600599\n",
      "Shuttle         4.397884\n",
      "Bench          20.365121\n",
      "Broad Jump    115.219394\n",
      "dtype: float64 Wt           -20.305019\n",
      "3Cone         -0.135109\n",
      "40yd           0.028653\n",
      "Vertical      -1.202640\n",
      "Shuttle       -0.089020\n",
      "Bench         -4.365121\n",
      "Broad Jump    -3.219394\n",
      "dtype: float64\n"
     ]
    }
   ],
   "source": [
    "print(qbmeans, means, (qbmeans - means))"
   ]
  },
  {
   "cell_type": "code",
   "execution_count": null,
   "metadata": {},
   "outputs": [],
   "source": [
    "### QB's have faster than average 3Cone, and shuttle but below average performance in the 40, vertical ability(jumping), \n",
    "### bench press and broad jump.  It doesn't appear that the raw physical attributes are the most important for this position"
   ]
  },
  {
   "cell_type": "code",
   "execution_count": 115,
   "metadata": {},
   "outputs": [],
   "source": [
    "means = mcfd[['Ht', 'Wt', '3Cone', '40yd', 'Vertical', 'Shuttle', 'Bench', 'Broad Jump']].mean()"
   ]
  },
  {
   "cell_type": "code",
   "execution_count": 116,
   "metadata": {},
   "outputs": [
    {
     "name": "stdout",
     "output_type": "stream",
     "text": [
      "Wt            243.376448\n",
      "3Cone           7.248442\n",
      "40yd            4.782479\n",
      "Vertical       32.600599\n",
      "Shuttle         4.397884\n",
      "Bench          20.365121\n",
      "Broad Jump    115.219394\n",
      "dtype: float64\n"
     ]
    }
   ],
   "source": [
    "print(means)"
   ]
  },
  {
   "cell_type": "code",
   "execution_count": 94,
   "metadata": {},
   "outputs": [
    {
     "name": "stdout",
     "output_type": "stream",
     "text": [
      "[Wt            223.071429\n",
      "3Cone           7.113333\n",
      "40yd            4.811132\n",
      "Vertical       31.397959\n",
      "Shuttle         4.308864\n",
      "Bench          16.000000\n",
      "Broad Jump    112.000000\n",
      "dtype: float64, Wt            243.376448\n",
      "3Cone           7.248442\n",
      "40yd            4.782479\n",
      "Vertical       32.600599\n",
      "Shuttle         4.397884\n",
      "Bench          20.365121\n",
      "Broad Jump    115.219394\n",
      "dtype: float64, Wt           -20.305019\n",
      "3Cone         -0.135109\n",
      "40yd           0.028653\n",
      "Vertical      -1.202640\n",
      "Shuttle       -0.089020\n",
      "Bench         -4.365121\n",
      "Broad Jump    -3.219394\n",
      "dtype: float64]\n"
     ]
    }
   ],
   "source": [
    "print([qbmeans, means, qbmeans - means])"
   ]
  },
  {
   "cell_type": "code",
   "execution_count": 95,
   "metadata": {},
   "outputs": [
    {
     "data": {
      "image/png": "[encoded data removed]",
      "text/plain": [
       "<matplotlib.figure.Figure at 0x211d20e2fd0>"
      ]
     },
     "metadata": {},
     "output_type": "display_data"
    }
   ],
   "source": [
    "qbcone = qb.plot(x = 'Overall Rating_x', y = '3Cone',  kind = 'scatter')"
   ]
  },
  {
   "cell_type": "code",
   "execution_count": 117,
   "metadata": {},
   "outputs": [],
   "source": [
    "qbcorr = qb[['Overall Rating_x','Ht', 'Wt', 'Vertical', 'Bench', 'Broad Jump', 'Shuttle', '40yd']].corr()"
   ]
  },
  {
   "cell_type": "code",
   "execution_count": 118,
   "metadata": {},
   "outputs": [
    {
     "data": {
      "text/html": [
       "<div>\n",
       "<style scoped>\n",
       "    .dataframe tbody tr th:only-of-type {\n",
       "        vertical-align: middle;\n",
       "    }\n",
       "\n",
       "    .dataframe tbody tr th {\n",
       "        vertical-align: top;\n",
       "    }\n",
       "\n",
       "    .dataframe thead th {\n",
       "        text-align: right;\n",
       "    }\n",
       "</style>\n",
       "<table border=\"1\" class=\"dataframe\">\n",
       "  <thead>\n",
       "    <tr style=\"text-align: right;\">\n",
       "      <th></th>\n",
       "      <th>Overall Rating_x</th>\n",
       "      <th>Wt</th>\n",
       "      <th>Vertical</th>\n",
       "      <th>Bench</th>\n",
       "      <th>Broad Jump</th>\n",
       "      <th>Shuttle</th>\n",
       "      <th>40yd</th>\n",
       "    </tr>\n",
       "  </thead>\n",
       "  <tbody>\n",
       "    <tr>\n",
       "      <th>Overall Rating_x</th>\n",
       "      <td>1.000000</td>\n",
       "      <td>0.080931</td>\n",
       "      <td>0.125315</td>\n",
       "      <td>NaN</td>\n",
       "      <td>0.241625</td>\n",
       "      <td>-0.309440</td>\n",
       "      <td>-0.304423</td>\n",
       "    </tr>\n",
       "    <tr>\n",
       "      <th>Wt</th>\n",
       "      <td>0.080931</td>\n",
       "      <td>1.000000</td>\n",
       "      <td>0.219339</td>\n",
       "      <td>NaN</td>\n",
       "      <td>0.220737</td>\n",
       "      <td>-0.143536</td>\n",
       "      <td>0.248185</td>\n",
       "    </tr>\n",
       "    <tr>\n",
       "      <th>Vertical</th>\n",
       "      <td>0.125315</td>\n",
       "      <td>0.219339</td>\n",
       "      <td>1.000000</td>\n",
       "      <td>NaN</td>\n",
       "      <td>0.735375</td>\n",
       "      <td>-0.574711</td>\n",
       "      <td>-0.561267</td>\n",
       "    </tr>\n",
       "    <tr>\n",
       "      <th>Bench</th>\n",
       "      <td>NaN</td>\n",
       "      <td>NaN</td>\n",
       "      <td>NaN</td>\n",
       "      <td>NaN</td>\n",
       "      <td>NaN</td>\n",
       "      <td>NaN</td>\n",
       "      <td>NaN</td>\n",
       "    </tr>\n",
       "    <tr>\n",
       "      <th>Broad Jump</th>\n",
       "      <td>0.241625</td>\n",
       "      <td>0.220737</td>\n",
       "      <td>0.735375</td>\n",
       "      <td>NaN</td>\n",
       "      <td>1.000000</td>\n",
       "      <td>-0.556001</td>\n",
       "      <td>-0.644821</td>\n",
       "    </tr>\n",
       "    <tr>\n",
       "      <th>Shuttle</th>\n",
       "      <td>-0.309440</td>\n",
       "      <td>-0.143536</td>\n",
       "      <td>-0.574711</td>\n",
       "      <td>NaN</td>\n",
       "      <td>-0.556001</td>\n",
       "      <td>1.000000</td>\n",
       "      <td>0.463099</td>\n",
       "    </tr>\n",
       "    <tr>\n",
       "      <th>40yd</th>\n",
       "      <td>-0.304423</td>\n",
       "      <td>0.248185</td>\n",
       "      <td>-0.561267</td>\n",
       "      <td>NaN</td>\n",
       "      <td>-0.644821</td>\n",
       "      <td>0.463099</td>\n",
       "      <td>1.000000</td>\n",
       "    </tr>\n",
       "  </tbody>\n",
       "</table>\n",
       "</div>"
      ],
      "text/plain": [
       "                  Overall Rating_x        Wt  Vertical  Bench  Broad Jump  \\\n",
       "Overall Rating_x          1.000000  0.080931  0.125315    NaN    0.241625   \n",
       "Wt                        0.080931  1.000000  0.219339    NaN    0.220737   \n",
       "Vertical                  0.125315  0.219339  1.000000    NaN    0.735375   \n",
       "Bench                          NaN       NaN       NaN    NaN         NaN   \n",
       "Broad Jump                0.241625  0.220737  0.735375    NaN    1.000000   \n",
       "Shuttle                  -0.309440 -0.143536 -0.574711    NaN   -0.556001   \n",
       "40yd                     -0.304423  0.248185 -0.561267    NaN   -0.644821   \n",
       "\n",
       "                   Shuttle      40yd  \n",
       "Overall Rating_x -0.309440 -0.304423  \n",
       "Wt               -0.143536  0.248185  \n",
       "Vertical         -0.574711 -0.561267  \n",
       "Bench                  NaN       NaN  \n",
       "Broad Jump       -0.556001 -0.644821  \n",
       "Shuttle           1.000000  0.463099  \n",
       "40yd              0.463099  1.000000  "
      ]
     },
     "execution_count": 118,
     "metadata": {},
     "output_type": "execute_result"
    }
   ],
   "source": [
    "qbcorr"
   ]
  },
  {
   "cell_type": "code",
   "execution_count": null,
   "metadata": {},
   "outputs": [],
   "source": [
    "### The shuttle and the 40 yd dash seem to be the most important characteristics"
   ]
  },
  {
   "cell_type": "code",
   "execution_count": null,
   "metadata": {},
   "outputs": [],
   "source": []
  },
  {
   "cell_type": "code",
   "execution_count": 7,
   "metadata": {},
   "outputs": [
    {
     "ename": "NameError",
     "evalue": "name 'qbcone' is not defined",
     "output_type": "error",
     "traceback": [
      "\u001b[1;31m---------------------------------------------------------------------------\u001b[0m",
      "\u001b[1;31mNameError\u001b[0m                                 Traceback (most recent call last)",
      "\u001b[1;32m<ipython-input-7-384807050110>\u001b[0m in \u001b[0;36m<module>\u001b[1;34m()\u001b[0m\n\u001b[1;32m----> 1\u001b[1;33m \u001b[0mplt\u001b[0m\u001b[1;33m.\u001b[0m\u001b[0mshow\u001b[0m\u001b[1;33m(\u001b[0m\u001b[0mqbcone\u001b[0m\u001b[1;33m.\u001b[0m\u001b[0maxhline\u001b[0m\u001b[1;33m(\u001b[0m\u001b[0my\u001b[0m\u001b[1;33m=\u001b[0m\u001b[0mqbmeans\u001b[0m\u001b[1;33m[\u001b[0m\u001b[1;34m'3Cone'\u001b[0m\u001b[1;33m]\u001b[0m\u001b[1;33m,\u001b[0m \u001b[0mcolor\u001b[0m\u001b[1;33m=\u001b[0m\u001b[1;34m'r'\u001b[0m\u001b[1;33m)\u001b[0m\u001b[1;33m)\u001b[0m\u001b[1;33m\u001b[0m\u001b[0m\n\u001b[0m",
      "\u001b[1;31mNameError\u001b[0m: name 'qbcone' is not defined"
     ]
    }
   ],
   "source": [
    "plt.show(qbcone.axhline(y=qbmeans['3Cone'], color='r'))"
   ]
  },
  {
   "cell_type": "code",
   "execution_count": null,
   "metadata": {},
   "outputs": [],
   "source": []
  },
  {
   "cell_type": "code",
   "execution_count": 105,
   "metadata": {},
   "outputs": [],
   "source": [
    "##CornerBack stats"
   ]
  },
  {
   "cell_type": "code",
   "execution_count": null,
   "metadata": {},
   "outputs": [],
   "source": []
  },
  {
   "cell_type": "code",
   "execution_count": 77,
   "metadata": {},
   "outputs": [],
   "source": [
    "cb = mcfd[mcfd['Position_x'] == 'CB'] "
   ]
  },
  {
   "cell_type": "code",
   "execution_count": 79,
   "metadata": {},
   "outputs": [
    {
     "name": "stdout",
     "output_type": "stream",
     "text": [
      "College\n",
      "Texas AM         10\n",
      "UCF               7\n",
      "LSU               7\n",
      "Florida State     7\n",
      "Florida           7\n",
      "Clemson           6\n",
      "Ohio State        5\n",
      "Auburn            5\n",
      "Miami             5\n",
      "USC               5\n",
      "Name: Unnamed: 0, dtype: int64\n"
     ]
    }
   ],
   "source": [
    "cb_college = cb.groupby('College').count()\n",
    "cb_college_sorted = cb_college.sort_values(by='Unnamed: 0', ascending=False)\n",
    "cbtop10 = cb_college_sorted.head(10)\n",
    "print(cbtop10['Unnamed: 0'])"
   ]
  },
  {
   "cell_type": "code",
   "execution_count": 107,
   "metadata": {},
   "outputs": [],
   "source": [
    "cbmeans = cb[['Ht', 'Wt', '3Cone', '40yd', 'Vertical', 'Shuttle', 'Bench', 'Broad Jump']].mean()"
   ]
  },
  {
   "cell_type": "code",
   "execution_count": 109,
   "metadata": {},
   "outputs": [
    {
     "name": "stdout",
     "output_type": "stream",
     "text": [
      "    Unnamed: 0  Index2  Index1_x                 Name Team_x Position_x  \\\n",
      "18          18    18.0      18.0     Rashard Robinson  49ers         CB   \n",
      "26          26    26.0      26.0      K'Waun Williams  49ers         CB   \n",
      "41          41    41.0      41.0         Keith Reaser  49ers         CB   \n",
      "42          42    42.0      42.0  Ahkello Witherspoon  49ers         CB   \n",
      "45          45    45.0      45.0           Will Davis  49ers         CB   \n",
      "\n",
      "    Height_x  Weight_x  Age_x_x  Overall Rating_x  ...    PD   FF  Fmb   FR  \\\n",
      "18      73.0     190.0     22.0              76.0  ...   NaN  NaN  NaN  NaN   \n",
      "26      69.0     183.0     26.0              74.0  ...   5.0  2.0  0.0  1.0   \n",
      "41      72.0     190.0     26.0              71.0  ...   2.0  NaN  NaN  NaN   \n",
      "42      75.0     190.0     22.0              71.0  ...   NaN  NaN  NaN  NaN   \n",
      "45      71.0     190.0     27.0              70.0  ...   NaN  NaN  NaN  NaN   \n",
      "\n",
      "    Yds.1_y  TD.1_y  Sk_y   Tkl   Ast  Sfty  \n",
      "18      NaN     NaN   NaN   NaN   NaN   NaN  \n",
      "26      0.0     0.0   1.0  42.0  12.0   NaN  \n",
      "41      NaN     NaN   1.0   4.0   0.0   NaN  \n",
      "42      NaN     NaN   NaN   NaN   NaN   NaN  \n",
      "45      NaN     NaN   NaN   NaN   NaN   NaN  \n",
      "\n",
      "[5 rows x 642 columns]\n"
     ]
    }
   ],
   "source": [
    "print(cb.head())"
   ]
  },
  {
   "cell_type": "code",
   "execution_count": 111,
   "metadata": {},
   "outputs": [
    {
     "name": "stdout",
     "output_type": "stream",
     "text": [
      "[Wt            200.057971\n",
      "3Cone           6.957677\n",
      "40yd            4.519124\n",
      "Vertical       35.384298\n",
      "Shuttle         4.196238\n",
      "Bench          15.776786\n",
      "Broad Jump    121.815126\n",
      "dtype: float64, Wt            243.376448\n",
      "3Cone           7.248442\n",
      "40yd            4.782479\n",
      "Vertical       32.600599\n",
      "Shuttle         4.397884\n",
      "Bench          20.365121\n",
      "Broad Jump    115.219394\n",
      "dtype: float64, Wt           -43.318477\n",
      "3Cone         -0.290765\n",
      "40yd          -0.263355\n",
      "Vertical       2.783699\n",
      "Shuttle       -0.201646\n",
      "Bench         -4.588335\n",
      "Broad Jump     6.595732\n",
      "dtype: float64, Wt           -23.013458\n",
      "3Cone         -0.155657\n",
      "40yd          -0.292008\n",
      "Vertical       3.986338\n",
      "Shuttle       -0.112626\n",
      "Bench         -0.223214\n",
      "Broad Jump     9.815126\n",
      "dtype: float64]\n"
     ]
    }
   ],
   "source": [
    "print([cbmeans, means, (cbmeans - means), cbmeans-qbmeans])"
   ]
  },
  {
   "cell_type": "code",
   "execution_count": null,
   "metadata": {},
   "outputs": [],
   "source": [
    "### Cornerbacks perform above average in every category except bench.  "
   ]
  },
  {
   "cell_type": "code",
   "execution_count": null,
   "metadata": {},
   "outputs": [],
   "source": []
  },
  {
   "cell_type": "code",
   "execution_count": 89,
   "metadata": {},
   "outputs": [],
   "source": [
    "#CB Correlations"
   ]
  },
  {
   "cell_type": "code",
   "execution_count": 112,
   "metadata": {},
   "outputs": [],
   "source": [
    "cb_combine = cb[['Wt', 'Ht', 'Overall Rating_x', 'Shuttle', 'Vertical', '3Cone', '40yd', 'Bench', 'Broad Jump']]"
   ]
  },
  {
   "cell_type": "code",
   "execution_count": 406,
   "metadata": {},
   "outputs": [
    {
     "data": {
      "text/html": [
       "<div>\n",
       "<style scoped>\n",
       "    .dataframe tbody tr th:only-of-type {\n",
       "        vertical-align: middle;\n",
       "    }\n",
       "\n",
       "    .dataframe tbody tr th {\n",
       "        vertical-align: top;\n",
       "    }\n",
       "\n",
       "    .dataframe thead th {\n",
       "        text-align: right;\n",
       "    }\n",
       "</style>\n",
       "<table border=\"1\" class=\"dataframe\">\n",
       "  <thead>\n",
       "    <tr style=\"text-align: right;\">\n",
       "      <th></th>\n",
       "      <th>Wt</th>\n",
       "      <th>Overall Rating_x</th>\n",
       "      <th>Shuttle</th>\n",
       "      <th>Vertical</th>\n",
       "      <th>3Cone</th>\n",
       "      <th>40yd</th>\n",
       "      <th>Bench</th>\n",
       "      <th>Broad Jump</th>\n",
       "    </tr>\n",
       "  </thead>\n",
       "  <tbody>\n",
       "    <tr>\n",
       "      <th>Wt</th>\n",
       "      <td>1.000000</td>\n",
       "      <td>-0.009332</td>\n",
       "      <td>0.776740</td>\n",
       "      <td>-0.476282</td>\n",
       "      <td>0.799024</td>\n",
       "      <td>0.369976</td>\n",
       "      <td>0.758215</td>\n",
       "      <td>-0.625590</td>\n",
       "    </tr>\n",
       "    <tr>\n",
       "      <th>Overall Rating_x</th>\n",
       "      <td>-0.009332</td>\n",
       "      <td>1.000000</td>\n",
       "      <td>-0.232899</td>\n",
       "      <td>0.162625</td>\n",
       "      <td>-0.088156</td>\n",
       "      <td>-0.081761</td>\n",
       "      <td>-0.028766</td>\n",
       "      <td>0.135767</td>\n",
       "    </tr>\n",
       "    <tr>\n",
       "      <th>Shuttle</th>\n",
       "      <td>0.776740</td>\n",
       "      <td>-0.232899</td>\n",
       "      <td>1.000000</td>\n",
       "      <td>-0.544104</td>\n",
       "      <td>0.838249</td>\n",
       "      <td>0.347999</td>\n",
       "      <td>0.503227</td>\n",
       "      <td>-0.633516</td>\n",
       "    </tr>\n",
       "    <tr>\n",
       "      <th>Vertical</th>\n",
       "      <td>-0.476282</td>\n",
       "      <td>0.162625</td>\n",
       "      <td>-0.544104</td>\n",
       "      <td>1.000000</td>\n",
       "      <td>-0.494801</td>\n",
       "      <td>-0.355292</td>\n",
       "      <td>-0.362876</td>\n",
       "      <td>0.759400</td>\n",
       "    </tr>\n",
       "    <tr>\n",
       "      <th>3Cone</th>\n",
       "      <td>0.799024</td>\n",
       "      <td>-0.088156</td>\n",
       "      <td>0.838249</td>\n",
       "      <td>-0.494801</td>\n",
       "      <td>1.000000</td>\n",
       "      <td>0.329497</td>\n",
       "      <td>0.636760</td>\n",
       "      <td>-0.640113</td>\n",
       "    </tr>\n",
       "    <tr>\n",
       "      <th>40yd</th>\n",
       "      <td>0.369976</td>\n",
       "      <td>-0.081761</td>\n",
       "      <td>0.347999</td>\n",
       "      <td>-0.355292</td>\n",
       "      <td>0.329497</td>\n",
       "      <td>1.000000</td>\n",
       "      <td>0.227023</td>\n",
       "      <td>-0.361724</td>\n",
       "    </tr>\n",
       "    <tr>\n",
       "      <th>Bench</th>\n",
       "      <td>0.758215</td>\n",
       "      <td>-0.028766</td>\n",
       "      <td>0.503227</td>\n",
       "      <td>-0.362876</td>\n",
       "      <td>0.636760</td>\n",
       "      <td>0.227023</td>\n",
       "      <td>1.000000</td>\n",
       "      <td>-0.470736</td>\n",
       "    </tr>\n",
       "    <tr>\n",
       "      <th>Broad Jump</th>\n",
       "      <td>-0.625590</td>\n",
       "      <td>0.135767</td>\n",
       "      <td>-0.633516</td>\n",
       "      <td>0.759400</td>\n",
       "      <td>-0.640113</td>\n",
       "      <td>-0.361724</td>\n",
       "      <td>-0.470736</td>\n",
       "      <td>1.000000</td>\n",
       "    </tr>\n",
       "  </tbody>\n",
       "</table>\n",
       "</div>"
      ],
      "text/plain": [
       "                        Wt  Overall Rating_x   Shuttle  Vertical     3Cone  \\\n",
       "Wt                1.000000         -0.009332  0.776740 -0.476282  0.799024   \n",
       "Overall Rating_x -0.009332          1.000000 -0.232899  0.162625 -0.088156   \n",
       "Shuttle           0.776740         -0.232899  1.000000 -0.544104  0.838249   \n",
       "Vertical         -0.476282          0.162625 -0.544104  1.000000 -0.494801   \n",
       "3Cone             0.799024         -0.088156  0.838249 -0.494801  1.000000   \n",
       "40yd              0.369976         -0.081761  0.347999 -0.355292  0.329497   \n",
       "Bench             0.758215         -0.028766  0.503227 -0.362876  0.636760   \n",
       "Broad Jump       -0.625590          0.135767 -0.633516  0.759400 -0.640113   \n",
       "\n",
       "                      40yd     Bench  Broad Jump  \n",
       "Wt                0.369976  0.758215   -0.625590  \n",
       "Overall Rating_x -0.081761 -0.028766    0.135767  \n",
       "Shuttle           0.347999  0.503227   -0.633516  \n",
       "Vertical         -0.355292 -0.362876    0.759400  \n",
       "3Cone             0.329497  0.636760   -0.640113  \n",
       "40yd              1.000000  0.227023   -0.361724  \n",
       "Bench             0.227023  1.000000   -0.470736  \n",
       "Broad Jump       -0.361724 -0.470736    1.000000  "
      ]
     },
     "execution_count": 406,
     "metadata": {},
     "output_type": "execute_result"
    }
   ],
   "source": [
    "cb_combine.corr()"
   ]
  },
  {
   "cell_type": "code",
   "execution_count": null,
   "metadata": {},
   "outputs": [],
   "source": [
    "###Speed is the key for CB's"
   ]
  },
  {
   "cell_type": "code",
   "execution_count": null,
   "metadata": {},
   "outputs": [],
   "source": [
    "##LB Stats"
   ]
  },
  {
   "cell_type": "code",
   "execution_count": 72,
   "metadata": {},
   "outputs": [],
   "source": [
    "mlb = mcfd[mcfd['Position_x'] == 'MLB']"
   ]
  },
  {
   "cell_type": "code",
   "execution_count": 129,
   "metadata": {},
   "outputs": [
    {
     "name": "stdout",
     "output_type": "stream",
     "text": [
      "     Unnamed: 0  Index2  Index1_x             Name Team_x Position_x  \\\n",
      "1             1     1.0       1.0   NaVorro Bowman  49ers        MLB   \n",
      "54           54    54.0      54.0      Brock Coyle  49ers        MLB   \n",
      "75           75    75.0      75.0  Jerrell Freeman  Bears        MLB   \n",
      "80           80    80.0      80.0  Danny Trevathan  Bears        MLB   \n",
      "107         107   101.0     100.0  Nick Kwiatkoski  Bears        MLB   \n",
      "\n",
      "     Height_x  Weight_x  Age_x_x  Overall Rating_x  ...    PD   FF  Fmb   FR  \\\n",
      "1        72.0     242.0     29.0              88.0  ...   3.0  0.0  0.0  1.0   \n",
      "54       73.0     245.0     26.0              68.0  ...   1.0  1.0  0.0  0.0   \n",
      "75       72.0     236.0     31.0              88.0  ...   NaN  NaN  NaN  NaN   \n",
      "80       73.0     239.0     27.0              84.0  ...   5.0  1.0  0.0  1.0   \n",
      "107      74.0     242.0     24.0              75.0  ...   NaN  NaN  NaN  NaN   \n",
      "\n",
      "     Yds.1_y  TD.1_y  Sk_y   Tkl   Ast  Sfty  \n",
      "1        1.0     0.0   1.5  80.0  47.0   NaN  \n",
      "54       0.0     0.0   0.5  36.0  26.0   NaN  \n",
      "75       NaN     NaN   NaN   7.0   3.0   NaN  \n",
      "80       0.0     0.0   2.0  60.0  29.0   NaN  \n",
      "107      NaN     NaN   NaN   NaN   NaN   NaN  \n",
      "\n",
      "[5 rows x 642 columns]\n"
     ]
    }
   ],
   "source": [
    "print(mlb.head())"
   ]
  },
  {
   "cell_type": "code",
   "execution_count": 132,
   "metadata": {},
   "outputs": [],
   "source": [
    "mlbmeans = mlb[['Ht', 'Wt', 'Overall Rating_x', 'Ht', 'Wt', 'Shuttle', 'Vertical',\n",
    "                  '3Cone', '40yd', 'Bench', 'Broad Jump']].mean()"
   ]
  },
  {
   "cell_type": "code",
   "execution_count": 407,
   "metadata": {},
   "outputs": [
    {
     "name": "stdout",
     "output_type": "stream",
     "text": [
      "Wt                  237.293333\n",
      "Overall Rating_x     71.432836\n",
      "Wt                  237.293333\n",
      "Shuttle               4.271020\n",
      "Vertical             33.742424\n",
      "3Cone                 7.094255\n",
      "40yd                  4.685441\n",
      "Bench                21.951613\n",
      "Broad Jump          118.242424\n",
      "dtype: float64 Wt            243.376448\n",
      "3Cone           7.248442\n",
      "40yd            4.782479\n",
      "Vertical       32.600599\n",
      "Shuttle         4.397884\n",
      "Bench          20.365121\n",
      "Broad Jump    115.219394\n",
      "dtype: float64 3Cone              -0.154187\n",
      "40yd               -0.097038\n",
      "Bench               1.586492\n",
      "Broad Jump          3.023030\n",
      "Overall Rating_x         NaN\n",
      "Shuttle            -0.126863\n",
      "Vertical            1.141825\n",
      "Wt                 -6.083115\n",
      "Wt                 -6.083115\n",
      "dtype: float64\n"
     ]
    }
   ],
   "source": [
    "print(mlbmeans, means, (mlbmeans - means))"
   ]
  },
  {
   "cell_type": "code",
   "execution_count": null,
   "metadata": {},
   "outputs": [],
   "source": [
    "### Above average strength above average speed"
   ]
  },
  {
   "cell_type": "code",
   "execution_count": 134,
   "metadata": {},
   "outputs": [],
   "source": [
    "mlb_combine = mlb[['Overall Rating_x', 'Ht', 'Wt', 'Shuttle', 'Vertical',\n",
    "                  '3Cone', '40yd', 'Bench', 'Broad Jump']]"
   ]
  },
  {
   "cell_type": "code",
   "execution_count": 408,
   "metadata": {},
   "outputs": [
    {
     "data": {
      "text/html": [
       "<div>\n",
       "<style scoped>\n",
       "    .dataframe tbody tr th:only-of-type {\n",
       "        vertical-align: middle;\n",
       "    }\n",
       "\n",
       "    .dataframe tbody tr th {\n",
       "        vertical-align: top;\n",
       "    }\n",
       "\n",
       "    .dataframe thead th {\n",
       "        text-align: right;\n",
       "    }\n",
       "</style>\n",
       "<table border=\"1\" class=\"dataframe\">\n",
       "  <thead>\n",
       "    <tr style=\"text-align: right;\">\n",
       "      <th></th>\n",
       "      <th>Overall Rating_x</th>\n",
       "      <th>Wt</th>\n",
       "      <th>Shuttle</th>\n",
       "      <th>Vertical</th>\n",
       "      <th>3Cone</th>\n",
       "      <th>40yd</th>\n",
       "      <th>Bench</th>\n",
       "      <th>Broad Jump</th>\n",
       "    </tr>\n",
       "  </thead>\n",
       "  <tbody>\n",
       "    <tr>\n",
       "      <th>Overall Rating_x</th>\n",
       "      <td>1.000000</td>\n",
       "      <td>0.098511</td>\n",
       "      <td>-0.194246</td>\n",
       "      <td>0.219081</td>\n",
       "      <td>0.085339</td>\n",
       "      <td>-0.273884</td>\n",
       "      <td>0.211111</td>\n",
       "      <td>-0.007640</td>\n",
       "    </tr>\n",
       "    <tr>\n",
       "      <th>Wt</th>\n",
       "      <td>0.098511</td>\n",
       "      <td>1.000000</td>\n",
       "      <td>-0.015519</td>\n",
       "      <td>-0.150969</td>\n",
       "      <td>0.013599</td>\n",
       "      <td>0.318098</td>\n",
       "      <td>0.260537</td>\n",
       "      <td>-0.327736</td>\n",
       "    </tr>\n",
       "    <tr>\n",
       "      <th>Shuttle</th>\n",
       "      <td>-0.194246</td>\n",
       "      <td>-0.015519</td>\n",
       "      <td>1.000000</td>\n",
       "      <td>-0.018881</td>\n",
       "      <td>0.560815</td>\n",
       "      <td>0.271447</td>\n",
       "      <td>-0.254114</td>\n",
       "      <td>-0.107891</td>\n",
       "    </tr>\n",
       "    <tr>\n",
       "      <th>Vertical</th>\n",
       "      <td>0.219081</td>\n",
       "      <td>-0.150969</td>\n",
       "      <td>-0.018881</td>\n",
       "      <td>1.000000</td>\n",
       "      <td>0.065344</td>\n",
       "      <td>-0.470676</td>\n",
       "      <td>0.088841</td>\n",
       "      <td>0.637744</td>\n",
       "    </tr>\n",
       "    <tr>\n",
       "      <th>3Cone</th>\n",
       "      <td>0.085339</td>\n",
       "      <td>0.013599</td>\n",
       "      <td>0.560815</td>\n",
       "      <td>0.065344</td>\n",
       "      <td>1.000000</td>\n",
       "      <td>0.248967</td>\n",
       "      <td>-0.085812</td>\n",
       "      <td>-0.117929</td>\n",
       "    </tr>\n",
       "    <tr>\n",
       "      <th>40yd</th>\n",
       "      <td>-0.273884</td>\n",
       "      <td>0.318098</td>\n",
       "      <td>0.271447</td>\n",
       "      <td>-0.470676</td>\n",
       "      <td>0.248967</td>\n",
       "      <td>1.000000</td>\n",
       "      <td>-0.127465</td>\n",
       "      <td>-0.603778</td>\n",
       "    </tr>\n",
       "    <tr>\n",
       "      <th>Bench</th>\n",
       "      <td>0.211111</td>\n",
       "      <td>0.260537</td>\n",
       "      <td>-0.254114</td>\n",
       "      <td>0.088841</td>\n",
       "      <td>-0.085812</td>\n",
       "      <td>-0.127465</td>\n",
       "      <td>1.000000</td>\n",
       "      <td>-0.001102</td>\n",
       "    </tr>\n",
       "    <tr>\n",
       "      <th>Broad Jump</th>\n",
       "      <td>-0.007640</td>\n",
       "      <td>-0.327736</td>\n",
       "      <td>-0.107891</td>\n",
       "      <td>0.637744</td>\n",
       "      <td>-0.117929</td>\n",
       "      <td>-0.603778</td>\n",
       "      <td>-0.001102</td>\n",
       "      <td>1.000000</td>\n",
       "    </tr>\n",
       "  </tbody>\n",
       "</table>\n",
       "</div>"
      ],
      "text/plain": [
       "                  Overall Rating_x        Wt   Shuttle  Vertical     3Cone  \\\n",
       "Overall Rating_x          1.000000  0.098511 -0.194246  0.219081  0.085339   \n",
       "Wt                        0.098511  1.000000 -0.015519 -0.150969  0.013599   \n",
       "Shuttle                  -0.194246 -0.015519  1.000000 -0.018881  0.560815   \n",
       "Vertical                  0.219081 -0.150969 -0.018881  1.000000  0.065344   \n",
       "3Cone                     0.085339  0.013599  0.560815  0.065344  1.000000   \n",
       "40yd                     -0.273884  0.318098  0.271447 -0.470676  0.248967   \n",
       "Bench                     0.211111  0.260537 -0.254114  0.088841 -0.085812   \n",
       "Broad Jump               -0.007640 -0.327736 -0.107891  0.637744 -0.117929   \n",
       "\n",
       "                      40yd     Bench  Broad Jump  \n",
       "Overall Rating_x -0.273884  0.211111   -0.007640  \n",
       "Wt                0.318098  0.260537   -0.327736  \n",
       "Shuttle           0.271447 -0.254114   -0.107891  \n",
       "Vertical         -0.470676  0.088841    0.637744  \n",
       "3Cone             0.248967 -0.085812   -0.117929  \n",
       "40yd              1.000000 -0.127465   -0.603778  \n",
       "Bench            -0.127465  1.000000   -0.001102  \n",
       "Broad Jump       -0.603778 -0.001102    1.000000  "
      ]
     },
     "execution_count": 408,
     "metadata": {},
     "output_type": "execute_result"
    }
   ],
   "source": [
    "mlb_combine.corr()"
   ]
  },
  {
   "cell_type": "code",
   "execution_count": null,
   "metadata": {},
   "outputs": [],
   "source": [
    "##Are these correlations significantly different from 0?"
   ]
  },
  {
   "cell_type": "code",
   "execution_count": 103,
   "metadata": {},
   "outputs": [],
   "source": [
    "## best mlb by college"
   ]
  },
  {
   "cell_type": "code",
   "execution_count": 136,
   "metadata": {},
   "outputs": [],
   "source": [
    "mlb_elite = mlb[mlb['Overall Rating_x'] >= 80]"
   ]
  },
  {
   "cell_type": "code",
   "execution_count": null,
   "metadata": {},
   "outputs": [],
   "source": []
  },
  {
   "cell_type": "code",
   "execution_count": 137,
   "metadata": {},
   "outputs": [
    {
     "name": "stdout",
     "output_type": "stream",
     "text": [
      "     Unnamed: 0  Index2  Index1_x              Name   Team_x Position_x  \\\n",
      "1             1     1.0       1.0    NaVorro Bowman    49ers        MLB   \n",
      "75           75    75.0      75.0   Jerrell Freeman    Bears        MLB   \n",
      "80           80    80.0      80.0   Danny Trevathan    Bears        MLB   \n",
      "169         169   161.0     158.0       Vincent Rey  Bengals        MLB   \n",
      "314         314   309.0     302.0  Brandon Marshall  Broncos        MLB   \n",
      "\n",
      "     Height_x  Weight_x  Age_x_x  Overall Rating_x  ...    PD   FF  Fmb   FR  \\\n",
      "1        72.0     242.0     29.0              88.0  ...   3.0  0.0  0.0  1.0   \n",
      "75       72.0     236.0     31.0              88.0  ...   NaN  NaN  NaN  NaN   \n",
      "80       73.0     239.0     27.0              84.0  ...   5.0  1.0  0.0  1.0   \n",
      "169      72.0     250.0     29.0              80.0  ...   1.0  NaN  NaN  NaN   \n",
      "314      73.0     250.0     27.0              86.0  ...   4.0  1.0  0.0  1.0   \n",
      "\n",
      "     Yds.1_y  TD.1_y  Sk_y   Tkl   Ast  Sfty  \n",
      "1        1.0     0.0   1.5  80.0  47.0   NaN  \n",
      "75       NaN     NaN   NaN   7.0   3.0   NaN  \n",
      "80       0.0     0.0   2.0  60.0  29.0   NaN  \n",
      "169      NaN     NaN   NaN  52.0  32.0   NaN  \n",
      "314     19.0     1.0   3.0  75.0  31.0   NaN  \n",
      "\n",
      "[5 rows x 642 columns]\n"
     ]
    }
   ],
   "source": [
    "print(mlb_elite.head())"
   ]
  },
  {
   "cell_type": "code",
   "execution_count": 138,
   "metadata": {},
   "outputs": [
    {
     "data": {
      "text/plain": [
       "(30, 642)"
      ]
     },
     "execution_count": 138,
     "metadata": {},
     "output_type": "execute_result"
    }
   ],
   "source": [
    "mlb_elite.shape"
   ]
  },
  {
   "cell_type": "code",
   "execution_count": 139,
   "metadata": {},
   "outputs": [
    {
     "data": {
      "text/html": [
       "<div>\n",
       "<style scoped>\n",
       "    .dataframe tbody tr th:only-of-type {\n",
       "        vertical-align: middle;\n",
       "    }\n",
       "\n",
       "    .dataframe tbody tr th {\n",
       "        vertical-align: top;\n",
       "    }\n",
       "\n",
       "    .dataframe thead th {\n",
       "        text-align: right;\n",
       "    }\n",
       "</style>\n",
       "<table border=\"1\" class=\"dataframe\">\n",
       "  <thead>\n",
       "    <tr style=\"text-align: right;\">\n",
       "      <th></th>\n",
       "      <th>Unnamed: 0</th>\n",
       "      <th>Index2</th>\n",
       "      <th>Index1_x</th>\n",
       "      <th>Name</th>\n",
       "      <th>Team_x</th>\n",
       "      <th>Position_x</th>\n",
       "      <th>Height_x</th>\n",
       "      <th>Weight_x</th>\n",
       "      <th>Age_x_x</th>\n",
       "      <th>Overall Rating_x</th>\n",
       "      <th>...</th>\n",
       "      <th>PD</th>\n",
       "      <th>FF</th>\n",
       "      <th>Fmb</th>\n",
       "      <th>FR</th>\n",
       "      <th>Yds.1_y</th>\n",
       "      <th>TD.1_y</th>\n",
       "      <th>Sk_y</th>\n",
       "      <th>Tkl</th>\n",
       "      <th>Ast</th>\n",
       "      <th>Sfty</th>\n",
       "    </tr>\n",
       "    <tr>\n",
       "      <th>School</th>\n",
       "      <th></th>\n",
       "      <th></th>\n",
       "      <th></th>\n",
       "      <th></th>\n",
       "      <th></th>\n",
       "      <th></th>\n",
       "      <th></th>\n",
       "      <th></th>\n",
       "      <th></th>\n",
       "      <th></th>\n",
       "      <th></th>\n",
       "      <th></th>\n",
       "      <th></th>\n",
       "      <th></th>\n",
       "      <th></th>\n",
       "      <th></th>\n",
       "      <th></th>\n",
       "      <th></th>\n",
       "      <th></th>\n",
       "      <th></th>\n",
       "      <th></th>\n",
       "    </tr>\n",
       "  </thead>\n",
       "  <tbody>\n",
       "  </tbody>\n",
       "</table>\n",
       "<p>0 rows × 641 columns</p>\n",
       "</div>"
      ],
      "text/plain": [
       "Empty DataFrame\n",
       "Columns: [Unnamed: 0, Index2, Index1_x, Name, Team_x, Position_x, Height_x, Weight_x, Age_x_x, Overall Rating_x, Speed_x, Acceleration_x, Strength_x, Agility_x, Awareness_x, Catching_x, Carrying_x, Throw Power_x, Throw Accuracy_x, Kick Power_x, Kick Accuracy_x, Run Block_x, Pass Block_x, Tackle_x, Jumping_x, Kick Return_x, Injury_x, Stamina_x, Toughness_x, Trucking_x, Elusiveness_x, Ball Carrier Vision_x, Stiff Arm_x, Spin Move_x, Juke Move_x, Impact Blocking_x, Run Block Strength_x, Run Block Footwork_x, Pass Block Strength_x, Pass Block Footwork_x, Power Moves_x, Finesse Moves_x, Block Shedding_x, Pursuit_x, Play Recognition_x, Man Coverage_x, Zone Coverage_x, Spectacular Catch_x, Catch In Traffic_x, Route Running_x, Hit Power_x, Press_x, Release_x, Throw Accuracy Short_x, Throw Accuracy Mid_x, Throw Accuracy Deep_x, Play Action_x, Throw on the Run_x, Years Pro, College, Total Salary, Signing Bonus, Handedness, Unnamed: 0_y_x, Team_y, Position_y, Height_y, Weight_y, Age_y_x, Overall Rating_y, Speed_y, Acceleration_y, Strength_y, Agility_y, Awareness_y, Catching_y, Carrying_y, Throw Power_y, Throw Accuracy_y, Run Block_y, Pass Block_y, Tackle_y, Jumping_y, Injury_y, Stamina_y, Toughness_y, Trucking_y, Elusiveness_y, Ball Carrier Vision_y, Stiff Arm_y, Spin Move_y, Juke Move_y, Impact Blocking_y, Throw on the Run_y, Play Action_y, Run Block Strength_y, Run Block Footwork_y, Pass Block Strength_y, Pass Block Footwork_y, Power Moves_y, ...]\n",
       "Index: []\n",
       "\n",
       "[0 rows x 641 columns]"
      ]
     },
     "execution_count": 139,
     "metadata": {},
     "output_type": "execute_result"
    }
   ],
   "source": [
    "mlb_elite.groupby('School').count()"
   ]
  },
  {
   "cell_type": "code",
   "execution_count": null,
   "metadata": {},
   "outputs": [],
   "source": [
    "#MLB school"
   ]
  },
  {
   "cell_type": "code",
   "execution_count": 71,
   "metadata": {},
   "outputs": [
    {
     "ename": "NameError",
     "evalue": "name 'mlb' is not defined",
     "output_type": "error",
     "traceback": [
      "\u001b[1;31m---------------------------------------------------------------------------\u001b[0m",
      "\u001b[1;31mNameError\u001b[0m                                 Traceback (most recent call last)",
      "\u001b[1;32m<ipython-input-71-c0f74bce8684>\u001b[0m in \u001b[0;36m<module>\u001b[1;34m()\u001b[0m\n\u001b[1;32m----> 1\u001b[1;33m \u001b[0mmlbcols\u001b[0m \u001b[1;33m=\u001b[0m \u001b[0mlist\u001b[0m\u001b[1;33m(\u001b[0m\u001b[0mmlb\u001b[0m\u001b[1;33m.\u001b[0m\u001b[0mcolumns\u001b[0m\u001b[1;33m.\u001b[0m\u001b[0mvalues\u001b[0m\u001b[1;33m)\u001b[0m\u001b[1;33m\u001b[0m\u001b[0m\n\u001b[0m",
      "\u001b[1;31mNameError\u001b[0m: name 'mlb' is not defined"
     ]
    }
   ],
   "source": [
    "mlbcols = list(mlb.columns.values)"
   ]
  },
  {
   "cell_type": "code",
   "execution_count": 141,
   "metadata": {},
   "outputs": [
    {
     "name": "stdout",
     "output_type": "stream",
     "text": [
      "['Unnamed: 0', 'Index2', 'Index1_x', 'Name', 'Team_x', 'Position_x', 'Height_x', 'Weight_x', 'Age_x_x', 'Overall Rating_x', 'Speed_x', 'Acceleration_x', 'Strength_x', 'Agility_x', 'Awareness_x', 'Catching_x', 'Carrying_x', 'Throw Power_x', 'Throw Accuracy_x', 'Kick Power_x', 'Kick Accuracy_x', 'Run Block_x', 'Pass Block_x', 'Tackle_x', 'Jumping_x', 'Kick Return_x', 'Injury_x', 'Stamina_x', 'Toughness_x', 'Trucking_x', 'Elusiveness_x', 'Ball Carrier Vision_x', 'Stiff Arm_x', 'Spin Move_x', 'Juke Move_x', 'Impact Blocking_x', 'Run Block Strength_x', 'Run Block Footwork_x', 'Pass Block Strength_x', 'Pass Block Footwork_x', 'Power Moves_x', 'Finesse Moves_x', 'Block Shedding_x', 'Pursuit_x', 'Play Recognition_x', 'Man Coverage_x', 'Zone Coverage_x', 'Spectacular Catch_x', 'Catch In Traffic_x', 'Route Running_x', 'Hit Power_x', 'Press_x', 'Release_x', 'Throw Accuracy Short_x', 'Throw Accuracy Mid_x', 'Throw Accuracy Deep_x', 'Play Action_x', 'Throw on the Run_x', 'Years Pro', 'College', 'Total Salary', 'Signing Bonus', 'Handedness', 'Unnamed: 0_y_x', 'Team_y', 'Position_y', 'Height_y', 'Weight_y', 'Age_y_x', 'Overall Rating_y', 'Speed_y', 'Acceleration_y', 'Strength_y', 'Agility_y', 'Awareness_y', 'Catching_y', 'Carrying_y', 'Throw Power_y', 'Throw Accuracy_y', 'Run Block_y', 'Pass Block_y', 'Tackle_y', 'Jumping_y', 'Injury_y', 'Stamina_y', 'Toughness_y', 'Trucking_y', 'Elusiveness_y', 'Ball Carrier Vision_y', 'Stiff Arm_y', 'Spin Move_y', 'Juke Move_y', 'Impact Blocking_y', 'Throw on the Run_y', 'Play Action_y', 'Run Block Strength_y', 'Run Block Footwork_y', 'Pass Block Strength_y', 'Pass Block Footwork_y', 'Power Moves_y', 'Finesse Moves_y', 'Block Shedding_y', 'Pursuit_y', 'Play Recognition_y', 'Man Coverage_y', 'Zone Coverage_y', 'Spectacular Catch_y', 'Catch in Traffic', 'Route Running_y', 'Hit Power_y', 'Press_y', 'Release_y', 'Throw Accuracy Short_y', 'Throw Accuracy Mid_y', 'Throw Accuracy Deep_y', 'Unnamed: 0_x_x', 'Team_x.1', 'Position_x.1', 'Jersey Number', 'OVR', 'Speed_x.1', 'Acceleration_x.1', 'Strength_x.1', 'Agility_x.1', 'Awareness_x.1', 'Catching_x.1', 'Carrying_x.1', 'Throw Power_x.1', 'Throw Accuracy Short_x.1', 'Throw Accuracy Mid', 'Throw Accuracy Deep_x.1', 'Kick Power_y', 'Kick Accuracy_y', 'Run Block_x.1', 'Pass Block_x.1', 'Tackle_x.1', 'Jumping_x.1', 'Kick Return_y', 'Injury_x.1', 'Stamina_x.1', 'Toughness_x.1', 'Trucking_x.1', 'Elusiveness_x.1', 'Ball Carrier Vision_x.1', 'Stiff Arm_x.1', 'Spin Move_x.1', 'Juke Move_x.1', 'Impact Block_x', 'Power Moves', 'Finesse Moves', 'Block Shedding_x.1', 'Pursuit_x.1', 'Play Recognition_x.1', 'Man Coverage_x.1', 'Zone Coverage_x.1', 'Spectactular Catch', 'Catch In Traffic_y', 'Route Running_x.1', 'Hit Power_x.1', 'Press_x.1', 'Release_x.1', 'Play Action_x.1', 'Throw On The Run_x', 'Height', 'Weight', 'Unnamed: 0_y.1_x', 'Team_y.1', 'Position_y.1', 'Overall', 'Speed_y.1', 'Acceleration_y.1', 'Strength_y.1', 'Agility_y.1', 'Awareness_y.1', 'Catching_y.1', 'Carrying_y.1', 'Throw Power_y.1', 'Kick Power', 'Kick Accuracy', 'Run Block_y.1', 'Pass Block_y.1', 'Tackle_y.1', 'Jumping_y.1', 'Return', 'Injury_y.1', 'Stamina_y.1', 'Toughness_y.1', 'Trucking_y.1', 'Elusiveness_y.1', 'Ball Carrier Vision_y.1', 'Stiff Arm_y.1', 'Spin Move_y.1', 'Juke Move_y.1', 'Impact Block_y', 'Power Move', 'Finessee Move', 'Block Shedding_y.1', 'Pursuit_y.1', 'Play Recognition_y.1', 'Man Coverage_y.1', 'Zone Coverage_y.1', 'Spectacular Catch', 'Catch In Traffic', 'Route Running_y.1', 'Hit Power_y.1', 'Press_y.1', 'Release_y.1', 'Throw Accuracy Short_y.1', 'Throw Accuracy Medium', 'Throw Accuracy Deep_y.1', 'Play Action_y.1', 'Throw On The Run_y', 'Pos', 'Ht', 'Wt', 'Vertical', 'Bench', 'Broad Jump', '3Cone', 'Shuttle', '40yd', 'Player', 'School_x_x', 'Conf_x_x', 'G_x_x_x', 'Cmp_x_x', 'Att_x_x_x', 'Pct_x', 'Yds_x_x_x', 'Y/A_x_x', 'AY/A_x_x', 'TD_x_x_x', 'Int_x_x', 'Rate_x_x', 'Att.1_x', 'Yds.1_x_x_x', 'Avg_x_x', 'TD.1_x_x_x', 'Unnamed: 0_y_x_x', 'School_y_x', 'Conf_y_x', 'G_y_x_x', 'Cmp_y_x', 'Att_y_x_x', 'Pct_y', 'Yds_y_x_x', 'Y/A_y_x', 'AY/A_y_x', 'TD_y_x_x', 'Int_y_x', 'Rate_y_x', 'Att.1_y', 'Yds.1_y_x_x', 'Avg_y_x', 'TD.1_y_x_x', 'Unnamed: 0.1_x', 'School_x_x.1', 'Conf_x_x.1', 'G_x_x_x.1', 'Cmp_x', 'Att_x_x_x.1', 'Pct', 'Yds_x_x_x.1', 'Y/A', 'AY/A_x', 'TD_x_x_x.1', 'Int', 'Rate_x', 'Att.1', 'Yds.1_x_x_x.1', 'Avg_x_x.1', 'TD.1_x_x_x.1', 'Unnamed: 0_y_x_x.1', 'Unnamed: 0_x_y_x', 'School_x_y', 'Conf_x_y', 'G_x_y_x', 'Att_x_y_x', 'Yds_x_y_x', 'Avg_x_y', 'TD_x_y_x', 'Rec_x_x_x', 'Yds.1_x_y_x', 'Avg.1_x_x', 'TD.1_x_y_x', 'Plays_x_x', 'Yds.2_x_x', 'Avg.2_x_x', 'TD.2_x_x', 'Unnamed: 0_y_y_x', 'School_y_y', 'Conf_y_y', 'G_y_y_x', 'Att_y_y_x', 'Yds_y_y_x', 'Avg_y_y', 'TD_y_y_x', 'Rec_y_x_x', 'Yds.1_y_y_x', 'Avg.1_y_x', 'TD.1_y_y_x', 'Plays_y_x', 'Yds.2_y_x', 'Avg.2_y_x', 'TD.2_y_x', 'Unnamed: 0.1_y', 'School_y_x.1', 'Conf_y_x.1', 'G_y_x_x.1', 'Att_y_x_x.1', 'Yds_y_x_x.1', 'Avg_y_x.1', 'TD_y_x_x.1', 'Rec_x_x', 'Yds.1_y_x_x.1', 'Avg.1_x', 'TD.1_y_x_x.1', 'Plays_x', 'Yds.2_x', 'Avg.2_x', 'TD.2_x', 'Unnamed: 0_x_y', 'Unnamed: 0_x_y_x.1', 'School_x_y.1', 'Conf_x_y.1', 'G_x_y_x.1', 'Rec_x_y_x', 'Yds_x_y_x.1', 'Avg_x_y.1', 'TD_x_y_x.1', 'Att_x_y_x.1', 'Yds.1_x_y_x.1', 'Avg.1_x_y', 'TD.1_x_y_x.1', 'Plays_x_y', 'Yds.2_x_y', 'Avg.2_x_y', 'TD.2_x_y', 'Unnamed: 0_y_y_x.1', 'School_y_y.1', 'Conf_y_y.1', 'G_y_y_x.1', 'Rec_y_y_x', 'Yds_y_y_x.1', 'Avg_y_y.1', 'TD_y_y_x.1', 'Att_y_y_x.1', 'Yds.1_y_y_x.1', 'Avg.1_y_y', 'TD.1_y_y_x.1', 'Plays_y_y', 'Yds.2_y_y', 'Avg.2_y_y', 'TD.2_y_y', 'Unnamed: 0.1_x.1', 'School', 'Conf', 'G', 'Rec_y_x', 'Yds', 'Avg', 'TD', 'Att', 'Yds.1_x', 'Avg.1_y', 'TD.1', 'Plays_y', 'Yds.2_y', 'Avg.2_y', 'TD.2_y', 'Unnamed: 0_y_y', 'Unnamed: 0_x_x_y', 'Tm_x_x', 'Age_x_x.1', 'Pos_x_x', 'G_x_x_y', 'GS_x_x', 'QBrec_x', 'Cmp_x_y', 'Att_x_x_y', 'Cmp%_x', 'Yds_x_x_y', 'TD_x_x_y', 'TD%_x', 'Int_x_x.1', 'Int%_x', 'Lng_x_x', 'Y/A_x_x.1', 'AY/A_x_y', 'Y/C_x', 'Y/G_x_x', 'Rate_x_y', 'QBR_x', 'Sk_x_x', 'Yds.1_x_x_y', 'NY/A_x', 'ANY/A_x', 'Sk%_x', '4QC_x', 'GWD_x', 'Unnamed: 0_y_x_y', 'Tm_y_x', 'Age_y_x.1', 'Pos_y_x', 'G_y_x_y', 'GS_y_x', 'QBrec_y', 'Cmp_y_y', 'Att_y_x_y', 'Cmp%_y', 'Yds_y_x_y', 'TD_y_x_y', 'TD%_y', 'Int_y_x.1', 'Int%_y', 'Lng_y_x', 'Y/A_y_x.1', 'AY/A_y_y', 'Y/C_y', 'Y/G_y_x', 'Rate_y_y', 'QBR_y', 'Sk_y_x', 'Yds.1_y_x_y', 'NY/A_y', 'ANY/A_y', 'Sk%_y', '4QC_y', 'GWD_y', 'Unnamed: 0_x_x.1', 'Tm_x_x.1', 'Age_x_x.1.1', 'Pos_x_x.1', 'G_x_x.1', 'GS_x_x.1', 'QBrec', 'Cmp_y', 'Att_x', 'Cmp%', 'Yds_x_x.1', 'TD_x_x.1', 'TD%', 'Int_x_y', 'Int%', 'Lng_x_x.1', 'Y/A_x_y', 'AY/A_y', 'Y/C', 'Y/G_x_x.1', 'Rate_y', 'QBR', 'Sk_x', 'Yds.1_x_x.1', 'NY/A', 'ANY/A', 'Sk%', '4QC', 'GWD', 'Unnamed: 0_x_y_y', 'Tm_x_y', 'Age_x_y', 'Pos_x_y', 'G_x_y_y', 'GS_x_y', 'Att_x_y_y', 'Yds_x_y_y', 'TD_x_y_y', 'Lng_x_y', 'Y/A_x_y.1', 'Y/G_x_y', 'A/G_x', 'Tgt_x_x', 'Rec_x_x_y', 'Yds.1_x_y_y', 'Y/R_x_x', 'TD.1_x_x_y', 'Lng.1_x', 'R/G_x_x', 'Y/G.1_x', 'Ctch%_x_x', 'YScm_x', 'RRTD_x', 'Fmb_x_x', 'Unnamed: 0_y_y_y', 'Tm_y_y', 'Age_y_y', 'Pos_y_y', 'G_y_y_y', 'GS_y_y', 'Att_y_y_y', 'Yds_y_y_y', 'TD_y_y_y', 'Lng_y_y', 'Y/A_y_y', 'Y/G_y_y', 'A/G_y', 'Tgt_y_x', 'Rec_y_x_y', 'Yds.1_y_y_y', 'Y/R_y_x', 'TD.1_y_x_y', 'Lng.1_y', 'R/G_y_x', 'Y/G.1_y', 'Ctch%_y_x', 'YScm_y', 'RRTD_y', 'Fmb_y_x', 'Unnamed: 0_y_x.1', 'Tm_y_x.1', 'Age_y_x.1.1', 'Pos_y_x.1', 'G_y_x.1', 'GS_y_x.1', 'Att_y', 'Yds_y_x.1', 'TD_y_x.1', 'Lng_y_x.1', 'Y/A_y_y.1', 'Y/G_y_x.1', 'A/G', 'Tgt_x', 'Rec_x_y', 'Yds.1_y_x.1', 'Y/R_x', 'TD.1_x', 'Lng.1', 'R/G_x', 'Y/G.1', 'Ctch%_x', 'YScm', 'RRTD', 'Fmb_x_x.1', 'Unnamed: 0_x_y.1', 'Tm_x_y.1', 'Age_x_y.1', 'Pos_x_y.1', 'G_x_y.1', 'GS_x_y.1', 'Tgt_x_y', 'Rec_x_y_y', 'Ctch%_x_y', 'Yds_x_y.1', 'Y/R_x_y', 'TD_x_y.1', 'Lng_x_y.1', 'R/G_x_y', 'Y/G_x_y.1', 'Fmb_x_y', 'Unnamed: 0_y_y.1', 'Tm_y_y.1', 'Age_y_y.1', 'Pos_y_y.1', 'G_y_y.1', 'GS_y_y.1', 'Tgt_y_y', 'Rec_y_y_y', 'Ctch%_y_y', 'Yds_y_y.1', 'Y/R_y_y', 'TD_y_y.1', 'Lng_y_y.1', 'R/G_y_y', 'Y/G_y_y.1', 'Fmb_y_y', 'Unnamed: 0_x_y.1.1', 'Tm_x', 'Age_x_y.1.1', 'Pos_x', 'G_x', 'GS_x', 'Tgt_y', 'Rec_y_y', 'Ctch%_y', 'Yds_x', 'Y/R_y', 'TD_x', 'Lng_x', 'R/G_y', 'Y/G', 'Fmb_y_x.1', 'Unnamed: 0_y_y.1.1', 'Index1_y', 'Tm_x.1', 'Age_x.1', 'Pos_x.1', 'G_x.1', 'GS_x.1', 'Int_x_y.1', 'Yds_x.1', 'TD_x.1', 'Lng_x.1', 'PD_x', 'FF_x', 'Fmb_x_y.1', 'FR_x', 'Yds.1_x_y.1', 'TD.1_x_y_y', 'Sk_x_y', 'Tkl_x', 'Ast_x', 'Sfty_x', 'Unnamed: 0_y.1_y', 'Tm_y', 'Age_y_y.1.1', 'Pos_y', 'G_y', 'GS_y', 'Int_y_y', 'Yds_y', 'TD_y', 'Lng_y', 'PD_y', 'FF_y', 'Fmb_y_y.1', 'FR_y', 'Yds.1_y_y.1', 'TD.1_y_y_y', 'Sk_y_y', 'Tkl_y', 'Ast_y', 'Sfty_y', 'Unnamed: 0.1_y.1', 'Tm_y.1', 'Age_y.1', 'Pos_y.1', 'G_y.1', 'GS_y.1', 'Int_y_y.1', 'Yds_y.1', 'TD_y.1', 'Lng_y.1', 'PD', 'FF', 'Fmb', 'FR', 'Yds.1_y', 'TD.1_y', 'Sk_y', 'Tkl', 'Ast', 'Sfty']\n"
     ]
    }
   ],
   "source": [
    "print(mlbcols)"
   ]
  },
  {
   "cell_type": "code",
   "execution_count": 73,
   "metadata": {},
   "outputs": [],
   "source": [
    "mlb_college = mlb.groupby('College').count()"
   ]
  },
  {
   "cell_type": "code",
   "execution_count": 146,
   "metadata": {},
   "outputs": [
    {
     "name": "stdout",
     "output_type": "stream",
     "text": [
      "                  Unnamed: 0  Index2  Index1_x  Name  Team_x  Position_x  \\\n",
      "College                                                                    \n",
      "Akron                      1       1         1     1       1           1   \n",
      "Alabama                    7       7         7     7       7           7   \n",
      "Arizona                    1       1         1     1       1           1   \n",
      "Arkansas                   2       2         2     2       2           2   \n",
      "Arkansas St.               1       1         1     1       1           1   \n",
      "Auburn                     2       2         2     2       2           2   \n",
      "BYU                        2       2         2     2       2           2   \n",
      "Baylor                     1       1         1     1       1           1   \n",
      "Boise State                1       1         1     1       1           1   \n",
      "Boston College             4       4         4     4       4           4   \n",
      "Cal Poly SLO               1       1         1     1       1           1   \n",
      "Central Michigan           1       1         1     1       1           1   \n",
      "Clemson                    2       2         2     2       2           2   \n",
      "Colorado St.               2       2         2     2       2           2   \n",
      "Connecticut                1       1         1     1       1           1   \n",
      "Duke                       1       1         1     1       1           1   \n",
      "Florida                    3       3         3     3       3           3   \n",
      "Florida State              3       3         3     3       3           3   \n",
      "Fresno State               1       1         1     1       1           1   \n",
      "Ga. Southern               2       2         2     2       2           2   \n",
      "Georgia                    2       2         2     2       2           2   \n",
      "Idaho                      1       1         1     1       1           1   \n",
      "Illinois                   1       1         1     1       1           1   \n",
      "Illinois St.               1       1         1     1       1           1   \n",
      "Iowa                       2       2         2     2       2           2   \n",
      "Iowa State                 2       2         2     2       2           2   \n",
      "Kansas                     2       2         2     2       2           2   \n",
      "Kentucky                   3       3         3     3       3           3   \n",
      "LSU                        6       6         6     6       6           6   \n",
      "Louisville                 3       3         3     3       3           3   \n",
      "...                      ...     ...       ...   ...     ...         ...   \n",
      "North Texas                1       1         1     1       1           1   \n",
      "Northern Iowa              1       1         1     1       1           1   \n",
      "Northwestern               2       2         2     2       2           2   \n",
      "Notre Dame                 2       2         2     2       2           2   \n",
      "Ohio State                 3       3         3     3       3           3   \n",
      "Oklahoma                   2       2         2     2       2           2   \n",
      "Oregon                     2       2         2     2       2           2   \n",
      "Penn State                 4       4         4     4       4           4   \n",
      "Portland St.               1       1         1     1       1           1   \n",
      "S.C. State                 2       2         2     2       2           2   \n",
      "Sacramento State           1       1         1     1       1           1   \n",
      "Stanford                   1       1         1     1       1           1   \n",
      "TCU                        2       2         2     2       2           2   \n",
      "Temple                     2       2         2     2       2           2   \n",
      "Texas                      2       2         2     2       2           2   \n",
      "UCLA                       2       2         2     2       2           2   \n",
      "USC                        2       2         2     2       2           2   \n",
      "USF                        1       1         1     1       1           1   \n",
      "Utah State                 1       1         1     1       1           1   \n",
      "Vanderbilt                 1       1         1     1       1           1   \n",
      "Villanova                  1       1         1     1       1           1   \n",
      "Virginia                   1       1         1     1       1           1   \n",
      "Wagner College             2       2         2     2       2           2   \n",
      "Wake Forest                1       1         1     1       1           1   \n",
      "Wash. St.                  1       1         1     1       1           1   \n",
      "Washburn                   1       1         1     1       1           1   \n",
      "Washington                 2       2         2     2       2           2   \n",
      "West Virginia              2       2         2     2       2           2   \n",
      "William  Mary              1       1         1     1       1           1   \n",
      "Wyoming                    1       1         1     1       1           1   \n",
      "\n",
      "                  Height_x  Weight_x  Age_x_x  Overall Rating_x  ...   PD  FF  \\\n",
      "College                                                          ...            \n",
      "Akron                    1         1        1                 1  ...    0   0   \n",
      "Alabama                  7         7        7                 7  ...    5   4   \n",
      "Arizona                  1         1        1                 1  ...    0   0   \n",
      "Arkansas                 2         2        2                 2  ...    0   0   \n",
      "Arkansas St.             1         1        1                 1  ...    1   1   \n",
      "Auburn                   2         2        2                 2  ...    1   1   \n",
      "BYU                      2         2        2                 2  ...    0   0   \n",
      "Baylor                   1         1        1                 1  ...    0   0   \n",
      "Boise State              1         1        1                 1  ...    0   0   \n",
      "Boston College           4         4        4                 4  ...    1   1   \n",
      "Cal Poly SLO             1         1        1                 1  ...    0   0   \n",
      "Central Michigan         1         1        1                 1  ...    0   0   \n",
      "Clemson                  2         2        2                 2  ...    0   0   \n",
      "Colorado St.             2         2        2                 2  ...    0   0   \n",
      "Connecticut              1         1        1                 1  ...    0   0   \n",
      "Duke                     1         1        1                 1  ...    1   0   \n",
      "Florida                  3         3        3                 3  ...    0   0   \n",
      "Florida State            3         3        3                 3  ...    2   0   \n",
      "Fresno State             1         1        1                 1  ...    0   0   \n",
      "Ga. Southern             2         2        2                 2  ...    0   0   \n",
      "Georgia                  2         2        2                 2  ...    1   2   \n",
      "Idaho                    1         1        1                 1  ...    0   0   \n",
      "Illinois                 1         1        1                 1  ...    0   0   \n",
      "Illinois St.             1         1        1                 1  ...    0   0   \n",
      "Iowa                     2         2        2                 2  ...    2   2   \n",
      "Iowa State               2         2        2                 2  ...    1   2   \n",
      "Kansas                   2         2        2                 2  ...    0   0   \n",
      "Kentucky                 3         3        3                 3  ...    3   3   \n",
      "LSU                      6         6        6                 6  ...    2   1   \n",
      "Louisville               3         3        3                 3  ...    1   0   \n",
      "...                    ...       ...      ...               ...  ...   ..  ..   \n",
      "North Texas              1         1        1                 1  ...    1   1   \n",
      "Northern Iowa            1         1        1                 1  ...    0   0   \n",
      "Northwestern             2         2        2                 2  ...    0   0   \n",
      "Notre Dame               2         2        2                 2  ...    1   1   \n",
      "Ohio State               3         3        3                 3  ...    1   1   \n",
      "Oklahoma                 2         2        2                 2  ...    0   0   \n",
      "Oregon                   2         2        2                 2  ...    0   0   \n",
      "Penn State               4         4        4                 4  ...    2   3   \n",
      "Portland St.             1         1        1                 1  ...    0   0   \n",
      "S.C. State               2         2        2                 2  ...    2   0   \n",
      "Sacramento State         1         1        1                 1  ...    0   0   \n",
      "Stanford                 1         1        1                 1  ...    0   0   \n",
      "TCU                      2         2        2                 2  ...    0   0   \n",
      "Temple                   2         2        2                 2  ...    0   0   \n",
      "Texas                    2         2        2                 2  ...    1   2   \n",
      "UCLA                     2         2        2                 2  ...    1   0   \n",
      "USC                      2         2        2                 2  ...    0   0   \n",
      "USF                      1         1        1                 1  ...    0   0   \n",
      "Utah State               1         1        1                 1  ...    1   1   \n",
      "Vanderbilt               1         1        1                 1  ...    0   0   \n",
      "Villanova                1         1        1                 1  ...    0   0   \n",
      "Virginia                 1         1        1                 1  ...    0   0   \n",
      "Wagner College           2         2        2                 2  ...    0   0   \n",
      "Wake Forest              1         1        1                 1  ...    0   0   \n",
      "Wash. St.                1         1        1                 1  ...    1   1   \n",
      "Washburn                 1         1        1                 1  ...    1   0   \n",
      "Washington               2         2        2                 2  ...    2   1   \n",
      "West Virginia            2         2        2                 2  ...    0   0   \n",
      "William  Mary            1         1        1                 1  ...    0   0   \n",
      "Wyoming                  1         1        1                 1  ...    0   0   \n",
      "\n",
      "                  Fmb  FR  Yds.1_y  TD.1_y  Sk_y  Tkl  Ast  Sfty  \n",
      "College                                                           \n",
      "Akron               0   0        0       0     0    0    0     0  \n",
      "Alabama             4   4        4       4     6    6    6     0  \n",
      "Arizona             0   0        0       0     0    0    0     0  \n",
      "Arkansas            0   0        0       0     0    0    0     0  \n",
      "Arkansas St.        1   1        1       1     1    1    1     0  \n",
      "Auburn              1   1        1       1     1    1    1     0  \n",
      "BYU                 0   0        0       0     0    0    0     0  \n",
      "Baylor              0   0        0       0     0    0    0     0  \n",
      "Boise State         0   0        0       0     0    0    0     0  \n",
      "Boston College      1   1        1       1     1    1    1     0  \n",
      "Cal Poly SLO        0   0        0       0     0    0    0     0  \n",
      "Central Michigan    0   0        0       0     0    1    1     0  \n",
      "Clemson             0   0        0       0     0    0    0     0  \n",
      "Colorado St.        0   0        0       0     0    0    0     0  \n",
      "Connecticut         0   0        0       0     0    0    0     0  \n",
      "Duke                0   0        0       0     0    1    1     0  \n",
      "Florida             0   0        0       0     0    0    0     0  \n",
      "Florida State       0   0        0       0     1    2    2     0  \n",
      "Fresno State        0   0        0       0     0    0    0     0  \n",
      "Ga. Southern        0   0        0       0     0    0    0     0  \n",
      "Georgia             2   2        2       2     1    2    2     0  \n",
      "Idaho               0   0        0       0     0    0    0     0  \n",
      "Illinois            0   0        0       0     0    0    0     0  \n",
      "Illinois St.        0   0        0       0     0    1    1     0  \n",
      "Iowa                2   2        2       2     1    2    2     0  \n",
      "Iowa State          2   2        2       2     2    2    2     0  \n",
      "Kansas              0   0        0       0     0    0    0     0  \n",
      "Kentucky            3   3        3       3     3    3    3     0  \n",
      "LSU                 1   1        1       1     1    3    3     0  \n",
      "Louisville          0   0        0       0     0    1    1     0  \n",
      "...               ...  ..      ...     ...   ...  ...  ...   ...  \n",
      "North Texas         1   1        1       1     1    1    1     0  \n",
      "Northern Iowa       0   0        0       0     0    0    0     0  \n",
      "Northwestern        0   0        0       0     0    0    0     0  \n",
      "Notre Dame          1   1        1       1     0    1    1     0  \n",
      "Ohio State          1   1        1       1     0    1    1     0  \n",
      "Oklahoma            0   0        0       0     0    1    1     0  \n",
      "Oregon              0   0        0       0     0    0    0     0  \n",
      "Penn State          3   3        3       3     2    4    4     0  \n",
      "Portland St.        0   0        0       0     0    0    0     0  \n",
      "S.C. State          0   0        0       0     2    2    2     0  \n",
      "Sacramento State    0   0        0       0     1    1    1     0  \n",
      "Stanford            0   0        0       0     0    0    0     0  \n",
      "TCU                 0   0        0       0     0    1    1     0  \n",
      "Temple              0   0        0       0     0    0    0     0  \n",
      "Texas               2   2        2       2     0    2    2     0  \n",
      "UCLA                0   0        0       0     1    1    1     0  \n",
      "USC                 0   0        0       0     1    1    1     0  \n",
      "USF                 0   0        0       0     0    0    0     0  \n",
      "Utah State          1   1        1       1     1    1    1     1  \n",
      "Vanderbilt          0   0        0       0     0    0    0     0  \n",
      "Villanova           0   0        0       0     0    0    0     0  \n",
      "Virginia            0   0        0       0     0    1    1     0  \n",
      "Wagner College      0   0        0       0     0    0    0     0  \n",
      "Wake Forest         0   0        0       0     0    0    0     0  \n",
      "Wash. St.           1   1        1       1     1    1    1     0  \n",
      "Washburn            0   0        0       0     0    1    1     0  \n",
      "Washington          1   1        1       1     1    2    2     0  \n",
      "West Virginia       0   0        0       0     0    0    0     0  \n",
      "William  Mary       0   0        0       0     0    0    0     0  \n",
      "Wyoming             0   0        0       0     0    0    0     0  \n",
      "\n",
      "[73 rows x 641 columns]\n"
     ]
    }
   ],
   "source": [
    "print(mlb_college)"
   ]
  },
  {
   "cell_type": "code",
   "execution_count": 74,
   "metadata": {},
   "outputs": [],
   "source": [
    "mlb_college_sorted = mlb_college.sort_values(by='Unnamed: 0', ascending=False)"
   ]
  },
  {
   "cell_type": "code",
   "execution_count": 75,
   "metadata": {},
   "outputs": [],
   "source": [
    "mlb_top10 = mlb_college_sorted.head(10)"
   ]
  },
  {
   "cell_type": "code",
   "execution_count": 76,
   "metadata": {},
   "outputs": [
    {
     "name": "stdout",
     "output_type": "stream",
     "text": [
      "College\n",
      "Alabama           7\n",
      "LSU               6\n",
      "Nevada            5\n",
      "Penn State        4\n",
      "Boston College    4\n",
      "Louisville        3\n",
      "Michigan          3\n",
      "Florida State     3\n",
      "Florida           3\n",
      "Kentucky          3\n",
      "Name: Unnamed: 0, dtype: int64\n"
     ]
    }
   ],
   "source": [
    "print(mlb_top10['Unnamed: 0'])"
   ]
  },
  {
   "cell_type": "code",
   "execution_count": 428,
   "metadata": {},
   "outputs": [
    {
     "data": {
      "text/plain": [
       "<matplotlib.axes._subplots.AxesSubplot at 0x211e0815b00>"
      ]
     },
     "execution_count": 428,
     "metadata": {},
     "output_type": "execute_result"
    },
    {
     "data": {
      "image/png": "[encoded data removed]",
      "text/plain": [
       "<matplotlib.figure.Figure at 0x211e0ce5b00>"
      ]
     },
     "metadata": {},
     "output_type": "display_data"
    }
   ],
   "source": [
    "mlb_top10['Unnamed: 0'].plot.bar()"
   ]
  },
  {
   "cell_type": "code",
   "execution_count": 129,
   "metadata": {},
   "outputs": [],
   "source": [
    "##Linemen"
   ]
  },
  {
   "cell_type": "code",
   "execution_count": null,
   "metadata": {},
   "outputs": [],
   "source": [
    "##Centers"
   ]
  },
  {
   "cell_type": "code",
   "execution_count": 151,
   "metadata": {},
   "outputs": [],
   "source": [
    "c = mcfd[mcfd['Position_x'] == 'C']"
   ]
  },
  {
   "cell_type": "code",
   "execution_count": 154,
   "metadata": {},
   "outputs": [],
   "source": [
    "ccount = c.groupby('College').count()"
   ]
  },
  {
   "cell_type": "code",
   "execution_count": 155,
   "metadata": {
    "collapsed": true
   },
   "outputs": [
    {
     "name": "stdout",
     "output_type": "stream",
     "text": [
      "                  Unnamed: 0  Index2  Index1_x  Name  Team_x  Position_x  \\\n",
      "College                                                                    \n",
      "Air Force                  1       1         1     1       1           1   \n",
      "Alabama                    1       1         1     1       1           1   \n",
      "Appalach. St.              1       1         1     1       1           1   \n",
      "Arkansas                   2       2         2     2       2           2   \n",
      "Baylor                     4       4         4     4       4           4   \n",
      "Boise State                1       1         1     1       1           1   \n",
      "CSU-Pueblo                 1       1         1     1       1           1   \n",
      "California                 3       3         3     3       3           3   \n",
      "Cincinnati                 1       1         1     1       1           1   \n",
      "Colorado St.               1       1         1     1       1           1   \n",
      "Cornell                    1       1         1     1       1           1   \n",
      "Delaware                   1       1         1     1       1           1   \n",
      "Florida                    3       3         3     3       3           3   \n",
      "Florida State              2       2         2     2       2           2   \n",
      "Georgia                    2       2         2     2       2           2   \n",
      "Grand Valley St.           1       1         1     1       1           1   \n",
      "Harvard                    2       2         2     2       2           2   \n",
      "Hobart                     1       1         1     1       1           1   \n",
      "Illinois                   1       1         1     1       1           1   \n",
      "Iowa                       2       2         2     2       2           2   \n",
      "Kansas State               1       1         1     1       1           1   \n",
      "Louisville                 1       1         1     1       1           1   \n",
      "Miami                      2       2         2     2       2           2   \n",
      "Michigan St.               1       1         1     1       1           1   \n",
      "Missouri                   3       3         3     3       3           3   \n",
      "Nebraska                   1       1         1     1       1           1   \n",
      "North Carolina             1       1         1     1       1           1   \n",
      "Notre Dame                 2       2         2     2       2           2   \n",
      "Ohio State                 2       2         2     2       2           2   \n",
      "Oklahoma                   1       1         1     1       1           1   \n",
      "Oregon                     2       2         2     2       2           2   \n",
      "Oregon State               1       1         1     1       1           1   \n",
      "Penn State                 2       2         2     2       2           2   \n",
      "Portland St.               1       1         1     1       1           1   \n",
      "Regina                     1       1         1     1       1           1   \n",
      "South Carolina             2       2         2     2       2           2   \n",
      "Southern Miss              1       1         1     1       1           1   \n",
      "TCU                        1       1         1     1       1           1   \n",
      "Temple                     1       1         1     1       1           1   \n",
      "Tennessee                  2       2         2     2       2           2   \n",
      "Toledo                     1       1         1     1       1           1   \n",
      "UCLA                       1       1         1     1       1           1   \n",
      "UL Monroe                  1       1         1     1       1           1   \n",
      "UNLV                       1       1         1     1       1           1   \n",
      "USC                        3       3         3     3       3           3   \n",
      "USF                        1       1         1     1       1           1   \n",
      "Utah                       2       2         2     2       2           2   \n",
      "Utah State                 1       1         1     1       1           1   \n",
      "Vanderbilt                 2       2         2     2       2           2   \n",
      "Virginia                   1       1         1     1       1           1   \n",
      "Wake Forest                1       1         1     1       1           1   \n",
      "Washington                 2       2         2     2       2           2   \n",
      "Wisconsin                  1       1         1     1       1           1   \n",
      "Wyoming                    1       1         1     1       1           1   \n",
      "\n",
      "                  Height_x  Weight_x  Age_x_x  Overall Rating_x  ...   PD  FF  \\\n",
      "College                                                          ...            \n",
      "Air Force                1         1        1                 1  ...    0   0   \n",
      "Alabama                  1         1        1                 1  ...    0   0   \n",
      "Appalach. St.            1         1        1                 1  ...    0   0   \n",
      "Arkansas                 2         2        2                 2  ...    0   0   \n",
      "Baylor                   4         4        4                 4  ...    4   0   \n",
      "Boise State              1         1        1                 1  ...    0   0   \n",
      "CSU-Pueblo               1         1        1                 1  ...    0   0   \n",
      "California               3         3        3                 3  ...    0   0   \n",
      "Cincinnati               1         1        1                 1  ...    0   0   \n",
      "Colorado St.             1         1        1                 1  ...    0   0   \n",
      "Cornell                  1         1        1                 1  ...    0   0   \n",
      "Delaware                 1         1        1                 1  ...    0   0   \n",
      "Florida                  3         3        3                 3  ...    0   0   \n",
      "Florida State            2         2        2                 2  ...    0   0   \n",
      "Georgia                  2         2        2                 2  ...    0   0   \n",
      "Grand Valley St.         1         1        1                 1  ...    0   0   \n",
      "Harvard                  2         2        2                 2  ...    0   0   \n",
      "Hobart                   1         1        1                 1  ...    0   0   \n",
      "Illinois                 1         1        1                 1  ...    0   0   \n",
      "Iowa                     2         2        2                 2  ...    0   0   \n",
      "Kansas State             1         1        1                 1  ...    0   0   \n",
      "Louisville               1         1        1                 1  ...    0   1   \n",
      "Miami                    2         2        2                 2  ...    0   0   \n",
      "Michigan St.             1         1        1                 1  ...    0   0   \n",
      "Missouri                 3         3        3                 3  ...    0   0   \n",
      "Nebraska                 1         1        1                 1  ...    0   0   \n",
      "North Carolina           1         1        1                 1  ...    0   0   \n",
      "Notre Dame               2         2        2                 2  ...    0   0   \n",
      "Ohio State               2         2        2                 2  ...    0   0   \n",
      "Oklahoma                 1         1        1                 1  ...    0   0   \n",
      "Oregon                   2         2        2                 2  ...    0   0   \n",
      "Oregon State             1         1        1                 1  ...    0   0   \n",
      "Penn State               2         2        2                 2  ...    0   0   \n",
      "Portland St.             1         1        1                 1  ...    0   0   \n",
      "Regina                   1         1        1                 1  ...    0   0   \n",
      "South Carolina           2         2        2                 2  ...    0   0   \n",
      "Southern Miss            1         1        1                 1  ...    0   0   \n",
      "TCU                      1         1        1                 1  ...    0   0   \n",
      "Temple                   1         1        1                 1  ...    0   0   \n",
      "Tennessee                2         2        2                 2  ...    0   0   \n",
      "Toledo                   1         1        1                 1  ...    0   0   \n",
      "UCLA                     1         1        1                 1  ...    0   0   \n",
      "UL Monroe                1         1        1                 1  ...    0   0   \n",
      "UNLV                     1         1        1                 1  ...    0   0   \n",
      "USC                      3         3        3                 3  ...    0   0   \n",
      "USF                      1         1        1                 1  ...    0   0   \n",
      "Utah                     2         2        2                 2  ...    0   0   \n",
      "Utah State               1         1        1                 1  ...    0   0   \n",
      "Vanderbilt               2         2        2                 2  ...    0   0   \n",
      "Virginia                 1         1        1                 1  ...    0   0   \n",
      "Wake Forest              1         1        1                 1  ...    0   0   \n",
      "Washington               2         2        2                 2  ...    0   0   \n",
      "Wisconsin                1         1        1                 1  ...    0   0   \n",
      "Wyoming                  1         1        1                 1  ...    0   0   \n",
      "\n",
      "                  Fmb  FR  Yds.1_y  TD.1_y  Sk_y  Tkl  Ast  Sfty  \n",
      "College                                                           \n",
      "Air Force           0   0        0       0     0    0    0     0  \n",
      "Alabama             0   0        0       0     0    0    0     0  \n",
      "Appalach. St.       0   0        0       0     0    0    0     0  \n",
      "Arkansas            0   0        0       0     0    0    0     0  \n",
      "Baylor              0   0        0       0     0    4    4     0  \n",
      "Boise State         0   0        0       0     0    0    0     0  \n",
      "CSU-Pueblo          0   0        0       0     0    0    0     0  \n",
      "California          0   0        0       0     0    0    0     0  \n",
      "Cincinnati          0   0        0       0     0    0    0     0  \n",
      "Colorado St.        0   0        0       0     0    0    0     0  \n",
      "Cornell             0   0        0       0     0    0    0     0  \n",
      "Delaware            0   0        0       0     0    0    0     0  \n",
      "Florida             0   0        0       0     0    0    0     0  \n",
      "Florida State       0   0        0       0     0    0    0     0  \n",
      "Georgia             0   0        0       0     0    0    0     0  \n",
      "Grand Valley St.    0   0        0       0     0    0    0     0  \n",
      "Harvard             0   0        0       0     0    0    0     0  \n",
      "Hobart              0   0        0       0     0    0    0     0  \n",
      "Illinois            0   0        0       0     0    0    0     0  \n",
      "Iowa                0   0        0       0     0    0    0     0  \n",
      "Kansas State        0   0        0       0     0    0    0     0  \n",
      "Louisville          1   1        1       1     0    0    0     0  \n",
      "Miami               0   0        0       0     0    0    0     0  \n",
      "Michigan St.        0   0        0       0     0    0    0     0  \n",
      "Missouri            0   0        0       0     0    0    0     0  \n",
      "Nebraska            0   0        0       0     0    0    0     0  \n",
      "North Carolina      0   0        0       0     0    0    0     0  \n",
      "Notre Dame          0   0        0       0     0    0    0     0  \n",
      "Ohio State          0   0        0       0     0    0    0     0  \n",
      "Oklahoma            0   0        0       0     0    0    0     0  \n",
      "Oregon              0   0        0       0     0    0    0     0  \n",
      "Oregon State        0   0        0       0     0    0    0     0  \n",
      "Penn State          0   0        0       0     0    0    0     0  \n",
      "Portland St.        0   0        0       0     0    0    0     0  \n",
      "Regina              0   0        0       0     0    0    0     0  \n",
      "South Carolina      0   0        0       0     0    0    0     0  \n",
      "Southern Miss       0   0        0       0     0    0    0     0  \n",
      "TCU                 0   0        0       0     0    0    0     0  \n",
      "Temple              0   0        0       0     0    0    0     0  \n",
      "Tennessee           0   0        0       0     0    0    0     0  \n",
      "Toledo              0   0        0       0     0    0    0     0  \n",
      "UCLA                0   0        0       0     0    0    0     0  \n",
      "UL Monroe           0   0        0       0     0    0    0     0  \n",
      "UNLV                0   0        0       0     0    0    0     0  \n",
      "USC                 0   0        0       0     0    0    0     0  \n",
      "USF                 0   0        0       0     0    0    0     0  \n",
      "Utah                0   0        0       0     0    0    0     0  \n",
      "Utah State          0   0        0       0     0    0    0     0  \n",
      "Vanderbilt          0   0        0       0     0    0    0     0  \n",
      "Virginia            0   0        0       0     0    0    0     0  \n",
      "Wake Forest         0   0        0       0     0    0    0     0  \n",
      "Washington          0   0        0       0     0    0    0     0  \n",
      "Wisconsin           0   0        0       0     0    0    0     0  \n",
      "Wyoming             0   0        0       0     0    0    0     0  \n",
      "\n",
      "[54 rows x 641 columns]\n"
     ]
    }
   ],
   "source": [
    "print(ccount)"
   ]
  },
  {
   "cell_type": "code",
   "execution_count": 156,
   "metadata": {},
   "outputs": [],
   "source": [
    "csort = ccount.sort_values(by='Unnamed: 0', ascending=False)"
   ]
  },
  {
   "cell_type": "code",
   "execution_count": 157,
   "metadata": {},
   "outputs": [],
   "source": [
    "Ctop10 = csort.head(10)"
   ]
  },
  {
   "cell_type": "code",
   "execution_count": 429,
   "metadata": {},
   "outputs": [
    {
     "name": "stdout",
     "output_type": "stream",
     "text": [
      "College\n",
      "Baylor            4\n",
      "California        3\n",
      "Missouri          3\n",
      "USC               3\n",
      "Florida           3\n",
      "Notre Dame        2\n",
      "Georgia           2\n",
      "South Carolina    2\n",
      "Oregon            2\n",
      "Ohio State        2\n",
      "Name: Unnamed: 0, dtype: int64\n"
     ]
    }
   ],
   "source": [
    "print(Ctop10['Unnamed: 0'])"
   ]
  },
  {
   "cell_type": "code",
   "execution_count": 430,
   "metadata": {},
   "outputs": [
    {
     "data": {
      "text/plain": [
       "<matplotlib.axes._subplots.AxesSubplot at 0x211e0e5ccc0>"
      ]
     },
     "execution_count": 430,
     "metadata": {},
     "output_type": "execute_result"
    },
    {
     "data": {
      "image/png": "[encoded data removed]",
      "text/plain": [
       "<matplotlib.figure.Figure at 0x211e3f786a0>"
      ]
     },
     "metadata": {},
     "output_type": "display_data"
    }
   ],
   "source": [
    "Ctop10['Unnamed: 0'].plot.bar()"
   ]
  },
  {
   "cell_type": "code",
   "execution_count": null,
   "metadata": {},
   "outputs": [],
   "source": [
    "###Baylor produces the most centers but do they produce a statistically significant amount more?"
   ]
  },
  {
   "cell_type": "code",
   "execution_count": 162,
   "metadata": {},
   "outputs": [],
   "source": [
    "c_combine = c[['Overall Rating_x', 'Shuttle', 'Vertical', '3Cone', '40yd', 'Ht',\n",
    "              'Wt', 'Bench', 'Broad Jump']]"
   ]
  },
  {
   "cell_type": "code",
   "execution_count": 164,
   "metadata": {},
   "outputs": [],
   "source": [
    "cmean = c_combine.mean()"
   ]
  },
  {
   "cell_type": "code",
   "execution_count": 166,
   "metadata": {},
   "outputs": [
    {
     "name": "stdout",
     "output_type": "stream",
     "text": [
      "Overall Rating_x     71.150000\n",
      "Shuttle               4.630313\n",
      "Vertical             27.823529\n",
      "3Cone                 7.685806\n",
      "40yd                  5.174750\n",
      "Wt                  301.317073\n",
      "Bench                25.486486\n",
      "Broad Jump          104.030303\n",
      "dtype: float64 Wt            243.376448\n",
      "3Cone           7.248442\n",
      "40yd            4.782479\n",
      "Vertical       32.600599\n",
      "Shuttle         4.397884\n",
      "Bench          20.365121\n",
      "Broad Jump    115.219394\n",
      "dtype: float64 3Cone                0.437365\n",
      "40yd                 0.392271\n",
      "Bench                5.121366\n",
      "Broad Jump         -11.189091\n",
      "Overall Rating_x          NaN\n",
      "Shuttle              0.232429\n",
      "Vertical            -4.777069\n",
      "Wt                  57.940625\n",
      "dtype: float64\n"
     ]
    }
   ],
   "source": [
    "print(cmean, means, (cmean- means))"
   ]
  },
  {
   "cell_type": "code",
   "execution_count": 168,
   "metadata": {},
   "outputs": [
    {
     "data": {
      "text/html": [
       "<div>\n",
       "<style scoped>\n",
       "    .dataframe tbody tr th:only-of-type {\n",
       "        vertical-align: middle;\n",
       "    }\n",
       "\n",
       "    .dataframe tbody tr th {\n",
       "        vertical-align: top;\n",
       "    }\n",
       "\n",
       "    .dataframe thead th {\n",
       "        text-align: right;\n",
       "    }\n",
       "</style>\n",
       "<table border=\"1\" class=\"dataframe\">\n",
       "  <thead>\n",
       "    <tr style=\"text-align: right;\">\n",
       "      <th></th>\n",
       "      <th>Overall Rating_x</th>\n",
       "      <th>Shuttle</th>\n",
       "      <th>Vertical</th>\n",
       "      <th>3Cone</th>\n",
       "      <th>40yd</th>\n",
       "      <th>Wt</th>\n",
       "      <th>Bench</th>\n",
       "      <th>Broad Jump</th>\n",
       "    </tr>\n",
       "  </thead>\n",
       "  <tbody>\n",
       "    <tr>\n",
       "      <th>Overall Rating_x</th>\n",
       "      <td>1.000000</td>\n",
       "      <td>0.144882</td>\n",
       "      <td>-0.086603</td>\n",
       "      <td>0.189403</td>\n",
       "      <td>0.197710</td>\n",
       "      <td>0.272627</td>\n",
       "      <td>0.217148</td>\n",
       "      <td>-0.062961</td>\n",
       "    </tr>\n",
       "    <tr>\n",
       "      <th>Shuttle</th>\n",
       "      <td>0.144882</td>\n",
       "      <td>1.000000</td>\n",
       "      <td>-0.570883</td>\n",
       "      <td>0.693694</td>\n",
       "      <td>0.187787</td>\n",
       "      <td>0.611018</td>\n",
       "      <td>0.362495</td>\n",
       "      <td>-0.611863</td>\n",
       "    </tr>\n",
       "    <tr>\n",
       "      <th>Vertical</th>\n",
       "      <td>-0.086603</td>\n",
       "      <td>-0.570883</td>\n",
       "      <td>1.000000</td>\n",
       "      <td>-0.602307</td>\n",
       "      <td>-0.346433</td>\n",
       "      <td>-0.800512</td>\n",
       "      <td>-0.250892</td>\n",
       "      <td>0.794198</td>\n",
       "    </tr>\n",
       "    <tr>\n",
       "      <th>3Cone</th>\n",
       "      <td>0.189403</td>\n",
       "      <td>0.693694</td>\n",
       "      <td>-0.602307</td>\n",
       "      <td>1.000000</td>\n",
       "      <td>0.354147</td>\n",
       "      <td>0.664114</td>\n",
       "      <td>0.539745</td>\n",
       "      <td>-0.556816</td>\n",
       "    </tr>\n",
       "    <tr>\n",
       "      <th>40yd</th>\n",
       "      <td>0.197710</td>\n",
       "      <td>0.187787</td>\n",
       "      <td>-0.346433</td>\n",
       "      <td>0.354147</td>\n",
       "      <td>1.000000</td>\n",
       "      <td>0.371634</td>\n",
       "      <td>0.134532</td>\n",
       "      <td>-0.442892</td>\n",
       "    </tr>\n",
       "    <tr>\n",
       "      <th>Wt</th>\n",
       "      <td>0.272627</td>\n",
       "      <td>0.611018</td>\n",
       "      <td>-0.800512</td>\n",
       "      <td>0.664114</td>\n",
       "      <td>0.371634</td>\n",
       "      <td>1.000000</td>\n",
       "      <td>0.500919</td>\n",
       "      <td>-0.800440</td>\n",
       "    </tr>\n",
       "    <tr>\n",
       "      <th>Bench</th>\n",
       "      <td>0.217148</td>\n",
       "      <td>0.362495</td>\n",
       "      <td>-0.250892</td>\n",
       "      <td>0.539745</td>\n",
       "      <td>0.134532</td>\n",
       "      <td>0.500919</td>\n",
       "      <td>1.000000</td>\n",
       "      <td>-0.251454</td>\n",
       "    </tr>\n",
       "    <tr>\n",
       "      <th>Broad Jump</th>\n",
       "      <td>-0.062961</td>\n",
       "      <td>-0.611863</td>\n",
       "      <td>0.794198</td>\n",
       "      <td>-0.556816</td>\n",
       "      <td>-0.442892</td>\n",
       "      <td>-0.800440</td>\n",
       "      <td>-0.251454</td>\n",
       "      <td>1.000000</td>\n",
       "    </tr>\n",
       "  </tbody>\n",
       "</table>\n",
       "</div>"
      ],
      "text/plain": [
       "                  Overall Rating_x   Shuttle  Vertical     3Cone      40yd  \\\n",
       "Overall Rating_x          1.000000  0.144882 -0.086603  0.189403  0.197710   \n",
       "Shuttle                   0.144882  1.000000 -0.570883  0.693694  0.187787   \n",
       "Vertical                 -0.086603 -0.570883  1.000000 -0.602307 -0.346433   \n",
       "3Cone                     0.189403  0.693694 -0.602307  1.000000  0.354147   \n",
       "40yd                      0.197710  0.187787 -0.346433  0.354147  1.000000   \n",
       "Wt                        0.272627  0.611018 -0.800512  0.664114  0.371634   \n",
       "Bench                     0.217148  0.362495 -0.250892  0.539745  0.134532   \n",
       "Broad Jump               -0.062961 -0.611863  0.794198 -0.556816 -0.442892   \n",
       "\n",
       "                        Wt     Bench  Broad Jump  \n",
       "Overall Rating_x  0.272627  0.217148   -0.062961  \n",
       "Shuttle           0.611018  0.362495   -0.611863  \n",
       "Vertical         -0.800512 -0.250892    0.794198  \n",
       "3Cone             0.664114  0.539745   -0.556816  \n",
       "40yd              0.371634  0.134532   -0.442892  \n",
       "Wt                1.000000  0.500919   -0.800440  \n",
       "Bench             0.500919  1.000000   -0.251454  \n",
       "Broad Jump       -0.800440 -0.251454    1.000000  "
      ]
     },
     "execution_count": 168,
     "metadata": {},
     "output_type": "execute_result"
    }
   ],
   "source": [
    "c_combine.corr()"
   ]
  },
  {
   "cell_type": "code",
   "execution_count": 169,
   "metadata": {},
   "outputs": [],
   "source": [
    "#Left Tackle"
   ]
  },
  {
   "cell_type": "code",
   "execution_count": 210,
   "metadata": {},
   "outputs": [],
   "source": [
    "lt = mcfd[mcfd['Position_x'] == 'LT']"
   ]
  },
  {
   "cell_type": "code",
   "execution_count": 213,
   "metadata": {},
   "outputs": [],
   "source": [
    "ltcount = lt.groupby('College').count()"
   ]
  },
  {
   "cell_type": "code",
   "execution_count": 214,
   "metadata": {},
   "outputs": [
    {
     "name": "stdout",
     "output_type": "stream",
     "text": [
      "                    Unnamed: 0  Index2  Index1_x  Name  Team_x  Position_x  \\\n",
      "College                                                                      \n",
      "Alabama                      2       2         2     2       2           2   \n",
      "Appalach. St.                1       1         1     1       1           1   \n",
      "Arkansas                     2       2         2     2       2           2   \n",
      "Arkansas P.B.                1       1         1     1       1           1   \n",
      "Army                         1       1         1     1       1           1   \n",
      "Auburn                       2       2         2     2       2           2   \n",
      "Bloomsburg                   1       1         1     1       1           1   \n",
      "Boise State                  1       1         1     1       1           1   \n",
      "Boston College               2       2         2     2       2           2   \n",
      "Central Michigan             2       2         2     2       2           2   \n",
      "Cincinnati                   2       2         2     2       2           2   \n",
      "Colorado                     3       3         3     3       3           3   \n",
      "Eastern Wash.                2       2         2     2       2           2   \n",
      "Florida                      2       2         2     2       2           2   \n",
      "Florida State                1       1         1     1       1           1   \n",
      "Georgia                      1       1         1     1       1           1   \n",
      "Indiana                      1       1         1     1       1           1   \n",
      "Iowa                         1       1         1     1       1           1   \n",
      "LSU                          2       2         2     2       2           2   \n",
      "Louisiana College            1       1         1     1       1           1   \n",
      "Memphis                      1       1         1     1       1           1   \n",
      "Miami                        1       1         1     1       1           1   \n",
      "Michigan                     1       1         1     1       1           1   \n",
      "Michigan St.                 1       1         1     1       1           1   \n",
      "Mississippi St.              1       1         1     1       1           1   \n",
      "Missouri W State             1       1         1     1       1           1   \n",
      "Nebraska                     1       1         1     1       1           1   \n",
      "Northeastern St.             1       1         1     1       1           1   \n",
      "Northwestern State           1       1         1     1       1           1   \n",
      "Notre Dame                   1       1         1     1       1           1   \n",
      "Ohio State                   2       2         2     2       2           2   \n",
      "Oklahoma                     2       2         2     2       2           2   \n",
      "Oklahoma St.                 1       1         1     1       1           1   \n",
      "Ole Miss                     3       3         3     3       3           3   \n",
      "Penn State                   1       1         1     1       1           1   \n",
      "Pittsburgh                   2       2         2     2       2           2   \n",
      "Purdue                       1       1         1     1       1           1   \n",
      "S. Dakota St.                1       1         1     1       1           1   \n",
      "SMU                          1       1         1     1       1           1   \n",
      "South Carolina               1       1         1     1       1           1   \n",
      "Southern Miss                1       1         1     1       1           1   \n",
      "Texas AM                     2       2         2     2       2           2   \n",
      "Texas State                  1       1         1     1       1           1   \n",
      "Texas Tech                   1       1         1     1       1           1   \n",
      "Troy                         1       1         1     1       1           1   \n",
      "UAB                          1       1         1     1       1           1   \n",
      "USC                          3       3         3     3       3           3   \n",
      "Utah                         1       1         1     1       1           1   \n",
      "Utah State                   1       1         1     1       1           1   \n",
      "Vanderbilt                   1       1         1     1       1           1   \n",
      "Villanova                    1       1         1     1       1           1   \n",
      "Virginia Tech                2       2         2     2       2           2   \n",
      "W. Kentucky                  1       1         1     1       1           1   \n",
      "Wisconsin                    2       2         2     2       2           2   \n",
      "\n",
      "                    Height_x  Weight_x  Age_x_x  Overall Rating_x  ...   PD  \\\n",
      "College                                                            ...        \n",
      "Alabama                    2         2        2                 2  ...    0   \n",
      "Appalach. St.              1         1        1                 1  ...    0   \n",
      "Arkansas                   2         2        2                 2  ...    0   \n",
      "Arkansas P.B.              1         1        1                 1  ...    0   \n",
      "Army                       1         1        1                 1  ...    0   \n",
      "Auburn                     2         2        2                 2  ...    0   \n",
      "Bloomsburg                 1         1        1                 1  ...    0   \n",
      "Boise State                1         1        1                 1  ...    0   \n",
      "Boston College             2         2        2                 2  ...    0   \n",
      "Central Michigan           2         2        2                 2  ...    0   \n",
      "Cincinnati                 2         2        2                 2  ...    0   \n",
      "Colorado                   3         3        3                 3  ...    0   \n",
      "Eastern Wash.              2         2        2                 2  ...    0   \n",
      "Florida                    2         2        2                 2  ...    0   \n",
      "Florida State              1         1        1                 1  ...    0   \n",
      "Georgia                    1         1        1                 1  ...    0   \n",
      "Indiana                    1         1        1                 1  ...    0   \n",
      "Iowa                       1         1        1                 1  ...    0   \n",
      "LSU                        2         2        2                 2  ...    0   \n",
      "Louisiana College          1         1        1                 1  ...    0   \n",
      "Memphis                    1         1        1                 1  ...    0   \n",
      "Miami                      1         1        1                 1  ...    0   \n",
      "Michigan                   1         1        1                 1  ...    0   \n",
      "Michigan St.               1         1        1                 1  ...    0   \n",
      "Mississippi St.            1         1        1                 1  ...    0   \n",
      "Missouri W State           1         1        1                 1  ...    0   \n",
      "Nebraska                   1         1        1                 1  ...    0   \n",
      "Northeastern St.           1         1        1                 1  ...    0   \n",
      "Northwestern State         1         1        1                 1  ...    0   \n",
      "Notre Dame                 1         1        1                 1  ...    0   \n",
      "Ohio State                 2         2        2                 2  ...    0   \n",
      "Oklahoma                   2         2        2                 2  ...    0   \n",
      "Oklahoma St.               1         1        1                 1  ...    0   \n",
      "Ole Miss                   3         3        3                 3  ...    0   \n",
      "Penn State                 1         1        1                 1  ...    0   \n",
      "Pittsburgh                 2         2        2                 2  ...    0   \n",
      "Purdue                     1         1        1                 1  ...    0   \n",
      "S. Dakota St.              1         1        1                 1  ...    0   \n",
      "SMU                        1         1        1                 1  ...    0   \n",
      "South Carolina             1         1        1                 1  ...    0   \n",
      "Southern Miss              1         1        1                 1  ...    0   \n",
      "Texas AM                   2         2        2                 2  ...    0   \n",
      "Texas State                1         1        1                 1  ...    0   \n",
      "Texas Tech                 1         1        1                 1  ...    0   \n",
      "Troy                       1         1        1                 1  ...    0   \n",
      "UAB                        1         1        1                 1  ...    0   \n",
      "USC                        3         3        3                 3  ...    0   \n",
      "Utah                       1         1        1                 1  ...    0   \n",
      "Utah State                 1         1        1                 1  ...    0   \n",
      "Vanderbilt                 1         1        1                 1  ...    0   \n",
      "Villanova                  1         1        1                 1  ...    0   \n",
      "Virginia Tech              2         2        2                 2  ...    0   \n",
      "W. Kentucky                1         1        1                 1  ...    0   \n",
      "Wisconsin                  2         2        2                 2  ...    2   \n",
      "\n",
      "                    FF  Fmb  FR  Yds.1_y  TD.1_y  Sk_y  Tkl  Ast  Sfty  \n",
      "College                                                                 \n",
      "Alabama              0    0   0        0       0     0    0    0     0  \n",
      "Appalach. St.        0    0   0        0       0     0    0    0     0  \n",
      "Arkansas             0    0   0        0       0     0    0    0     0  \n",
      "Arkansas P.B.        0    0   0        0       0     0    0    0     0  \n",
      "Army                 0    0   0        0       0     0    0    0     0  \n",
      "Auburn               0    0   0        0       0     0    0    0     0  \n",
      "Bloomsburg           0    0   0        0       0     0    0    0     0  \n",
      "Boise State          0    0   0        0       0     0    0    0     0  \n",
      "Boston College       0    0   0        0       0     0    0    0     0  \n",
      "Central Michigan     1    1   1        1       1     0    0    0     0  \n",
      "Cincinnati           0    0   0        0       0     0    0    0     0  \n",
      "Colorado             0    0   0        0       0     0    0    0     0  \n",
      "Eastern Wash.        0    0   0        0       0     0    0    0     0  \n",
      "Florida              0    0   0        0       0     0    0    0     0  \n",
      "Florida State        0    0   0        0       0     0    0    0     0  \n",
      "Georgia              0    0   0        0       0     0    0    0     0  \n",
      "Indiana              0    0   0        0       0     0    0    0     0  \n",
      "Iowa                 0    0   0        0       0     0    0    0     0  \n",
      "LSU                  0    0   0        0       0     0    0    0     0  \n",
      "Louisiana College    0    0   0        0       0     0    0    0     0  \n",
      "Memphis              0    0   0        0       0     0    0    0     0  \n",
      "Miami                1    1   1        1       1     0    0    0     0  \n",
      "Michigan             0    0   0        0       0     0    0    0     0  \n",
      "Michigan St.         0    0   0        0       0     0    0    0     0  \n",
      "Mississippi St.      0    0   0        0       0     0    0    0     0  \n",
      "Missouri W State     0    0   0        0       0     0    0    0     0  \n",
      "Nebraska             0    0   0        0       0     0    0    0     0  \n",
      "Northeastern St.     0    0   0        0       0     0    0    0     0  \n",
      "Northwestern State   0    0   0        0       0     0    0    0     0  \n",
      "Notre Dame           0    0   0        0       0     0    0    0     0  \n",
      "Ohio State           0    0   0        0       0     0    0    0     0  \n",
      "Oklahoma             0    0   0        0       0     0    0    0     0  \n",
      "Oklahoma St.         0    0   0        0       0     0    0    0     0  \n",
      "Ole Miss             0    0   0        0       0     0    0    0     0  \n",
      "Penn State           0    0   0        0       0     0    0    0     0  \n",
      "Pittsburgh           0    0   0        0       0     0    0    0     0  \n",
      "Purdue               0    0   0        0       0     0    0    0     0  \n",
      "S. Dakota St.        0    0   0        0       0     0    0    0     0  \n",
      "SMU                  0    0   0        0       0     0    0    0     0  \n",
      "South Carolina       0    0   0        0       0     0    0    0     0  \n",
      "Southern Miss        0    0   0        0       0     0    0    0     0  \n",
      "Texas AM             1    1   1        1       1     0    0    0     0  \n",
      "Texas State          0    0   0        0       0     0    0    0     0  \n",
      "Texas Tech           0    0   0        0       0     0    0    0     0  \n",
      "Troy                 0    0   0        0       0     0    0    0     0  \n",
      "UAB                  0    0   0        0       0     0    0    0     0  \n",
      "USC                  0    0   0        0       0     0    0    0     0  \n",
      "Utah                 0    0   0        0       0     0    0    0     0  \n",
      "Utah State           0    0   0        0       0     0    0    0     0  \n",
      "Vanderbilt           0    0   0        0       0     0    0    0     0  \n",
      "Villanova            0    0   0        0       0     0    0    0     0  \n",
      "Virginia Tech        0    0   0        0       0     0    0    0     0  \n",
      "W. Kentucky          0    0   0        0       0     0    0    0     0  \n",
      "Wisconsin            0    0   0        0       0     2    2    2     0  \n",
      "\n",
      "[54 rows x 641 columns]\n"
     ]
    }
   ],
   "source": [
    "print(ltcount)"
   ]
  },
  {
   "cell_type": "code",
   "execution_count": 220,
   "metadata": {},
   "outputs": [],
   "source": [
    "ltsort = ltcount.sort_values('Unnamed: 0', ascending=False)"
   ]
  },
  {
   "cell_type": "code",
   "execution_count": 221,
   "metadata": {},
   "outputs": [],
   "source": [
    "lttop10 = ltsort.head(10)"
   ]
  },
  {
   "cell_type": "code",
   "execution_count": 222,
   "metadata": {},
   "outputs": [
    {
     "name": "stdout",
     "output_type": "stream",
     "text": [
      "College\n",
      "USC              3\n",
      "Ole Miss         3\n",
      "Colorado         3\n",
      "Alabama          2\n",
      "Eastern Wash.    2\n",
      "Virginia Tech    2\n",
      "Texas AM         2\n",
      "Pittsburgh       2\n",
      "Oklahoma         2\n",
      "Ohio State       2\n",
      "Name: Unnamed: 0, dtype: int64\n"
     ]
    }
   ],
   "source": [
    "print(lttop10['Unnamed: 0'])"
   ]
  },
  {
   "cell_type": "code",
   "execution_count": 431,
   "metadata": {},
   "outputs": [
    {
     "data": {
      "text/plain": [
       "<matplotlib.axes._subplots.AxesSubplot at 0x211e48c9d30>"
      ]
     },
     "execution_count": 431,
     "metadata": {},
     "output_type": "execute_result"
    },
    {
     "data": {
      "image/png": "[encoded data removed]",
      "text/plain": [
       "<matplotlib.figure.Figure at 0x211e4a50da0>"
      ]
     },
     "metadata": {},
     "output_type": "display_data"
    }
   ],
   "source": [
    "lttop10['Unnamed: 0'].plot.bar()"
   ]
  },
  {
   "cell_type": "code",
   "execution_count": null,
   "metadata": {},
   "outputs": [],
   "source": []
  },
  {
   "cell_type": "code",
   "execution_count": 172,
   "metadata": {},
   "outputs": [],
   "source": [
    "ltmeans = lt[['Ht', 'Wt', 'Vertical', 'Bench', 'Broad Jump', '3Cone', 'Shuttle']].mean()"
   ]
  },
  {
   "cell_type": "code",
   "execution_count": 205,
   "metadata": {},
   "outputs": [
    {
     "name": "stdout",
     "output_type": "stream",
     "text": [
      "Wt            315.783784\n",
      "Vertical       28.296875\n",
      "Bench          25.750000\n",
      "Broad Jump    105.200000\n",
      "3Cone           7.843333\n",
      "Shuttle         4.771212\n",
      "dtype: float64 Wt            243.376448\n",
      "3Cone           7.248442\n",
      "40yd            4.782479\n",
      "Vertical       32.600599\n",
      "Shuttle         4.397884\n",
      "Bench          20.365121\n",
      "Broad Jump    115.219394\n",
      "dtype: float64 3Cone          0.594891\n",
      "40yd                NaN\n",
      "Bench          5.384879\n",
      "Broad Jump   -10.019394\n",
      "Shuttle        0.373329\n",
      "Vertical      -4.303724\n",
      "Wt            72.407336\n",
      "dtype: float64 3Cone                0.157527\n",
      "40yd                      NaN\n",
      "Bench                0.263514\n",
      "Broad Jump           1.169697\n",
      "Overall Rating_x          NaN\n",
      "Shuttle              0.140900\n",
      "Vertical             0.473346\n",
      "Wt                  14.466711\n",
      "dtype: float64\n"
     ]
    }
   ],
   "source": [
    "print(ltmeans, means, (ltmeans - means), (ltmeans - cmean))"
   ]
  },
  {
   "cell_type": "code",
   "execution_count": 208,
   "metadata": {},
   "outputs": [],
   "source": [
    "ltcorr = lt[['Overall Rating_x','Ht', 'Wt', 'Vertical', 'Bench', 'Broad Jump', '3Cone', 'Shuttle']].corr()"
   ]
  },
  {
   "cell_type": "code",
   "execution_count": 410,
   "metadata": {},
   "outputs": [
    {
     "data": {
      "text/html": [
       "<div>\n",
       "<style scoped>\n",
       "    .dataframe tbody tr th:only-of-type {\n",
       "        vertical-align: middle;\n",
       "    }\n",
       "\n",
       "    .dataframe tbody tr th {\n",
       "        vertical-align: top;\n",
       "    }\n",
       "\n",
       "    .dataframe thead th {\n",
       "        text-align: right;\n",
       "    }\n",
       "</style>\n",
       "<table border=\"1\" class=\"dataframe\">\n",
       "  <thead>\n",
       "    <tr style=\"text-align: right;\">\n",
       "      <th></th>\n",
       "      <th>Overall Rating_x</th>\n",
       "      <th>Wt</th>\n",
       "      <th>Vertical</th>\n",
       "      <th>Bench</th>\n",
       "      <th>Broad Jump</th>\n",
       "      <th>3Cone</th>\n",
       "      <th>Shuttle</th>\n",
       "    </tr>\n",
       "  </thead>\n",
       "  <tbody>\n",
       "    <tr>\n",
       "      <th>Overall Rating_x</th>\n",
       "      <td>1.000000</td>\n",
       "      <td>-0.170740</td>\n",
       "      <td>0.068166</td>\n",
       "      <td>0.171809</td>\n",
       "      <td>0.061955</td>\n",
       "      <td>-0.430611</td>\n",
       "      <td>-0.288036</td>\n",
       "    </tr>\n",
       "    <tr>\n",
       "      <th>Wt</th>\n",
       "      <td>-0.170740</td>\n",
       "      <td>1.000000</td>\n",
       "      <td>-0.535688</td>\n",
       "      <td>0.168383</td>\n",
       "      <td>-0.416034</td>\n",
       "      <td>0.547605</td>\n",
       "      <td>0.520038</td>\n",
       "    </tr>\n",
       "    <tr>\n",
       "      <th>Vertical</th>\n",
       "      <td>0.068166</td>\n",
       "      <td>-0.535688</td>\n",
       "      <td>1.000000</td>\n",
       "      <td>0.122125</td>\n",
       "      <td>0.725586</td>\n",
       "      <td>-0.499450</td>\n",
       "      <td>-0.501802</td>\n",
       "    </tr>\n",
       "    <tr>\n",
       "      <th>Bench</th>\n",
       "      <td>0.171809</td>\n",
       "      <td>0.168383</td>\n",
       "      <td>0.122125</td>\n",
       "      <td>1.000000</td>\n",
       "      <td>0.349046</td>\n",
       "      <td>-0.015486</td>\n",
       "      <td>-0.071265</td>\n",
       "    </tr>\n",
       "    <tr>\n",
       "      <th>Broad Jump</th>\n",
       "      <td>0.061955</td>\n",
       "      <td>-0.416034</td>\n",
       "      <td>0.725586</td>\n",
       "      <td>0.349046</td>\n",
       "      <td>1.000000</td>\n",
       "      <td>-0.585330</td>\n",
       "      <td>-0.643456</td>\n",
       "    </tr>\n",
       "    <tr>\n",
       "      <th>3Cone</th>\n",
       "      <td>-0.430611</td>\n",
       "      <td>0.547605</td>\n",
       "      <td>-0.499450</td>\n",
       "      <td>-0.015486</td>\n",
       "      <td>-0.585330</td>\n",
       "      <td>1.000000</td>\n",
       "      <td>0.806800</td>\n",
       "    </tr>\n",
       "    <tr>\n",
       "      <th>Shuttle</th>\n",
       "      <td>-0.288036</td>\n",
       "      <td>0.520038</td>\n",
       "      <td>-0.501802</td>\n",
       "      <td>-0.071265</td>\n",
       "      <td>-0.643456</td>\n",
       "      <td>0.806800</td>\n",
       "      <td>1.000000</td>\n",
       "    </tr>\n",
       "  </tbody>\n",
       "</table>\n",
       "</div>"
      ],
      "text/plain": [
       "                  Overall Rating_x        Wt  Vertical     Bench  Broad Jump  \\\n",
       "Overall Rating_x          1.000000 -0.170740  0.068166  0.171809    0.061955   \n",
       "Wt                       -0.170740  1.000000 -0.535688  0.168383   -0.416034   \n",
       "Vertical                  0.068166 -0.535688  1.000000  0.122125    0.725586   \n",
       "Bench                     0.171809  0.168383  0.122125  1.000000    0.349046   \n",
       "Broad Jump                0.061955 -0.416034  0.725586  0.349046    1.000000   \n",
       "3Cone                    -0.430611  0.547605 -0.499450 -0.015486   -0.585330   \n",
       "Shuttle                  -0.288036  0.520038 -0.501802 -0.071265   -0.643456   \n",
       "\n",
       "                     3Cone   Shuttle  \n",
       "Overall Rating_x -0.430611 -0.288036  \n",
       "Wt                0.547605  0.520038  \n",
       "Vertical         -0.499450 -0.501802  \n",
       "Bench            -0.015486 -0.071265  \n",
       "Broad Jump       -0.585330 -0.643456  \n",
       "3Cone             1.000000  0.806800  \n",
       "Shuttle           0.806800  1.000000  "
      ]
     },
     "execution_count": 410,
     "metadata": {},
     "output_type": "execute_result"
    }
   ],
   "source": [
    "ltcorr"
   ]
  },
  {
   "cell_type": "code",
   "execution_count": null,
   "metadata": {},
   "outputs": [],
   "source": [
    "###3Cone seems to be very important as well as the shuttle.  I expected Bench to be more strongly correlated"
   ]
  },
  {
   "cell_type": "code",
   "execution_count": null,
   "metadata": {},
   "outputs": [],
   "source": [
    "#Left Guard"
   ]
  },
  {
   "cell_type": "code",
   "execution_count": 25,
   "metadata": {},
   "outputs": [],
   "source": [
    "lg = mcfd[mcfd['Position_x'] == 'LG']"
   ]
  },
  {
   "cell_type": "code",
   "execution_count": 27,
   "metadata": {},
   "outputs": [],
   "source": [
    "lgcount = lg.groupby('College').count()"
   ]
  },
  {
   "cell_type": "code",
   "execution_count": 28,
   "metadata": {},
   "outputs": [],
   "source": [
    "lgsort = lgcount.sort_values('Unnamed: 0', ascending = False)"
   ]
  },
  {
   "cell_type": "code",
   "execution_count": 29,
   "metadata": {},
   "outputs": [],
   "source": [
    "lgtop10 = lgsort.head(10)"
   ]
  },
  {
   "cell_type": "code",
   "execution_count": 30,
   "metadata": {},
   "outputs": [
    {
     "name": "stdout",
     "output_type": "stream",
     "text": [
      "College\n",
      "Alabama          4\n",
      "West Virginia    3\n",
      "Nebraska         3\n",
      "Ohio State       3\n",
      "Oregon State     3\n",
      "Stanford         2\n",
      "Arizona St.      2\n",
      "Michigan         2\n",
      "Purdue           2\n",
      "N.C. State       2\n",
      "Name: Unnamed: 0, dtype: int64\n"
     ]
    }
   ],
   "source": [
    "print(lgtop10['Unnamed: 0'])"
   ]
  },
  {
   "cell_type": "code",
   "execution_count": 434,
   "metadata": {},
   "outputs": [
    {
     "data": {
      "text/plain": [
       "<matplotlib.axes._subplots.AxesSubplot at 0x211e41e04a8>"
      ]
     },
     "execution_count": 434,
     "metadata": {},
     "output_type": "execute_result"
    },
    {
     "data": {
      "image/png": "[encoded data removed]",
      "text/plain": [
       "<matplotlib.figure.Figure at 0x211e514b1d0>"
      ]
     },
     "metadata": {},
     "output_type": "display_data"
    }
   ],
   "source": [
    "lgtop10['Unnamed: 0'].plot.bar()"
   ]
  },
  {
   "cell_type": "code",
   "execution_count": 237,
   "metadata": {},
   "outputs": [],
   "source": [
    "lgmeans = lg[['Ht', 'Wt', 'Vertical', 'Bench', 'Broad Jump', '3Cone', 'Shuttle', '40yd']].mean()"
   ]
  },
  {
   "cell_type": "code",
   "execution_count": 411,
   "metadata": {},
   "outputs": [
    {
     "name": "stdout",
     "output_type": "stream",
     "text": [
      "Wt            311.761905\n",
      "Vertical       28.027027\n",
      "Bench          26.875000\n",
      "Broad Jump    103.842105\n",
      "3Cone           7.800000\n",
      "Shuttle         4.708889\n",
      "40yd            5.212857\n",
      "dtype: float64 3Cone                0.114194\n",
      "40yd                 0.038107\n",
      "Bench                1.388514\n",
      "Broad Jump          -0.188198\n",
      "Overall Rating_x          NaN\n",
      "Shuttle              0.078576\n",
      "Vertical             0.203498\n",
      "Wt                  10.444832\n",
      "dtype: float64 3Cone        -0.043333\n",
      "40yd               NaN\n",
      "Bench         1.125000\n",
      "Broad Jump   -1.357895\n",
      "Shuttle      -0.062323\n",
      "Vertical     -0.269848\n",
      "Wt           -4.021879\n",
      "dtype: float64\n"
     ]
    }
   ],
   "source": [
    "print(lgmeans, (lgmeans-cmean), lgmeans - ltmeans)"
   ]
  },
  {
   "cell_type": "code",
   "execution_count": null,
   "metadata": {},
   "outputs": [],
   "source": [
    "###Looks like they have stronger upper bodies and weaker lower bodies than left tackles"
   ]
  },
  {
   "cell_type": "code",
   "execution_count": 260,
   "metadata": {},
   "outputs": [],
   "source": [
    "lgcorr = lg[['Overall Rating_x', 'Ht', 'Wt', 'Vertical', 'Bench', 'Broad Jump', '3Cone', 'Shuttle', '40yd']].corr()"
   ]
  },
  {
   "cell_type": "code",
   "execution_count": 412,
   "metadata": {},
   "outputs": [
    {
     "data": {
      "text/html": [
       "<div>\n",
       "<style scoped>\n",
       "    .dataframe tbody tr th:only-of-type {\n",
       "        vertical-align: middle;\n",
       "    }\n",
       "\n",
       "    .dataframe tbody tr th {\n",
       "        vertical-align: top;\n",
       "    }\n",
       "\n",
       "    .dataframe thead th {\n",
       "        text-align: right;\n",
       "    }\n",
       "</style>\n",
       "<table border=\"1\" class=\"dataframe\">\n",
       "  <thead>\n",
       "    <tr style=\"text-align: right;\">\n",
       "      <th></th>\n",
       "      <th>Overall Rating_x</th>\n",
       "      <th>Wt</th>\n",
       "      <th>Vertical</th>\n",
       "      <th>Bench</th>\n",
       "      <th>Broad Jump</th>\n",
       "      <th>3Cone</th>\n",
       "      <th>Shuttle</th>\n",
       "      <th>40yd</th>\n",
       "    </tr>\n",
       "  </thead>\n",
       "  <tbody>\n",
       "    <tr>\n",
       "      <th>Overall Rating_x</th>\n",
       "      <td>1.000000</td>\n",
       "      <td>0.165036</td>\n",
       "      <td>0.039784</td>\n",
       "      <td>0.268792</td>\n",
       "      <td>0.342620</td>\n",
       "      <td>-0.262547</td>\n",
       "      <td>-0.105320</td>\n",
       "      <td>-0.267697</td>\n",
       "    </tr>\n",
       "    <tr>\n",
       "      <th>Wt</th>\n",
       "      <td>0.165036</td>\n",
       "      <td>1.000000</td>\n",
       "      <td>-0.222428</td>\n",
       "      <td>0.356097</td>\n",
       "      <td>-0.424218</td>\n",
       "      <td>0.228404</td>\n",
       "      <td>0.367112</td>\n",
       "      <td>0.409326</td>\n",
       "    </tr>\n",
       "    <tr>\n",
       "      <th>Vertical</th>\n",
       "      <td>0.039784</td>\n",
       "      <td>-0.222428</td>\n",
       "      <td>1.000000</td>\n",
       "      <td>0.175017</td>\n",
       "      <td>0.480799</td>\n",
       "      <td>0.006140</td>\n",
       "      <td>-0.071567</td>\n",
       "      <td>-0.265672</td>\n",
       "    </tr>\n",
       "    <tr>\n",
       "      <th>Bench</th>\n",
       "      <td>0.268792</td>\n",
       "      <td>0.356097</td>\n",
       "      <td>0.175017</td>\n",
       "      <td>1.000000</td>\n",
       "      <td>0.210338</td>\n",
       "      <td>-0.095878</td>\n",
       "      <td>0.141758</td>\n",
       "      <td>-0.211888</td>\n",
       "    </tr>\n",
       "    <tr>\n",
       "      <th>Broad Jump</th>\n",
       "      <td>0.342620</td>\n",
       "      <td>-0.424218</td>\n",
       "      <td>0.480799</td>\n",
       "      <td>0.210338</td>\n",
       "      <td>1.000000</td>\n",
       "      <td>-0.440049</td>\n",
       "      <td>-0.403509</td>\n",
       "      <td>-0.465412</td>\n",
       "    </tr>\n",
       "    <tr>\n",
       "      <th>3Cone</th>\n",
       "      <td>-0.262547</td>\n",
       "      <td>0.228404</td>\n",
       "      <td>0.006140</td>\n",
       "      <td>-0.095878</td>\n",
       "      <td>-0.440049</td>\n",
       "      <td>1.000000</td>\n",
       "      <td>0.669544</td>\n",
       "      <td>0.332791</td>\n",
       "    </tr>\n",
       "    <tr>\n",
       "      <th>Shuttle</th>\n",
       "      <td>-0.105320</td>\n",
       "      <td>0.367112</td>\n",
       "      <td>-0.071567</td>\n",
       "      <td>0.141758</td>\n",
       "      <td>-0.403509</td>\n",
       "      <td>0.669544</td>\n",
       "      <td>1.000000</td>\n",
       "      <td>0.376325</td>\n",
       "    </tr>\n",
       "    <tr>\n",
       "      <th>40yd</th>\n",
       "      <td>-0.267697</td>\n",
       "      <td>0.409326</td>\n",
       "      <td>-0.265672</td>\n",
       "      <td>-0.211888</td>\n",
       "      <td>-0.465412</td>\n",
       "      <td>0.332791</td>\n",
       "      <td>0.376325</td>\n",
       "      <td>1.000000</td>\n",
       "    </tr>\n",
       "  </tbody>\n",
       "</table>\n",
       "</div>"
      ],
      "text/plain": [
       "                  Overall Rating_x        Wt  Vertical     Bench  Broad Jump  \\\n",
       "Overall Rating_x          1.000000  0.165036  0.039784  0.268792    0.342620   \n",
       "Wt                        0.165036  1.000000 -0.222428  0.356097   -0.424218   \n",
       "Vertical                  0.039784 -0.222428  1.000000  0.175017    0.480799   \n",
       "Bench                     0.268792  0.356097  0.175017  1.000000    0.210338   \n",
       "Broad Jump                0.342620 -0.424218  0.480799  0.210338    1.000000   \n",
       "3Cone                    -0.262547  0.228404  0.006140 -0.095878   -0.440049   \n",
       "Shuttle                  -0.105320  0.367112 -0.071567  0.141758   -0.403509   \n",
       "40yd                     -0.267697  0.409326 -0.265672 -0.211888   -0.465412   \n",
       "\n",
       "                     3Cone   Shuttle      40yd  \n",
       "Overall Rating_x -0.262547 -0.105320 -0.267697  \n",
       "Wt                0.228404  0.367112  0.409326  \n",
       "Vertical          0.006140 -0.071567 -0.265672  \n",
       "Bench            -0.095878  0.141758 -0.211888  \n",
       "Broad Jump       -0.440049 -0.403509 -0.465412  \n",
       "3Cone             1.000000  0.669544  0.332791  \n",
       "Shuttle           0.669544  1.000000  0.376325  \n",
       "40yd              0.332791  0.376325  1.000000  "
      ]
     },
     "execution_count": 412,
     "metadata": {},
     "output_type": "execute_result"
    }
   ],
   "source": [
    "lgcorr"
   ]
  },
  {
   "cell_type": "code",
   "execution_count": null,
   "metadata": {},
   "outputs": [],
   "source": [
    "###Strength seems more important than speed for the left guard position.  Will the same be true for right guards?"
   ]
  },
  {
   "cell_type": "code",
   "execution_count": 262,
   "metadata": {},
   "outputs": [],
   "source": [
    "#Right Guard"
   ]
  },
  {
   "cell_type": "code",
   "execution_count": 31,
   "metadata": {},
   "outputs": [],
   "source": [
    "rg = mcfd[mcfd['Position_x'] == 'RG']"
   ]
  },
  {
   "cell_type": "code",
   "execution_count": 32,
   "metadata": {},
   "outputs": [],
   "source": [
    "rgcount = rg.groupby('College').count()"
   ]
  },
  {
   "cell_type": "code",
   "execution_count": 33,
   "metadata": {},
   "outputs": [],
   "source": [
    "rgsort = rgcount.sort_values('Unnamed: 0', ascending=False)"
   ]
  },
  {
   "cell_type": "code",
   "execution_count": 34,
   "metadata": {},
   "outputs": [],
   "source": [
    "rgtop10 = rgsort.head(10)"
   ]
  },
  {
   "cell_type": "code",
   "execution_count": 35,
   "metadata": {},
   "outputs": [
    {
     "name": "stdout",
     "output_type": "stream",
     "text": [
      "College\n",
      "Iowa            4\n",
      "Texas AM        3\n",
      "UCF             2\n",
      "Alabama         2\n",
      "San Jose St.    2\n",
      "Stanford        2\n",
      "LSU             2\n",
      "Tennessee       2\n",
      "Kent State      2\n",
      "Wisconsin       2\n",
      "Name: Unnamed: 0, dtype: int64\n"
     ]
    }
   ],
   "source": [
    "print(rgtop10['Unnamed: 0'])"
   ]
  },
  {
   "cell_type": "code",
   "execution_count": 36,
   "metadata": {},
   "outputs": [
    {
     "data": {
      "text/plain": [
       "<matplotlib.axes._subplots.AxesSubplot at 0x17c50c77f98>"
      ]
     },
     "execution_count": 36,
     "metadata": {},
     "output_type": "execute_result"
    },
    {
     "data": {
      "image/png": "[encoded data removed]",
      "text/plain": [
       "<matplotlib.figure.Figure at 0x17c50c774a8>"
      ]
     },
     "metadata": {},
     "output_type": "display_data"
    }
   ],
   "source": [
    "rgtop10['Unnamed: 0'].plot.bar()"
   ]
  },
  {
   "cell_type": "code",
   "execution_count": 270,
   "metadata": {},
   "outputs": [],
   "source": [
    "rgmean = rg[['Ht', 'Wt', 'Vertical', 'Bench', 'Broad Jump', '3Cone', 'Shuttle', '40yd']].mean()"
   ]
  },
  {
   "cell_type": "code",
   "execution_count": 415,
   "metadata": {},
   "outputs": [
    {
     "name": "stdout",
     "output_type": "stream",
     "text": [
      "Wt            1.514691\n",
      "Vertical     -1.065489\n",
      "Bench        -1.225000\n",
      "Broad Jump   -2.201080\n",
      "3Cone         0.008378\n",
      "Shuttle       0.057868\n",
      "40yd          0.020973\n",
      "dtype: float64 3Cone        -0.034955\n",
      "40yd               NaN\n",
      "Bench        -0.100000\n",
      "Broad Jump   -3.558974\n",
      "Shuttle      -0.004455\n",
      "Vertical     -1.335337\n",
      "Wt           -2.507188\n",
      "dtype: float64 3Cone                0.122572\n",
      "40yd                 0.059080\n",
      "Bench                0.163514\n",
      "Broad Jump          -2.389277\n",
      "Overall Rating_x          NaN\n",
      "Shuttle              0.136444\n",
      "Vertical            -0.861991\n",
      "Wt                  11.959523\n",
      "dtype: float64 3Cone          0.559937\n",
      "40yd           0.451351\n",
      "Bench          5.284879\n",
      "Broad Jump   -13.578368\n",
      "Shuttle        0.368873\n",
      "Vertical      -5.639060\n",
      "Wt            69.900148\n",
      "dtype: float64 Wt            1.514691\n",
      "Vertical     -1.065489\n",
      "Bench        -1.225000\n",
      "Broad Jump   -2.201080\n",
      "3Cone         0.008378\n",
      "Shuttle       0.057868\n",
      "40yd          0.020973\n",
      "dtype: float64\n"
     ]
    }
   ],
   "source": [
    "print(rgmean - lgmeans, rgmean-ltmeans, rgmean - cmean, rgmean- means, rgmean - lgmeans)"
   ]
  },
  {
   "cell_type": "code",
   "execution_count": null,
   "metadata": {},
   "outputs": [],
   "source": [
    "###Right guards appear to be less athletic than left guards.  Why is this?  Will the same be true about Right tackles?"
   ]
  },
  {
   "cell_type": "code",
   "execution_count": 277,
   "metadata": {},
   "outputs": [],
   "source": [
    "rgcorr = rg[['Overall Rating_x', 'Ht', 'Wt', 'Vertical', 'Bench', 'Broad Jump', '3Cone', 'Shuttle', '40yd']].corr()"
   ]
  },
  {
   "cell_type": "code",
   "execution_count": 416,
   "metadata": {},
   "outputs": [
    {
     "data": {
      "text/html": [
       "<div>\n",
       "<style scoped>\n",
       "    .dataframe tbody tr th:only-of-type {\n",
       "        vertical-align: middle;\n",
       "    }\n",
       "\n",
       "    .dataframe tbody tr th {\n",
       "        vertical-align: top;\n",
       "    }\n",
       "\n",
       "    .dataframe thead th {\n",
       "        text-align: right;\n",
       "    }\n",
       "</style>\n",
       "<table border=\"1\" class=\"dataframe\">\n",
       "  <thead>\n",
       "    <tr style=\"text-align: right;\">\n",
       "      <th></th>\n",
       "      <th>Overall Rating_x</th>\n",
       "      <th>Wt</th>\n",
       "      <th>Vertical</th>\n",
       "      <th>Bench</th>\n",
       "      <th>Broad Jump</th>\n",
       "      <th>3Cone</th>\n",
       "      <th>Shuttle</th>\n",
       "      <th>40yd</th>\n",
       "    </tr>\n",
       "  </thead>\n",
       "  <tbody>\n",
       "    <tr>\n",
       "      <th>Overall Rating_x</th>\n",
       "      <td>1.000000</td>\n",
       "      <td>0.061028</td>\n",
       "      <td>0.343211</td>\n",
       "      <td>0.122998</td>\n",
       "      <td>0.191313</td>\n",
       "      <td>-0.301981</td>\n",
       "      <td>-0.408908</td>\n",
       "      <td>-0.105100</td>\n",
       "    </tr>\n",
       "    <tr>\n",
       "      <th>Wt</th>\n",
       "      <td>0.061028</td>\n",
       "      <td>1.000000</td>\n",
       "      <td>-0.397843</td>\n",
       "      <td>-0.110331</td>\n",
       "      <td>-0.354344</td>\n",
       "      <td>0.299216</td>\n",
       "      <td>0.233295</td>\n",
       "      <td>0.404739</td>\n",
       "    </tr>\n",
       "    <tr>\n",
       "      <th>Vertical</th>\n",
       "      <td>0.343211</td>\n",
       "      <td>-0.397843</td>\n",
       "      <td>1.000000</td>\n",
       "      <td>-0.133518</td>\n",
       "      <td>0.725615</td>\n",
       "      <td>-0.436063</td>\n",
       "      <td>-0.584152</td>\n",
       "      <td>-0.538645</td>\n",
       "    </tr>\n",
       "    <tr>\n",
       "      <th>Bench</th>\n",
       "      <td>0.122998</td>\n",
       "      <td>-0.110331</td>\n",
       "      <td>-0.133518</td>\n",
       "      <td>1.000000</td>\n",
       "      <td>0.040541</td>\n",
       "      <td>-0.238831</td>\n",
       "      <td>-0.085507</td>\n",
       "      <td>0.048264</td>\n",
       "    </tr>\n",
       "    <tr>\n",
       "      <th>Broad Jump</th>\n",
       "      <td>0.191313</td>\n",
       "      <td>-0.354344</td>\n",
       "      <td>0.725615</td>\n",
       "      <td>0.040541</td>\n",
       "      <td>1.000000</td>\n",
       "      <td>-0.272359</td>\n",
       "      <td>-0.383746</td>\n",
       "      <td>-0.574087</td>\n",
       "    </tr>\n",
       "    <tr>\n",
       "      <th>3Cone</th>\n",
       "      <td>-0.301981</td>\n",
       "      <td>0.299216</td>\n",
       "      <td>-0.436063</td>\n",
       "      <td>-0.238831</td>\n",
       "      <td>-0.272359</td>\n",
       "      <td>1.000000</td>\n",
       "      <td>0.725053</td>\n",
       "      <td>0.366722</td>\n",
       "    </tr>\n",
       "    <tr>\n",
       "      <th>Shuttle</th>\n",
       "      <td>-0.408908</td>\n",
       "      <td>0.233295</td>\n",
       "      <td>-0.584152</td>\n",
       "      <td>-0.085507</td>\n",
       "      <td>-0.383746</td>\n",
       "      <td>0.725053</td>\n",
       "      <td>1.000000</td>\n",
       "      <td>0.435992</td>\n",
       "    </tr>\n",
       "    <tr>\n",
       "      <th>40yd</th>\n",
       "      <td>-0.105100</td>\n",
       "      <td>0.404739</td>\n",
       "      <td>-0.538645</td>\n",
       "      <td>0.048264</td>\n",
       "      <td>-0.574087</td>\n",
       "      <td>0.366722</td>\n",
       "      <td>0.435992</td>\n",
       "      <td>1.000000</td>\n",
       "    </tr>\n",
       "  </tbody>\n",
       "</table>\n",
       "</div>"
      ],
      "text/plain": [
       "                  Overall Rating_x        Wt  Vertical     Bench  Broad Jump  \\\n",
       "Overall Rating_x          1.000000  0.061028  0.343211  0.122998    0.191313   \n",
       "Wt                        0.061028  1.000000 -0.397843 -0.110331   -0.354344   \n",
       "Vertical                  0.343211 -0.397843  1.000000 -0.133518    0.725615   \n",
       "Bench                     0.122998 -0.110331 -0.133518  1.000000    0.040541   \n",
       "Broad Jump                0.191313 -0.354344  0.725615  0.040541    1.000000   \n",
       "3Cone                    -0.301981  0.299216 -0.436063 -0.238831   -0.272359   \n",
       "Shuttle                  -0.408908  0.233295 -0.584152 -0.085507   -0.383746   \n",
       "40yd                     -0.105100  0.404739 -0.538645  0.048264   -0.574087   \n",
       "\n",
       "                     3Cone   Shuttle      40yd  \n",
       "Overall Rating_x -0.301981 -0.408908 -0.105100  \n",
       "Wt                0.299216  0.233295  0.404739  \n",
       "Vertical         -0.436063 -0.584152 -0.538645  \n",
       "Bench            -0.238831 -0.085507  0.048264  \n",
       "Broad Jump       -0.272359 -0.383746 -0.574087  \n",
       "3Cone             1.000000  0.725053  0.366722  \n",
       "Shuttle           0.725053  1.000000  0.435992  \n",
       "40yd              0.366722  0.435992  1.000000  "
      ]
     },
     "execution_count": 416,
     "metadata": {},
     "output_type": "execute_result"
    }
   ],
   "source": [
    "rgcorr"
   ]
  },
  {
   "cell_type": "code",
   "execution_count": null,
   "metadata": {},
   "outputs": [],
   "source": [
    "### Strength is less important than speed here"
   ]
  },
  {
   "cell_type": "code",
   "execution_count": 280,
   "metadata": {},
   "outputs": [],
   "source": [
    "#Right Tackle"
   ]
  },
  {
   "cell_type": "code",
   "execution_count": 281,
   "metadata": {},
   "outputs": [],
   "source": [
    "rt = mcfd[mcfd['Position_x'] == 'RT']"
   ]
  },
  {
   "cell_type": "code",
   "execution_count": 283,
   "metadata": {},
   "outputs": [],
   "source": [
    "rtcount = rt.groupby('College').count()"
   ]
  },
  {
   "cell_type": "code",
   "execution_count": 284,
   "metadata": {},
   "outputs": [],
   "source": [
    "rtsort = rtcount.sort_values('Unnamed: 0', ascending=False)"
   ]
  },
  {
   "cell_type": "code",
   "execution_count": 285,
   "metadata": {},
   "outputs": [],
   "source": [
    "rttop10 = rtsort.head(10)"
   ]
  },
  {
   "cell_type": "code",
   "execution_count": 437,
   "metadata": {},
   "outputs": [
    {
     "name": "stdout",
     "output_type": "stream",
     "text": [
      "College\n",
      "TCU               4\n",
      "Wisconsin         3\n",
      "Boston College    3\n",
      "Nebraska          3\n",
      "Florida State     3\n",
      "Florida           3\n",
      "LSU               3\n",
      "Virginia          2\n",
      "Ole Miss          2\n",
      "California        2\n",
      "Name: Unnamed: 0, dtype: int64\n"
     ]
    }
   ],
   "source": [
    "print(rttop10['Unnamed: 0'])"
   ]
  },
  {
   "cell_type": "code",
   "execution_count": 438,
   "metadata": {},
   "outputs": [
    {
     "data": {
      "text/plain": [
       "<matplotlib.axes._subplots.AxesSubplot at 0x211e638b080>"
      ]
     },
     "execution_count": 438,
     "metadata": {},
     "output_type": "execute_result"
    },
    {
     "data": {
      "image/png": "[encoded data removed]",
      "text/plain": [
       "<matplotlib.figure.Figure at 0x211e66b66d8>"
      ]
     },
     "metadata": {},
     "output_type": "display_data"
    }
   ],
   "source": [
    "rttop10['Unnamed: 0'].plot.bar()"
   ]
  },
  {
   "cell_type": "code",
   "execution_count": null,
   "metadata": {},
   "outputs": [],
   "source": []
  },
  {
   "cell_type": "code",
   "execution_count": 289,
   "metadata": {},
   "outputs": [],
   "source": [
    "rtmeans = rt[['Ht', 'Wt', 'Vertical', 'Bench', 'Broad Jump', '3Cone', 'Shuttle', '40yd']].mean()"
   ]
  },
  {
   "cell_type": "code",
   "execution_count": 417,
   "metadata": {},
   "outputs": [
    {
     "name": "stdout",
     "output_type": "stream",
     "text": [
      "Wt            312.000000\n",
      "Vertical       27.560606\n",
      "Bench          22.764706\n",
      "Broad Jump    102.937500\n",
      "3Cone           7.831667\n",
      "Shuttle         4.781562\n",
      "40yd            5.235000\n",
      "dtype: float64 3Cone        -0.011667\n",
      "40yd               NaN\n",
      "Bench        -2.985294\n",
      "Broad Jump   -2.262500\n",
      "Shuttle       0.010350\n",
      "Vertical     -0.736269\n",
      "Wt           -3.783784\n",
      "dtype: float64 Wt           -1.276596\n",
      "Vertical      0.599068\n",
      "Bench        -2.885294\n",
      "Broad Jump    1.296474\n",
      "3Cone         0.023288\n",
      "Shuttle       0.014806\n",
      "40yd          0.001170\n",
      "dtype: float64\n"
     ]
    }
   ],
   "source": [
    "print(rtmeans, rtmeans - ltmeans, rtmeans - rgmean)"
   ]
  },
  {
   "cell_type": "code",
   "execution_count": null,
   "metadata": {},
   "outputs": [],
   "source": [
    "###Right tackles appear to be less athletic than left tackles.  "
   ]
  },
  {
   "cell_type": "code",
   "execution_count": 294,
   "metadata": {},
   "outputs": [],
   "source": [
    "rtcorr = rt[['Ht', 'Wt', 'Vertical', 'Bench', 'Broad Jump', '3Cone', 'Shuttle', '40yd']].corr()"
   ]
  },
  {
   "cell_type": "code",
   "execution_count": 295,
   "metadata": {},
   "outputs": [
    {
     "data": {
      "text/html": [
       "<div>\n",
       "<style scoped>\n",
       "    .dataframe tbody tr th:only-of-type {\n",
       "        vertical-align: middle;\n",
       "    }\n",
       "\n",
       "    .dataframe tbody tr th {\n",
       "        vertical-align: top;\n",
       "    }\n",
       "\n",
       "    .dataframe thead th {\n",
       "        text-align: right;\n",
       "    }\n",
       "</style>\n",
       "<table border=\"1\" class=\"dataframe\">\n",
       "  <thead>\n",
       "    <tr style=\"text-align: right;\">\n",
       "      <th></th>\n",
       "      <th>Wt</th>\n",
       "      <th>Vertical</th>\n",
       "      <th>Bench</th>\n",
       "      <th>Broad Jump</th>\n",
       "      <th>3Cone</th>\n",
       "      <th>Shuttle</th>\n",
       "      <th>40yd</th>\n",
       "    </tr>\n",
       "  </thead>\n",
       "  <tbody>\n",
       "    <tr>\n",
       "      <th>Wt</th>\n",
       "      <td>1.000000</td>\n",
       "      <td>-0.281423</td>\n",
       "      <td>-0.069638</td>\n",
       "      <td>-0.368810</td>\n",
       "      <td>0.416731</td>\n",
       "      <td>0.443883</td>\n",
       "      <td>0.516177</td>\n",
       "    </tr>\n",
       "    <tr>\n",
       "      <th>Vertical</th>\n",
       "      <td>-0.281423</td>\n",
       "      <td>1.000000</td>\n",
       "      <td>0.350177</td>\n",
       "      <td>0.504485</td>\n",
       "      <td>-0.602036</td>\n",
       "      <td>-0.684791</td>\n",
       "      <td>-0.573938</td>\n",
       "    </tr>\n",
       "    <tr>\n",
       "      <th>Bench</th>\n",
       "      <td>-0.069638</td>\n",
       "      <td>0.350177</td>\n",
       "      <td>1.000000</td>\n",
       "      <td>0.083038</td>\n",
       "      <td>-0.498732</td>\n",
       "      <td>-0.207179</td>\n",
       "      <td>-0.587403</td>\n",
       "    </tr>\n",
       "    <tr>\n",
       "      <th>Broad Jump</th>\n",
       "      <td>-0.368810</td>\n",
       "      <td>0.504485</td>\n",
       "      <td>0.083038</td>\n",
       "      <td>1.000000</td>\n",
       "      <td>-0.460104</td>\n",
       "      <td>-0.482397</td>\n",
       "      <td>-0.495170</td>\n",
       "    </tr>\n",
       "    <tr>\n",
       "      <th>3Cone</th>\n",
       "      <td>0.416731</td>\n",
       "      <td>-0.602036</td>\n",
       "      <td>-0.498732</td>\n",
       "      <td>-0.460104</td>\n",
       "      <td>1.000000</td>\n",
       "      <td>0.726346</td>\n",
       "      <td>0.610871</td>\n",
       "    </tr>\n",
       "    <tr>\n",
       "      <th>Shuttle</th>\n",
       "      <td>0.443883</td>\n",
       "      <td>-0.684791</td>\n",
       "      <td>-0.207179</td>\n",
       "      <td>-0.482397</td>\n",
       "      <td>0.726346</td>\n",
       "      <td>1.000000</td>\n",
       "      <td>0.693454</td>\n",
       "    </tr>\n",
       "    <tr>\n",
       "      <th>40yd</th>\n",
       "      <td>0.516177</td>\n",
       "      <td>-0.573938</td>\n",
       "      <td>-0.587403</td>\n",
       "      <td>-0.495170</td>\n",
       "      <td>0.610871</td>\n",
       "      <td>0.693454</td>\n",
       "      <td>1.000000</td>\n",
       "    </tr>\n",
       "  </tbody>\n",
       "</table>\n",
       "</div>"
      ],
      "text/plain": [
       "                  Wt  Vertical     Bench  Broad Jump     3Cone   Shuttle  \\\n",
       "Wt          1.000000 -0.281423 -0.069638   -0.368810  0.416731  0.443883   \n",
       "Vertical   -0.281423  1.000000  0.350177    0.504485 -0.602036 -0.684791   \n",
       "Bench      -0.069638  0.350177  1.000000    0.083038 -0.498732 -0.207179   \n",
       "Broad Jump -0.368810  0.504485  0.083038    1.000000 -0.460104 -0.482397   \n",
       "3Cone       0.416731 -0.602036 -0.498732   -0.460104  1.000000  0.726346   \n",
       "Shuttle     0.443883 -0.684791 -0.207179   -0.482397  0.726346  1.000000   \n",
       "40yd        0.516177 -0.573938 -0.587403   -0.495170  0.610871  0.693454   \n",
       "\n",
       "                40yd  \n",
       "Wt          0.516177  \n",
       "Vertical   -0.573938  \n",
       "Bench      -0.587403  \n",
       "Broad Jump -0.495170  \n",
       "3Cone       0.610871  \n",
       "Shuttle     0.693454  \n",
       "40yd        1.000000  "
      ]
     },
     "execution_count": 295,
     "metadata": {},
     "output_type": "execute_result"
    }
   ],
   "source": [
    "rtcorr"
   ]
  },
  {
   "cell_type": "code",
   "execution_count": 296,
   "metadata": {},
   "outputs": [],
   "source": [
    "##Offense Skill Players"
   ]
  },
  {
   "cell_type": "code",
   "execution_count": 297,
   "metadata": {},
   "outputs": [],
   "source": [
    "#Wide Receiver"
   ]
  },
  {
   "cell_type": "code",
   "execution_count": 298,
   "metadata": {},
   "outputs": [],
   "source": [
    "wr = mcfd[mcfd['Position_x'] == 'WR']"
   ]
  },
  {
   "cell_type": "code",
   "execution_count": 299,
   "metadata": {},
   "outputs": [],
   "source": [
    "wrcount = wr.groupby('College').count()"
   ]
  },
  {
   "cell_type": "code",
   "execution_count": 301,
   "metadata": {},
   "outputs": [],
   "source": [
    "wrsort = wrcount.sort_values('Unnamed: 0', ascending= False)"
   ]
  },
  {
   "cell_type": "code",
   "execution_count": 302,
   "metadata": {},
   "outputs": [],
   "source": [
    "wrtop10 = wrsort.head(10)"
   ]
  },
  {
   "cell_type": "code",
   "execution_count": 439,
   "metadata": {},
   "outputs": [
    {
     "name": "stdout",
     "output_type": "stream",
     "text": [
      "College\n",
      "Ohio State       9\n",
      "Clemson          9\n",
      "California       9\n",
      "West Virginia    8\n",
      "UCF              7\n",
      "LSU              7\n",
      "Baylor           6\n",
      "Florida State    6\n",
      "Georgia          6\n",
      "Ole Miss         6\n",
      "Name: Unnamed: 0, dtype: int64\n"
     ]
    }
   ],
   "source": [
    "print(wrtop10['Unnamed: 0'])"
   ]
  },
  {
   "cell_type": "code",
   "execution_count": 440,
   "metadata": {},
   "outputs": [
    {
     "data": {
      "text/plain": [
       "<matplotlib.axes._subplots.AxesSubplot at 0x211e673c7f0>"
      ]
     },
     "execution_count": 440,
     "metadata": {},
     "output_type": "execute_result"
    },
    {
     "data": {
      "image/png": "[encoded data removed]",
      "text/plain": [
       "<matplotlib.figure.Figure at 0x211e9a4cfd0>"
      ]
     },
     "metadata": {},
     "output_type": "display_data"
    }
   ],
   "source": [
    "wrtop10['Unnamed: 0'].plot.bar()"
   ]
  },
  {
   "cell_type": "code",
   "execution_count": 306,
   "metadata": {},
   "outputs": [],
   "source": [
    "wrmeans = wr[['Ht', 'Wt', 'Vertical', 'Bench', 'Broad Jump', '3Cone', 'Shuttle', '40yd']].mean()"
   ]
  },
  {
   "cell_type": "code",
   "execution_count": 307,
   "metadata": {},
   "outputs": [
    {
     "name": "stdout",
     "output_type": "stream",
     "text": [
      "Wt            202.841772\n",
      "Vertical       35.192857\n",
      "Bench          14.758333\n",
      "Broad Jump    121.695652\n",
      "3Cone           6.931923\n",
      "Shuttle         4.197273\n",
      "40yd            4.497059\n",
      "dtype: float64 3Cone        -0.025754\n",
      "40yd         -0.022065\n",
      "Bench        -1.018452\n",
      "Broad Jump   -0.119474\n",
      "Shuttle       0.001035\n",
      "Vertical     -0.191440\n",
      "Wt            2.783801\n",
      "dtype: float64\n"
     ]
    }
   ],
   "source": [
    "print(wrmeans, wrmeans - cbmeans)"
   ]
  },
  {
   "cell_type": "code",
   "execution_count": 310,
   "metadata": {},
   "outputs": [],
   "source": [
    "wrcorr = wr[['Overall Rating_x', 'Ht', 'Wt', 'Vertical', 'Bench', 'Broad Jump', '3Cone', 'Shuttle', '40yd']].corr()"
   ]
  },
  {
   "cell_type": "code",
   "execution_count": 313,
   "metadata": {},
   "outputs": [
    {
     "data": {
      "text/html": [
       "<div>\n",
       "<style scoped>\n",
       "    .dataframe tbody tr th:only-of-type {\n",
       "        vertical-align: middle;\n",
       "    }\n",
       "\n",
       "    .dataframe tbody tr th {\n",
       "        vertical-align: top;\n",
       "    }\n",
       "\n",
       "    .dataframe thead th {\n",
       "        text-align: right;\n",
       "    }\n",
       "</style>\n",
       "<table border=\"1\" class=\"dataframe\">\n",
       "  <thead>\n",
       "    <tr style=\"text-align: right;\">\n",
       "      <th></th>\n",
       "      <th>Overall Rating_x</th>\n",
       "      <th>Wt</th>\n",
       "      <th>Vertical</th>\n",
       "      <th>Bench</th>\n",
       "      <th>Broad Jump</th>\n",
       "      <th>3Cone</th>\n",
       "      <th>Shuttle</th>\n",
       "      <th>40yd</th>\n",
       "    </tr>\n",
       "  </thead>\n",
       "  <tbody>\n",
       "    <tr>\n",
       "      <th>Overall Rating_x</th>\n",
       "      <td>1.000000</td>\n",
       "      <td>0.196816</td>\n",
       "      <td>0.055941</td>\n",
       "      <td>0.303199</td>\n",
       "      <td>-0.084201</td>\n",
       "      <td>0.114035</td>\n",
       "      <td>-0.040348</td>\n",
       "      <td>-0.063606</td>\n",
       "    </tr>\n",
       "    <tr>\n",
       "      <th>Wt</th>\n",
       "      <td>0.196816</td>\n",
       "      <td>1.000000</td>\n",
       "      <td>-0.073054</td>\n",
       "      <td>0.553334</td>\n",
       "      <td>-0.127739</td>\n",
       "      <td>0.321795</td>\n",
       "      <td>0.104367</td>\n",
       "      <td>0.433528</td>\n",
       "    </tr>\n",
       "    <tr>\n",
       "      <th>Vertical</th>\n",
       "      <td>0.055941</td>\n",
       "      <td>-0.073054</td>\n",
       "      <td>1.000000</td>\n",
       "      <td>0.087122</td>\n",
       "      <td>0.633445</td>\n",
       "      <td>-0.205819</td>\n",
       "      <td>-0.182801</td>\n",
       "      <td>-0.379747</td>\n",
       "    </tr>\n",
       "    <tr>\n",
       "      <th>Bench</th>\n",
       "      <td>0.303199</td>\n",
       "      <td>0.553334</td>\n",
       "      <td>0.087122</td>\n",
       "      <td>1.000000</td>\n",
       "      <td>-0.074387</td>\n",
       "      <td>0.211265</td>\n",
       "      <td>-0.185510</td>\n",
       "      <td>0.171932</td>\n",
       "    </tr>\n",
       "    <tr>\n",
       "      <th>Broad Jump</th>\n",
       "      <td>-0.084201</td>\n",
       "      <td>-0.127739</td>\n",
       "      <td>0.633445</td>\n",
       "      <td>-0.074387</td>\n",
       "      <td>1.000000</td>\n",
       "      <td>-0.169799</td>\n",
       "      <td>-0.013146</td>\n",
       "      <td>-0.482632</td>\n",
       "    </tr>\n",
       "    <tr>\n",
       "      <th>3Cone</th>\n",
       "      <td>0.114035</td>\n",
       "      <td>0.321795</td>\n",
       "      <td>-0.205819</td>\n",
       "      <td>0.211265</td>\n",
       "      <td>-0.169799</td>\n",
       "      <td>1.000000</td>\n",
       "      <td>0.554455</td>\n",
       "      <td>0.233832</td>\n",
       "    </tr>\n",
       "    <tr>\n",
       "      <th>Shuttle</th>\n",
       "      <td>-0.040348</td>\n",
       "      <td>0.104367</td>\n",
       "      <td>-0.182801</td>\n",
       "      <td>-0.185510</td>\n",
       "      <td>-0.013146</td>\n",
       "      <td>0.554455</td>\n",
       "      <td>1.000000</td>\n",
       "      <td>0.134508</td>\n",
       "    </tr>\n",
       "    <tr>\n",
       "      <th>40yd</th>\n",
       "      <td>-0.063606</td>\n",
       "      <td>0.433528</td>\n",
       "      <td>-0.379747</td>\n",
       "      <td>0.171932</td>\n",
       "      <td>-0.482632</td>\n",
       "      <td>0.233832</td>\n",
       "      <td>0.134508</td>\n",
       "      <td>1.000000</td>\n",
       "    </tr>\n",
       "  </tbody>\n",
       "</table>\n",
       "</div>"
      ],
      "text/plain": [
       "                  Overall Rating_x        Wt  Vertical     Bench  Broad Jump  \\\n",
       "Overall Rating_x          1.000000  0.196816  0.055941  0.303199   -0.084201   \n",
       "Wt                        0.196816  1.000000 -0.073054  0.553334   -0.127739   \n",
       "Vertical                  0.055941 -0.073054  1.000000  0.087122    0.633445   \n",
       "Bench                     0.303199  0.553334  0.087122  1.000000   -0.074387   \n",
       "Broad Jump               -0.084201 -0.127739  0.633445 -0.074387    1.000000   \n",
       "3Cone                     0.114035  0.321795 -0.205819  0.211265   -0.169799   \n",
       "Shuttle                  -0.040348  0.104367 -0.182801 -0.185510   -0.013146   \n",
       "40yd                     -0.063606  0.433528 -0.379747  0.171932   -0.482632   \n",
       "\n",
       "                     3Cone   Shuttle      40yd  \n",
       "Overall Rating_x  0.114035 -0.040348 -0.063606  \n",
       "Wt                0.321795  0.104367  0.433528  \n",
       "Vertical         -0.205819 -0.182801 -0.379747  \n",
       "Bench             0.211265 -0.185510  0.171932  \n",
       "Broad Jump       -0.169799 -0.013146 -0.482632  \n",
       "3Cone             1.000000  0.554455  0.233832  \n",
       "Shuttle           0.554455  1.000000  0.134508  \n",
       "40yd              0.233832  0.134508  1.000000  "
      ]
     },
     "execution_count": 313,
     "metadata": {},
     "output_type": "execute_result"
    }
   ],
   "source": [
    "wrcorr"
   ]
  },
  {
   "cell_type": "code",
   "execution_count": null,
   "metadata": {},
   "outputs": [],
   "source": [
    "#Tight End"
   ]
  },
  {
   "cell_type": "code",
   "execution_count": 312,
   "metadata": {},
   "outputs": [],
   "source": [
    "te = mcfd[mcfd['Position_x'] == 'TE']"
   ]
  },
  {
   "cell_type": "code",
   "execution_count": 315,
   "metadata": {},
   "outputs": [],
   "source": [
    "tecount = te.groupby('College').count()"
   ]
  },
  {
   "cell_type": "code",
   "execution_count": 316,
   "metadata": {},
   "outputs": [],
   "source": [
    "tesort = tecount.sort_values('Unnamed: 0', ascending= False)"
   ]
  },
  {
   "cell_type": "code",
   "execution_count": 317,
   "metadata": {},
   "outputs": [],
   "source": [
    "tetop10 = tesort.head(10)"
   ]
  },
  {
   "cell_type": "code",
   "execution_count": 441,
   "metadata": {},
   "outputs": [
    {
     "name": "stdout",
     "output_type": "stream",
     "text": [
      "College\n",
      "Oregon          10\n",
      "Arkansas St.     8\n",
      "Miami            6\n",
      "Notre Dame       6\n",
      "Tennessee        6\n",
      "Iowa             4\n",
      "Arkansas         4\n",
      "Louisville       4\n",
      "UCLA             4\n",
      "Oklahoma         4\n",
      "Name: Unnamed: 0, dtype: int64\n"
     ]
    }
   ],
   "source": [
    "print(tetop10['Unnamed: 0'])"
   ]
  },
  {
   "cell_type": "code",
   "execution_count": 442,
   "metadata": {},
   "outputs": [
    {
     "data": {
      "text/plain": [
       "<matplotlib.axes._subplots.AxesSubplot at 0x211e9a46d30>"
      ]
     },
     "execution_count": 442,
     "metadata": {},
     "output_type": "execute_result"
    },
    {
     "data": {
      "image/png": "[encoded data removed]",
      "text/plain": [
       "<matplotlib.figure.Figure at 0x211e6764128>"
      ]
     },
     "metadata": {},
     "output_type": "display_data"
    }
   ],
   "source": [
    "tetop10['Unnamed: 0'].plot.bar()"
   ]
  },
  {
   "cell_type": "code",
   "execution_count": 321,
   "metadata": {},
   "outputs": [],
   "source": [
    "temeans = te[['Ht', 'Wt', 'Vertical', 'Bench', 'Broad Jump', '3Cone', 'Shuttle', '40yd']].mean()"
   ]
  },
  {
   "cell_type": "code",
   "execution_count": 324,
   "metadata": {},
   "outputs": [
    {
     "name": "stdout",
     "output_type": "stream",
     "text": [
      "Wt            250.000000\n",
      "Vertical       33.771429\n",
      "Bench          21.904110\n",
      "Broad Jump    118.029412\n",
      "3Cone           7.157167\n",
      "Shuttle         4.384032\n",
      "40yd            4.725488\n",
      "dtype: float64 Wt            47.158228\n",
      "Vertical      -1.421429\n",
      "Bench          7.145776\n",
      "Broad Jump    -3.666240\n",
      "3Cone          0.225244\n",
      "Shuttle        0.186760\n",
      "40yd           0.228429\n",
      "dtype: float64\n"
     ]
    }
   ],
   "source": [
    "print(temeans, temeans - wrmeans)"
   ]
  },
  {
   "cell_type": "code",
   "execution_count": 325,
   "metadata": {},
   "outputs": [],
   "source": [
    "tecorr = te[['Overall Rating_x', 'Ht', 'Wt', 'Vertical', 'Bench', 'Broad Jump', '3Cone', 'Shuttle', '40yd']].corr()"
   ]
  },
  {
   "cell_type": "code",
   "execution_count": 327,
   "metadata": {},
   "outputs": [
    {
     "data": {
      "text/html": [
       "<div>\n",
       "<style scoped>\n",
       "    .dataframe tbody tr th:only-of-type {\n",
       "        vertical-align: middle;\n",
       "    }\n",
       "\n",
       "    .dataframe tbody tr th {\n",
       "        vertical-align: top;\n",
       "    }\n",
       "\n",
       "    .dataframe thead th {\n",
       "        text-align: right;\n",
       "    }\n",
       "</style>\n",
       "<table border=\"1\" class=\"dataframe\">\n",
       "  <thead>\n",
       "    <tr style=\"text-align: right;\">\n",
       "      <th></th>\n",
       "      <th>Overall Rating_x</th>\n",
       "      <th>Wt</th>\n",
       "      <th>Vertical</th>\n",
       "      <th>Bench</th>\n",
       "      <th>Broad Jump</th>\n",
       "      <th>3Cone</th>\n",
       "      <th>Shuttle</th>\n",
       "      <th>40yd</th>\n",
       "    </tr>\n",
       "  </thead>\n",
       "  <tbody>\n",
       "    <tr>\n",
       "      <th>Overall Rating_x</th>\n",
       "      <td>1.000000</td>\n",
       "      <td>0.142051</td>\n",
       "      <td>-0.149811</td>\n",
       "      <td>0.016457</td>\n",
       "      <td>-0.112182</td>\n",
       "      <td>0.077356</td>\n",
       "      <td>0.056318</td>\n",
       "      <td>-0.082552</td>\n",
       "    </tr>\n",
       "    <tr>\n",
       "      <th>Wt</th>\n",
       "      <td>0.142051</td>\n",
       "      <td>1.000000</td>\n",
       "      <td>-0.367338</td>\n",
       "      <td>0.572536</td>\n",
       "      <td>-0.598683</td>\n",
       "      <td>0.817829</td>\n",
       "      <td>0.789247</td>\n",
       "      <td>0.230848</td>\n",
       "    </tr>\n",
       "    <tr>\n",
       "      <th>Vertical</th>\n",
       "      <td>-0.149811</td>\n",
       "      <td>-0.367338</td>\n",
       "      <td>1.000000</td>\n",
       "      <td>-0.030250</td>\n",
       "      <td>0.750443</td>\n",
       "      <td>-0.457287</td>\n",
       "      <td>-0.315016</td>\n",
       "      <td>-0.478044</td>\n",
       "    </tr>\n",
       "    <tr>\n",
       "      <th>Bench</th>\n",
       "      <td>0.016457</td>\n",
       "      <td>0.572536</td>\n",
       "      <td>-0.030250</td>\n",
       "      <td>1.000000</td>\n",
       "      <td>-0.319348</td>\n",
       "      <td>0.562214</td>\n",
       "      <td>0.619415</td>\n",
       "      <td>0.045391</td>\n",
       "    </tr>\n",
       "    <tr>\n",
       "      <th>Broad Jump</th>\n",
       "      <td>-0.112182</td>\n",
       "      <td>-0.598683</td>\n",
       "      <td>0.750443</td>\n",
       "      <td>-0.319348</td>\n",
       "      <td>1.000000</td>\n",
       "      <td>-0.710118</td>\n",
       "      <td>-0.604900</td>\n",
       "      <td>-0.472589</td>\n",
       "    </tr>\n",
       "    <tr>\n",
       "      <th>3Cone</th>\n",
       "      <td>0.077356</td>\n",
       "      <td>0.817829</td>\n",
       "      <td>-0.457287</td>\n",
       "      <td>0.562214</td>\n",
       "      <td>-0.710118</td>\n",
       "      <td>1.000000</td>\n",
       "      <td>0.879269</td>\n",
       "      <td>0.346532</td>\n",
       "    </tr>\n",
       "    <tr>\n",
       "      <th>Shuttle</th>\n",
       "      <td>0.056318</td>\n",
       "      <td>0.789247</td>\n",
       "      <td>-0.315016</td>\n",
       "      <td>0.619415</td>\n",
       "      <td>-0.604900</td>\n",
       "      <td>0.879269</td>\n",
       "      <td>1.000000</td>\n",
       "      <td>0.300291</td>\n",
       "    </tr>\n",
       "    <tr>\n",
       "      <th>40yd</th>\n",
       "      <td>-0.082552</td>\n",
       "      <td>0.230848</td>\n",
       "      <td>-0.478044</td>\n",
       "      <td>0.045391</td>\n",
       "      <td>-0.472589</td>\n",
       "      <td>0.346532</td>\n",
       "      <td>0.300291</td>\n",
       "      <td>1.000000</td>\n",
       "    </tr>\n",
       "  </tbody>\n",
       "</table>\n",
       "</div>"
      ],
      "text/plain": [
       "                  Overall Rating_x        Wt  Vertical     Bench  Broad Jump  \\\n",
       "Overall Rating_x          1.000000  0.142051 -0.149811  0.016457   -0.112182   \n",
       "Wt                        0.142051  1.000000 -0.367338  0.572536   -0.598683   \n",
       "Vertical                 -0.149811 -0.367338  1.000000 -0.030250    0.750443   \n",
       "Bench                     0.016457  0.572536 -0.030250  1.000000   -0.319348   \n",
       "Broad Jump               -0.112182 -0.598683  0.750443 -0.319348    1.000000   \n",
       "3Cone                     0.077356  0.817829 -0.457287  0.562214   -0.710118   \n",
       "Shuttle                   0.056318  0.789247 -0.315016  0.619415   -0.604900   \n",
       "40yd                     -0.082552  0.230848 -0.478044  0.045391   -0.472589   \n",
       "\n",
       "                     3Cone   Shuttle      40yd  \n",
       "Overall Rating_x  0.077356  0.056318 -0.082552  \n",
       "Wt                0.817829  0.789247  0.230848  \n",
       "Vertical         -0.457287 -0.315016 -0.478044  \n",
       "Bench             0.562214  0.619415  0.045391  \n",
       "Broad Jump       -0.710118 -0.604900 -0.472589  \n",
       "3Cone             1.000000  0.879269  0.346532  \n",
       "Shuttle           0.879269  1.000000  0.300291  \n",
       "40yd              0.346532  0.300291  1.000000  "
      ]
     },
     "execution_count": 327,
     "metadata": {},
     "output_type": "execute_result"
    }
   ],
   "source": [
    "tecorr"
   ]
  },
  {
   "cell_type": "code",
   "execution_count": 328,
   "metadata": {},
   "outputs": [],
   "source": [
    "#HB "
   ]
  },
  {
   "cell_type": "code",
   "execution_count": 20,
   "metadata": {},
   "outputs": [],
   "source": [
    "hb = mcfd[mcfd['Position_x'] == 'HB']"
   ]
  },
  {
   "cell_type": "code",
   "execution_count": 336,
   "metadata": {},
   "outputs": [],
   "source": [
    "hbcount = hb.groupby('College').count()"
   ]
  },
  {
   "cell_type": "code",
   "execution_count": 337,
   "metadata": {},
   "outputs": [],
   "source": [
    "hbsort = hbcount.sort_values('Unnamed: 0', ascending= False)"
   ]
  },
  {
   "cell_type": "code",
   "execution_count": 340,
   "metadata": {},
   "outputs": [],
   "source": [
    "hbtop10 = hbsort.head(10)"
   ]
  },
  {
   "cell_type": "code",
   "execution_count": 443,
   "metadata": {},
   "outputs": [
    {
     "name": "stdout",
     "output_type": "stream",
     "text": [
      "College\n",
      "Northern Iowa     8\n",
      "LSU               7\n",
      "Alabama           6\n",
      "Oklahoma          5\n",
      "South Carolina    5\n",
      "California        5\n",
      "North Carolina    4\n",
      "Texas             4\n",
      "Oregon            4\n",
      "Florida State     4\n",
      "Name: Unnamed: 0, dtype: int64\n"
     ]
    }
   ],
   "source": [
    "print(hbtop10['Unnamed: 0'])"
   ]
  },
  {
   "cell_type": "code",
   "execution_count": 445,
   "metadata": {},
   "outputs": [
    {
     "data": {
      "text/plain": [
       "<matplotlib.axes._subplots.AxesSubplot at 0x211e9654da0>"
      ]
     },
     "execution_count": 445,
     "metadata": {},
     "output_type": "execute_result"
    },
    {
     "data": {
      "image/png": "[encoded data removed]",
      "text/plain": [
       "<matplotlib.figure.Figure at 0x211e965c6a0>"
      ]
     },
     "metadata": {},
     "output_type": "display_data"
    }
   ],
   "source": [
    "hbtop10['Unnamed: 0'].plot.bar()"
   ]
  },
  {
   "cell_type": "code",
   "execution_count": null,
   "metadata": {},
   "outputs": [],
   "source": []
  },
  {
   "cell_type": "code",
   "execution_count": 342,
   "metadata": {},
   "outputs": [],
   "source": [
    "hcorr = hb[['Overall Rating_x', 'Ht', 'Wt', 'Vertical', 'Bench', 'Broad Jump', '3Cone', 'Shuttle', '40yd']].corr()"
   ]
  },
  {
   "cell_type": "code",
   "execution_count": 17,
   "metadata": {},
   "outputs": [
    {
     "ename": "NameError",
     "evalue": "name 'hcorr' is not defined",
     "output_type": "error",
     "traceback": [
      "\u001b[1;31m---------------------------------------------------------------------------\u001b[0m",
      "\u001b[1;31mNameError\u001b[0m                                 Traceback (most recent call last)",
      "\u001b[1;32m<ipython-input-17-5526a6822af3>\u001b[0m in \u001b[0;36m<module>\u001b[1;34m()\u001b[0m\n\u001b[1;32m----> 1\u001b[1;33m \u001b[0mhcorr\u001b[0m\u001b[1;33m\u001b[0m\u001b[0m\n\u001b[0m",
      "\u001b[1;31mNameError\u001b[0m: name 'hcorr' is not defined"
     ]
    }
   ],
   "source": [
    "hcorr"
   ]
  },
  {
   "cell_type": "code",
   "execution_count": 21,
   "metadata": {},
   "outputs": [],
   "source": [
    "fb = mcfd[mcfd['Position_x'] == 'FB']"
   ]
  },
  {
   "cell_type": "code",
   "execution_count": 23,
   "metadata": {},
   "outputs": [],
   "source": [
    "fbcount = fb.groupby('College').count()"
   ]
  },
  {
   "cell_type": "code",
   "execution_count": 24,
   "metadata": {},
   "outputs": [
    {
     "name": "stdout",
     "output_type": "stream",
     "text": [
      "College\n",
      "UCLA             2\n",
      "Alabama          1\n",
      "Auburn           1\n",
      "West Georgia     1\n",
      "Washington       1\n",
      "Wake Forest      1\n",
      "Virginia Tech    1\n",
      "Villanova        1\n",
      "USC              1\n",
      "Tennessee        1\n",
      "Name: Unnamed: 0, dtype: int64\n"
     ]
    }
   ],
   "source": [
    "fbsort = fbcount.sort_values('Unnamed: 0', ascending= False)\n",
    "fbtop10 = fbsort.head(10)\n",
    "print(fbtop10['Unnamed: 0'])"
   ]
  },
  {
   "cell_type": "code",
   "execution_count": 345,
   "metadata": {},
   "outputs": [],
   "source": [
    "##Defense"
   ]
  },
  {
   "cell_type": "code",
   "execution_count": 346,
   "metadata": {},
   "outputs": [],
   "source": [
    "#Defensive Tackle"
   ]
  },
  {
   "cell_type": "code",
   "execution_count": 37,
   "metadata": {},
   "outputs": [],
   "source": [
    "dt = mcfd[mcfd['Position_x'] == 'DT']"
   ]
  },
  {
   "cell_type": "code",
   "execution_count": 38,
   "metadata": {},
   "outputs": [],
   "source": [
    "dtcount = dt.groupby('College').count()"
   ]
  },
  {
   "cell_type": "code",
   "execution_count": 39,
   "metadata": {},
   "outputs": [],
   "source": [
    "dtsort = dtcount.sort_values('Unnamed: 0', ascending = False)"
   ]
  },
  {
   "cell_type": "code",
   "execution_count": 40,
   "metadata": {},
   "outputs": [],
   "source": [
    "dttop10 = dtsort.head(10)"
   ]
  },
  {
   "cell_type": "code",
   "execution_count": 41,
   "metadata": {},
   "outputs": [
    {
     "name": "stdout",
     "output_type": "stream",
     "text": [
      "College\n",
      "Missouri So. State    8\n",
      "Alabama               7\n",
      "LSU                   6\n",
      "Auburn                5\n",
      "Clemson               5\n",
      "Mississippi St.       4\n",
      "Tennessee             4\n",
      "Ohio State            4\n",
      "Michigan St.          3\n",
      "Florida               3\n",
      "Name: Unnamed: 0, dtype: int64\n"
     ]
    }
   ],
   "source": [
    "print(dttop10['Unnamed: 0'])"
   ]
  },
  {
   "cell_type": "code",
   "execution_count": null,
   "metadata": {},
   "outputs": [],
   "source": [
    "dttop10['Unnamed: 0'.plot.bar()"
   ]
  },
  {
   "cell_type": "code",
   "execution_count": 354,
   "metadata": {},
   "outputs": [],
   "source": [
    "dtmeans = dt[['Ht', 'Wt', 'Vertical', 'Bench', 'Broad Jump', '3Cone', 'Shuttle', '40yd']].mean()"
   ]
  },
  {
   "cell_type": "code",
   "execution_count": 356,
   "metadata": {},
   "outputs": [
    {
     "name": "stdout",
     "output_type": "stream",
     "text": [
      "Wt            305.084337\n",
      "Vertical       28.826389\n",
      "Bench          27.328358\n",
      "Broad Jump    105.464789\n",
      "3Cone           7.649545\n",
      "Shuttle         4.625909\n",
      "40yd            5.097407\n",
      "dtype: float64 Wt           -6.677567\n",
      "Vertical      0.799362\n",
      "Bench         0.453358\n",
      "Broad Jump    1.622683\n",
      "3Cone        -0.150455\n",
      "Shuttle      -0.082980\n",
      "40yd         -0.115450\n",
      "dtype: float64 3Cone              -0.036261\n",
      "40yd               -0.077343\n",
      "Bench               1.841872\n",
      "Broad Jump          1.434486\n",
      "Overall Rating_x         NaN\n",
      "Shuttle            -0.004403\n",
      "Vertical            1.002859\n",
      "Wt                  3.767264\n",
      "dtype: float64\n"
     ]
    }
   ],
   "source": [
    "print(dtmeans, dtmeans - lgmeans, dtmeans - cmean)"
   ]
  },
  {
   "cell_type": "code",
   "execution_count": 357,
   "metadata": {},
   "outputs": [],
   "source": [
    "dtcorr = dt[['Overall Rating_x', 'Ht', 'Wt', 'Vertical', 'Bench', 'Broad Jump', '3Cone', 'Shuttle', '40yd']].corr()"
   ]
  },
  {
   "cell_type": "code",
   "execution_count": 358,
   "metadata": {},
   "outputs": [
    {
     "data": {
      "text/html": [
       "<div>\n",
       "<style scoped>\n",
       "    .dataframe tbody tr th:only-of-type {\n",
       "        vertical-align: middle;\n",
       "    }\n",
       "\n",
       "    .dataframe tbody tr th {\n",
       "        vertical-align: top;\n",
       "    }\n",
       "\n",
       "    .dataframe thead th {\n",
       "        text-align: right;\n",
       "    }\n",
       "</style>\n",
       "<table border=\"1\" class=\"dataframe\">\n",
       "  <thead>\n",
       "    <tr style=\"text-align: right;\">\n",
       "      <th></th>\n",
       "      <th>Overall Rating_x</th>\n",
       "      <th>Wt</th>\n",
       "      <th>Vertical</th>\n",
       "      <th>Bench</th>\n",
       "      <th>Broad Jump</th>\n",
       "      <th>3Cone</th>\n",
       "      <th>Shuttle</th>\n",
       "      <th>40yd</th>\n",
       "    </tr>\n",
       "  </thead>\n",
       "  <tbody>\n",
       "    <tr>\n",
       "      <th>Overall Rating_x</th>\n",
       "      <td>1.000000</td>\n",
       "      <td>-0.199916</td>\n",
       "      <td>0.114611</td>\n",
       "      <td>0.192039</td>\n",
       "      <td>0.167765</td>\n",
       "      <td>-0.307974</td>\n",
       "      <td>-0.122843</td>\n",
       "      <td>-0.241289</td>\n",
       "    </tr>\n",
       "    <tr>\n",
       "      <th>Wt</th>\n",
       "      <td>-0.199916</td>\n",
       "      <td>1.000000</td>\n",
       "      <td>-0.297434</td>\n",
       "      <td>0.531651</td>\n",
       "      <td>-0.671828</td>\n",
       "      <td>0.795858</td>\n",
       "      <td>0.716483</td>\n",
       "      <td>0.366713</td>\n",
       "    </tr>\n",
       "    <tr>\n",
       "      <th>Vertical</th>\n",
       "      <td>0.114611</td>\n",
       "      <td>-0.297434</td>\n",
       "      <td>1.000000</td>\n",
       "      <td>0.086185</td>\n",
       "      <td>0.559565</td>\n",
       "      <td>-0.257811</td>\n",
       "      <td>-0.362972</td>\n",
       "      <td>-0.344833</td>\n",
       "    </tr>\n",
       "    <tr>\n",
       "      <th>Bench</th>\n",
       "      <td>0.192039</td>\n",
       "      <td>0.531651</td>\n",
       "      <td>0.086185</td>\n",
       "      <td>1.000000</td>\n",
       "      <td>-0.291418</td>\n",
       "      <td>0.434845</td>\n",
       "      <td>0.437495</td>\n",
       "      <td>-0.000090</td>\n",
       "    </tr>\n",
       "    <tr>\n",
       "      <th>Broad Jump</th>\n",
       "      <td>0.167765</td>\n",
       "      <td>-0.671828</td>\n",
       "      <td>0.559565</td>\n",
       "      <td>-0.291418</td>\n",
       "      <td>1.000000</td>\n",
       "      <td>-0.639031</td>\n",
       "      <td>-0.589722</td>\n",
       "      <td>-0.502353</td>\n",
       "    </tr>\n",
       "    <tr>\n",
       "      <th>3Cone</th>\n",
       "      <td>-0.307974</td>\n",
       "      <td>0.795858</td>\n",
       "      <td>-0.257811</td>\n",
       "      <td>0.434845</td>\n",
       "      <td>-0.639031</td>\n",
       "      <td>1.000000</td>\n",
       "      <td>0.795348</td>\n",
       "      <td>0.343817</td>\n",
       "    </tr>\n",
       "    <tr>\n",
       "      <th>Shuttle</th>\n",
       "      <td>-0.122843</td>\n",
       "      <td>0.716483</td>\n",
       "      <td>-0.362972</td>\n",
       "      <td>0.437495</td>\n",
       "      <td>-0.589722</td>\n",
       "      <td>0.795348</td>\n",
       "      <td>1.000000</td>\n",
       "      <td>0.307714</td>\n",
       "    </tr>\n",
       "    <tr>\n",
       "      <th>40yd</th>\n",
       "      <td>-0.241289</td>\n",
       "      <td>0.366713</td>\n",
       "      <td>-0.344833</td>\n",
       "      <td>-0.000090</td>\n",
       "      <td>-0.502353</td>\n",
       "      <td>0.343817</td>\n",
       "      <td>0.307714</td>\n",
       "      <td>1.000000</td>\n",
       "    </tr>\n",
       "  </tbody>\n",
       "</table>\n",
       "</div>"
      ],
      "text/plain": [
       "                  Overall Rating_x        Wt  Vertical     Bench  Broad Jump  \\\n",
       "Overall Rating_x          1.000000 -0.199916  0.114611  0.192039    0.167765   \n",
       "Wt                       -0.199916  1.000000 -0.297434  0.531651   -0.671828   \n",
       "Vertical                  0.114611 -0.297434  1.000000  0.086185    0.559565   \n",
       "Bench                     0.192039  0.531651  0.086185  1.000000   -0.291418   \n",
       "Broad Jump                0.167765 -0.671828  0.559565 -0.291418    1.000000   \n",
       "3Cone                    -0.307974  0.795858 -0.257811  0.434845   -0.639031   \n",
       "Shuttle                  -0.122843  0.716483 -0.362972  0.437495   -0.589722   \n",
       "40yd                     -0.241289  0.366713 -0.344833 -0.000090   -0.502353   \n",
       "\n",
       "                     3Cone   Shuttle      40yd  \n",
       "Overall Rating_x -0.307974 -0.122843 -0.241289  \n",
       "Wt                0.795858  0.716483  0.366713  \n",
       "Vertical         -0.257811 -0.362972 -0.344833  \n",
       "Bench             0.434845  0.437495 -0.000090  \n",
       "Broad Jump       -0.639031 -0.589722 -0.502353  \n",
       "3Cone             1.000000  0.795348  0.343817  \n",
       "Shuttle           0.795348  1.000000  0.307714  \n",
       "40yd              0.343817  0.307714  1.000000  "
      ]
     },
     "execution_count": 358,
     "metadata": {},
     "output_type": "execute_result"
    }
   ],
   "source": [
    "dtcorr"
   ]
  },
  {
   "cell_type": "code",
   "execution_count": null,
   "metadata": {},
   "outputs": [],
   "source": [
    "##Defensive Ends"
   ]
  },
  {
   "cell_type": "code",
   "execution_count": 42,
   "metadata": {},
   "outputs": [],
   "source": [
    "re = mcfd[mcfd['Position_x'] == 'RE']"
   ]
  },
  {
   "cell_type": "code",
   "execution_count": 48,
   "metadata": {},
   "outputs": [
    {
     "name": "stdout",
     "output_type": "stream",
     "text": [
      "College\n",
      "Alabama           2\n",
      "Alabama AM        1\n",
      "Appalach. St.     1\n",
      "Arizona           2\n",
      "Arizona St.       1\n",
      "Arkansas          2\n",
      "Auburn            1\n",
      "Bloomsburg        1\n",
      "Boise State       3\n",
      "Boston College    1\n",
      "Name: Unnamed: 0, dtype: int64\n"
     ]
    }
   ],
   "source": [
    "le = mcfd[mcfd['Position_x'] == 'LE']\n",
    "lecount = le.groupby('College').count()\n",
    "letop10 = lecount.head(10)\n",
    "print(letop10['Unnamed: 0'])"
   ]
  },
  {
   "cell_type": "code",
   "execution_count": 44,
   "metadata": {},
   "outputs": [],
   "source": [
    "recount = re.groupby('College').count()"
   ]
  },
  {
   "cell_type": "code",
   "execution_count": 45,
   "metadata": {},
   "outputs": [],
   "source": [
    "resort = recount.sort_values('Unnamed: 0', ascending=False)"
   ]
  },
  {
   "cell_type": "code",
   "execution_count": 47,
   "metadata": {},
   "outputs": [
    {
     "name": "stdout",
     "output_type": "stream",
     "text": [
      "College\n",
      "Mississippi St.    19\n",
      "Texas AM            5\n",
      "Miami               4\n",
      "Penn State          4\n",
      "USC                 4\n",
      "Georgia Tech        3\n",
      "South Carolina      3\n",
      "Iowa                3\n",
      "Florida             3\n",
      "Louisville          2\n",
      "Name: Unnamed: 0, dtype: int64\n"
     ]
    }
   ],
   "source": [
    "retop10 = resort.head(10)\n",
    "print(retop10['Unnamed: 0'])"
   ]
  },
  {
   "cell_type": "code",
   "execution_count": null,
   "metadata": {},
   "outputs": [],
   "source": []
  },
  {
   "cell_type": "code",
   "execution_count": 246,
   "metadata": {},
   "outputs": [],
   "source": [
    "de = pd.concat([re, le], axis = 0)"
   ]
  },
  {
   "cell_type": "code",
   "execution_count": 247,
   "metadata": {},
   "outputs": [],
   "source": [
    "decount = de.groupby('College').count()"
   ]
  },
  {
   "cell_type": "code",
   "execution_count": 254,
   "metadata": {},
   "outputs": [],
   "source": [
    "desort = decount.sort_values('Unnamed: 0', ascending=False)"
   ]
  },
  {
   "cell_type": "code",
   "execution_count": 255,
   "metadata": {},
   "outputs": [],
   "source": [
    "detop10 = desort.head(10)"
   ]
  },
  {
   "cell_type": "code",
   "execution_count": 450,
   "metadata": {},
   "outputs": [
    {
     "name": "stdout",
     "output_type": "stream",
     "text": [
      "College\n",
      "Mississippi St.    22\n",
      "Florida             7\n",
      "Georgia             6\n",
      "LSU                 6\n",
      "Penn State          6\n",
      "Michigan            5\n",
      "UCLA                5\n",
      "USC                 5\n",
      "Texas AM            5\n",
      "Ole Miss            4\n",
      "Name: Unnamed: 0, dtype: int64\n"
     ]
    }
   ],
   "source": [
    "print(detop10['Unnamed: 0'])"
   ]
  },
  {
   "cell_type": "code",
   "execution_count": 451,
   "metadata": {},
   "outputs": [
    {
     "data": {
      "text/plain": [
       "<matplotlib.axes._subplots.AxesSubplot at 0x211e9743cf8>"
      ]
     },
     "execution_count": 451,
     "metadata": {},
     "output_type": "execute_result"
    },
    {
     "data": {
      "image/png": "[encoded data removed]",
      "text/plain": [
       "<matplotlib.figure.Figure at 0x211e96fde10>"
      ]
     },
     "metadata": {},
     "output_type": "display_data"
    }
   ],
   "source": [
    "detop10['Unnamed: 0'].plot.bar()"
   ]
  },
  {
   "cell_type": "code",
   "execution_count": 239,
   "metadata": {},
   "outputs": [],
   "source": [
    "demean = de[['Ht', 'Wt', 'Vertical', 'Bench', 'Broad Jump', '3Cone', 'Shuttle', '40yd']].mean()"
   ]
  },
  {
   "cell_type": "code",
   "execution_count": 241,
   "metadata": {},
   "outputs": [
    {
     "name": "stdout",
     "output_type": "stream",
     "text": [
      "3Cone          0.078588\n",
      "40yd           0.101707\n",
      "Bench          3.391889\n",
      "Broad Jump    -0.559017\n",
      "Shuttle        0.052017\n",
      "Vertical      -0.781154\n",
      "Wt            33.096835\n",
      "dtype: float64\n"
     ]
    }
   ],
   "source": [
    "print(demean - means)"
   ]
  },
  {
   "cell_type": "code",
   "execution_count": 244,
   "metadata": {},
   "outputs": [],
   "source": [
    "decorr = de[['Overall Rating_x', 'Ht', 'Wt', 'Vertical', 'Bench', 'Broad Jump', '3Cone', 'Shuttle', '40yd']].corr()"
   ]
  },
  {
   "cell_type": "code",
   "execution_count": 245,
   "metadata": {},
   "outputs": [
    {
     "data": {
      "text/html": [
       "<div>\n",
       "<style scoped>\n",
       "    .dataframe tbody tr th:only-of-type {\n",
       "        vertical-align: middle;\n",
       "    }\n",
       "\n",
       "    .dataframe tbody tr th {\n",
       "        vertical-align: top;\n",
       "    }\n",
       "\n",
       "    .dataframe thead th {\n",
       "        text-align: right;\n",
       "    }\n",
       "</style>\n",
       "<table border=\"1\" class=\"dataframe\">\n",
       "  <thead>\n",
       "    <tr style=\"text-align: right;\">\n",
       "      <th></th>\n",
       "      <th>Overall Rating_x</th>\n",
       "      <th>Wt</th>\n",
       "      <th>Vertical</th>\n",
       "      <th>Bench</th>\n",
       "      <th>Broad Jump</th>\n",
       "      <th>3Cone</th>\n",
       "      <th>Shuttle</th>\n",
       "      <th>40yd</th>\n",
       "    </tr>\n",
       "  </thead>\n",
       "  <tbody>\n",
       "    <tr>\n",
       "      <th>Overall Rating_x</th>\n",
       "      <td>1.000000</td>\n",
       "      <td>-0.104259</td>\n",
       "      <td>-0.066690</td>\n",
       "      <td>0.084172</td>\n",
       "      <td>-0.039988</td>\n",
       "      <td>-0.311509</td>\n",
       "      <td>-0.211794</td>\n",
       "      <td>-0.036079</td>\n",
       "    </tr>\n",
       "    <tr>\n",
       "      <th>Wt</th>\n",
       "      <td>-0.104259</td>\n",
       "      <td>1.000000</td>\n",
       "      <td>-0.434952</td>\n",
       "      <td>0.650861</td>\n",
       "      <td>-0.594461</td>\n",
       "      <td>0.641815</td>\n",
       "      <td>0.581074</td>\n",
       "      <td>0.321108</td>\n",
       "    </tr>\n",
       "    <tr>\n",
       "      <th>Vertical</th>\n",
       "      <td>-0.066690</td>\n",
       "      <td>-0.434952</td>\n",
       "      <td>1.000000</td>\n",
       "      <td>0.034737</td>\n",
       "      <td>0.677309</td>\n",
       "      <td>-0.349544</td>\n",
       "      <td>-0.477752</td>\n",
       "      <td>-0.454262</td>\n",
       "    </tr>\n",
       "    <tr>\n",
       "      <th>Bench</th>\n",
       "      <td>0.084172</td>\n",
       "      <td>0.650861</td>\n",
       "      <td>0.034737</td>\n",
       "      <td>1.000000</td>\n",
       "      <td>-0.149653</td>\n",
       "      <td>0.378337</td>\n",
       "      <td>0.330781</td>\n",
       "      <td>-0.072189</td>\n",
       "    </tr>\n",
       "    <tr>\n",
       "      <th>Broad Jump</th>\n",
       "      <td>-0.039988</td>\n",
       "      <td>-0.594461</td>\n",
       "      <td>0.677309</td>\n",
       "      <td>-0.149653</td>\n",
       "      <td>1.000000</td>\n",
       "      <td>-0.513969</td>\n",
       "      <td>-0.471189</td>\n",
       "      <td>-0.533994</td>\n",
       "    </tr>\n",
       "    <tr>\n",
       "      <th>3Cone</th>\n",
       "      <td>-0.311509</td>\n",
       "      <td>0.641815</td>\n",
       "      <td>-0.349544</td>\n",
       "      <td>0.378337</td>\n",
       "      <td>-0.513969</td>\n",
       "      <td>1.000000</td>\n",
       "      <td>0.674273</td>\n",
       "      <td>0.379791</td>\n",
       "    </tr>\n",
       "    <tr>\n",
       "      <th>Shuttle</th>\n",
       "      <td>-0.211794</td>\n",
       "      <td>0.581074</td>\n",
       "      <td>-0.477752</td>\n",
       "      <td>0.330781</td>\n",
       "      <td>-0.471189</td>\n",
       "      <td>0.674273</td>\n",
       "      <td>1.000000</td>\n",
       "      <td>0.358674</td>\n",
       "    </tr>\n",
       "    <tr>\n",
       "      <th>40yd</th>\n",
       "      <td>-0.036079</td>\n",
       "      <td>0.321108</td>\n",
       "      <td>-0.454262</td>\n",
       "      <td>-0.072189</td>\n",
       "      <td>-0.533994</td>\n",
       "      <td>0.379791</td>\n",
       "      <td>0.358674</td>\n",
       "      <td>1.000000</td>\n",
       "    </tr>\n",
       "  </tbody>\n",
       "</table>\n",
       "</div>"
      ],
      "text/plain": [
       "                  Overall Rating_x        Wt  Vertical     Bench  Broad Jump  \\\n",
       "Overall Rating_x          1.000000 -0.104259 -0.066690  0.084172   -0.039988   \n",
       "Wt                       -0.104259  1.000000 -0.434952  0.650861   -0.594461   \n",
       "Vertical                 -0.066690 -0.434952  1.000000  0.034737    0.677309   \n",
       "Bench                     0.084172  0.650861  0.034737  1.000000   -0.149653   \n",
       "Broad Jump               -0.039988 -0.594461  0.677309 -0.149653    1.000000   \n",
       "3Cone                    -0.311509  0.641815 -0.349544  0.378337   -0.513969   \n",
       "Shuttle                  -0.211794  0.581074 -0.477752  0.330781   -0.471189   \n",
       "40yd                     -0.036079  0.321108 -0.454262 -0.072189   -0.533994   \n",
       "\n",
       "                     3Cone   Shuttle      40yd  \n",
       "Overall Rating_x -0.311509 -0.211794 -0.036079  \n",
       "Wt                0.641815  0.581074  0.321108  \n",
       "Vertical         -0.349544 -0.477752 -0.454262  \n",
       "Bench             0.378337  0.330781 -0.072189  \n",
       "Broad Jump       -0.513969 -0.471189 -0.533994  \n",
       "3Cone             1.000000  0.674273  0.379791  \n",
       "Shuttle           0.674273  1.000000  0.358674  \n",
       "40yd              0.379791  0.358674  1.000000  "
      ]
     },
     "execution_count": 245,
     "metadata": {},
     "output_type": "execute_result"
    }
   ],
   "source": [
    "decorr"
   ]
  },
  {
   "cell_type": "code",
   "execution_count": 359,
   "metadata": {},
   "outputs": [],
   "source": [
    "#Right Outside Linebacker"
   ]
  },
  {
   "cell_type": "code",
   "execution_count": 49,
   "metadata": {},
   "outputs": [],
   "source": [
    "rlb = mcfd[mcfd['Position_x'] == 'ROLB']"
   ]
  },
  {
   "cell_type": "code",
   "execution_count": 50,
   "metadata": {},
   "outputs": [],
   "source": [
    "rlbcount = rlb.groupby('College').count()"
   ]
  },
  {
   "cell_type": "code",
   "execution_count": 51,
   "metadata": {},
   "outputs": [],
   "source": [
    "rlbsort = rlbcount.sort_values('Unnamed: 0', ascending=False)"
   ]
  },
  {
   "cell_type": "code",
   "execution_count": 52,
   "metadata": {},
   "outputs": [],
   "source": [
    "rlbtop10 = rlbsort.head(10)"
   ]
  },
  {
   "cell_type": "code",
   "execution_count": 53,
   "metadata": {},
   "outputs": [
    {
     "name": "stdout",
     "output_type": "stream",
     "text": [
      "College\n",
      "Texas              4\n",
      "Missouri           4\n",
      "Wisconsin          3\n",
      "California         3\n",
      "Rutgers            3\n",
      "Arizona St.        3\n",
      "Mississippi St.    3\n",
      "LSU                3\n",
      "Georgia            3\n",
      "Alabama            2\n",
      "Name: Unnamed: 0, dtype: int64\n"
     ]
    }
   ],
   "source": [
    "print(rlbtop10['Unnamed: 0'])"
   ]
  },
  {
   "cell_type": "code",
   "execution_count": 54,
   "metadata": {},
   "outputs": [
    {
     "data": {
      "text/plain": [
       "<matplotlib.axes._subplots.AxesSubplot at 0x17c4f1cd978>"
      ]
     },
     "execution_count": 54,
     "metadata": {},
     "output_type": "execute_result"
    },
    {
     "data": {
      "image/png": "[encoded data removed]",
      "text/plain": [
       "<matplotlib.figure.Figure at 0x17c4f18e668>"
      ]
     },
     "metadata": {},
     "output_type": "display_data"
    }
   ],
   "source": [
    "rlbtop10['Unnamed: 0'].plot.bar()"
   ]
  },
  {
   "cell_type": "code",
   "execution_count": 370,
   "metadata": {},
   "outputs": [],
   "source": [
    "rlbmeans = rlb[['Ht', 'Wt', 'Vertical', 'Bench', 'Broad Jump', '3Cone', 'Shuttle', '40yd']].mean()"
   ]
  },
  {
   "cell_type": "code",
   "execution_count": 371,
   "metadata": {},
   "outputs": [
    {
     "name": "stdout",
     "output_type": "stream",
     "text": [
      "Wt            247.584906\n",
      "Vertical       33.345238\n",
      "Bench          22.162162\n",
      "Broad Jump    118.047619\n",
      "3Cone           7.045000\n",
      "Shuttle         4.320000\n",
      "40yd            4.723000\n",
      "dtype: float64 3Cone               -0.049255\n",
      "40yd                 0.037559\n",
      "Bench                0.210549\n",
      "Broad Jump          -0.194805\n",
      "Overall Rating_x          NaN\n",
      "Shuttle              0.048980\n",
      "Vertical            -0.397186\n",
      "Wt                  10.291572\n",
      "Wt                  10.291572\n",
      "dtype: float64\n"
     ]
    }
   ],
   "source": [
    "print(rlbmeans, rlbmeans - mlbmeans)"
   ]
  },
  {
   "cell_type": "code",
   "execution_count": 372,
   "metadata": {},
   "outputs": [],
   "source": [
    "rlbcorr = rlb[['Overall Rating_x', 'Ht', 'Wt', 'Vertical', 'Bench', 'Broad Jump', '3Cone', 'Shuttle', '40yd']].corr()"
   ]
  },
  {
   "cell_type": "code",
   "execution_count": 373,
   "metadata": {},
   "outputs": [
    {
     "data": {
      "text/html": [
       "<div>\n",
       "<style scoped>\n",
       "    .dataframe tbody tr th:only-of-type {\n",
       "        vertical-align: middle;\n",
       "    }\n",
       "\n",
       "    .dataframe tbody tr th {\n",
       "        vertical-align: top;\n",
       "    }\n",
       "\n",
       "    .dataframe thead th {\n",
       "        text-align: right;\n",
       "    }\n",
       "</style>\n",
       "<table border=\"1\" class=\"dataframe\">\n",
       "  <thead>\n",
       "    <tr style=\"text-align: right;\">\n",
       "      <th></th>\n",
       "      <th>Overall Rating_x</th>\n",
       "      <th>Wt</th>\n",
       "      <th>Vertical</th>\n",
       "      <th>Bench</th>\n",
       "      <th>Broad Jump</th>\n",
       "      <th>3Cone</th>\n",
       "      <th>Shuttle</th>\n",
       "      <th>40yd</th>\n",
       "    </tr>\n",
       "  </thead>\n",
       "  <tbody>\n",
       "    <tr>\n",
       "      <th>Overall Rating_x</th>\n",
       "      <td>1.000000</td>\n",
       "      <td>0.064173</td>\n",
       "      <td>0.299924</td>\n",
       "      <td>0.188619</td>\n",
       "      <td>0.270693</td>\n",
       "      <td>-0.137594</td>\n",
       "      <td>-0.185903</td>\n",
       "      <td>-0.197316</td>\n",
       "    </tr>\n",
       "    <tr>\n",
       "      <th>Wt</th>\n",
       "      <td>0.064173</td>\n",
       "      <td>1.000000</td>\n",
       "      <td>-0.173744</td>\n",
       "      <td>0.308322</td>\n",
       "      <td>-0.105265</td>\n",
       "      <td>0.245850</td>\n",
       "      <td>0.442811</td>\n",
       "      <td>0.565254</td>\n",
       "    </tr>\n",
       "    <tr>\n",
       "      <th>Vertical</th>\n",
       "      <td>0.299924</td>\n",
       "      <td>-0.173744</td>\n",
       "      <td>1.000000</td>\n",
       "      <td>0.130826</td>\n",
       "      <td>0.754283</td>\n",
       "      <td>-0.131841</td>\n",
       "      <td>-0.303253</td>\n",
       "      <td>-0.390578</td>\n",
       "    </tr>\n",
       "    <tr>\n",
       "      <th>Bench</th>\n",
       "      <td>0.188619</td>\n",
       "      <td>0.308322</td>\n",
       "      <td>0.130826</td>\n",
       "      <td>1.000000</td>\n",
       "      <td>0.257938</td>\n",
       "      <td>-0.011547</td>\n",
       "      <td>0.162797</td>\n",
       "      <td>0.036040</td>\n",
       "    </tr>\n",
       "    <tr>\n",
       "      <th>Broad Jump</th>\n",
       "      <td>0.270693</td>\n",
       "      <td>-0.105265</td>\n",
       "      <td>0.754283</td>\n",
       "      <td>0.257938</td>\n",
       "      <td>1.000000</td>\n",
       "      <td>-0.139065</td>\n",
       "      <td>-0.161091</td>\n",
       "      <td>-0.575099</td>\n",
       "    </tr>\n",
       "    <tr>\n",
       "      <th>3Cone</th>\n",
       "      <td>-0.137594</td>\n",
       "      <td>0.245850</td>\n",
       "      <td>-0.131841</td>\n",
       "      <td>-0.011547</td>\n",
       "      <td>-0.139065</td>\n",
       "      <td>1.000000</td>\n",
       "      <td>0.715417</td>\n",
       "      <td>0.298815</td>\n",
       "    </tr>\n",
       "    <tr>\n",
       "      <th>Shuttle</th>\n",
       "      <td>-0.185903</td>\n",
       "      <td>0.442811</td>\n",
       "      <td>-0.303253</td>\n",
       "      <td>0.162797</td>\n",
       "      <td>-0.161091</td>\n",
       "      <td>0.715417</td>\n",
       "      <td>1.000000</td>\n",
       "      <td>0.368757</td>\n",
       "    </tr>\n",
       "    <tr>\n",
       "      <th>40yd</th>\n",
       "      <td>-0.197316</td>\n",
       "      <td>0.565254</td>\n",
       "      <td>-0.390578</td>\n",
       "      <td>0.036040</td>\n",
       "      <td>-0.575099</td>\n",
       "      <td>0.298815</td>\n",
       "      <td>0.368757</td>\n",
       "      <td>1.000000</td>\n",
       "    </tr>\n",
       "  </tbody>\n",
       "</table>\n",
       "</div>"
      ],
      "text/plain": [
       "                  Overall Rating_x        Wt  Vertical     Bench  Broad Jump  \\\n",
       "Overall Rating_x          1.000000  0.064173  0.299924  0.188619    0.270693   \n",
       "Wt                        0.064173  1.000000 -0.173744  0.308322   -0.105265   \n",
       "Vertical                  0.299924 -0.173744  1.000000  0.130826    0.754283   \n",
       "Bench                     0.188619  0.308322  0.130826  1.000000    0.257938   \n",
       "Broad Jump                0.270693 -0.105265  0.754283  0.257938    1.000000   \n",
       "3Cone                    -0.137594  0.245850 -0.131841 -0.011547   -0.139065   \n",
       "Shuttle                  -0.185903  0.442811 -0.303253  0.162797   -0.161091   \n",
       "40yd                     -0.197316  0.565254 -0.390578  0.036040   -0.575099   \n",
       "\n",
       "                     3Cone   Shuttle      40yd  \n",
       "Overall Rating_x -0.137594 -0.185903 -0.197316  \n",
       "Wt                0.245850  0.442811  0.565254  \n",
       "Vertical         -0.131841 -0.303253 -0.390578  \n",
       "Bench            -0.011547  0.162797  0.036040  \n",
       "Broad Jump       -0.139065 -0.161091 -0.575099  \n",
       "3Cone             1.000000  0.715417  0.298815  \n",
       "Shuttle           0.715417  1.000000  0.368757  \n",
       "40yd              0.298815  0.368757  1.000000  "
      ]
     },
     "execution_count": 373,
     "metadata": {},
     "output_type": "execute_result"
    }
   ],
   "source": [
    "rlbcorr"
   ]
  },
  {
   "cell_type": "code",
   "execution_count": 374,
   "metadata": {},
   "outputs": [],
   "source": [
    "#Left Outside Linebacker"
   ]
  },
  {
   "cell_type": "code",
   "execution_count": 55,
   "metadata": {},
   "outputs": [],
   "source": [
    "llb = mcfd[mcfd['Position_x'] == 'LOLB']"
   ]
  },
  {
   "cell_type": "code",
   "execution_count": 56,
   "metadata": {},
   "outputs": [],
   "source": [
    "llbcount = llb.groupby('College').count()"
   ]
  },
  {
   "cell_type": "code",
   "execution_count": 57,
   "metadata": {},
   "outputs": [],
   "source": [
    "llbsort = llbcount.sort_values('Unnamed: 0', ascending=False)"
   ]
  },
  {
   "cell_type": "code",
   "execution_count": 58,
   "metadata": {},
   "outputs": [],
   "source": [
    "llbtop10 = llbsort.head(10)"
   ]
  },
  {
   "cell_type": "code",
   "execution_count": 59,
   "metadata": {},
   "outputs": [
    {
     "name": "stdout",
     "output_type": "stream",
     "text": [
      "College\n",
      "UCLA                4\n",
      "Florida State       3\n",
      "Auburn              3\n",
      "Georgia             3\n",
      "USC                 3\n",
      "Utah                3\n",
      "North Dakota St.    2\n",
      "Missouri            2\n",
      "Minnesota           2\n",
      "Miami               2\n",
      "Name: Unnamed: 0, dtype: int64\n"
     ]
    }
   ],
   "source": [
    "print(llbtop10['Unnamed: 0'])"
   ]
  },
  {
   "cell_type": "code",
   "execution_count": 457,
   "metadata": {},
   "outputs": [
    {
     "data": {
      "text/plain": [
       "<matplotlib.axes._subplots.AxesSubplot at 0x211ec498fd0>"
      ]
     },
     "execution_count": 457,
     "metadata": {},
     "output_type": "execute_result"
    },
    {
     "data": {
      "image/png": "[encoded data removed]",
      "text/plain": [
       "<matplotlib.figure.Figure at 0x211ec038dd8>"
      ]
     },
     "metadata": {},
     "output_type": "display_data"
    }
   ],
   "source": [
    "llbtop10['Unnamed: 0'].plot.bar()"
   ]
  },
  {
   "cell_type": "code",
   "execution_count": 382,
   "metadata": {},
   "outputs": [],
   "source": [
    "fs = mcfd[mcfd['Position_x'] == 'FS']"
   ]
  },
  {
   "cell_type": "code",
   "execution_count": 383,
   "metadata": {},
   "outputs": [],
   "source": [
    "fscount = fs.groupby('College').count()"
   ]
  },
  {
   "cell_type": "code",
   "execution_count": 384,
   "metadata": {},
   "outputs": [],
   "source": [
    "fssort = fscount.sort_values('Unnamed: 0', ascending=False)"
   ]
  },
  {
   "cell_type": "code",
   "execution_count": 385,
   "metadata": {},
   "outputs": [],
   "source": [
    "fstop10 = fssort.head(10)"
   ]
  },
  {
   "cell_type": "code",
   "execution_count": 458,
   "metadata": {},
   "outputs": [
    {
     "name": "stdout",
     "output_type": "stream",
     "text": [
      "College\n",
      "Connecticut       4\n",
      "Ohio State        4\n",
      "San Jose St.      4\n",
      "Stanford          3\n",
      "Auburn            3\n",
      "Virginia Tech     3\n",
      "Boston College    3\n",
      "Texas AM          3\n",
      "San Diego St.     2\n",
      "South Carolina    2\n",
      "Name: Unnamed: 0, dtype: int64\n"
     ]
    }
   ],
   "source": [
    "print(fstop10['Unnamed: 0'])"
   ]
  },
  {
   "cell_type": "code",
   "execution_count": 460,
   "metadata": {},
   "outputs": [
    {
     "data": {
      "text/plain": [
       "<matplotlib.axes._subplots.AxesSubplot at 0x211ecfa2f28>"
      ]
     },
     "execution_count": 460,
     "metadata": {},
     "output_type": "execute_result"
    },
    {
     "data": {
      "image/png": "[encoded data removed]",
      "text/plain": [
       "<matplotlib.figure.Figure at 0x211f103c470>"
      ]
     },
     "metadata": {},
     "output_type": "display_data"
    }
   ],
   "source": [
    "fstop10['Unnamed: 0'].plot.bar()"
   ]
  },
  {
   "cell_type": "code",
   "execution_count": 388,
   "metadata": {},
   "outputs": [],
   "source": [
    "fsmeans = fs[['Ht', 'Wt', 'Vertical', 'Bench', 'Broad Jump', '3Cone', 'Shuttle', '40yd']].mean()"
   ]
  },
  {
   "cell_type": "code",
   "execution_count": 389,
   "metadata": {},
   "outputs": [
    {
     "name": "stdout",
     "output_type": "stream",
     "text": [
      "Wt            203.775000\n",
      "Vertical       36.625000\n",
      "Bench          15.939394\n",
      "Broad Jump    123.656250\n",
      "3Cone           6.925200\n",
      "Shuttle         4.165926\n",
      "40yd            4.553784\n",
      "dtype: float64 3Cone        -0.032477\n",
      "40yd          0.034660\n",
      "Bench         0.162608\n",
      "Broad Jump    1.841124\n",
      "Shuttle      -0.030312\n",
      "Vertical      1.240702\n",
      "Wt            3.717029\n",
      "dtype: float64\n"
     ]
    }
   ],
   "source": [
    "print(fsmeans, fsmeans - cbmeans)"
   ]
  },
  {
   "cell_type": "code",
   "execution_count": 390,
   "metadata": {},
   "outputs": [],
   "source": [
    "fscorr = fs[['Overall Rating_x', 'Ht', 'Wt', 'Vertical', 'Bench', 'Broad Jump', '3Cone', 'Shuttle', '40yd']].corr()"
   ]
  },
  {
   "cell_type": "code",
   "execution_count": 391,
   "metadata": {},
   "outputs": [
    {
     "data": {
      "text/html": [
       "<div>\n",
       "<style scoped>\n",
       "    .dataframe tbody tr th:only-of-type {\n",
       "        vertical-align: middle;\n",
       "    }\n",
       "\n",
       "    .dataframe tbody tr th {\n",
       "        vertical-align: top;\n",
       "    }\n",
       "\n",
       "    .dataframe thead th {\n",
       "        text-align: right;\n",
       "    }\n",
       "</style>\n",
       "<table border=\"1\" class=\"dataframe\">\n",
       "  <thead>\n",
       "    <tr style=\"text-align: right;\">\n",
       "      <th></th>\n",
       "      <th>Overall Rating_x</th>\n",
       "      <th>Wt</th>\n",
       "      <th>Vertical</th>\n",
       "      <th>Bench</th>\n",
       "      <th>Broad Jump</th>\n",
       "      <th>3Cone</th>\n",
       "      <th>Shuttle</th>\n",
       "      <th>40yd</th>\n",
       "    </tr>\n",
       "  </thead>\n",
       "  <tbody>\n",
       "    <tr>\n",
       "      <th>Overall Rating_x</th>\n",
       "      <td>1.000000</td>\n",
       "      <td>-0.121567</td>\n",
       "      <td>-0.004005</td>\n",
       "      <td>-0.300172</td>\n",
       "      <td>0.034840</td>\n",
       "      <td>-0.259660</td>\n",
       "      <td>-0.066965</td>\n",
       "      <td>-0.094174</td>\n",
       "    </tr>\n",
       "    <tr>\n",
       "      <th>Wt</th>\n",
       "      <td>-0.121567</td>\n",
       "      <td>1.000000</td>\n",
       "      <td>0.078876</td>\n",
       "      <td>0.687507</td>\n",
       "      <td>0.259539</td>\n",
       "      <td>-0.145956</td>\n",
       "      <td>-0.111554</td>\n",
       "      <td>-0.029245</td>\n",
       "    </tr>\n",
       "    <tr>\n",
       "      <th>Vertical</th>\n",
       "      <td>-0.004005</td>\n",
       "      <td>0.078876</td>\n",
       "      <td>1.000000</td>\n",
       "      <td>0.249136</td>\n",
       "      <td>0.767226</td>\n",
       "      <td>-0.113461</td>\n",
       "      <td>-0.298800</td>\n",
       "      <td>-0.354286</td>\n",
       "    </tr>\n",
       "    <tr>\n",
       "      <th>Bench</th>\n",
       "      <td>-0.300172</td>\n",
       "      <td>0.687507</td>\n",
       "      <td>0.249136</td>\n",
       "      <td>1.000000</td>\n",
       "      <td>0.409865</td>\n",
       "      <td>-0.111008</td>\n",
       "      <td>0.016246</td>\n",
       "      <td>-0.184268</td>\n",
       "    </tr>\n",
       "    <tr>\n",
       "      <th>Broad Jump</th>\n",
       "      <td>0.034840</td>\n",
       "      <td>0.259539</td>\n",
       "      <td>0.767226</td>\n",
       "      <td>0.409865</td>\n",
       "      <td>1.000000</td>\n",
       "      <td>-0.255503</td>\n",
       "      <td>-0.415189</td>\n",
       "      <td>-0.474488</td>\n",
       "    </tr>\n",
       "    <tr>\n",
       "      <th>3Cone</th>\n",
       "      <td>-0.259660</td>\n",
       "      <td>-0.145956</td>\n",
       "      <td>-0.113461</td>\n",
       "      <td>-0.111008</td>\n",
       "      <td>-0.255503</td>\n",
       "      <td>1.000000</td>\n",
       "      <td>0.576434</td>\n",
       "      <td>0.056168</td>\n",
       "    </tr>\n",
       "    <tr>\n",
       "      <th>Shuttle</th>\n",
       "      <td>-0.066965</td>\n",
       "      <td>-0.111554</td>\n",
       "      <td>-0.298800</td>\n",
       "      <td>0.016246</td>\n",
       "      <td>-0.415189</td>\n",
       "      <td>0.576434</td>\n",
       "      <td>1.000000</td>\n",
       "      <td>0.218778</td>\n",
       "    </tr>\n",
       "    <tr>\n",
       "      <th>40yd</th>\n",
       "      <td>-0.094174</td>\n",
       "      <td>-0.029245</td>\n",
       "      <td>-0.354286</td>\n",
       "      <td>-0.184268</td>\n",
       "      <td>-0.474488</td>\n",
       "      <td>0.056168</td>\n",
       "      <td>0.218778</td>\n",
       "      <td>1.000000</td>\n",
       "    </tr>\n",
       "  </tbody>\n",
       "</table>\n",
       "</div>"
      ],
      "text/plain": [
       "                  Overall Rating_x        Wt  Vertical     Bench  Broad Jump  \\\n",
       "Overall Rating_x          1.000000 -0.121567 -0.004005 -0.300172    0.034840   \n",
       "Wt                       -0.121567  1.000000  0.078876  0.687507    0.259539   \n",
       "Vertical                 -0.004005  0.078876  1.000000  0.249136    0.767226   \n",
       "Bench                    -0.300172  0.687507  0.249136  1.000000    0.409865   \n",
       "Broad Jump                0.034840  0.259539  0.767226  0.409865    1.000000   \n",
       "3Cone                    -0.259660 -0.145956 -0.113461 -0.111008   -0.255503   \n",
       "Shuttle                  -0.066965 -0.111554 -0.298800  0.016246   -0.415189   \n",
       "40yd                     -0.094174 -0.029245 -0.354286 -0.184268   -0.474488   \n",
       "\n",
       "                     3Cone   Shuttle      40yd  \n",
       "Overall Rating_x -0.259660 -0.066965 -0.094174  \n",
       "Wt               -0.145956 -0.111554 -0.029245  \n",
       "Vertical         -0.113461 -0.298800 -0.354286  \n",
       "Bench            -0.111008  0.016246 -0.184268  \n",
       "Broad Jump       -0.255503 -0.415189 -0.474488  \n",
       "3Cone             1.000000  0.576434  0.056168  \n",
       "Shuttle           0.576434  1.000000  0.218778  \n",
       "40yd              0.056168  0.218778  1.000000  "
      ]
     },
     "execution_count": 391,
     "metadata": {},
     "output_type": "execute_result"
    }
   ],
   "source": [
    "fscorr"
   ]
  },
  {
   "cell_type": "code",
   "execution_count": 60,
   "metadata": {},
   "outputs": [],
   "source": [
    "ss = mcfd[mcfd['Position_x'] == 'SS']"
   ]
  },
  {
   "cell_type": "code",
   "execution_count": 61,
   "metadata": {},
   "outputs": [],
   "source": [
    "sscount= ss.groupby('College').count()"
   ]
  },
  {
   "cell_type": "code",
   "execution_count": 62,
   "metadata": {},
   "outputs": [],
   "source": [
    "sssort= sscount.sort_values('Unnamed: 0', ascending= False)"
   ]
  },
  {
   "cell_type": "code",
   "execution_count": 67,
   "metadata": {},
   "outputs": [
    {
     "name": "stdout",
     "output_type": "stream",
     "text": [
      "College\n",
      "Florida          4\n",
      "Oregon           3\n",
      "Georgia          3\n",
      "West Virginia    3\n",
      "USC              3\n",
      "Ohio State       2\n",
      "Notre Dame       2\n",
      "N.C. State       2\n",
      "Michigan         2\n",
      "Miami            2\n",
      "Name: Unnamed: 0, dtype: int64\n"
     ]
    }
   ],
   "source": [
    "sstop10 = sssort.head(10)\n",
    "print(sstop10['Unnamed: 0'])"
   ]
  },
  {
   "cell_type": "code",
   "execution_count": 65,
   "metadata": {},
   "outputs": [
    {
     "data": {
      "text/plain": [
       "<matplotlib.axes._subplots.AxesSubplot at 0x17c4f1937f0>"
      ]
     },
     "execution_count": 65,
     "metadata": {},
     "output_type": "execute_result"
    },
    {
     "data": {
      "image/png": "[encoded data removed]",
      "text/plain": [
       "<matplotlib.figure.Figure at 0x17c4f1fd748>"
      ]
     },
     "metadata": {},
     "output_type": "display_data"
    }
   ],
   "source": [
    "sstop10['Unnamed: 0'].plot.bar()"
   ]
  },
  {
   "cell_type": "code",
   "execution_count": 396,
   "metadata": {},
   "outputs": [],
   "source": [
    "ssmeans = ss[['Ht', 'Wt', 'Vertical', 'Bench', 'Broad Jump', '3Cone', 'Shuttle', '40yd']].mean()"
   ]
  },
  {
   "cell_type": "code",
   "execution_count": 397,
   "metadata": {},
   "outputs": [
    {
     "name": "stdout",
     "output_type": "stream",
     "text": [
      "Wt            211.400000\n",
      "Vertical       34.564516\n",
      "Bench          16.937500\n",
      "Broad Jump    120.343750\n",
      "3Cone           6.980370\n",
      "Shuttle         4.212083\n",
      "40yd            4.575278\n",
      "dtype: float64 Wt            7.625000\n",
      "Vertical     -2.060484\n",
      "Bench         0.998106\n",
      "Broad Jump   -3.312500\n",
      "3Cone         0.055170\n",
      "Shuttle       0.046157\n",
      "40yd          0.021494\n",
      "dtype: float64 3Cone          0.022694\n",
      "40yd           0.056154\n",
      "Bench          1.160714\n",
      "Broad Jump    -1.471376\n",
      "Shuttle        0.015846\n",
      "Vertical      -0.819781\n",
      "Wt            11.342029\n",
      "dtype: float64\n"
     ]
    }
   ],
   "source": [
    "print(ssmeans, ssmeans - fsmeans, ssmeans - cbmeans)"
   ]
  },
  {
   "cell_type": "code",
   "execution_count": 401,
   "metadata": {},
   "outputs": [],
   "source": [
    "sscorr = ss[['Overall Rating_x', 'Ht', 'Wt', 'Vertical', 'Bench', 'Broad Jump', '3Cone', 'Shuttle', '40yd']].corr()"
   ]
  },
  {
   "cell_type": "code",
   "execution_count": 402,
   "metadata": {},
   "outputs": [
    {
     "data": {
      "text/html": [
       "<div>\n",
       "<style scoped>\n",
       "    .dataframe tbody tr th:only-of-type {\n",
       "        vertical-align: middle;\n",
       "    }\n",
       "\n",
       "    .dataframe tbody tr th {\n",
       "        vertical-align: top;\n",
       "    }\n",
       "\n",
       "    .dataframe thead th {\n",
       "        text-align: right;\n",
       "    }\n",
       "</style>\n",
       "<table border=\"1\" class=\"dataframe\">\n",
       "  <thead>\n",
       "    <tr style=\"text-align: right;\">\n",
       "      <th></th>\n",
       "      <th>Overall Rating_x</th>\n",
       "      <th>Wt</th>\n",
       "      <th>Vertical</th>\n",
       "      <th>Bench</th>\n",
       "      <th>Broad Jump</th>\n",
       "      <th>3Cone</th>\n",
       "      <th>Shuttle</th>\n",
       "      <th>40yd</th>\n",
       "    </tr>\n",
       "  </thead>\n",
       "  <tbody>\n",
       "    <tr>\n",
       "      <th>Overall Rating_x</th>\n",
       "      <td>1.000000</td>\n",
       "      <td>0.350991</td>\n",
       "      <td>0.220182</td>\n",
       "      <td>0.259669</td>\n",
       "      <td>0.067416</td>\n",
       "      <td>0.331532</td>\n",
       "      <td>0.204735</td>\n",
       "      <td>0.261590</td>\n",
       "    </tr>\n",
       "    <tr>\n",
       "      <th>Wt</th>\n",
       "      <td>0.350991</td>\n",
       "      <td>1.000000</td>\n",
       "      <td>-0.341123</td>\n",
       "      <td>0.224436</td>\n",
       "      <td>-0.483801</td>\n",
       "      <td>0.715455</td>\n",
       "      <td>0.820065</td>\n",
       "      <td>0.761558</td>\n",
       "    </tr>\n",
       "    <tr>\n",
       "      <th>Vertical</th>\n",
       "      <td>0.220182</td>\n",
       "      <td>-0.341123</td>\n",
       "      <td>1.000000</td>\n",
       "      <td>0.234992</td>\n",
       "      <td>0.749517</td>\n",
       "      <td>-0.104666</td>\n",
       "      <td>-0.286244</td>\n",
       "      <td>-0.480484</td>\n",
       "    </tr>\n",
       "    <tr>\n",
       "      <th>Bench</th>\n",
       "      <td>0.259669</td>\n",
       "      <td>0.224436</td>\n",
       "      <td>0.234992</td>\n",
       "      <td>1.000000</td>\n",
       "      <td>0.208174</td>\n",
       "      <td>0.209380</td>\n",
       "      <td>0.206136</td>\n",
       "      <td>-0.070748</td>\n",
       "    </tr>\n",
       "    <tr>\n",
       "      <th>Broad Jump</th>\n",
       "      <td>0.067416</td>\n",
       "      <td>-0.483801</td>\n",
       "      <td>0.749517</td>\n",
       "      <td>0.208174</td>\n",
       "      <td>1.000000</td>\n",
       "      <td>-0.310679</td>\n",
       "      <td>-0.434554</td>\n",
       "      <td>-0.644841</td>\n",
       "    </tr>\n",
       "    <tr>\n",
       "      <th>3Cone</th>\n",
       "      <td>0.331532</td>\n",
       "      <td>0.715455</td>\n",
       "      <td>-0.104666</td>\n",
       "      <td>0.209380</td>\n",
       "      <td>-0.310679</td>\n",
       "      <td>1.000000</td>\n",
       "      <td>0.901550</td>\n",
       "      <td>0.479438</td>\n",
       "    </tr>\n",
       "    <tr>\n",
       "      <th>Shuttle</th>\n",
       "      <td>0.204735</td>\n",
       "      <td>0.820065</td>\n",
       "      <td>-0.286244</td>\n",
       "      <td>0.206136</td>\n",
       "      <td>-0.434554</td>\n",
       "      <td>0.901550</td>\n",
       "      <td>1.000000</td>\n",
       "      <td>0.680423</td>\n",
       "    </tr>\n",
       "    <tr>\n",
       "      <th>40yd</th>\n",
       "      <td>0.261590</td>\n",
       "      <td>0.761558</td>\n",
       "      <td>-0.480484</td>\n",
       "      <td>-0.070748</td>\n",
       "      <td>-0.644841</td>\n",
       "      <td>0.479438</td>\n",
       "      <td>0.680423</td>\n",
       "      <td>1.000000</td>\n",
       "    </tr>\n",
       "  </tbody>\n",
       "</table>\n",
       "</div>"
      ],
      "text/plain": [
       "                  Overall Rating_x        Wt  Vertical     Bench  Broad Jump  \\\n",
       "Overall Rating_x          1.000000  0.350991  0.220182  0.259669    0.067416   \n",
       "Wt                        0.350991  1.000000 -0.341123  0.224436   -0.483801   \n",
       "Vertical                  0.220182 -0.341123  1.000000  0.234992    0.749517   \n",
       "Bench                     0.259669  0.224436  0.234992  1.000000    0.208174   \n",
       "Broad Jump                0.067416 -0.483801  0.749517  0.208174    1.000000   \n",
       "3Cone                     0.331532  0.715455 -0.104666  0.209380   -0.310679   \n",
       "Shuttle                   0.204735  0.820065 -0.286244  0.206136   -0.434554   \n",
       "40yd                      0.261590  0.761558 -0.480484 -0.070748   -0.644841   \n",
       "\n",
       "                     3Cone   Shuttle      40yd  \n",
       "Overall Rating_x  0.331532  0.204735  0.261590  \n",
       "Wt                0.715455  0.820065  0.761558  \n",
       "Vertical         -0.104666 -0.286244 -0.480484  \n",
       "Bench             0.209380  0.206136 -0.070748  \n",
       "Broad Jump       -0.310679 -0.434554 -0.644841  \n",
       "3Cone             1.000000  0.901550  0.479438  \n",
       "Shuttle           0.901550  1.000000  0.680423  \n",
       "40yd              0.479438  0.680423  1.000000  "
      ]
     },
     "execution_count": 402,
     "metadata": {},
     "output_type": "execute_result"
    }
   ],
   "source": [
    "sscorr"
   ]
  },
  {
   "cell_type": "code",
   "execution_count": 1,
   "metadata": {},
   "outputs": [
    {
     "ename": "NameError",
     "evalue": "name 'plt' is not defined",
     "output_type": "error",
     "traceback": [
      "\u001b[1;31m---------------------------------------------------------------------------\u001b[0m",
      "\u001b[1;31mNameError\u001b[0m                                 Traceback (most recent call last)",
      "\u001b[1;32m<ipython-input-1-ef4cf950ebe1>\u001b[0m in \u001b[0;36m<module>\u001b[1;34m()\u001b[0m\n\u001b[1;32m----> 1\u001b[1;33m \u001b[0mplt\u001b[0m\u001b[1;33m.\u001b[0m\u001b[0mscatter\u001b[0m\u001b[1;33m(\u001b[0m\u001b[0mm18\u001b[0m\u001b[1;33m[\u001b[0m\u001b[1;34m'Speed'\u001b[0m\u001b[1;33m]\u001b[0m\u001b[1;33m,\u001b[0m \u001b[0mm18\u001b[0m\u001b[1;33m[\u001b[0m\u001b[1;34m'Position'\u001b[0m\u001b[1;33m]\u001b[0m\u001b[1;33m)\u001b[0m\u001b[1;33m\u001b[0m\u001b[0m\n\u001b[0m\u001b[0;32m      2\u001b[0m \u001b[0mplt\u001b[0m\u001b[1;33m.\u001b[0m\u001b[0mxlabel\u001b[0m\u001b[1;33m(\u001b[0m\u001b[1;34m'Speed'\u001b[0m\u001b[1;33m)\u001b[0m\u001b[1;33m\u001b[0m\u001b[0m\n\u001b[0;32m      3\u001b[0m \u001b[0mplt\u001b[0m\u001b[1;33m.\u001b[0m\u001b[0mylabel\u001b[0m\u001b[1;33m(\u001b[0m\u001b[1;34m'Position'\u001b[0m\u001b[1;33m)\u001b[0m\u001b[1;33m\u001b[0m\u001b[0m\n\u001b[0;32m      4\u001b[0m \u001b[0mplt\u001b[0m\u001b[1;33m.\u001b[0m\u001b[0mtitle\u001b[0m\u001b[1;33m(\u001b[0m\u001b[1;34m'Speed by Position'\u001b[0m\u001b[1;33m)\u001b[0m\u001b[1;33m\u001b[0m\u001b[0m\n\u001b[0;32m      5\u001b[0m \u001b[0mplt\u001b[0m\u001b[1;33m.\u001b[0m\u001b[0mshow\u001b[0m\u001b[1;33m(\u001b[0m\u001b[1;33m)\u001b[0m\u001b[1;33m\u001b[0m\u001b[0m\n",
      "\u001b[1;31mNameError\u001b[0m: name 'plt' is not defined"
     ]
    }
   ],
   "source": [
    "plt.scatter(m18['Speed'], m18['Position'])\n",
    "plt.xlabel('Speed')\n",
    "plt.ylabel('Position')\n",
    "plt.title('Speed by Position')\n",
    "plt.show()"
   ]
  },
  {
   "cell_type": "code",
   "execution_count": null,
   "metadata": {},
   "outputs": [],
   "source": []
  },
  {
   "cell_type": "code",
   "execution_count": null,
   "metadata": {},
   "outputs": [],
   "source": []
  },
  {
   "cell_type": "code",
   "execution_count": null,
   "metadata": {},
   "outputs": [],
   "source": []
  },
  {
   "cell_type": "code",
   "execution_count": null,
   "metadata": {},
   "outputs": [],
   "source": []
  },
  {
   "cell_type": "code",
   "execution_count": null,
   "metadata": {},
   "outputs": [],
   "source": []
  },
  {
   "cell_type": "code",
   "execution_count": null,
   "metadata": {},
   "outputs": [],
   "source": []
  },
  {
   "cell_type": "code",
   "execution_count": null,
   "metadata": {},
   "outputs": [],
   "source": []
  },
  {
   "cell_type": "code",
   "execution_count": null,
   "metadata": {},
   "outputs": [],
   "source": []
  },
  {
   "cell_type": "code",
   "execution_count": null,
   "metadata": {},
   "outputs": [],
   "source": []
  },
  {
   "cell_type": "code",
   "execution_count": null,
   "metadata": {},
   "outputs": [],
   "source": []
  },
  {
   "cell_type": "code",
   "execution_count": null,
   "metadata": {},
   "outputs": [],
   "source": []
  },
  {
   "cell_type": "code",
   "execution_count": null,
   "metadata": {},
   "outputs": [],
   "source": []
  },
  {
   "cell_type": "code",
   "execution_count": null,
   "metadata": {},
   "outputs": [],
   "source": []
  },
  {
   "cell_type": "code",
   "execution_count": null,
   "metadata": {},
   "outputs": [],
   "source": []
  },
  {
   "cell_type": "code",
   "execution_count": null,
   "metadata": {},
   "outputs": [],
   "source": [
    " "
   ]
  }
 ],
 "metadata": {
  "kernelspec": {
   "display_name": "Python 3",
   "language": "python",
   "name": "python3"
  },
  "language_info": {
   "codemirror_mode": {
    "name": "ipython",
    "version": 3
   },
   "file_extension": ".py",
   "mimetype": "text/x-python",
   "name": "python",
   "nbconvert_exporter": "python",
   "pygments_lexer": "ipython3",
   "version": "3.6.4"
  }
 },
 "nbformat": 4,
 "nbformat_minor": 2
}
