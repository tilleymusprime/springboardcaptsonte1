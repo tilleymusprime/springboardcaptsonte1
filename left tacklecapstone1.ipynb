{
 "cells": [
  {
   "cell_type": "code",
   "execution_count": 2,
   "metadata": {},
   "outputs": [
    {
     "name": "stderr",
     "output_type": "stream",
     "text": [
      "C:\\Users\\tilleymusprime\\Anaconda3\\lib\\site-packages\\statsmodels\\compat\\pandas.py:56: FutureWarning: The pandas.core.datetools module is deprecated and will be removed in a future version. Please use the pandas.tseries module instead.\n",
      "  from pandas.core import datetools\n"
     ]
    }
   ],
   "source": [
    "import pandas as pd\n",
    "import numpy as np\n",
    "import statsmodels.api as sm\n",
    "from sklearn.model_selection import train_test_split\n",
    "from sklearn.metrics import mean_squared_error\n",
    "from sklearn.linear_model import LinearRegression\n",
    "import statsmodels.formula.api as smf\n",
    "from statsmodels.formula.api import OLS\n",
    "from statsmodels.tools.tools import add_constant\n",
    "from statsmodels.stats.outliers_influence import variance_inflation_factor\n",
    "from sklearn.model_selection import cross_val_score\n",
    "from sklearn.metrics import mean_absolute_error\n",
    "import matplotlib.pyplot as plt\n",
    "import scipy.stats as stats\n",
    "from statsmodels.graphics.tsaplots import plot_acf\n",
    "from scipy.stats import levene\n",
    "from statsmodels.stats.diagnostic import het_breuschpagan"
   ]
  },
  {
   "cell_type": "code",
   "execution_count": 3,
   "metadata": {},
   "outputs": [],
   "source": [
    "df = pd.read_csv('C:\\\\Users\\\\tilleymusprime\\\\Desktop\\\\fdf_clean.csv')"
   ]
  },
  {
   "cell_type": "code",
   "execution_count": 5,
   "metadata": {},
   "outputs": [
    {
     "name": "stdout",
     "output_type": "stream",
     "text": [
      "Overall Rating          1.000000\n",
      "Awareness               0.898399\n",
      "Impact Blocking         0.794862\n",
      "Pass Block              0.847514\n",
      "Run Block               0.671931\n",
      "Stamina                 0.510760\n",
      "Strength                0.675130\n",
      "4AVG Speed              0.519280\n",
      "4AVG Agility            0.532429\n",
      "4AVG Awareness          0.680349\n",
      "3AVG Awareness          0.566379\n",
      "4AVG Run Block          0.542146\n",
      "4AVG Pass Block         0.585915\n",
      "4Avg Elusiveness        0.509825\n",
      "4Average Toughness      0.519701\n",
      "4AVG Stamina            0.515168\n",
      "4AVG Press              0.505982\n",
      "4AVG Pursuit            0.509580\n",
      "4AVG Impact Blocking    0.562030\n",
      "4AVG Overall Rating     0.635857\n",
      "Name: Overall Rating, dtype: float64 Series([], Name: Overall Rating, dtype: float64)\n"
     ]
    }
   ],
   "source": [
    "#In this workbook, we will exmine the left tackle position\n",
    "lt = df[df['Position'] == 'LT']\n",
    "ltcorr = lt.corr()\n",
    "ltpos = ltcorr[ltcorr['Overall Rating'] >= 0.5]\n",
    "ltneg = ltcorr[ltcorr['Overall Rating'] <= -0.5]\n",
    "print(ltpos['Overall Rating'], ltneg['Overall Rating'])\n",
    "#These are the significant variables.  We will remove the one with the highest VIF score until they are all below 5"
   ]
  },
  {
   "cell_type": "code",
   "execution_count": 6,
   "metadata": {},
   "outputs": [
    {
     "data": {
      "text/plain": [
       "const                   1762.833185\n",
       "Awareness                  8.535063\n",
       "Impact Blocking            7.923026\n",
       "Pass Block                 5.094798\n",
       "Run Block                  3.669580\n",
       "Stamina                    6.390133\n",
       "Strength                   2.560388\n",
       "4AVG Speed                44.068861\n",
       "4AVG Agility              55.834025\n",
       "4AVG Awareness           182.922074\n",
       "3AVG Awareness            17.434295\n",
       "4AVG Run Block           220.580274\n",
       "4AVG Pass Block          273.639790\n",
       "4Avg Elusiveness           3.873435\n",
       "4Average Toughness        38.139795\n",
       "4AVG Stamina             296.161279\n",
       "4AVG Press                11.743895\n",
       "4AVG Pursuit               4.820426\n",
       "4AVG Impact Blocking     301.561669\n",
       "4AVG Overall Rating      893.137466\n",
       "dtype: float64"
      ]
     },
     "execution_count": 6,
     "metadata": {},
     "output_type": "execute_result"
    }
   ],
   "source": [
    "ltsig = lt[['Awareness', 'Impact Blocking', 'Pass Block', 'Run Block', 'Stamina', 'Strength', '4AVG Speed', '4AVG Agility',\n",
    "           '4AVG Awareness', '3AVG Awareness', '4AVG Run Block', '4AVG Pass Block', '4Avg Elusiveness', '4Average Toughness',\n",
    "           '4AVG Stamina', '4AVG Press', '4AVG Pursuit', '4AVG Impact Blocking', '4AVG Overall Rating']]\n",
    "X = add_constant(ltsig)\n",
    "pd.Series([variance_inflation_factor(X.values, i)\n",
    "          for i in range(X.shape[1])],\n",
    "         index=X.columns)\n",
    "#The first variable we will remove is 4avg overall rating"
   ]
  },
  {
   "cell_type": "code",
   "execution_count": 7,
   "metadata": {},
   "outputs": [
    {
     "data": {
      "text/plain": [
       "const                   842.766951\n",
       "Awareness                 8.015514\n",
       "Impact Blocking           7.882333\n",
       "Pass Block                4.842004\n",
       "Run Block                 3.666444\n",
       "Stamina                   5.308737\n",
       "Strength                  2.106578\n",
       "4AVG Speed               43.379391\n",
       "4AVG Agility             54.961633\n",
       "4AVG Awareness           76.324444\n",
       "3AVG Awareness           17.217317\n",
       "4AVG Run Block          155.620409\n",
       "4AVG Pass Block         179.033005\n",
       "4Avg Elusiveness          3.872018\n",
       "4Average Toughness       36.127395\n",
       "4AVG Stamina            255.771114\n",
       "4AVG Press                9.413419\n",
       "4AVG Pursuit              4.701485\n",
       "4AVG Impact Blocking    295.018436\n",
       "dtype: float64"
      ]
     },
     "execution_count": 7,
     "metadata": {},
     "output_type": "execute_result"
    }
   ],
   "source": [
    "ltsig1 = lt[['Awareness', 'Impact Blocking', 'Pass Block', 'Run Block', 'Stamina', 'Strength', '4AVG Speed', '4AVG Agility',\n",
    "           '4AVG Awareness', '3AVG Awareness', '4AVG Run Block', '4AVG Pass Block', '4Avg Elusiveness', '4Average Toughness',\n",
    "           '4AVG Stamina', '4AVG Press', '4AVG Pursuit', '4AVG Impact Blocking']]\n",
    "X = add_constant(ltsig1)\n",
    "pd.Series([variance_inflation_factor(X.values, i)\n",
    "          for i in range(X.shape[1])],\n",
    "         index=X.columns)\n",
    "#Next we will remove 4avg impact blocking"
   ]
  },
  {
   "cell_type": "code",
   "execution_count": 8,
   "metadata": {},
   "outputs": [
    {
     "data": {
      "text/plain": [
       "const                 780.594100\n",
       "Awareness               7.816531\n",
       "Impact Blocking         3.069083\n",
       "Pass Block              4.519203\n",
       "Run Block               3.407409\n",
       "Stamina                 4.997743\n",
       "Strength                2.017070\n",
       "4AVG Speed             43.335329\n",
       "4AVG Agility           54.101451\n",
       "4AVG Awareness         75.737768\n",
       "3AVG Awareness         16.959377\n",
       "4AVG Run Block        135.265851\n",
       "4AVG Pass Block       163.273064\n",
       "4Avg Elusiveness        3.699817\n",
       "4Average Toughness     33.132396\n",
       "4AVG Stamina          236.318253\n",
       "4AVG Press              9.075059\n",
       "4AVG Pursuit            4.693673\n",
       "dtype: float64"
      ]
     },
     "execution_count": 8,
     "metadata": {},
     "output_type": "execute_result"
    }
   ],
   "source": [
    "ltsig2 = lt[['Awareness', 'Impact Blocking', 'Pass Block', 'Run Block', 'Stamina', 'Strength', '4AVG Speed', '4AVG Agility',\n",
    "           '4AVG Awareness', '3AVG Awareness', '4AVG Run Block', '4AVG Pass Block', '4Avg Elusiveness', '4Average Toughness',\n",
    "           '4AVG Stamina', '4AVG Press', '4AVG Pursuit']]\n",
    "X = add_constant(ltsig2)\n",
    "pd.Series([variance_inflation_factor(X.values, i)\n",
    "          for i in range(X.shape[1])],\n",
    "         index=X.columns)\n",
    "#Next we will remove4AVG Stamina"
   ]
  },
  {
   "cell_type": "code",
   "execution_count": 11,
   "metadata": {},
   "outputs": [
    {
     "data": {
      "text/plain": [
       "const                 774.022813\n",
       "Awareness               7.816321\n",
       "Impact Blocking         3.055632\n",
       "Pass Block              3.614874\n",
       "Run Block               3.106574\n",
       "Stamina                 2.168970\n",
       "Strength                1.963040\n",
       "4AVG Speed             42.172389\n",
       "4AVG Agility           50.165399\n",
       "4AVG Awareness         74.732199\n",
       "3AVG Awareness         15.342895\n",
       "4AVG Run Block        117.996356\n",
       "4AVG Pass Block       140.618870\n",
       "4Avg Elusiveness        3.671940\n",
       "4Average Toughness     25.912667\n",
       "4AVG Press              7.639107\n",
       "4AVG Pursuit            4.688280\n",
       "dtype: float64"
      ]
     },
     "execution_count": 11,
     "metadata": {},
     "output_type": "execute_result"
    }
   ],
   "source": [
    "ltsig3 = lt[['Awareness', 'Impact Blocking', 'Pass Block', 'Run Block', 'Stamina', 'Strength', '4AVG Speed', '4AVG Agility',\n",
    "           '4AVG Awareness', '3AVG Awareness', '4AVG Run Block', '4AVG Pass Block', '4Avg Elusiveness', '4Average Toughness',\n",
    "           '4AVG Press', '4AVG Pursuit']]\n",
    "X = add_constant(ltsig3)\n",
    "pd.Series([variance_inflation_factor(X.values, i)\n",
    "          for i in range(X.shape[1])],\n",
    "         index=X.columns)\n",
    "#Net removing 4AVg Pass Block"
   ]
  },
  {
   "cell_type": "code",
   "execution_count": 12,
   "metadata": {},
   "outputs": [
    {
     "data": {
      "text/plain": [
       "const                 771.047727\n",
       "Awareness               7.323631\n",
       "Impact Blocking         3.013227\n",
       "Pass Block              2.135007\n",
       "Run Block               2.623899\n",
       "Stamina                 2.053623\n",
       "Strength                1.962869\n",
       "4AVG Speed             42.171122\n",
       "4AVG Agility           47.379200\n",
       "4AVG Awareness         63.927872\n",
       "3AVG Awareness         15.221408\n",
       "4AVG Run Block         76.549971\n",
       "4Avg Elusiveness        3.659198\n",
       "4Average Toughness     25.344672\n",
       "4AVG Press              7.636237\n",
       "4AVG Pursuit            4.662400\n",
       "dtype: float64"
      ]
     },
     "execution_count": 12,
     "metadata": {},
     "output_type": "execute_result"
    }
   ],
   "source": [
    "ltsig4 = lt[['Awareness', 'Impact Blocking', 'Pass Block', 'Run Block', 'Stamina', 'Strength', '4AVG Speed', '4AVG Agility',\n",
    "           '4AVG Awareness', '3AVG Awareness', '4AVG Run Block', '4Avg Elusiveness', '4Average Toughness',\n",
    "           '4AVG Press', '4AVG Pursuit']]\n",
    "X = add_constant(ltsig4)\n",
    "pd.Series([variance_inflation_factor(X.values, i)\n",
    "          for i in range(X.shape[1])],\n",
    "         index=X.columns)\n",
    "#Next removing 4avg awareness"
   ]
  },
  {
   "cell_type": "code",
   "execution_count": 13,
   "metadata": {},
   "outputs": [
    {
     "data": {
      "text/plain": [
       "const                 723.497992\n",
       "Awareness               3.592136\n",
       "Impact Blocking         2.947646\n",
       "Pass Block              2.033232\n",
       "Run Block               2.499038\n",
       "Stamina                 2.039516\n",
       "Strength                1.945937\n",
       "4AVG Speed             41.211718\n",
       "4AVG Agility           47.349154\n",
       "3AVG Awareness         12.805792\n",
       "4AVG Run Block         47.453094\n",
       "4Avg Elusiveness        3.473401\n",
       "4Average Toughness     25.195876\n",
       "4AVG Press              7.591072\n",
       "4AVG Pursuit            4.658033\n",
       "dtype: float64"
      ]
     },
     "execution_count": 13,
     "metadata": {},
     "output_type": "execute_result"
    }
   ],
   "source": [
    "ltsig5 = lt[['Awareness', 'Impact Blocking', 'Pass Block', 'Run Block', 'Stamina', 'Strength', '4AVG Speed', '4AVG Agility',\n",
    "           '3AVG Awareness', '4AVG Run Block', '4Avg Elusiveness', '4Average Toughness', '4AVG Press', '4AVG Pursuit']]\n",
    "X = add_constant(ltsig5)\n",
    "pd.Series([variance_inflation_factor(X.values, i)\n",
    "          for i in range(X.shape[1])],\n",
    "         index=X.columns)\n",
    "#Next we ill remove 4avg agility"
   ]
  },
  {
   "cell_type": "code",
   "execution_count": 14,
   "metadata": {},
   "outputs": [
    {
     "data": {
      "text/plain": [
       "const                 706.120318\n",
       "Awareness               3.401555\n",
       "Impact Blocking         2.943932\n",
       "Pass Block              2.031093\n",
       "Run Block               2.291946\n",
       "Stamina                 2.029411\n",
       "Strength                1.943759\n",
       "4AVG Speed             28.227878\n",
       "3AVG Awareness         12.621557\n",
       "4AVG Run Block         42.124910\n",
       "4Avg Elusiveness        3.387457\n",
       "4Average Toughness     24.700778\n",
       "4AVG Press              7.569544\n",
       "4AVG Pursuit            4.636210\n",
       "dtype: float64"
      ]
     },
     "execution_count": 14,
     "metadata": {},
     "output_type": "execute_result"
    }
   ],
   "source": [
    "ltsig6 = lt[['Awareness', 'Impact Blocking', 'Pass Block', 'Run Block', 'Stamina', 'Strength', '4AVG Speed',\n",
    "           '3AVG Awareness', '4AVG Run Block', '4Avg Elusiveness', '4Average Toughness', '4AVG Press', '4AVG Pursuit']]\n",
    "X = add_constant(ltsig6)\n",
    "pd.Series([variance_inflation_factor(X.values, i)\n",
    "          for i in range(X.shape[1])],\n",
    "         index=X.columns)\n",
    "#Next we will remove 4avg speed"
   ]
  },
  {
   "cell_type": "code",
   "execution_count": 15,
   "metadata": {},
   "outputs": [
    {
     "data": {
      "text/plain": [
       "const                 701.886642\n",
       "Awareness               3.357436\n",
       "Impact Blocking         2.943299\n",
       "Pass Block              2.027312\n",
       "Run Block               2.268672\n",
       "Stamina                 2.021090\n",
       "Strength                1.941752\n",
       "3AVG Awareness         11.947457\n",
       "4AVG Run Block         32.869066\n",
       "4Avg Elusiveness        3.382899\n",
       "4Average Toughness     23.377774\n",
       "4AVG Press              7.542855\n",
       "4AVG Pursuit            4.594416\n",
       "dtype: float64"
      ]
     },
     "execution_count": 15,
     "metadata": {},
     "output_type": "execute_result"
    }
   ],
   "source": [
    "ltsig7 = lt[['Awareness', 'Impact Blocking', 'Pass Block', 'Run Block', 'Stamina', 'Strength',\n",
    "           '3AVG Awareness', '4AVG Run Block', '4Avg Elusiveness', '4Average Toughness', '4AVG Press', '4AVG Pursuit']]\n",
    "X = add_constant(ltsig7)\n",
    "pd.Series([variance_inflation_factor(X.values, i)\n",
    "          for i in range(X.shape[1])],\n",
    "         index=X.columns)\n",
    "#Next we will remove the 4avg run block variable"
   ]
  },
  {
   "cell_type": "code",
   "execution_count": 17,
   "metadata": {},
   "outputs": [
    {
     "data": {
      "text/plain": [
       "const                 700.768696\n",
       "Awareness               3.345491\n",
       "Impact Blocking         2.935596\n",
       "Pass Block              2.015739\n",
       "Run Block               2.089478\n",
       "Stamina                 1.827657\n",
       "Strength                1.940196\n",
       "3AVG Awareness          9.357155\n",
       "4Avg Elusiveness        3.319090\n",
       "4Average Toughness     11.238545\n",
       "4AVG Press              6.804165\n",
       "4AVG Pursuit            4.454441\n",
       "dtype: float64"
      ]
     },
     "execution_count": 17,
     "metadata": {},
     "output_type": "execute_result"
    }
   ],
   "source": [
    "ltsig8 = lt[['Awareness', 'Impact Blocking', 'Pass Block', 'Run Block', 'Stamina', 'Strength',\n",
    "           '3AVG Awareness', '4Avg Elusiveness', '4Average Toughness', '4AVG Press', '4AVG Pursuit']]\n",
    "X = add_constant(ltsig8)\n",
    "pd.Series([variance_inflation_factor(X.values, i)\n",
    "          for i in range(X.shape[1])],\n",
    "         index=X.columns)\n",
    "#Next we will remove 4average toughness"
   ]
  },
  {
   "cell_type": "code",
   "execution_count": 18,
   "metadata": {},
   "outputs": [
    {
     "data": {
      "text/plain": [
       "const               699.152059\n",
       "Awareness             3.340164\n",
       "Impact Blocking       2.859450\n",
       "Pass Block            2.002263\n",
       "Run Block             2.064243\n",
       "Stamina               1.800568\n",
       "Strength              1.916029\n",
       "3AVG Awareness        5.435770\n",
       "4Avg Elusiveness      3.224716\n",
       "4AVG Press            6.040530\n",
       "4AVG Pursuit          4.378561\n",
       "dtype: float64"
      ]
     },
     "execution_count": 18,
     "metadata": {},
     "output_type": "execute_result"
    }
   ],
   "source": [
    "ltsig9 = lt[['Awareness', 'Impact Blocking', 'Pass Block', 'Run Block', 'Stamina', 'Strength',\n",
    "           '3AVG Awareness', '4Avg Elusiveness', '4AVG Press', '4AVG Pursuit']]\n",
    "X = add_constant(ltsig9)\n",
    "pd.Series([variance_inflation_factor(X.values, i)\n",
    "          for i in range(X.shape[1])],\n",
    "         index=X.columns)\n",
    "#Next we will remove 4avg press"
   ]
  },
  {
   "cell_type": "code",
   "execution_count": 19,
   "metadata": {},
   "outputs": [
    {
     "data": {
      "text/plain": [
       "const               695.501084\n",
       "Awareness             3.340137\n",
       "Impact Blocking       2.830496\n",
       "Pass Block            2.002058\n",
       "Run Block             2.045657\n",
       "Stamina               1.769317\n",
       "Strength              1.911416\n",
       "3AVG Awareness        3.672187\n",
       "4Avg Elusiveness      3.082207\n",
       "4AVG Pursuit          3.706023\n",
       "dtype: float64"
      ]
     },
     "execution_count": 19,
     "metadata": {},
     "output_type": "execute_result"
    }
   ],
   "source": [
    "ltsig10 = lt[['Awareness', 'Impact Blocking', 'Pass Block', 'Run Block', 'Stamina', 'Strength',\n",
    "           '3AVG Awareness', '4Avg Elusiveness', '4AVG Pursuit']]\n",
    "X = add_constant(ltsig10)\n",
    "pd.Series([variance_inflation_factor(X.values, i)\n",
    "          for i in range(X.shape[1])],\n",
    "         index=X.columns)\n",
    "#Now that all of our vif scores are below 5, we can move onto to the summary statistic tests"
   ]
  },
  {
   "cell_type": "code",
   "execution_count": 20,
   "metadata": {},
   "outputs": [
    {
     "name": "stdout",
     "output_type": "stream",
     "text": [
      "                            OLS Regression Results                            \n",
      "==============================================================================\n",
      "Dep. Variable:         Overall Rating   R-squared:                       0.999\n",
      "Model:                            OLS   Adj. R-squared:                  0.999\n",
      "Method:                 Least Squares   F-statistic:                 1.328e+04\n",
      "Date:                Wed, 18 Jul 2018   Prob (F-statistic):          1.21e-162\n",
      "Time:                        16:10:38   Log-Likelihood:                -262.86\n",
      "No. Observations:                 119   AIC:                             543.7\n",
      "Df Residuals:                     110   BIC:                             568.7\n",
      "Df Model:                           9                                         \n",
      "Covariance Type:            nonrobust                                         \n",
      "====================================================================================\n",
      "                       coef    std err          t      P>|t|      [0.025      0.975]\n",
      "------------------------------------------------------------------------------------\n",
      "Awareness            0.2977      0.020     14.602      0.000       0.257       0.338\n",
      "Impact Blocking      0.1484      0.053      2.798      0.006       0.043       0.254\n",
      "Pass Block           0.4666      0.042     11.145      0.000       0.384       0.550\n",
      "Run Block            0.0810      0.054      1.506      0.135      -0.026       0.188\n",
      "Stamina             -0.1050      0.040     -2.647      0.009      -0.184      -0.026\n",
      "Strength             0.0394      0.054      0.735      0.464      -0.067       0.146\n",
      "3AVG Awareness       0.0461      0.014      3.368      0.001       0.019       0.073\n",
      "4Avg Elusiveness     0.0069      0.051      0.136      0.892      -0.094       0.108\n",
      "4AVG Pursuit        -0.0128      0.032     -0.396      0.693      -0.077       0.051\n",
      "==============================================================================\n",
      "Omnibus:                        5.537   Durbin-Watson:                   2.011\n",
      "Prob(Omnibus):                  0.063   Jarque-Bera (JB):                8.440\n",
      "Skew:                           0.023   Prob(JB):                       0.0147\n",
      "Kurtosis:                       4.304   Cond. No.                         71.4\n",
      "==============================================================================\n",
      "\n",
      "Warnings:\n",
      "[1] Standard Errors assume that the covariance matrix of the errors is correctly specified.\n"
     ]
    }
   ],
   "source": [
    "LT = sm.OLS(lt['Overall Rating'], ltsig10).fit()\n",
    "print(LT.summary())\n",
    "#It looks like we have a few variables that are not significant\n",
    "#We will start with removing 4AVG Elusiveness and keep removing until all p-values are below 0.005"
   ]
  },
  {
   "cell_type": "code",
   "execution_count": 21,
   "metadata": {},
   "outputs": [
    {
     "name": "stdout",
     "output_type": "stream",
     "text": [
      "                            OLS Regression Results                            \n",
      "==============================================================================\n",
      "Dep. Variable:         Overall Rating   R-squared:                       0.999\n",
      "Model:                            OLS   Adj. R-squared:                  0.999\n",
      "Method:                 Least Squares   F-statistic:                 1.507e+04\n",
      "Date:                Wed, 18 Jul 2018   Prob (F-statistic):          9.64e-165\n",
      "Time:                        16:10:41   Log-Likelihood:                -262.87\n",
      "No. Observations:                 119   AIC:                             541.7\n",
      "Df Residuals:                     111   BIC:                             564.0\n",
      "Df Model:                           8                                         \n",
      "Covariance Type:            nonrobust                                         \n",
      "===================================================================================\n",
      "                      coef    std err          t      P>|t|      [0.025      0.975]\n",
      "-----------------------------------------------------------------------------------\n",
      "Awareness           0.2980      0.020     14.749      0.000       0.258       0.338\n",
      "Impact Blocking     0.1479      0.053      2.808      0.006       0.044       0.252\n",
      "Pass Block          0.4669      0.042     11.223      0.000       0.384       0.549\n",
      "Run Block           0.0824      0.053      1.566      0.120      -0.022       0.187\n",
      "Stamina            -0.1038      0.038     -2.696      0.008      -0.180      -0.027\n",
      "Strength            0.0371      0.051      0.732      0.466      -0.063       0.137\n",
      "3AVG Awareness      0.0466      0.013      3.544      0.001       0.021       0.073\n",
      "4AVG Pursuit       -0.0109      0.029     -0.376      0.708      -0.068       0.046\n",
      "==============================================================================\n",
      "Omnibus:                        5.386   Durbin-Watson:                   2.012\n",
      "Prob(Omnibus):                  0.068   Jarque-Bera (JB):                8.059\n",
      "Skew:                           0.020   Prob(JB):                       0.0178\n",
      "Kurtosis:                       4.274   Cond. No.                         65.0\n",
      "==============================================================================\n",
      "\n",
      "Warnings:\n",
      "[1] Standard Errors assume that the covariance matrix of the errors is correctly specified.\n"
     ]
    }
   ],
   "source": [
    "ltsig11 = lt[['Awareness', 'Impact Blocking', 'Pass Block', 'Run Block', 'Stamina', 'Strength',\n",
    "           '3AVG Awareness', '4AVG Pursuit']]\n",
    "LT1 = sm.OLS(lt['Overall Rating'], ltsig11).fit()\n",
    "print(LT1.summary())\n",
    "#It looks like the next variable we will remove is going to be 4AVG Pursuit"
   ]
  },
  {
   "cell_type": "code",
   "execution_count": 22,
   "metadata": {},
   "outputs": [
    {
     "name": "stdout",
     "output_type": "stream",
     "text": [
      "                            OLS Regression Results                            \n",
      "==============================================================================\n",
      "Dep. Variable:         Overall Rating   R-squared:                       0.999\n",
      "Model:                            OLS   Adj. R-squared:                  0.999\n",
      "Method:                 Least Squares   F-statistic:                 1.736e+04\n",
      "Date:                Wed, 18 Jul 2018   Prob (F-statistic):          7.56e-167\n",
      "Time:                        16:10:42   Log-Likelihood:                -262.95\n",
      "No. Observations:                 119   AIC:                             539.9\n",
      "Df Residuals:                     112   BIC:                             559.3\n",
      "Df Model:                           7                                         \n",
      "Covariance Type:            nonrobust                                         \n",
      "===================================================================================\n",
      "                      coef    std err          t      P>|t|      [0.025      0.975]\n",
      "-----------------------------------------------------------------------------------\n",
      "Awareness           0.2979      0.020     14.802      0.000       0.258       0.338\n",
      "Impact Blocking     0.1463      0.052      2.797      0.006       0.043       0.250\n",
      "Pass Block          0.4664      0.041     11.260      0.000       0.384       0.548\n",
      "Run Block           0.0838      0.052      1.604      0.112      -0.020       0.187\n",
      "Stamina            -0.1033      0.038     -2.695      0.008      -0.179      -0.027\n",
      "Strength            0.0368      0.050      0.729      0.467      -0.063       0.137\n",
      "3AVG Awareness      0.0431      0.009      4.684      0.000       0.025       0.061\n",
      "==============================================================================\n",
      "Omnibus:                        5.281   Durbin-Watson:                   2.018\n",
      "Prob(Omnibus):                  0.071   Jarque-Bera (JB):                7.796\n",
      "Skew:                           0.020   Prob(JB):                       0.0203\n",
      "Kurtosis:                       4.253   Cond. No.                         64.5\n",
      "==============================================================================\n",
      "\n",
      "Warnings:\n",
      "[1] Standard Errors assume that the covariance matrix of the errors is correctly specified.\n"
     ]
    }
   ],
   "source": [
    "ltsig12 = lt[['Awareness', 'Impact Blocking', 'Pass Block', 'Run Block', 'Stamina', 'Strength',\n",
    "           '3AVG Awareness']]\n",
    "LT2 = sm.OLS(lt['Overall Rating'], ltsig12).fit()\n",
    "print(LT2.summary())\n",
    "#Next, we will remove Strength"
   ]
  },
  {
   "cell_type": "code",
   "execution_count": 23,
   "metadata": {},
   "outputs": [
    {
     "name": "stdout",
     "output_type": "stream",
     "text": [
      "                            OLS Regression Results                            \n",
      "==============================================================================\n",
      "Dep. Variable:         Overall Rating   R-squared:                       0.999\n",
      "Model:                            OLS   Adj. R-squared:                  0.999\n",
      "Method:                 Least Squares   F-statistic:                 2.033e+04\n",
      "Date:                Wed, 18 Jul 2018   Prob (F-statistic):          6.62e-169\n",
      "Time:                        16:10:44   Log-Likelihood:                -263.23\n",
      "No. Observations:                 119   AIC:                             538.5\n",
      "Df Residuals:                     113   BIC:                             555.1\n",
      "Df Model:                           6                                         \n",
      "Covariance Type:            nonrobust                                         \n",
      "===================================================================================\n",
      "                      coef    std err          t      P>|t|      [0.025      0.975]\n",
      "-----------------------------------------------------------------------------------\n",
      "Awareness           0.2960      0.020     14.859      0.000       0.257       0.335\n",
      "Impact Blocking     0.1500      0.052      2.887      0.005       0.047       0.253\n",
      "Pass Block          0.4728      0.040     11.714      0.000       0.393       0.553\n",
      "Run Block           0.1083      0.040      2.708      0.008       0.029       0.187\n",
      "Stamina            -0.0964      0.037     -2.601      0.011      -0.170      -0.023\n",
      "3AVG Awareness      0.0433      0.009      4.722      0.000       0.025       0.062\n",
      "==============================================================================\n",
      "Omnibus:                        5.110   Durbin-Watson:                   2.005\n",
      "Prob(Omnibus):                  0.078   Jarque-Bera (JB):                7.294\n",
      "Skew:                          -0.055   Prob(JB):                       0.0261\n",
      "Kurtosis:                       4.208   Cond. No.                         51.5\n",
      "==============================================================================\n",
      "\n",
      "Warnings:\n",
      "[1] Standard Errors assume that the covariance matrix of the errors is correctly specified.\n"
     ]
    }
   ],
   "source": [
    "ltsig13 = lt[['Awareness', 'Impact Blocking', 'Pass Block', 'Run Block', 'Stamina',\n",
    "           '3AVG Awareness']]\n",
    "LT3 = sm.OLS(lt['Overall Rating'], ltsig13).fit()\n",
    "print(LT3.summary())\n",
    "#It looks like all of the variables are significant"
   ]
  },
  {
   "cell_type": "code",
   "execution_count": 24,
   "metadata": {},
   "outputs": [],
   "source": [
    "def model():\n",
    "    pv=0.296*lt['Awareness']+0.15*lt['Impact Blocking']+0.4728*lt['Pass Block']+0.1083*lt['Run Block']-0.0964*lt['Stamina']+0.0433*lt['3AVG Awareness']\n",
    "    return pv"
   ]
  },
  {
   "cell_type": "code",
   "execution_count": 25,
   "metadata": {},
   "outputs": [
    {
     "name": "stderr",
     "output_type": "stream",
     "text": [
      "C:\\Users\\tilleymusprime\\Anaconda3\\lib\\site-packages\\ipykernel_launcher.py:2: SettingWithCopyWarning: \n",
      "A value is trying to be set on a copy of a slice from a DataFrame.\n",
      "Try using .loc[row_indexer,col_indexer] = value instead\n",
      "\n",
      "See the caveats in the documentation: http://pandas.pydata.org/pandas-docs/stable/indexing.html#indexing-view-versus-copy\n",
      "  \n",
      "C:\\Users\\tilleymusprime\\Anaconda3\\lib\\site-packages\\ipykernel_launcher.py:3: SettingWithCopyWarning: \n",
      "A value is trying to be set on a copy of a slice from a DataFrame.\n",
      "Try using .loc[row_indexer,col_indexer] = value instead\n",
      "\n",
      "See the caveats in the documentation: http://pandas.pydata.org/pandas-docs/stable/indexing.html#indexing-view-versus-copy\n",
      "  This is separate from the ipykernel package so we can avoid doing imports until\n"
     ]
    }
   ],
   "source": [
    "#Let's set up the Predicted value and Residual columns\n",
    "lt['Predicted Values'] = model()\n",
    "lt['Residuals'] = lt['Predicted Values'] - lt['Overall Rating']"
   ]
  },
  {
   "cell_type": "code",
   "execution_count": 26,
   "metadata": {},
   "outputs": [
    {
     "data": {
      "image/png": "[encoded data removed]",
      "text/plain": [
       "<matplotlib.figure.Figure at 0x1f0c3e88908>"
      ]
     },
     "metadata": {},
     "output_type": "display_data"
    }
   ],
   "source": [
    "plt.hist(lt['Residuals'])\n",
    "plt.xlabel('Residual')\n",
    "plt.ylabel('Count')\n",
    "plt.show()"
   ]
  },
  {
   "cell_type": "code",
   "execution_count": 27,
   "metadata": {},
   "outputs": [
    {
     "data": {
      "image/png": "[encoded data removed]",
      "text/plain": [
       "<matplotlib.figure.Figure at 0x1f0c3e87da0>"
      ]
     },
     "metadata": {},
     "output_type": "display_data"
    }
   ],
   "source": [
    "stats.probplot(lt['Residuals'], plot=plt)\n",
    "plt.show()\n",
    "#The residuals appear to be normally distributed except for one residual"
   ]
  },
  {
   "cell_type": "code",
   "execution_count": null,
   "metadata": {},
   "outputs": [],
   "source": []
  },
  {
   "cell_type": "code",
   "execution_count": 28,
   "metadata": {},
   "outputs": [
    {
     "data": {
      "image/png": "[encoded data removed]",
      "text/plain": [
       "<matplotlib.figure.Figure at 0x1f0c4a01ef0>"
      ]
     },
     "execution_count": 28,
     "metadata": {},
     "output_type": "execute_result"
    },
    {
     "data": {
      "image/png": "[encoded data removed]",
      "text/plain": [
       "<matplotlib.figure.Figure at 0x1f0c4a01940>"
      ]
     },
     "metadata": {},
     "output_type": "display_data"
    },
    {
     "data": {
      "image/png": "[encoded data removed]",
      "text/plain": [
       "<matplotlib.figure.Figure at 0x1f0c4a01ef0>"
      ]
     },
     "metadata": {},
     "output_type": "display_data"
    }
   ],
   "source": [
    "#Next we will check for influence and leverage points\n",
    "from statsmodels.graphics.regressionplots import *\n",
    "plot_leverage_resid2(LT3)\n",
    "influence_plot(LT3)\n",
    "#It looks like there is a high influence point with a high residual that has a lot of leverage in the model (2982)\n",
    "#We will remove that data point and retest the model"
   ]
  },
  {
   "cell_type": "code",
   "execution_count": 29,
   "metadata": {},
   "outputs": [
    {
     "data": {
      "text/plain": [
       "(117, 173)"
      ]
     },
     "execution_count": 29,
     "metadata": {},
     "output_type": "execute_result"
    }
   ],
   "source": [
    "ltunleveraged1 = lt.drop(df.index[[2982, 2984]])\n",
    "ltunleveraged1.shape"
   ]
  },
  {
   "cell_type": "code",
   "execution_count": 30,
   "metadata": {},
   "outputs": [
    {
     "data": {
      "text/plain": [
       "(119, 173)"
      ]
     },
     "execution_count": 30,
     "metadata": {},
     "output_type": "execute_result"
    }
   ],
   "source": [
    "lt.shape\n",
    "#It looks like we successfully dropped the two points"
   ]
  },
  {
   "cell_type": "code",
   "execution_count": 31,
   "metadata": {},
   "outputs": [
    {
     "name": "stdout",
     "output_type": "stream",
     "text": [
      "                            OLS Regression Results                            \n",
      "==============================================================================\n",
      "Dep. Variable:         Overall Rating   R-squared:                       0.999\n",
      "Model:                            OLS   Adj. R-squared:                  0.999\n",
      "Method:                 Least Squares   F-statistic:                 2.033e+04\n",
      "Date:                Wed, 18 Jul 2018   Prob (F-statistic):          6.62e-169\n",
      "Time:                        16:11:15   Log-Likelihood:                -263.23\n",
      "No. Observations:                 119   AIC:                             538.5\n",
      "Df Residuals:                     113   BIC:                             555.1\n",
      "Df Model:                           6                                         \n",
      "Covariance Type:            nonrobust                                         \n",
      "===================================================================================\n",
      "                      coef    std err          t      P>|t|      [0.025      0.975]\n",
      "-----------------------------------------------------------------------------------\n",
      "Awareness           0.2960      0.020     14.859      0.000       0.257       0.335\n",
      "Impact Blocking     0.1500      0.052      2.887      0.005       0.047       0.253\n",
      "Pass Block          0.4728      0.040     11.714      0.000       0.393       0.553\n",
      "Run Block           0.1083      0.040      2.708      0.008       0.029       0.187\n",
      "Stamina            -0.0964      0.037     -2.601      0.011      -0.170      -0.023\n",
      "3AVG Awareness      0.0433      0.009      4.722      0.000       0.025       0.062\n",
      "==============================================================================\n",
      "Omnibus:                        5.110   Durbin-Watson:                   2.005\n",
      "Prob(Omnibus):                  0.078   Jarque-Bera (JB):                7.294\n",
      "Skew:                          -0.055   Prob(JB):                       0.0261\n",
      "Kurtosis:                       4.208   Cond. No.                         51.5\n",
      "==============================================================================\n",
      "\n",
      "Warnings:\n",
      "[1] Standard Errors assume that the covariance matrix of the errors is correctly specified.\n"
     ]
    }
   ],
   "source": [
    "print(LT3.summary())"
   ]
  },
  {
   "cell_type": "code",
   "execution_count": 32,
   "metadata": {},
   "outputs": [
    {
     "name": "stdout",
     "output_type": "stream",
     "text": [
      "                            OLS Regression Results                            \n",
      "==============================================================================\n",
      "Dep. Variable:         Overall Rating   R-squared:                       0.999\n",
      "Model:                            OLS   Adj. R-squared:                  0.999\n",
      "Method:                 Least Squares   F-statistic:                 2.387e+04\n",
      "Date:                Wed, 18 Jul 2018   Prob (F-statistic):          3.51e-170\n",
      "Time:                        16:11:17   Log-Likelihood:                -247.86\n",
      "No. Observations:                 117   AIC:                             507.7\n",
      "Df Residuals:                     111   BIC:                             524.3\n",
      "Df Model:                           6                                         \n",
      "Covariance Type:            nonrobust                                         \n",
      "===================================================================================\n",
      "                      coef    std err          t      P>|t|      [0.025      0.975]\n",
      "-----------------------------------------------------------------------------------\n",
      "Awareness           0.2689      0.019     14.181      0.000       0.231       0.306\n",
      "Impact Blocking     0.1663      0.047      3.505      0.001       0.072       0.260\n",
      "Pass Block          0.4947      0.037     13.327      0.000       0.421       0.568\n",
      "Run Block           0.0805      0.037      2.186      0.031       0.008       0.154\n",
      "Stamina            -0.0927      0.034     -2.743      0.007      -0.160      -0.026\n",
      "3AVG Awareness      0.0566      0.009      6.449      0.000       0.039       0.074\n",
      "==============================================================================\n",
      "Omnibus:                        8.034   Durbin-Watson:                   2.011\n",
      "Prob(Omnibus):                  0.018   Jarque-Bera (JB):                8.093\n",
      "Skew:                          -0.504   Prob(JB):                       0.0175\n",
      "Kurtosis:                       3.803   Cond. No.                         51.1\n",
      "==============================================================================\n",
      "\n",
      "Warnings:\n",
      "[1] Standard Errors assume that the covariance matrix of the errors is correctly specified.\n"
     ]
    }
   ],
   "source": [
    "ltclean = ltunleveraged1[['Overall Rating','Awareness', 'Impact Blocking', 'Pass Block', 'Run Block', 'Stamina',\n",
    "           '3AVG Awareness']]\n",
    "ltcleansig = ltunleveraged1[['Awareness', 'Impact Blocking', 'Pass Block', 'Run Block', 'Stamina',\n",
    "           '3AVG Awareness']]\n",
    "LT4 = sm.OLS(ltclean['Overall Rating'], ltcleansig).fit()\n",
    "print(LT4.summary())\n",
    "#It looks like removing the leverage points reduced the AIC by 31 points so it improved the model\n",
    "#Unfortunately, it did add some negative skew to the model but not a significant amount\n",
    "#We might have intorduced a little bit of autocorrelation too judgin by the increase in the Durbin Watson statistic"
   ]
  },
  {
   "cell_type": "code",
   "execution_count": 33,
   "metadata": {},
   "outputs": [],
   "source": [
    "def model():\n",
    "    pv=0.2689*lt['Awareness']+0.1663*lt['Impact Blocking']+0.4947*lt['Pass Block']+0.0805*lt['Run Block']-0.0927*lt['Stamina']+0.0566*lt['3AVG Awareness']\n",
    "    return pv"
   ]
  },
  {
   "cell_type": "code",
   "execution_count": 34,
   "metadata": {},
   "outputs": [
    {
     "name": "stderr",
     "output_type": "stream",
     "text": [
      "C:\\Users\\tilleymusprime\\Anaconda3\\lib\\site-packages\\ipykernel_launcher.py:1: SettingWithCopyWarning: \n",
      "A value is trying to be set on a copy of a slice from a DataFrame.\n",
      "Try using .loc[row_indexer,col_indexer] = value instead\n",
      "\n",
      "See the caveats in the documentation: http://pandas.pydata.org/pandas-docs/stable/indexing.html#indexing-view-versus-copy\n",
      "  \"\"\"Entry point for launching an IPython kernel.\n",
      "C:\\Users\\tilleymusprime\\Anaconda3\\lib\\site-packages\\ipykernel_launcher.py:2: SettingWithCopyWarning: \n",
      "A value is trying to be set on a copy of a slice from a DataFrame.\n",
      "Try using .loc[row_indexer,col_indexer] = value instead\n",
      "\n",
      "See the caveats in the documentation: http://pandas.pydata.org/pandas-docs/stable/indexing.html#indexing-view-versus-copy\n",
      "  \n"
     ]
    }
   ],
   "source": [
    "ltclean['Predicted Values'] = model()\n",
    "ltclean['Residuals'] = lt['Predicted Values'] - lt['Overall Rating']"
   ]
  },
  {
   "cell_type": "code",
   "execution_count": 35,
   "metadata": {},
   "outputs": [
    {
     "data": {
      "image/png": "[encoded data removed]",
      "text/plain": [
       "<matplotlib.figure.Figure at 0x1f0c4b49eb8>"
      ]
     },
     "execution_count": 35,
     "metadata": {},
     "output_type": "execute_result"
    },
    {
     "data": {
      "image/png": "[encoded data removed]",
      "text/plain": [
       "<matplotlib.figure.Figure at 0x1f0c4b49eb8>"
      ]
     },
     "metadata": {},
     "output_type": "display_data"
    }
   ],
   "source": [
    "ltsigcorr= ltclean[['Awareness', 'Impact Blocking', 'Pass Block', 'Run Block', 'Stamina',\n",
    "           '3AVG Awareness', 'Overall Rating']].corr()\n",
    "plot_acf(ltsigcorr['Overall Rating'])\n",
    "#There does not appear to be any autocorrelation"
   ]
  },
  {
   "cell_type": "code",
   "execution_count": null,
   "metadata": {},
   "outputs": [],
   "source": []
  },
  {
   "cell_type": "code",
   "execution_count": 37,
   "metadata": {},
   "outputs": [
    {
     "data": {
      "text/plain": [
       "(42.426428021569635,\n",
       " 4.828635673565702e-08,\n",
       " 10.525027802423883,\n",
       " 3.167583676872567e-09)"
      ]
     },
     "execution_count": 37,
     "metadata": {},
     "output_type": "execute_result"
    }
   ],
   "source": [
    "#Finally, we move on to the Breusch Pagan test to check for heteroskedasticity\n",
    "het_breuschpagan(ltclean['Residuals'], ltcleansig)\n",
    "#Based on the extremely low p-values, we can reject the null that there is heteroskedasticity present in the model"
   ]
  },
  {
   "cell_type": "code",
   "execution_count": 39,
   "metadata": {},
   "outputs": [
    {
     "name": "stdout",
     "output_type": "stream",
     "text": [
      "[0.9831477  0.983677   0.98040659 0.95852399 0.79626224] 0.9404035030365172\n"
     ]
    }
   ],
   "source": [
    "#Finally, let's test our new model and see how it did\n",
    "#Now that we have determined that we can use linear regression, let's run some tests and see how accuract our linear \n",
    "#regression model is\n",
    "X_train, X_test, y_train, y_test = train_test_split(ltcleansig, ltclean['Overall Rating'], test_size = 0.3, random_state=42)\n",
    "reg = LinearRegression()\n",
    "reg.fit(X_train, y_train)\n",
    "ltcv = cross_val_score(reg, ltcleansig, ltclean['Overall Rating'], cv=5)\n",
    "ltcv_mean = np.mean(ltcv)\n",
    "print(ltcv, ltcv_mean)\n",
    "#It looks like on average this model explained 94% in the variation in the data\n",
    "#It looks like the original was slightly more accuracte"
   ]
  },
  {
   "cell_type": "code",
   "execution_count": 40,
   "metadata": {},
   "outputs": [
    {
     "name": "stdout",
     "output_type": "stream",
     "text": [
      "[0.98287901 0.98303504 0.98272509 0.91242728 0.89834402] 0.9518820857587261\n"
     ]
    }
   ],
   "source": [
    "#Let's see how that stacks up against our first model\n",
    "X_train, X_test, y_train, y_test = train_test_split(ltsig13, lt['Overall Rating'], test_size = 0.3, random_state=42)\n",
    "reg = LinearRegression()\n",
    "reg.fit(X_train, y_train)\n",
    "ltcv = cross_val_score(reg, ltsig13, lt['Overall Rating'], cv=5)\n",
    "ltcv_mean = np.mean(ltcv)\n",
    "print(ltcv, ltcv_mean)"
   ]
  },
  {
   "cell_type": "code",
   "execution_count": 53,
   "metadata": {},
   "outputs": [],
   "source": [
    "ltdesc = ltclean.describe()\n",
    "ltdesc.to_csv('C:\\\\Users\\\\tilleymusprime\\\\Desktop\\\\ltdesc.csv')"
   ]
  }
 ],
 "metadata": {
  "kernelspec": {
   "display_name": "Python 3",
   "language": "python",
   "name": "python3"
  },
  "language_info": {
   "codemirror_mode": {
    "name": "ipython",
    "version": 3
   },
   "file_extension": ".py",
   "mimetype": "text/x-python",
   "name": "python",
   "nbconvert_exporter": "python",
   "pygments_lexer": "ipython3",
   "version": "3.6.4"
  }
 },
 "nbformat": 4,
 "nbformat_minor": 2
}
