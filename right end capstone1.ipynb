{
 "cells": [
  {
   "cell_type": "code",
   "execution_count": 2,
   "metadata": {},
   "outputs": [],
   "source": [
    "import pandas as pd\n",
    "import numpy as np\n",
    "import statsmodels.api as sm\n",
    "from sklearn.model_selection import train_test_split\n",
    "from sklearn.metrics import mean_squared_error\n",
    "from sklearn.linear_model import LinearRegression\n",
    "import statsmodels.formula.api as smf\n",
    "from statsmodels.formula.api import OLS\n",
    "from statsmodels.tools.tools import add_constant\n",
    "from statsmodels.stats.outliers_influence import variance_inflation_factor\n",
    "from sklearn.model_selection import cross_val_score\n",
    "from sklearn.metrics import mean_absolute_error\n",
    "import matplotlib.pyplot as plt\n",
    "import scipy.stats as stats\n",
    "from statsmodels.graphics.tsaplots import plot_acf\n",
    "from scipy.stats import levene\n",
    "from statsmodels.stats.diagnostic import het_breuschpagan\n",
    "pd.options.mode.chained_assignment = None"
   ]
  },
  {
   "cell_type": "code",
   "execution_count": 3,
   "metadata": {},
   "outputs": [],
   "source": [
    "df = pd.read_csv('C:\\\\Users\\\\tilleymusprime\\\\Desktop\\\\mcclean1.csv')"
   ]
  },
  {
   "cell_type": "code",
   "execution_count": 4,
   "metadata": {},
   "outputs": [],
   "source": [
    "#in this workbook, we will be working with the Right Dfensive end position\n",
    "re = df[df['Position'] == 'RE']"
   ]
  },
  {
   "cell_type": "code",
   "execution_count": 110,
   "metadata": {},
   "outputs": [
    {
     "data": {
      "text/plain": [
       "(267, 171)"
      ]
     },
     "execution_count": 110,
     "metadata": {},
     "output_type": "execute_result"
    }
   ],
   "source": [
    "re.shape"
   ]
  },
  {
   "cell_type": "code",
   "execution_count": null,
   "metadata": {},
   "outputs": [],
   "source": []
  },
  {
   "cell_type": "code",
   "execution_count": 5,
   "metadata": {},
   "outputs": [
    {
     "data": {
      "text/html": [
       "<div>\n",
       "<style scoped>\n",
       "    .dataframe tbody tr th:only-of-type {\n",
       "        vertical-align: middle;\n",
       "    }\n",
       "\n",
       "    .dataframe tbody tr th {\n",
       "        vertical-align: top;\n",
       "    }\n",
       "\n",
       "    .dataframe thead th {\n",
       "        text-align: right;\n",
       "    }\n",
       "</style>\n",
       "<table border=\"1\" class=\"dataframe\">\n",
       "  <thead>\n",
       "    <tr style=\"text-align: right;\">\n",
       "      <th></th>\n",
       "      <th>Overall Rating</th>\n",
       "      <th>Unnamed: 1</th>\n",
       "      <th>3Cone</th>\n",
       "      <th>Acceleration</th>\n",
       "      <th>Agility</th>\n",
       "      <th>Awareness</th>\n",
       "      <th>Ball Carrier Vision</th>\n",
       "      <th>Bench</th>\n",
       "      <th>Block Shedding</th>\n",
       "      <th>Broad Jump</th>\n",
       "      <th>...</th>\n",
       "      <th>Vertical/Bench</th>\n",
       "      <th>Vertical/Broad Jump</th>\n",
       "      <th>Vertical/3Cone</th>\n",
       "      <th>Vertical/Shuttle</th>\n",
       "      <th>Bench/Broad Jump</th>\n",
       "      <th>Bench/3Cone</th>\n",
       "      <th>Bench/Shuttle</th>\n",
       "      <th>Broad Jump/ 3Cone</th>\n",
       "      <th>Broad Jump/Shuttle</th>\n",
       "      <th>3Cone/Shuttle</th>\n",
       "    </tr>\n",
       "  </thead>\n",
       "  <tbody>\n",
       "    <tr>\n",
       "      <th>160</th>\n",
       "      <td>83</td>\n",
       "      <td>160</td>\n",
       "      <td>7.30</td>\n",
       "      <td>82</td>\n",
       "      <td>78</td>\n",
       "      <td>91</td>\n",
       "      <td>32</td>\n",
       "      <td>24.0</td>\n",
       "      <td>70</td>\n",
       "      <td>115.0</td>\n",
       "      <td>...</td>\n",
       "      <td>1.333333</td>\n",
       "      <td>0.278261</td>\n",
       "      <td>4.383562</td>\n",
       "      <td>7.223476</td>\n",
       "      <td>0.208696</td>\n",
       "      <td>3.287671</td>\n",
       "      <td>5.417607</td>\n",
       "      <td>15.753425</td>\n",
       "      <td>25.959368</td>\n",
       "      <td>1.647856</td>\n",
       "    </tr>\n",
       "    <tr>\n",
       "      <th>161</th>\n",
       "      <td>76</td>\n",
       "      <td>161</td>\n",
       "      <td>7.30</td>\n",
       "      <td>89</td>\n",
       "      <td>74</td>\n",
       "      <td>75</td>\n",
       "      <td>29</td>\n",
       "      <td>18.0</td>\n",
       "      <td>68</td>\n",
       "      <td>115.0</td>\n",
       "      <td>...</td>\n",
       "      <td>1.777778</td>\n",
       "      <td>0.278261</td>\n",
       "      <td>4.383562</td>\n",
       "      <td>7.223476</td>\n",
       "      <td>0.156522</td>\n",
       "      <td>2.465753</td>\n",
       "      <td>4.063205</td>\n",
       "      <td>15.753425</td>\n",
       "      <td>25.959368</td>\n",
       "      <td>1.647856</td>\n",
       "    </tr>\n",
       "    <tr>\n",
       "      <th>162</th>\n",
       "      <td>75</td>\n",
       "      <td>162</td>\n",
       "      <td>7.57</td>\n",
       "      <td>81</td>\n",
       "      <td>74</td>\n",
       "      <td>73</td>\n",
       "      <td>20</td>\n",
       "      <td>24.0</td>\n",
       "      <td>71</td>\n",
       "      <td>117.0</td>\n",
       "      <td>...</td>\n",
       "      <td>1.416667</td>\n",
       "      <td>0.290598</td>\n",
       "      <td>4.491413</td>\n",
       "      <td>7.505519</td>\n",
       "      <td>0.205128</td>\n",
       "      <td>3.170410</td>\n",
       "      <td>5.298013</td>\n",
       "      <td>15.455746</td>\n",
       "      <td>25.827815</td>\n",
       "      <td>1.671082</td>\n",
       "    </tr>\n",
       "    <tr>\n",
       "      <th>163</th>\n",
       "      <td>62</td>\n",
       "      <td>163</td>\n",
       "      <td>7.30</td>\n",
       "      <td>84</td>\n",
       "      <td>71</td>\n",
       "      <td>52</td>\n",
       "      <td>38</td>\n",
       "      <td>27.0</td>\n",
       "      <td>74</td>\n",
       "      <td>110.0</td>\n",
       "      <td>...</td>\n",
       "      <td>1.129630</td>\n",
       "      <td>0.277273</td>\n",
       "      <td>4.178082</td>\n",
       "      <td>6.884876</td>\n",
       "      <td>0.245455</td>\n",
       "      <td>3.698630</td>\n",
       "      <td>6.094808</td>\n",
       "      <td>15.068493</td>\n",
       "      <td>24.830700</td>\n",
       "      <td>1.647856</td>\n",
       "    </tr>\n",
       "    <tr>\n",
       "      <th>164</th>\n",
       "      <td>76</td>\n",
       "      <td>164</td>\n",
       "      <td>7.32</td>\n",
       "      <td>85</td>\n",
       "      <td>72</td>\n",
       "      <td>75</td>\n",
       "      <td>24</td>\n",
       "      <td>24.0</td>\n",
       "      <td>79</td>\n",
       "      <td>106.0</td>\n",
       "      <td>...</td>\n",
       "      <td>1.145833</td>\n",
       "      <td>0.259434</td>\n",
       "      <td>3.756831</td>\n",
       "      <td>6.152125</td>\n",
       "      <td>0.226415</td>\n",
       "      <td>3.278689</td>\n",
       "      <td>5.369128</td>\n",
       "      <td>14.480874</td>\n",
       "      <td>23.713647</td>\n",
       "      <td>1.637584</td>\n",
       "    </tr>\n",
       "  </tbody>\n",
       "</table>\n",
       "<p>5 rows × 171 columns</p>\n",
       "</div>"
      ],
      "text/plain": [
       "     Overall Rating  Unnamed: 1  3Cone  Acceleration  Agility  Awareness  \\\n",
       "160              83         160   7.30            82       78         91   \n",
       "161              76         161   7.30            89       74         75   \n",
       "162              75         162   7.57            81       74         73   \n",
       "163              62         163   7.30            84       71         52   \n",
       "164              76         164   7.32            85       72         75   \n",
       "\n",
       "     Ball Carrier Vision  Bench  Block Shedding  Broad Jump      ...        \\\n",
       "160                   32   24.0              70       115.0      ...         \n",
       "161                   29   18.0              68       115.0      ...         \n",
       "162                   20   24.0              71       117.0      ...         \n",
       "163                   38   27.0              74       110.0      ...         \n",
       "164                   24   24.0              79       106.0      ...         \n",
       "\n",
       "     Vertical/Bench  Vertical/Broad Jump  Vertical/3Cone  Vertical/Shuttle  \\\n",
       "160        1.333333             0.278261        4.383562          7.223476   \n",
       "161        1.777778             0.278261        4.383562          7.223476   \n",
       "162        1.416667             0.290598        4.491413          7.505519   \n",
       "163        1.129630             0.277273        4.178082          6.884876   \n",
       "164        1.145833             0.259434        3.756831          6.152125   \n",
       "\n",
       "     Bench/Broad Jump  Bench/3Cone  Bench/Shuttle  Broad Jump/ 3Cone  \\\n",
       "160          0.208696     3.287671       5.417607          15.753425   \n",
       "161          0.156522     2.465753       4.063205          15.753425   \n",
       "162          0.205128     3.170410       5.298013          15.455746   \n",
       "163          0.245455     3.698630       6.094808          15.068493   \n",
       "164          0.226415     3.278689       5.369128          14.480874   \n",
       "\n",
       "     Broad Jump/Shuttle  3Cone/Shuttle  \n",
       "160           25.959368       1.647856  \n",
       "161           25.959368       1.647856  \n",
       "162           25.827815       1.671082  \n",
       "163           24.830700       1.647856  \n",
       "164           23.713647       1.637584  \n",
       "\n",
       "[5 rows x 171 columns]"
      ]
     },
     "execution_count": 5,
     "metadata": {},
     "output_type": "execute_result"
    }
   ],
   "source": [
    "re.head()"
   ]
  },
  {
   "cell_type": "code",
   "execution_count": 5,
   "metadata": {},
   "outputs": [],
   "source": [
    "recols = list(re.columns.values)"
   ]
  },
  {
   "cell_type": "code",
   "execution_count": 6,
   "metadata": {},
   "outputs": [
    {
     "name": "stdout",
     "output_type": "stream",
     "text": [
      "['Unnamed: 0', 'Acceleration', 'Agility', 'Awareness', 'Ball Carrier Vision', 'Block Shedding', 'Carrying', 'Catch In Traffic', 'Catching', 'Elusiveness', 'Finesse Moves', 'Hit Power', 'Impact Blocking', 'Injury', 'Juke Move', 'Jumping', 'Man Coverage', 'Name', 'Overall Rating', 'Pass Block', 'Play Action', 'Play Recognition', 'Position', 'Power Moves', 'Press', 'Pursuit', 'Release', 'Route Running', 'Run Block', 'Spectacular Catch', 'Speed', 'Spin Move', 'Stamina', 'Stiff Arm', 'Strength', 'Tackle', 'Team', 'Throw Accuracy Deep', 'Throw Accuracy Mid', 'Throw Accuracy Short', 'Throw Power', 'Throw on the Run', 'Toughness', 'Trucking', 'Zone Coverage', 'Wt', 'Vertical', 'Bench', 'Broad Jump', '3Cone', 'Shuttle', '40yd']\n"
     ]
    }
   ],
   "source": [
    "print(recols)"
   ]
  },
  {
   "cell_type": "code",
   "execution_count": 8,
   "metadata": {},
   "outputs": [],
   "source": [
    "#Removing non-numeric values\n",
    "re1 = re[['Overall Rating', '3Cone', 'Acceleration', 'Agility', 'Awareness', 'Ball Carrier Vision', 'Bench', 'Block Shedding',\n",
    "          'Broad Jump', 'Carrying', 'Catch In Traffic', 'Catching', 'Elusiveness', 'Finesse Moves', 'Hit Power',\n",
    "          'Impact Blocking', 'Injury', 'Juke Move', 'Jumping', 'Man Coverage', 'Pass Block', 'Play Action', 'Play Recognition',\n",
    "          'Press', 'Pursuit', 'Release', 'Route Running', 'Run Block', 'Shuttle', 'Speed', 'Spin Move', 'Stamina',\n",
    "          'Stiff Arm', 'Strength', 'Tackle', 'Throw Accuracy Deep', 'Throw Accuracy Mid', 'Throw Accuracy Short',\n",
    "          'Throw Power', 'Throw on the Run', 'Toughness', 'Trucking', 'Vertical', 'Zone Coverage']]"
   ]
  },
  {
   "cell_type": "code",
   "execution_count": 9,
   "metadata": {
    "scrolled": true
   },
   "outputs": [
    {
     "data": {
      "text/html": [
       "<div>\n",
       "<style scoped>\n",
       "    .dataframe tbody tr th:only-of-type {\n",
       "        vertical-align: middle;\n",
       "    }\n",
       "\n",
       "    .dataframe tbody tr th {\n",
       "        vertical-align: top;\n",
       "    }\n",
       "\n",
       "    .dataframe thead th {\n",
       "        text-align: right;\n",
       "    }\n",
       "</style>\n",
       "<table border=\"1\" class=\"dataframe\">\n",
       "  <thead>\n",
       "    <tr style=\"text-align: right;\">\n",
       "      <th></th>\n",
       "      <th>Overall Rating</th>\n",
       "      <th>3Cone</th>\n",
       "      <th>Acceleration</th>\n",
       "      <th>Agility</th>\n",
       "      <th>Awareness</th>\n",
       "      <th>Ball Carrier Vision</th>\n",
       "      <th>Bench</th>\n",
       "      <th>Block Shedding</th>\n",
       "      <th>Broad Jump</th>\n",
       "      <th>Carrying</th>\n",
       "      <th>...</th>\n",
       "      <th>Tackle</th>\n",
       "      <th>Throw Accuracy Deep</th>\n",
       "      <th>Throw Accuracy Mid</th>\n",
       "      <th>Throw Accuracy Short</th>\n",
       "      <th>Throw Power</th>\n",
       "      <th>Throw on the Run</th>\n",
       "      <th>Toughness</th>\n",
       "      <th>Trucking</th>\n",
       "      <th>Vertical</th>\n",
       "      <th>Zone Coverage</th>\n",
       "    </tr>\n",
       "  </thead>\n",
       "  <tbody>\n",
       "    <tr>\n",
       "      <th>Overall Rating</th>\n",
       "      <td>1.000000</td>\n",
       "      <td>-0.157052</td>\n",
       "      <td>0.178798</td>\n",
       "      <td>0.280111</td>\n",
       "      <td>0.863251</td>\n",
       "      <td>-0.126898</td>\n",
       "      <td>0.157002</td>\n",
       "      <td>0.335906</td>\n",
       "      <td>0.069879</td>\n",
       "      <td>0.010438</td>\n",
       "      <td>...</td>\n",
       "      <td>0.489911</td>\n",
       "      <td>-0.042725</td>\n",
       "      <td>-0.051285</td>\n",
       "      <td>-0.054875</td>\n",
       "      <td>0.045287</td>\n",
       "      <td>-0.077932</td>\n",
       "      <td>0.223069</td>\n",
       "      <td>-0.172952</td>\n",
       "      <td>0.124812</td>\n",
       "      <td>0.289555</td>\n",
       "    </tr>\n",
       "    <tr>\n",
       "      <th>3Cone</th>\n",
       "      <td>-0.157052</td>\n",
       "      <td>1.000000</td>\n",
       "      <td>-0.168240</td>\n",
       "      <td>-0.167874</td>\n",
       "      <td>-0.086337</td>\n",
       "      <td>-0.211052</td>\n",
       "      <td>0.117239</td>\n",
       "      <td>-0.163291</td>\n",
       "      <td>-0.316422</td>\n",
       "      <td>0.007792</td>\n",
       "      <td>...</td>\n",
       "      <td>0.012190</td>\n",
       "      <td>-0.144131</td>\n",
       "      <td>-0.136088</td>\n",
       "      <td>-0.130910</td>\n",
       "      <td>-0.092537</td>\n",
       "      <td>-0.093216</td>\n",
       "      <td>-0.172191</td>\n",
       "      <td>-0.087294</td>\n",
       "      <td>-0.221138</td>\n",
       "      <td>-0.150338</td>\n",
       "    </tr>\n",
       "    <tr>\n",
       "      <th>Acceleration</th>\n",
       "      <td>0.178798</td>\n",
       "      <td>-0.168240</td>\n",
       "      <td>1.000000</td>\n",
       "      <td>0.617951</td>\n",
       "      <td>-0.070443</td>\n",
       "      <td>0.547216</td>\n",
       "      <td>-0.059153</td>\n",
       "      <td>-0.242030</td>\n",
       "      <td>0.210440</td>\n",
       "      <td>0.129368</td>\n",
       "      <td>...</td>\n",
       "      <td>-0.250375</td>\n",
       "      <td>0.068845</td>\n",
       "      <td>0.070471</td>\n",
       "      <td>0.070498</td>\n",
       "      <td>0.141691</td>\n",
       "      <td>0.074418</td>\n",
       "      <td>-0.043672</td>\n",
       "      <td>0.359804</td>\n",
       "      <td>0.208535</td>\n",
       "      <td>0.487911</td>\n",
       "    </tr>\n",
       "    <tr>\n",
       "      <th>Agility</th>\n",
       "      <td>0.280111</td>\n",
       "      <td>-0.167874</td>\n",
       "      <td>0.617951</td>\n",
       "      <td>1.000000</td>\n",
       "      <td>-0.080937</td>\n",
       "      <td>0.539342</td>\n",
       "      <td>-0.095078</td>\n",
       "      <td>-0.188602</td>\n",
       "      <td>0.224773</td>\n",
       "      <td>0.240211</td>\n",
       "      <td>...</td>\n",
       "      <td>-0.063194</td>\n",
       "      <td>0.037198</td>\n",
       "      <td>0.044838</td>\n",
       "      <td>0.048786</td>\n",
       "      <td>0.104976</td>\n",
       "      <td>0.010469</td>\n",
       "      <td>0.000571</td>\n",
       "      <td>0.257259</td>\n",
       "      <td>0.205901</td>\n",
       "      <td>0.612179</td>\n",
       "    </tr>\n",
       "    <tr>\n",
       "      <th>Awareness</th>\n",
       "      <td>0.863251</td>\n",
       "      <td>-0.086337</td>\n",
       "      <td>-0.070443</td>\n",
       "      <td>-0.080937</td>\n",
       "      <td>1.000000</td>\n",
       "      <td>-0.325193</td>\n",
       "      <td>0.174292</td>\n",
       "      <td>0.228633</td>\n",
       "      <td>-0.044135</td>\n",
       "      <td>-0.051948</td>\n",
       "      <td>...</td>\n",
       "      <td>0.402521</td>\n",
       "      <td>-0.043737</td>\n",
       "      <td>-0.053645</td>\n",
       "      <td>-0.058240</td>\n",
       "      <td>-0.006402</td>\n",
       "      <td>-0.054694</td>\n",
       "      <td>0.196304</td>\n",
       "      <td>-0.261274</td>\n",
       "      <td>0.051841</td>\n",
       "      <td>0.114612</td>\n",
       "    </tr>\n",
       "    <tr>\n",
       "      <th>Ball Carrier Vision</th>\n",
       "      <td>-0.126898</td>\n",
       "      <td>-0.211052</td>\n",
       "      <td>0.547216</td>\n",
       "      <td>0.539342</td>\n",
       "      <td>-0.325193</td>\n",
       "      <td>1.000000</td>\n",
       "      <td>-0.124571</td>\n",
       "      <td>-0.264775</td>\n",
       "      <td>0.264745</td>\n",
       "      <td>0.355757</td>\n",
       "      <td>...</td>\n",
       "      <td>-0.293243</td>\n",
       "      <td>0.163926</td>\n",
       "      <td>0.158009</td>\n",
       "      <td>0.153019</td>\n",
       "      <td>0.300445</td>\n",
       "      <td>0.169508</td>\n",
       "      <td>-0.054619</td>\n",
       "      <td>0.630423</td>\n",
       "      <td>0.207955</td>\n",
       "      <td>0.433290</td>\n",
       "    </tr>\n",
       "    <tr>\n",
       "      <th>Bench</th>\n",
       "      <td>0.157002</td>\n",
       "      <td>0.117239</td>\n",
       "      <td>-0.059153</td>\n",
       "      <td>-0.095078</td>\n",
       "      <td>0.174292</td>\n",
       "      <td>-0.124571</td>\n",
       "      <td>1.000000</td>\n",
       "      <td>0.127376</td>\n",
       "      <td>-0.067359</td>\n",
       "      <td>0.045334</td>\n",
       "      <td>...</td>\n",
       "      <td>0.113197</td>\n",
       "      <td>0.308873</td>\n",
       "      <td>0.298589</td>\n",
       "      <td>0.291791</td>\n",
       "      <td>0.078403</td>\n",
       "      <td>0.149179</td>\n",
       "      <td>-0.001438</td>\n",
       "      <td>0.029006</td>\n",
       "      <td>0.101872</td>\n",
       "      <td>-0.021402</td>\n",
       "    </tr>\n",
       "    <tr>\n",
       "      <th>Block Shedding</th>\n",
       "      <td>0.335906</td>\n",
       "      <td>-0.163291</td>\n",
       "      <td>-0.242030</td>\n",
       "      <td>-0.188602</td>\n",
       "      <td>0.228633</td>\n",
       "      <td>-0.264775</td>\n",
       "      <td>0.127376</td>\n",
       "      <td>1.000000</td>\n",
       "      <td>0.003997</td>\n",
       "      <td>-0.184211</td>\n",
       "      <td>...</td>\n",
       "      <td>0.561290</td>\n",
       "      <td>0.009222</td>\n",
       "      <td>0.012096</td>\n",
       "      <td>0.014437</td>\n",
       "      <td>0.018757</td>\n",
       "      <td>-0.064547</td>\n",
       "      <td>0.179583</td>\n",
       "      <td>-0.130883</td>\n",
       "      <td>-0.011205</td>\n",
       "      <td>-0.250498</td>\n",
       "    </tr>\n",
       "    <tr>\n",
       "      <th>Broad Jump</th>\n",
       "      <td>0.069879</td>\n",
       "      <td>-0.316422</td>\n",
       "      <td>0.210440</td>\n",
       "      <td>0.224773</td>\n",
       "      <td>-0.044135</td>\n",
       "      <td>0.264745</td>\n",
       "      <td>-0.067359</td>\n",
       "      <td>0.003997</td>\n",
       "      <td>1.000000</td>\n",
       "      <td>0.136696</td>\n",
       "      <td>...</td>\n",
       "      <td>-0.063566</td>\n",
       "      <td>0.106012</td>\n",
       "      <td>0.101721</td>\n",
       "      <td>0.099016</td>\n",
       "      <td>0.093355</td>\n",
       "      <td>0.048943</td>\n",
       "      <td>0.039928</td>\n",
       "      <td>0.128764</td>\n",
       "      <td>0.699401</td>\n",
       "      <td>0.147743</td>\n",
       "    </tr>\n",
       "    <tr>\n",
       "      <th>Carrying</th>\n",
       "      <td>0.010438</td>\n",
       "      <td>0.007792</td>\n",
       "      <td>0.129368</td>\n",
       "      <td>0.240211</td>\n",
       "      <td>-0.051948</td>\n",
       "      <td>0.355757</td>\n",
       "      <td>0.045334</td>\n",
       "      <td>-0.184211</td>\n",
       "      <td>0.136696</td>\n",
       "      <td>1.000000</td>\n",
       "      <td>...</td>\n",
       "      <td>-0.092124</td>\n",
       "      <td>0.093369</td>\n",
       "      <td>0.096123</td>\n",
       "      <td>0.097660</td>\n",
       "      <td>0.278771</td>\n",
       "      <td>0.005020</td>\n",
       "      <td>-0.078593</td>\n",
       "      <td>0.290179</td>\n",
       "      <td>0.248523</td>\n",
       "      <td>0.235728</td>\n",
       "    </tr>\n",
       "    <tr>\n",
       "      <th>Catch In Traffic</th>\n",
       "      <td>-0.032117</td>\n",
       "      <td>-0.272359</td>\n",
       "      <td>0.321838</td>\n",
       "      <td>0.391892</td>\n",
       "      <td>-0.197956</td>\n",
       "      <td>0.535530</td>\n",
       "      <td>-0.082997</td>\n",
       "      <td>-0.047870</td>\n",
       "      <td>0.089965</td>\n",
       "      <td>0.249760</td>\n",
       "      <td>...</td>\n",
       "      <td>-0.084912</td>\n",
       "      <td>0.201653</td>\n",
       "      <td>0.220047</td>\n",
       "      <td>0.229495</td>\n",
       "      <td>0.170804</td>\n",
       "      <td>0.044109</td>\n",
       "      <td>0.077823</td>\n",
       "      <td>0.211520</td>\n",
       "      <td>0.157741</td>\n",
       "      <td>0.382350</td>\n",
       "    </tr>\n",
       "    <tr>\n",
       "      <th>Catching</th>\n",
       "      <td>-0.003317</td>\n",
       "      <td>-0.164944</td>\n",
       "      <td>0.333943</td>\n",
       "      <td>0.439769</td>\n",
       "      <td>-0.165673</td>\n",
       "      <td>0.508223</td>\n",
       "      <td>0.025069</td>\n",
       "      <td>-0.183475</td>\n",
       "      <td>0.144638</td>\n",
       "      <td>0.565349</td>\n",
       "      <td>...</td>\n",
       "      <td>-0.206276</td>\n",
       "      <td>0.221674</td>\n",
       "      <td>0.213069</td>\n",
       "      <td>0.206224</td>\n",
       "      <td>0.258591</td>\n",
       "      <td>0.211867</td>\n",
       "      <td>-0.052997</td>\n",
       "      <td>0.299179</td>\n",
       "      <td>0.202970</td>\n",
       "      <td>0.437327</td>\n",
       "    </tr>\n",
       "    <tr>\n",
       "      <th>Elusiveness</th>\n",
       "      <td>0.041854</td>\n",
       "      <td>-0.213845</td>\n",
       "      <td>0.406686</td>\n",
       "      <td>0.563131</td>\n",
       "      <td>-0.118953</td>\n",
       "      <td>0.640373</td>\n",
       "      <td>-0.146218</td>\n",
       "      <td>-0.304966</td>\n",
       "      <td>0.338279</td>\n",
       "      <td>0.176092</td>\n",
       "      <td>...</td>\n",
       "      <td>-0.206448</td>\n",
       "      <td>0.025000</td>\n",
       "      <td>0.033894</td>\n",
       "      <td>0.039080</td>\n",
       "      <td>0.069944</td>\n",
       "      <td>-0.036771</td>\n",
       "      <td>0.091125</td>\n",
       "      <td>0.279448</td>\n",
       "      <td>0.251976</td>\n",
       "      <td>0.479408</td>\n",
       "    </tr>\n",
       "    <tr>\n",
       "      <th>Finesse Moves</th>\n",
       "      <td>0.419069</td>\n",
       "      <td>-0.184929</td>\n",
       "      <td>0.394048</td>\n",
       "      <td>0.607435</td>\n",
       "      <td>0.158604</td>\n",
       "      <td>0.306609</td>\n",
       "      <td>-0.012564</td>\n",
       "      <td>-0.157458</td>\n",
       "      <td>0.169781</td>\n",
       "      <td>0.110265</td>\n",
       "      <td>...</td>\n",
       "      <td>-0.078897</td>\n",
       "      <td>-0.039781</td>\n",
       "      <td>-0.050830</td>\n",
       "      <td>-0.056656</td>\n",
       "      <td>-0.009424</td>\n",
       "      <td>-0.004225</td>\n",
       "      <td>0.061802</td>\n",
       "      <td>0.033037</td>\n",
       "      <td>0.141008</td>\n",
       "      <td>0.505745</td>\n",
       "    </tr>\n",
       "    <tr>\n",
       "      <th>Hit Power</th>\n",
       "      <td>-0.057496</td>\n",
       "      <td>-0.068668</td>\n",
       "      <td>0.277412</td>\n",
       "      <td>0.262907</td>\n",
       "      <td>-0.220215</td>\n",
       "      <td>0.376275</td>\n",
       "      <td>-0.026750</td>\n",
       "      <td>0.041340</td>\n",
       "      <td>0.033400</td>\n",
       "      <td>0.116886</td>\n",
       "      <td>...</td>\n",
       "      <td>0.017357</td>\n",
       "      <td>0.050568</td>\n",
       "      <td>0.046315</td>\n",
       "      <td>0.042926</td>\n",
       "      <td>0.127673</td>\n",
       "      <td>0.097611</td>\n",
       "      <td>-0.016423</td>\n",
       "      <td>0.254302</td>\n",
       "      <td>0.056806</td>\n",
       "      <td>0.139347</td>\n",
       "    </tr>\n",
       "    <tr>\n",
       "      <th>Impact Blocking</th>\n",
       "      <td>0.147128</td>\n",
       "      <td>-0.158759</td>\n",
       "      <td>0.343190</td>\n",
       "      <td>0.140838</td>\n",
       "      <td>0.091012</td>\n",
       "      <td>0.216197</td>\n",
       "      <td>0.026750</td>\n",
       "      <td>0.182630</td>\n",
       "      <td>0.104172</td>\n",
       "      <td>-0.045379</td>\n",
       "      <td>...</td>\n",
       "      <td>0.183643</td>\n",
       "      <td>0.028531</td>\n",
       "      <td>0.033079</td>\n",
       "      <td>0.035078</td>\n",
       "      <td>0.143590</td>\n",
       "      <td>0.034896</td>\n",
       "      <td>0.009389</td>\n",
       "      <td>0.212350</td>\n",
       "      <td>0.054427</td>\n",
       "      <td>0.011286</td>\n",
       "    </tr>\n",
       "    <tr>\n",
       "      <th>Injury</th>\n",
       "      <td>0.161230</td>\n",
       "      <td>0.002919</td>\n",
       "      <td>-0.022296</td>\n",
       "      <td>-0.005307</td>\n",
       "      <td>0.118043</td>\n",
       "      <td>0.023299</td>\n",
       "      <td>-0.062612</td>\n",
       "      <td>0.109745</td>\n",
       "      <td>-0.050342</td>\n",
       "      <td>-0.123597</td>\n",
       "      <td>...</td>\n",
       "      <td>0.188392</td>\n",
       "      <td>-0.076807</td>\n",
       "      <td>-0.073179</td>\n",
       "      <td>-0.069818</td>\n",
       "      <td>0.078097</td>\n",
       "      <td>-0.124746</td>\n",
       "      <td>0.130088</td>\n",
       "      <td>0.004011</td>\n",
       "      <td>-0.180236</td>\n",
       "      <td>-0.095822</td>\n",
       "    </tr>\n",
       "    <tr>\n",
       "      <th>Juke Move</th>\n",
       "      <td>-0.030544</td>\n",
       "      <td>-0.205929</td>\n",
       "      <td>0.528965</td>\n",
       "      <td>0.588367</td>\n",
       "      <td>-0.246656</td>\n",
       "      <td>0.695312</td>\n",
       "      <td>-0.137030</td>\n",
       "      <td>-0.268473</td>\n",
       "      <td>0.201820</td>\n",
       "      <td>0.228412</td>\n",
       "      <td>...</td>\n",
       "      <td>-0.301112</td>\n",
       "      <td>0.158221</td>\n",
       "      <td>0.158261</td>\n",
       "      <td>0.156535</td>\n",
       "      <td>0.115476</td>\n",
       "      <td>0.158613</td>\n",
       "      <td>-0.003478</td>\n",
       "      <td>0.354366</td>\n",
       "      <td>0.103668</td>\n",
       "      <td>0.545182</td>\n",
       "    </tr>\n",
       "    <tr>\n",
       "      <th>Jumping</th>\n",
       "      <td>-0.039711</td>\n",
       "      <td>-0.073719</td>\n",
       "      <td>0.548138</td>\n",
       "      <td>0.514044</td>\n",
       "      <td>-0.247996</td>\n",
       "      <td>0.542046</td>\n",
       "      <td>0.027863</td>\n",
       "      <td>-0.158864</td>\n",
       "      <td>0.237351</td>\n",
       "      <td>0.304711</td>\n",
       "      <td>...</td>\n",
       "      <td>-0.211393</td>\n",
       "      <td>0.081801</td>\n",
       "      <td>0.083762</td>\n",
       "      <td>0.083983</td>\n",
       "      <td>0.176498</td>\n",
       "      <td>0.074782</td>\n",
       "      <td>-0.185878</td>\n",
       "      <td>0.424331</td>\n",
       "      <td>0.335091</td>\n",
       "      <td>0.337620</td>\n",
       "    </tr>\n",
       "    <tr>\n",
       "      <th>Man Coverage</th>\n",
       "      <td>0.177118</td>\n",
       "      <td>-0.217281</td>\n",
       "      <td>0.535122</td>\n",
       "      <td>0.622020</td>\n",
       "      <td>-0.005969</td>\n",
       "      <td>0.478059</td>\n",
       "      <td>-0.044198</td>\n",
       "      <td>-0.283355</td>\n",
       "      <td>0.192462</td>\n",
       "      <td>0.268242</td>\n",
       "      <td>...</td>\n",
       "      <td>-0.215244</td>\n",
       "      <td>0.109354</td>\n",
       "      <td>0.104412</td>\n",
       "      <td>0.100682</td>\n",
       "      <td>0.031110</td>\n",
       "      <td>0.103396</td>\n",
       "      <td>0.031015</td>\n",
       "      <td>0.251248</td>\n",
       "      <td>0.257022</td>\n",
       "      <td>0.900071</td>\n",
       "    </tr>\n",
       "    <tr>\n",
       "      <th>Pass Block</th>\n",
       "      <td>-0.019307</td>\n",
       "      <td>0.040021</td>\n",
       "      <td>-0.102617</td>\n",
       "      <td>-0.149556</td>\n",
       "      <td>0.097433</td>\n",
       "      <td>-0.086511</td>\n",
       "      <td>0.068113</td>\n",
       "      <td>-0.092711</td>\n",
       "      <td>0.061183</td>\n",
       "      <td>0.127066</td>\n",
       "      <td>...</td>\n",
       "      <td>-0.124024</td>\n",
       "      <td>0.023858</td>\n",
       "      <td>0.025838</td>\n",
       "      <td>0.026671</td>\n",
       "      <td>0.032512</td>\n",
       "      <td>0.019642</td>\n",
       "      <td>-0.187502</td>\n",
       "      <td>0.006067</td>\n",
       "      <td>0.174011</td>\n",
       "      <td>0.039588</td>\n",
       "    </tr>\n",
       "    <tr>\n",
       "      <th>Play Action</th>\n",
       "      <td>-0.076090</td>\n",
       "      <td>-0.043041</td>\n",
       "      <td>0.058197</td>\n",
       "      <td>-0.006001</td>\n",
       "      <td>-0.046310</td>\n",
       "      <td>0.128890</td>\n",
       "      <td>0.028548</td>\n",
       "      <td>-0.086026</td>\n",
       "      <td>0.006954</td>\n",
       "      <td>-0.041828</td>\n",
       "      <td>...</td>\n",
       "      <td>-0.159606</td>\n",
       "      <td>0.309646</td>\n",
       "      <td>0.265949</td>\n",
       "      <td>0.231825</td>\n",
       "      <td>-0.006162</td>\n",
       "      <td>0.921052</td>\n",
       "      <td>-0.059375</td>\n",
       "      <td>0.158467</td>\n",
       "      <td>0.018868</td>\n",
       "      <td>0.133864</td>\n",
       "    </tr>\n",
       "    <tr>\n",
       "      <th>Play Recognition</th>\n",
       "      <td>0.847928</td>\n",
       "      <td>-0.058889</td>\n",
       "      <td>-0.031161</td>\n",
       "      <td>-0.068969</td>\n",
       "      <td>0.969023</td>\n",
       "      <td>-0.288669</td>\n",
       "      <td>0.146265</td>\n",
       "      <td>0.219509</td>\n",
       "      <td>-0.074102</td>\n",
       "      <td>-0.028587</td>\n",
       "      <td>...</td>\n",
       "      <td>0.425488</td>\n",
       "      <td>-0.038380</td>\n",
       "      <td>-0.048079</td>\n",
       "      <td>-0.052648</td>\n",
       "      <td>0.007868</td>\n",
       "      <td>-0.047371</td>\n",
       "      <td>0.213262</td>\n",
       "      <td>-0.213423</td>\n",
       "      <td>0.031510</td>\n",
       "      <td>0.131835</td>\n",
       "    </tr>\n",
       "    <tr>\n",
       "      <th>Press</th>\n",
       "      <td>-0.028449</td>\n",
       "      <td>-0.114600</td>\n",
       "      <td>0.419324</td>\n",
       "      <td>0.468119</td>\n",
       "      <td>-0.185701</td>\n",
       "      <td>0.529587</td>\n",
       "      <td>-0.155652</td>\n",
       "      <td>-0.298408</td>\n",
       "      <td>0.304061</td>\n",
       "      <td>0.324150</td>\n",
       "      <td>...</td>\n",
       "      <td>-0.264005</td>\n",
       "      <td>0.149295</td>\n",
       "      <td>0.132613</td>\n",
       "      <td>0.120788</td>\n",
       "      <td>0.210105</td>\n",
       "      <td>0.260317</td>\n",
       "      <td>-0.036214</td>\n",
       "      <td>0.352353</td>\n",
       "      <td>0.240123</td>\n",
       "      <td>0.489716</td>\n",
       "    </tr>\n",
       "    <tr>\n",
       "      <th>Pursuit</th>\n",
       "      <td>0.584477</td>\n",
       "      <td>-0.069967</td>\n",
       "      <td>0.052910</td>\n",
       "      <td>0.218619</td>\n",
       "      <td>0.421517</td>\n",
       "      <td>-0.010122</td>\n",
       "      <td>-0.007556</td>\n",
       "      <td>0.374088</td>\n",
       "      <td>0.039125</td>\n",
       "      <td>0.020617</td>\n",
       "      <td>...</td>\n",
       "      <td>0.408469</td>\n",
       "      <td>-0.039420</td>\n",
       "      <td>-0.038870</td>\n",
       "      <td>-0.037567</td>\n",
       "      <td>0.059881</td>\n",
       "      <td>-0.085411</td>\n",
       "      <td>0.264374</td>\n",
       "      <td>-0.017416</td>\n",
       "      <td>-0.002669</td>\n",
       "      <td>0.154354</td>\n",
       "    </tr>\n",
       "    <tr>\n",
       "      <th>Release</th>\n",
       "      <td>-0.036323</td>\n",
       "      <td>-0.059910</td>\n",
       "      <td>0.200220</td>\n",
       "      <td>0.269628</td>\n",
       "      <td>-0.113721</td>\n",
       "      <td>0.243835</td>\n",
       "      <td>-0.048547</td>\n",
       "      <td>-0.161133</td>\n",
       "      <td>-0.023093</td>\n",
       "      <td>0.224972</td>\n",
       "      <td>...</td>\n",
       "      <td>-0.140149</td>\n",
       "      <td>-0.019342</td>\n",
       "      <td>-0.024039</td>\n",
       "      <td>-0.026452</td>\n",
       "      <td>-0.044075</td>\n",
       "      <td>-0.007214</td>\n",
       "      <td>0.018232</td>\n",
       "      <td>-0.043800</td>\n",
       "      <td>0.085279</td>\n",
       "      <td>0.292382</td>\n",
       "    </tr>\n",
       "    <tr>\n",
       "      <th>Route Running</th>\n",
       "      <td>0.018828</td>\n",
       "      <td>-0.120152</td>\n",
       "      <td>0.186814</td>\n",
       "      <td>0.164604</td>\n",
       "      <td>-0.045643</td>\n",
       "      <td>0.243998</td>\n",
       "      <td>-0.070370</td>\n",
       "      <td>-0.047004</td>\n",
       "      <td>0.027529</td>\n",
       "      <td>0.116520</td>\n",
       "      <td>...</td>\n",
       "      <td>0.031957</td>\n",
       "      <td>-0.004595</td>\n",
       "      <td>-0.003783</td>\n",
       "      <td>-0.002442</td>\n",
       "      <td>0.136954</td>\n",
       "      <td>-0.072905</td>\n",
       "      <td>0.103505</td>\n",
       "      <td>-0.053722</td>\n",
       "      <td>0.154395</td>\n",
       "      <td>0.250733</td>\n",
       "    </tr>\n",
       "    <tr>\n",
       "      <th>Run Block</th>\n",
       "      <td>0.018445</td>\n",
       "      <td>0.038102</td>\n",
       "      <td>-0.082005</td>\n",
       "      <td>-0.195692</td>\n",
       "      <td>0.151033</td>\n",
       "      <td>-0.143906</td>\n",
       "      <td>0.025629</td>\n",
       "      <td>-0.041534</td>\n",
       "      <td>0.035673</td>\n",
       "      <td>0.040215</td>\n",
       "      <td>...</td>\n",
       "      <td>-0.079066</td>\n",
       "      <td>0.013493</td>\n",
       "      <td>0.014318</td>\n",
       "      <td>0.014597</td>\n",
       "      <td>0.051767</td>\n",
       "      <td>0.013948</td>\n",
       "      <td>-0.097128</td>\n",
       "      <td>0.032499</td>\n",
       "      <td>0.102767</td>\n",
       "      <td>0.004967</td>\n",
       "    </tr>\n",
       "    <tr>\n",
       "      <th>Shuttle</th>\n",
       "      <td>-0.188769</td>\n",
       "      <td>0.576386</td>\n",
       "      <td>-0.138771</td>\n",
       "      <td>-0.096922</td>\n",
       "      <td>-0.145482</td>\n",
       "      <td>-0.096858</td>\n",
       "      <td>0.036607</td>\n",
       "      <td>-0.050286</td>\n",
       "      <td>-0.221048</td>\n",
       "      <td>-0.061883</td>\n",
       "      <td>...</td>\n",
       "      <td>-0.048439</td>\n",
       "      <td>0.068707</td>\n",
       "      <td>0.109730</td>\n",
       "      <td>0.131228</td>\n",
       "      <td>-0.022473</td>\n",
       "      <td>0.016069</td>\n",
       "      <td>-0.111205</td>\n",
       "      <td>-0.013141</td>\n",
       "      <td>-0.337227</td>\n",
       "      <td>-0.161652</td>\n",
       "    </tr>\n",
       "    <tr>\n",
       "      <th>Speed</th>\n",
       "      <td>0.160760</td>\n",
       "      <td>-0.184461</td>\n",
       "      <td>0.772374</td>\n",
       "      <td>0.715083</td>\n",
       "      <td>-0.114072</td>\n",
       "      <td>0.609325</td>\n",
       "      <td>-0.018055</td>\n",
       "      <td>-0.274336</td>\n",
       "      <td>0.253609</td>\n",
       "      <td>0.245969</td>\n",
       "      <td>...</td>\n",
       "      <td>-0.205609</td>\n",
       "      <td>0.149024</td>\n",
       "      <td>0.147601</td>\n",
       "      <td>0.145172</td>\n",
       "      <td>0.157944</td>\n",
       "      <td>0.152105</td>\n",
       "      <td>-0.093300</td>\n",
       "      <td>0.392041</td>\n",
       "      <td>0.240031</td>\n",
       "      <td>0.548510</td>\n",
       "    </tr>\n",
       "    <tr>\n",
       "      <th>Spin Move</th>\n",
       "      <td>0.047875</td>\n",
       "      <td>-0.180729</td>\n",
       "      <td>0.553773</td>\n",
       "      <td>0.591231</td>\n",
       "      <td>-0.137593</td>\n",
       "      <td>0.661566</td>\n",
       "      <td>-0.098676</td>\n",
       "      <td>-0.283730</td>\n",
       "      <td>0.229151</td>\n",
       "      <td>0.273358</td>\n",
       "      <td>...</td>\n",
       "      <td>-0.237726</td>\n",
       "      <td>0.140230</td>\n",
       "      <td>0.138193</td>\n",
       "      <td>0.135493</td>\n",
       "      <td>0.149869</td>\n",
       "      <td>0.146916</td>\n",
       "      <td>-0.112965</td>\n",
       "      <td>0.417785</td>\n",
       "      <td>0.179956</td>\n",
       "      <td>0.573807</td>\n",
       "    </tr>\n",
       "    <tr>\n",
       "      <th>Stamina</th>\n",
       "      <td>0.398373</td>\n",
       "      <td>-0.039041</td>\n",
       "      <td>0.220537</td>\n",
       "      <td>0.399423</td>\n",
       "      <td>0.211319</td>\n",
       "      <td>0.062211</td>\n",
       "      <td>0.054264</td>\n",
       "      <td>0.053087</td>\n",
       "      <td>0.047518</td>\n",
       "      <td>-0.041009</td>\n",
       "      <td>...</td>\n",
       "      <td>0.252590</td>\n",
       "      <td>-0.044523</td>\n",
       "      <td>-0.035992</td>\n",
       "      <td>-0.030142</td>\n",
       "      <td>-0.003780</td>\n",
       "      <td>-0.113405</td>\n",
       "      <td>0.294890</td>\n",
       "      <td>-0.090910</td>\n",
       "      <td>0.090278</td>\n",
       "      <td>0.331684</td>\n",
       "    </tr>\n",
       "    <tr>\n",
       "      <th>Stiff Arm</th>\n",
       "      <td>-0.112667</td>\n",
       "      <td>-0.061094</td>\n",
       "      <td>0.424344</td>\n",
       "      <td>0.390818</td>\n",
       "      <td>-0.308319</td>\n",
       "      <td>0.754645</td>\n",
       "      <td>-0.052431</td>\n",
       "      <td>-0.152155</td>\n",
       "      <td>0.219169</td>\n",
       "      <td>0.348300</td>\n",
       "      <td>...</td>\n",
       "      <td>-0.116875</td>\n",
       "      <td>0.220503</td>\n",
       "      <td>0.214599</td>\n",
       "      <td>0.209026</td>\n",
       "      <td>0.489627</td>\n",
       "      <td>0.223422</td>\n",
       "      <td>-0.035091</td>\n",
       "      <td>0.635949</td>\n",
       "      <td>0.119351</td>\n",
       "      <td>0.220442</td>\n",
       "    </tr>\n",
       "    <tr>\n",
       "      <th>Strength</th>\n",
       "      <td>0.363118</td>\n",
       "      <td>0.019313</td>\n",
       "      <td>-0.302040</td>\n",
       "      <td>-0.313640</td>\n",
       "      <td>0.368918</td>\n",
       "      <td>-0.375209</td>\n",
       "      <td>0.363255</td>\n",
       "      <td>0.505862</td>\n",
       "      <td>-0.028880</td>\n",
       "      <td>-0.110408</td>\n",
       "      <td>...</td>\n",
       "      <td>0.512594</td>\n",
       "      <td>0.026897</td>\n",
       "      <td>0.025266</td>\n",
       "      <td>0.024896</td>\n",
       "      <td>0.065071</td>\n",
       "      <td>-0.035312</td>\n",
       "      <td>0.206878</td>\n",
       "      <td>-0.244266</td>\n",
       "      <td>-0.000466</td>\n",
       "      <td>-0.412247</td>\n",
       "    </tr>\n",
       "    <tr>\n",
       "      <th>Tackle</th>\n",
       "      <td>0.489911</td>\n",
       "      <td>0.012190</td>\n",
       "      <td>-0.250375</td>\n",
       "      <td>-0.063194</td>\n",
       "      <td>0.402521</td>\n",
       "      <td>-0.293243</td>\n",
       "      <td>0.113197</td>\n",
       "      <td>0.561290</td>\n",
       "      <td>-0.063566</td>\n",
       "      <td>-0.092124</td>\n",
       "      <td>...</td>\n",
       "      <td>1.000000</td>\n",
       "      <td>-0.128165</td>\n",
       "      <td>-0.129447</td>\n",
       "      <td>-0.128066</td>\n",
       "      <td>0.032971</td>\n",
       "      <td>-0.179257</td>\n",
       "      <td>0.193462</td>\n",
       "      <td>-0.161746</td>\n",
       "      <td>-0.004514</td>\n",
       "      <td>-0.158082</td>\n",
       "    </tr>\n",
       "    <tr>\n",
       "      <th>Throw Accuracy Deep</th>\n",
       "      <td>-0.042725</td>\n",
       "      <td>-0.144131</td>\n",
       "      <td>0.068845</td>\n",
       "      <td>0.037198</td>\n",
       "      <td>-0.043737</td>\n",
       "      <td>0.163926</td>\n",
       "      <td>0.308873</td>\n",
       "      <td>0.009222</td>\n",
       "      <td>0.106012</td>\n",
       "      <td>0.093369</td>\n",
       "      <td>...</td>\n",
       "      <td>-0.128165</td>\n",
       "      <td>1.000000</td>\n",
       "      <td>0.992672</td>\n",
       "      <td>0.982153</td>\n",
       "      <td>0.403068</td>\n",
       "      <td>0.655499</td>\n",
       "      <td>0.053136</td>\n",
       "      <td>0.297754</td>\n",
       "      <td>0.081806</td>\n",
       "      <td>0.133541</td>\n",
       "    </tr>\n",
       "    <tr>\n",
       "      <th>Throw Accuracy Mid</th>\n",
       "      <td>-0.051285</td>\n",
       "      <td>-0.136088</td>\n",
       "      <td>0.070471</td>\n",
       "      <td>0.044838</td>\n",
       "      <td>-0.053645</td>\n",
       "      <td>0.158009</td>\n",
       "      <td>0.298589</td>\n",
       "      <td>0.012096</td>\n",
       "      <td>0.101721</td>\n",
       "      <td>0.096123</td>\n",
       "      <td>...</td>\n",
       "      <td>-0.129447</td>\n",
       "      <td>0.992672</td>\n",
       "      <td>1.000000</td>\n",
       "      <td>0.997658</td>\n",
       "      <td>0.400870</td>\n",
       "      <td>0.617793</td>\n",
       "      <td>0.052580</td>\n",
       "      <td>0.289887</td>\n",
       "      <td>0.077853</td>\n",
       "      <td>0.126808</td>\n",
       "    </tr>\n",
       "    <tr>\n",
       "      <th>Throw Accuracy Short</th>\n",
       "      <td>-0.054875</td>\n",
       "      <td>-0.130910</td>\n",
       "      <td>0.070498</td>\n",
       "      <td>0.048786</td>\n",
       "      <td>-0.058240</td>\n",
       "      <td>0.153019</td>\n",
       "      <td>0.291791</td>\n",
       "      <td>0.014437</td>\n",
       "      <td>0.099016</td>\n",
       "      <td>0.097660</td>\n",
       "      <td>...</td>\n",
       "      <td>-0.128066</td>\n",
       "      <td>0.982153</td>\n",
       "      <td>0.997658</td>\n",
       "      <td>1.000000</td>\n",
       "      <td>0.398341</td>\n",
       "      <td>0.586382</td>\n",
       "      <td>0.052694</td>\n",
       "      <td>0.283098</td>\n",
       "      <td>0.075292</td>\n",
       "      <td>0.121447</td>\n",
       "    </tr>\n",
       "    <tr>\n",
       "      <th>Throw Power</th>\n",
       "      <td>0.045287</td>\n",
       "      <td>-0.092537</td>\n",
       "      <td>0.141691</td>\n",
       "      <td>0.104976</td>\n",
       "      <td>-0.006402</td>\n",
       "      <td>0.300445</td>\n",
       "      <td>0.078403</td>\n",
       "      <td>0.018757</td>\n",
       "      <td>0.093355</td>\n",
       "      <td>0.278771</td>\n",
       "      <td>...</td>\n",
       "      <td>0.032971</td>\n",
       "      <td>0.403068</td>\n",
       "      <td>0.400870</td>\n",
       "      <td>0.398341</td>\n",
       "      <td>1.000000</td>\n",
       "      <td>0.160190</td>\n",
       "      <td>0.102668</td>\n",
       "      <td>0.521657</td>\n",
       "      <td>0.083323</td>\n",
       "      <td>0.001759</td>\n",
       "    </tr>\n",
       "    <tr>\n",
       "      <th>Throw on the Run</th>\n",
       "      <td>-0.077932</td>\n",
       "      <td>-0.093216</td>\n",
       "      <td>0.074418</td>\n",
       "      <td>0.010469</td>\n",
       "      <td>-0.054694</td>\n",
       "      <td>0.169508</td>\n",
       "      <td>0.149179</td>\n",
       "      <td>-0.064547</td>\n",
       "      <td>0.048943</td>\n",
       "      <td>0.005020</td>\n",
       "      <td>...</td>\n",
       "      <td>-0.179257</td>\n",
       "      <td>0.655499</td>\n",
       "      <td>0.617793</td>\n",
       "      <td>0.586382</td>\n",
       "      <td>0.160190</td>\n",
       "      <td>1.000000</td>\n",
       "      <td>-0.025395</td>\n",
       "      <td>0.247810</td>\n",
       "      <td>0.048491</td>\n",
       "      <td>0.161014</td>\n",
       "    </tr>\n",
       "    <tr>\n",
       "      <th>Toughness</th>\n",
       "      <td>0.223069</td>\n",
       "      <td>-0.172191</td>\n",
       "      <td>-0.043672</td>\n",
       "      <td>0.000571</td>\n",
       "      <td>0.196304</td>\n",
       "      <td>-0.054619</td>\n",
       "      <td>-0.001438</td>\n",
       "      <td>0.179583</td>\n",
       "      <td>0.039928</td>\n",
       "      <td>-0.078593</td>\n",
       "      <td>...</td>\n",
       "      <td>0.193462</td>\n",
       "      <td>0.053136</td>\n",
       "      <td>0.052580</td>\n",
       "      <td>0.052694</td>\n",
       "      <td>0.102668</td>\n",
       "      <td>-0.025395</td>\n",
       "      <td>1.000000</td>\n",
       "      <td>-0.081930</td>\n",
       "      <td>-0.025516</td>\n",
       "      <td>0.059999</td>\n",
       "    </tr>\n",
       "    <tr>\n",
       "      <th>Trucking</th>\n",
       "      <td>-0.172952</td>\n",
       "      <td>-0.087294</td>\n",
       "      <td>0.359804</td>\n",
       "      <td>0.257259</td>\n",
       "      <td>-0.261274</td>\n",
       "      <td>0.630423</td>\n",
       "      <td>0.029006</td>\n",
       "      <td>-0.130883</td>\n",
       "      <td>0.128764</td>\n",
       "      <td>0.290179</td>\n",
       "      <td>...</td>\n",
       "      <td>-0.161746</td>\n",
       "      <td>0.297754</td>\n",
       "      <td>0.289887</td>\n",
       "      <td>0.283098</td>\n",
       "      <td>0.521657</td>\n",
       "      <td>0.247810</td>\n",
       "      <td>-0.081930</td>\n",
       "      <td>1.000000</td>\n",
       "      <td>0.113298</td>\n",
       "      <td>0.220886</td>\n",
       "    </tr>\n",
       "    <tr>\n",
       "      <th>Vertical</th>\n",
       "      <td>0.124812</td>\n",
       "      <td>-0.221138</td>\n",
       "      <td>0.208535</td>\n",
       "      <td>0.205901</td>\n",
       "      <td>0.051841</td>\n",
       "      <td>0.207955</td>\n",
       "      <td>0.101872</td>\n",
       "      <td>-0.011205</td>\n",
       "      <td>0.699401</td>\n",
       "      <td>0.248523</td>\n",
       "      <td>...</td>\n",
       "      <td>-0.004514</td>\n",
       "      <td>0.081806</td>\n",
       "      <td>0.077853</td>\n",
       "      <td>0.075292</td>\n",
       "      <td>0.083323</td>\n",
       "      <td>0.048491</td>\n",
       "      <td>-0.025516</td>\n",
       "      <td>0.113298</td>\n",
       "      <td>1.000000</td>\n",
       "      <td>0.207767</td>\n",
       "    </tr>\n",
       "    <tr>\n",
       "      <th>Zone Coverage</th>\n",
       "      <td>0.289555</td>\n",
       "      <td>-0.150338</td>\n",
       "      <td>0.487911</td>\n",
       "      <td>0.612179</td>\n",
       "      <td>0.114612</td>\n",
       "      <td>0.433290</td>\n",
       "      <td>-0.021402</td>\n",
       "      <td>-0.250498</td>\n",
       "      <td>0.147743</td>\n",
       "      <td>0.235728</td>\n",
       "      <td>...</td>\n",
       "      <td>-0.158082</td>\n",
       "      <td>0.133541</td>\n",
       "      <td>0.126808</td>\n",
       "      <td>0.121447</td>\n",
       "      <td>0.001759</td>\n",
       "      <td>0.161014</td>\n",
       "      <td>0.059999</td>\n",
       "      <td>0.220886</td>\n",
       "      <td>0.207767</td>\n",
       "      <td>1.000000</td>\n",
       "    </tr>\n",
       "  </tbody>\n",
       "</table>\n",
       "<p>44 rows × 44 columns</p>\n",
       "</div>"
      ],
      "text/plain": [
       "                      Overall Rating     3Cone  Acceleration   Agility  \\\n",
       "Overall Rating              1.000000 -0.157052      0.178798  0.280111   \n",
       "3Cone                      -0.157052  1.000000     -0.168240 -0.167874   \n",
       "Acceleration                0.178798 -0.168240      1.000000  0.617951   \n",
       "Agility                     0.280111 -0.167874      0.617951  1.000000   \n",
       "Awareness                   0.863251 -0.086337     -0.070443 -0.080937   \n",
       "Ball Carrier Vision        -0.126898 -0.211052      0.547216  0.539342   \n",
       "Bench                       0.157002  0.117239     -0.059153 -0.095078   \n",
       "Block Shedding              0.335906 -0.163291     -0.242030 -0.188602   \n",
       "Broad Jump                  0.069879 -0.316422      0.210440  0.224773   \n",
       "Carrying                    0.010438  0.007792      0.129368  0.240211   \n",
       "Catch In Traffic           -0.032117 -0.272359      0.321838  0.391892   \n",
       "Catching                   -0.003317 -0.164944      0.333943  0.439769   \n",
       "Elusiveness                 0.041854 -0.213845      0.406686  0.563131   \n",
       "Finesse Moves               0.419069 -0.184929      0.394048  0.607435   \n",
       "Hit Power                  -0.057496 -0.068668      0.277412  0.262907   \n",
       "Impact Blocking             0.147128 -0.158759      0.343190  0.140838   \n",
       "Injury                      0.161230  0.002919     -0.022296 -0.005307   \n",
       "Juke Move                  -0.030544 -0.205929      0.528965  0.588367   \n",
       "Jumping                    -0.039711 -0.073719      0.548138  0.514044   \n",
       "Man Coverage                0.177118 -0.217281      0.535122  0.622020   \n",
       "Pass Block                 -0.019307  0.040021     -0.102617 -0.149556   \n",
       "Play Action                -0.076090 -0.043041      0.058197 -0.006001   \n",
       "Play Recognition            0.847928 -0.058889     -0.031161 -0.068969   \n",
       "Press                      -0.028449 -0.114600      0.419324  0.468119   \n",
       "Pursuit                     0.584477 -0.069967      0.052910  0.218619   \n",
       "Release                    -0.036323 -0.059910      0.200220  0.269628   \n",
       "Route Running               0.018828 -0.120152      0.186814  0.164604   \n",
       "Run Block                   0.018445  0.038102     -0.082005 -0.195692   \n",
       "Shuttle                    -0.188769  0.576386     -0.138771 -0.096922   \n",
       "Speed                       0.160760 -0.184461      0.772374  0.715083   \n",
       "Spin Move                   0.047875 -0.180729      0.553773  0.591231   \n",
       "Stamina                     0.398373 -0.039041      0.220537  0.399423   \n",
       "Stiff Arm                  -0.112667 -0.061094      0.424344  0.390818   \n",
       "Strength                    0.363118  0.019313     -0.302040 -0.313640   \n",
       "Tackle                      0.489911  0.012190     -0.250375 -0.063194   \n",
       "Throw Accuracy Deep        -0.042725 -0.144131      0.068845  0.037198   \n",
       "Throw Accuracy Mid         -0.051285 -0.136088      0.070471  0.044838   \n",
       "Throw Accuracy Short       -0.054875 -0.130910      0.070498  0.048786   \n",
       "Throw Power                 0.045287 -0.092537      0.141691  0.104976   \n",
       "Throw on the Run           -0.077932 -0.093216      0.074418  0.010469   \n",
       "Toughness                   0.223069 -0.172191     -0.043672  0.000571   \n",
       "Trucking                   -0.172952 -0.087294      0.359804  0.257259   \n",
       "Vertical                    0.124812 -0.221138      0.208535  0.205901   \n",
       "Zone Coverage               0.289555 -0.150338      0.487911  0.612179   \n",
       "\n",
       "                      Awareness  Ball Carrier Vision     Bench  \\\n",
       "Overall Rating         0.863251            -0.126898  0.157002   \n",
       "3Cone                 -0.086337            -0.211052  0.117239   \n",
       "Acceleration          -0.070443             0.547216 -0.059153   \n",
       "Agility               -0.080937             0.539342 -0.095078   \n",
       "Awareness              1.000000            -0.325193  0.174292   \n",
       "Ball Carrier Vision   -0.325193             1.000000 -0.124571   \n",
       "Bench                  0.174292            -0.124571  1.000000   \n",
       "Block Shedding         0.228633            -0.264775  0.127376   \n",
       "Broad Jump            -0.044135             0.264745 -0.067359   \n",
       "Carrying              -0.051948             0.355757  0.045334   \n",
       "Catch In Traffic      -0.197956             0.535530 -0.082997   \n",
       "Catching              -0.165673             0.508223  0.025069   \n",
       "Elusiveness           -0.118953             0.640373 -0.146218   \n",
       "Finesse Moves          0.158604             0.306609 -0.012564   \n",
       "Hit Power             -0.220215             0.376275 -0.026750   \n",
       "Impact Blocking        0.091012             0.216197  0.026750   \n",
       "Injury                 0.118043             0.023299 -0.062612   \n",
       "Juke Move             -0.246656             0.695312 -0.137030   \n",
       "Jumping               -0.247996             0.542046  0.027863   \n",
       "Man Coverage          -0.005969             0.478059 -0.044198   \n",
       "Pass Block             0.097433            -0.086511  0.068113   \n",
       "Play Action           -0.046310             0.128890  0.028548   \n",
       "Play Recognition       0.969023            -0.288669  0.146265   \n",
       "Press                 -0.185701             0.529587 -0.155652   \n",
       "Pursuit                0.421517            -0.010122 -0.007556   \n",
       "Release               -0.113721             0.243835 -0.048547   \n",
       "Route Running         -0.045643             0.243998 -0.070370   \n",
       "Run Block              0.151033            -0.143906  0.025629   \n",
       "Shuttle               -0.145482            -0.096858  0.036607   \n",
       "Speed                 -0.114072             0.609325 -0.018055   \n",
       "Spin Move             -0.137593             0.661566 -0.098676   \n",
       "Stamina                0.211319             0.062211  0.054264   \n",
       "Stiff Arm             -0.308319             0.754645 -0.052431   \n",
       "Strength               0.368918            -0.375209  0.363255   \n",
       "Tackle                 0.402521            -0.293243  0.113197   \n",
       "Throw Accuracy Deep   -0.043737             0.163926  0.308873   \n",
       "Throw Accuracy Mid    -0.053645             0.158009  0.298589   \n",
       "Throw Accuracy Short  -0.058240             0.153019  0.291791   \n",
       "Throw Power           -0.006402             0.300445  0.078403   \n",
       "Throw on the Run      -0.054694             0.169508  0.149179   \n",
       "Toughness              0.196304            -0.054619 -0.001438   \n",
       "Trucking              -0.261274             0.630423  0.029006   \n",
       "Vertical               0.051841             0.207955  0.101872   \n",
       "Zone Coverage          0.114612             0.433290 -0.021402   \n",
       "\n",
       "                      Block Shedding  Broad Jump  Carrying      ...        \\\n",
       "Overall Rating              0.335906    0.069879  0.010438      ...         \n",
       "3Cone                      -0.163291   -0.316422  0.007792      ...         \n",
       "Acceleration               -0.242030    0.210440  0.129368      ...         \n",
       "Agility                    -0.188602    0.224773  0.240211      ...         \n",
       "Awareness                   0.228633   -0.044135 -0.051948      ...         \n",
       "Ball Carrier Vision        -0.264775    0.264745  0.355757      ...         \n",
       "Bench                       0.127376   -0.067359  0.045334      ...         \n",
       "Block Shedding              1.000000    0.003997 -0.184211      ...         \n",
       "Broad Jump                  0.003997    1.000000  0.136696      ...         \n",
       "Carrying                   -0.184211    0.136696  1.000000      ...         \n",
       "Catch In Traffic           -0.047870    0.089965  0.249760      ...         \n",
       "Catching                   -0.183475    0.144638  0.565349      ...         \n",
       "Elusiveness                -0.304966    0.338279  0.176092      ...         \n",
       "Finesse Moves              -0.157458    0.169781  0.110265      ...         \n",
       "Hit Power                   0.041340    0.033400  0.116886      ...         \n",
       "Impact Blocking             0.182630    0.104172 -0.045379      ...         \n",
       "Injury                      0.109745   -0.050342 -0.123597      ...         \n",
       "Juke Move                  -0.268473    0.201820  0.228412      ...         \n",
       "Jumping                    -0.158864    0.237351  0.304711      ...         \n",
       "Man Coverage               -0.283355    0.192462  0.268242      ...         \n",
       "Pass Block                 -0.092711    0.061183  0.127066      ...         \n",
       "Play Action                -0.086026    0.006954 -0.041828      ...         \n",
       "Play Recognition            0.219509   -0.074102 -0.028587      ...         \n",
       "Press                      -0.298408    0.304061  0.324150      ...         \n",
       "Pursuit                     0.374088    0.039125  0.020617      ...         \n",
       "Release                    -0.161133   -0.023093  0.224972      ...         \n",
       "Route Running              -0.047004    0.027529  0.116520      ...         \n",
       "Run Block                  -0.041534    0.035673  0.040215      ...         \n",
       "Shuttle                    -0.050286   -0.221048 -0.061883      ...         \n",
       "Speed                      -0.274336    0.253609  0.245969      ...         \n",
       "Spin Move                  -0.283730    0.229151  0.273358      ...         \n",
       "Stamina                     0.053087    0.047518 -0.041009      ...         \n",
       "Stiff Arm                  -0.152155    0.219169  0.348300      ...         \n",
       "Strength                    0.505862   -0.028880 -0.110408      ...         \n",
       "Tackle                      0.561290   -0.063566 -0.092124      ...         \n",
       "Throw Accuracy Deep         0.009222    0.106012  0.093369      ...         \n",
       "Throw Accuracy Mid          0.012096    0.101721  0.096123      ...         \n",
       "Throw Accuracy Short        0.014437    0.099016  0.097660      ...         \n",
       "Throw Power                 0.018757    0.093355  0.278771      ...         \n",
       "Throw on the Run           -0.064547    0.048943  0.005020      ...         \n",
       "Toughness                   0.179583    0.039928 -0.078593      ...         \n",
       "Trucking                   -0.130883    0.128764  0.290179      ...         \n",
       "Vertical                   -0.011205    0.699401  0.248523      ...         \n",
       "Zone Coverage              -0.250498    0.147743  0.235728      ...         \n",
       "\n",
       "                        Tackle  Throw Accuracy Deep  Throw Accuracy Mid  \\\n",
       "Overall Rating        0.489911            -0.042725           -0.051285   \n",
       "3Cone                 0.012190            -0.144131           -0.136088   \n",
       "Acceleration         -0.250375             0.068845            0.070471   \n",
       "Agility              -0.063194             0.037198            0.044838   \n",
       "Awareness             0.402521            -0.043737           -0.053645   \n",
       "Ball Carrier Vision  -0.293243             0.163926            0.158009   \n",
       "Bench                 0.113197             0.308873            0.298589   \n",
       "Block Shedding        0.561290             0.009222            0.012096   \n",
       "Broad Jump           -0.063566             0.106012            0.101721   \n",
       "Carrying             -0.092124             0.093369            0.096123   \n",
       "Catch In Traffic     -0.084912             0.201653            0.220047   \n",
       "Catching             -0.206276             0.221674            0.213069   \n",
       "Elusiveness          -0.206448             0.025000            0.033894   \n",
       "Finesse Moves        -0.078897            -0.039781           -0.050830   \n",
       "Hit Power             0.017357             0.050568            0.046315   \n",
       "Impact Blocking       0.183643             0.028531            0.033079   \n",
       "Injury                0.188392            -0.076807           -0.073179   \n",
       "Juke Move            -0.301112             0.158221            0.158261   \n",
       "Jumping              -0.211393             0.081801            0.083762   \n",
       "Man Coverage         -0.215244             0.109354            0.104412   \n",
       "Pass Block           -0.124024             0.023858            0.025838   \n",
       "Play Action          -0.159606             0.309646            0.265949   \n",
       "Play Recognition      0.425488            -0.038380           -0.048079   \n",
       "Press                -0.264005             0.149295            0.132613   \n",
       "Pursuit               0.408469            -0.039420           -0.038870   \n",
       "Release              -0.140149            -0.019342           -0.024039   \n",
       "Route Running         0.031957            -0.004595           -0.003783   \n",
       "Run Block            -0.079066             0.013493            0.014318   \n",
       "Shuttle              -0.048439             0.068707            0.109730   \n",
       "Speed                -0.205609             0.149024            0.147601   \n",
       "Spin Move            -0.237726             0.140230            0.138193   \n",
       "Stamina               0.252590            -0.044523           -0.035992   \n",
       "Stiff Arm            -0.116875             0.220503            0.214599   \n",
       "Strength              0.512594             0.026897            0.025266   \n",
       "Tackle                1.000000            -0.128165           -0.129447   \n",
       "Throw Accuracy Deep  -0.128165             1.000000            0.992672   \n",
       "Throw Accuracy Mid   -0.129447             0.992672            1.000000   \n",
       "Throw Accuracy Short -0.128066             0.982153            0.997658   \n",
       "Throw Power           0.032971             0.403068            0.400870   \n",
       "Throw on the Run     -0.179257             0.655499            0.617793   \n",
       "Toughness             0.193462             0.053136            0.052580   \n",
       "Trucking             -0.161746             0.297754            0.289887   \n",
       "Vertical             -0.004514             0.081806            0.077853   \n",
       "Zone Coverage        -0.158082             0.133541            0.126808   \n",
       "\n",
       "                      Throw Accuracy Short  Throw Power  Throw on the Run  \\\n",
       "Overall Rating                   -0.054875     0.045287         -0.077932   \n",
       "3Cone                            -0.130910    -0.092537         -0.093216   \n",
       "Acceleration                      0.070498     0.141691          0.074418   \n",
       "Agility                           0.048786     0.104976          0.010469   \n",
       "Awareness                        -0.058240    -0.006402         -0.054694   \n",
       "Ball Carrier Vision               0.153019     0.300445          0.169508   \n",
       "Bench                             0.291791     0.078403          0.149179   \n",
       "Block Shedding                    0.014437     0.018757         -0.064547   \n",
       "Broad Jump                        0.099016     0.093355          0.048943   \n",
       "Carrying                          0.097660     0.278771          0.005020   \n",
       "Catch In Traffic                  0.229495     0.170804          0.044109   \n",
       "Catching                          0.206224     0.258591          0.211867   \n",
       "Elusiveness                       0.039080     0.069944         -0.036771   \n",
       "Finesse Moves                    -0.056656    -0.009424         -0.004225   \n",
       "Hit Power                         0.042926     0.127673          0.097611   \n",
       "Impact Blocking                   0.035078     0.143590          0.034896   \n",
       "Injury                           -0.069818     0.078097         -0.124746   \n",
       "Juke Move                         0.156535     0.115476          0.158613   \n",
       "Jumping                           0.083983     0.176498          0.074782   \n",
       "Man Coverage                      0.100682     0.031110          0.103396   \n",
       "Pass Block                        0.026671     0.032512          0.019642   \n",
       "Play Action                       0.231825    -0.006162          0.921052   \n",
       "Play Recognition                 -0.052648     0.007868         -0.047371   \n",
       "Press                             0.120788     0.210105          0.260317   \n",
       "Pursuit                          -0.037567     0.059881         -0.085411   \n",
       "Release                          -0.026452    -0.044075         -0.007214   \n",
       "Route Running                    -0.002442     0.136954         -0.072905   \n",
       "Run Block                         0.014597     0.051767          0.013948   \n",
       "Shuttle                           0.131228    -0.022473          0.016069   \n",
       "Speed                             0.145172     0.157944          0.152105   \n",
       "Spin Move                         0.135493     0.149869          0.146916   \n",
       "Stamina                          -0.030142    -0.003780         -0.113405   \n",
       "Stiff Arm                         0.209026     0.489627          0.223422   \n",
       "Strength                          0.024896     0.065071         -0.035312   \n",
       "Tackle                           -0.128066     0.032971         -0.179257   \n",
       "Throw Accuracy Deep               0.982153     0.403068          0.655499   \n",
       "Throw Accuracy Mid                0.997658     0.400870          0.617793   \n",
       "Throw Accuracy Short              1.000000     0.398341          0.586382   \n",
       "Throw Power                       0.398341     1.000000          0.160190   \n",
       "Throw on the Run                  0.586382     0.160190          1.000000   \n",
       "Toughness                         0.052694     0.102668         -0.025395   \n",
       "Trucking                          0.283098     0.521657          0.247810   \n",
       "Vertical                          0.075292     0.083323          0.048491   \n",
       "Zone Coverage                     0.121447     0.001759          0.161014   \n",
       "\n",
       "                      Toughness  Trucking  Vertical  Zone Coverage  \n",
       "Overall Rating         0.223069 -0.172952  0.124812       0.289555  \n",
       "3Cone                 -0.172191 -0.087294 -0.221138      -0.150338  \n",
       "Acceleration          -0.043672  0.359804  0.208535       0.487911  \n",
       "Agility                0.000571  0.257259  0.205901       0.612179  \n",
       "Awareness              0.196304 -0.261274  0.051841       0.114612  \n",
       "Ball Carrier Vision   -0.054619  0.630423  0.207955       0.433290  \n",
       "Bench                 -0.001438  0.029006  0.101872      -0.021402  \n",
       "Block Shedding         0.179583 -0.130883 -0.011205      -0.250498  \n",
       "Broad Jump             0.039928  0.128764  0.699401       0.147743  \n",
       "Carrying              -0.078593  0.290179  0.248523       0.235728  \n",
       "Catch In Traffic       0.077823  0.211520  0.157741       0.382350  \n",
       "Catching              -0.052997  0.299179  0.202970       0.437327  \n",
       "Elusiveness            0.091125  0.279448  0.251976       0.479408  \n",
       "Finesse Moves          0.061802  0.033037  0.141008       0.505745  \n",
       "Hit Power             -0.016423  0.254302  0.056806       0.139347  \n",
       "Impact Blocking        0.009389  0.212350  0.054427       0.011286  \n",
       "Injury                 0.130088  0.004011 -0.180236      -0.095822  \n",
       "Juke Move             -0.003478  0.354366  0.103668       0.545182  \n",
       "Jumping               -0.185878  0.424331  0.335091       0.337620  \n",
       "Man Coverage           0.031015  0.251248  0.257022       0.900071  \n",
       "Pass Block            -0.187502  0.006067  0.174011       0.039588  \n",
       "Play Action           -0.059375  0.158467  0.018868       0.133864  \n",
       "Play Recognition       0.213262 -0.213423  0.031510       0.131835  \n",
       "Press                 -0.036214  0.352353  0.240123       0.489716  \n",
       "Pursuit                0.264374 -0.017416 -0.002669       0.154354  \n",
       "Release                0.018232 -0.043800  0.085279       0.292382  \n",
       "Route Running          0.103505 -0.053722  0.154395       0.250733  \n",
       "Run Block             -0.097128  0.032499  0.102767       0.004967  \n",
       "Shuttle               -0.111205 -0.013141 -0.337227      -0.161652  \n",
       "Speed                 -0.093300  0.392041  0.240031       0.548510  \n",
       "Spin Move             -0.112965  0.417785  0.179956       0.573807  \n",
       "Stamina                0.294890 -0.090910  0.090278       0.331684  \n",
       "Stiff Arm             -0.035091  0.635949  0.119351       0.220442  \n",
       "Strength               0.206878 -0.244266 -0.000466      -0.412247  \n",
       "Tackle                 0.193462 -0.161746 -0.004514      -0.158082  \n",
       "Throw Accuracy Deep    0.053136  0.297754  0.081806       0.133541  \n",
       "Throw Accuracy Mid     0.052580  0.289887  0.077853       0.126808  \n",
       "Throw Accuracy Short   0.052694  0.283098  0.075292       0.121447  \n",
       "Throw Power            0.102668  0.521657  0.083323       0.001759  \n",
       "Throw on the Run      -0.025395  0.247810  0.048491       0.161014  \n",
       "Toughness              1.000000 -0.081930 -0.025516       0.059999  \n",
       "Trucking              -0.081930  1.000000  0.113298       0.220886  \n",
       "Vertical              -0.025516  0.113298  1.000000       0.207767  \n",
       "Zone Coverage          0.059999  0.220886  0.207767       1.000000  \n",
       "\n",
       "[44 rows x 44 columns]"
      ]
     },
     "execution_count": 9,
     "metadata": {},
     "output_type": "execute_result"
    }
   ],
   "source": [
    "re1.corr()"
   ]
  },
  {
   "cell_type": "code",
   "execution_count": 11,
   "metadata": {},
   "outputs": [],
   "source": [
    "recorr = re1.corr()"
   ]
  },
  {
   "cell_type": "code",
   "execution_count": 12,
   "metadata": {},
   "outputs": [],
   "source": [
    "##Now we are going to find the significant variables for the right end position\n",
    "resigpos = recorr[recorr['Overall Rating'] >= 0.50]"
   ]
  },
  {
   "cell_type": "code",
   "execution_count": 13,
   "metadata": {},
   "outputs": [],
   "source": [
    "resigneg = recorr[recorr['Overall Rating'] <= - 0.50]"
   ]
  },
  {
   "cell_type": "code",
   "execution_count": 14,
   "metadata": {},
   "outputs": [
    {
     "name": "stdout",
     "output_type": "stream",
     "text": [
      "Overall Rating      1.000000\n",
      "Awareness           0.863251\n",
      "Play Recognition    0.847928\n",
      "Pursuit             0.584477\n",
      "Name: Overall Rating, dtype: float64\n"
     ]
    }
   ],
   "source": [
    "print(resigpos['Overall Rating'])"
   ]
  },
  {
   "cell_type": "code",
   "execution_count": 15,
   "metadata": {},
   "outputs": [
    {
     "name": "stdout",
     "output_type": "stream",
     "text": [
      "Series([], Name: Overall Rating, dtype: float64)\n"
     ]
    }
   ],
   "source": [
    "#This position actually has a negative correlation.  The better a player is at pass blocking, the worse they are at the position\n",
    "print(resigneg['Overall Rating'])"
   ]
  },
  {
   "cell_type": "code",
   "execution_count": 16,
   "metadata": {},
   "outputs": [],
   "source": [
    "resig = re[['Awareness', 'Play Recognition', 'Pursuit']]"
   ]
  },
  {
   "cell_type": "code",
   "execution_count": 17,
   "metadata": {},
   "outputs": [
    {
     "data": {
      "text/plain": [
       "const               238.934590\n",
       "Awareness            16.641960\n",
       "Play Recognition     17.409696\n",
       "Pursuit               1.291354\n",
       "dtype: float64"
      ]
     },
     "execution_count": 17,
     "metadata": {},
     "output_type": "execute_result"
    }
   ],
   "source": [
    "#Let's start doing some vif testing to eliminate any multicollinearity from the model.  We will also add a constant\n",
    "resig = re[['Awareness', 'Play Recognition', 'Pursuit']]\n",
    "X = add_constant(resig)\n",
    "pd.Series([variance_inflation_factor(X.values, i)\n",
    "          for i in range(X.shape[1])],\n",
    "         index=X.columns)\n",
    "#It looks like we will start by removing play recognition"
   ]
  },
  {
   "cell_type": "code",
   "execution_count": 19,
   "metadata": {},
   "outputs": [
    {
     "data": {
      "text/plain": [
       "const        228.826738\n",
       "Awareness      1.216066\n",
       "Pursuit        1.216066\n",
       "dtype: float64"
      ]
     },
     "execution_count": 19,
     "metadata": {},
     "output_type": "execute_result"
    }
   ],
   "source": [
    "resig1 = re[['Awareness', 'Pursuit']]\n",
    "X = add_constant(resig1)\n",
    "pd.Series([variance_inflation_factor(X.values, i)\n",
    "          for i in range(X.shape[1])],\n",
    "         index=X.columns)\n",
    "#Now that all of our VIF scores are below 5, we can move on to statistical testing"
   ]
  },
  {
   "cell_type": "code",
   "execution_count": 21,
   "metadata": {},
   "outputs": [
    {
     "name": "stdout",
     "output_type": "stream",
     "text": [
      "                            OLS Regression Results                            \n",
      "==============================================================================\n",
      "Dep. Variable:         Overall Rating   R-squared:                       0.997\n",
      "Model:                            OLS   Adj. R-squared:                  0.997\n",
      "Method:                 Least Squares   F-statistic:                 3.001e+04\n",
      "Date:                Fri, 20 Jul 2018   Prob (F-statistic):          9.40e-207\n",
      "Time:                        23:25:18   Log-Likelihood:                -443.81\n",
      "No. Observations:                 162   AIC:                             891.6\n",
      "Df Residuals:                     160   BIC:                             897.8\n",
      "Df Model:                           2                                         \n",
      "Covariance Type:            nonrobust                                         \n",
      "==============================================================================\n",
      "                 coef    std err          t      P>|t|      [0.025      0.975]\n",
      "------------------------------------------------------------------------------\n",
      "Awareness      0.4869      0.025     19.382      0.000       0.437       0.537\n",
      "Pursuit        0.4882      0.022     21.851      0.000       0.444       0.532\n",
      "==============================================================================\n",
      "Omnibus:                        3.535   Durbin-Watson:                   2.011\n",
      "Prob(Omnibus):                  0.171   Jarque-Bera (JB):                3.493\n",
      "Skew:                           0.179   Prob(JB):                        0.174\n",
      "Kurtosis:                       3.624   Cond. No.                         11.9\n",
      "==============================================================================\n",
      "\n",
      "Warnings:\n",
      "[1] Standard Errors assume that the covariance matrix of the errors is correctly specified.\n"
     ]
    }
   ],
   "source": [
    "RE = sm.OLS(re['Overall Rating'], resig1).fit()\n",
    "print(RE.summary())\n",
    "#It looks like all of our variables are significant"
   ]
  },
  {
   "cell_type": "code",
   "execution_count": 22,
   "metadata": {},
   "outputs": [],
   "source": [
    "def model():\n",
    "    pv = 0.4869*re['Awareness'] + 0.4882*re['Pursuit']\n",
    "    return pv"
   ]
  },
  {
   "cell_type": "code",
   "execution_count": 24,
   "metadata": {},
   "outputs": [],
   "source": [
    "re['Predicted Value'] = model()\n",
    "re['Residual'] = re['Predicted Value'] - re['Overall Rating']"
   ]
  },
  {
   "cell_type": "code",
   "execution_count": 25,
   "metadata": {},
   "outputs": [
    {
     "data": {
      "image/png": "[encoded data removed]",
      "text/plain": [
       "<matplotlib.figure.Figure at 0x2076f284e48>"
      ]
     },
     "metadata": {},
     "output_type": "display_data"
    }
   ],
   "source": [
    "plt.hist(re['Residual'])\n",
    "plt.xlabel('Residual')\n",
    "plt.ylabel('Count')\n",
    "plt.show()"
   ]
  },
  {
   "cell_type": "code",
   "execution_count": 26,
   "metadata": {},
   "outputs": [
    {
     "data": {
      "image/png": "[encoded data removed]",
      "text/plain": [
       "<matplotlib.figure.Figure at 0x2076f2840f0>"
      ]
     },
     "metadata": {},
     "output_type": "display_data"
    }
   ],
   "source": [
    "stats.probplot(re['Residual'], plot=plt)\n",
    "plt.show()\n",
    "#There does not appear to be any outliers in the residuals"
   ]
  },
  {
   "cell_type": "code",
   "execution_count": 27,
   "metadata": {},
   "outputs": [
    {
     "data": {
      "image/png": "[encoded data removed]",
      "text/plain": [
       "<matplotlib.figure.Figure at 0x2076f4284e0>"
      ]
     },
     "execution_count": 27,
     "metadata": {},
     "output_type": "execute_result"
    },
    {
     "data": {
      "image/png": "[encoded data removed]",
      "text/plain": [
       "<matplotlib.figure.Figure at 0x2076f428978>"
      ]
     },
     "metadata": {},
     "output_type": "display_data"
    },
    {
     "data": {
      "image/png": "[encoded data removed]",
      "text/plain": [
       "<matplotlib.figure.Figure at 0x2076f4284e0>"
      ]
     },
     "metadata": {},
     "output_type": "display_data"
    }
   ],
   "source": [
    "from statsmodels.graphics.regressionplots import *\n",
    "plot_leverage_resid2(RE)\n",
    "influence_plot(RE)\n",
    "#There are some points with high residuals but they seem to be haivng a low amount of leverage"
   ]
  },
  {
   "cell_type": "code",
   "execution_count": 28,
   "metadata": {},
   "outputs": [
    {
     "data": {
      "image/png": "[encoded data removed]",
      "text/plain": [
       "<matplotlib.figure.Figure at 0x2076f4a76d8>"
      ]
     },
     "execution_count": 28,
     "metadata": {},
     "output_type": "execute_result"
    },
    {
     "data": {
      "image/png": "[encoded data removed]",
      "text/plain": [
       "<matplotlib.figure.Figure at 0x2076f4a76d8>"
      ]
     },
     "metadata": {},
     "output_type": "display_data"
    }
   ],
   "source": [
    "recorr1 = re[['Overall Rating', 'Awareness', 'Pursuit']].corr()\n",
    "plot_acf(recorr1['Overall Rating'])\n",
    "#there does not appear to be any autocorrelation looking at the plot below\n",
    "#There is also a Durbin-Watson correlation of 2.011, which indicates no significant autocoreelation"
   ]
  },
  {
   "cell_type": "code",
   "execution_count": 29,
   "metadata": {},
   "outputs": [
    {
     "data": {
      "text/plain": [
       "(45.034549411321926,\n",
       " 1.9358864948542495e-11,\n",
       " 30.80194993285044,\n",
       " 4.823993265667228e-12)"
      ]
     },
     "execution_count": 29,
     "metadata": {},
     "output_type": "execute_result"
    }
   ],
   "source": [
    "#Finally, we check for homoskedasticity\n",
    "het_breuschpagan(re['Residual'], resig1)\n",
    "#Due to the low p-values, we can reject the null that there is homoskedasticity in the data"
   ]
  },
  {
   "cell_type": "code",
   "execution_count": 32,
   "metadata": {},
   "outputs": [],
   "source": [
    "X_train, X_test, y_train, y_test = train_test_split(resig1, re['Overall Rating'], test_size = 0.3, random_state =42)"
   ]
  },
  {
   "cell_type": "code",
   "execution_count": 31,
   "metadata": {},
   "outputs": [],
   "source": [
    "reg=LinearRegression()"
   ]
  },
  {
   "cell_type": "code",
   "execution_count": 33,
   "metadata": {},
   "outputs": [
    {
     "data": {
      "text/plain": [
       "LinearRegression(copy_X=True, fit_intercept=True, n_jobs=1, normalize=False)"
      ]
     },
     "execution_count": 33,
     "metadata": {},
     "output_type": "execute_result"
    }
   ],
   "source": [
    "reg.fit(X_train, y_train)"
   ]
  },
  {
   "cell_type": "code",
   "execution_count": 34,
   "metadata": {},
   "outputs": [],
   "source": [
    "cbcv = cross_val_score(reg, resig1, re['Overall Rating'], cv=5)"
   ]
  },
  {
   "cell_type": "code",
   "execution_count": 35,
   "metadata": {},
   "outputs": [],
   "source": [
    "cbcv_mean = np.mean(cbcv)"
   ]
  },
  {
   "cell_type": "code",
   "execution_count": 36,
   "metadata": {},
   "outputs": [
    {
     "name": "stdout",
     "output_type": "stream",
     "text": [
      "[0.78644131 0.77921176 0.810234   0.77341982 0.76005284] 0.7818719455064251\n"
     ]
    }
   ],
   "source": [
    "print(cbcv, cbcv_mean)\n",
    "#it looks like the model did a good job of explaining the variation in the data.  It explained 78.19% of the variation"
   ]
  },
  {
   "cell_type": "code",
   "execution_count": 38,
   "metadata": {},
   "outputs": [],
   "source": [
    "redesc = re[['Overall Rating', 'Awareness', 'Pursuit']]\n",
    "redesc1 = redesc.describe()\n",
    "redesc1.to_csv('C:\\\\Users\\\\tilleymusprime\\\\Desktop\\\\redesc1.csv')"
   ]
  },
  {
   "cell_type": "code",
   "execution_count": null,
   "metadata": {},
   "outputs": [],
   "source": []
  },
  {
   "cell_type": "code",
   "execution_count": null,
   "metadata": {},
   "outputs": [],
   "source": []
  },
  {
   "cell_type": "code",
   "execution_count": null,
   "metadata": {},
   "outputs": [],
   "source": []
  },
  {
   "cell_type": "code",
   "execution_count": null,
   "metadata": {},
   "outputs": [],
   "source": []
  },
  {
   "cell_type": "code",
   "execution_count": null,
   "metadata": {},
   "outputs": [],
   "source": []
  },
  {
   "cell_type": "code",
   "execution_count": null,
   "metadata": {},
   "outputs": [],
   "source": []
  },
  {
   "cell_type": "code",
   "execution_count": null,
   "metadata": {},
   "outputs": [],
   "source": []
  },
  {
   "cell_type": "code",
   "execution_count": null,
   "metadata": {},
   "outputs": [],
   "source": []
  },
  {
   "cell_type": "code",
   "execution_count": null,
   "metadata": {},
   "outputs": [],
   "source": []
  },
  {
   "cell_type": "code",
   "execution_count": null,
   "metadata": {},
   "outputs": [],
   "source": []
  },
  {
   "cell_type": "code",
   "execution_count": null,
   "metadata": {},
   "outputs": [],
   "source": []
  },
  {
   "cell_type": "code",
   "execution_count": null,
   "metadata": {},
   "outputs": [],
   "source": []
  },
  {
   "cell_type": "code",
   "execution_count": null,
   "metadata": {},
   "outputs": [],
   "source": []
  },
  {
   "cell_type": "code",
   "execution_count": null,
   "metadata": {},
   "outputs": [],
   "source": []
  },
  {
   "cell_type": "code",
   "execution_count": null,
   "metadata": {},
   "outputs": [],
   "source": []
  },
  {
   "cell_type": "code",
   "execution_count": null,
   "metadata": {},
   "outputs": [],
   "source": []
  },
  {
   "cell_type": "code",
   "execution_count": null,
   "metadata": {},
   "outputs": [],
   "source": []
  },
  {
   "cell_type": "code",
   "execution_count": null,
   "metadata": {},
   "outputs": [],
   "source": []
  },
  {
   "cell_type": "code",
   "execution_count": null,
   "metadata": {},
   "outputs": [],
   "source": []
  },
  {
   "cell_type": "code",
   "execution_count": null,
   "metadata": {},
   "outputs": [],
   "source": []
  },
  {
   "cell_type": "code",
   "execution_count": null,
   "metadata": {},
   "outputs": [],
   "source": []
  },
  {
   "cell_type": "code",
   "execution_count": null,
   "metadata": {},
   "outputs": [],
   "source": []
  },
  {
   "cell_type": "code",
   "execution_count": null,
   "metadata": {},
   "outputs": [],
   "source": []
  },
  {
   "cell_type": "code",
   "execution_count": null,
   "metadata": {},
   "outputs": [],
   "source": []
  },
  {
   "cell_type": "code",
   "execution_count": null,
   "metadata": {},
   "outputs": [],
   "source": []
  },
  {
   "cell_type": "code",
   "execution_count": null,
   "metadata": {},
   "outputs": [],
   "source": []
  },
  {
   "cell_type": "code",
   "execution_count": null,
   "metadata": {},
   "outputs": [],
   "source": []
  },
  {
   "cell_type": "code",
   "execution_count": null,
   "metadata": {},
   "outputs": [],
   "source": []
  },
  {
   "cell_type": "code",
   "execution_count": null,
   "metadata": {},
   "outputs": [],
   "source": []
  },
  {
   "cell_type": "code",
   "execution_count": null,
   "metadata": {},
   "outputs": [],
   "source": []
  },
  {
   "cell_type": "code",
   "execution_count": 58,
   "metadata": {},
   "outputs": [],
   "source": [
    "RE = sm.OLS(re['Overall Rating'], resig23).fit()"
   ]
  },
  {
   "cell_type": "code",
   "execution_count": 59,
   "metadata": {},
   "outputs": [
    {
     "name": "stdout",
     "output_type": "stream",
     "text": [
      "                            OLS Regression Results                            \n",
      "==============================================================================\n",
      "Dep. Variable:         Overall Rating   R-squared:                       0.999\n",
      "Model:                            OLS   Adj. R-squared:                  0.999\n",
      "Method:                 Least Squares   F-statistic:                 1.954e+04\n",
      "Date:                Wed, 18 Jul 2018   Prob (F-statistic):               0.00\n",
      "Time:                        13:22:51   Log-Likelihood:                -653.98\n",
      "No. Observations:                 267   AIC:                             1328.\n",
      "Df Residuals:                     257   BIC:                             1364.\n",
      "Df Model:                          10                                         \n",
      "Covariance Type:            nonrobust                                         \n",
      "===========================================================================================\n",
      "                              coef    std err          t      P>|t|      [0.025      0.975]\n",
      "-------------------------------------------------------------------------------------------\n",
      "Awareness                   0.4871      0.021     22.860      0.000       0.445       0.529\n",
      "Block Shedding              0.0547      0.045      1.221      0.223      -0.033       0.143\n",
      "Pursuit                     0.3773      0.044      8.633      0.000       0.291       0.463\n",
      "Strength                   -0.0286      0.044     -0.658      0.511      -0.114       0.057\n",
      "Tackle                      0.1387      0.055      2.502      0.013       0.030       0.248\n",
      "2AVG Awareness             -0.0077      0.011     -0.673      0.501      -0.030       0.015\n",
      "3AVG Throw Power            0.0059      0.029      0.205      0.838      -0.051       0.062\n",
      "2AVG Throw Accuracy Mid    -0.0351      0.035     -1.010      0.313      -0.104       0.033\n",
      "4AVG Route Running         -0.0048      0.059     -0.081      0.935      -0.122       0.112\n",
      "Pass Block                 -0.0823      0.025     -3.297      0.001      -0.131      -0.033\n",
      "==============================================================================\n",
      "Omnibus:                       21.221   Durbin-Watson:                   1.943\n",
      "Prob(Omnibus):                  0.000   Jarque-Bera (JB):               65.485\n",
      "Skew:                           0.214   Prob(JB):                     6.03e-15\n",
      "Kurtosis:                       5.388   Cond. No.                         76.1\n",
      "==============================================================================\n",
      "\n",
      "Warnings:\n",
      "[1] Standard Errors assume that the covariance matrix of the errors is correctly specified.\n"
     ]
    }
   ],
   "source": [
    "print(RE.summary())\n",
    "#Uh oh, it looks like some of the p-values are too high so we might need to remove some more variables from the model.\n",
    "#Let's start by removing 4avg route running"
   ]
  },
  {
   "cell_type": "code",
   "execution_count": 60,
   "metadata": {},
   "outputs": [],
   "source": [
    "resig24= re[['Awareness', 'Block Shedding','Pursuit', 'Strength', 'Tackle', '2AVG Awareness', '3AVG Throw Power',\n",
    "            '2AVG Throw Accuracy Mid','Pass Block']]"
   ]
  },
  {
   "cell_type": "code",
   "execution_count": 61,
   "metadata": {},
   "outputs": [
    {
     "name": "stdout",
     "output_type": "stream",
     "text": [
      "                            OLS Regression Results                            \n",
      "==============================================================================\n",
      "Dep. Variable:         Overall Rating   R-squared:                       0.999\n",
      "Model:                            OLS   Adj. R-squared:                  0.999\n",
      "Method:                 Least Squares   F-statistic:                 2.179e+04\n",
      "Date:                Wed, 18 Jul 2018   Prob (F-statistic):               0.00\n",
      "Time:                        13:22:56   Log-Likelihood:                -653.98\n",
      "No. Observations:                 267   AIC:                             1326.\n",
      "Df Residuals:                     258   BIC:                             1358.\n",
      "Df Model:                           9                                         \n",
      "Covariance Type:            nonrobust                                         \n",
      "===========================================================================================\n",
      "                              coef    std err          t      P>|t|      [0.025      0.975]\n",
      "-------------------------------------------------------------------------------------------\n",
      "Awareness                   0.4867      0.021     23.477      0.000       0.446       0.527\n",
      "Block Shedding              0.0549      0.045      1.232      0.219      -0.033       0.143\n",
      "Pursuit                     0.3775      0.044      8.669      0.000       0.292       0.463\n",
      "Strength                   -0.0279      0.043     -0.655      0.513      -0.112       0.056\n",
      "Tackle                      0.1380      0.055      2.529      0.012       0.031       0.245\n",
      "2AVG Awareness             -0.0080      0.011     -0.759      0.448      -0.029       0.013\n",
      "3AVG Throw Power            0.0053      0.028      0.192      0.848      -0.049       0.060\n",
      "2AVG Throw Accuracy Mid    -0.0358      0.034     -1.061      0.290      -0.102       0.031\n",
      "Pass Block                 -0.0827      0.024     -3.403      0.001      -0.131      -0.035\n",
      "==============================================================================\n",
      "Omnibus:                       21.263   Durbin-Watson:                   1.945\n",
      "Prob(Omnibus):                  0.000   Jarque-Bera (JB):               65.918\n",
      "Skew:                           0.213   Prob(JB):                     4.85e-15\n",
      "Kurtosis:                       5.397   Cond. No.                         69.5\n",
      "==============================================================================\n",
      "\n",
      "Warnings:\n",
      "[1] Standard Errors assume that the covariance matrix of the errors is correctly specified.\n"
     ]
    }
   ],
   "source": [
    "RE1 = sm.OLS(re['Overall Rating'], resig24).fit()\n",
    "print(RE1.summary())\n",
    "#That helped but we will remove 3avg throw power"
   ]
  },
  {
   "cell_type": "code",
   "execution_count": 62,
   "metadata": {},
   "outputs": [],
   "source": [
    "resig25= re[['Awareness', 'Block Shedding','Pursuit', 'Strength', 'Tackle', '2AVG Awareness',\n",
    "            '2AVG Throw Accuracy Mid','Pass Block']]"
   ]
  },
  {
   "cell_type": "code",
   "execution_count": 63,
   "metadata": {},
   "outputs": [
    {
     "name": "stdout",
     "output_type": "stream",
     "text": [
      "                            OLS Regression Results                            \n",
      "==============================================================================\n",
      "Dep. Variable:         Overall Rating   R-squared:                       0.999\n",
      "Model:                            OLS   Adj. R-squared:                  0.999\n",
      "Method:                 Least Squares   F-statistic:                 2.461e+04\n",
      "Date:                Wed, 18 Jul 2018   Prob (F-statistic):               0.00\n",
      "Time:                        13:23:02   Log-Likelihood:                -654.00\n",
      "No. Observations:                 267   AIC:                             1324.\n",
      "Df Residuals:                     259   BIC:                             1353.\n",
      "Df Model:                           8                                         \n",
      "Covariance Type:            nonrobust                                         \n",
      "===========================================================================================\n",
      "                              coef    std err          t      P>|t|      [0.025      0.975]\n",
      "-------------------------------------------------------------------------------------------\n",
      "Awareness                   0.4865      0.021     23.539      0.000       0.446       0.527\n",
      "Block Shedding              0.0549      0.045      1.234      0.218      -0.033       0.143\n",
      "Pursuit                     0.3776      0.043      8.687      0.000       0.292       0.463\n",
      "Strength                   -0.0270      0.042     -0.639      0.523      -0.110       0.056\n",
      "Tackle                      0.1375      0.054      2.527      0.012       0.030       0.245\n",
      "2AVG Awareness             -0.0067      0.008     -0.850      0.396      -0.022       0.009\n",
      "2AVG Throw Accuracy Mid    -0.0331      0.031     -1.082      0.280      -0.093       0.027\n",
      "Pass Block                 -0.0830      0.024     -3.430      0.001      -0.131      -0.035\n",
      "==============================================================================\n",
      "Omnibus:                       21.033   Durbin-Watson:                   1.943\n",
      "Prob(Omnibus):                  0.000   Jarque-Bera (JB):               65.012\n",
      "Skew:                           0.207   Prob(JB):                     7.63e-15\n",
      "Kurtosis:                       5.382   Cond. No.                         68.9\n",
      "==============================================================================\n",
      "\n",
      "Warnings:\n",
      "[1] Standard Errors assume that the covariance matrix of the errors is correctly specified.\n"
     ]
    }
   ],
   "source": [
    "RE2 = sm.OLS(re['Overall Rating'], resig25).fit()\n",
    "print(RE2.summary())\n",
    "#next we will remove strength"
   ]
  },
  {
   "cell_type": "code",
   "execution_count": 64,
   "metadata": {},
   "outputs": [],
   "source": [
    "resig26= re[['Awareness', 'Block Shedding','Pursuit','Tackle', '2AVG Awareness',\n",
    "            '2AVG Throw Accuracy Mid','Pass Block']]"
   ]
  },
  {
   "cell_type": "code",
   "execution_count": 65,
   "metadata": {},
   "outputs": [
    {
     "name": "stdout",
     "output_type": "stream",
     "text": [
      "                            OLS Regression Results                            \n",
      "==============================================================================\n",
      "Dep. Variable:         Overall Rating   R-squared:                       0.999\n",
      "Model:                            OLS   Adj. R-squared:                  0.999\n",
      "Method:                 Least Squares   F-statistic:                 2.819e+04\n",
      "Date:                Wed, 18 Jul 2018   Prob (F-statistic):               0.00\n",
      "Time:                        13:23:06   Log-Likelihood:                -654.21\n",
      "No. Observations:                 267   AIC:                             1322.\n",
      "Df Residuals:                     260   BIC:                             1348.\n",
      "Df Model:                           7                                         \n",
      "Covariance Type:            nonrobust                                         \n",
      "===========================================================================================\n",
      "                              coef    std err          t      P>|t|      [0.025      0.975]\n",
      "-------------------------------------------------------------------------------------------\n",
      "Awareness                   0.4843      0.020     23.785      0.000       0.444       0.524\n",
      "Block Shedding              0.0451      0.042      1.081      0.281      -0.037       0.127\n",
      "Pursuit                     0.3765      0.043      8.679      0.000       0.291       0.462\n",
      "Tackle                      0.1231      0.049      2.489      0.013       0.026       0.221\n",
      "2AVG Awareness             -0.0065      0.008     -0.824      0.411      -0.022       0.009\n",
      "2AVG Throw Accuracy Mid    -0.0345      0.030     -1.132      0.259      -0.094       0.026\n",
      "Pass Block                 -0.0850      0.024     -3.541      0.000      -0.132      -0.038\n",
      "==============================================================================\n",
      "Omnibus:                       20.926   Durbin-Watson:                   1.944\n",
      "Prob(Omnibus):                  0.000   Jarque-Bera (JB):               65.083\n",
      "Skew:                           0.200   Prob(JB):                     7.37e-15\n",
      "Kurtosis:                       5.386   Cond. No.                         59.1\n",
      "==============================================================================\n",
      "\n",
      "Warnings:\n",
      "[1] Standard Errors assume that the covariance matrix of the errors is correctly specified.\n"
     ]
    }
   ],
   "source": [
    "RE3 = sm.OLS(re['Overall Rating'], resig26).fit()\n",
    "print(RE3.summary())\n",
    "#Next we will remove block shedding"
   ]
  },
  {
   "cell_type": "code",
   "execution_count": 66,
   "metadata": {},
   "outputs": [],
   "source": [
    "resig27= re[['Awareness','Pursuit','Tackle', '2AVG Awareness',\n",
    "            '2AVG Throw Accuracy Mid','Pass Block']]"
   ]
  },
  {
   "cell_type": "code",
   "execution_count": 67,
   "metadata": {},
   "outputs": [
    {
     "name": "stdout",
     "output_type": "stream",
     "text": [
      "                            OLS Regression Results                            \n",
      "==============================================================================\n",
      "Dep. Variable:         Overall Rating   R-squared:                       0.999\n",
      "Model:                            OLS   Adj. R-squared:                  0.999\n",
      "Method:                 Least Squares   F-statistic:                 2.819e+04\n",
      "Date:                Wed, 18 Jul 2018   Prob (F-statistic):               0.00\n",
      "Time:                        13:23:09   Log-Likelihood:                -654.21\n",
      "No. Observations:                 267   AIC:                             1322.\n",
      "Df Residuals:                     260   BIC:                             1348.\n",
      "Df Model:                           7                                         \n",
      "Covariance Type:            nonrobust                                         \n",
      "===========================================================================================\n",
      "                              coef    std err          t      P>|t|      [0.025      0.975]\n",
      "-------------------------------------------------------------------------------------------\n",
      "Awareness                   0.4843      0.020     23.785      0.000       0.444       0.524\n",
      "Block Shedding              0.0451      0.042      1.081      0.281      -0.037       0.127\n",
      "Pursuit                     0.3765      0.043      8.679      0.000       0.291       0.462\n",
      "Tackle                      0.1231      0.049      2.489      0.013       0.026       0.221\n",
      "2AVG Awareness             -0.0065      0.008     -0.824      0.411      -0.022       0.009\n",
      "2AVG Throw Accuracy Mid    -0.0345      0.030     -1.132      0.259      -0.094       0.026\n",
      "Pass Block                 -0.0850      0.024     -3.541      0.000      -0.132      -0.038\n",
      "==============================================================================\n",
      "Omnibus:                       20.926   Durbin-Watson:                   1.944\n",
      "Prob(Omnibus):                  0.000   Jarque-Bera (JB):               65.083\n",
      "Skew:                           0.200   Prob(JB):                     7.37e-15\n",
      "Kurtosis:                       5.386   Cond. No.                         59.1\n",
      "==============================================================================\n",
      "\n",
      "Warnings:\n",
      "[1] Standard Errors assume that the covariance matrix of the errors is correctly specified.\n"
     ]
    }
   ],
   "source": [
    "RE4 = sm.OLS(re['Overall Rating'], resig27).fit()\n",
    "print(RE3.summary())\n",
    "#Next we will remove 2avg awareness"
   ]
  },
  {
   "cell_type": "code",
   "execution_count": 68,
   "metadata": {},
   "outputs": [],
   "source": [
    "resig28= re[['Awareness','Pursuit','Tackle',\n",
    "            '2AVG Throw Accuracy Mid','Pass Block']]"
   ]
  },
  {
   "cell_type": "code",
   "execution_count": 69,
   "metadata": {},
   "outputs": [
    {
     "name": "stdout",
     "output_type": "stream",
     "text": [
      "                            OLS Regression Results                            \n",
      "==============================================================================\n",
      "Dep. Variable:         Overall Rating   R-squared:                       0.999\n",
      "Model:                            OLS   Adj. R-squared:                  0.999\n",
      "Method:                 Least Squares   F-statistic:                 3.946e+04\n",
      "Date:                Wed, 18 Jul 2018   Prob (F-statistic):               0.00\n",
      "Time:                        13:23:12   Log-Likelihood:                -655.21\n",
      "No. Observations:                 267   AIC:                             1320.\n",
      "Df Residuals:                     262   BIC:                             1338.\n",
      "Df Model:                           5                                         \n",
      "Covariance Type:            nonrobust                                         \n",
      "===========================================================================================\n",
      "                              coef    std err          t      P>|t|      [0.025      0.975]\n",
      "-------------------------------------------------------------------------------------------\n",
      "Awareness                   0.4787      0.020     24.196      0.000       0.440       0.518\n",
      "Pursuit                     0.3901      0.041      9.406      0.000       0.308       0.472\n",
      "Tackle                      0.1527      0.040      3.852      0.000       0.075       0.231\n",
      "2AVG Throw Accuracy Mid    -0.0327      0.030     -1.082      0.280      -0.092       0.027\n",
      "Pass Block                 -0.0821      0.024     -3.491      0.001      -0.128      -0.036\n",
      "==============================================================================\n",
      "Omnibus:                       22.374   Durbin-Watson:                   1.922\n",
      "Prob(Omnibus):                  0.000   Jarque-Bera (JB):               69.330\n",
      "Skew:                           0.247   Prob(JB):                     8.82e-16\n",
      "Kurtosis:                       5.447   Cond. No.                         45.3\n",
      "==============================================================================\n",
      "\n",
      "Warnings:\n",
      "[1] Standard Errors assume that the covariance matrix of the errors is correctly specified.\n"
     ]
    }
   ],
   "source": [
    "RE5 = sm.OLS(re['Overall Rating'], resig28).fit()\n",
    "print(RE5.summary())\n",
    "#Next we will remove 2avg throw accuracy mid"
   ]
  },
  {
   "cell_type": "code",
   "execution_count": 70,
   "metadata": {},
   "outputs": [],
   "source": [
    "resig29= re[['Awareness','Pursuit','Tackle', 'Pass Block']]"
   ]
  },
  {
   "cell_type": "code",
   "execution_count": 71,
   "metadata": {},
   "outputs": [
    {
     "name": "stdout",
     "output_type": "stream",
     "text": [
      "                            OLS Regression Results                            \n",
      "==============================================================================\n",
      "Dep. Variable:         Overall Rating   R-squared:                       0.999\n",
      "Model:                            OLS   Adj. R-squared:                  0.999\n",
      "Method:                 Least Squares   F-statistic:                 4.930e+04\n",
      "Date:                Wed, 18 Jul 2018   Prob (F-statistic):               0.00\n",
      "Time:                        13:23:15   Log-Likelihood:                -655.81\n",
      "No. Observations:                 267   AIC:                             1320.\n",
      "Df Residuals:                     263   BIC:                             1334.\n",
      "Df Model:                           4                                         \n",
      "Covariance Type:            nonrobust                                         \n",
      "==============================================================================\n",
      "                 coef    std err          t      P>|t|      [0.025      0.975]\n",
      "------------------------------------------------------------------------------\n",
      "Awareness      0.4713      0.019     25.384      0.000       0.435       0.508\n",
      "Pursuit        0.3866      0.041      9.347      0.000       0.305       0.468\n",
      "Tackle         0.1502      0.040      3.795      0.000       0.072       0.228\n",
      "Pass Block    -0.0631      0.016     -4.030      0.000      -0.094      -0.032\n",
      "==============================================================================\n",
      "Omnibus:                       22.749   Durbin-Watson:                   1.933\n",
      "Prob(Omnibus):                  0.000   Jarque-Bera (JB):               71.699\n",
      "Skew:                           0.248   Prob(JB):                     2.70e-16\n",
      "Kurtosis:                       5.490   Cond. No.                         45.1\n",
      "==============================================================================\n",
      "\n",
      "Warnings:\n",
      "[1] Standard Errors assume that the covariance matrix of the errors is correctly specified.\n"
     ]
    }
   ],
   "source": [
    "RE6 = sm.OLS(re['Overall Rating'], resig29).fit()\n",
    "print(RE6.summary())\n",
    "#It looks like all of our dependent variables are significant "
   ]
  },
  {
   "cell_type": "code",
   "execution_count": 72,
   "metadata": {},
   "outputs": [],
   "source": [
    "def model():\n",
    "    predicted_value = (0.4713 * re['Awareness']) + (0.3866 * re['Pursuit']) + (0.1502 * re['Tackle']) - (0.0631 * re['Pass Block'])\n",
    "    return predicted_value"
   ]
  },
  {
   "cell_type": "code",
   "execution_count": null,
   "metadata": {},
   "outputs": [],
   "source": []
  },
  {
   "cell_type": "code",
   "execution_count": 73,
   "metadata": {},
   "outputs": [],
   "source": [
    "#Now lets do some training and testing of the model itself\n",
    "X_train, X_test, y_train, y_test = train_test_split(resig29, re['Overall Rating'], test_size = 0.3, random_state=42)"
   ]
  },
  {
   "cell_type": "code",
   "execution_count": 74,
   "metadata": {},
   "outputs": [],
   "source": [
    "reg = LinearRegression()"
   ]
  },
  {
   "cell_type": "code",
   "execution_count": 75,
   "metadata": {},
   "outputs": [
    {
     "data": {
      "text/plain": [
       "LinearRegression(copy_X=True, fit_intercept=True, n_jobs=1, normalize=False)"
      ]
     },
     "execution_count": 75,
     "metadata": {},
     "output_type": "execute_result"
    }
   ],
   "source": [
    "reg.fit(X_train, y_train)"
   ]
  },
  {
   "cell_type": "code",
   "execution_count": 76,
   "metadata": {},
   "outputs": [],
   "source": [
    "y_pred = reg.predict(X_test)"
   ]
  },
  {
   "cell_type": "code",
   "execution_count": 77,
   "metadata": {},
   "outputs": [
    {
     "name": "stdout",
     "output_type": "stream",
     "text": [
      "[84.13804836 84.13804836 86.35061873 80.91304861 66.07539351 57.5789473\n",
      " 84.13804836 66.23491712 70.12082701 84.13804836 76.00463251 84.13804836\n",
      " 76.67966787 84.13804836 64.43581329 84.13804836 75.32506625 71.49506272\n",
      " 79.01924071 71.46584681 76.16967749 84.13804836 84.13804836 84.13804836\n",
      " 69.7887316  84.13804836 72.50625393 84.13804836 84.13804836 60.83361927\n",
      " 66.14989098 84.13804836 84.13804836 84.13804836 71.83673994 80.70593773\n",
      " 84.13804836 71.02481245 62.29077361 84.13804836 84.13804836 70.32667516\n",
      " 59.89985954 62.02869728 69.57058901 84.13804836 55.7719932  84.13804836\n",
      " 84.13804836 67.20624607 84.13804836 67.33954969 64.07749789 72.62997573\n",
      " 84.13804836 55.55183578 84.13804836 74.47339864 84.13804836 72.43544258\n",
      " 84.13804836 71.8324813  84.13804836 84.13804836 70.56126876 68.32877954\n",
      " 75.56545348 84.13804836 68.05665095 60.41786252 84.13804836 69.93098426\n",
      " 74.48877409 84.13804836 74.44292001 78.03426949 71.95872855 84.13804836\n",
      " 76.88677875 84.13804836 84.13804836]\n"
     ]
    }
   ],
   "source": [
    "print(y_pred)"
   ]
  },
  {
   "cell_type": "code",
   "execution_count": 78,
   "metadata": {},
   "outputs": [
    {
     "data": {
      "text/plain": [
       "(81,)"
      ]
     },
     "execution_count": 78,
     "metadata": {},
     "output_type": "execute_result"
    }
   ],
   "source": [
    "y_pred.shape"
   ]
  },
  {
   "cell_type": "code",
   "execution_count": 79,
   "metadata": {},
   "outputs": [],
   "source": [
    "recv = cross_val_score(reg, resig29, re['Overall Rating'], cv = 5)"
   ]
  },
  {
   "cell_type": "code",
   "execution_count": 80,
   "metadata": {},
   "outputs": [
    {
     "name": "stdout",
     "output_type": "stream",
     "text": [
      "[0.8873111  0.         0.91431705 0.82073025 0.76038772]\n"
     ]
    }
   ],
   "source": [
    "print(recv)"
   ]
  },
  {
   "cell_type": "code",
   "execution_count": 81,
   "metadata": {},
   "outputs": [
    {
     "name": "stderr",
     "output_type": "stream",
     "text": [
      "C:\\Users\\tilleymusprime\\Anaconda3\\lib\\site-packages\\ipykernel_launcher.py:1: SettingWithCopyWarning: \n",
      "A value is trying to be set on a copy of a slice from a DataFrame.\n",
      "Try using .loc[row_indexer,col_indexer] = value instead\n",
      "\n",
      "See the caveats in the documentation: http://pandas.pydata.org/pandas-docs/stable/indexing.html#indexing-view-versus-copy\n",
      "  \"\"\"Entry point for launching an IPython kernel.\n"
     ]
    }
   ],
   "source": [
    "re['Predicted Value'] = model()"
   ]
  },
  {
   "cell_type": "code",
   "execution_count": 82,
   "metadata": {},
   "outputs": [
    {
     "name": "stderr",
     "output_type": "stream",
     "text": [
      "C:\\Users\\tilleymusprime\\Anaconda3\\lib\\site-packages\\ipykernel_launcher.py:1: SettingWithCopyWarning: \n",
      "A value is trying to be set on a copy of a slice from a DataFrame.\n",
      "Try using .loc[row_indexer,col_indexer] = value instead\n",
      "\n",
      "See the caveats in the documentation: http://pandas.pydata.org/pandas-docs/stable/indexing.html#indexing-view-versus-copy\n",
      "  \"\"\"Entry point for launching an IPython kernel.\n"
     ]
    }
   ],
   "source": [
    "re['Residuals'] = re['Predicted Value'] - re['Overall Rating']"
   ]
  },
  {
   "cell_type": "code",
   "execution_count": 83,
   "metadata": {},
   "outputs": [
    {
     "data": {
      "image/png": "[encoded data removed]",
      "text/plain": [
       "<matplotlib.figure.Figure at 0x2810010d828>"
      ]
     },
     "metadata": {},
     "output_type": "display_data"
    }
   ],
   "source": [
    "plt.hist(re['Residuals'])\n",
    "plt.xlabel('Residual')\n",
    "plt.ylabel('Count')\n",
    "plt.show()"
   ]
  },
  {
   "cell_type": "code",
   "execution_count": 85,
   "metadata": {
    "scrolled": true
   },
   "outputs": [
    {
     "data": {
      "image/png": "[encoded data removed]",
      "text/plain": [
       "<matplotlib.figure.Figure at 0x281002bb7f0>"
      ]
     },
     "metadata": {},
     "output_type": "display_data"
    }
   ],
   "source": [
    "stats.probplot(re['Residuals'], plot=plt)\n",
    "plt.show()\n",
    "#It looks like there might be a few outliers at the bottom.  Let's take them out and then re run the model."
   ]
  },
  {
   "cell_type": "code",
   "execution_count": 86,
   "metadata": {},
   "outputs": [
    {
     "name": "stdout",
     "output_type": "stream",
     "text": [
      "                            OLS Regression Results                            \n",
      "==============================================================================\n",
      "Dep. Variable:         Overall Rating   R-squared:                       0.999\n",
      "Model:                            OLS   Adj. R-squared:                  0.999\n",
      "Method:                 Least Squares   F-statistic:                 3.946e+04\n",
      "Date:                Wed, 18 Jul 2018   Prob (F-statistic):               0.00\n",
      "Time:                        13:28:18   Log-Likelihood:                -655.21\n",
      "No. Observations:                 267   AIC:                             1320.\n",
      "Df Residuals:                     262   BIC:                             1338.\n",
      "Df Model:                           5                                         \n",
      "Covariance Type:            nonrobust                                         \n",
      "===========================================================================================\n",
      "                              coef    std err          t      P>|t|      [0.025      0.975]\n",
      "-------------------------------------------------------------------------------------------\n",
      "Awareness                   0.4787      0.020     24.196      0.000       0.440       0.518\n",
      "Pursuit                     0.3901      0.041      9.406      0.000       0.308       0.472\n",
      "Tackle                      0.1527      0.040      3.852      0.000       0.075       0.231\n",
      "2AVG Throw Accuracy Mid    -0.0327      0.030     -1.082      0.280      -0.092       0.027\n",
      "Pass Block                 -0.0821      0.024     -3.491      0.001      -0.128      -0.036\n",
      "==============================================================================\n",
      "Omnibus:                       22.374   Durbin-Watson:                   1.922\n",
      "Prob(Omnibus):                  0.000   Jarque-Bera (JB):               69.330\n",
      "Skew:                           0.247   Prob(JB):                     8.82e-16\n",
      "Kurtosis:                       5.447   Cond. No.                         45.3\n",
      "==============================================================================\n",
      "\n",
      "Warnings:\n",
      "[1] Standard Errors assume that the covariance matrix of the errors is correctly specified.\n"
     ]
    }
   ],
   "source": [
    "print(RE5.summary())"
   ]
  },
  {
   "cell_type": "code",
   "execution_count": 89,
   "metadata": {},
   "outputs": [
    {
     "name": "stdout",
     "output_type": "stream",
     "text": [
      "                            OLS Regression Results                            \n",
      "==============================================================================\n",
      "Dep. Variable:         Overall Rating   R-squared:                       0.999\n",
      "Model:                            OLS   Adj. R-squared:                  0.999\n",
      "Method:                 Least Squares   F-statistic:                 5.608e+04\n",
      "Date:                Wed, 18 Jul 2018   Prob (F-statistic):               0.00\n",
      "Time:                        13:30:35   Log-Likelihood:                -632.62\n",
      "No. Observations:                 265   AIC:                             1273.\n",
      "Df Residuals:                     261   BIC:                             1288.\n",
      "Df Model:                           4                                         \n",
      "Covariance Type:            nonrobust                                         \n",
      "==============================================================================\n",
      "                 coef    std err          t      P>|t|      [0.025      0.975]\n",
      "------------------------------------------------------------------------------\n",
      "Awareness      0.4737      0.017     27.171      0.000       0.439       0.508\n",
      "Pursuit        0.4280      0.039     10.873      0.000       0.351       0.506\n",
      "Tackle         0.1094      0.038      2.884      0.004       0.035       0.184\n",
      "Pass Block    -0.0716      0.015     -4.883      0.000      -0.101      -0.043\n",
      "==============================================================================\n",
      "Omnibus:                       10.299   Durbin-Watson:                   1.935\n",
      "Prob(Omnibus):                  0.006   Jarque-Bera (JB):               17.057\n",
      "Skew:                          -0.205   Prob(JB):                     0.000198\n",
      "Kurtosis:                       4.174   Cond. No.                         46.0\n",
      "==============================================================================\n",
      "\n",
      "Warnings:\n",
      "[1] Standard Errors assume that the covariance matrix of the errors is correctly specified.\n"
     ]
    }
   ],
   "source": [
    "reclean = re[re['Residuals'] > -10]\n",
    "redesc = reclean[['Overall Rating', 'Awareness', 'Pursuit', 'Tackle', 'Pass Block']]\n",
    "recleansig = reclean[['Awareness','Pursuit','Tackle', 'Pass Block']]\n",
    "RE6 = sm.OLS(reclean['Overall Rating'], recleansig).fit()\n",
    "print(RE6.summary())\n",
    "#It looks like removing the two outliers reduced the AIC score by roughly 50 points\n",
    "#It also moved the Durbin Watson score closer to 2 and therefore reduced some of the autocorrelation\n",
    "#From an absolute value, it reduced the skew but it went from a positive to a negative\n",
    "#All of our values are still significant though so let's move forward with testing"
   ]
  },
  {
   "cell_type": "code",
   "execution_count": 90,
   "metadata": {},
   "outputs": [],
   "source": [
    "def model():\n",
    "    pv=0.4737*reclean['Awareness']+ 0.4280*reclean['Pursuit']+0.1094*reclean['Tackle']- 0.0716*reclean['Pass Block']\n",
    "    return pv"
   ]
  },
  {
   "cell_type": "code",
   "execution_count": 94,
   "metadata": {},
   "outputs": [
    {
     "name": "stderr",
     "output_type": "stream",
     "text": [
      "C:\\Users\\tilleymusprime\\Anaconda3\\lib\\site-packages\\ipykernel_launcher.py:1: SettingWithCopyWarning: \n",
      "A value is trying to be set on a copy of a slice from a DataFrame.\n",
      "Try using .loc[row_indexer,col_indexer] = value instead\n",
      "\n",
      "See the caveats in the documentation: http://pandas.pydata.org/pandas-docs/stable/indexing.html#indexing-view-versus-copy\n",
      "  \"\"\"Entry point for launching an IPython kernel.\n",
      "C:\\Users\\tilleymusprime\\Anaconda3\\lib\\site-packages\\ipykernel_launcher.py:2: SettingWithCopyWarning: \n",
      "A value is trying to be set on a copy of a slice from a DataFrame.\n",
      "Try using .loc[row_indexer,col_indexer] = value instead\n",
      "\n",
      "See the caveats in the documentation: http://pandas.pydata.org/pandas-docs/stable/indexing.html#indexing-view-versus-copy\n",
      "  \n"
     ]
    }
   ],
   "source": [
    "reclean['Predicted Values'] = model()\n",
    "reclean['Residuals'] = reclean['Predicted Values'] - reclean['Overall Rating']"
   ]
  },
  {
   "cell_type": "code",
   "execution_count": 95,
   "metadata": {},
   "outputs": [
    {
     "data": {
      "image/png": "[encoded data removed]",
      "text/plain": [
       "<matplotlib.figure.Figure at 0x281016c6a90>"
      ]
     },
     "execution_count": 95,
     "metadata": {},
     "output_type": "execute_result"
    },
    {
     "data": {
      "image/png": "[encoded data removed]",
      "text/plain": [
       "<matplotlib.figure.Figure at 0x281016c6a90>"
      ]
     },
     "metadata": {},
     "output_type": "display_data"
    }
   ],
   "source": [
    "recleancorr = reclean[['Overall Rating', 'Awareness', 'Pursuit', 'Tackle', 'Pass Block']].corr()\n",
    "plot_acf(recleancorr['Overall Rating'])\n",
    "#There does not appear to be a significant amount of autocorrelation"
   ]
  },
  {
   "cell_type": "code",
   "execution_count": null,
   "metadata": {},
   "outputs": [],
   "source": []
  },
  {
   "cell_type": "code",
   "execution_count": null,
   "metadata": {},
   "outputs": [],
   "source": []
  },
  {
   "cell_type": "code",
   "execution_count": null,
   "metadata": {},
   "outputs": [],
   "source": []
  },
  {
   "cell_type": "code",
   "execution_count": 102,
   "metadata": {},
   "outputs": [],
   "source": [
    "reclean1 = reclean[['Awareness', 'Pursuit', 'Tackle', 'Pass Block']]"
   ]
  },
  {
   "cell_type": "code",
   "execution_count": null,
   "metadata": {},
   "outputs": [],
   "source": []
  },
  {
   "cell_type": "code",
   "execution_count": 104,
   "metadata": {},
   "outputs": [
    {
     "name": "stdout",
     "output_type": "stream",
     "text": [
      "                            OLS Regression Results                            \n",
      "==============================================================================\n",
      "Dep. Variable:         Overall Rating   R-squared:                       0.999\n",
      "Model:                            OLS   Adj. R-squared:                  0.999\n",
      "Method:                 Least Squares   F-statistic:                 4.930e+04\n",
      "Date:                Wed, 18 Jul 2018   Prob (F-statistic):               0.00\n",
      "Time:                        13:42:54   Log-Likelihood:                -655.81\n",
      "No. Observations:                 267   AIC:                             1320.\n",
      "Df Residuals:                     263   BIC:                             1334.\n",
      "Df Model:                           4                                         \n",
      "Covariance Type:            nonrobust                                         \n",
      "==============================================================================\n",
      "                 coef    std err          t      P>|t|      [0.025      0.975]\n",
      "------------------------------------------------------------------------------\n",
      "Awareness      0.4713      0.019     25.384      0.000       0.435       0.508\n",
      "Pursuit        0.3866      0.041      9.347      0.000       0.305       0.468\n",
      "Tackle         0.1502      0.040      3.795      0.000       0.072       0.228\n",
      "Pass Block    -0.0631      0.016     -4.030      0.000      -0.094      -0.032\n",
      "==============================================================================\n",
      "Omnibus:                       22.749   Durbin-Watson:                   1.933\n",
      "Prob(Omnibus):                  0.000   Jarque-Bera (JB):               71.699\n",
      "Skew:                           0.248   Prob(JB):                     2.70e-16\n",
      "Kurtosis:                       5.490   Cond. No.                         45.1\n",
      "==============================================================================\n",
      "\n",
      "Warnings:\n",
      "[1] Standard Errors assume that the covariance matrix of the errors is correctly specified.\n"
     ]
    }
   ],
   "source": [
    "RE6 = sm.OLS(re['Overall Rating'], resig29).fit()\n",
    "print(RE6.summary())"
   ]
  },
  {
   "cell_type": "code",
   "execution_count": 105,
   "metadata": {},
   "outputs": [],
   "source": [
    "RE7 = sm.OLS(reclean['Overall Rating'], reclean1).fit()"
   ]
  },
  {
   "cell_type": "code",
   "execution_count": 106,
   "metadata": {},
   "outputs": [
    {
     "name": "stdout",
     "output_type": "stream",
     "text": [
      "                            OLS Regression Results                            \n",
      "==============================================================================\n",
      "Dep. Variable:         Overall Rating   R-squared:                       0.999\n",
      "Model:                            OLS   Adj. R-squared:                  0.999\n",
      "Method:                 Least Squares   F-statistic:                 5.608e+04\n",
      "Date:                Wed, 18 Jul 2018   Prob (F-statistic):               0.00\n",
      "Time:                        13:43:00   Log-Likelihood:                -632.62\n",
      "No. Observations:                 265   AIC:                             1273.\n",
      "Df Residuals:                     261   BIC:                             1288.\n",
      "Df Model:                           4                                         \n",
      "Covariance Type:            nonrobust                                         \n",
      "==============================================================================\n",
      "                 coef    std err          t      P>|t|      [0.025      0.975]\n",
      "------------------------------------------------------------------------------\n",
      "Awareness      0.4737      0.017     27.171      0.000       0.439       0.508\n",
      "Pursuit        0.4280      0.039     10.873      0.000       0.351       0.506\n",
      "Tackle         0.1094      0.038      2.884      0.004       0.035       0.184\n",
      "Pass Block    -0.0716      0.015     -4.883      0.000      -0.101      -0.043\n",
      "==============================================================================\n",
      "Omnibus:                       10.299   Durbin-Watson:                   1.935\n",
      "Prob(Omnibus):                  0.006   Jarque-Bera (JB):               17.057\n",
      "Skew:                          -0.205   Prob(JB):                     0.000198\n",
      "Kurtosis:                       4.174   Cond. No.                         46.0\n",
      "==============================================================================\n",
      "\n",
      "Warnings:\n",
      "[1] Standard Errors assume that the covariance matrix of the errors is correctly specified.\n"
     ]
    }
   ],
   "source": [
    "print(RE7.summary())\n",
    "#It looks like the AIC went down.  Let's check the qq plot as well and test it"
   ]
  },
  {
   "cell_type": "code",
   "execution_count": 107,
   "metadata": {},
   "outputs": [
    {
     "data": {
      "image/png": "[encoded data removed]",
      "text/plain": [
       "<matplotlib.figure.Figure at 0x2810030bd30>"
      ]
     },
     "metadata": {},
     "output_type": "display_data"
    }
   ],
   "source": [
    "stats.probplot(reclean['Residuals'], plot=plt)\n",
    "plt.show()\n",
    "#It looks like there might still be one more outlier.  Let's remove that outlier and see what happens from there"
   ]
  },
  {
   "cell_type": "code",
   "execution_count": null,
   "metadata": {},
   "outputs": [],
   "source": []
  },
  {
   "cell_type": "code",
   "execution_count": 108,
   "metadata": {},
   "outputs": [],
   "source": [
    "def model1():\n",
    "    predicted_value = (0.4737 * reclean1['Awareness']) + (0.4280 * reclean1['Pursuit']) + (0.1094 * reclean1['Tackle'])-(0.0716 * reclean1['Pass Block'])\n",
    "    return predicted_value"
   ]
  },
  {
   "cell_type": "code",
   "execution_count": 109,
   "metadata": {},
   "outputs": [
    {
     "name": "stderr",
     "output_type": "stream",
     "text": [
      "C:\\Users\\tilleymusprime\\Anaconda3\\lib\\site-packages\\ipykernel_launcher.py:1: SettingWithCopyWarning: \n",
      "A value is trying to be set on a copy of a slice from a DataFrame.\n",
      "Try using .loc[row_indexer,col_indexer] = value instead\n",
      "\n",
      "See the caveats in the documentation: http://pandas.pydata.org/pandas-docs/stable/indexing.html#indexing-view-versus-copy\n",
      "  \"\"\"Entry point for launching an IPython kernel.\n"
     ]
    }
   ],
   "source": [
    "reclean1['Predicted Values'] = model()"
   ]
  },
  {
   "cell_type": "code",
   "execution_count": 110,
   "metadata": {},
   "outputs": [
    {
     "name": "stderr",
     "output_type": "stream",
     "text": [
      "C:\\Users\\tilleymusprime\\Anaconda3\\lib\\site-packages\\ipykernel_launcher.py:1: SettingWithCopyWarning: \n",
      "A value is trying to be set on a copy of a slice from a DataFrame.\n",
      "Try using .loc[row_indexer,col_indexer] = value instead\n",
      "\n",
      "See the caveats in the documentation: http://pandas.pydata.org/pandas-docs/stable/indexing.html#indexing-view-versus-copy\n",
      "  \"\"\"Entry point for launching an IPython kernel.\n"
     ]
    }
   ],
   "source": [
    "reclean1['Residuals'] = reclean1['Predicted Values'] - reclean['Overall Rating']"
   ]
  },
  {
   "cell_type": "code",
   "execution_count": 111,
   "metadata": {},
   "outputs": [
    {
     "data": {
      "image/png": "[encoded data removed]",
      "text/plain": [
       "<matplotlib.figure.Figure at 0x28100241198>"
      ]
     },
     "metadata": {},
     "output_type": "display_data"
    }
   ],
   "source": [
    "stats.probplot(reclean1['Residuals'], plot=plt)\n",
    "plt.show()\n",
    "#This time, we are going to remove the max and min residual"
   ]
  },
  {
   "cell_type": "code",
   "execution_count": 112,
   "metadata": {},
   "outputs": [
    {
     "data": {
      "text/plain": [
       "8.7102"
      ]
     },
     "execution_count": 112,
     "metadata": {},
     "output_type": "execute_result"
    }
   ],
   "source": [
    "reclean1['Residuals'].max()"
   ]
  },
  {
   "cell_type": "code",
   "execution_count": 113,
   "metadata": {},
   "outputs": [
    {
     "data": {
      "text/plain": [
       "-8.3686"
      ]
     },
     "execution_count": 113,
     "metadata": {},
     "output_type": "execute_result"
    }
   ],
   "source": [
    "reclean1['Residuals'].min()"
   ]
  },
  {
   "cell_type": "code",
   "execution_count": 114,
   "metadata": {},
   "outputs": [],
   "source": [
    "reclean2 = re[re['Residuals'] > -8.5]"
   ]
  },
  {
   "cell_type": "code",
   "execution_count": 115,
   "metadata": {},
   "outputs": [],
   "source": [
    "reclean3 = reclean2[reclean2['Residuals'] < 8.75]"
   ]
  },
  {
   "cell_type": "code",
   "execution_count": 116,
   "metadata": {},
   "outputs": [],
   "source": [
    "reclean4 = reclean3[['Awareness', 'Pursuit', 'Tackle', 'Pass Block']]"
   ]
  },
  {
   "cell_type": "code",
   "execution_count": 117,
   "metadata": {},
   "outputs": [],
   "source": [
    "RE8 = sm.OLS(reclean3['Overall Rating'], reclean4).fit()"
   ]
  },
  {
   "cell_type": "code",
   "execution_count": 118,
   "metadata": {},
   "outputs": [
    {
     "name": "stdout",
     "output_type": "stream",
     "text": [
      "                            OLS Regression Results                            \n",
      "==============================================================================\n",
      "Dep. Variable:         Overall Rating   R-squared:                       0.999\n",
      "Model:                            OLS   Adj. R-squared:                  0.999\n",
      "Method:                 Least Squares   F-statistic:                 5.608e+04\n",
      "Date:                Wed, 18 Jul 2018   Prob (F-statistic):               0.00\n",
      "Time:                        13:43:18   Log-Likelihood:                -632.62\n",
      "No. Observations:                 265   AIC:                             1273.\n",
      "Df Residuals:                     261   BIC:                             1288.\n",
      "Df Model:                           4                                         \n",
      "Covariance Type:            nonrobust                                         \n",
      "==============================================================================\n",
      "                 coef    std err          t      P>|t|      [0.025      0.975]\n",
      "------------------------------------------------------------------------------\n",
      "Awareness      0.4737      0.017     27.171      0.000       0.439       0.508\n",
      "Pursuit        0.4280      0.039     10.873      0.000       0.351       0.506\n",
      "Tackle         0.1094      0.038      2.884      0.004       0.035       0.184\n",
      "Pass Block    -0.0716      0.015     -4.883      0.000      -0.101      -0.043\n",
      "==============================================================================\n",
      "Omnibus:                       10.299   Durbin-Watson:                   1.935\n",
      "Prob(Omnibus):                  0.006   Jarque-Bera (JB):               17.057\n",
      "Skew:                          -0.205   Prob(JB):                     0.000198\n",
      "Kurtosis:                       4.174   Cond. No.                         46.0\n",
      "==============================================================================\n",
      "\n",
      "Warnings:\n",
      "[1] Standard Errors assume that the covariance matrix of the errors is correctly specified.\n"
     ]
    }
   ],
   "source": [
    "print(RE7.summary())"
   ]
  },
  {
   "cell_type": "code",
   "execution_count": 119,
   "metadata": {},
   "outputs": [
    {
     "name": "stdout",
     "output_type": "stream",
     "text": [
      "                            OLS Regression Results                            \n",
      "==============================================================================\n",
      "Dep. Variable:         Overall Rating   R-squared:                       0.999\n",
      "Model:                            OLS   Adj. R-squared:                  0.999\n",
      "Method:                 Least Squares   F-statistic:                 6.005e+04\n",
      "Date:                Wed, 18 Jul 2018   Prob (F-statistic):               0.00\n",
      "Time:                        13:43:20   Log-Likelihood:                -617.91\n",
      "No. Observations:                 263   AIC:                             1244.\n",
      "Df Residuals:                     259   BIC:                             1258.\n",
      "Df Model:                           4                                         \n",
      "Covariance Type:            nonrobust                                         \n",
      "==============================================================================\n",
      "                 coef    std err          t      P>|t|      [0.025      0.975]\n",
      "------------------------------------------------------------------------------\n",
      "Awareness      0.4742      0.017     28.246      0.000       0.441       0.507\n",
      "Pursuit        0.4157      0.038     10.887      0.000       0.340       0.491\n",
      "Tackle         0.1206      0.037      3.276      0.001       0.048       0.193\n",
      "Pass Block    -0.0702      0.014     -4.962      0.000      -0.098      -0.042\n",
      "==============================================================================\n",
      "Omnibus:                        8.002   Durbin-Watson:                   1.976\n",
      "Prob(Omnibus):                  0.018   Jarque-Bera (JB):               10.904\n",
      "Skew:                          -0.215   Prob(JB):                      0.00429\n",
      "Kurtosis:                       3.900   Cond. No.                         46.2\n",
      "==============================================================================\n",
      "\n",
      "Warnings:\n",
      "[1] Standard Errors assume that the covariance matrix of the errors is correctly specified.\n"
     ]
    }
   ],
   "source": [
    "print(RE8.summary())\n",
    "#Once agian the AIC score has gone down so the model appears to be stronger by removing two more outliers"
   ]
  },
  {
   "cell_type": "code",
   "execution_count": 120,
   "metadata": {},
   "outputs": [
    {
     "data": {
      "image/png": "[encoded data removed]",
      "text/plain": [
       "<matplotlib.figure.Figure at 0x281016bfba8>"
      ]
     },
     "metadata": {},
     "output_type": "display_data"
    }
   ],
   "source": [
    "plt.hist(reclean3['Residuals'])\n",
    "plt.xlabel('Residual')\n",
    "plt.ylabel('Count')\n",
    "plt.show()"
   ]
  },
  {
   "cell_type": "code",
   "execution_count": 121,
   "metadata": {},
   "outputs": [
    {
     "data": {
      "image/png": "[encoded data removed]",
      "text/plain": [
       "<matplotlib.figure.Figure at 0x281012fd518>"
      ]
     },
     "metadata": {},
     "output_type": "display_data"
    }
   ],
   "source": [
    "stats.probplot(reclean3['Residuals'], plot = plt)\n",
    "plt.show()\n",
    "#It looks like a better fit and the residuals do appear to be evenly disributed"
   ]
  },
  {
   "cell_type": "code",
   "execution_count": 122,
   "metadata": {},
   "outputs": [
    {
     "data": {
      "image/png": "[encoded data removed]",
      "text/plain": [
       "<matplotlib.figure.Figure at 0x28102f95320>"
      ]
     },
     "execution_count": 122,
     "metadata": {},
     "output_type": "execute_result"
    },
    {
     "data": {
      "image/png": "[encoded data removed]",
      "text/plain": [
       "<matplotlib.figure.Figure at 0x28102f95588>"
      ]
     },
     "metadata": {},
     "output_type": "display_data"
    },
    {
     "data": {
      "image/png": "[encoded data removed]",
      "text/plain": [
       "<matplotlib.figure.Figure at 0x28102f95320>"
      ]
     },
     "metadata": {},
     "output_type": "display_data"
    }
   ],
   "source": [
    "from statsmodels.graphics.regressionplots import *\n",
    "plot_leverage_resid2(RE8)\n",
    "influence_plot(RE8)\n",
    "#It looks like we have some leverage points in the data. They do not appear high enough that we need to remove them though"
   ]
  },
  {
   "cell_type": "code",
   "execution_count": 124,
   "metadata": {},
   "outputs": [
    {
     "data": {
      "text/plain": [
       "(120.14918095608115,\n",
       " 7.166512585017826e-26,\n",
       " 54.46002703361771,\n",
       " 2.8337341925726123e-33)"
      ]
     },
     "execution_count": 124,
     "metadata": {},
     "output_type": "execute_result"
    }
   ],
   "source": [
    "#Finally, we move on to the Breusch Pagan test to check for heteroskedasticity\n",
    "het_breuschpagan(reclean3['Residuals'], reclean4)\n",
    "#Based on the extremely low p-values, we can reject the null that there is heteroskedasticity"
   ]
  },
  {
   "cell_type": "code",
   "execution_count": 127,
   "metadata": {},
   "outputs": [
    {
     "name": "stdout",
     "output_type": "stream",
     "text": [
      "[0.9133575  0.         0.91007755 0.84411317 0.82162363] 0.6978343689921891\n"
     ]
    }
   ],
   "source": [
    "#Finally, let's test our new model and see how it did\n",
    "#Now that we have determined that we can use linear regression, let's run some tests and see how accuract our linear \n",
    "#regression model is\n",
    "X_train, X_test, y_train, y_test = train_test_split(reclean4, reclean3['Overall Rating'], test_size = 0.3, random_state=42)\n",
    "reg = LinearRegression()\n",
    "reg.fit(X_train, y_train)\n",
    "recv = cross_val_score(reg, reclean4, reclean3['Overall Rating'], cv=5)\n",
    "recv_mean = np.mean(recv)\n",
    "print(recv, recv_mean)\n",
    "#It looks like on average this model explained 70% in the variation in the data\n",
    "#It looks like the original was slightly less accuracte"
   ]
  },
  {
   "cell_type": "code",
   "execution_count": 128,
   "metadata": {},
   "outputs": [
    {
     "name": "stdout",
     "output_type": "stream",
     "text": [
      "[0.89140437 0.         0.92013804 0.83361971 0.80182673] 0.6893977694695351\n"
     ]
    }
   ],
   "source": [
    "X_train, X_test, y_train, y_test = train_test_split(recleansig, reclean['Overall Rating'], test_size = 0.3, random_state=42)\n",
    "reg = LinearRegression()\n",
    "reg.fit(X_train, y_train)\n",
    "recv = cross_val_score(reg, recleansig, reclean['Overall Rating'], cv=5)\n",
    "recv_mean = np.mean(recv)\n",
    "print(recv, recv_mean)\n",
    "#In both models, it looks like the progam really struggled with the 2nd test"
   ]
  },
  {
   "cell_type": "code",
   "execution_count": 130,
   "metadata": {},
   "outputs": [],
   "source": [
    "redesc=reclean[['Overall Rating', 'Awareness', 'Pursuit', 'Tackle', 'Pass Block']]\n",
    "redesc1 = redesc.describe()\n",
    "redesc1.to_csv('C:\\\\Users\\\\tilleymusprime\\\\Desktop\\\\redesc1.csv')"
   ]
  },
  {
   "cell_type": "code",
   "execution_count": null,
   "metadata": {},
   "outputs": [],
   "source": []
  },
  {
   "cell_type": "code",
   "execution_count": null,
   "metadata": {},
   "outputs": [],
   "source": []
  }
 ],
 "metadata": {
  "kernelspec": {
   "display_name": "Python 3",
   "language": "python",
   "name": "python3"
  },
  "language_info": {
   "codemirror_mode": {
    "name": "ipython",
    "version": 3
   },
   "file_extension": ".py",
   "mimetype": "text/x-python",
   "name": "python",
   "nbconvert_exporter": "python",
   "pygments_lexer": "ipython3",
   "version": "3.6.4"
  }
 },
 "nbformat": 4,
 "nbformat_minor": 2
}
