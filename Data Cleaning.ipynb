{
 "cells": [
  {
   "cell_type": "code",
   "execution_count": 9,
   "metadata": {},
   "outputs": [],
   "source": [
    "import pandas as pd\n",
    "import numpy as np\n",
    "#In this workbook, we will be gathering, cleaning and wrangling all of the data we will be using in this project.\n",
    "#Our goal for this data is to one value for each column and haev each player appear exactly 1 time.\n",
    "#We will first upload the 4 madden datasets and merge them into one dataframe.\n",
    "#We will use all of the columns from 2018 and change the appropriate column names from the other 3 sets.\n",
    "#We will also turn off chained warnings because they can take up a lot of space at inconveient times\n",
    "pd.options.mode.chained_assignment = None"
   ]
  },
  {
   "cell_type": "code",
   "execution_count": 10,
   "metadata": {},
   "outputs": [],
   "source": [
    "m18 = pd.read_csv('C:\\\\Users\\\\tilleymusprime\\\\Desktop\\\\Madden18PlayerRatings.csv')"
   ]
  },
  {
   "cell_type": "code",
   "execution_count": 11,
   "metadata": {},
   "outputs": [],
   "source": [
    "m17 = pd.read_excel('C:\\\\Users\\\\tilleymusprime\\\\Desktop\\\\Madden17PlayerRatings.xlsx')"
   ]
  },
  {
   "cell_type": "code",
   "execution_count": 12,
   "metadata": {},
   "outputs": [],
   "source": [
    "m18cols = list(m18.columns.values)"
   ]
  },
  {
   "cell_type": "code",
   "execution_count": 13,
   "metadata": {},
   "outputs": [
    {
     "name": "stdout",
     "output_type": "stream",
     "text": [
      "['Team', 'Last Name', 'First Name', 'Position', 'Overall Rating', 'Speed', 'Acceleration', 'Strength', 'Agility', 'Awareness', 'Catching', 'Carrying', 'Throw Power', 'Throw Accuracy', 'Kick Power', 'Kick Accuracy', 'Run Block', 'Pass Block', 'Tackle', 'Jumping', 'Kick Return', 'Injury', 'Stamina', 'Toughness', 'Trucking', 'Elusiveness', 'Ball Carrier Vision', 'Stiff Arm', 'Spin Move', 'Juke Move', 'Impact Blocking', 'Run Block Strength', 'Run Block Footwork', 'Pass Block Strength', 'Pass Block Footwork', 'Power Moves', 'Finesse Moves', 'Block Shedding', 'Pursuit', 'Play Recognition', 'Man Coverage', 'Zone Coverage', 'Spectacular Catch', 'Catch In Traffic', 'Route Running', 'Hit Power', 'Press', 'Release', 'Throw Accuracy Short', 'Throw Accuracy Mid', 'Throw Accuracy Deep', 'Play Action', 'Throw on the Run', 'Height', 'Weight', 'Age', 'Years Pro', 'College', 'Total Salary', 'Signing Bonus', 'Handedness']\n"
     ]
    }
   ],
   "source": [
    "print(m18cols)"
   ]
  },
  {
   "cell_type": "code",
   "execution_count": 14,
   "metadata": {},
   "outputs": [],
   "source": [
    "m18['Name'] = m18['First Name'] + ' ' + m18['Last Name']"
   ]
  },
  {
   "cell_type": "code",
   "execution_count": 15,
   "metadata": {},
   "outputs": [],
   "source": [
    "#Here, we will add the Name variable and replace the first name and last name variables\n",
    "m18 = m18[['Name','Team', 'Position', 'Height', 'Weight', 'Age', 'Overall Rating', 'Speed', 'Acceleration', 'Strength',\n",
    "           'Agility', 'Awareness', 'Catching', 'Carrying', 'Throw Power', 'Throw Accuracy',\n",
    "           'Run Block', 'Pass Block', 'Tackle', 'Jumping', 'Injury', 'Stamina', 'Toughness', 'Trucking',\n",
    "           'Elusiveness', 'Ball Carrier Vision', 'Stiff Arm', 'Spin Move', 'Juke Move', 'Impact Blocking',\n",
    "           'Run Block Strength', 'Run Block Footwork', 'Pass Block Strength', 'Pass Block Footwork', 'Power Moves',\n",
    "           'Finesse Moves', 'Block Shedding', 'Pursuit', 'Play Recognition', 'Man Coverage', 'Zone Coverage',\n",
    "           'Spectacular Catch', 'Catch In Traffic', 'Route Running', 'Hit Power', 'Press', 'Release',\n",
    "           'Throw Accuracy Short', 'Throw Accuracy Mid', 'Throw Accuracy Deep', 'Play Action', 'Throw on the Run',\n",
    "           'Years Pro', 'College', 'Total Salary', 'Signing Bonus', 'Handedness']]"
   ]
  },
  {
   "cell_type": "code",
   "execution_count": 16,
   "metadata": {},
   "outputs": [],
   "source": [
    "m17cols = list(m17.columns.values)"
   ]
  },
  {
   "cell_type": "code",
   "execution_count": 17,
   "metadata": {},
   "outputs": [
    {
     "name": "stdout",
     "output_type": "stream",
     "text": [
      "['team', 'firstName', 'lastName', 'position', 'ovr', 'speed', 'acceleration', 'strength', 'agility', 'awareness', 'catching', 'carrying', 'throwPower', 'throwAccuracy', 'runBlock', 'passBlock', 'tackle', 'jumping', 'injury', 'stamina', 'toughness', 'trucking', 'elusiveness', 'bCVision', 'stiffArm', 'spinMove', 'jukeMove', 'impactBlocking', 'runBlockStrength', 'runBlockFootwork', 'passBlockStrength', 'passBlockFootwork', 'powerMoves', 'finesseMoves', 'blockShedding', 'pursuit', 'playRecognition', 'manCoverage', 'zoneCoverage', 'spectacularCatch', 'catchInTraffic', 'routeRunning', 'hitPower', 'press', 'release', 'throwAccuracyShort', 'throwAccuracyMid', 'throwAccuracyDeep', 'playAction', 'throwOnTheRun', 'height', 'weight', 'age']\n"
     ]
    }
   ],
   "source": [
    "print(m17cols)"
   ]
  },
  {
   "cell_type": "code",
   "execution_count": null,
   "metadata": {},
   "outputs": [],
   "source": []
  },
  {
   "cell_type": "code",
   "execution_count": 85,
   "metadata": {},
   "outputs": [],
   "source": []
  },
  {
   "cell_type": "code",
   "execution_count": null,
   "metadata": {},
   "outputs": [],
   "source": []
  },
  {
   "cell_type": "code",
   "execution_count": 10,
   "metadata": {},
   "outputs": [],
   "source": []
  },
  {
   "cell_type": "code",
   "execution_count": 82,
   "metadata": {},
   "outputs": [],
   "source": []
  },
  {
   "cell_type": "code",
   "execution_count": null,
   "metadata": {},
   "outputs": [],
   "source": []
  },
  {
   "cell_type": "code",
   "execution_count": null,
   "metadata": {},
   "outputs": [],
   "source": [
    "#Since we are using the 2018 data as our baseline, we will change the names of all the 2017 columns to match all of the\n",
    "# 2018 columns"
   ]
  },
  {
   "cell_type": "code",
   "execution_count": 18,
   "metadata": {},
   "outputs": [],
   "source": [
    "m17['Name'] =  m17['firstName'] + ' ' + m17['lastName']"
   ]
  },
  {
   "cell_type": "code",
   "execution_count": 19,
   "metadata": {},
   "outputs": [],
   "source": [
    "m17['Hit Power'] = m17['hitPower']"
   ]
  },
  {
   "cell_type": "code",
   "execution_count": 20,
   "metadata": {},
   "outputs": [],
   "source": [
    "m17['Press'] = m17['press']"
   ]
  },
  {
   "cell_type": "code",
   "execution_count": 21,
   "metadata": {},
   "outputs": [],
   "source": [
    "m17['Release'] = m17['release']"
   ]
  },
  {
   "cell_type": "code",
   "execution_count": 22,
   "metadata": {},
   "outputs": [],
   "source": [
    "m17['Throw Accuracy Short'] = m17['throwAccuracyShort']"
   ]
  },
  {
   "cell_type": "code",
   "execution_count": 24,
   "metadata": {},
   "outputs": [],
   "source": [
    "m17['Throw Accuracy Mid'] = m17['throwAccuracyMid']"
   ]
  },
  {
   "cell_type": "code",
   "execution_count": 25,
   "metadata": {},
   "outputs": [],
   "source": [
    "m17['Throw Accuracy Deep'] = m17['throwAccuracyDeep']"
   ]
  },
  {
   "cell_type": "code",
   "execution_count": null,
   "metadata": {},
   "outputs": [],
   "source": []
  },
  {
   "cell_type": "code",
   "execution_count": 26,
   "metadata": {},
   "outputs": [],
   "source": [
    "m17['Run Block Strength'] = m17['runBlockStrength']"
   ]
  },
  {
   "cell_type": "code",
   "execution_count": 27,
   "metadata": {},
   "outputs": [],
   "source": [
    "m17['Run Block Footwork'] = m17['runBlockFootwork']"
   ]
  },
  {
   "cell_type": "code",
   "execution_count": 28,
   "metadata": {},
   "outputs": [],
   "source": [
    "m17['Pass Block Strength'] = m17['passBlockStrength']"
   ]
  },
  {
   "cell_type": "code",
   "execution_count": 29,
   "metadata": {},
   "outputs": [],
   "source": [
    "m17['Pass Block Footwork'] = m17['passBlockFootwork']"
   ]
  },
  {
   "cell_type": "code",
   "execution_count": 30,
   "metadata": {},
   "outputs": [],
   "source": [
    "m17['Power Moves'] = m17['powerMoves']"
   ]
  },
  {
   "cell_type": "code",
   "execution_count": 31,
   "metadata": {},
   "outputs": [],
   "source": [
    "m17['Finesse Moves'] = m17['finesseMoves']"
   ]
  },
  {
   "cell_type": "code",
   "execution_count": 32,
   "metadata": {},
   "outputs": [],
   "source": [
    "m17['Block Shedding'] = m17['blockShedding']"
   ]
  },
  {
   "cell_type": "code",
   "execution_count": 33,
   "metadata": {},
   "outputs": [],
   "source": [
    "m17['Pursuit'] = m17['pursuit']"
   ]
  },
  {
   "cell_type": "code",
   "execution_count": 34,
   "metadata": {},
   "outputs": [],
   "source": [
    "m17['Play Recognition'] = m17['playRecognition']"
   ]
  },
  {
   "cell_type": "code",
   "execution_count": 35,
   "metadata": {},
   "outputs": [],
   "source": [
    "m17['Man Coverage'] = m17['manCoverage']"
   ]
  },
  {
   "cell_type": "code",
   "execution_count": 36,
   "metadata": {},
   "outputs": [],
   "source": [
    "m17['Zone Coverage'] = m17['zoneCoverage']"
   ]
  },
  {
   "cell_type": "code",
   "execution_count": 37,
   "metadata": {},
   "outputs": [],
   "source": [
    "m17['Spectacular Catch'] = m17['spectacularCatch']"
   ]
  },
  {
   "cell_type": "code",
   "execution_count": 38,
   "metadata": {},
   "outputs": [],
   "source": [
    "m17['Catch In Traffic'] = m17['catchInTraffic']"
   ]
  },
  {
   "cell_type": "code",
   "execution_count": 39,
   "metadata": {},
   "outputs": [],
   "source": [
    "m17['Route Running'] = m17['routeRunning']"
   ]
  },
  {
   "cell_type": "code",
   "execution_count": 40,
   "metadata": {},
   "outputs": [],
   "source": [
    "m17['Run Block'] = m17['runBlock']"
   ]
  },
  {
   "cell_type": "code",
   "execution_count": 41,
   "metadata": {},
   "outputs": [],
   "source": [
    "m17['Pass Block'] = m17['passBlock']"
   ]
  },
  {
   "cell_type": "code",
   "execution_count": 42,
   "metadata": {},
   "outputs": [],
   "source": [
    "m17['Tackle'] = m17['tackle']"
   ]
  },
  {
   "cell_type": "code",
   "execution_count": 43,
   "metadata": {},
   "outputs": [],
   "source": [
    "m17['Jumping'] = m17['jumping']"
   ]
  },
  {
   "cell_type": "code",
   "execution_count": 44,
   "metadata": {},
   "outputs": [],
   "source": [
    "m17['Injury'] = m17['injury']"
   ]
  },
  {
   "cell_type": "code",
   "execution_count": 45,
   "metadata": {},
   "outputs": [],
   "source": [
    "m17['Stamina'] = m17['stamina']"
   ]
  },
  {
   "cell_type": "code",
   "execution_count": 46,
   "metadata": {},
   "outputs": [],
   "source": [
    "m17['Toughness'] = m17['toughness']"
   ]
  },
  {
   "cell_type": "code",
   "execution_count": 47,
   "metadata": {},
   "outputs": [],
   "source": [
    "m17['Trucking'] = m17['trucking']"
   ]
  },
  {
   "cell_type": "code",
   "execution_count": 48,
   "metadata": {},
   "outputs": [],
   "source": [
    "m17['Elusiveness'] = m17['elusiveness']"
   ]
  },
  {
   "cell_type": "code",
   "execution_count": 49,
   "metadata": {},
   "outputs": [],
   "source": [
    "m17['Ball Carrier Vision'] = m17['bCVision']"
   ]
  },
  {
   "cell_type": "code",
   "execution_count": 50,
   "metadata": {},
   "outputs": [],
   "source": [
    "m17['Stiff Arm'] = m17['stiffArm']"
   ]
  },
  {
   "cell_type": "code",
   "execution_count": 51,
   "metadata": {},
   "outputs": [],
   "source": [
    "m17['Spin Move'] = m17['spinMove']"
   ]
  },
  {
   "cell_type": "code",
   "execution_count": 52,
   "metadata": {},
   "outputs": [],
   "source": [
    "m17['Juke Move'] = m17['jukeMove']"
   ]
  },
  {
   "cell_type": "code",
   "execution_count": 53,
   "metadata": {},
   "outputs": [],
   "source": [
    "m17['Impact Blocking'] = m17['impactBlocking']"
   ]
  },
  {
   "cell_type": "code",
   "execution_count": 54,
   "metadata": {},
   "outputs": [],
   "source": [
    "m17['Throw on the Run'] = m17['throwOnTheRun']"
   ]
  },
  {
   "cell_type": "code",
   "execution_count": 55,
   "metadata": {},
   "outputs": [],
   "source": [
    "m17['Play Action'] = m17['playAction']"
   ]
  },
  {
   "cell_type": "code",
   "execution_count": 56,
   "metadata": {},
   "outputs": [],
   "source": [
    "m17['Team'] = m17['team']"
   ]
  },
  {
   "cell_type": "code",
   "execution_count": 57,
   "metadata": {},
   "outputs": [],
   "source": [
    "m17['Position'] = m17['position']"
   ]
  },
  {
   "cell_type": "code",
   "execution_count": 58,
   "metadata": {},
   "outputs": [],
   "source": [
    "m17['Height'] = m17['height']"
   ]
  },
  {
   "cell_type": "code",
   "execution_count": 59,
   "metadata": {},
   "outputs": [],
   "source": [
    "m17['Weight'] = m17['weight']"
   ]
  },
  {
   "cell_type": "code",
   "execution_count": 60,
   "metadata": {},
   "outputs": [],
   "source": [
    "m17['Age'] = m17['age']"
   ]
  },
  {
   "cell_type": "code",
   "execution_count": 61,
   "metadata": {},
   "outputs": [],
   "source": [
    "m17['Overall Rating'] = m17['ovr']"
   ]
  },
  {
   "cell_type": "code",
   "execution_count": 62,
   "metadata": {},
   "outputs": [],
   "source": [
    "m17['Speed'] = m17['speed']"
   ]
  },
  {
   "cell_type": "code",
   "execution_count": 63,
   "metadata": {},
   "outputs": [],
   "source": [
    "m17['Acceleration'] = m17['acceleration']"
   ]
  },
  {
   "cell_type": "code",
   "execution_count": 64,
   "metadata": {},
   "outputs": [],
   "source": [
    "m17['Strength'] = m17['strength']"
   ]
  },
  {
   "cell_type": "code",
   "execution_count": 65,
   "metadata": {},
   "outputs": [],
   "source": [
    "m17['Agility'] = m17['agility']"
   ]
  },
  {
   "cell_type": "code",
   "execution_count": 66,
   "metadata": {},
   "outputs": [],
   "source": [
    "m17['Awareness'] = m17['awareness']"
   ]
  },
  {
   "cell_type": "code",
   "execution_count": 67,
   "metadata": {},
   "outputs": [],
   "source": [
    "m17['Catching'] = m17['catching']"
   ]
  },
  {
   "cell_type": "code",
   "execution_count": 68,
   "metadata": {},
   "outputs": [],
   "source": [
    "m17['Carrying'] = m17['carrying']"
   ]
  },
  {
   "cell_type": "code",
   "execution_count": 69,
   "metadata": {},
   "outputs": [],
   "source": [
    "m17['Throw Power'] = m17['throwPower']"
   ]
  },
  {
   "cell_type": "code",
   "execution_count": 70,
   "metadata": {},
   "outputs": [],
   "source": [
    "m17['Throw Accuracy'] = m17['throwAccuracy']"
   ]
  },
  {
   "cell_type": "code",
   "execution_count": 73,
   "metadata": {},
   "outputs": [
    {
     "name": "stdout",
     "output_type": "stream",
     "text": [
      "['Team', 'Last Name', 'First Name', 'Position', 'Overall Rating', 'Speed', 'Acceleration', 'Strength', 'Agility', 'Awareness', 'Catching', 'Carrying', 'Throw Power', 'Throw Accuracy', 'Kick Power', 'Kick Accuracy', 'Run Block', 'Pass Block', 'Tackle', 'Jumping', 'Kick Return', 'Injury', 'Stamina', 'Toughness', 'Trucking', 'Elusiveness', 'Ball Carrier Vision', 'Stiff Arm', 'Spin Move', 'Juke Move', 'Impact Blocking', 'Run Block Strength', 'Run Block Footwork', 'Pass Block Strength', 'Pass Block Footwork', 'Power Moves', 'Finesse Moves', 'Block Shedding', 'Pursuit', 'Play Recognition', 'Man Coverage', 'Zone Coverage', 'Spectacular Catch', 'Catch In Traffic', 'Route Running', 'Hit Power', 'Press', 'Release', 'Throw Accuracy Short', 'Throw Accuracy Mid', 'Throw Accuracy Deep', 'Play Action', 'Throw on the Run', 'Height', 'Weight', 'Age', 'Years Pro', 'College', 'Total Salary', 'Signing Bonus', 'Handedness']\n"
     ]
    }
   ],
   "source": [
    "#Now that we have created all of the necessary additional columns.  We will create a new version of m17 that only contains the \n",
    "#columns matching 2018.\n",
    "print(m18cols)"
   ]
  },
  {
   "cell_type": "code",
   "execution_count": 75,
   "metadata": {},
   "outputs": [],
   "source": [
    "m17a = m17[['Name','Team', 'Position', 'Height', 'Weight', 'Age', 'Overall Rating', 'Speed', 'Acceleration', 'Strength',\n",
    "           'Agility', 'Awareness', 'Catching', 'Carrying', 'Throw Power', 'Throw Accuracy',\n",
    "           'Run Block', 'Pass Block', 'Tackle', 'Jumping', 'Injury', 'Stamina', 'Toughness', 'Trucking',\n",
    "           'Elusiveness', 'Ball Carrier Vision', 'Stiff Arm', 'Spin Move', 'Juke Move', 'Impact Blocking',\n",
    "           'Run Block Strength', 'Run Block Footwork', 'Pass Block Strength', 'Pass Block Footwork', 'Power Moves',\n",
    "           'Finesse Moves', 'Block Shedding', 'Pursuit', 'Play Recognition', 'Man Coverage', 'Zone Coverage',\n",
    "           'Spectacular Catch', 'Catch In Traffic', 'Route Running', 'Hit Power', 'Press', 'Release',\n",
    "           'Throw Accuracy Short', 'Throw Accuracy Mid', 'Throw Accuracy Deep', 'Play Action', 'Throw on the Run']]"
   ]
  },
  {
   "cell_type": "code",
   "execution_count": 76,
   "metadata": {},
   "outputs": [],
   "source": [
    "#Here, we will drop the columns in 2018 that are not in 2017.  This will ensure there are no empty cells\n",
    "m18a = m18[['Name','Team', 'Position', 'Height', 'Weight', 'Age', 'Overall Rating', 'Speed', 'Acceleration', 'Strength',\n",
    "           'Agility', 'Awareness', 'Catching', 'Carrying', 'Throw Power', 'Throw Accuracy',\n",
    "           'Run Block', 'Pass Block', 'Tackle', 'Jumping', 'Injury', 'Stamina', 'Toughness', 'Trucking',\n",
    "           'Elusiveness', 'Ball Carrier Vision', 'Stiff Arm', 'Spin Move', 'Juke Move', 'Impact Blocking',\n",
    "           'Run Block Strength', 'Run Block Footwork', 'Pass Block Strength', 'Pass Block Footwork', 'Power Moves',\n",
    "           'Finesse Moves', 'Block Shedding', 'Pursuit', 'Play Recognition', 'Man Coverage', 'Zone Coverage',\n",
    "           'Spectacular Catch', 'Catch In Traffic', 'Route Running', 'Hit Power', 'Press', 'Release',\n",
    "           'Throw Accuracy Short', 'Throw Accuracy Mid', 'Throw Accuracy Deep', 'Play Action', 'Throw on the Run']]"
   ]
  },
  {
   "cell_type": "code",
   "execution_count": 77,
   "metadata": {},
   "outputs": [],
   "source": [
    "m2merge = pd.concat([m18a, m17a])\n",
    "m2mergedrop = m2merge.drop_duplicates(subset = 'Name')\n",
    "#We have successfully concatenated the two data sets and removed all of the duplicates based on the players name.\n",
    "#We are now ready to add in 2016 data"
   ]
  },
  {
   "cell_type": "code",
   "execution_count": 78,
   "metadata": {},
   "outputs": [],
   "source": [
    "#Madden 16 Cleaning\n",
    "m16 = pd.read_excel('C:\\\\Users\\\\tilleymusprime\\\\Desktop\\\\Madden16PlayerRatings.xlsx')"
   ]
  },
  {
   "cell_type": "code",
   "execution_count": 79,
   "metadata": {},
   "outputs": [
    {
     "name": "stdout",
     "output_type": "stream",
     "text": [
      "['Name', 'Team', 'Position', 'Height', 'Weight', 'Age', 'Overall Rating', 'Speed', 'Acceleration', 'Strength', 'Agility', 'Awareness', 'Catching', 'Carrying', 'Throw Power', 'Throw Accuracy', 'Run Block', 'Pass Block', 'Tackle', 'Jumping', 'Injury', 'Stamina', 'Toughness', 'Trucking', 'Elusiveness', 'Ball Carrier Vision', 'Stiff Arm', 'Spin Move', 'Juke Move', 'Impact Blocking', 'Run Block Strength', 'Run Block Footwork', 'Pass Block Strength', 'Pass Block Footwork', 'Power Moves', 'Finesse Moves', 'Block Shedding', 'Pursuit', 'Play Recognition', 'Man Coverage', 'Zone Coverage', 'Spectacular Catch', 'Catch In Traffic', 'Route Running', 'Hit Power', 'Press', 'Release', 'Throw Accuracy Short', 'Throw Accuracy Mid', 'Throw Accuracy Deep', 'Play Action', 'Throw on the Run']\n"
     ]
    }
   ],
   "source": [
    "m2mergecols = list(m2merge.columns.values)\n",
    "print(m2mergecols)"
   ]
  },
  {
   "cell_type": "code",
   "execution_count": 80,
   "metadata": {},
   "outputs": [
    {
     "name": "stdout",
     "output_type": "stream",
     "text": [
      "['Team', 'First Name', 'Last Name', 'Position', 'Jersey Number', 'OVR', 'Speed', 'Acceleration', 'Strength', 'Agility', 'Awareness', 'Catching', 'Carrying', 'Throw Power', 'Throw Accuracy Short', 'Throw Accuracy Mid', 'Throw Accuracy Deep', 'Kick Power', 'Kick Accuracy', 'Run Block', 'Pass Block', 'Tackle', 'Jumping', 'Kick Return', 'Injury', 'Stamina', 'Toughness', 'Trucking', 'Elusiveness', 'Ball Carrier Vision', 'Stiff Arm', 'Spin Move', 'Juke Move', 'Impact Block', 'Power Moves', 'Finesse Moves', 'Block Shedding', 'Pursuit', 'Play Recognition', 'Man Coverage', 'Zone Coverage', 'Spectactular Catch', 'Catch In Traffic', 'Route Running', 'Hit Power', 'Press', 'Release', 'Play Action', 'Throw On The Run', 'Height', 'Weight']\n"
     ]
    }
   ],
   "source": [
    "m16cols = list(m16.columns.values)\n",
    "print(m16cols)"
   ]
  },
  {
   "cell_type": "code",
   "execution_count": 81,
   "metadata": {},
   "outputs": [
    {
     "ename": "KeyError",
     "evalue": "\"['Name' 'Age' 'Overall Rating' 'Throw Accuracy' 'Impact Blocking'\\n 'Run Block Strength' 'Run Block Footwork' 'Pass Block Strength'\\n 'Pass Block Footwork' 'Spectacular Catch' 'Throw on the Run'] not in index\"",
     "output_type": "error",
     "traceback": [
      "\u001b[1;31m---------------------------------------------------------------------------\u001b[0m",
      "\u001b[1;31mKeyError\u001b[0m                                  Traceback (most recent call last)",
      "\u001b[1;32m<ipython-input-81-f3538996f7e1>\u001b[0m in \u001b[0;36m<module>\u001b[1;34m()\u001b[0m\n\u001b[0;32m     10\u001b[0m            \u001b[1;34m'Finesse Moves'\u001b[0m\u001b[1;33m,\u001b[0m \u001b[1;34m'Block Shedding'\u001b[0m\u001b[1;33m,\u001b[0m \u001b[1;34m'Pursuit'\u001b[0m\u001b[1;33m,\u001b[0m \u001b[1;34m'Play Recognition'\u001b[0m\u001b[1;33m,\u001b[0m \u001b[1;34m'Man Coverage'\u001b[0m\u001b[1;33m,\u001b[0m \u001b[1;34m'Zone Coverage'\u001b[0m\u001b[1;33m,\u001b[0m\u001b[1;33m\u001b[0m\u001b[0m\n\u001b[0;32m     11\u001b[0m            \u001b[1;34m'Spectacular Catch'\u001b[0m\u001b[1;33m,\u001b[0m \u001b[1;34m'Catch In Traffic'\u001b[0m\u001b[1;33m,\u001b[0m \u001b[1;34m'Route Running'\u001b[0m\u001b[1;33m,\u001b[0m \u001b[1;34m'Hit Power'\u001b[0m\u001b[1;33m,\u001b[0m \u001b[1;34m'Press'\u001b[0m\u001b[1;33m,\u001b[0m \u001b[1;34m'Release'\u001b[0m\u001b[1;33m,\u001b[0m\u001b[1;33m\u001b[0m\u001b[0m\n\u001b[1;32m---> 12\u001b[1;33m            'Throw Accuracy Short', 'Throw Accuracy Mid', 'Throw Accuracy Deep', 'Play Action', 'Throw on the Run']]\n\u001b[0m",
      "\u001b[1;32m~\\Anaconda3\\lib\\site-packages\\pandas\\core\\frame.py\u001b[0m in \u001b[0;36m__getitem__\u001b[1;34m(self, key)\u001b[0m\n\u001b[0;32m   2131\u001b[0m         \u001b[1;32mif\u001b[0m \u001b[0misinstance\u001b[0m\u001b[1;33m(\u001b[0m\u001b[0mkey\u001b[0m\u001b[1;33m,\u001b[0m \u001b[1;33m(\u001b[0m\u001b[0mSeries\u001b[0m\u001b[1;33m,\u001b[0m \u001b[0mnp\u001b[0m\u001b[1;33m.\u001b[0m\u001b[0mndarray\u001b[0m\u001b[1;33m,\u001b[0m \u001b[0mIndex\u001b[0m\u001b[1;33m,\u001b[0m \u001b[0mlist\u001b[0m\u001b[1;33m)\u001b[0m\u001b[1;33m)\u001b[0m\u001b[1;33m:\u001b[0m\u001b[1;33m\u001b[0m\u001b[0m\n\u001b[0;32m   2132\u001b[0m             \u001b[1;31m# either boolean or fancy integer index\u001b[0m\u001b[1;33m\u001b[0m\u001b[1;33m\u001b[0m\u001b[0m\n\u001b[1;32m-> 2133\u001b[1;33m             \u001b[1;32mreturn\u001b[0m \u001b[0mself\u001b[0m\u001b[1;33m.\u001b[0m\u001b[0m_getitem_array\u001b[0m\u001b[1;33m(\u001b[0m\u001b[0mkey\u001b[0m\u001b[1;33m)\u001b[0m\u001b[1;33m\u001b[0m\u001b[0m\n\u001b[0m\u001b[0;32m   2134\u001b[0m         \u001b[1;32melif\u001b[0m \u001b[0misinstance\u001b[0m\u001b[1;33m(\u001b[0m\u001b[0mkey\u001b[0m\u001b[1;33m,\u001b[0m \u001b[0mDataFrame\u001b[0m\u001b[1;33m)\u001b[0m\u001b[1;33m:\u001b[0m\u001b[1;33m\u001b[0m\u001b[0m\n\u001b[0;32m   2135\u001b[0m             \u001b[1;32mreturn\u001b[0m \u001b[0mself\u001b[0m\u001b[1;33m.\u001b[0m\u001b[0m_getitem_frame\u001b[0m\u001b[1;33m(\u001b[0m\u001b[0mkey\u001b[0m\u001b[1;33m)\u001b[0m\u001b[1;33m\u001b[0m\u001b[0m\n",
      "\u001b[1;32m~\\Anaconda3\\lib\\site-packages\\pandas\\core\\frame.py\u001b[0m in \u001b[0;36m_getitem_array\u001b[1;34m(self, key)\u001b[0m\n\u001b[0;32m   2175\u001b[0m             \u001b[1;32mreturn\u001b[0m \u001b[0mself\u001b[0m\u001b[1;33m.\u001b[0m\u001b[0m_take\u001b[0m\u001b[1;33m(\u001b[0m\u001b[0mindexer\u001b[0m\u001b[1;33m,\u001b[0m \u001b[0maxis\u001b[0m\u001b[1;33m=\u001b[0m\u001b[1;36m0\u001b[0m\u001b[1;33m,\u001b[0m \u001b[0mconvert\u001b[0m\u001b[1;33m=\u001b[0m\u001b[1;32mFalse\u001b[0m\u001b[1;33m)\u001b[0m\u001b[1;33m\u001b[0m\u001b[0m\n\u001b[0;32m   2176\u001b[0m         \u001b[1;32melse\u001b[0m\u001b[1;33m:\u001b[0m\u001b[1;33m\u001b[0m\u001b[0m\n\u001b[1;32m-> 2177\u001b[1;33m             \u001b[0mindexer\u001b[0m \u001b[1;33m=\u001b[0m \u001b[0mself\u001b[0m\u001b[1;33m.\u001b[0m\u001b[0mloc\u001b[0m\u001b[1;33m.\u001b[0m\u001b[0m_convert_to_indexer\u001b[0m\u001b[1;33m(\u001b[0m\u001b[0mkey\u001b[0m\u001b[1;33m,\u001b[0m \u001b[0maxis\u001b[0m\u001b[1;33m=\u001b[0m\u001b[1;36m1\u001b[0m\u001b[1;33m)\u001b[0m\u001b[1;33m\u001b[0m\u001b[0m\n\u001b[0m\u001b[0;32m   2178\u001b[0m             \u001b[1;32mreturn\u001b[0m \u001b[0mself\u001b[0m\u001b[1;33m.\u001b[0m\u001b[0m_take\u001b[0m\u001b[1;33m(\u001b[0m\u001b[0mindexer\u001b[0m\u001b[1;33m,\u001b[0m \u001b[0maxis\u001b[0m\u001b[1;33m=\u001b[0m\u001b[1;36m1\u001b[0m\u001b[1;33m,\u001b[0m \u001b[0mconvert\u001b[0m\u001b[1;33m=\u001b[0m\u001b[1;32mTrue\u001b[0m\u001b[1;33m)\u001b[0m\u001b[1;33m\u001b[0m\u001b[0m\n\u001b[0;32m   2179\u001b[0m \u001b[1;33m\u001b[0m\u001b[0m\n",
      "\u001b[1;32m~\\Anaconda3\\lib\\site-packages\\pandas\\core\\indexing.py\u001b[0m in \u001b[0;36m_convert_to_indexer\u001b[1;34m(self, obj, axis, is_setter)\u001b[0m\n\u001b[0;32m   1267\u001b[0m                 \u001b[1;32mif\u001b[0m \u001b[0mmask\u001b[0m\u001b[1;33m.\u001b[0m\u001b[0many\u001b[0m\u001b[1;33m(\u001b[0m\u001b[1;33m)\u001b[0m\u001b[1;33m:\u001b[0m\u001b[1;33m\u001b[0m\u001b[0m\n\u001b[0;32m   1268\u001b[0m                     raise KeyError('{mask} not in index'\n\u001b[1;32m-> 1269\u001b[1;33m                                    .format(mask=objarr[mask]))\n\u001b[0m\u001b[0;32m   1270\u001b[0m \u001b[1;33m\u001b[0m\u001b[0m\n\u001b[0;32m   1271\u001b[0m                 \u001b[1;32mreturn\u001b[0m \u001b[0m_values_from_object\u001b[0m\u001b[1;33m(\u001b[0m\u001b[0mindexer\u001b[0m\u001b[1;33m)\u001b[0m\u001b[1;33m\u001b[0m\u001b[0m\n",
      "\u001b[1;31mKeyError\u001b[0m: \"['Name' 'Age' 'Overall Rating' 'Throw Accuracy' 'Impact Blocking'\\n 'Run Block Strength' 'Run Block Footwork' 'Pass Block Strength'\\n 'Pass Block Footwork' 'Spectacular Catch' 'Throw on the Run'] not in index\""
     ]
    }
   ],
   "source": [
    "#Now we will match up the columns from 2016 with our main data set.  It looks like we will have to add name\n",
    "#We will remove throw accuracy (other variables make up for this so it won't hurt the model), \n",
    "#'Age,Impact Blocking, Run Block, Strength, 'Run Block Footwork' 'Pass Block Strength','Pass Block Footwork, 'Throw on the Run\n",
    "#'Spectacular Catch and Ovr will be changed to their main data set column names\n",
    "m16a = m16[['Name','Team', 'Position', 'Height', 'Weight', 'Age', 'Overall Rating', 'Speed', 'Acceleration', 'Strength',\n",
    "           'Agility', 'Awareness', 'Catching', 'Carrying', 'Throw Power', 'Throw Accuracy',\n",
    "           'Run Block', 'Pass Block', 'Tackle', 'Jumping', 'Injury', 'Stamina', 'Toughness', 'Trucking',\n",
    "           'Elusiveness', 'Ball Carrier Vision', 'Stiff Arm', 'Spin Move', 'Juke Move', 'Impact Blocking',\n",
    "           'Run Block Strength', 'Run Block Footwork', 'Pass Block Strength', 'Pass Block Footwork', 'Power Moves',\n",
    "           'Finesse Moves', 'Block Shedding', 'Pursuit', 'Play Recognition', 'Man Coverage', 'Zone Coverage',\n",
    "           'Spectacular Catch', 'Catch In Traffic', 'Route Running', 'Hit Power', 'Press', 'Release',\n",
    "           'Throw Accuracy Short', 'Throw Accuracy Mid', 'Throw Accuracy Deep', 'Play Action', 'Throw on the Run']]"
   ]
  },
  {
   "cell_type": "code",
   "execution_count": 82,
   "metadata": {},
   "outputs": [],
   "source": [
    "m16['Name'] = m16['First Name'] + ' ' + m16['Last Name']"
   ]
  },
  {
   "cell_type": "code",
   "execution_count": 83,
   "metadata": {},
   "outputs": [],
   "source": [
    "m16['Overall Rating'] = m16['OVR']"
   ]
  },
  {
   "cell_type": "code",
   "execution_count": 84,
   "metadata": {},
   "outputs": [],
   "source": [
    "m16['Spectacular Catch'] = m16['Spectactular Catch']"
   ]
  },
  {
   "cell_type": "code",
   "execution_count": 85,
   "metadata": {},
   "outputs": [],
   "source": [
    "m16['Impact Blocking'] = m16['Impact Block']"
   ]
  },
  {
   "cell_type": "code",
   "execution_count": 86,
   "metadata": {},
   "outputs": [],
   "source": [
    "m16['Throw on the Run'] = m16['Throw On The Run']"
   ]
  },
  {
   "cell_type": "code",
   "execution_count": 87,
   "metadata": {},
   "outputs": [],
   "source": [
    "m16a = m16[['Name','Team', 'Position', 'Height', 'Weight', 'Overall Rating', 'Speed', 'Acceleration', 'Strength',\n",
    "           'Agility', 'Awareness', 'Catching', 'Carrying', 'Throw Power',\n",
    "           'Run Block', 'Pass Block', 'Tackle', 'Jumping', 'Injury', 'Stamina', 'Toughness', 'Trucking',\n",
    "           'Elusiveness', 'Ball Carrier Vision', 'Stiff Arm', 'Spin Move', 'Juke Move', 'Impact Blocking',\n",
    "           'Power Moves','Finesse Moves', 'Block Shedding', 'Pursuit', 'Play Recognition', 'Man Coverage', 'Zone Coverage',\n",
    "           'Spectacular Catch', 'Catch In Traffic', 'Route Running', 'Hit Power', 'Press', 'Release',\n",
    "           'Throw Accuracy Short', 'Throw Accuracy Mid', 'Throw on the Run', 'Throw Accuracy Deep', 'Play Action']]"
   ]
  },
  {
   "cell_type": "code",
   "execution_count": 88,
   "metadata": {},
   "outputs": [],
   "source": [
    "#Now that the columns match up, we will concatenate them again\n",
    "m3merge = pd.concat([m2merge, m16a])\n",
    "m3mergedrop = m3merge.drop_duplicates(subset='Name')"
   ]
  },
  {
   "cell_type": "code",
   "execution_count": 89,
   "metadata": {},
   "outputs": [
    {
     "name": "stdout",
     "output_type": "stream",
     "text": [
      "['Team', 'First Name', 'Last Name', 'Position', 'Jersey', 'Overall', 'Speed', 'Acceleration', 'Strength', 'Agility', 'Awareness', 'Catching', 'Carrying', 'Throw Power', 'Kick Power', 'Kick Accuracy', 'Run Block', 'Pass Block', 'Tackle', 'Jumping', 'Return', 'Injury', 'Stamina', 'Toughness', 'Trucking', 'Elusiveness', 'Ball Carrier Vision', 'Stiff Arm', 'Spin Move', 'Juke Move', 'Impact Block', 'Power Move', 'Finessee Move', 'Block Shedding', 'Pursuit', 'Play Recognition', 'Man Coverage', 'Zone Coverage', 'Spectacular Catch', 'Catch In Traffic', 'Route Running', 'Hit Power', 'Press', 'Release', 'Throw Accuracy Short', 'Throw Accuracy Medium', 'Throw Accuracy Deep', 'Play Action', 'Throw On The Run']\n"
     ]
    }
   ],
   "source": [
    "#Finally, we will add in the 2015 dataset\n",
    "m15 = pd.read_excel('C:\\\\Users\\\\tilleymusprime\\\\Desktop\\\\Madden15PlayerRatings.xlsx')\n",
    "m15cols = list(m15.columns.values)\n",
    "print(m15cols)"
   ]
  },
  {
   "cell_type": "code",
   "execution_count": 343,
   "metadata": {},
   "outputs": [
    {
     "name": "stdout",
     "output_type": "stream",
     "text": [
      "['Acceleration', 'Age', 'Agility', 'Awareness', 'Ball Carrier Vision', 'Block Shedding', 'Carrying', 'Catch In Traffic', 'Catching', 'Elusiveness', 'Finesse Moves', 'Height', 'Hit Power', 'Impact Blocking', 'Injury', 'Juke Move', 'Jumping', 'Man Coverage', 'Name', 'Overall Rating', 'Pass Block', 'Pass Block Footwork', 'Pass Block Strength', 'Play Action', 'Play Recognition', 'Position', 'Power Moves', 'Press', 'Pursuit', 'Release', 'Route Running', 'Run Block', 'Run Block Footwork', 'Run Block Strength', 'Spectacular Catch', 'Speed', 'Spin Move', 'Stamina', 'Stiff Arm', 'Strength', 'Tackle', 'Team', 'Throw Accuracy', 'Throw Accuracy Deep', 'Throw Accuracy Mid', 'Throw Accuracy Short', 'Throw Power', 'Throw on the Run', 'Toughness', 'Trucking', 'Weight', 'Zone Coverage']\n"
     ]
    }
   ],
   "source": [
    "m3mergedropcols = list(m3mergedrop.columns.values)\n",
    "print(m3mergedropcols)"
   ]
  },
  {
   "cell_type": "code",
   "execution_count": 90,
   "metadata": {},
   "outputs": [
    {
     "ename": "KeyError",
     "evalue": "\"['Age' 'Finesse Moves' 'Height' 'Impact Blocking' 'Name' 'Overall Rating'\\n 'Pass Block Footwork' 'Pass Block Strength' 'Power Moves'\\n 'Run Block Footwork' 'Run Block Strength' 'Throw Accuracy'\\n 'Throw Accuracy Mid' 'Throw on the Run' 'Weight'] not in index\"",
     "output_type": "error",
     "traceback": [
      "\u001b[1;31m---------------------------------------------------------------------------\u001b[0m",
      "\u001b[1;31mKeyError\u001b[0m                                  Traceback (most recent call last)",
      "\u001b[1;32m<ipython-input-90-58400f6e2e6d>\u001b[0m in \u001b[0;36m<module>\u001b[1;34m()\u001b[0m\n\u001b[0;32m      6\u001b[0m             \u001b[1;34m'Speed'\u001b[0m\u001b[1;33m,\u001b[0m \u001b[1;34m'Spin Move'\u001b[0m\u001b[1;33m,\u001b[0m \u001b[1;34m'Stamina'\u001b[0m\u001b[1;33m,\u001b[0m \u001b[1;34m'Stiff Arm'\u001b[0m\u001b[1;33m,\u001b[0m \u001b[1;34m'Strength'\u001b[0m\u001b[1;33m,\u001b[0m \u001b[1;34m'Tackle'\u001b[0m\u001b[1;33m,\u001b[0m \u001b[1;34m'Team'\u001b[0m\u001b[1;33m,\u001b[0m \u001b[1;34m'Throw Accuracy'\u001b[0m\u001b[1;33m,\u001b[0m\u001b[1;33m\u001b[0m\u001b[0m\n\u001b[0;32m      7\u001b[0m             \u001b[1;34m'Throw Accuracy Deep'\u001b[0m\u001b[1;33m,\u001b[0m \u001b[1;34m'Throw Accuracy Mid'\u001b[0m\u001b[1;33m,\u001b[0m \u001b[1;34m'Throw Accuracy Short'\u001b[0m\u001b[1;33m,\u001b[0m \u001b[1;34m'Throw Power'\u001b[0m\u001b[1;33m,\u001b[0m \u001b[1;34m'Throw on the Run'\u001b[0m\u001b[1;33m,\u001b[0m\u001b[1;33m\u001b[0m\u001b[0m\n\u001b[1;32m----> 8\u001b[1;33m             'Toughness', 'Trucking', 'Weight', 'Zone Coverage']]\n\u001b[0m\u001b[0;32m      9\u001b[0m \u001b[1;31m#It looks like we will need to remove age, Pass Block Footwork, Pass Block Strength, Run Block Footwork, RunBlock Strength,\u001b[0m\u001b[1;33m\u001b[0m\u001b[1;33m\u001b[0m\u001b[0m\n\u001b[0;32m     10\u001b[0m \u001b[1;31m#Throw Accuracy, Height, and Weight\u001b[0m\u001b[1;33m\u001b[0m\u001b[1;33m\u001b[0m\u001b[0m\n",
      "\u001b[1;32m~\\Anaconda3\\lib\\site-packages\\pandas\\core\\frame.py\u001b[0m in \u001b[0;36m__getitem__\u001b[1;34m(self, key)\u001b[0m\n\u001b[0;32m   2131\u001b[0m         \u001b[1;32mif\u001b[0m \u001b[0misinstance\u001b[0m\u001b[1;33m(\u001b[0m\u001b[0mkey\u001b[0m\u001b[1;33m,\u001b[0m \u001b[1;33m(\u001b[0m\u001b[0mSeries\u001b[0m\u001b[1;33m,\u001b[0m \u001b[0mnp\u001b[0m\u001b[1;33m.\u001b[0m\u001b[0mndarray\u001b[0m\u001b[1;33m,\u001b[0m \u001b[0mIndex\u001b[0m\u001b[1;33m,\u001b[0m \u001b[0mlist\u001b[0m\u001b[1;33m)\u001b[0m\u001b[1;33m)\u001b[0m\u001b[1;33m:\u001b[0m\u001b[1;33m\u001b[0m\u001b[0m\n\u001b[0;32m   2132\u001b[0m             \u001b[1;31m# either boolean or fancy integer index\u001b[0m\u001b[1;33m\u001b[0m\u001b[1;33m\u001b[0m\u001b[0m\n\u001b[1;32m-> 2133\u001b[1;33m             \u001b[1;32mreturn\u001b[0m \u001b[0mself\u001b[0m\u001b[1;33m.\u001b[0m\u001b[0m_getitem_array\u001b[0m\u001b[1;33m(\u001b[0m\u001b[0mkey\u001b[0m\u001b[1;33m)\u001b[0m\u001b[1;33m\u001b[0m\u001b[0m\n\u001b[0m\u001b[0;32m   2134\u001b[0m         \u001b[1;32melif\u001b[0m \u001b[0misinstance\u001b[0m\u001b[1;33m(\u001b[0m\u001b[0mkey\u001b[0m\u001b[1;33m,\u001b[0m \u001b[0mDataFrame\u001b[0m\u001b[1;33m)\u001b[0m\u001b[1;33m:\u001b[0m\u001b[1;33m\u001b[0m\u001b[0m\n\u001b[0;32m   2135\u001b[0m             \u001b[1;32mreturn\u001b[0m \u001b[0mself\u001b[0m\u001b[1;33m.\u001b[0m\u001b[0m_getitem_frame\u001b[0m\u001b[1;33m(\u001b[0m\u001b[0mkey\u001b[0m\u001b[1;33m)\u001b[0m\u001b[1;33m\u001b[0m\u001b[0m\n",
      "\u001b[1;32m~\\Anaconda3\\lib\\site-packages\\pandas\\core\\frame.py\u001b[0m in \u001b[0;36m_getitem_array\u001b[1;34m(self, key)\u001b[0m\n\u001b[0;32m   2175\u001b[0m             \u001b[1;32mreturn\u001b[0m \u001b[0mself\u001b[0m\u001b[1;33m.\u001b[0m\u001b[0m_take\u001b[0m\u001b[1;33m(\u001b[0m\u001b[0mindexer\u001b[0m\u001b[1;33m,\u001b[0m \u001b[0maxis\u001b[0m\u001b[1;33m=\u001b[0m\u001b[1;36m0\u001b[0m\u001b[1;33m,\u001b[0m \u001b[0mconvert\u001b[0m\u001b[1;33m=\u001b[0m\u001b[1;32mFalse\u001b[0m\u001b[1;33m)\u001b[0m\u001b[1;33m\u001b[0m\u001b[0m\n\u001b[0;32m   2176\u001b[0m         \u001b[1;32melse\u001b[0m\u001b[1;33m:\u001b[0m\u001b[1;33m\u001b[0m\u001b[0m\n\u001b[1;32m-> 2177\u001b[1;33m             \u001b[0mindexer\u001b[0m \u001b[1;33m=\u001b[0m \u001b[0mself\u001b[0m\u001b[1;33m.\u001b[0m\u001b[0mloc\u001b[0m\u001b[1;33m.\u001b[0m\u001b[0m_convert_to_indexer\u001b[0m\u001b[1;33m(\u001b[0m\u001b[0mkey\u001b[0m\u001b[1;33m,\u001b[0m \u001b[0maxis\u001b[0m\u001b[1;33m=\u001b[0m\u001b[1;36m1\u001b[0m\u001b[1;33m)\u001b[0m\u001b[1;33m\u001b[0m\u001b[0m\n\u001b[0m\u001b[0;32m   2178\u001b[0m             \u001b[1;32mreturn\u001b[0m \u001b[0mself\u001b[0m\u001b[1;33m.\u001b[0m\u001b[0m_take\u001b[0m\u001b[1;33m(\u001b[0m\u001b[0mindexer\u001b[0m\u001b[1;33m,\u001b[0m \u001b[0maxis\u001b[0m\u001b[1;33m=\u001b[0m\u001b[1;36m1\u001b[0m\u001b[1;33m,\u001b[0m \u001b[0mconvert\u001b[0m\u001b[1;33m=\u001b[0m\u001b[1;32mTrue\u001b[0m\u001b[1;33m)\u001b[0m\u001b[1;33m\u001b[0m\u001b[0m\n\u001b[0;32m   2179\u001b[0m \u001b[1;33m\u001b[0m\u001b[0m\n",
      "\u001b[1;32m~\\Anaconda3\\lib\\site-packages\\pandas\\core\\indexing.py\u001b[0m in \u001b[0;36m_convert_to_indexer\u001b[1;34m(self, obj, axis, is_setter)\u001b[0m\n\u001b[0;32m   1267\u001b[0m                 \u001b[1;32mif\u001b[0m \u001b[0mmask\u001b[0m\u001b[1;33m.\u001b[0m\u001b[0many\u001b[0m\u001b[1;33m(\u001b[0m\u001b[1;33m)\u001b[0m\u001b[1;33m:\u001b[0m\u001b[1;33m\u001b[0m\u001b[0m\n\u001b[0;32m   1268\u001b[0m                     raise KeyError('{mask} not in index'\n\u001b[1;32m-> 1269\u001b[1;33m                                    .format(mask=objarr[mask]))\n\u001b[0m\u001b[0;32m   1270\u001b[0m \u001b[1;33m\u001b[0m\u001b[0m\n\u001b[0;32m   1271\u001b[0m                 \u001b[1;32mreturn\u001b[0m \u001b[0m_values_from_object\u001b[0m\u001b[1;33m(\u001b[0m\u001b[0mindexer\u001b[0m\u001b[1;33m)\u001b[0m\u001b[1;33m\u001b[0m\u001b[0m\n",
      "\u001b[1;31mKeyError\u001b[0m: \"['Age' 'Finesse Moves' 'Height' 'Impact Blocking' 'Name' 'Overall Rating'\\n 'Pass Block Footwork' 'Pass Block Strength' 'Power Moves'\\n 'Run Block Footwork' 'Run Block Strength' 'Throw Accuracy'\\n 'Throw Accuracy Mid' 'Throw on the Run' 'Weight'] not in index\""
     ]
    }
   ],
   "source": [
    "m15a = m15[['Acceleration', 'Age', 'Agility', 'Awareness', 'Ball Carrier Vision', 'Block Shedding', 'Carrying',\n",
    "            'Catch In Traffic', 'Catching', 'Elusiveness', 'Finesse Moves', 'Height', 'Hit Power', 'Impact Blocking', \n",
    "            'Injury', 'Juke Move', 'Jumping', 'Man Coverage', 'Name', 'Overall Rating', 'Pass Block', 'Pass Block Footwork',\n",
    "            'Pass Block Strength', 'Play Action', 'Play Recognition', 'Position', 'Power Moves', 'Press', 'Pursuit',\n",
    "            'Release', 'Route Running', 'Run Block', 'Run Block Footwork', 'Run Block Strength', 'Spectacular Catch',\n",
    "            'Speed', 'Spin Move', 'Stamina', 'Stiff Arm', 'Strength', 'Tackle', 'Team', 'Throw Accuracy', \n",
    "            'Throw Accuracy Deep', 'Throw Accuracy Mid', 'Throw Accuracy Short', 'Throw Power', 'Throw on the Run',\n",
    "            'Toughness', 'Trucking', 'Weight', 'Zone Coverage']]\n",
    "#It looks like we will need to remove age, Pass Block Footwork, Pass Block Strength, Run Block Footwork, RunBlock Strength,\n",
    "#Throw Accuracy, Height, and Weight"
   ]
  },
  {
   "cell_type": "code",
   "execution_count": 91,
   "metadata": {},
   "outputs": [],
   "source": [
    "m15['Overall Rating'] = m15['Overall']"
   ]
  },
  {
   "cell_type": "code",
   "execution_count": 92,
   "metadata": {},
   "outputs": [],
   "source": [
    "m15['Name'] = m15['First Name'] + ' ' + m15['Last Name']"
   ]
  },
  {
   "cell_type": "code",
   "execution_count": 93,
   "metadata": {},
   "outputs": [],
   "source": [
    "m15['Throw on the Run']=m15['Throw On The Run']"
   ]
  },
  {
   "cell_type": "code",
   "execution_count": 95,
   "metadata": {},
   "outputs": [],
   "source": [
    "m15['Finesse Moves']=m15['Finessee Move']"
   ]
  },
  {
   "cell_type": "code",
   "execution_count": 96,
   "metadata": {},
   "outputs": [],
   "source": [
    "m15['Impact Blocking'] = m15['Impact Block']"
   ]
  },
  {
   "cell_type": "code",
   "execution_count": 97,
   "metadata": {},
   "outputs": [],
   "source": [
    "m15['Throw Accuracy Mid'] = m15['Throw Accuracy Medium']"
   ]
  },
  {
   "cell_type": "code",
   "execution_count": 98,
   "metadata": {},
   "outputs": [],
   "source": [
    "m15['Throw on the Run'] = m15['Throw On The Run']"
   ]
  },
  {
   "cell_type": "code",
   "execution_count": 99,
   "metadata": {},
   "outputs": [],
   "source": [
    "m15['Power Moves'] = m15['Power Move']"
   ]
  },
  {
   "cell_type": "code",
   "execution_count": 100,
   "metadata": {},
   "outputs": [],
   "source": [
    "#now we will make a new version of m15 with just the columns that match main data set\n",
    "m15a = m15[['Acceleration', 'Agility', 'Awareness', 'Ball Carrier Vision', 'Block Shedding', 'Carrying',\n",
    "            'Catch In Traffic', 'Catching', 'Elusiveness', 'Finesse Moves', 'Hit Power', 'Impact Blocking', \n",
    "            'Injury', 'Juke Move', 'Jumping', 'Man Coverage', 'Name', 'Overall Rating', 'Pass Block', 'Play Action',\n",
    "            'Play Recognition', 'Position', 'Power Moves', 'Press', 'Pursuit',\n",
    "            'Release', 'Route Running', 'Run Block','Spectacular Catch',\n",
    "            'Speed', 'Spin Move', 'Stamina', 'Stiff Arm', 'Strength', 'Tackle', 'Team', \n",
    "            'Throw Accuracy Deep', 'Throw Accuracy Mid', 'Throw Accuracy Short', 'Throw Power', 'Throw on the Run',\n",
    "            'Toughness', 'Trucking', 'Zone Coverage']]"
   ]
  },
  {
   "cell_type": "code",
   "execution_count": 101,
   "metadata": {},
   "outputs": [],
   "source": [
    "m3a = m3mergedrop[['Acceleration', 'Agility', 'Awareness', 'Ball Carrier Vision', 'Block Shedding', 'Carrying',\n",
    "            'Catch In Traffic', 'Catching', 'Elusiveness', 'Finesse Moves', 'Hit Power', 'Impact Blocking', \n",
    "            'Injury', 'Juke Move', 'Jumping', 'Man Coverage', 'Name', 'Overall Rating', 'Pass Block', 'Play Action',\n",
    "            'Play Recognition', 'Position', 'Power Moves', 'Press', 'Pursuit',\n",
    "            'Release', 'Route Running', 'Run Block','Spectacular Catch',\n",
    "            'Speed', 'Spin Move', 'Stamina', 'Stiff Arm', 'Strength', 'Tackle', 'Team', \n",
    "            'Throw Accuracy Deep', 'Throw Accuracy Mid', 'Throw Accuracy Short', 'Throw Power', 'Throw on the Run',\n",
    "            'Toughness', 'Trucking', 'Zone Coverage']]"
   ]
  },
  {
   "cell_type": "code",
   "execution_count": 102,
   "metadata": {},
   "outputs": [],
   "source": [
    "m4merge = pd.concat([m3a, m15a])\n",
    "m4mergedrop= m4merge.drop_duplicates('Name')"
   ]
  },
  {
   "cell_type": "code",
   "execution_count": 103,
   "metadata": {},
   "outputs": [
    {
     "name": "stdout",
     "output_type": "stream",
     "text": [
      "                      Player Pos         School   Ht   Wt  40yd Vertical  \\\n",
      "0      Rodney Adams/AdamRo01  WR  South Florida  6-1  189  4.44     29.5   \n",
      "1  Montravius Adams/AdamMo00  DT         Auburn  6-4  304  4.87       29   \n",
      "2       Jamal Adams/AdamJa00  SS            LSU  6-0  214  4.56     31.5   \n",
      "3  Quincy Adeboyejo/AdebQu00  WR    Mississippi  6-3  197  4.42     34.5   \n",
      "4    Jonathan Allen/AlleJo01  DT        Alabama  6-3  286     5       30   \n",
      "\n",
      "  Bench Broad Jump 3Cone Shuttle  \n",
      "0     8        125  6.98    4.28  \n",
      "1    22        108  7.62    4.89  \n",
      "2    18        120  6.96    4.13  \n",
      "3     8        123  6.73    4.14  \n",
      "4    21        108  7.49     4.5  \n"
     ]
    }
   ],
   "source": [
    "#Now that we have merged all of the Madden data, we will start to work with the combine data\n",
    "#First, we will upload a csv file of every player who has participated in the combine since 2010\n",
    "combine = pd.read_excel('C:\\\\Users\\\\tilleymusprime\\\\Desktop\\\\combine_raw.xlsx')\n",
    "print(combine.head())\n",
    "#It looks like we will need to make some changes to a few columns.\n",
    "#First, we will have to remove the second half of all the players column.  The left side contains the name we want while\n",
    "#the other side contains extra things we don't want"
   ]
  },
  {
   "cell_type": "code",
   "execution_count": 104,
   "metadata": {},
   "outputs": [
    {
     "name": "stdout",
     "output_type": "stream",
     "text": [
      "0        Rodney Adams\n",
      "1    Montravius Adams\n",
      "2         Jamal Adams\n",
      "3    Quincy Adeboyejo\n",
      "4      Jonathan Allen\n",
      "Name: Name, dtype: object\n"
     ]
    }
   ],
   "source": [
    "#To get the descired part of the name, we will first replace the / with a ' ' so each name will be its own unit\n",
    "#Our next step will be to take the first 2 items from the player column and then combine them into the name column \n",
    "combine['Player'] = combine['Player'].str.replace('/', ' ')\n",
    "combine['Player'] = combine['Player'].str.rstrip()\n",
    "combine['First Name'] = combine['Player'].str.split(' ').str.get(0)\n",
    "combine['Last Name'] = combine['Player'].str.split(' ').str.get(1)\n",
    "combine['Name'] = combine['First Name'] + ' ' + combine['Last Name']\n",
    "print(combine['Name'].head())"
   ]
  },
  {
   "cell_type": "code",
   "execution_count": 105,
   "metadata": {},
   "outputs": [
    {
     "name": "stdout",
     "output_type": "stream",
     "text": [
      "['Player', 'Pos', 'School', 'Ht', 'Wt', '40yd', 'Vertical', 'Bench', 'Broad Jump', '3Cone', 'Shuttle', 'First Name', 'Last Name', 'Name']\n"
     ]
    }
   ],
   "source": [
    "combinecols = list(combine.columns.values)\n",
    "print(combinecols)"
   ]
  },
  {
   "cell_type": "code",
   "execution_count": 106,
   "metadata": {},
   "outputs": [],
   "source": [
    "#Now that we have the name section cleaned, we can merge the combine data with the Madden data.  Once we have done this, \n",
    "# we can start filling in the missing values.\n",
    "combine1 = combine[['Name', 'Wt', 'Vertical', 'Bench', 'Broad Jump', '3Cone', 'Shuttle', '40yd']]\n",
    "mc = pd.merge(m4mergedrop, combine1, how='left', on='Name')"
   ]
  },
  {
   "cell_type": "code",
   "execution_count": 107,
   "metadata": {
    "scrolled": true
   },
   "outputs": [
    {
     "name": "stdout",
     "output_type": "stream",
     "text": [
      "0        WR\n",
      "1        DT\n",
      "2        SS\n",
      "3        WR\n",
      "4        DT\n",
      "5        CB\n",
      "6       OLB\n",
      "7       OLB\n",
      "8        OG\n",
      "9        OG\n",
      "10       CB\n",
      "11        P\n",
      "12       FS\n",
      "13       OG\n",
      "14       DE\n",
      "15       DE\n",
      "16       QB\n",
      "17      ILB\n",
      "18      OLB\n",
      "19       OT\n",
      "20       OT\n",
      "21      ILB\n",
      "22       WR\n",
      "23      OLB\n",
      "24      OLB\n",
      "25       OG\n",
      "26       DT\n",
      "27       TE\n",
      "28       WR\n",
      "29      ILB\n",
      "       ... \n",
      "1941     DT\n",
      "1942     RB\n",
      "1943     RB\n",
      "1944     DT\n",
      "1945     DE\n",
      "1946     DE\n",
      "1947     CB\n",
      "1948     OT\n",
      "1949      K\n",
      "1950     OG\n",
      "1951     OG\n",
      "1952     QB\n",
      "1953     SS\n",
      "1954     WR\n",
      "1955    OLB\n",
      "1956     RB\n",
      "1957      K\n",
      "1958    OLB\n",
      "1959     RB\n",
      "1960     QB\n",
      "1961     DE\n",
      "1962     QB\n",
      "1963     DT\n",
      "1964     DT\n",
      "1965     WR\n",
      "1966     WR\n",
      "1967     WR\n",
      "1968     OG\n",
      "1969     OG\n",
      "1970     OT\n",
      "Name: Pos, Length: 1971, dtype: object\n"
     ]
    }
   ],
   "source": [
    "print(combine['Pos'])"
   ]
  },
  {
   "cell_type": "code",
   "execution_count": null,
   "metadata": {},
   "outputs": [],
   "source": []
  },
  {
   "cell_type": "code",
   "execution_count": null,
   "metadata": {},
   "outputs": [],
   "source": []
  },
  {
   "cell_type": "code",
   "execution_count": null,
   "metadata": {},
   "outputs": [],
   "source": []
  },
  {
   "cell_type": "code",
   "execution_count": null,
   "metadata": {
    "scrolled": false
   },
   "outputs": [],
   "source": []
  },
  {
   "cell_type": "code",
   "execution_count": null,
   "metadata": {
    "scrolled": true
   },
   "outputs": [],
   "source": []
  },
  {
   "cell_type": "code",
   "execution_count": null,
   "metadata": {},
   "outputs": [],
   "source": [
    "#We will now add in the c"
   ]
  },
  {
   "cell_type": "code",
   "execution_count": 134,
   "metadata": {},
   "outputs": [
    {
     "name": "stdout",
     "output_type": "stream",
     "text": [
      "(512, 51) (280, 51) (168, 51) (75, 51) (287, 51) (116, 51) (127, 51) (132, 51) (229, 51) (156, 51) (162, 51) (231, 51) (157, 51)\n"
     ]
    }
   ],
   "source": [
    "#In order to fill in the missing values, we will break down each group by position since each position has different attributes\n",
    "#We will also check the shape\n",
    "wr = mc[mc['Position'] == 'WR']\n",
    "te = mc[mc['Position'] == 'TE']\n",
    "qb = mc[mc['Position'] == 'QB']\n",
    "fb = mc[mc['Position'] == 'FB']\n",
    "hb = mc[mc['Position'] == 'HB']\n",
    "lt = mc[mc['Position'] == 'LT']\n",
    "lg = mc[mc['Position'] == 'LG']\n",
    "c = mc[mc['Position'] == 'C']\n",
    "rg = mc[mc['Position'] == 'RG']\n",
    "rt = mc[mc['Position'] == 'RT']\n",
    "dt = mc[mc['Position'] == 'DT']\n",
    "le = mc[mc['Position'] == 'LE']\n",
    "re = mc[mc['Position'] == 'RE']\n",
    "mlb = mc[mc['Position'] == 'MLB']\n",
    "lolb = mc[mc['Position']== 'LOLB']\n",
    "rolb = mc[mc['Position'] == 'ROLB']\n",
    "cb = mc[mc['Position'] == 'CB']\n",
    "fs = mc[mc['Position'] == 'FS']\n",
    "ss = mc[mc['Position'] == 'SS']\n",
    "print(wr.shape, te.shape, qb.shape, fb.shape, hb.shape, lt.shape, lg.shape, c.shape, dt.shape, le.shape, re.shape, mlb.shape, lolb.shape)"
   ]
  },
  {
   "cell_type": "code",
   "execution_count": 135,
   "metadata": {},
   "outputs": [
    {
     "name": "stdout",
     "output_type": "stream",
     "text": [
      "(409, 51) (166, 51) (169, 51) (124, 51) (124, 51)\n"
     ]
    }
   ],
   "source": [
    "print(cb.shape, fs.shape, ss.shape, rg.shape, rt.shape)\n",
    "#It looks like we have created all of the proper columns and they have the proper attributes in them"
   ]
  },
  {
   "cell_type": "code",
   "execution_count": 136,
   "metadata": {},
   "outputs": [
    {
     "name": "stdout",
     "output_type": "stream",
     "text": [
      "['Name', 'Wt', 'Vertical', 'Bench', 'Broad Jump', '3Cone', 'Shuttle', '40yd']\n"
     ]
    }
   ],
   "source": [
    "combine1cols = list(combine1.columns.values)\n",
    "print(combine1cols)"
   ]
  },
  {
   "cell_type": "code",
   "execution_count": 137,
   "metadata": {},
   "outputs": [],
   "source": [
    "#Add back height\n",
    "wrmeanwt = np.mean(wr['Wt'])\n",
    "wrmeanvert = np.mean(wr['Vertical'])\n",
    "wrmeanbench = np.mean(wr['Bench'])\n",
    "wrmeanbroadjump = np.mean(wr['Broad Jump'])\n",
    "wrmean3Cone = np.mean(wr['3Cone'])\n",
    "wrmeanshuttle = np.mean(wr['Shuttle'])\n",
    "wrmean40 = np.mean(wr['40yd'])"
   ]
  },
  {
   "cell_type": "code",
   "execution_count": 138,
   "metadata": {
    "scrolled": false
   },
   "outputs": [
    {
     "name": "stdout",
     "output_type": "stream",
     "text": [
      "Acceleration            0\n",
      "Agility                 0\n",
      "Awareness               0\n",
      "Ball Carrier Vision     0\n",
      "Block Shedding          0\n",
      "Carrying                0\n",
      "Catch In Traffic        0\n",
      "Catching                0\n",
      "Elusiveness             0\n",
      "Finesse Moves           0\n",
      "Hit Power               0\n",
      "Impact Blocking         0\n",
      "Injury                  0\n",
      "Juke Move               0\n",
      "Jumping                 0\n",
      "Man Coverage            0\n",
      "Name                    0\n",
      "Overall Rating          0\n",
      "Pass Block              0\n",
      "Play Action             0\n",
      "Play Recognition        0\n",
      "Position                0\n",
      "Power Moves             0\n",
      "Press                   0\n",
      "Pursuit                 0\n",
      "Release                 0\n",
      "Route Running           0\n",
      "Run Block               0\n",
      "Spectacular Catch       0\n",
      "Speed                   0\n",
      "Spin Move               0\n",
      "Stamina                 0\n",
      "Stiff Arm               0\n",
      "Strength                0\n",
      "Tackle                  0\n",
      "Team                    0\n",
      "Throw Accuracy Deep     0\n",
      "Throw Accuracy Mid      0\n",
      "Throw Accuracy Short    0\n",
      "Throw Power             0\n",
      "Throw on the Run        0\n",
      "Toughness               0\n",
      "Trucking                0\n",
      "Zone Coverage           0\n",
      "Wt                      0\n",
      "Vertical                0\n",
      "Bench                   0\n",
      "Broad Jump              0\n",
      "3Cone                   0\n",
      "Shuttle                 0\n",
      "40yd                    0\n",
      "dtype: int64\n"
     ]
    }
   ],
   "source": [
    "#It looks like our method for filling the nan values has worked.  \n",
    "wr['Wt'] = wr['Wt'].fillna(wrmeanwt)\n",
    "wr['Vertical'] = wr['Vertical'].fillna(wrmeanvert)\n",
    "wr['Bench'] = wr['Bench'].fillna(wrmeanbench)\n",
    "wr['Broad Jump'] = wr['Broad Jump'].fillna(wrmeanbroadjump)\n",
    "wr['3Cone'] = wr['3Cone'].fillna(wrmeanbroadjump)\n",
    "wr['Shuttle'] = wr['Shuttle'].fillna(wrmeanshuttle)\n",
    "wr['40yd'] = wr['40yd'].fillna(wrmean40)\n",
    "print(wr.isnull().sum())"
   ]
  },
  {
   "cell_type": "code",
   "execution_count": 139,
   "metadata": {},
   "outputs": [],
   "source": [
    "##Don't forget to add height\n",
    "temeanwt = np.mean(te['Wt'])\n",
    "temeanVert = np.mean(te['Vertical'])\n",
    "temeanbench = np.mean(te['Bench'])\n",
    "temeanbroadjump = np.mean(te['Broad Jump'])\n",
    "temean3cone = np.mean(te['3Cone'])\n",
    "temeanshuttle = np.mean(te['Shuttle'])\n",
    "temean40 = np.mean(te['40yd'])"
   ]
  },
  {
   "cell_type": "code",
   "execution_count": 140,
   "metadata": {},
   "outputs": [
    {
     "name": "stdout",
     "output_type": "stream",
     "text": [
      "Acceleration            0\n",
      "Agility                 0\n",
      "Awareness               0\n",
      "Ball Carrier Vision     0\n",
      "Block Shedding          0\n",
      "Carrying                0\n",
      "Catch In Traffic        0\n",
      "Catching                0\n",
      "Elusiveness             0\n",
      "Finesse Moves           0\n",
      "Hit Power               0\n",
      "Impact Blocking         0\n",
      "Injury                  0\n",
      "Juke Move               0\n",
      "Jumping                 0\n",
      "Man Coverage            0\n",
      "Name                    0\n",
      "Overall Rating          0\n",
      "Pass Block              0\n",
      "Play Action             0\n",
      "Play Recognition        0\n",
      "Position                0\n",
      "Power Moves             0\n",
      "Press                   0\n",
      "Pursuit                 0\n",
      "Release                 0\n",
      "Route Running           0\n",
      "Run Block               0\n",
      "Spectacular Catch       0\n",
      "Speed                   0\n",
      "Spin Move               0\n",
      "Stamina                 0\n",
      "Stiff Arm               0\n",
      "Strength                0\n",
      "Tackle                  0\n",
      "Team                    0\n",
      "Throw Accuracy Deep     0\n",
      "Throw Accuracy Mid      0\n",
      "Throw Accuracy Short    0\n",
      "Throw Power             0\n",
      "Throw on the Run        0\n",
      "Toughness               0\n",
      "Trucking                0\n",
      "Zone Coverage           0\n",
      "Wt                      0\n",
      "Vertical                0\n",
      "Bench                   0\n",
      "Broad Jump              0\n",
      "3Cone                   0\n",
      "Shuttle                 0\n",
      "40yd                    0\n",
      "dtype: int64\n"
     ]
    }
   ],
   "source": [
    "te['Wt'] = te['Wt'].fillna(temeanwt)\n",
    "te['Vertical'] = te['Vertical'].fillna(temeanVert)\n",
    "te['Bench'] = te['Bench'].fillna(temeanbench)\n",
    "te['Broad Jump'] = te['Broad Jump'].fillna(temeanbroadjump)\n",
    "te['3Cone'] = te['3Cone'].fillna(temeanbroadjump)\n",
    "te['Shuttle'] = te['Shuttle'].fillna(temeanshuttle)\n",
    "te['40yd'] = te['40yd'].fillna(temean40)\n",
    "print(te.isnull().sum())"
   ]
  },
  {
   "cell_type": "code",
   "execution_count": 141,
   "metadata": {},
   "outputs": [],
   "source": [
    "qbmeanwt = np.mean(qb['Wt'])\n",
    "qbmeanVert = np.mean(qb['Vertical'])\n",
    "qbmeanbench = np.mean(qb['Bench'])\n",
    "qbmeanbroadjump= np.mean(qb['Broad Jump'])\n",
    "qbmean3cone = np.mean(qb['3Cone'])\n",
    "qbmeanshuttle = np.mean(qb['Shuttle'])\n",
    "qbmean40 = np.mean(qb['40yd'])"
   ]
  },
  {
   "cell_type": "code",
   "execution_count": 142,
   "metadata": {},
   "outputs": [
    {
     "name": "stdout",
     "output_type": "stream",
     "text": [
      "Acceleration            0\n",
      "Agility                 0\n",
      "Awareness               0\n",
      "Ball Carrier Vision     0\n",
      "Block Shedding          0\n",
      "Carrying                0\n",
      "Catch In Traffic        0\n",
      "Catching                0\n",
      "Elusiveness             0\n",
      "Finesse Moves           0\n",
      "Hit Power               0\n",
      "Impact Blocking         0\n",
      "Injury                  0\n",
      "Juke Move               0\n",
      "Jumping                 0\n",
      "Man Coverage            0\n",
      "Name                    0\n",
      "Overall Rating          0\n",
      "Pass Block              0\n",
      "Play Action             0\n",
      "Play Recognition        0\n",
      "Position                0\n",
      "Power Moves             0\n",
      "Press                   0\n",
      "Pursuit                 0\n",
      "Release                 0\n",
      "Route Running           0\n",
      "Run Block               0\n",
      "Spectacular Catch       0\n",
      "Speed                   0\n",
      "Spin Move               0\n",
      "Stamina                 0\n",
      "Stiff Arm               0\n",
      "Strength                0\n",
      "Tackle                  0\n",
      "Team                    0\n",
      "Throw Accuracy Deep     0\n",
      "Throw Accuracy Mid      0\n",
      "Throw Accuracy Short    0\n",
      "Throw Power             0\n",
      "Throw on the Run        0\n",
      "Toughness               0\n",
      "Trucking                0\n",
      "Zone Coverage           0\n",
      "Wt                      0\n",
      "Vertical                0\n",
      "Bench                   0\n",
      "Broad Jump              0\n",
      "3Cone                   0\n",
      "Shuttle                 0\n",
      "40yd                    0\n",
      "dtype: int64\n"
     ]
    }
   ],
   "source": [
    "qb['Wt'] = qb['Wt'].fillna(qbmeanwt)\n",
    "qb['Vertical'] = qb['Vertical'].fillna(qbmeanVert)\n",
    "qb['Bench'] = qb['Bench'].fillna(qbmeanbench)\n",
    "qb['Broad Jump'] = qb['Broad Jump'].fillna(qbmeanbroadjump)\n",
    "qb['3Cone'] = qb['3Cone'].fillna(qbmean3cone)\n",
    "qb['Shuttle'] = qb['Shuttle'].fillna(qbmeanshuttle)\n",
    "qb['40yd'] = qb['40yd'].fillna(qbmean40)\n",
    "print(qb.isnull().sum())"
   ]
  },
  {
   "cell_type": "code",
   "execution_count": 144,
   "metadata": {},
   "outputs": [],
   "source": [
    "fbmeanwt = np.mean(fb['Wt'])\n",
    "fbmeanVert = np.mean(fb['Vertical'])\n",
    "fbmeanbench = np.mean(fb['Bench'])\n",
    "fbmeanbroadjump = np.mean(fb['Broad Jump'])\n",
    "fbmean3cone = np.mean(fb['3Cone'])\n",
    "fbmeanshuttle = np.mean(fb['Shuttle'])\n",
    "fbmean40 = np.mean(fb['40yd'])"
   ]
  },
  {
   "cell_type": "code",
   "execution_count": 145,
   "metadata": {},
   "outputs": [
    {
     "name": "stdout",
     "output_type": "stream",
     "text": [
      "Acceleration            0\n",
      "Agility                 0\n",
      "Awareness               0\n",
      "Ball Carrier Vision     0\n",
      "Block Shedding          0\n",
      "Carrying                0\n",
      "Catch In Traffic        0\n",
      "Catching                0\n",
      "Elusiveness             0\n",
      "Finesse Moves           0\n",
      "Hit Power               0\n",
      "Impact Blocking         0\n",
      "Injury                  0\n",
      "Juke Move               0\n",
      "Jumping                 0\n",
      "Man Coverage            0\n",
      "Name                    0\n",
      "Overall Rating          0\n",
      "Pass Block              0\n",
      "Play Action             0\n",
      "Play Recognition        0\n",
      "Position                0\n",
      "Power Moves             0\n",
      "Press                   0\n",
      "Pursuit                 0\n",
      "Release                 0\n",
      "Route Running           0\n",
      "Run Block               0\n",
      "Spectacular Catch       0\n",
      "Speed                   0\n",
      "Spin Move               0\n",
      "Stamina                 0\n",
      "Stiff Arm               0\n",
      "Strength                0\n",
      "Tackle                  0\n",
      "Team                    0\n",
      "Throw Accuracy Deep     0\n",
      "Throw Accuracy Mid      0\n",
      "Throw Accuracy Short    0\n",
      "Throw Power             0\n",
      "Throw on the Run        0\n",
      "Toughness               0\n",
      "Trucking                0\n",
      "Zone Coverage           0\n",
      "Wt                      0\n",
      "Vertical                0\n",
      "Bench                   0\n",
      "Broad Jump              0\n",
      "3Cone                   0\n",
      "Shuttle                 0\n",
      "40yd                    0\n",
      "dtype: int64\n"
     ]
    }
   ],
   "source": [
    "fb['Wt'] = fb['Wt'].fillna(fbmeanwt)\n",
    "fb['Vertical'] = fb['Vertical'].fillna(fbmeanVert)\n",
    "fb['Bench'] = fb['Bench'].fillna(fbmeanbench)\n",
    "fb['Broad Jump'] = fb['Broad Jump'].fillna(fbmeanbroadjump)\n",
    "fb['3Cone'] = fb['3Cone'].fillna(fbmeanbroadjump)\n",
    "fb['Shuttle'] = fb['Shuttle'].fillna(fbmeanshuttle)\n",
    "fb['40yd'] = fb['40yd'].fillna(fbmean40)\n",
    "print(fb.isnull().sum())"
   ]
  },
  {
   "cell_type": "code",
   "execution_count": 146,
   "metadata": {},
   "outputs": [],
   "source": [
    "hbmeanwt = np.mean(hb['Wt'])\n",
    "hbmeanVert = np.mean(hb['Vertical'])\n",
    "hbmeanbench = np.mean(hb['Bench'])\n",
    "hbmeanbroadjump = np.mean(hb['Broad Jump'])\n",
    "hbmean3cone = np.mean(hb['3Cone'])\n",
    "hbmeanshuttle = np.mean(hb['Shuttle'])\n",
    "hbmean40 = np.mean(hb['40yd'])"
   ]
  },
  {
   "cell_type": "code",
   "execution_count": 147,
   "metadata": {},
   "outputs": [
    {
     "name": "stdout",
     "output_type": "stream",
     "text": [
      "Acceleration            0\n",
      "Agility                 0\n",
      "Awareness               0\n",
      "Ball Carrier Vision     0\n",
      "Block Shedding          0\n",
      "Carrying                0\n",
      "Catch In Traffic        0\n",
      "Catching                0\n",
      "Elusiveness             0\n",
      "Finesse Moves           0\n",
      "Hit Power               0\n",
      "Impact Blocking         0\n",
      "Injury                  0\n",
      "Juke Move               0\n",
      "Jumping                 0\n",
      "Man Coverage            0\n",
      "Name                    0\n",
      "Overall Rating          0\n",
      "Pass Block              0\n",
      "Play Action             0\n",
      "Play Recognition        0\n",
      "Position                0\n",
      "Power Moves             0\n",
      "Press                   0\n",
      "Pursuit                 0\n",
      "Release                 0\n",
      "Route Running           0\n",
      "Run Block               0\n",
      "Spectacular Catch       0\n",
      "Speed                   0\n",
      "Spin Move               0\n",
      "Stamina                 0\n",
      "Stiff Arm               0\n",
      "Strength                0\n",
      "Tackle                  0\n",
      "Team                    0\n",
      "Throw Accuracy Deep     0\n",
      "Throw Accuracy Mid      0\n",
      "Throw Accuracy Short    0\n",
      "Throw Power             0\n",
      "Throw on the Run        0\n",
      "Toughness               0\n",
      "Trucking                0\n",
      "Zone Coverage           0\n",
      "Wt                      0\n",
      "Vertical                0\n",
      "Bench                   0\n",
      "Broad Jump              0\n",
      "3Cone                   0\n",
      "Shuttle                 0\n",
      "40yd                    0\n",
      "dtype: int64\n"
     ]
    }
   ],
   "source": [
    "hb['Wt'] = hb['Wt'].fillna(hbmeanwt)\n",
    "hb['Vertical'] = hb['Vertical'].fillna(hbmeanVert)\n",
    "hb['Bench'] = hb['Bench'].fillna(hbmeanbench)\n",
    "hb['Broad Jump'] = hb['Broad Jump'].fillna(hbmeanbroadjump)\n",
    "hb['3Cone'] = hb['3Cone'].fillna(hbmeanbroadjump)\n",
    "hb['Shuttle'] = hb['Shuttle'].fillna(hbmeanshuttle)\n",
    "hb['40yd'] = hb['40yd'].fillna(hbmean40)\n",
    "print(hb.isnull().sum())"
   ]
  },
  {
   "cell_type": "code",
   "execution_count": null,
   "metadata": {},
   "outputs": [],
   "source": []
  },
  {
   "cell_type": "code",
   "execution_count": 121,
   "metadata": {},
   "outputs": [],
   "source": [
    "ltmeanwt = np.mean(lt['Wt'])\n",
    "ltmeanVert = np.mean(lt['Vertical'])\n",
    "ltmeanbench = np.mean(lt['Bench'])\n",
    "ltmeanbroadjump = np.mean(lt['Broad Jump'])\n",
    "ltmean3cone = np.mean(lt['3Cone'])\n",
    "ltmeanshuttle = np.mean(lt['Shuttle'])\n",
    "ltmean40 = np.mean(lt['40yd'])"
   ]
  },
  {
   "cell_type": "code",
   "execution_count": 149,
   "metadata": {
    "scrolled": true
   },
   "outputs": [
    {
     "name": "stdout",
     "output_type": "stream",
     "text": [
      "Acceleration            0\n",
      "Agility                 0\n",
      "Awareness               0\n",
      "Ball Carrier Vision     0\n",
      "Block Shedding          0\n",
      "Carrying                0\n",
      "Catch In Traffic        0\n",
      "Catching                0\n",
      "Elusiveness             0\n",
      "Finesse Moves           0\n",
      "Hit Power               0\n",
      "Impact Blocking         0\n",
      "Injury                  0\n",
      "Juke Move               0\n",
      "Jumping                 0\n",
      "Man Coverage            0\n",
      "Name                    0\n",
      "Overall Rating          0\n",
      "Pass Block              0\n",
      "Play Action             0\n",
      "Play Recognition        0\n",
      "Position                0\n",
      "Power Moves             0\n",
      "Press                   0\n",
      "Pursuit                 0\n",
      "Release                 0\n",
      "Route Running           0\n",
      "Run Block               0\n",
      "Spectacular Catch       0\n",
      "Speed                   0\n",
      "Spin Move               0\n",
      "Stamina                 0\n",
      "Stiff Arm               0\n",
      "Strength                0\n",
      "Tackle                  0\n",
      "Team                    0\n",
      "Throw Accuracy Deep     0\n",
      "Throw Accuracy Mid      0\n",
      "Throw Accuracy Short    0\n",
      "Throw Power             0\n",
      "Throw on the Run        0\n",
      "Toughness               0\n",
      "Trucking                0\n",
      "Zone Coverage           0\n",
      "Wt                      0\n",
      "Vertical                0\n",
      "Bench                   0\n",
      "Broad Jump              0\n",
      "3Cone                   0\n",
      "Shuttle                 0\n",
      "40yd                    0\n",
      "dtype: int64\n"
     ]
    }
   ],
   "source": [
    "lt['Wt'] = lt['Wt'].fillna(ltmeanwt)\n",
    "lt['Vertical'] = lt['Vertical'].fillna(ltmeanVert)\n",
    "lt['Bench'] = lt['Bench'].fillna(ltmeanbench)\n",
    "lt['Broad Jump'] = lt['Broad Jump'].fillna(ltmeanbroadjump)\n",
    "lt['3Cone'] = lt['3Cone'].fillna(ltmean3cone)\n",
    "lt['Shuttle'] = lt['Shuttle'].fillna(ltmeanshuttle)\n",
    "lt['40yd'] = lt['40yd'].fillna(ltmean40)\n",
    "print(lt.isnull().sum())"
   ]
  },
  {
   "cell_type": "code",
   "execution_count": 150,
   "metadata": {},
   "outputs": [],
   "source": [
    "rtmeanwt = np.mean(rt['Wt'])\n",
    "rtmeanVert = np.mean(rt['Vertical'])\n",
    "rtmeanbench = np.mean(rt['Bench'])\n",
    "rtmeanbroadjump = np.mean(rt['Broad Jump'])\n",
    "rtmean3cone = np.mean(rt['3Cone'])\n",
    "rtmeanshuttle = np.mean(rt['Shuttle'])\n",
    "rtmean40 = np.mean(rt['40yd'])"
   ]
  },
  {
   "cell_type": "code",
   "execution_count": 151,
   "metadata": {},
   "outputs": [
    {
     "name": "stdout",
     "output_type": "stream",
     "text": [
      "Acceleration            0\n",
      "Agility                 0\n",
      "Awareness               0\n",
      "Ball Carrier Vision     0\n",
      "Block Shedding          0\n",
      "Carrying                0\n",
      "Catch In Traffic        0\n",
      "Catching                0\n",
      "Elusiveness             0\n",
      "Finesse Moves           0\n",
      "Hit Power               0\n",
      "Impact Blocking         0\n",
      "Injury                  0\n",
      "Juke Move               0\n",
      "Jumping                 0\n",
      "Man Coverage            0\n",
      "Name                    0\n",
      "Overall Rating          0\n",
      "Pass Block              0\n",
      "Play Action             0\n",
      "Play Recognition        0\n",
      "Position                0\n",
      "Power Moves             0\n",
      "Press                   0\n",
      "Pursuit                 0\n",
      "Release                 0\n",
      "Route Running           0\n",
      "Run Block               0\n",
      "Spectacular Catch       0\n",
      "Speed                   0\n",
      "Spin Move               0\n",
      "Stamina                 0\n",
      "Stiff Arm               0\n",
      "Strength                0\n",
      "Tackle                  0\n",
      "Team                    0\n",
      "Throw Accuracy Deep     0\n",
      "Throw Accuracy Mid      0\n",
      "Throw Accuracy Short    0\n",
      "Throw Power             0\n",
      "Throw on the Run        0\n",
      "Toughness               0\n",
      "Trucking                0\n",
      "Zone Coverage           0\n",
      "Wt                      0\n",
      "Vertical                0\n",
      "Bench                   0\n",
      "Broad Jump              0\n",
      "3Cone                   0\n",
      "Shuttle                 0\n",
      "40yd                    0\n",
      "dtype: int64\n"
     ]
    }
   ],
   "source": [
    "rt['Wt'] = rt['Wt'].fillna(rtmeanwt)\n",
    "rt['Vertical'] = rt['Vertical'].fillna(rtmeanVert)\n",
    "rt['Bench'] = rt['Bench'].fillna(rtmeanbench)\n",
    "rt['Broad Jump'] = rt['Broad Jump'].fillna(rtmeanbroadjump)\n",
    "rt['3Cone'] = rt['3Cone'].fillna(rtmean3cone)\n",
    "rt['Shuttle'] = rt['Shuttle'].fillna(rtmeanshuttle)\n",
    "rt['40yd'] = rt['40yd'].fillna(rtmean40)\n",
    "print(rt.isnull().sum())"
   ]
  },
  {
   "cell_type": "code",
   "execution_count": 152,
   "metadata": {},
   "outputs": [],
   "source": [
    "lgmeanwt = np.mean(lg['Wt'])\n",
    "lgmeanVert = np.mean(lg['Vertical'])\n",
    "lgmeanbench = np.mean(lg['Bench'])\n",
    "lgmeanbroadjump = np.mean(lg['Broad Jump'])\n",
    "lgmean3cone = np.mean(lg['3Cone'])\n",
    "lgmeanshuttle = np.mean(lg['Shuttle'])\n",
    "lgmean40 = np.mean(lg['40yd'])"
   ]
  },
  {
   "cell_type": "code",
   "execution_count": 153,
   "metadata": {},
   "outputs": [
    {
     "name": "stdout",
     "output_type": "stream",
     "text": [
      "Acceleration            0\n",
      "Agility                 0\n",
      "Awareness               0\n",
      "Ball Carrier Vision     0\n",
      "Block Shedding          0\n",
      "Carrying                0\n",
      "Catch In Traffic        0\n",
      "Catching                0\n",
      "Elusiveness             0\n",
      "Finesse Moves           0\n",
      "Hit Power               0\n",
      "Impact Blocking         0\n",
      "Injury                  0\n",
      "Juke Move               0\n",
      "Jumping                 0\n",
      "Man Coverage            0\n",
      "Name                    0\n",
      "Overall Rating          0\n",
      "Pass Block              0\n",
      "Play Action             0\n",
      "Play Recognition        0\n",
      "Position                0\n",
      "Power Moves             0\n",
      "Press                   0\n",
      "Pursuit                 0\n",
      "Release                 0\n",
      "Route Running           0\n",
      "Run Block               0\n",
      "Spectacular Catch       0\n",
      "Speed                   0\n",
      "Spin Move               0\n",
      "Stamina                 0\n",
      "Stiff Arm               0\n",
      "Strength                0\n",
      "Tackle                  0\n",
      "Team                    0\n",
      "Throw Accuracy Deep     0\n",
      "Throw Accuracy Mid      0\n",
      "Throw Accuracy Short    0\n",
      "Throw Power             0\n",
      "Throw on the Run        0\n",
      "Toughness               0\n",
      "Trucking                0\n",
      "Zone Coverage           0\n",
      "Wt                      0\n",
      "Vertical                0\n",
      "Bench                   0\n",
      "Broad Jump              0\n",
      "3Cone                   0\n",
      "Shuttle                 0\n",
      "40yd                    0\n",
      "dtype: int64\n"
     ]
    }
   ],
   "source": [
    "lg['Wt'] = lg['Wt'].fillna(lgmeanwt)\n",
    "lg['Vertical'] = lg['Vertical'].fillna(lgmeanVert)\n",
    "lg['Bench'] = lg['Bench'].fillna(lgmeanbench)\n",
    "lg['Broad Jump'] = lg['Broad Jump'].fillna(lgmeanbroadjump)\n",
    "lg['3Cone'] = lg['3Cone'].fillna(lgmean3cone)\n",
    "lg['Shuttle'] = lg['Shuttle'].fillna(lgmeanshuttle)\n",
    "lg['40yd'] = lg['40yd'].fillna(lgmean40)\n",
    "print(lg.isnull().sum())"
   ]
  },
  {
   "cell_type": "code",
   "execution_count": 154,
   "metadata": {},
   "outputs": [],
   "source": [
    "rgmeanwt = np.mean(rg['Wt'])\n",
    "rgmeanVert = np.mean(rg['Vertical'])\n",
    "rgmeanbench = np.mean(rg['Bench'])\n",
    "rgmeanbroadjump = np.mean(rg['Broad Jump'])\n",
    "rgmean3cone = np.mean(rg['3Cone'])\n",
    "rgmeanshuttle = np.mean(rg['Shuttle'])\n",
    "rgmean40 = np.mean(rg['40yd'])"
   ]
  },
  {
   "cell_type": "code",
   "execution_count": 155,
   "metadata": {},
   "outputs": [
    {
     "name": "stdout",
     "output_type": "stream",
     "text": [
      "Acceleration            0\n",
      "Agility                 0\n",
      "Awareness               0\n",
      "Ball Carrier Vision     0\n",
      "Block Shedding          0\n",
      "Carrying                0\n",
      "Catch In Traffic        0\n",
      "Catching                0\n",
      "Elusiveness             0\n",
      "Finesse Moves           0\n",
      "Hit Power               0\n",
      "Impact Blocking         0\n",
      "Injury                  0\n",
      "Juke Move               0\n",
      "Jumping                 0\n",
      "Man Coverage            0\n",
      "Name                    0\n",
      "Overall Rating          0\n",
      "Pass Block              0\n",
      "Play Action             0\n",
      "Play Recognition        0\n",
      "Position                0\n",
      "Power Moves             0\n",
      "Press                   0\n",
      "Pursuit                 0\n",
      "Release                 0\n",
      "Route Running           0\n",
      "Run Block               0\n",
      "Spectacular Catch       0\n",
      "Speed                   0\n",
      "Spin Move               0\n",
      "Stamina                 0\n",
      "Stiff Arm               0\n",
      "Strength                0\n",
      "Tackle                  0\n",
      "Team                    0\n",
      "Throw Accuracy Deep     0\n",
      "Throw Accuracy Mid      0\n",
      "Throw Accuracy Short    0\n",
      "Throw Power             0\n",
      "Throw on the Run        0\n",
      "Toughness               0\n",
      "Trucking                0\n",
      "Zone Coverage           0\n",
      "Wt                      0\n",
      "Vertical                0\n",
      "Bench                   0\n",
      "Broad Jump              0\n",
      "3Cone                   0\n",
      "Shuttle                 0\n",
      "40yd                    0\n",
      "dtype: int64\n"
     ]
    }
   ],
   "source": [
    "rg['Wt'] = rg['Wt'].fillna(rgmeanwt)\n",
    "rg['Vertical'] = rg['Vertical'].fillna(rgmeanVert)\n",
    "rg['Bench'] = rg['Bench'].fillna(rgmeanbench)\n",
    "rg['Broad Jump'] = rg['Broad Jump'].fillna(rgmeanbroadjump)\n",
    "rg['3Cone'] = rg['3Cone'].fillna(rgmean3cone)\n",
    "rg['Shuttle'] = rg['Shuttle'].fillna(rgmeanshuttle)\n",
    "rg['40yd'] = rg['40yd'].fillna(rgmean40)\n",
    "print(rg.isnull().sum())"
   ]
  },
  {
   "cell_type": "code",
   "execution_count": 156,
   "metadata": {},
   "outputs": [],
   "source": [
    "cmeanwt = np.mean(c['Wt'])\n",
    "cmeanVert = np.mean(c['Vertical'])\n",
    "cmeanbench = np.mean(c['Bench'])\n",
    "cmeanbroadjump = np.mean(c['Broad Jump'])\n",
    "cmean3cone = np.mean(c['3Cone'])\n",
    "cmeanshuttle = np.mean(c['Shuttle'])\n",
    "cmean40 = np.mean(c['40yd'])"
   ]
  },
  {
   "cell_type": "code",
   "execution_count": 157,
   "metadata": {},
   "outputs": [
    {
     "name": "stdout",
     "output_type": "stream",
     "text": [
      "Acceleration            0\n",
      "Agility                 0\n",
      "Awareness               0\n",
      "Ball Carrier Vision     0\n",
      "Block Shedding          0\n",
      "Carrying                0\n",
      "Catch In Traffic        0\n",
      "Catching                0\n",
      "Elusiveness             0\n",
      "Finesse Moves           0\n",
      "Hit Power               0\n",
      "Impact Blocking         0\n",
      "Injury                  0\n",
      "Juke Move               0\n",
      "Jumping                 0\n",
      "Man Coverage            0\n",
      "Name                    0\n",
      "Overall Rating          0\n",
      "Pass Block              0\n",
      "Play Action             0\n",
      "Play Recognition        0\n",
      "Position                0\n",
      "Power Moves             0\n",
      "Press                   0\n",
      "Pursuit                 0\n",
      "Release                 0\n",
      "Route Running           0\n",
      "Run Block               0\n",
      "Spectacular Catch       0\n",
      "Speed                   0\n",
      "Spin Move               0\n",
      "Stamina                 0\n",
      "Stiff Arm               0\n",
      "Strength                0\n",
      "Tackle                  0\n",
      "Team                    0\n",
      "Throw Accuracy Deep     0\n",
      "Throw Accuracy Mid      0\n",
      "Throw Accuracy Short    0\n",
      "Throw Power             0\n",
      "Throw on the Run        0\n",
      "Toughness               0\n",
      "Trucking                0\n",
      "Zone Coverage           0\n",
      "Wt                      0\n",
      "Vertical                0\n",
      "Bench                   0\n",
      "Broad Jump              0\n",
      "3Cone                   0\n",
      "Shuttle                 0\n",
      "40yd                    0\n",
      "dtype: int64\n"
     ]
    }
   ],
   "source": [
    "c['Wt'] = c['Wt'].fillna(cmeanwt)\n",
    "c['Vertical'] = c['Vertical'].fillna(cmeanVert)\n",
    "c['Bench'] = c['Bench'].fillna(cmeanbench)\n",
    "c['Broad Jump'] = c['Broad Jump'].fillna(cmeanbroadjump)\n",
    "c['3Cone'] = c['3Cone'].fillna(cmean3cone)\n",
    "c['Shuttle'] = c['Shuttle'].fillna(cmeanshuttle)\n",
    "c['40yd'] = c['40yd'].fillna(cmean40)\n",
    "print(c.isnull().sum())"
   ]
  },
  {
   "cell_type": "code",
   "execution_count": 158,
   "metadata": {},
   "outputs": [],
   "source": [
    "dtmeanwt = np.mean(dt['Wt'])\n",
    "dtmeanVert = np.mean(dt['Vertical'])\n",
    "dtmeanbench = np.mean(dt['Bench'])\n",
    "dtmeanbroadjump = np.mean(dt['Broad Jump'])\n",
    "dtmean3cone = np.mean(dt['3Cone'])\n",
    "dtmeanshuttle = np.mean(dt['Shuttle'])\n",
    "dtmean4o = np.mean(dt['40yd'])"
   ]
  },
  {
   "cell_type": "code",
   "execution_count": 159,
   "metadata": {},
   "outputs": [
    {
     "name": "stdout",
     "output_type": "stream",
     "text": [
      "Acceleration            0\n",
      "Agility                 0\n",
      "Awareness               0\n",
      "Ball Carrier Vision     0\n",
      "Block Shedding          0\n",
      "Carrying                0\n",
      "Catch In Traffic        0\n",
      "Catching                0\n",
      "Elusiveness             0\n",
      "Finesse Moves           0\n",
      "Hit Power               0\n",
      "Impact Blocking         0\n",
      "Injury                  0\n",
      "Juke Move               0\n",
      "Jumping                 0\n",
      "Man Coverage            0\n",
      "Name                    0\n",
      "Overall Rating          0\n",
      "Pass Block              0\n",
      "Play Action             0\n",
      "Play Recognition        0\n",
      "Position                0\n",
      "Power Moves             0\n",
      "Press                   0\n",
      "Pursuit                 0\n",
      "Release                 0\n",
      "Route Running           0\n",
      "Run Block               0\n",
      "Spectacular Catch       0\n",
      "Speed                   0\n",
      "Spin Move               0\n",
      "Stamina                 0\n",
      "Stiff Arm               0\n",
      "Strength                0\n",
      "Tackle                  0\n",
      "Team                    0\n",
      "Throw Accuracy Deep     0\n",
      "Throw Accuracy Mid      0\n",
      "Throw Accuracy Short    0\n",
      "Throw Power             0\n",
      "Throw on the Run        0\n",
      "Toughness               0\n",
      "Trucking                0\n",
      "Zone Coverage           0\n",
      "Wt                      0\n",
      "Vertical                0\n",
      "Bench                   0\n",
      "Broad Jump              0\n",
      "3Cone                   0\n",
      "Shuttle                 0\n",
      "40yd                    0\n",
      "dtype: int64\n"
     ]
    }
   ],
   "source": [
    "dt['Wt'] = dt['Wt'].fillna(dtmeanwt)\n",
    "dt['Vertical'] = dt['Vertical'].fillna(dtmeanVert)\n",
    "dt['Bench'] = dt['Bench'].fillna(dtmeanbench)\n",
    "dt['Broad Jump'] = dt['Broad Jump'].fillna(dtmeanbroadjump)\n",
    "dt['3Cone'] = dt['3Cone'].fillna(dtmean3cone)\n",
    "dt['Shuttle'] = dt['Shuttle'].fillna(dtmeanshuttle)\n",
    "dt['40yd'] = dt['40yd'].fillna(temean40)\n",
    "dt.to_csv('C:\\\\Users\\\\tilleymusprime\\\\Desktop\\\\dt.csv')\n",
    "print(dt.isnull().sum())"
   ]
  },
  {
   "cell_type": "code",
   "execution_count": 160,
   "metadata": {},
   "outputs": [],
   "source": [
    "remeanwt = np.mean(re['Wt'])\n",
    "remeanVert = np.mean(re['Vertical'])\n",
    "remeanbench = np.mean(re['Bench'])\n",
    "remeanbroadjump = np.mean(re['Broad Jump'])\n",
    "remean3cone = np.mean(re['3Cone'])\n",
    "remeanshuttle = np.mean(re['Shuttle'])\n",
    "remean40 = np.mean(re['40yd'])"
   ]
  },
  {
   "cell_type": "code",
   "execution_count": 161,
   "metadata": {},
   "outputs": [
    {
     "name": "stdout",
     "output_type": "stream",
     "text": [
      "Acceleration            0\n",
      "Agility                 0\n",
      "Awareness               0\n",
      "Ball Carrier Vision     0\n",
      "Block Shedding          0\n",
      "Carrying                0\n",
      "Catch In Traffic        0\n",
      "Catching                0\n",
      "Elusiveness             0\n",
      "Finesse Moves           0\n",
      "Hit Power               0\n",
      "Impact Blocking         0\n",
      "Injury                  0\n",
      "Juke Move               0\n",
      "Jumping                 0\n",
      "Man Coverage            0\n",
      "Name                    0\n",
      "Overall Rating          0\n",
      "Pass Block              0\n",
      "Play Action             0\n",
      "Play Recognition        0\n",
      "Position                0\n",
      "Power Moves             0\n",
      "Press                   0\n",
      "Pursuit                 0\n",
      "Release                 0\n",
      "Route Running           0\n",
      "Run Block               0\n",
      "Spectacular Catch       0\n",
      "Speed                   0\n",
      "Spin Move               0\n",
      "Stamina                 0\n",
      "Stiff Arm               0\n",
      "Strength                0\n",
      "Tackle                  0\n",
      "Team                    0\n",
      "Throw Accuracy Deep     0\n",
      "Throw Accuracy Mid      0\n",
      "Throw Accuracy Short    0\n",
      "Throw Power             0\n",
      "Throw on the Run        0\n",
      "Toughness               0\n",
      "Trucking                0\n",
      "Zone Coverage           0\n",
      "Wt                      0\n",
      "Vertical                0\n",
      "Bench                   0\n",
      "Broad Jump              0\n",
      "3Cone                   0\n",
      "Shuttle                 0\n",
      "40yd                    0\n",
      "dtype: int64\n"
     ]
    }
   ],
   "source": [
    "re['Wt'] = re['Wt'].fillna(remeanwt)\n",
    "re['Vertical'] = re['Vertical'].fillna(remeanVert)\n",
    "re['Bench'] = re['Bench'].fillna(remeanbench)\n",
    "re['Broad Jump'] = re['Broad Jump'].fillna(remeanbroadjump)\n",
    "re['3Cone'] = re['3Cone'].fillna(remean3cone)\n",
    "re['Shuttle'] = re['Shuttle'].fillna(remeanshuttle)\n",
    "re['40yd'] = re['40yd'].fillna(remean40)\n",
    "print(re.isnull().sum())"
   ]
  },
  {
   "cell_type": "code",
   "execution_count": 162,
   "metadata": {},
   "outputs": [],
   "source": [
    "lemeanwt = np.mean(le['Wt'])\n",
    "lemeanVert = np.mean(le['Vertical'])\n",
    "lemeanbench = np.mean(le['Bench'])\n",
    "lemeanbroadjump = np.mean(le['Broad Jump'])\n",
    "lemean3cone = np.mean(le['3Cone'])\n",
    "lemeanshuttle = np.mean(le['Shuttle'])\n",
    "lemean40 = np.mean(le['40yd'])"
   ]
  },
  {
   "cell_type": "code",
   "execution_count": 163,
   "metadata": {},
   "outputs": [
    {
     "name": "stdout",
     "output_type": "stream",
     "text": [
      "Acceleration            0\n",
      "Agility                 0\n",
      "Awareness               0\n",
      "Ball Carrier Vision     0\n",
      "Block Shedding          0\n",
      "Carrying                0\n",
      "Catch In Traffic        0\n",
      "Catching                0\n",
      "Elusiveness             0\n",
      "Finesse Moves           0\n",
      "Hit Power               0\n",
      "Impact Blocking         0\n",
      "Injury                  0\n",
      "Juke Move               0\n",
      "Jumping                 0\n",
      "Man Coverage            0\n",
      "Name                    0\n",
      "Overall Rating          0\n",
      "Pass Block              0\n",
      "Play Action             0\n",
      "Play Recognition        0\n",
      "Position                0\n",
      "Power Moves             0\n",
      "Press                   0\n",
      "Pursuit                 0\n",
      "Release                 0\n",
      "Route Running           0\n",
      "Run Block               0\n",
      "Spectacular Catch       0\n",
      "Speed                   0\n",
      "Spin Move               0\n",
      "Stamina                 0\n",
      "Stiff Arm               0\n",
      "Strength                0\n",
      "Tackle                  0\n",
      "Team                    0\n",
      "Throw Accuracy Deep     0\n",
      "Throw Accuracy Mid      0\n",
      "Throw Accuracy Short    0\n",
      "Throw Power             0\n",
      "Throw on the Run        0\n",
      "Toughness               0\n",
      "Trucking                0\n",
      "Zone Coverage           0\n",
      "Wt                      0\n",
      "Vertical                0\n",
      "Bench                   0\n",
      "Broad Jump              0\n",
      "3Cone                   0\n",
      "Shuttle                 0\n",
      "40yd                    0\n",
      "dtype: int64\n"
     ]
    }
   ],
   "source": [
    "le['Wt'] = le['Wt'].fillna(lemeanwt)\n",
    "le['Vertical'] = le['Vertical'].fillna(lemeanVert)\n",
    "le['Bench'] = le['Bench'].fillna(lemeanbench)\n",
    "le['Broad Jump'] = le['Broad Jump'].fillna(lemeanbroadjump)\n",
    "le['3Cone'] = le['3Cone'].fillna(lemean3cone)\n",
    "le['Shuttle'] = le['Shuttle'].fillna(lemeanshuttle)\n",
    "le['40yd'] = le['40yd'].fillna(lemean40)\n",
    "print(le.isnull().sum())"
   ]
  },
  {
   "cell_type": "code",
   "execution_count": 164,
   "metadata": {},
   "outputs": [],
   "source": [
    "mlbmeanwt = np.mean(mlb['Wt'])\n",
    "mlbmeanVert = np.mean(mlb['Vertical'])\n",
    "mlbmeanbench = np.mean(mlb['Bench'])\n",
    "mlbmeanbroadjump = np.mean(mlb['Broad Jump'])\n",
    "mlbmean3cone = np.mean(mlb['3Cone'])\n",
    "mlbmeanshuttle = np.mean(mlb['Shuttle'])\n",
    "mlbmean40 = np.mean(mlb['40yd'])"
   ]
  },
  {
   "cell_type": "code",
   "execution_count": 165,
   "metadata": {},
   "outputs": [
    {
     "name": "stdout",
     "output_type": "stream",
     "text": [
      "Acceleration            0\n",
      "Agility                 0\n",
      "Awareness               0\n",
      "Ball Carrier Vision     0\n",
      "Block Shedding          0\n",
      "Carrying                0\n",
      "Catch In Traffic        0\n",
      "Catching                0\n",
      "Elusiveness             0\n",
      "Finesse Moves           0\n",
      "Hit Power               0\n",
      "Impact Blocking         0\n",
      "Injury                  0\n",
      "Juke Move               0\n",
      "Jumping                 0\n",
      "Man Coverage            0\n",
      "Name                    0\n",
      "Overall Rating          0\n",
      "Pass Block              0\n",
      "Play Action             0\n",
      "Play Recognition        0\n",
      "Position                0\n",
      "Power Moves             0\n",
      "Press                   0\n",
      "Pursuit                 0\n",
      "Release                 0\n",
      "Route Running           0\n",
      "Run Block               0\n",
      "Spectacular Catch       0\n",
      "Speed                   0\n",
      "Spin Move               0\n",
      "Stamina                 0\n",
      "Stiff Arm               0\n",
      "Strength                0\n",
      "Tackle                  0\n",
      "Team                    0\n",
      "Throw Accuracy Deep     0\n",
      "Throw Accuracy Mid      0\n",
      "Throw Accuracy Short    0\n",
      "Throw Power             0\n",
      "Throw on the Run        0\n",
      "Toughness               0\n",
      "Trucking                0\n",
      "Zone Coverage           0\n",
      "Wt                      0\n",
      "Vertical                0\n",
      "Bench                   0\n",
      "Broad Jump              0\n",
      "3Cone                   0\n",
      "Shuttle                 0\n",
      "40yd                    0\n",
      "dtype: int64\n"
     ]
    }
   ],
   "source": [
    "mlb['Wt'] = mlb['Wt'].fillna(mlbmeanwt)\n",
    "mlb['Vertical'] = mlb['Vertical'].fillna(mlbmeanVert)\n",
    "mlb['Bench'] = mlb['Bench'].fillna(mlbmeanbench)\n",
    "mlb['Broad Jump'] = mlb['Broad Jump'].fillna(mlbmeanbroadjump)\n",
    "mlb['3Cone'] = mlb['3Cone'].fillna(mlbmean3cone)\n",
    "mlb['Shuttle'] = mlb['Shuttle'].fillna(mlbmeanshuttle)\n",
    "mlb['40yd'] = mlb['40yd'].fillna(mlbmean40)\n",
    "print(mlb.isnull().sum())"
   ]
  },
  {
   "cell_type": "code",
   "execution_count": 166,
   "metadata": {},
   "outputs": [],
   "source": [
    "rolbmeanwt = np.mean(rolb['Wt'])\n",
    "rolbmeanVert = np.mean(rolb['Vertical'])\n",
    "rolbmeanbench = np.mean(rolb['Bench'])\n",
    "rolbmeanbroadjump = np.mean(rolb['Broad Jump'])\n",
    "rolbmean3cone = np.mean(rolb['3Cone'])\n",
    "rolbmeanshuttle = np.mean(rolb['Shuttle'])\n",
    "rolbmean40 = np.mean(rolb['40yd'])"
   ]
  },
  {
   "cell_type": "code",
   "execution_count": 167,
   "metadata": {
    "scrolled": true
   },
   "outputs": [
    {
     "name": "stdout",
     "output_type": "stream",
     "text": [
      "Acceleration            0\n",
      "Agility                 0\n",
      "Awareness               0\n",
      "Ball Carrier Vision     0\n",
      "Block Shedding          0\n",
      "Carrying                0\n",
      "Catch In Traffic        0\n",
      "Catching                0\n",
      "Elusiveness             0\n",
      "Finesse Moves           0\n",
      "Hit Power               0\n",
      "Impact Blocking         0\n",
      "Injury                  0\n",
      "Juke Move               0\n",
      "Jumping                 0\n",
      "Man Coverage            0\n",
      "Name                    0\n",
      "Overall Rating          0\n",
      "Pass Block              0\n",
      "Play Action             0\n",
      "Play Recognition        0\n",
      "Position                0\n",
      "Power Moves             0\n",
      "Press                   0\n",
      "Pursuit                 0\n",
      "Release                 0\n",
      "Route Running           0\n",
      "Run Block               0\n",
      "Spectacular Catch       0\n",
      "Speed                   0\n",
      "Spin Move               0\n",
      "Stamina                 0\n",
      "Stiff Arm               0\n",
      "Strength                0\n",
      "Tackle                  0\n",
      "Team                    0\n",
      "Throw Accuracy Deep     0\n",
      "Throw Accuracy Mid      0\n",
      "Throw Accuracy Short    0\n",
      "Throw Power             0\n",
      "Throw on the Run        0\n",
      "Toughness               0\n",
      "Trucking                0\n",
      "Zone Coverage           0\n",
      "Wt                      0\n",
      "Vertical                0\n",
      "Bench                   0\n",
      "Broad Jump              0\n",
      "3Cone                   0\n",
      "Shuttle                 0\n",
      "40yd                    0\n",
      "dtype: int64\n"
     ]
    }
   ],
   "source": [
    "rolb['Wt'] = rolb['Wt'].fillna(rolbmeanwt)\n",
    "rolb['Vertical'] = rolb['Vertical'].fillna(rolbmeanVert)\n",
    "rolb['Bench'] = rolb['Bench'].fillna(rolbmeanbench)\n",
    "rolb['Broad Jump'] = rolb['Broad Jump'].fillna(rolbmeanbroadjump)\n",
    "rolb['3Cone'] = rolb['3Cone'].fillna(rolbmean3cone)\n",
    "rolb['Shuttle'] = rolb['Shuttle'].fillna(rolbmeanshuttle)\n",
    "rolb['40yd'] = rolb['40yd'].fillna(rolbmean40)\n",
    "print(rolb.isnull().sum())"
   ]
  },
  {
   "cell_type": "code",
   "execution_count": 169,
   "metadata": {},
   "outputs": [],
   "source": [
    "lolbmeanwt = np.mean(lolb['Wt'])\n",
    "lolbmeanVert = np.mean(lolb['Vertical'])\n",
    "lolbmeanbench = np.mean(lolb['Bench'])\n",
    "lolbmeanbroadjump = np.mean(lolb['Broad Jump'])\n",
    "lolbmean3cone = np.mean(lolb['3Cone'])\n",
    "lolbmeanshuttle = np.mean(lolb['Shuttle'])\n",
    "lolbmean40 = np.mean(lolb['40yd'])"
   ]
  },
  {
   "cell_type": "code",
   "execution_count": 170,
   "metadata": {},
   "outputs": [
    {
     "name": "stdout",
     "output_type": "stream",
     "text": [
      "Acceleration            0\n",
      "Agility                 0\n",
      "Awareness               0\n",
      "Ball Carrier Vision     0\n",
      "Block Shedding          0\n",
      "Carrying                0\n",
      "Catch In Traffic        0\n",
      "Catching                0\n",
      "Elusiveness             0\n",
      "Finesse Moves           0\n",
      "Hit Power               0\n",
      "Impact Blocking         0\n",
      "Injury                  0\n",
      "Juke Move               0\n",
      "Jumping                 0\n",
      "Man Coverage            0\n",
      "Name                    0\n",
      "Overall Rating          0\n",
      "Pass Block              0\n",
      "Play Action             0\n",
      "Play Recognition        0\n",
      "Position                0\n",
      "Power Moves             0\n",
      "Press                   0\n",
      "Pursuit                 0\n",
      "Release                 0\n",
      "Route Running           0\n",
      "Run Block               0\n",
      "Spectacular Catch       0\n",
      "Speed                   0\n",
      "Spin Move               0\n",
      "Stamina                 0\n",
      "Stiff Arm               0\n",
      "Strength                0\n",
      "Tackle                  0\n",
      "Team                    0\n",
      "Throw Accuracy Deep     0\n",
      "Throw Accuracy Mid      0\n",
      "Throw Accuracy Short    0\n",
      "Throw Power             0\n",
      "Throw on the Run        0\n",
      "Toughness               0\n",
      "Trucking                0\n",
      "Zone Coverage           0\n",
      "Wt                      0\n",
      "Vertical                0\n",
      "Bench                   0\n",
      "Broad Jump              0\n",
      "3Cone                   0\n",
      "Shuttle                 0\n",
      "40yd                    0\n",
      "dtype: int64\n"
     ]
    }
   ],
   "source": [
    "lolb['Wt'] = lolb['Wt'].fillna(lolbmeanwt)\n",
    "lolb['Vertical'] = lolb['Vertical'].fillna(lolbmeanVert)\n",
    "lolb['Bench'] = lolb['Bench'].fillna(lolbmeanbench)\n",
    "lolb['Broad Jump'] = lolb['Broad Jump'].fillna(lolbmeanbroadjump)\n",
    "lolb['3Cone'] = lolb['3Cone'].fillna(lolbmean3cone)\n",
    "lolb['Shuttle'] = lolb['Shuttle'].fillna(lolbmeanshuttle)\n",
    "lolb['40yd'] = lolb['40yd'].fillna(lolbmean40)\n",
    "print(lolb.isnull().sum())"
   ]
  },
  {
   "cell_type": "code",
   "execution_count": 171,
   "metadata": {},
   "outputs": [],
   "source": [
    "cbmeanwt = np.mean(cb['Wt'])\n",
    "cbmeanVert = np.mean(cb['Vertical'])\n",
    "cbmeanbench = np.mean(cb['Bench'])\n",
    "cbmeanbroadjump = np.mean(cb['Broad Jump'])\n",
    "cbmean3cone = np.mean(cb['3Cone'])\n",
    "cbmeanshuttle = np.mean(cb['Shuttle'])                            \n",
    "cbmean40 = np.mean(cb['40yd'])"
   ]
  },
  {
   "cell_type": "code",
   "execution_count": 172,
   "metadata": {},
   "outputs": [
    {
     "name": "stdout",
     "output_type": "stream",
     "text": [
      "Acceleration            0\n",
      "Agility                 0\n",
      "Awareness               0\n",
      "Ball Carrier Vision     0\n",
      "Block Shedding          0\n",
      "Carrying                0\n",
      "Catch In Traffic        0\n",
      "Catching                0\n",
      "Elusiveness             0\n",
      "Finesse Moves           0\n",
      "Hit Power               0\n",
      "Impact Blocking         0\n",
      "Injury                  0\n",
      "Juke Move               0\n",
      "Jumping                 0\n",
      "Man Coverage            0\n",
      "Name                    0\n",
      "Overall Rating          0\n",
      "Pass Block              0\n",
      "Play Action             0\n",
      "Play Recognition        0\n",
      "Position                0\n",
      "Power Moves             0\n",
      "Press                   0\n",
      "Pursuit                 0\n",
      "Release                 0\n",
      "Route Running           0\n",
      "Run Block               0\n",
      "Spectacular Catch       0\n",
      "Speed                   0\n",
      "Spin Move               0\n",
      "Stamina                 0\n",
      "Stiff Arm               0\n",
      "Strength                0\n",
      "Tackle                  0\n",
      "Team                    0\n",
      "Throw Accuracy Deep     0\n",
      "Throw Accuracy Mid      0\n",
      "Throw Accuracy Short    0\n",
      "Throw Power             0\n",
      "Throw on the Run        0\n",
      "Toughness               0\n",
      "Trucking                0\n",
      "Zone Coverage           0\n",
      "Wt                      0\n",
      "Vertical                0\n",
      "Bench                   0\n",
      "Broad Jump              0\n",
      "3Cone                   0\n",
      "Shuttle                 0\n",
      "40yd                    0\n",
      "dtype: int64\n"
     ]
    }
   ],
   "source": [
    "cb['Wt'] = cb['Wt'].fillna(cbmeanwt)\n",
    "cb['Vertical'] = cb['Vertical'].fillna(cbmeanVert)\n",
    "cb['Bench'] = cb['Bench'].fillna(cbmeanbench)\n",
    "cb['Broad Jump'] = cb['Broad Jump'].fillna(cbmeanbroadjump)\n",
    "cb['3Cone'] = cb['3Cone'].fillna(cbmean3cone)\n",
    "cb['Shuttle'] = cb['Shuttle'].fillna(cbmeanshuttle)\n",
    "cb['40yd'] = cb['40yd'].fillna(cbmean40)\n",
    "print(cb.isnull().sum())"
   ]
  },
  {
   "cell_type": "code",
   "execution_count": 173,
   "metadata": {},
   "outputs": [],
   "source": [
    "fsmeanwt = np.mean(fs['Wt'])\n",
    "fsmeanVert = np.mean(fs['Vertical'])\n",
    "fsmeanbench = np.mean(fs['Bench'])\n",
    "fsmeanbroadjump = np.mean(fs['Broad Jump'])\n",
    "fsmean3cone = np.mean(fs['3Cone'])\n",
    "fsmeanshuttle = np.mean(fs['Shuttle'])\n",
    "fsmean40 = np.mean(fs['40yd'])"
   ]
  },
  {
   "cell_type": "code",
   "execution_count": 174,
   "metadata": {},
   "outputs": [
    {
     "name": "stdout",
     "output_type": "stream",
     "text": [
      "Acceleration            0\n",
      "Agility                 0\n",
      "Awareness               0\n",
      "Ball Carrier Vision     0\n",
      "Block Shedding          0\n",
      "Carrying                0\n",
      "Catch In Traffic        0\n",
      "Catching                0\n",
      "Elusiveness             0\n",
      "Finesse Moves           0\n",
      "Hit Power               0\n",
      "Impact Blocking         0\n",
      "Injury                  0\n",
      "Juke Move               0\n",
      "Jumping                 0\n",
      "Man Coverage            0\n",
      "Name                    0\n",
      "Overall Rating          0\n",
      "Pass Block              0\n",
      "Play Action             0\n",
      "Play Recognition        0\n",
      "Position                0\n",
      "Power Moves             0\n",
      "Press                   0\n",
      "Pursuit                 0\n",
      "Release                 0\n",
      "Route Running           0\n",
      "Run Block               0\n",
      "Spectacular Catch       0\n",
      "Speed                   0\n",
      "Spin Move               0\n",
      "Stamina                 0\n",
      "Stiff Arm               0\n",
      "Strength                0\n",
      "Tackle                  0\n",
      "Team                    0\n",
      "Throw Accuracy Deep     0\n",
      "Throw Accuracy Mid      0\n",
      "Throw Accuracy Short    0\n",
      "Throw Power             0\n",
      "Throw on the Run        0\n",
      "Toughness               0\n",
      "Trucking                0\n",
      "Zone Coverage           0\n",
      "Wt                      0\n",
      "Vertical                0\n",
      "Bench                   0\n",
      "Broad Jump              0\n",
      "3Cone                   0\n",
      "Shuttle                 0\n",
      "40yd                    0\n",
      "dtype: int64\n"
     ]
    }
   ],
   "source": [
    "fs['Wt'] = fs['Wt'].fillna(fsmeanwt)\n",
    "fs['Vertical'] = fs['Vertical'].fillna(fsmeanVert)\n",
    "fs['Bench'] = fs['Bench'].fillna(fsmeanbench)\n",
    "fs['Broad Jump'] = fs['Broad Jump'].fillna(fsmeanbroadjump)\n",
    "fs['3Cone'] = fs['3Cone'].fillna(fsmean3cone)\n",
    "fs['Shuttle'] = fs['Shuttle'].fillna(fsmeanshuttle)\n",
    "fs['40yd'] = fs['40yd'].fillna(fsmean40)\n",
    "print(fs.isnull().sum())"
   ]
  },
  {
   "cell_type": "code",
   "execution_count": 175,
   "metadata": {},
   "outputs": [],
   "source": [
    "ssmeanwt = np.mean(ss['Wt'])\n",
    "ssmeanVert = np.mean(ss['Vertical'])\n",
    "ssmeanbench = np.mean(ss['Bench'])\n",
    "ssmeanbroadjump = np.mean(ss['Broad Jump'])\n",
    "ssmean3cone = np.mean(ss['3Cone'])\n",
    "ssmeanshuttle = np.mean(ss['Shuttle'])\n",
    "ssmean40 = np.mean(ss['40yd'])"
   ]
  },
  {
   "cell_type": "code",
   "execution_count": 176,
   "metadata": {},
   "outputs": [
    {
     "name": "stdout",
     "output_type": "stream",
     "text": [
      "Acceleration            0\n",
      "Agility                 0\n",
      "Awareness               0\n",
      "Ball Carrier Vision     0\n",
      "Block Shedding          0\n",
      "Carrying                0\n",
      "Catch In Traffic        0\n",
      "Catching                0\n",
      "Elusiveness             0\n",
      "Finesse Moves           0\n",
      "Hit Power               0\n",
      "Impact Blocking         0\n",
      "Injury                  0\n",
      "Juke Move               0\n",
      "Jumping                 0\n",
      "Man Coverage            0\n",
      "Name                    0\n",
      "Overall Rating          0\n",
      "Pass Block              0\n",
      "Play Action             0\n",
      "Play Recognition        0\n",
      "Position                0\n",
      "Power Moves             0\n",
      "Press                   0\n",
      "Pursuit                 0\n",
      "Release                 0\n",
      "Route Running           0\n",
      "Run Block               0\n",
      "Spectacular Catch       0\n",
      "Speed                   0\n",
      "Spin Move               0\n",
      "Stamina                 0\n",
      "Stiff Arm               0\n",
      "Strength                0\n",
      "Tackle                  0\n",
      "Team                    0\n",
      "Throw Accuracy Deep     0\n",
      "Throw Accuracy Mid      0\n",
      "Throw Accuracy Short    0\n",
      "Throw Power             0\n",
      "Throw on the Run        0\n",
      "Toughness               0\n",
      "Trucking                0\n",
      "Zone Coverage           0\n",
      "Wt                      0\n",
      "Vertical                0\n",
      "Bench                   0\n",
      "Broad Jump              0\n",
      "3Cone                   0\n",
      "Shuttle                 0\n",
      "40yd                    0\n",
      "dtype: int64\n"
     ]
    }
   ],
   "source": [
    "ss['Wt'] = ss['Wt'].fillna(ssmeanwt)\n",
    "ss['Vertical'] = ss['Vertical'].fillna(ssmeanVert)\n",
    "ss['Bench'] = ss['Bench'].fillna(ssmeanbench)\n",
    "ss['Broad Jump'] = ss['Broad Jump'].fillna(ssmeanbroadjump)\n",
    "ss['3Cone'] = ss['3Cone'].fillna(ssmean3cone)\n",
    "ss['Shuttle'] = ss['Shuttle'].fillna(ssmeanshuttle)\n",
    "ss['40yd'] = ss['40yd'].fillna(ssmean40)\n",
    "print(ss.isnull().sum())"
   ]
  },
  {
   "cell_type": "code",
   "execution_count": 177,
   "metadata": {},
   "outputs": [
    {
     "data": {
      "text/plain": [
       "Acceleration            0\n",
       "Agility                 0\n",
       "Awareness               0\n",
       "Ball Carrier Vision     0\n",
       "Block Shedding          0\n",
       "Carrying                0\n",
       "Catch In Traffic        0\n",
       "Catching                0\n",
       "Elusiveness             0\n",
       "Finesse Moves           0\n",
       "Hit Power               0\n",
       "Impact Blocking         0\n",
       "Injury                  0\n",
       "Juke Move               0\n",
       "Jumping                 0\n",
       "Man Coverage            0\n",
       "Name                    0\n",
       "Overall Rating          0\n",
       "Pass Block              0\n",
       "Play Action             0\n",
       "Play Recognition        0\n",
       "Position                0\n",
       "Power Moves             0\n",
       "Press                   0\n",
       "Pursuit                 0\n",
       "Release                 0\n",
       "Route Running           0\n",
       "Run Block               0\n",
       "Spectacular Catch       0\n",
       "Speed                   0\n",
       "Spin Move               0\n",
       "Stamina                 0\n",
       "Stiff Arm               0\n",
       "Strength                0\n",
       "Tackle                  0\n",
       "Team                    0\n",
       "Throw Accuracy Deep     0\n",
       "Throw Accuracy Mid      0\n",
       "Throw Accuracy Short    0\n",
       "Throw Power             0\n",
       "Throw on the Run        0\n",
       "Toughness               0\n",
       "Trucking                0\n",
       "Zone Coverage           0\n",
       "Wt                      0\n",
       "Vertical                0\n",
       "Bench                   0\n",
       "Broad Jump              0\n",
       "3Cone                   0\n",
       "Shuttle                 0\n",
       "40yd                    0\n",
       "dtype: int64"
      ]
     },
     "execution_count": 177,
     "metadata": {},
     "output_type": "execute_result"
    }
   ],
   "source": [
    "##Now that we have filled in all of the NaN values, we will concatenate all of the position data frames back into 1 main dataset\n",
    "mcclean = pd.concat([wr, te, hb, fb, qb, lt, lg, rg, c, rt, mlb, rolb, lolb, dt, re, le, cb, fs, ss])\n",
    "mcclean.isnull().sum()"
   ]
  },
  {
   "cell_type": "code",
   "execution_count": 178,
   "metadata": {},
   "outputs": [
    {
     "name": "stdout",
     "output_type": "stream",
     "text": [
      "['Acceleration', 'Agility', 'Awareness', 'Ball Carrier Vision', 'Block Shedding', 'Carrying', 'Catch In Traffic', 'Catching', 'Elusiveness', 'Finesse Moves', 'Hit Power', 'Impact Blocking', 'Injury', 'Juke Move', 'Jumping', 'Man Coverage', 'Name', 'Overall Rating', 'Pass Block', 'Play Action', 'Play Recognition', 'Position', 'Power Moves', 'Press', 'Pursuit', 'Release', 'Route Running', 'Run Block', 'Spectacular Catch', 'Speed', 'Spin Move', 'Stamina', 'Stiff Arm', 'Strength', 'Tackle', 'Team', 'Throw Accuracy Deep', 'Throw Accuracy Mid', 'Throw Accuracy Short', 'Throw Power', 'Throw on the Run', 'Toughness', 'Trucking', 'Zone Coverage', 'Wt', 'Vertical', 'Bench', 'Broad Jump', '3Cone', 'Shuttle', '40yd']\n"
     ]
    }
   ],
   "source": [
    "#Now, we will remove the 'pos' column since it is incomplete and there isn't a simple way to fill it in\n",
    "mccleancols = list(mcclean.columns.values)\n",
    "print(mccleancols)"
   ]
  },
  {
   "cell_type": "code",
   "execution_count": 179,
   "metadata": {
    "scrolled": true
   },
   "outputs": [
    {
     "data": {
      "text/plain": [
       "Acceleration            0\n",
       "Agility                 0\n",
       "Awareness               0\n",
       "Ball Carrier Vision     0\n",
       "Block Shedding          0\n",
       "Carrying                0\n",
       "Catch In Traffic        0\n",
       "Catching                0\n",
       "Elusiveness             0\n",
       "Finesse Moves           0\n",
       "Hit Power               0\n",
       "Impact Blocking         0\n",
       "Injury                  0\n",
       "Juke Move               0\n",
       "Jumping                 0\n",
       "Man Coverage            0\n",
       "Name                    0\n",
       "Overall Rating          0\n",
       "Pass Block              0\n",
       "Play Action             0\n",
       "Play Recognition        0\n",
       "Position                0\n",
       "Power Moves             0\n",
       "Press                   0\n",
       "Pursuit                 0\n",
       "Release                 0\n",
       "Route Running           0\n",
       "Run Block               0\n",
       "Spectacular Catch       0\n",
       "Speed                   0\n",
       "Spin Move               0\n",
       "Stamina                 0\n",
       "Stiff Arm               0\n",
       "Strength                0\n",
       "Tackle                  0\n",
       "Team                    0\n",
       "Throw Accuracy Deep     0\n",
       "Throw Accuracy Mid      0\n",
       "Throw Accuracy Short    0\n",
       "Throw Power             0\n",
       "Throw on the Run        0\n",
       "Toughness               0\n",
       "Trucking                0\n",
       "Zone Coverage           0\n",
       "Wt                      0\n",
       "Vertical                0\n",
       "Bench                   0\n",
       "Broad Jump              0\n",
       "3Cone                   0\n",
       "Shuttle                 0\n",
       "40yd                    0\n",
       "dtype: int64"
      ]
     },
     "execution_count": 179,
     "metadata": {},
     "output_type": "execute_result"
    }
   ],
   "source": [
    "mcclean1 = mcclean[['Acceleration', 'Agility', 'Awareness', 'Ball Carrier Vision', 'Block Shedding', 'Carrying',\n",
    "                    'Catch In Traffic', 'Catching', 'Elusiveness', 'Finesse Moves', 'Hit Power', 'Impact Blocking',\n",
    "                    'Injury', 'Juke Move', 'Jumping', 'Man Coverage', 'Name', 'Overall Rating', 'Pass Block', 'Play Action',\n",
    "                    'Play Recognition', 'Position', 'Power Moves', 'Press', 'Pursuit', 'Release', 'Route Running',\n",
    "                    'Run Block', 'Spectacular Catch', 'Speed', 'Spin Move', 'Stamina', 'Stiff Arm', 'Strength', 'Tackle',\n",
    "                    'Team', 'Throw Accuracy Deep', 'Throw Accuracy Mid', 'Throw Accuracy Short', 'Throw Power', \n",
    "                    'Throw on the Run', 'Toughness', 'Trucking', 'Zone Coverage', 'Wt', 'Vertical', 'Bench', 'Broad Jump',\n",
    "                    '3Cone', 'Shuttle', '40yd']]\n",
    "mcclean1.isnull().sum()\n",
    "#It looks like we have successfully removed all of the NaN values from the data"
   ]
  },
  {
   "cell_type": "code",
   "execution_count": 180,
   "metadata": {},
   "outputs": [],
   "source": [
    "mcclean1.to_csv('C:\\\\Users\\\\tilleymusprime\\\\Desktop\\\\mcclean1.csv')"
   ]
  },
  {
   "cell_type": "code",
   "execution_count": null,
   "metadata": {},
   "outputs": [],
   "source": []
  },
  {
   "cell_type": "code",
   "execution_count": null,
   "metadata": {},
   "outputs": [],
   "source": []
  },
  {
   "cell_type": "code",
   "execution_count": null,
   "metadata": {},
   "outputs": [],
   "source": []
  }
 ],
 "metadata": {
  "kernelspec": {
   "display_name": "Python 3",
   "language": "python",
   "name": "python3"
  },
  "language_info": {
   "codemirror_mode": {
    "name": "ipython",
    "version": 3
   },
   "file_extension": ".py",
   "mimetype": "text/x-python",
   "name": "python",
   "nbconvert_exporter": "python",
   "pygments_lexer": "ipython3",
   "version": "3.6.4"
  }
 },
 "nbformat": 4,
 "nbformat_minor": 2
}
